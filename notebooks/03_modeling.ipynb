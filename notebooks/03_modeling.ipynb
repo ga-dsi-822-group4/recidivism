{
 "cells": [
  {
   "cell_type": "markdown",
   "metadata": {},
   "source": [
    "### Group Project 4 : Comparing 3 Models for Predicting Recidivism\n",
    "\n",
    "For background on this project, please see the [README](../README.md).\n",
    "\n",
    "**Notebooks**\n",
    "- [Data Acquisition & Cleaning](./01_data_acq_clean.ipynb)\n",
    "- [Exploratory Data Analysis](./02_eda.ipynb)\n",
    "- Modeling (this notebook)\n",
    "- [Experiments](./03a_experiments.ipynb)\n",
    "- [Results and Recommendations](./04_results.ipynb)\n",
    "\n",
    "**In this notebook, you'll find:**\n",
    "- Classification models for each of the 3 datasets\n",
    "- Hyperparameter tuning via GridSearchCV\n",
    "- Brief analyses of each model"
   ]
  },
  {
   "cell_type": "code",
   "execution_count": 109,
   "metadata": {},
   "outputs": [],
   "source": [
    "# The usual imports\n",
    "import pandas as pd\n",
    "import matplotlib.pyplot as plt\n",
    "import numpy as np\n",
    "from sklearn.model_selection import train_test_split, GridSearchCV\n",
    "from sklearn.preprocessing import StandardScaler\n",
    "from sklearn.pipeline import Pipeline\n",
    "\n",
    "# classification models\n",
    "from sklearn.linear_model import LogisticRegression\n",
    "from sklearn.tree import DecisionTreeClassifier\n",
    "from sklearn.ensemble import RandomForestClassifier, GradientBoostingClassifier, AdaBoostClassifier, BaggingClassifier, StackingClassifier\n",
    "from sklearn.neighbors import KNeighborsClassifier\n",
    "from sklearn.naive_bayes import MultinomialNB\n",
    "\n",
    "# neural net\n",
    "from tensorflow.keras.models import Sequential\n",
    "from tensorflow.keras.layers import Dense, Dropout, Flatten, Conv2D, MaxPooling2D\n",
    "from tensorflow.keras import utils\n",
    "from tensorflow.keras.datasets import mnist\n",
    "from tensorflow.keras.regularizers import l2\n",
    "from tensorflow.keras.callbacks import EarlyStopping\n",
    "\n",
    "# metrics\n",
    "from sklearn.metrics import confusion_matrix, ConfusionMatrixDisplay, recall_score, f1_score, precision_score\n",
    "\n",
    "# to persist our models for later use\n",
    "import pickle\n",
    "\n",
    "# global random seed\n",
    "np.random.seed(42)"
   ]
  },
  {
   "cell_type": "markdown",
   "metadata": {},
   "source": [
    "##### Universal model evaluation function\n",
    "- We will use the below Dataframe and functions to accumulate metrics on all of our models across all of our datasets to facilitate\n",
    "evaluation and production model selection.\n",
    "- We've chosen to make 2 different versions of our **model_trials** function - the first is for non-neural-network models, and the second\n",
    "is for neural networks - to accommodate the differences in parameters, fitting, and scoring between the 2 types of models.\n",
    "- Thanks to Cynthia Rodriguez for this one!"
   ]
  },
  {
   "cell_type": "code",
   "execution_count": 110,
   "metadata": {},
   "outputs": [],
   "source": [
    "# Dataframe to collect results\n",
    "model_trials_df = pd.DataFrame(columns=['dataset_name', 'model_used', 'model_params', 'train_score', 'test_score',\n",
    "'accuracy', 'specificity', 'precision', 'recall', 'f1 score', 'true_neg', 'false_pos', 'false_neg', 'true_pos'])\n",
    "\n",
    "def model_trials(dataset_name, X, y, model, model_id, scale_first = False, gs_params = None):\n",
    "    '''\n",
    "    Takes in dataset information and a (non-neural-net) model, fits the model, and appends fit metrics to a previously\n",
    "    established Dataframe for later comparison. Also displays confusion matrix upon completion.\n",
    "\n",
    "    Parameters:\n",
    "    - dataset_name (string): used to differentiate between the NY/FL/GA models\n",
    "    - X (Dataframe): features dataframe for all observations\n",
    "    - y (Dataframe or Series): target classes for all observations:\n",
    "    - model (classification model): non-neural-net model to fit\n",
    "    - model_id (string): friendly name for model to include in results\n",
    "    - scale_first (boolean): indicates whether the feature set X should be scaled before fitting\n",
    "    - gs_params (dict): parameters for a GridSearch - if None, model will be fit without GridSearching\n",
    "\n",
    "    Returns:\n",
    "    - ConfusionMatrixDisplay graphic for fitted model\n",
    "    - Also appends results to previously established metrics dataframe\n",
    "    '''\n",
    "\n",
    "    '''Setting X and y, and fitting the model'''\n",
    "    X_train, X_test, y_train, y_test = train_test_split(X, y, test_size = 0.2, random_state = 42, stratify = y)\n",
    "\n",
    "    '''Scale if needed'''\n",
    "    if (scale_first):\n",
    "        ss = StandardScaler()\n",
    "        X_train = ss.fit_transform(X_train)\n",
    "        X_test = ss.transform(X_test)\n",
    "\n",
    "    if (gs_params):\n",
    "        gs = GridSearchCV(model, gs_params, n_jobs = -1)\n",
    "        gs.fit(X_train, y_train)\n",
    "        model = gs.best_estimator_\n",
    "        model_params = gs.best_params_\n",
    "    else:\n",
    "        model.fit(X_train, y_train)\n",
    "        model_params = model.get_params()\n",
    "\n",
    "    train_score = model.score(X_train, y_train)\n",
    "    test_score = model.score(X_test, y_test)\n",
    "\n",
    "    '''Baseline calculation for reference in the returned confusion matrix'''\n",
    "    baseline = y.value_counts(normalize=True)[1]\n",
    "\n",
    "    '''Calculating classification rates'''\n",
    "    preds = model.predict(X_test)\n",
    "    tn, fp, fn, tp = confusion_matrix(y_test, preds).ravel()\n",
    "    acc = (tp + tn) / (tn + fp + tp + fn)\n",
    "    spec = tn / (tn + fp)\n",
    "    prec = tp / (tp + fp)\n",
    "    recall = tp / (tp + fn)\n",
    "    f1 = ((prec * recall) / (prec + recall)) * 2\n",
    "\n",
    "    '''Adding all values to the model_trials dataframe'''\n",
    "    model_list = [dataset_name, model_id, model_params, train_score, test_score, acc, spec, prec, recall, f1, tn, fp, fn, tp]\n",
    "    model_trials_df.loc[len(model_trials_df.index)] = model_list\n",
    "\n",
    "    '''Output will show scores and classification metrics'''\n",
    "    print(f'Dataset: {dataset_name}')\n",
    "    print(f'Model ID: {model_id}')\n",
    "    print(f'Model Params: {model_params}')\n",
    "    print(f'Training Score: {round(train_score, 4)}')\n",
    "    print(f'Testing Score: {round(test_score, 4)} \\n')\n",
    "    print(f'Accuracy: {round(acc, 4)}')\n",
    "    print(f'Specificity: {round(spec, 4)}')\n",
    "    print(f'Precision: {round(prec, 4)}')\n",
    "    print(f'Recall: {round(recall, 4)}')\n",
    "    print(f'F1 Score: {round(f1, 4)} \\n')\n",
    "\n",
    "    '''Returning a confusion matrix colored based on performance against the baseline'''\n",
    "    print('Best accuracy rate confusion matrix:')\n",
    "    if acc > baseline:\n",
    "        return ConfusionMatrixDisplay.from_estimator(model, X_test, y_test, cmap='viridis', values_format='d');\n",
    "    else: \n",
    "        return ConfusionMatrixDisplay.from_estimator(model, X_test, y_test, cmap='magma', values_format='d');"
   ]
  },
  {
   "cell_type": "code",
   "execution_count": 111,
   "metadata": {},
   "outputs": [],
   "source": [
    "# neural net version\n",
    "def model_trials_nn(dataset_name, X, y, model, model_id, epochs = 10, batch_size = 32, callbacks = None):\n",
    "    '''\n",
    "    Takes in dataset information and a neural network model, fits the model, and appends fit metrics to a previously\n",
    "    established Dataframe for later comparison. Also displays confusion matrix upon completion. NOTE: assumes model's\n",
    "    output layer uses the sigmoid activation function (i.e., binary classification) and was compiled with 'accuracy' among its metrics.\n",
    "\n",
    "    Parameters:\n",
    "    - dataset_name (string): used to differentiate between the NY/FL/GA models\n",
    "    - X (Dataframe): features dataframe for all observations\n",
    "    - y (Dataframe or Series): target classes for all observations:\n",
    "    - model (classification model): neural network model to fit\n",
    "    - model_id (string): friendly name for model to include in results\n",
    "    - epochs (int): number of neural network epochs to run\n",
    "    - batch_size (int): size of neural network batch\n",
    "    - callbacks (list): list of callbacks to invoke while fitting, e.g., EarlyStopping\n",
    "\n",
    "    Returns:\n",
    "    - ConfusionMatrixDisplay graphic for fitted model\n",
    "    - Also appends results to previously established metrics dataframe\n",
    "    '''\n",
    "\n",
    "    '''Setting X and y, and fitting the model'''\n",
    "    X_train, X_test, y_train, y_test = train_test_split(X, y, test_size = 0.2, random_state = 42, stratify = y)\n",
    "\n",
    "    '''Always scale for neural nets!'''\n",
    "    ss = StandardScaler()\n",
    "    X_train = ss.fit_transform(X_train)\n",
    "    X_test = ss.transform(X_test)\n",
    "\n",
    "    res = model.fit(X_train, y_train, validation_data = (X_test, y_test), epochs = epochs, batch_size = batch_size, callbacks = callbacks, verbose = 0)\n",
    "    model_params = {'epochs': epochs, 'batch_size': batch_size} # all we'll capture for these - there are too many weights to be useful!\n",
    "        \n",
    "    train_score = res.history['accuracy'][-1]\n",
    "    test_score = res.history['val_accuracy'][-1]\n",
    "\n",
    "    '''Baseline calculation for reference in the returned confusion matrix'''\n",
    "    baseline = y.value_counts(normalize=True)[1]\n",
    "\n",
    "    '''Calculating classification rates'''\n",
    "    '''Assumes a 0.5 probability threshold'''\n",
    "    preds = [1 if x >= 0.5 else 0 for x in model.predict(X_test)[:, 0]]\n",
    "    tn, fp, fn, tp = confusion_matrix(y_test, preds).ravel()\n",
    "    acc = (tp + tn) / (tn + fp + tp + fn)\n",
    "    spec = tn / (tn + fp)\n",
    "    prec = tp / (tp + fp)\n",
    "    recall = tp / (tp + fn)\n",
    "    f1 = ((prec * recall) / (prec + recall)) * 2\n",
    "\n",
    "    '''Adding all values to the model_trials dataframe'''\n",
    "    model_list = [dataset_name, model_id, model_params, train_score, test_score, acc, spec, prec, recall, f1, tn, fp, fn, tp]\n",
    "    model_trials_df.loc[len(model_trials_df.index)] = model_list\n",
    "\n",
    "    '''Output will show scores and classification metrics'''\n",
    "    print(f'Dataset: {dataset_name}')\n",
    "    print(f'Model ID: {model_id}')\n",
    "    print(f'Model Params: {model_params}')\n",
    "    print(f'Training Score: {round(train_score, 4)}')\n",
    "    print(f'Testing Score: {round(test_score, 4)} \\n')\n",
    "    print(f'Accuracy: {round(acc, 4)}')\n",
    "    print(f'Specificity: {round(spec, 4)}')\n",
    "    print(f'Precision: {round(prec, 4)}')\n",
    "    print(f'Recall: {round(recall, 4)}')\n",
    "    print(f'F1 Score: {round(f1, 4)} \\n')\n",
    "\n",
    "    '''Returning a confusion matrix colored based on performance against the baseline'''\n",
    "    print('Best accuracy rate confusion matrix:')\n",
    "    if acc > baseline:\n",
    "        return ConfusionMatrixDisplay.from_predictions(y_test, preds, cmap = 'viridis', values_format = 'd');\n",
    "    else: \n",
    "        return ConfusionMatrixDisplay.from_predictions(y_test, preds, cmap = 'magma', values_format = 'd');"
   ]
  },
  {
   "cell_type": "markdown",
   "metadata": {},
   "source": [
    "---\n",
    "**Model 1: Base feature set - New York**"
   ]
  },
  {
   "cell_type": "code",
   "execution_count": 106,
   "metadata": {},
   "outputs": [
    {
     "data": {
      "text/html": [
       "<div>\n",
       "<style scoped>\n",
       "    .dataframe tbody tr th:only-of-type {\n",
       "        vertical-align: middle;\n",
       "    }\n",
       "\n",
       "    .dataframe tbody tr th {\n",
       "        vertical-align: top;\n",
       "    }\n",
       "\n",
       "    .dataframe thead th {\n",
       "        text-align: right;\n",
       "    }\n",
       "</style>\n",
       "<table border=\"1\" class=\"dataframe\">\n",
       "  <thead>\n",
       "    <tr style=\"text-align: right;\">\n",
       "      <th></th>\n",
       "      <th>Release Year</th>\n",
       "      <th>County of Indictment</th>\n",
       "      <th>Gender</th>\n",
       "      <th>Age at Release</th>\n",
       "      <th>Return Status</th>\n",
       "      <th>recidivism</th>\n",
       "      <th>gender_map</th>\n",
       "    </tr>\n",
       "  </thead>\n",
       "  <tbody>\n",
       "    <tr>\n",
       "      <th>0</th>\n",
       "      <td>2008</td>\n",
       "      <td>UNKNOWN</td>\n",
       "      <td>MALE</td>\n",
       "      <td>55</td>\n",
       "      <td>Not Returned</td>\n",
       "      <td>0</td>\n",
       "      <td>1</td>\n",
       "    </tr>\n",
       "    <tr>\n",
       "      <th>1</th>\n",
       "      <td>2008</td>\n",
       "      <td>ALBANY</td>\n",
       "      <td>MALE</td>\n",
       "      <td>16</td>\n",
       "      <td>Returned Parole Violation</td>\n",
       "      <td>1</td>\n",
       "      <td>1</td>\n",
       "    </tr>\n",
       "    <tr>\n",
       "      <th>2</th>\n",
       "      <td>2008</td>\n",
       "      <td>ALBANY</td>\n",
       "      <td>MALE</td>\n",
       "      <td>17</td>\n",
       "      <td>Not Returned</td>\n",
       "      <td>0</td>\n",
       "      <td>1</td>\n",
       "    </tr>\n",
       "    <tr>\n",
       "      <th>3</th>\n",
       "      <td>2008</td>\n",
       "      <td>ALBANY</td>\n",
       "      <td>MALE</td>\n",
       "      <td>17</td>\n",
       "      <td>Returned Parole Violation</td>\n",
       "      <td>1</td>\n",
       "      <td>1</td>\n",
       "    </tr>\n",
       "    <tr>\n",
       "      <th>4</th>\n",
       "      <td>2008</td>\n",
       "      <td>ALBANY</td>\n",
       "      <td>MALE</td>\n",
       "      <td>18</td>\n",
       "      <td>Not Returned</td>\n",
       "      <td>0</td>\n",
       "      <td>1</td>\n",
       "    </tr>\n",
       "  </tbody>\n",
       "</table>\n",
       "</div>"
      ],
      "text/plain": [
       "   Release Year County of Indictment Gender  Age at Release  \\\n",
       "0          2008              UNKNOWN   MALE              55   \n",
       "1          2008               ALBANY   MALE              16   \n",
       "2          2008               ALBANY   MALE              17   \n",
       "3          2008               ALBANY   MALE              17   \n",
       "4          2008               ALBANY   MALE              18   \n",
       "\n",
       "               Return Status  recidivism  gender_map  \n",
       "0               Not Returned           0           1  \n",
       "1  Returned Parole Violation           1           1  \n",
       "2               Not Returned           0           1  \n",
       "3  Returned Parole Violation           1           1  \n",
       "4               Not Returned           0           1  "
      ]
     },
     "execution_count": 106,
     "metadata": {},
     "output_type": "execute_result"
    }
   ],
   "source": [
    "# read in the clean NY data and remind ourselves what it looks like\n",
    "ny_df = pd.read_csv('../data/NY/NY_final.csv')\n",
    "ny_df.head()"
   ]
  },
  {
   "cell_type": "markdown",
   "metadata": {},
   "source": [
    "##### Basic Models- Two Features Gender and Age"
   ]
  },
  {
   "cell_type": "code",
   "execution_count": 107,
   "metadata": {},
   "outputs": [],
   "source": [
    "# Define X and y\n",
    "X = ny_df[['gender_map', 'Age at Release']]\n",
    "y = ny_df['recidivism']"
   ]
  },
  {
   "cell_type": "code",
   "execution_count": 108,
   "metadata": {},
   "outputs": [
    {
     "name": "stdout",
     "output_type": "stream",
     "text": [
      "Dataset: NY\n",
      "Model ID: logreg gen/age\n",
      "Model Params: {'C': 1.0, 'class_weight': None, 'dual': False, 'fit_intercept': True, 'intercept_scaling': 1, 'l1_ratio': None, 'max_iter': 100, 'multi_class': 'auto', 'n_jobs': None, 'penalty': 'l2', 'random_state': None, 'solver': 'lbfgs', 'tol': 0.0001, 'verbose': 0, 'warm_start': False}\n",
      "Training Score: 0.5868\n",
      "Testing Score: 0.5879 \n",
      "\n",
      "Accuracy: 0.5879\n",
      "Specificity: 0.9707\n",
      "Precision: 0.5615\n",
      "Recall: 0.0525\n",
      "F1 Score: 0.096 \n",
      "\n",
      "Best accuracy rate confusion matrix:\n"
     ]
    },
    {
     "data": {
      "image/png": "[encoded data removed]",
      "text/plain": [
       "<Figure size 432x288 with 2 Axes>"
      ]
     },
     "metadata": {
      "needs_background": "light"
     },
     "output_type": "display_data"
    }
   ],
   "source": [
    "# Vanilla Logistic Regression\n",
    "ny_logreg = LogisticRegression()\n",
    "model_trials('NY', X, y, ny_logreg, 'logreg gen/age');"
   ]
  },
  {
   "cell_type": "markdown",
   "metadata": {},
   "source": [
    "ANALYSIS\n",
    "- Initial logistic regression scores are low-variance, but high-bias - essentially no better than our baseline accuracy of 58%.\n",
    "- Specificity is good, indicating low propensity for false negatives."
   ]
  },
  {
   "cell_type": "code",
   "execution_count": 13,
   "metadata": {},
   "outputs": [
    {
     "name": "stdout",
     "output_type": "stream",
     "text": [
      "Dataset: NY\n",
      "Model ID: rf gen/age\n",
      "Model Params: {'bootstrap': True, 'ccp_alpha': 0.0, 'class_weight': None, 'criterion': 'gini', 'max_depth': None, 'max_features': 'sqrt', 'max_leaf_nodes': None, 'max_samples': None, 'min_impurity_decrease': 0.0, 'min_samples_leaf': 1, 'min_samples_split': 2, 'min_weight_fraction_leaf': 0.0, 'n_estimators': 100, 'n_jobs': None, 'oob_score': False, 'random_state': None, 'verbose': 0, 'warm_start': False}\n",
      "Training Score: 0.5883\n",
      "Testing Score: 0.587 \n",
      "\n",
      "Accuracy: 0.587\n",
      "Specificity: 0.918\n",
      "Precision: 0.5196\n",
      "Recall: 0.124\n",
      "F1 Score: 0.2002 \n",
      "\n",
      "Best accuracy rate confusion matrix:\n"
     ]
    },
    {
     "data": {
      "image/png": "[encoded data removed]",
      "text/plain": [
       "<Figure size 432x288 with 2 Axes>"
      ]
     },
     "metadata": {
      "needs_background": "light"
     },
     "output_type": "display_data"
    }
   ],
   "source": [
    "# Random Forest\n",
    "ny_rf = RandomForestClassifier()\n",
    "model_trials('NY', X, y, ny_rf, 'rf gen/age');"
   ]
  },
  {
   "cell_type": "markdown",
   "metadata": {},
   "source": [
    "ANALYSIS\n",
    "- Similar to Logistic Regression - low variance, high bias, no real improvement over baseline.\n",
    "- Specificity is still fairly high, though not as high as Logistic Regression."
   ]
  },
  {
   "cell_type": "code",
   "execution_count": 14,
   "metadata": {},
   "outputs": [
    {
     "name": "stdout",
     "output_type": "stream",
     "text": [
      "Dataset: NY\n",
      "Model ID: ada gen/age\n",
      "Model Params: {'algorithm': 'SAMME.R', 'base_estimator__ccp_alpha': 0.0, 'base_estimator__class_weight': None, 'base_estimator__criterion': 'gini', 'base_estimator__max_depth': None, 'base_estimator__max_features': None, 'base_estimator__max_leaf_nodes': None, 'base_estimator__min_impurity_decrease': 0.0, 'base_estimator__min_samples_leaf': 1, 'base_estimator__min_samples_split': 2, 'base_estimator__min_weight_fraction_leaf': 0.0, 'base_estimator__random_state': None, 'base_estimator__splitter': 'best', 'base_estimator': DecisionTreeClassifier(), 'learning_rate': 1.0, 'n_estimators': 50, 'random_state': None}\n",
      "Training Score: 0.5883\n",
      "Testing Score: 0.587 \n",
      "\n",
      "Accuracy: 0.587\n",
      "Specificity: 0.918\n",
      "Precision: 0.5196\n",
      "Recall: 0.124\n",
      "F1 Score: 0.2002 \n",
      "\n",
      "Best accuracy rate confusion matrix:\n"
     ]
    },
    {
     "data": {
      "image/png": "[encoded data removed]",
      "text/plain": [
       "<Figure size 432x288 with 2 Axes>"
      ]
     },
     "metadata": {
      "needs_background": "light"
     },
     "output_type": "display_data"
    }
   ],
   "source": [
    "# AdaBoost\n",
    "ny_ada = AdaBoostClassifier(base_estimator = DecisionTreeClassifier())\n",
    "model_trials('NY', X, y, ny_ada, 'ada gen/age');"
   ]
  },
  {
   "cell_type": "markdown",
   "metadata": {},
   "source": [
    "ANALYSIS\n",
    "- Very similar to Random Forest\n",
    "- Still no real improvement in accuracy\n",
    "- Specificity is similar as well"
   ]
  },
  {
   "cell_type": "code",
   "execution_count": 15,
   "metadata": {},
   "outputs": [
    {
     "name": "stdout",
     "output_type": "stream",
     "text": [
      "Dataset: NY\n",
      "Model ID: grad gen/age\n",
      "Model Params: {'ccp_alpha': 0.0, 'criterion': 'friedman_mse', 'init': None, 'learning_rate': 0.1, 'loss': 'log_loss', 'max_depth': 3, 'max_features': None, 'max_leaf_nodes': None, 'min_impurity_decrease': 0.0, 'min_samples_leaf': 1, 'min_samples_split': 2, 'min_weight_fraction_leaf': 0.0, 'n_estimators': 100, 'n_iter_no_change': None, 'random_state': None, 'subsample': 1.0, 'tol': 0.0001, 'validation_fraction': 0.1, 'verbose': 0, 'warm_start': False}\n",
      "Training Score: 0.5883\n",
      "Testing Score: 0.587 \n",
      "\n",
      "Accuracy: 0.587\n",
      "Specificity: 0.9182\n",
      "Precision: 0.5195\n",
      "Recall: 0.1237\n",
      "F1 Score: 0.1998 \n",
      "\n",
      "Best accuracy rate confusion matrix:\n"
     ]
    },
    {
     "data": {
      "image/png": "[encoded data removed]",
      "text/plain": [
       "<Figure size 432x288 with 2 Axes>"
      ]
     },
     "metadata": {
      "needs_background": "light"
     },
     "output_type": "display_data"
    }
   ],
   "source": [
    "# GradientBoost\n",
    "ny_gboost = GradientBoostingClassifier()\n",
    "model_trials('NY', X, y, ny_gboost, 'grad gen/age');"
   ]
  },
  {
   "cell_type": "markdown",
   "metadata": {},
   "source": [
    "ANALYSIS\n",
    "- More in the same vein - low variance, high bias, no real improvement over baseline\n",
    "- Specificity remains fairly high"
   ]
  },
  {
   "cell_type": "code",
   "execution_count": 16,
   "metadata": {},
   "outputs": [
    {
     "name": "stdout",
     "output_type": "stream",
     "text": [
      "Dataset: NY\n",
      "Model ID: stack gen/age\n",
      "Model Params: {'cv': None, 'estimators': [('random_forest', RandomForestClassifier()), ('gboost', GradientBoostingClassifier()), ('ada', AdaBoostClassifier())], 'final_estimator__C': 1.0, 'final_estimator__class_weight': None, 'final_estimator__dual': False, 'final_estimator__fit_intercept': True, 'final_estimator__intercept_scaling': 1, 'final_estimator__l1_ratio': None, 'final_estimator__max_iter': 100, 'final_estimator__multi_class': 'auto', 'final_estimator__n_jobs': None, 'final_estimator__penalty': 'l2', 'final_estimator__random_state': None, 'final_estimator__solver': 'lbfgs', 'final_estimator__tol': 0.0001, 'final_estimator__verbose': 0, 'final_estimator__warm_start': False, 'final_estimator': LogisticRegression(), 'n_jobs': None, 'passthrough': False, 'stack_method': 'auto', 'verbose': 0, 'random_forest': RandomForestClassifier(), 'gboost': GradientBoostingClassifier(), 'ada': AdaBoostClassifier(), 'random_forest__bootstrap': True, 'random_forest__ccp_alpha': 0.0, 'random_forest__class_weight': None, 'random_forest__criterion': 'gini', 'random_forest__max_depth': None, 'random_forest__max_features': 'sqrt', 'random_forest__max_leaf_nodes': None, 'random_forest__max_samples': None, 'random_forest__min_impurity_decrease': 0.0, 'random_forest__min_samples_leaf': 1, 'random_forest__min_samples_split': 2, 'random_forest__min_weight_fraction_leaf': 0.0, 'random_forest__n_estimators': 100, 'random_forest__n_jobs': None, 'random_forest__oob_score': False, 'random_forest__random_state': None, 'random_forest__verbose': 0, 'random_forest__warm_start': False, 'gboost__ccp_alpha': 0.0, 'gboost__criterion': 'friedman_mse', 'gboost__init': None, 'gboost__learning_rate': 0.1, 'gboost__loss': 'log_loss', 'gboost__max_depth': 3, 'gboost__max_features': None, 'gboost__max_leaf_nodes': None, 'gboost__min_impurity_decrease': 0.0, 'gboost__min_samples_leaf': 1, 'gboost__min_samples_split': 2, 'gboost__min_weight_fraction_leaf': 0.0, 'gboost__n_estimators': 100, 'gboost__n_iter_no_change': None, 'gboost__random_state': None, 'gboost__subsample': 1.0, 'gboost__tol': 0.0001, 'gboost__validation_fraction': 0.1, 'gboost__verbose': 0, 'gboost__warm_start': False, 'ada__algorithm': 'SAMME.R', 'ada__base_estimator': None, 'ada__learning_rate': 1.0, 'ada__n_estimators': 50, 'ada__random_state': None}\n",
      "Training Score: 0.5883\n",
      "Testing Score: 0.587 \n",
      "\n",
      "Accuracy: 0.587\n",
      "Specificity: 0.9182\n",
      "Precision: 0.5195\n",
      "Recall: 0.1237\n",
      "F1 Score: 0.1998 \n",
      "\n",
      "Best accuracy rate confusion matrix:\n"
     ]
    },
    {
     "data": {
      "image/png": "[encoded data removed]",
      "text/plain": [
       "<Figure size 432x288 with 2 Axes>"
      ]
     },
     "metadata": {
      "needs_background": "light"
     },
     "output_type": "display_data"
    }
   ],
   "source": [
    "# Stacked Model\n",
    "level1_estimators = [\n",
    "    ('random_forest', RandomForestClassifier()),\n",
    "    ('gboost', GradientBoostingClassifier()),\n",
    "    ('ada', AdaBoostClassifier())\n",
    "]\n",
    "\n",
    "ny_stacked_model = StackingClassifier(estimators=level1_estimators,\n",
    "                                 final_estimator = LogisticRegression())\n",
    "\n",
    "model_trials('NY', X, y, ny_stacked_model, 'stack gen/age');"
   ]
  },
  {
   "cell_type": "markdown",
   "metadata": {},
   "source": [
    "ANALYSIS\n",
    "- Still no improvement over baseline\n",
    "- Very similar to previous models"
   ]
  },
  {
   "cell_type": "code",
   "execution_count": 17,
   "metadata": {},
   "outputs": [
    {
     "name": "stdout",
     "output_type": "stream",
     "text": [
      "Dataset: NY\n",
      "Model ID: knn gen/age\n",
      "Model Params: {'algorithm': 'auto', 'leaf_size': 30, 'metric': 'minkowski', 'metric_params': None, 'n_jobs': None, 'n_neighbors': 5, 'p': 2, 'weights': 'uniform'}\n",
      "Training Score: 0.5319\n",
      "Testing Score: 0.5313 \n",
      "\n",
      "Accuracy: 0.5313\n",
      "Specificity: 0.6467\n",
      "Precision: 0.428\n",
      "Recall: 0.3698\n",
      "F1 Score: 0.3968 \n",
      "\n",
      "Best accuracy rate confusion matrix:\n"
     ]
    },
    {
     "data": {
      "image/png": "[encoded data removed]",
      "text/plain": [
       "<Figure size 432x288 with 2 Axes>"
      ]
     },
     "metadata": {
      "needs_background": "light"
     },
     "output_type": "display_data"
    }
   ],
   "source": [
    "# KNN\n",
    "ny_knn = KNeighborsClassifier()\n",
    "\n",
    "model_trials('NY', X, y, ny_knn, 'knn gen/age', scale_first = True);"
   ]
  },
  {
   "cell_type": "markdown",
   "metadata": {},
   "source": [
    "ANALYSIS\n",
    "- Training and testing accuracy are noticeably worse than previous models\n",
    "- Specificity has dropped drastically, by almost 0.30"
   ]
  },
  {
   "cell_type": "markdown",
   "metadata": {},
   "source": [
    "##### Models Including County, Gender, Age"
   ]
  },
  {
   "cell_type": "code",
   "execution_count": 18,
   "metadata": {},
   "outputs": [],
   "source": [
    "# Creating a Dataframe including dummies of the county of indictment\n",
    "df_dummies = pd.get_dummies(ny_df['County of Indictment'])\n",
    "df_dummies['gender'] = ny_df['gender_map']\n",
    "df_dummies['recidivism'] = ny_df['recidivism']\n",
    "df_dummies['age'] = ny_df['Age at Release']\n",
    "\n",
    "# Define X and y with dummy data\n",
    "X = df_dummies.drop(columns = ['recidivism'])\n",
    "y = df_dummies['recidivism']"
   ]
  },
  {
   "cell_type": "code",
   "execution_count": 19,
   "metadata": {},
   "outputs": [
    {
     "name": "stdout",
     "output_type": "stream",
     "text": [
      "Dataset: NY\n",
      "Model ID: logreg gen/age/cty\n",
      "Model Params: {'C': 1.0, 'class_weight': None, 'dual': False, 'fit_intercept': True, 'intercept_scaling': 1, 'l1_ratio': None, 'max_iter': 100, 'multi_class': 'auto', 'n_jobs': None, 'penalty': 'l2', 'random_state': None, 'solver': 'lbfgs', 'tol': 0.0001, 'verbose': 0, 'warm_start': False}\n",
      "Training Score: 0.5987\n",
      "Testing Score: 0.599 \n",
      "\n",
      "Accuracy: 0.599\n",
      "Specificity: 0.8768\n",
      "Precision: 0.5498\n",
      "Recall: 0.2105\n",
      "F1 Score: 0.3044 \n",
      "\n",
      "Best accuracy rate confusion matrix:\n"
     ]
    },
    {
     "name": "stderr",
     "output_type": "stream",
     "text": [
      "c:\\Users\\Gabe\\anaconda3\\lib\\site-packages\\sklearn\\linear_model\\_logistic.py:444: ConvergenceWarning: lbfgs failed to converge (status=1):\n",
      "STOP: TOTAL NO. of ITERATIONS REACHED LIMIT.\n",
      "\n",
      "Increase the number of iterations (max_iter) or scale the data as shown in:\n",
      "    https://scikit-learn.org/stable/modules/preprocessing.html\n",
      "Please also refer to the documentation for alternative solver options:\n",
      "    https://scikit-learn.org/stable/modules/linear_model.html#logistic-regression\n",
      "  n_iter_i = _check_optimize_result(\n"
     ]
    },
    {
     "data": {
      "image/png": "[encoded data removed]",
      "text/plain": [
       "<Figure size 432x288 with 2 Axes>"
      ]
     },
     "metadata": {
      "needs_background": "light"
     },
     "output_type": "display_data"
    }
   ],
   "source": [
    "# Logistic Regression\n",
    "ny_lr2 = LogisticRegression()\n",
    "model_trials('NY', X, y, ny_lr2, 'logreg gen/age/cty');"
   ]
  },
  {
   "cell_type": "markdown",
   "metadata": {},
   "source": [
    "ANALYSIS\n",
    "- We're finally seeing some improvement in our model with the addition of the county of indictment - about 0.01 uptick in accuracy\n",
    "- We have, however, lost some specificity compared to previous models - about 0.04 decrease"
   ]
  },
  {
   "cell_type": "code",
   "execution_count": 20,
   "metadata": {},
   "outputs": [
    {
     "name": "stdout",
     "output_type": "stream",
     "text": [
      "Dataset: NY\n",
      "Model ID: rf gen/age/cty\n",
      "Model Params: {'max_depth': 15, 'max_features': 15, 'n_estimators': 120}\n",
      "Training Score: 0.6028\n",
      "Testing Score: 0.5971 \n",
      "\n",
      "Accuracy: 0.5971\n",
      "Specificity: 0.8957\n",
      "Precision: 0.5517\n",
      "Recall: 0.1795\n",
      "F1 Score: 0.2709 \n",
      "\n",
      "Best accuracy rate confusion matrix:\n"
     ]
    },
    {
     "data": {
      "image/png": "[encoded data removed]",
      "text/plain": [
       "<Figure size 432x288 with 2 Axes>"
      ]
     },
     "metadata": {
      "needs_background": "light"
     },
     "output_type": "display_data"
    }
   ],
   "source": [
    "# Random Forest with Hyperparameter tuning\n",
    "ny_rf2 = RandomForestClassifier()\n",
    "rf_params = {\n",
    "    'n_estimators': [120, 130],\n",
    "    'max_depth': [15, 20],\n",
    "    'max_features' : [15, 20]\n",
    "}\n",
    "\n",
    "model_trials('NY', X, y, ny_rf2, 'rf gen/age/cty', gs_params = rf_params);"
   ]
  },
  {
   "cell_type": "markdown",
   "metadata": {},
   "source": [
    "ANALYSIS\n",
    "- Another slight improvement over the Logistic Regression using this dataset, finally broke 0.60 accuracy\n",
    "- Specificity remains reasonably high"
   ]
  },
  {
   "cell_type": "code",
   "execution_count": 21,
   "metadata": {},
   "outputs": [
    {
     "name": "stdout",
     "output_type": "stream",
     "text": [
      "Dataset: NY\n",
      "Model ID: ada gen/age/cty\n",
      "Model Params: {'base_estimator__max_depth': 1, 'n_estimators': 100}\n",
      "Training Score: 0.5996\n",
      "Testing Score: 0.6 \n",
      "\n",
      "Accuracy: 0.6\n",
      "Specificity: 0.8708\n",
      "Precision: 0.5504\n",
      "Recall: 0.2213\n",
      "F1 Score: 0.3157 \n",
      "\n",
      "Best accuracy rate confusion matrix:\n"
     ]
    },
    {
     "data": {
      "image/png": "[encoded data removed]",
      "text/plain": [
       "<Figure size 432x288 with 2 Axes>"
      ]
     },
     "metadata": {
      "needs_background": "light"
     },
     "output_type": "display_data"
    }
   ],
   "source": [
    "#Ada Boost with Hyperparameter tuning\n",
    "ny_ada2 = AdaBoostClassifier(base_estimator = DecisionTreeClassifier())\n",
    "\n",
    "ada_params= {\n",
    "    'n_estimators': [50, 100],\n",
    "    'base_estimator__max_depth':[1, 3]\n",
    "}\n",
    "\n",
    "model_trials('NY', X, y, ny_ada2, 'ada gen/age/cty', gs_params = ada_params);"
   ]
  },
  {
   "cell_type": "markdown",
   "metadata": {},
   "source": [
    "ANALYSIS\n",
    "- Arguably our best model so far, with train and test accuracy of 0.60\n",
    "- Specificity is still reasonably high at 0.87"
   ]
  },
  {
   "cell_type": "code",
   "execution_count": 22,
   "metadata": {},
   "outputs": [
    {
     "name": "stdout",
     "output_type": "stream",
     "text": [
      "Dataset: NY\n",
      "Model ID: grad gen/age/cty\n",
      "Model Params: {'ccp_alpha': 0.0, 'criterion': 'friedman_mse', 'init': None, 'learning_rate': 0.1, 'loss': 'log_loss', 'max_depth': 3, 'max_features': None, 'max_leaf_nodes': None, 'min_impurity_decrease': 0.0, 'min_samples_leaf': 1, 'min_samples_split': 2, 'min_weight_fraction_leaf': 0.0, 'n_estimators': 100, 'n_iter_no_change': None, 'random_state': None, 'subsample': 1.0, 'tol': 0.0001, 'validation_fraction': 0.1, 'verbose': 0, 'warm_start': False}\n",
      "Training Score: 0.5989\n",
      "Testing Score: 0.5988 \n",
      "\n",
      "Accuracy: 0.5988\n",
      "Specificity: 0.9183\n",
      "Precision: 0.5708\n",
      "Recall: 0.152\n",
      "F1 Score: 0.2401 \n",
      "\n",
      "Best accuracy rate confusion matrix:\n"
     ]
    },
    {
     "data": {
      "image/png": "[encoded data removed]",
      "text/plain": [
       "<Figure size 432x288 with 2 Axes>"
      ]
     },
     "metadata": {
      "needs_background": "light"
     },
     "output_type": "display_data"
    }
   ],
   "source": [
    "# Gradient Boost\n",
    "ny_gboost2 = GradientBoostingClassifier()\n",
    "model_trials('NY', X, y, ny_gboost2, 'grad gen/age/cty');"
   ]
  },
  {
   "cell_type": "markdown",
   "metadata": {},
   "source": [
    "ANALYSIS\n",
    "- Accuracy is essentially the same as AdaBoost\n",
    "- Noticeable increase in specificity of about 0.04"
   ]
  },
  {
   "cell_type": "code",
   "execution_count": 23,
   "metadata": {},
   "outputs": [
    {
     "name": "stdout",
     "output_type": "stream",
     "text": [
      "Dataset: NY\n",
      "Model ID: stack gen/age/cty\n",
      "Model Params: {'cv': None, 'estimators': [('random_forest', RandomForestClassifier()), ('gboost', GradientBoostingClassifier())], 'final_estimator__C': 1.0, 'final_estimator__class_weight': None, 'final_estimator__dual': False, 'final_estimator__fit_intercept': True, 'final_estimator__intercept_scaling': 1, 'final_estimator__l1_ratio': None, 'final_estimator__max_iter': 100, 'final_estimator__multi_class': 'auto', 'final_estimator__n_jobs': None, 'final_estimator__penalty': 'l2', 'final_estimator__random_state': None, 'final_estimator__solver': 'lbfgs', 'final_estimator__tol': 0.0001, 'final_estimator__verbose': 0, 'final_estimator__warm_start': False, 'final_estimator': LogisticRegression(), 'n_jobs': None, 'passthrough': False, 'stack_method': 'auto', 'verbose': 0, 'random_forest': RandomForestClassifier(), 'gboost': GradientBoostingClassifier(), 'random_forest__bootstrap': True, 'random_forest__ccp_alpha': 0.0, 'random_forest__class_weight': None, 'random_forest__criterion': 'gini', 'random_forest__max_depth': None, 'random_forest__max_features': 'sqrt', 'random_forest__max_leaf_nodes': None, 'random_forest__max_samples': None, 'random_forest__min_impurity_decrease': 0.0, 'random_forest__min_samples_leaf': 1, 'random_forest__min_samples_split': 2, 'random_forest__min_weight_fraction_leaf': 0.0, 'random_forest__n_estimators': 100, 'random_forest__n_jobs': None, 'random_forest__oob_score': False, 'random_forest__random_state': None, 'random_forest__verbose': 0, 'random_forest__warm_start': False, 'gboost__ccp_alpha': 0.0, 'gboost__criterion': 'friedman_mse', 'gboost__init': None, 'gboost__learning_rate': 0.1, 'gboost__loss': 'log_loss', 'gboost__max_depth': 3, 'gboost__max_features': None, 'gboost__max_leaf_nodes': None, 'gboost__min_impurity_decrease': 0.0, 'gboost__min_samples_leaf': 1, 'gboost__min_samples_split': 2, 'gboost__min_weight_fraction_leaf': 0.0, 'gboost__n_estimators': 100, 'gboost__n_iter_no_change': None, 'gboost__random_state': None, 'gboost__subsample': 1.0, 'gboost__tol': 0.0001, 'gboost__validation_fraction': 0.1, 'gboost__verbose': 0, 'gboost__warm_start': False}\n",
      "Training Score: 0.601\n",
      "Testing Score: 0.5999 \n",
      "\n",
      "Accuracy: 0.5999\n",
      "Specificity: 0.8762\n",
      "Precision: 0.552\n",
      "Recall: 0.2133\n",
      "F1 Score: 0.3077 \n",
      "\n",
      "Best accuracy rate confusion matrix:\n"
     ]
    },
    {
     "data": {
      "image/png": "[encoded data removed]",
      "text/plain": [
       "<Figure size 432x288 with 2 Axes>"
      ]
     },
     "metadata": {
      "needs_background": "light"
     },
     "output_type": "display_data"
    }
   ],
   "source": [
    "# Stacked Model\n",
    "level1_estimators = [\n",
    "    ('random_forest', RandomForestClassifier()),\n",
    "    ('gboost', GradientBoostingClassifier())\n",
    "]\n",
    "\n",
    "ny_stacked_model2 = StackingClassifier(estimators=level1_estimators,\n",
    "                                 final_estimator = LogisticRegression())\n",
    "\n",
    "model_trials('NY', X, y, ny_stacked_model2, 'stack gen/age/cty');"
   ]
  },
  {
   "cell_type": "markdown",
   "metadata": {},
   "source": [
    "ANALYSIS\n",
    "- Train and test accuracy essentially the same as GradientBoost, which is one of the stack components\n",
    "- Some loss of specificity - about 0.04 - possibly due to introduction of Random Forest influence"
   ]
  },
  {
   "cell_type": "code",
   "execution_count": 24,
   "metadata": {},
   "outputs": [
    {
     "data": {
      "text/plain": [
       "(188650, 65)"
      ]
     },
     "execution_count": 24,
     "metadata": {},
     "output_type": "execute_result"
    }
   ],
   "source": [
    "# Since we're about to create a neural network - remind ourselves of the number of inputs\n",
    "X.shape"
   ]
  },
  {
   "cell_type": "code",
   "execution_count": 25,
   "metadata": {},
   "outputs": [
    {
     "name": "stdout",
     "output_type": "stream",
     "text": [
      "1180/1180 [==============================] - 1s 1ms/step\n",
      "Dataset: NY\n",
      "Model ID: fnn gen/age/cty\n",
      "Model Params: {'epochs': 10, 'batch_size': 32}\n",
      "Training Score: 0.5998\n",
      "Testing Score: 0.6005 \n",
      "\n",
      "Accuracy: 0.6005\n",
      "Specificity: 0.8841\n",
      "Precision: 0.5568\n",
      "Recall: 0.2037\n",
      "F1 Score: 0.2983 \n",
      "\n",
      "Best accuracy rate confusion matrix:\n"
     ]
    },
    {
     "data": {
      "image/png": "[encoded data removed]",
      "text/plain": [
       "<Figure size 432x288 with 2 Axes>"
      ]
     },
     "metadata": {
      "needs_background": "light"
     },
     "output_type": "display_data"
    }
   ],
   "source": [
    "# Instantiate a CNN.\n",
    "ny_nn = Sequential()\n",
    "\n",
    "ny_nn.add(Dense(84, input_shape = (65,), activation = 'relu'))\n",
    "ny_nn.add(Dense(64, activation = 'relu'))\n",
    "ny_nn.add(Dense(32, activation = 'relu'))\n",
    "ny_nn.add(Dense(1, activation = 'sigmoid'))\n",
    "\n",
    "# Compile it\n",
    "ny_nn.compile(loss = 'bce', optimizer = 'adam', metrics = ['accuracy'])\n",
    "\n",
    "# Fit it\n",
    "model_trials_nn('NY', X, y, ny_nn, 'fnn gen/age/cty');"
   ]
  },
  {
   "cell_type": "markdown",
   "metadata": {},
   "source": [
    "ANALYSIS\n",
    "- Very similar statistics to our best so far, GradientBoost, but has a slight edge in test accuracy\n",
    "- Slight drop in specificity - less than 0.03 - not significant enough to dissuade us from using this model\n",
    "- This will probably be our production model for the NY dataset, but we will perform some additional inspection in the final notebook to ensure that this is the best choice"
   ]
  },
  {
   "cell_type": "markdown",
   "metadata": {},
   "source": [
    "---\n",
    "**Model 2: Criminal history feature set - Florida**"
   ]
  },
  {
   "cell_type": "code",
   "execution_count": 27,
   "metadata": {},
   "outputs": [
    {
     "data": {
      "text/plain": [
       "Index(['person_id', 'num_incarcerations', 'comp_f_min_score',\n",
       "       'comp_f_min_decile', 'comp_f_max_score', 'comp_f_max_decile',\n",
       "       'comp_r_min_score', 'comp_r_min_decile', 'comp_r_max_score',\n",
       "       'comp_r_max_decile', 'comp_v_min_score', 'comp_v_min_decile',\n",
       "       'comp_v_max_score', 'comp_v_max_decile', 'sex_Male', 'race_Asian',\n",
       "       'race_Caucasian', 'race_Hispanic', 'race_Native American', 'race_Other',\n",
       "       'charge_degree_count_F1', 'charge_degree_count_F2',\n",
       "       'charge_degree_count_F3', 'charge_degree_count_F5',\n",
       "       'charge_degree_count_F6', 'charge_degree_count_F7',\n",
       "       'charge_degree_count_M1', 'charge_degree_count_M2',\n",
       "       'charge_degree_count_M3', 'agg_charges', 'avg_days_between_offenses',\n",
       "       'avg_days_between_arrests', 'first_charge_degree_F1',\n",
       "       'first_charge_degree_F2', 'first_charge_degree_F3',\n",
       "       'first_charge_degree_F5', 'first_charge_degree_F6',\n",
       "       'first_charge_degree_F7', 'first_charge_degree_M1',\n",
       "       'first_charge_degree_M2', 'last_charge_degree_F1',\n",
       "       'last_charge_degree_F2', 'last_charge_degree_F3',\n",
       "       'last_charge_degree_F5', 'last_charge_degree_F6',\n",
       "       'last_charge_degree_F7', 'last_charge_degree_M1',\n",
       "       'last_charge_degree_M2', 'age_at_first_incarceration',\n",
       "       'age_at_first_release', 'age_at_last_incarceration',\n",
       "       'age_at_last_release', 'age_at_first_arrest', 'age_at_last_arrest',\n",
       "       'juvenile_at_first_arrest', 'juvenile_at_first_incarceration',\n",
       "       'recidivism', 'charge_degree_count_INF', 'first_charge_degree_INF',\n",
       "       'last_charge_degree_INF', 'total_misdemeanor_charge_count',\n",
       "       'total_felony_charge_count', 'total_charge_count'],\n",
       "      dtype='object')"
      ]
     },
     "execution_count": 27,
     "metadata": {},
     "output_type": "execute_result"
    }
   ],
   "source": [
    "# read in clean dataset\n",
    "fl = pd.read_csv('../data/FL/FL_final.csv')\n",
    "fl.columns"
   ]
  },
  {
   "cell_type": "markdown",
   "metadata": {},
   "source": [
    "- We should drop all columns that were used only for EDA and will not be considered for the model.\n",
    "- We should also check the distribution of our target class to determine whether any rebalancing is needed."
   ]
  },
  {
   "cell_type": "code",
   "execution_count": 28,
   "metadata": {},
   "outputs": [],
   "source": [
    "# drop all non-model columns\n",
    "fl = fl.drop(columns = [\n",
    "    'person_id',  # unique ID, not predictive\n",
    "    'agg_charges', # will be used for NLP experiment\n",
    "    'avg_days_between_offenses', 'avg_days_between_arrests', # only meaningful for recidivists\n",
    "    'age_at_last_incarceration', 'age_at_last_release', 'age_at_last_arrest', # \"last\" columns are not predictive\n",
    "] + [col for col in fl if col.startswith('comp_')] # not using COMPAS scores in the model\n",
    "  + [col for col in fl if col.startswith('last_charge_')] # last charges are not predictive\n",
    ")"
   ]
  },
  {
   "cell_type": "code",
   "execution_count": 29,
   "metadata": {},
   "outputs": [
    {
     "data": {
      "text/plain": [
       "0    0.607327\n",
       "1    0.392673\n",
       "Name: recidivism, dtype: float64"
      ]
     },
     "execution_count": 29,
     "metadata": {},
     "output_type": "execute_result"
    }
   ],
   "source": [
    "# check the target class distribution (also our baseline accuracy)\n",
    "fl['recidivism'].value_counts(normalize = True)"
   ]
  },
  {
   "cell_type": "markdown",
   "metadata": {},
   "source": [
    "- Our dataframe now contains only potential features and the target columns.\n",
    "- Our classes are slightly imbalanced, but not significantly more than the other datasets and not enough to merit rebalancing.\n",
    "- We will move on to GridSearching various models, evaluating each and storing statistics as we go."
   ]
  },
  {
   "cell_type": "code",
   "execution_count": 31,
   "metadata": {},
   "outputs": [],
   "source": [
    "# set up X and y\n",
    "X = fl.drop(columns = ['recidivism'])\n",
    "y = fl['recidivism']"
   ]
  },
  {
   "cell_type": "code",
   "execution_count": 32,
   "metadata": {},
   "outputs": [
    {
     "name": "stderr",
     "output_type": "stream",
     "text": [
      "c:\\Users\\Gabe\\anaconda3\\lib\\site-packages\\sklearn\\model_selection\\_validation.py:378: FitFailedWarning: \n",
      "270 fits failed out of a total of 540.\n",
      "The score on these train-test partitions for these parameters will be set to nan.\n",
      "If these failures are not expected, you can try to debug them by setting error_score='raise'.\n",
      "\n",
      "Below are more details about the failures:\n",
      "--------------------------------------------------------------------------------\n",
      "135 fits failed with the following error:\n",
      "Traceback (most recent call last):\n",
      "  File \"c:\\Users\\Gabe\\anaconda3\\lib\\site-packages\\sklearn\\model_selection\\_validation.py\", line 686, in _fit_and_score\n",
      "    estimator.fit(X_train, y_train, **fit_params)\n",
      "  File \"c:\\Users\\Gabe\\anaconda3\\lib\\site-packages\\sklearn\\linear_model\\_logistic.py\", line 1091, in fit\n",
      "    solver = _check_solver(self.solver, self.penalty, self.dual)\n",
      "  File \"c:\\Users\\Gabe\\anaconda3\\lib\\site-packages\\sklearn\\linear_model\\_logistic.py\", line 55, in _check_solver\n",
      "    raise ValueError(\n",
      "ValueError: Logistic Regression supports only penalties in ['l1', 'l2', 'elasticnet', 'none'], got None.\n",
      "\n",
      "--------------------------------------------------------------------------------\n",
      "45 fits failed with the following error:\n",
      "Traceback (most recent call last):\n",
      "  File \"c:\\Users\\Gabe\\anaconda3\\lib\\site-packages\\sklearn\\model_selection\\_validation.py\", line 686, in _fit_and_score\n",
      "    estimator.fit(X_train, y_train, **fit_params)\n",
      "  File \"c:\\Users\\Gabe\\anaconda3\\lib\\site-packages\\sklearn\\linear_model\\_logistic.py\", line 1091, in fit\n",
      "    solver = _check_solver(self.solver, self.penalty, self.dual)\n",
      "  File \"c:\\Users\\Gabe\\anaconda3\\lib\\site-packages\\sklearn\\linear_model\\_logistic.py\", line 61, in _check_solver\n",
      "    raise ValueError(\n",
      "ValueError: Solver lbfgs supports only 'l2' or 'none' penalties, got l1 penalty.\n",
      "\n",
      "--------------------------------------------------------------------------------\n",
      "45 fits failed with the following error:\n",
      "Traceback (most recent call last):\n",
      "  File \"c:\\Users\\Gabe\\anaconda3\\lib\\site-packages\\sklearn\\model_selection\\_validation.py\", line 686, in _fit_and_score\n",
      "    estimator.fit(X_train, y_train, **fit_params)\n",
      "  File \"c:\\Users\\Gabe\\anaconda3\\lib\\site-packages\\sklearn\\linear_model\\_logistic.py\", line 1091, in fit\n",
      "    solver = _check_solver(self.solver, self.penalty, self.dual)\n",
      "  File \"c:\\Users\\Gabe\\anaconda3\\lib\\site-packages\\sklearn\\linear_model\\_logistic.py\", line 61, in _check_solver\n",
      "    raise ValueError(\n",
      "ValueError: Solver lbfgs supports only 'l2' or 'none' penalties, got elasticnet penalty.\n",
      "\n",
      "--------------------------------------------------------------------------------\n",
      "45 fits failed with the following error:\n",
      "Traceback (most recent call last):\n",
      "  File \"c:\\Users\\Gabe\\anaconda3\\lib\\site-packages\\sklearn\\model_selection\\_validation.py\", line 686, in _fit_and_score\n",
      "    estimator.fit(X_train, y_train, **fit_params)\n",
      "  File \"c:\\Users\\Gabe\\anaconda3\\lib\\site-packages\\sklearn\\linear_model\\_logistic.py\", line 1091, in fit\n",
      "    solver = _check_solver(self.solver, self.penalty, self.dual)\n",
      "  File \"c:\\Users\\Gabe\\anaconda3\\lib\\site-packages\\sklearn\\linear_model\\_logistic.py\", line 71, in _check_solver\n",
      "    raise ValueError(\n",
      "ValueError: Only 'saga' solver supports elasticnet penalty, got solver=liblinear.\n",
      "\n",
      "  warnings.warn(some_fits_failed_message, FitFailedWarning)\n",
      "c:\\Users\\Gabe\\anaconda3\\lib\\site-packages\\sklearn\\model_selection\\_search.py:953: UserWarning: One or more of the test scores are non-finite: [       nan        nan        nan        nan 0.82315501 0.82573813\n",
      " 0.82292027 0.82444664 0.82667779        nan        nan 0.82703004\n",
      "        nan        nan        nan        nan 0.82315501 0.82585557\n",
      " 0.82292027 0.82444664 0.82667779        nan        nan 0.82644277\n",
      "        nan        nan        nan        nan 0.82303757 0.82585557\n",
      " 0.82292027 0.82444664 0.82679516        nan        nan 0.82585557\n",
      "        nan        nan        nan        nan 0.82491688 0.82703004\n",
      " 0.82362504 0.82515162 0.82714748        nan        nan 0.82714748\n",
      "        nan        nan        nan        nan 0.82491688 0.82726492\n",
      " 0.82362504 0.82515162 0.82703004        nan        nan 0.82714748\n",
      "        nan        nan        nan        nan 0.82491688 0.82714748\n",
      " 0.82362504 0.82515162 0.8269126         nan        nan 0.82726492\n",
      "        nan        nan        nan        nan 0.82468193 0.82726492\n",
      " 0.82503432 0.82456449 0.82703004        nan        nan 0.82703004\n",
      "        nan        nan        nan        nan 0.82468193 0.82703004\n",
      " 0.82503432 0.82456449 0.8269126         nan        nan 0.8269126\n",
      "        nan        nan        nan        nan 0.82468193 0.82703004\n",
      " 0.82503432 0.82456449 0.8269126         nan        nan 0.8269126 ]\n",
      "  warnings.warn(\n",
      "c:\\Users\\Gabe\\anaconda3\\lib\\site-packages\\sklearn\\linear_model\\_logistic.py:1106: UserWarning: l1_ratio parameter is only used when penalty is 'elasticnet'. Got (penalty=l1)\n",
      "  warnings.warn(\n"
     ]
    },
    {
     "name": "stdout",
     "output_type": "stream",
     "text": [
      "Dataset: FL\n",
      "Model ID: logreg\n",
      "Model Params: {'C': 1, 'l1_ratio': 0.5, 'penalty': 'l1', 'solver': 'saga'}\n",
      "Training Score: 0.8286\n",
      "Testing Score: 0.8365 \n",
      "\n",
      "Accuracy: 0.8365\n",
      "Specificity: 0.9087\n",
      "Precision: 0.837\n",
      "Recall: 0.7249\n",
      "F1 Score: 0.7769 \n",
      "\n",
      "Best accuracy rate confusion matrix:\n"
     ]
    },
    {
     "name": "stderr",
     "output_type": "stream",
     "text": [
      "c:\\Users\\Gabe\\anaconda3\\lib\\site-packages\\sklearn\\linear_model\\_sag.py:350: ConvergenceWarning: The max_iter was reached which means the coef_ did not converge\n",
      "  warnings.warn(\n"
     ]
    },
    {
     "data": {
      "image/png": "[encoded data removed]",
      "text/plain": [
       "<Figure size 432x288 with 2 Axes>"
      ]
     },
     "metadata": {
      "needs_background": "light"
     },
     "output_type": "display_data"
    }
   ],
   "source": [
    "# LogisticRegression\n",
    "# NOTE that we expect some warnings due to incompatible permutations of parameters\n",
    "fl_logreg = LogisticRegression()\n",
    "params = {\n",
    "    'penalty': ['None', 'l1', 'l2', 'elasticnet'],\n",
    "    'C': [0.1, 1, 10],\n",
    "    'solver': ['lbfgs', 'liblinear', 'saga'],\n",
    "    'l1_ratio': [0.1, 0.5, 1.0]\n",
    "}\n",
    "\n",
    "model_trials('FL', X, y, fl_logreg, 'logreg', gs_params = params);"
   ]
  },
  {
   "cell_type": "markdown",
   "metadata": {},
   "source": [
    "ANALYSIS\n",
    "- Surprisingly high accuracy with vanilla logistic regression - already above our target of 80%\n",
    "- Test accuracy is actually higher than training\n",
    "- Specificity is very solid at 0.9"
   ]
  },
  {
   "cell_type": "code",
   "execution_count": 33,
   "metadata": {},
   "outputs": [
    {
     "name": "stdout",
     "output_type": "stream",
     "text": [
      "Dataset: FL\n",
      "Model ID: knn\n",
      "Model Params: {'metric': 'manhattan', 'n_neighbors': 5, 'weights': 'distance'}\n",
      "Training Score: 0.9994\n",
      "Testing Score: 0.822 \n",
      "\n",
      "Accuracy: 0.822\n",
      "Specificity: 0.8871\n",
      "Precision: 0.8051\n",
      "Recall: 0.7213\n",
      "F1 Score: 0.7609 \n",
      "\n",
      "Best accuracy rate confusion matrix:\n"
     ]
    },
    {
     "data": {
      "image/png": "[encoded data removed]",
      "text/plain": [
       "<Figure size 432x288 with 2 Axes>"
      ]
     },
     "metadata": {
      "needs_background": "light"
     },
     "output_type": "display_data"
    }
   ],
   "source": [
    "# KNN\n",
    "fl_knn = KNeighborsClassifier()\n",
    "params = {\n",
    "    'n_neighbors': [3, 5, 8],\n",
    "    'weights': ['uniform', 'distance'],\n",
    "    'metric': ['minkowski', 'manhattan', 'euclidean']\n",
    "}\n",
    "\n",
    "model_trials('FL', X, y, fl_knn, 'knn', gs_params = params);"
   ]
  },
  {
   "cell_type": "markdown",
   "metadata": {},
   "source": [
    "- Very impressive training score - almost perfect!\n",
    "- Unfortunately, as we might expect with KNN at higher dimensionality, we're pretty severely overfit\n",
    "- Specificity is still a solid 0.89"
   ]
  },
  {
   "cell_type": "code",
   "execution_count": 34,
   "metadata": {},
   "outputs": [
    {
     "name": "stdout",
     "output_type": "stream",
     "text": [
      "Dataset: FL\n",
      "Model ID: bag\n",
      "Model Params: {'n_estimators': 20}\n",
      "Training Score: 0.9965\n",
      "Testing Score: 0.8638 \n",
      "\n",
      "Accuracy: 0.8638\n",
      "Specificity: 0.8786\n",
      "Precision: 0.8174\n",
      "Recall: 0.8409\n",
      "F1 Score: 0.829 \n",
      "\n",
      "Best accuracy rate confusion matrix:\n"
     ]
    },
    {
     "data": {
      "image/png": "[encoded data removed]",
      "text/plain": [
       "<Figure size 432x288 with 2 Axes>"
      ]
     },
     "metadata": {
      "needs_background": "light"
     },
     "output_type": "display_data"
    }
   ],
   "source": [
    "# Bagging\n",
    "fl_bag = BaggingClassifier()\n",
    "params = {\n",
    "    'n_estimators': [10, 20]\n",
    "}\n",
    "\n",
    "model_trials('FL', X, y, fl_bag, 'bag', gs_params = params);"
   ]
  },
  {
   "cell_type": "markdown",
   "metadata": {},
   "source": [
    "ANALYSIS\n",
    "- Very similar performance to KNN, actually, though slightly less overfit\n",
    "- Specificity remains acceptable"
   ]
  },
  {
   "cell_type": "code",
   "execution_count": 35,
   "metadata": {},
   "outputs": [
    {
     "name": "stdout",
     "output_type": "stream",
     "text": [
      "Dataset: FL\n",
      "Model ID: rf\n",
      "Model Params: {'max_depth': 10, 'max_features': 'sqrt', 'min_samples_leaf': 2, 'min_samples_split': 4, 'n_estimators': 100}\n",
      "Training Score: 0.8916\n",
      "Testing Score: 0.8779 \n",
      "\n",
      "Accuracy: 0.8779\n",
      "Specificity: 0.8608\n",
      "Precision: 0.8077\n",
      "Recall: 0.9043\n",
      "F1 Score: 0.8533 \n",
      "\n",
      "Best accuracy rate confusion matrix:\n"
     ]
    },
    {
     "data": {
      "image/png": "[encoded data removed]",
      "text/plain": [
       "<Figure size 432x288 with 2 Axes>"
      ]
     },
     "metadata": {
      "needs_background": "light"
     },
     "output_type": "display_data"
    }
   ],
   "source": [
    "# Random Forest\n",
    "fl_rf = RandomForestClassifier()\n",
    "params = {\n",
    "    'n_estimators': [100, 150],\n",
    "    'max_features': ['sqrt', 'log2'],\n",
    "    'max_depth': [2, 5, 10],\n",
    "    'min_samples_split': [2, 4],\n",
    "    'min_samples_leaf': [1, 2]\n",
    "}\n",
    "\n",
    "model_trials('FL', X, y, fl_rf, 'rf', gs_params = params);"
   ]
  },
  {
   "cell_type": "markdown",
   "metadata": {},
   "source": [
    "ANALYSIS\n",
    "- Our best model so far! Shockingly low bias, very low variance as well\n",
    "- Specificity is still acceptable, although we are seeing a slight (0.01-0.02) drop"
   ]
  },
  {
   "cell_type": "code",
   "execution_count": 36,
   "metadata": {},
   "outputs": [
    {
     "name": "stdout",
     "output_type": "stream",
     "text": [
      "Dataset: FL\n",
      "Model ID: ada\n",
      "Model Params: {'learning_rate': 1, 'n_estimators': 100}\n",
      "Training Score: 0.8638\n",
      "Testing Score: 0.8661 \n",
      "\n",
      "Accuracy: 0.8661\n",
      "Specificity: 0.8592\n",
      "Precision: 0.8011\n",
      "Recall: 0.8768\n",
      "F1 Score: 0.8372 \n",
      "\n",
      "Best accuracy rate confusion matrix:\n"
     ]
    },
    {
     "data": {
      "image/png": "[encoded data removed]",
      "text/plain": [
       "<Figure size 432x288 with 2 Axes>"
      ]
     },
     "metadata": {
      "needs_background": "light"
     },
     "output_type": "display_data"
    }
   ],
   "source": [
    "# AdaBoost\n",
    "fl_ada = AdaBoostClassifier()\n",
    "params = {\n",
    "    'n_estimators': [50, 100],\n",
    "    'learning_rate': [1, 5, 10]\n",
    "}\n",
    "\n",
    "model_trials('FL', X, y, fl_ada, 'ada', gs_params = params);"
   ]
  },
  {
   "cell_type": "markdown",
   "metadata": {},
   "source": [
    "ANALYSIS\n",
    "- Very low variance, but bias is a bit lackluster compared to Random Forest\n",
    "- Specificity is also lower than previous models"
   ]
  },
  {
   "cell_type": "code",
   "execution_count": 37,
   "metadata": {},
   "outputs": [
    {
     "name": "stdout",
     "output_type": "stream",
     "text": [
      "Dataset: FL\n",
      "Model ID: grad\n",
      "Model Params: {'learning_rate': 0.1, 'max_depth': 3, 'min_samples_leaf': 1, 'min_samples_split': 2, 'n_estimators': 150, 'subsample': 1.0}\n",
      "Training Score: 0.8866\n",
      "Testing Score: 0.8816 \n",
      "\n",
      "Accuracy: 0.8816\n",
      "Specificity: 0.8716\n",
      "Precision: 0.8188\n",
      "Recall: 0.8971\n",
      "F1 Score: 0.8562 \n",
      "\n",
      "Best accuracy rate confusion matrix:\n"
     ]
    },
    {
     "data": {
      "image/png": "[encoded data removed]",
      "text/plain": [
       "<Figure size 432x288 with 2 Axes>"
      ]
     },
     "metadata": {
      "needs_background": "light"
     },
     "output_type": "display_data"
    }
   ],
   "source": [
    "# GradientBoost\n",
    "fl_grad = GradientBoostingClassifier()\n",
    "params = {\n",
    "    'n_estimators': [100, 150],\n",
    "    'subsample': [0.7, 1.0],\n",
    "    'learning_rate': [0.1, 1, 10],\n",
    "    'max_depth': [3, 10],\n",
    "    'min_samples_split': [2, 4],\n",
    "    'min_samples_leaf': [1, 2]\n",
    "}\n",
    "\n",
    "model_trials('FL', X, y, fl_grad, 'grad', gs_params = params);"
   ]
  },
  {
   "cell_type": "markdown",
   "metadata": {},
   "source": [
    "ANALYSIS\n",
    "- This model now looks to be in the lead - it has a tiny bit more bias than the Random Forest, but essentially no variance\n",
    "- Specificity is also a bit higher - about 0.87 - definitely within acceptable limits"
   ]
  },
  {
   "cell_type": "code",
   "execution_count": 38,
   "metadata": {},
   "outputs": [
    {
     "data": {
      "text/plain": [
       "(10645, 34)"
      ]
     },
     "execution_count": 38,
     "metadata": {},
     "output_type": "execute_result"
    }
   ],
   "source": [
    "# checking input shape for neural networks\n",
    "X.shape"
   ]
  },
  {
   "cell_type": "code",
   "execution_count": 40,
   "metadata": {},
   "outputs": [
    {
     "name": "stdout",
     "output_type": "stream",
     "text": [
      "67/67 [==============================] - 0s 978us/step\n",
      "Dataset: FL\n",
      "Model ID: fnn1\n",
      "Model Params: {'epochs': 20, 'batch_size': 256}\n",
      "Training Score: 0.8525\n",
      "Testing Score: 0.8544 \n",
      "\n",
      "Accuracy: 0.8544\n",
      "Specificity: 0.8616\n",
      "Precision: 0.7975\n",
      "Recall: 0.8433\n",
      "F1 Score: 0.8198 \n",
      "\n",
      "Best accuracy rate confusion matrix:\n"
     ]
    },
    {
     "data": {
      "image/png": "[encoded data removed]",
      "text/plain": [
       "<Figure size 432x288 with 2 Axes>"
      ]
     },
     "metadata": {
      "needs_background": "light"
     },
     "output_type": "display_data"
    }
   ],
   "source": [
    "# FNN w/layer of 32 and layer of 16 neurons\n",
    "fl_fnn1 = Sequential()\n",
    "fl_fnn1.add(Dense(units = 32, activation = 'relu', input_shape = (34, )))\n",
    "fl_fnn1.add(Dense(units = 16, activation = 'relu'))\n",
    "fl_fnn1.add(Dense(units = 1, activation = 'sigmoid'))\n",
    "\n",
    "fl_fnn1.compile(optimizer = 'adam', loss = 'bce', metrics = ['accuracy'])\n",
    "\n",
    "model_trials_nn('FL', X, y, fl_fnn1, 'fnn1', epochs = 20, batch_size = 256);"
   ]
  },
  {
   "cell_type": "markdown",
   "metadata": {},
   "source": [
    "ANALYSIS\n",
    "- Very solid performance, essentially no variance, accuracy of around 0.85 on both train and test\n",
    "- Specificity is a bit on the low side compared to most of our other models\n",
    "- Doesn't quite come up to the bar set by the GradientBoost\n",
    "- We will try a few regularization techniques out of curiosity, but given the extremely low variance of this initial neural network, we probably won't be able to improve on these scores"
   ]
  },
  {
   "cell_type": "code",
   "execution_count": 41,
   "metadata": {},
   "outputs": [
    {
     "name": "stdout",
     "output_type": "stream",
     "text": [
      "67/67 [==============================] - 0s 1ms/step\n",
      "Dataset: FL\n",
      "Model ID: fnn2\n",
      "Model Params: {'epochs': 20, 'batch_size': 256}\n",
      "Training Score: 0.8473\n",
      "Testing Score: 0.8488 \n",
      "\n",
      "Accuracy: 0.8488\n",
      "Specificity: 0.8662\n",
      "Precision: 0.7988\n",
      "Recall: 0.8218\n",
      "F1 Score: 0.8101 \n",
      "\n",
      "Best accuracy rate confusion matrix:\n"
     ]
    },
    {
     "data": {
      "image/png": "[encoded data removed]",
      "text/plain": [
       "<Figure size 432x288 with 2 Axes>"
      ]
     },
     "metadata": {
      "needs_background": "light"
     },
     "output_type": "display_data"
    }
   ],
   "source": [
    "# L2-regularized version\n",
    "fl_fnn2 = Sequential()\n",
    "fl_fnn2.add(Dense(units = 32, activation = 'relu', input_shape = (34, ),\n",
    "    kernel_regularizer = l2(0.005)))\n",
    "fl_fnn2.add(Dense(units = 16, activation = 'relu', kernel_regularizer = l2(0.005)))\n",
    "fl_fnn2.add(Dense(units = 1, activation = 'sigmoid'))\n",
    "\n",
    "fl_fnn2.compile(optimizer = 'adam', loss = 'bce', metrics = ['accuracy'])\n",
    "\n",
    "model_trials_nn('FL', X, y, fl_fnn2, 'fnn2', epochs = 20, batch_size = 256);"
   ]
  },
  {
   "cell_type": "markdown",
   "metadata": {},
   "source": [
    "ANALYSIS\n",
    "- As expected, a tiny increase in bias, specificity remains essentially the same as the initial neural network"
   ]
  },
  {
   "cell_type": "code",
   "execution_count": 42,
   "metadata": {},
   "outputs": [
    {
     "name": "stdout",
     "output_type": "stream",
     "text": [
      "67/67 [==============================] - 0s 1ms/step\n",
      "Dataset: FL\n",
      "Model ID: fnn3\n",
      "Model Params: {'epochs': 20, 'batch_size': 256}\n",
      "Training Score: 0.8415\n",
      "Testing Score: 0.8473 \n",
      "\n",
      "Accuracy: 0.8473\n",
      "Specificity: 0.8616\n",
      "Precision: 0.794\n",
      "Recall: 0.8254\n",
      "F1 Score: 0.8094 \n",
      "\n",
      "Best accuracy rate confusion matrix:\n"
     ]
    },
    {
     "data": {
      "image/png": "[encoded data removed]",
      "text/plain": [
       "<Figure size 432x288 with 2 Axes>"
      ]
     },
     "metadata": {
      "needs_background": "light"
     },
     "output_type": "display_data"
    }
   ],
   "source": [
    "# L2 + Dropouts\n",
    "fl_fnn3 = Sequential()\n",
    "fl_fnn3.add(Dense(units = 32, activation = 'relu', input_shape = (34, ), kernel_regularizer = l2(0.005)))\n",
    "fl_fnn3.add(Dropout(rate = 0.3))\n",
    "fl_fnn3.add(Dense(units = 16, activation = 'relu', kernel_regularizer = l2(0.005)))\n",
    "fl_fnn3.add(Dropout(rate = 0.3))\n",
    "fl_fnn3.add(Dense(units = 1, activation = 'sigmoid'))\n",
    "\n",
    "fl_fnn3.compile(optimizer = 'adam', loss = 'bce', metrics = ['accuracy'])\n",
    "\n",
    "model_trials_nn('FL', X, y, fl_fnn3, 'fnn3', epochs = 20, batch_size = 256);"
   ]
  },
  {
   "cell_type": "markdown",
   "metadata": {},
   "source": [
    "ANALYSIS\n",
    "- Very similar again - no noticeable improvement"
   ]
  },
  {
   "cell_type": "code",
   "execution_count": 43,
   "metadata": {},
   "outputs": [
    {
     "name": "stdout",
     "output_type": "stream",
     "text": [
      "67/67 [==============================] - 0s 1ms/step\n",
      "Dataset: FL\n",
      "Model ID: fnn4\n",
      "Model Params: {'epochs': 20, 'batch_size': 256}\n",
      "Training Score: 0.8463\n",
      "Testing Score: 0.8506 \n",
      "\n",
      "Accuracy: 0.8506\n",
      "Specificity: 0.8732\n",
      "Precision: 0.8061\n",
      "Recall: 0.8158\n",
      "F1 Score: 0.8109 \n",
      "\n",
      "Best accuracy rate confusion matrix:\n"
     ]
    },
    {
     "data": {
      "image/png": "[encoded data removed]",
      "text/plain": [
       "<Figure size 432x288 with 2 Axes>"
      ]
     },
     "metadata": {
      "needs_background": "light"
     },
     "output_type": "display_data"
    }
   ],
   "source": [
    "# L2 + early stopping\n",
    "es = EarlyStopping(patience = 5)\n",
    "fl_fnn4 = Sequential()\n",
    "fl_fnn4.add(Dense(units = 32, activation = 'relu', input_shape = (34, ),\n",
    "    kernel_regularizer = l2(0.005)))\n",
    "fl_fnn4.add(Dense(units = 16, activation = 'relu', kernel_regularizer = l2(0.005)))\n",
    "fl_fnn4.add(Dense(units = 1, activation = 'sigmoid'))\n",
    "\n",
    "fl_fnn4.compile(optimizer = 'adam', loss = 'bce', metrics = ['accuracy'])\n",
    "\n",
    "model_trials_nn('FL', X, y, fl_fnn4, 'fnn4', epochs = 20, batch_size = 256, callbacks = [es]);"
   ]
  },
  {
   "cell_type": "markdown",
   "metadata": {},
   "source": [
    "ANALYSIS\n",
    "- Again, no noticeable improvement over initial neural network"
   ]
  },
  {
   "cell_type": "markdown",
   "metadata": {},
   "source": [
    "CONCLUSIONS\n",
    "- We will probably be using the tuned GradientBoost as our production model for FL, but we will perform a bit of additional inspection in the final notebook to ensure that this is the best choice.\n",
    "- Pleased to see that the FNN made a solid showing in this bunch, although the non-neural-net tuned models have a slight edge."
   ]
  },
  {
   "cell_type": "markdown",
   "metadata": {},
   "source": [
    "---\n",
    "**Model 3: Behavioral feature set - Georgia**"
   ]
  },
  {
   "cell_type": "code",
   "execution_count": 113,
   "metadata": {},
   "outputs": [
    {
     "data": {
      "text/html": [
       "<div>\n",
       "<style scoped>\n",
       "    .dataframe tbody tr th:only-of-type {\n",
       "        vertical-align: middle;\n",
       "    }\n",
       "\n",
       "    .dataframe tbody tr th {\n",
       "        vertical-align: top;\n",
       "    }\n",
       "\n",
       "    .dataframe thead th {\n",
       "        text-align: right;\n",
       "    }\n",
       "</style>\n",
       "<table border=\"1\" class=\"dataframe\">\n",
       "  <thead>\n",
       "    <tr style=\"text-align: right;\">\n",
       "      <th></th>\n",
       "      <th>gender_male</th>\n",
       "      <th>age_at_release</th>\n",
       "      <th>gang_affiliated</th>\n",
       "      <th>supervision_risk_score_first</th>\n",
       "      <th>education_level</th>\n",
       "      <th>dependents</th>\n",
       "      <th>prison_years</th>\n",
       "      <th>prior_arrest_episodes_felony</th>\n",
       "      <th>prior_arrest_episodes_misd</th>\n",
       "      <th>prior_arrest_episodes_violent</th>\n",
       "      <th>...</th>\n",
       "      <th>delinquency_reports</th>\n",
       "      <th>program_attendances</th>\n",
       "      <th>residence_changes</th>\n",
       "      <th>avg_days_per_drugtest</th>\n",
       "      <th>drugtests_thc_positive</th>\n",
       "      <th>drugtests_cocaine_positive</th>\n",
       "      <th>drugtests_meth_positive</th>\n",
       "      <th>drugtests_other_positive</th>\n",
       "      <th>percent_days_employed</th>\n",
       "      <th>recidivism_within_3years</th>\n",
       "    </tr>\n",
       "  </thead>\n",
       "  <tbody>\n",
       "    <tr>\n",
       "      <th>0</th>\n",
       "      <td>1</td>\n",
       "      <td>43-47</td>\n",
       "      <td>0</td>\n",
       "      <td>3.0</td>\n",
       "      <td>at least some college</td>\n",
       "      <td>3</td>\n",
       "      <td>more than 3 years</td>\n",
       "      <td>6</td>\n",
       "      <td>6</td>\n",
       "      <td>1</td>\n",
       "      <td>...</td>\n",
       "      <td>0</td>\n",
       "      <td>6</td>\n",
       "      <td>2</td>\n",
       "      <td>612.000000</td>\n",
       "      <td>0.000000</td>\n",
       "      <td>0.0</td>\n",
       "      <td>0.000000</td>\n",
       "      <td>0.0</td>\n",
       "      <td>0.488562</td>\n",
       "      <td>0</td>\n",
       "    </tr>\n",
       "    <tr>\n",
       "      <th>1</th>\n",
       "      <td>1</td>\n",
       "      <td>33-37</td>\n",
       "      <td>0</td>\n",
       "      <td>6.0</td>\n",
       "      <td>less than hs diploma</td>\n",
       "      <td>1</td>\n",
       "      <td>more than 3 years</td>\n",
       "      <td>7</td>\n",
       "      <td>6</td>\n",
       "      <td>3</td>\n",
       "      <td>...</td>\n",
       "      <td>4</td>\n",
       "      <td>0</td>\n",
       "      <td>2</td>\n",
       "      <td>35.666667</td>\n",
       "      <td>0.000000</td>\n",
       "      <td>0.0</td>\n",
       "      <td>0.000000</td>\n",
       "      <td>0.0</td>\n",
       "      <td>0.425234</td>\n",
       "      <td>1</td>\n",
       "    </tr>\n",
       "    <tr>\n",
       "      <th>2</th>\n",
       "      <td>1</td>\n",
       "      <td>48 or older</td>\n",
       "      <td>0</td>\n",
       "      <td>7.0</td>\n",
       "      <td>at least some college</td>\n",
       "      <td>3</td>\n",
       "      <td>1-2 years</td>\n",
       "      <td>6</td>\n",
       "      <td>6</td>\n",
       "      <td>3</td>\n",
       "      <td>...</td>\n",
       "      <td>4</td>\n",
       "      <td>6</td>\n",
       "      <td>0</td>\n",
       "      <td>93.666667</td>\n",
       "      <td>0.333333</td>\n",
       "      <td>0.0</td>\n",
       "      <td>0.166667</td>\n",
       "      <td>0.0</td>\n",
       "      <td>0.000000</td>\n",
       "      <td>1</td>\n",
       "    </tr>\n",
       "    <tr>\n",
       "      <th>3</th>\n",
       "      <td>1</td>\n",
       "      <td>38-42</td>\n",
       "      <td>0</td>\n",
       "      <td>7.0</td>\n",
       "      <td>less than hs diploma</td>\n",
       "      <td>1</td>\n",
       "      <td>1-2 years</td>\n",
       "      <td>8</td>\n",
       "      <td>6</td>\n",
       "      <td>0</td>\n",
       "      <td>...</td>\n",
       "      <td>0</td>\n",
       "      <td>6</td>\n",
       "      <td>3</td>\n",
       "      <td>25.400000</td>\n",
       "      <td>0.000000</td>\n",
       "      <td>0.0</td>\n",
       "      <td>0.000000</td>\n",
       "      <td>0.0</td>\n",
       "      <td>1.000000</td>\n",
       "      <td>0</td>\n",
       "    </tr>\n",
       "    <tr>\n",
       "      <th>4</th>\n",
       "      <td>1</td>\n",
       "      <td>33-37</td>\n",
       "      <td>0</td>\n",
       "      <td>4.0</td>\n",
       "      <td>less than hs diploma</td>\n",
       "      <td>3</td>\n",
       "      <td>1-2 years</td>\n",
       "      <td>4</td>\n",
       "      <td>4</td>\n",
       "      <td>3</td>\n",
       "      <td>...</td>\n",
       "      <td>0</td>\n",
       "      <td>7</td>\n",
       "      <td>0</td>\n",
       "      <td>23.117647</td>\n",
       "      <td>0.000000</td>\n",
       "      <td>0.0</td>\n",
       "      <td>0.058824</td>\n",
       "      <td>0.0</td>\n",
       "      <td>0.203562</td>\n",
       "      <td>1</td>\n",
       "    </tr>\n",
       "  </tbody>\n",
       "</table>\n",
       "<p>5 rows × 32 columns</p>\n",
       "</div>"
      ],
      "text/plain": [
       "   gender_male age_at_release  gang_affiliated  supervision_risk_score_first  \\\n",
       "0            1          43-47                0                           3.0   \n",
       "1            1          33-37                0                           6.0   \n",
       "2            1    48 or older                0                           7.0   \n",
       "3            1          38-42                0                           7.0   \n",
       "4            1          33-37                0                           4.0   \n",
       "\n",
       "         education_level  dependents       prison_years  \\\n",
       "0  at least some college           3  more than 3 years   \n",
       "1   less than hs diploma           1  more than 3 years   \n",
       "2  at least some college           3          1-2 years   \n",
       "3   less than hs diploma           1          1-2 years   \n",
       "4   less than hs diploma           3          1-2 years   \n",
       "\n",
       "   prior_arrest_episodes_felony  prior_arrest_episodes_misd  \\\n",
       "0                             6                           6   \n",
       "1                             7                           6   \n",
       "2                             6                           6   \n",
       "3                             8                           6   \n",
       "4                             4                           4   \n",
       "\n",
       "   prior_arrest_episodes_violent  ...  delinquency_reports  \\\n",
       "0                              1  ...                    0   \n",
       "1                              3  ...                    4   \n",
       "2                              3  ...                    4   \n",
       "3                              0  ...                    0   \n",
       "4                              3  ...                    0   \n",
       "\n",
       "   program_attendances  residence_changes  avg_days_per_drugtest  \\\n",
       "0                    6                  2             612.000000   \n",
       "1                    0                  2              35.666667   \n",
       "2                    6                  0              93.666667   \n",
       "3                    6                  3              25.400000   \n",
       "4                    7                  0              23.117647   \n",
       "\n",
       "   drugtests_thc_positive  drugtests_cocaine_positive  \\\n",
       "0                0.000000                         0.0   \n",
       "1                0.000000                         0.0   \n",
       "2                0.333333                         0.0   \n",
       "3                0.000000                         0.0   \n",
       "4                0.000000                         0.0   \n",
       "\n",
       "   drugtests_meth_positive  drugtests_other_positive  percent_days_employed  \\\n",
       "0                 0.000000                       0.0               0.488562   \n",
       "1                 0.000000                       0.0               0.425234   \n",
       "2                 0.166667                       0.0               0.000000   \n",
       "3                 0.000000                       0.0               1.000000   \n",
       "4                 0.058824                       0.0               0.203562   \n",
       "\n",
       "   recidivism_within_3years  \n",
       "0                         0  \n",
       "1                         1  \n",
       "2                         1  \n",
       "3                         0  \n",
       "4                         1  \n",
       "\n",
       "[5 rows x 32 columns]"
      ]
     },
     "execution_count": 113,
     "metadata": {},
     "output_type": "execute_result"
    }
   ],
   "source": [
    "# Reading in the cleaned Georgia data file\n",
    "\n",
    "ga = pd.read_csv('../data/GA/GA_final.csv')\n",
    "ga.drop(columns='Unnamed: 0', inplace=True)\n",
    "ga.head()"
   ]
  },
  {
   "cell_type": "markdown",
   "metadata": {},
   "source": [
    "##### Dummifying Categorical Columns"
   ]
  },
  {
   "cell_type": "code",
   "execution_count": 114,
   "metadata": {},
   "outputs": [
    {
     "name": "stdout",
     "output_type": "stream",
     "text": [
      "(24426, 43)\n"
     ]
    },
    {
     "data": {
      "text/html": [
       "<div>\n",
       "<style scoped>\n",
       "    .dataframe tbody tr th:only-of-type {\n",
       "        vertical-align: middle;\n",
       "    }\n",
       "\n",
       "    .dataframe tbody tr th {\n",
       "        vertical-align: top;\n",
       "    }\n",
       "\n",
       "    .dataframe thead th {\n",
       "        text-align: right;\n",
       "    }\n",
       "</style>\n",
       "<table border=\"1\" class=\"dataframe\">\n",
       "  <thead>\n",
       "    <tr style=\"text-align: right;\">\n",
       "      <th></th>\n",
       "      <th>gender_male</th>\n",
       "      <th>gang_affiliated</th>\n",
       "      <th>supervision_risk_score_first</th>\n",
       "      <th>dependents</th>\n",
       "      <th>prior_arrest_episodes_felony</th>\n",
       "      <th>prior_arrest_episodes_misd</th>\n",
       "      <th>prior_arrest_episodes_violent</th>\n",
       "      <th>prior_arrest_episodes_property</th>\n",
       "      <th>prior_arrest_episodes_drug</th>\n",
       "      <th>prior_arrest_episodes_ppviolationcharges</th>\n",
       "      <th>...</th>\n",
       "      <th>age_at_release_38-42</th>\n",
       "      <th>age_at_release_43-47</th>\n",
       "      <th>age_at_release_48 or older</th>\n",
       "      <th>education_level_at least some college</th>\n",
       "      <th>education_level_high school diploma</th>\n",
       "      <th>education_level_less than hs diploma</th>\n",
       "      <th>prison_years_1-2 years</th>\n",
       "      <th>prison_years_greater than 2 to 3 years</th>\n",
       "      <th>prison_years_less than 1 year</th>\n",
       "      <th>prison_years_more than 3 years</th>\n",
       "    </tr>\n",
       "  </thead>\n",
       "  <tbody>\n",
       "    <tr>\n",
       "      <th>0</th>\n",
       "      <td>1</td>\n",
       "      <td>0</td>\n",
       "      <td>3.0</td>\n",
       "      <td>3</td>\n",
       "      <td>6</td>\n",
       "      <td>6</td>\n",
       "      <td>1</td>\n",
       "      <td>3</td>\n",
       "      <td>3</td>\n",
       "      <td>4</td>\n",
       "      <td>...</td>\n",
       "      <td>0</td>\n",
       "      <td>1</td>\n",
       "      <td>0</td>\n",
       "      <td>1</td>\n",
       "      <td>0</td>\n",
       "      <td>0</td>\n",
       "      <td>0</td>\n",
       "      <td>0</td>\n",
       "      <td>0</td>\n",
       "      <td>1</td>\n",
       "    </tr>\n",
       "    <tr>\n",
       "      <th>1</th>\n",
       "      <td>1</td>\n",
       "      <td>0</td>\n",
       "      <td>6.0</td>\n",
       "      <td>1</td>\n",
       "      <td>7</td>\n",
       "      <td>6</td>\n",
       "      <td>3</td>\n",
       "      <td>0</td>\n",
       "      <td>3</td>\n",
       "      <td>5</td>\n",
       "      <td>...</td>\n",
       "      <td>0</td>\n",
       "      <td>0</td>\n",
       "      <td>0</td>\n",
       "      <td>0</td>\n",
       "      <td>0</td>\n",
       "      <td>1</td>\n",
       "      <td>0</td>\n",
       "      <td>0</td>\n",
       "      <td>0</td>\n",
       "      <td>1</td>\n",
       "    </tr>\n",
       "    <tr>\n",
       "      <th>2</th>\n",
       "      <td>1</td>\n",
       "      <td>0</td>\n",
       "      <td>7.0</td>\n",
       "      <td>3</td>\n",
       "      <td>6</td>\n",
       "      <td>6</td>\n",
       "      <td>3</td>\n",
       "      <td>2</td>\n",
       "      <td>2</td>\n",
       "      <td>5</td>\n",
       "      <td>...</td>\n",
       "      <td>0</td>\n",
       "      <td>0</td>\n",
       "      <td>1</td>\n",
       "      <td>1</td>\n",
       "      <td>0</td>\n",
       "      <td>0</td>\n",
       "      <td>1</td>\n",
       "      <td>0</td>\n",
       "      <td>0</td>\n",
       "      <td>0</td>\n",
       "    </tr>\n",
       "    <tr>\n",
       "      <th>3</th>\n",
       "      <td>1</td>\n",
       "      <td>0</td>\n",
       "      <td>7.0</td>\n",
       "      <td>1</td>\n",
       "      <td>8</td>\n",
       "      <td>6</td>\n",
       "      <td>0</td>\n",
       "      <td>3</td>\n",
       "      <td>3</td>\n",
       "      <td>3</td>\n",
       "      <td>...</td>\n",
       "      <td>1</td>\n",
       "      <td>0</td>\n",
       "      <td>0</td>\n",
       "      <td>0</td>\n",
       "      <td>0</td>\n",
       "      <td>1</td>\n",
       "      <td>1</td>\n",
       "      <td>0</td>\n",
       "      <td>0</td>\n",
       "      <td>0</td>\n",
       "    </tr>\n",
       "    <tr>\n",
       "      <th>4</th>\n",
       "      <td>1</td>\n",
       "      <td>0</td>\n",
       "      <td>4.0</td>\n",
       "      <td>3</td>\n",
       "      <td>4</td>\n",
       "      <td>4</td>\n",
       "      <td>3</td>\n",
       "      <td>2</td>\n",
       "      <td>1</td>\n",
       "      <td>3</td>\n",
       "      <td>...</td>\n",
       "      <td>0</td>\n",
       "      <td>0</td>\n",
       "      <td>0</td>\n",
       "      <td>0</td>\n",
       "      <td>0</td>\n",
       "      <td>1</td>\n",
       "      <td>1</td>\n",
       "      <td>0</td>\n",
       "      <td>0</td>\n",
       "      <td>0</td>\n",
       "    </tr>\n",
       "  </tbody>\n",
       "</table>\n",
       "<p>5 rows × 43 columns</p>\n",
       "</div>"
      ],
      "text/plain": [
       "   gender_male  gang_affiliated  supervision_risk_score_first  dependents  \\\n",
       "0            1                0                           3.0           3   \n",
       "1            1                0                           6.0           1   \n",
       "2            1                0                           7.0           3   \n",
       "3            1                0                           7.0           1   \n",
       "4            1                0                           4.0           3   \n",
       "\n",
       "   prior_arrest_episodes_felony  prior_arrest_episodes_misd  \\\n",
       "0                             6                           6   \n",
       "1                             7                           6   \n",
       "2                             6                           6   \n",
       "3                             8                           6   \n",
       "4                             4                           4   \n",
       "\n",
       "   prior_arrest_episodes_violent  prior_arrest_episodes_property  \\\n",
       "0                              1                               3   \n",
       "1                              3                               0   \n",
       "2                              3                               2   \n",
       "3                              0                               3   \n",
       "4                              3                               2   \n",
       "\n",
       "   prior_arrest_episodes_drug  prior_arrest_episodes_ppviolationcharges  ...  \\\n",
       "0                           3                                         4  ...   \n",
       "1                           3                                         5  ...   \n",
       "2                           2                                         5  ...   \n",
       "3                           3                                         3  ...   \n",
       "4                           1                                         3  ...   \n",
       "\n",
       "   age_at_release_38-42  age_at_release_43-47  age_at_release_48 or older  \\\n",
       "0                     0                     1                           0   \n",
       "1                     0                     0                           0   \n",
       "2                     0                     0                           1   \n",
       "3                     1                     0                           0   \n",
       "4                     0                     0                           0   \n",
       "\n",
       "   education_level_at least some college  education_level_high school diploma  \\\n",
       "0                                      1                                    0   \n",
       "1                                      0                                    0   \n",
       "2                                      1                                    0   \n",
       "3                                      0                                    0   \n",
       "4                                      0                                    0   \n",
       "\n",
       "   education_level_less than hs diploma  prison_years_1-2 years  \\\n",
       "0                                     0                       0   \n",
       "1                                     1                       0   \n",
       "2                                     0                       1   \n",
       "3                                     1                       1   \n",
       "4                                     1                       1   \n",
       "\n",
       "   prison_years_greater than 2 to 3 years  prison_years_less than 1 year  \\\n",
       "0                                       0                              0   \n",
       "1                                       0                              0   \n",
       "2                                       0                              0   \n",
       "3                                       0                              0   \n",
       "4                                       0                              0   \n",
       "\n",
       "   prison_years_more than 3 years  \n",
       "0                               1  \n",
       "1                               1  \n",
       "2                               0  \n",
       "3                               0  \n",
       "4                               0  \n",
       "\n",
       "[5 rows x 43 columns]"
      ]
     },
     "execution_count": 114,
     "metadata": {},
     "output_type": "execute_result"
    }
   ],
   "source": [
    "cat_cols = ga.select_dtypes(include='object').columns\n",
    "\n",
    "ga_dummy = pd.get_dummies(ga, columns=cat_cols)\n",
    "print(ga_dummy.shape)\n",
    "ga_dummy.head()"
   ]
  },
  {
   "cell_type": "code",
   "execution_count": 46,
   "metadata": {},
   "outputs": [],
   "source": [
    "ga_dummy.to_csv('../data/GA/georgia_dummy.csv')"
   ]
  },
  {
   "cell_type": "markdown",
   "metadata": {},
   "source": [
    "##### Establishing the Baseline"
   ]
  },
  {
   "cell_type": "code",
   "execution_count": 115,
   "metadata": {},
   "outputs": [
    {
     "data": {
      "text/plain": [
       "1    0.596496\n",
       "0    0.403504\n",
       "Name: recidivism_within_3years, dtype: float64"
      ]
     },
     "execution_count": 115,
     "metadata": {},
     "output_type": "execute_result"
    }
   ],
   "source": [
    "X = ga_dummy.drop(columns='recidivism_within_3years')\n",
    "y = ga_dummy['recidivism_within_3years']\n",
    "\n",
    "y.value_counts(normalize=True)"
   ]
  },
  {
   "cell_type": "markdown",
   "metadata": {},
   "source": [
    "This baseline is telling us that if we predicted that all observations in this list would recidivate, we could reasonably expect be correct 59.65% of the time.\n",
    "\n",
    "Depending on the usage of our model, the metrics we want to optimize for are overall accuracy and specificity. "
   ]
  },
  {
   "cell_type": "markdown",
   "metadata": {},
   "source": [
    "##### Logistic Regression"
   ]
  },
  {
   "cell_type": "code",
   "execution_count": 116,
   "metadata": {},
   "outputs": [
    {
     "name": "stdout",
     "output_type": "stream",
     "text": [
      "Dataset: GA\n",
      "Model ID: logreg\n",
      "Model Params: {'C': 1.0, 'class_weight': None, 'dual': False, 'fit_intercept': True, 'intercept_scaling': 1, 'l1_ratio': None, 'max_iter': 5000, 'multi_class': 'auto', 'n_jobs': None, 'penalty': 'l2', 'random_state': None, 'solver': 'saga', 'tol': 0.0001, 'verbose': 0, 'warm_start': False}\n",
      "Training Score: 0.7097\n",
      "Testing Score: 0.6965 \n",
      "\n",
      "Accuracy: 0.6965\n",
      "Specificity: 0.5218\n",
      "Precision: 0.7157\n",
      "Recall: 0.8147\n",
      "F1 Score: 0.762 \n",
      "\n",
      "Best accuracy rate confusion matrix:\n"
     ]
    },
    {
     "data": {
      "image/png": "[encoded data removed]",
      "text/plain": [
       "<Figure size 432x288 with 2 Axes>"
      ]
     },
     "metadata": {
      "needs_background": "light"
     },
     "output_type": "display_data"
    }
   ],
   "source": [
    "ga_log_reg = LogisticRegression(solver='saga', max_iter = 5000)\n",
    "\n",
    "model_trials('GA', X, y, ga_log_reg, 'logreg');"
   ]
  },
  {
   "cell_type": "markdown",
   "metadata": {},
   "source": [
    "ANALYSIS\n",
    "\n",
    "This model performed better than the baseline by about 10%, but is struggling with correctly predicting the non-recidivist observations (0 class). This may be a result of the data, or could have to do with the distribution of the data (slight lean towards recidivism = True). \n",
    "\n",
    "If we see similar misclassifications in some or most of the subsequent models, it may be necessary to rebalance the data via undersampling or resampling with synthetic data points."
   ]
  },
  {
   "cell_type": "markdown",
   "metadata": {},
   "source": [
    "##### Multinomial Naive Bayes"
   ]
  },
  {
   "cell_type": "code",
   "execution_count": 117,
   "metadata": {},
   "outputs": [
    {
     "name": "stdout",
     "output_type": "stream",
     "text": [
      "Dataset: GA\n",
      "Model ID: mnb\n",
      "Model Params: {'alpha': 1.0, 'class_prior': None, 'fit_prior': True}\n",
      "Training Score: 0.6118\n",
      "Testing Score: 0.6081 \n",
      "\n",
      "Accuracy: 0.6081\n",
      "Specificity: 0.4255\n",
      "Precision: 0.653\n",
      "Recall: 0.7316\n",
      "F1 Score: 0.6901 \n",
      "\n",
      "Best accuracy rate confusion matrix:\n"
     ]
    },
    {
     "data": {
      "image/png": "[encoded data removed]",
      "text/plain": [
       "<Figure size 432x288 with 2 Axes>"
      ]
     },
     "metadata": {
      "needs_background": "light"
     },
     "output_type": "display_data"
    }
   ],
   "source": [
    "ga_mnb = MultinomialNB()\n",
    "\n",
    "model_trials('GA', X, y, ga_mnb, 'mnb');"
   ]
  },
  {
   "cell_type": "markdown",
   "metadata": {},
   "source": [
    "ANALYSIS\n",
    "\n",
    "This MNB model performed surprisingly poorly and had significantly more false positives and false negatives relative to the Logistic Regression model. \n",
    "\n",
    "One possible explanation is that NB classifiers operate on the principle that the presence of one feature does not affect the presence of another. This assumption is not true of this dataset - many features are highly correlated and the presence of 'age_at_release_33-37', for example, would directly result in the absence of a true value in the 'age_at_release_48 or older' column. \n",
    "\n",
    "In this case, the model is running on an assumption that is categorically false and would likely run into issues, even in a binary classification model. "
   ]
  },
  {
   "cell_type": "markdown",
   "metadata": {},
   "source": [
    "##### KNN Classifier"
   ]
  },
  {
   "cell_type": "code",
   "execution_count": 118,
   "metadata": {},
   "outputs": [
    {
     "name": "stdout",
     "output_type": "stream",
     "text": [
      "Dataset: GA\n",
      "Model ID: knn\n",
      "Model Params: {'memory': None, 'steps': [('ss', StandardScaler()), ('knn', KNeighborsClassifier())], 'verbose': False, 'ss': StandardScaler(), 'knn': KNeighborsClassifier(), 'ss__copy': True, 'ss__with_mean': True, 'ss__with_std': True, 'knn__algorithm': 'auto', 'knn__leaf_size': 30, 'knn__metric': 'minkowski', 'knn__metric_params': None, 'knn__n_jobs': None, 'knn__n_neighbors': 5, 'knn__p': 2, 'knn__weights': 'uniform'}\n",
      "Training Score: 0.7695\n",
      "Testing Score: 0.6502 \n",
      "\n",
      "Accuracy: 0.6502\n",
      "Specificity: 0.5345\n",
      "Precision: 0.6981\n",
      "Recall: 0.7286\n",
      "F1 Score: 0.713 \n",
      "\n",
      "Best accuracy rate confusion matrix:\n"
     ]
    },
    {
     "data": {
      "image/png": "[encoded data removed]",
      "text/plain": [
       "<Figure size 432x288 with 2 Axes>"
      ]
     },
     "metadata": {
      "needs_background": "light"
     },
     "output_type": "display_data"
    }
   ],
   "source": [
    "ga_knn = Pipeline([\n",
    "    ('ss', StandardScaler()),\n",
    "    ('knn', KNeighborsClassifier())\n",
    "])\n",
    "\n",
    "model_trials('GA', X, y, ga_knn, 'knn');"
   ]
  },
  {
   "cell_type": "markdown",
   "metadata": {},
   "source": [
    "ANALYSIS\n",
    "\n",
    "Despite the higher scores, the KNN model saw a handful more false negatives compared to the MNB model above. That being said, both models scored not much higher than the baseline and will likely not be used in the model tuning portion. \n",
    "\n",
    "Because KNN performs well with a low number of features, it's probable that the 42 features included in the dummy dataframe are creating too much noise for this model to read through. This, in addition to the fact that KNN uses the mode of the closest observations in a classification model (and our data is not evenly balanced) are two feasible explanations of the low scores seen here."
   ]
  },
  {
   "cell_type": "markdown",
   "metadata": {},
   "source": [
    "##### Decision Tree Classifier"
   ]
  },
  {
   "cell_type": "code",
   "execution_count": 119,
   "metadata": {},
   "outputs": [
    {
     "name": "stdout",
     "output_type": "stream",
     "text": [
      "Dataset: GA\n",
      "Model ID: dtree\n",
      "Model Params: {'ccp_alpha': 0.0, 'class_weight': None, 'criterion': 'gini', 'max_depth': None, 'max_features': None, 'max_leaf_nodes': None, 'min_impurity_decrease': 0.0, 'min_samples_leaf': 1, 'min_samples_split': 2, 'min_weight_fraction_leaf': 0.0, 'random_state': None, 'splitter': 'best'}\n",
      "Training Score: 1.0\n",
      "Testing Score: 0.6142 \n",
      "\n",
      "Accuracy: 0.6142\n",
      "Specificity: 0.5401\n",
      "Precision: 0.681\n",
      "Recall: 0.6644\n",
      "F1 Score: 0.6726 \n",
      "\n",
      "Best accuracy rate confusion matrix:\n"
     ]
    },
    {
     "data": {
      "image/png": "[encoded data removed]",
      "text/plain": [
       "<Figure size 432x288 with 2 Axes>"
      ]
     },
     "metadata": {
      "needs_background": "light"
     },
     "output_type": "display_data"
    }
   ],
   "source": [
    "ga_dtree = DecisionTreeClassifier()\n",
    "\n",
    "model_trials('GA', X, y, ga_dtree, 'dtree');"
   ]
  },
  {
   "cell_type": "markdown",
   "metadata": {},
   "source": [
    "ANALYSIS\n",
    "\n",
    "Depending on our evaluation metric, this model did or did not perform well. We're seeing a 0.62 accuracy score, which is not far above the baseline. However, we're also seeing the highest specificity score of the four models tested so far. By definition, this tells us that the Decision Tree model had the lowest number of false positives, and the greatest number of false negatives. \n",
    "\n",
    "Additionally, the model is very overfit. While adding max depth or min samples as hyperparameters would likely reduce the variance, we'd still expect a Random Forest or Bagging model to perform better in this context because both are adding randomness to the samples that the Decision Tree model does not."
   ]
  },
  {
   "cell_type": "markdown",
   "metadata": {},
   "source": [
    "##### Random Forest Classifier"
   ]
  },
  {
   "cell_type": "code",
   "execution_count": 120,
   "metadata": {},
   "outputs": [
    {
     "name": "stdout",
     "output_type": "stream",
     "text": [
      "Dataset: GA\n",
      "Model ID: rf\n",
      "Model Params: {'bootstrap': True, 'ccp_alpha': 0.0, 'class_weight': None, 'criterion': 'gini', 'max_depth': None, 'max_features': 'sqrt', 'max_leaf_nodes': None, 'max_samples': None, 'min_impurity_decrease': 0.0, 'min_samples_leaf': 1, 'min_samples_split': 2, 'min_weight_fraction_leaf': 0.0, 'n_estimators': 100, 'n_jobs': None, 'oob_score': False, 'random_state': None, 'verbose': 0, 'warm_start': False}\n",
      "Training Score: 1.0\n",
      "Testing Score: 0.7047 \n",
      "\n",
      "Accuracy: 0.7047\n",
      "Specificity: 0.5482\n",
      "Precision: 0.7261\n",
      "Recall: 0.8106\n",
      "F1 Score: 0.766 \n",
      "\n",
      "Best accuracy rate confusion matrix:\n"
     ]
    },
    {
     "data": {
      "image/png": "[encoded data removed]",
      "text/plain": [
       "<Figure size 432x288 with 2 Axes>"
      ]
     },
     "metadata": {
      "needs_background": "light"
     },
     "output_type": "display_data"
    }
   ],
   "source": [
    "ga_rf = RandomForestClassifier()\n",
    "\n",
    "model_trials('GA', X, y, ga_rf, 'rf');"
   ]
  },
  {
   "cell_type": "markdown",
   "metadata": {},
   "source": [
    "ANALYSIS\n",
    "\n",
    "This model is also very overfit, but significantly decreased the number of false negatives in comparison to the Decision Tree model above. We're seeing the specificity score on par with the prior trials, but the Random Forest model looks to have classified more similarly to the Logistic Regression model than DTree.\n",
    "\n",
    "The .705 score is our highest accuracy so far, and a strong contender for the upcoming model tuning."
   ]
  },
  {
   "cell_type": "markdown",
   "metadata": {},
   "source": [
    "##### Bagging Classifier"
   ]
  },
  {
   "cell_type": "code",
   "execution_count": 121,
   "metadata": {},
   "outputs": [
    {
     "name": "stdout",
     "output_type": "stream",
     "text": [
      "Dataset: GA\n",
      "Model ID: bag\n",
      "Model Params: {'base_estimator': None, 'bootstrap': True, 'bootstrap_features': False, 'max_features': 1.0, 'max_samples': 1.0, 'n_estimators': 10, 'n_jobs': None, 'oob_score': False, 'random_state': None, 'verbose': 0, 'warm_start': False}\n",
      "Training Score: 0.9883\n",
      "Testing Score: 0.6787 \n",
      "\n",
      "Accuracy: 0.6787\n",
      "Specificity: 0.6283\n",
      "Precision: 0.7391\n",
      "Recall: 0.7128\n",
      "F1 Score: 0.7257 \n",
      "\n",
      "Best accuracy rate confusion matrix:\n"
     ]
    },
    {
     "data": {
      "image/png": "[encoded data removed]",
      "text/plain": [
       "<Figure size 432x288 with 2 Axes>"
      ]
     },
     "metadata": {
      "needs_background": "light"
     },
     "output_type": "display_data"
    }
   ],
   "source": [
    "ga_bag = BaggingClassifier()\n",
    "\n",
    "model_trials('GA', X, y, ga_bag, 'bag');"
   ]
  },
  {
   "cell_type": "markdown",
   "metadata": {},
   "source": [
    "ANALYSIS\n",
    "\n",
    "Because Bagging is often used when we need to reduce the variance of a Decision Tree model, this model does meet the objective, in that sense.\n",
    "\n",
    "However, the model is, again, pretty overfit and scoring higher than the baseline by a slim margin. It does well classifying the true negatives but not as well classifying the true positives, relative to the others. \n",
    "\n",
    "Overall, we aren't thrilled with the Bagging accuracy score, but it is the third highest so far and a potential option to carry into model tuning."
   ]
  },
  {
   "cell_type": "markdown",
   "metadata": {},
   "source": [
    "##### Ada Boost Classifier"
   ]
  },
  {
   "cell_type": "code",
   "execution_count": 122,
   "metadata": {},
   "outputs": [
    {
     "name": "stdout",
     "output_type": "stream",
     "text": [
      "Dataset: GA\n",
      "Model ID: ada\n",
      "Model Params: {'algorithm': 'SAMME.R', 'base_estimator': None, 'learning_rate': 1.0, 'n_estimators': 50, 'random_state': None}\n",
      "Training Score: 0.7216\n",
      "Testing Score: 0.7045 \n",
      "\n",
      "Accuracy: 0.7045\n",
      "Specificity: 0.5715\n",
      "Precision: 0.7326\n",
      "Recall: 0.7944\n",
      "F1 Score: 0.7623 \n",
      "\n",
      "Best accuracy rate confusion matrix:\n"
     ]
    },
    {
     "data": {
      "image/png": "[encoded data removed]",
      "text/plain": [
       "<Figure size 432x288 with 2 Axes>"
      ]
     },
     "metadata": {
      "needs_background": "light"
     },
     "output_type": "display_data"
    }
   ],
   "source": [
    "ga_ada = AdaBoostClassifier()\n",
    "\n",
    "model_trials('GA', X, y, ga_ada, 'ada');"
   ]
  },
  {
   "cell_type": "markdown",
   "metadata": {},
   "source": [
    "ANALYSIS\n",
    "\n",
    "In terms of classification, this AdaBoost model classified very closely to the Random Forest model. Where AdaBoost edges ahead is in the variance of the train and test scores. This model got a similar test score to RF, but shrunk the gap between this and the train score almost entirely. \n",
    "\n",
    "This is probably a result of the weighing methods within each of the models - while Random Forest allows an equal vote for each tree, AdaBoost gives some trees/stumps more weight in the final classification than others.\n",
    "\n",
    "As Logistic Regression was another top-performing trial so far, I think that combining this with a boosting model may lead to higher scores."
   ]
  },
  {
   "cell_type": "markdown",
   "metadata": {},
   "source": [
    "##### Ada Boost Classifier with Logistic Regression"
   ]
  },
  {
   "cell_type": "code",
   "execution_count": 123,
   "metadata": {},
   "outputs": [
    {
     "name": "stdout",
     "output_type": "stream",
     "text": [
      "Dataset: GA\n",
      "Model ID: ada_lr\n",
      "Model Params: {'algorithm': 'SAMME.R', 'base_estimator__C': 1.0, 'base_estimator__class_weight': None, 'base_estimator__dual': False, 'base_estimator__fit_intercept': True, 'base_estimator__intercept_scaling': 1, 'base_estimator__l1_ratio': None, 'base_estimator__max_iter': 100, 'base_estimator__multi_class': 'auto', 'base_estimator__n_jobs': None, 'base_estimator__penalty': 'l2', 'base_estimator__random_state': None, 'base_estimator__solver': 'lbfgs', 'base_estimator__tol': 0.0001, 'base_estimator__verbose': 0, 'base_estimator__warm_start': False, 'base_estimator': LogisticRegression(), 'learning_rate': 1.0, 'n_estimators': 50, 'random_state': None}\n",
      "Training Score: 0.7084\n",
      "Testing Score: 0.6981 \n",
      "\n",
      "Accuracy: 0.6981\n",
      "Specificity: 0.5248\n",
      "Precision: 0.7172\n",
      "Recall: 0.8154\n",
      "F1 Score: 0.7631 \n",
      "\n",
      "Best accuracy rate confusion matrix:\n"
     ]
    },
    {
     "data": {
      "image/png": "[encoded data removed]",
      "text/plain": [
       "<Figure size 432x288 with 2 Axes>"
      ]
     },
     "metadata": {
      "needs_background": "light"
     },
     "output_type": "display_data"
    }
   ],
   "source": [
    "ga_ada_lr = AdaBoostClassifier(base_estimator=LogisticRegression())\n",
    "\n",
    "model_trials('GA', X, y, ga_ada_lr, 'ada_lr');"
   ]
  },
  {
   "cell_type": "markdown",
   "metadata": {},
   "source": [
    "ANALYSIS\n",
    "\n",
    "Replacing the Decision Tree base estimator in the AdaBoost model with Logistic Regression worsened the accuracy by about 0.006. This model more false positive and less false negative predictions. \n",
    "\n",
    "Though using Logistic Regression in conjunction with AdaBoost did not improve the scores, the first model did perform relatively well and may be worth exploring further with hyperparameter tuning."
   ]
  },
  {
   "cell_type": "markdown",
   "metadata": {},
   "source": [
    "##### Gradient Boosting Classifier"
   ]
  },
  {
   "cell_type": "code",
   "execution_count": 124,
   "metadata": {},
   "outputs": [
    {
     "name": "stdout",
     "output_type": "stream",
     "text": [
      "Dataset: GA\n",
      "Model ID: gboost\n",
      "Model Params: {'ccp_alpha': 0.0, 'criterion': 'friedman_mse', 'init': None, 'learning_rate': 0.1, 'loss': 'log_loss', 'max_depth': 3, 'max_features': None, 'max_leaf_nodes': None, 'min_impurity_decrease': 0.0, 'min_samples_leaf': 1, 'min_samples_split': 2, 'min_weight_fraction_leaf': 0.0, 'n_estimators': 100, 'n_iter_no_change': None, 'random_state': None, 'subsample': 1.0, 'tol': 0.0001, 'validation_fraction': 0.1, 'verbose': 0, 'warm_start': False}\n",
      "Training Score: 0.739\n",
      "Testing Score: 0.7147 \n",
      "\n",
      "Accuracy: 0.7147\n",
      "Specificity: 0.5674\n",
      "Precision: 0.7356\n",
      "Recall: 0.8143\n",
      "F1 Score: 0.773 \n",
      "\n",
      "Best accuracy rate confusion matrix:\n"
     ]
    },
    {
     "data": {
      "image/png": "[encoded data removed]",
      "text/plain": [
       "<Figure size 432x288 with 2 Axes>"
      ]
     },
     "metadata": {
      "needs_background": "light"
     },
     "output_type": "display_data"
    }
   ],
   "source": [
    "ga_gboost = GradientBoostingClassifier()\n",
    "\n",
    "model_trials('GA', X, y, ga_gboost, 'gboost');"
   ]
  },
  {
   "cell_type": "markdown",
   "metadata": {},
   "source": [
    "ANALYSIS\n",
    "\n",
    "The Gradient Boost had the best test score we've seen so far. Though it did not have the most true negatives or true positives, this model outperformed all others on accuracy because it had low numbers of both misclassification types (whereas most of the other models had an inverse relationship between false positives and false negatives).\n",
    "\n",
    "This model is also not drastically overfit, meaning it is a great option to move forward into model tuning."
   ]
  },
  {
   "cell_type": "markdown",
   "metadata": {},
   "source": [
    "#### Untuned Model Trials Evaluation\n",
    "\n",
    "Let's check in on our models so far and see which untuned models make the best candidates for further tuning."
   ]
  },
  {
   "cell_type": "code",
   "execution_count": 125,
   "metadata": {},
   "outputs": [
    {
     "data": {
      "text/html": [
       "<div>\n",
       "<style scoped>\n",
       "    .dataframe tbody tr th:only-of-type {\n",
       "        vertical-align: middle;\n",
       "    }\n",
       "\n",
       "    .dataframe tbody tr th {\n",
       "        vertical-align: top;\n",
       "    }\n",
       "\n",
       "    .dataframe thead th {\n",
       "        text-align: right;\n",
       "    }\n",
       "</style>\n",
       "<table border=\"1\" class=\"dataframe\">\n",
       "  <thead>\n",
       "    <tr style=\"text-align: right;\">\n",
       "      <th></th>\n",
       "      <th>dataset_name</th>\n",
       "      <th>model_used</th>\n",
       "      <th>model_params</th>\n",
       "      <th>train_score</th>\n",
       "      <th>test_score</th>\n",
       "      <th>accuracy</th>\n",
       "      <th>specificity</th>\n",
       "      <th>precision</th>\n",
       "      <th>recall</th>\n",
       "      <th>f1 score</th>\n",
       "      <th>true_neg</th>\n",
       "      <th>false_pos</th>\n",
       "      <th>false_neg</th>\n",
       "      <th>true_pos</th>\n",
       "    </tr>\n",
       "  </thead>\n",
       "  <tbody>\n",
       "    <tr>\n",
       "      <th>8</th>\n",
       "      <td>GA</td>\n",
       "      <td>gboost</td>\n",
       "      <td>{'ccp_alpha': 0.0, 'criterion': 'friedman_mse'...</td>\n",
       "      <td>0.739048</td>\n",
       "      <td>0.714695</td>\n",
       "      <td>0.714695</td>\n",
       "      <td>0.567444</td>\n",
       "      <td>0.735586</td>\n",
       "      <td>0.814345</td>\n",
       "      <td>0.772964</td>\n",
       "      <td>1119</td>\n",
       "      <td>853</td>\n",
       "      <td>541</td>\n",
       "      <td>2373</td>\n",
       "    </tr>\n",
       "    <tr>\n",
       "      <th>4</th>\n",
       "      <td>GA</td>\n",
       "      <td>rf</td>\n",
       "      <td>{'bootstrap': True, 'ccp_alpha': 0.0, 'class_w...</td>\n",
       "      <td>1.000000</td>\n",
       "      <td>0.704666</td>\n",
       "      <td>0.704666</td>\n",
       "      <td>0.548174</td>\n",
       "      <td>0.726099</td>\n",
       "      <td>0.810570</td>\n",
       "      <td>0.766013</td>\n",
       "      <td>1081</td>\n",
       "      <td>891</td>\n",
       "      <td>552</td>\n",
       "      <td>2362</td>\n",
       "    </tr>\n",
       "    <tr>\n",
       "      <th>6</th>\n",
       "      <td>GA</td>\n",
       "      <td>ada</td>\n",
       "      <td>{'algorithm': 'SAMME.R', 'base_estimator': Non...</td>\n",
       "      <td>0.721648</td>\n",
       "      <td>0.704462</td>\n",
       "      <td>0.704462</td>\n",
       "      <td>0.571501</td>\n",
       "      <td>0.732595</td>\n",
       "      <td>0.794441</td>\n",
       "      <td>0.762265</td>\n",
       "      <td>1127</td>\n",
       "      <td>845</td>\n",
       "      <td>599</td>\n",
       "      <td>2315</td>\n",
       "    </tr>\n",
       "    <tr>\n",
       "      <th>7</th>\n",
       "      <td>GA</td>\n",
       "      <td>ada_lr</td>\n",
       "      <td>{'algorithm': 'SAMME.R', 'base_estimator__C': ...</td>\n",
       "      <td>0.708393</td>\n",
       "      <td>0.698117</td>\n",
       "      <td>0.698117</td>\n",
       "      <td>0.524848</td>\n",
       "      <td>0.717175</td>\n",
       "      <td>0.815374</td>\n",
       "      <td>0.763128</td>\n",
       "      <td>1035</td>\n",
       "      <td>937</td>\n",
       "      <td>538</td>\n",
       "      <td>2376</td>\n",
       "    </tr>\n",
       "    <tr>\n",
       "      <th>0</th>\n",
       "      <td>GA</td>\n",
       "      <td>logreg</td>\n",
       "      <td>{'C': 1.0, 'class_weight': None, 'dual': False...</td>\n",
       "      <td>0.709672</td>\n",
       "      <td>0.696480</td>\n",
       "      <td>0.696480</td>\n",
       "      <td>0.521805</td>\n",
       "      <td>0.715707</td>\n",
       "      <td>0.814688</td>\n",
       "      <td>0.761996</td>\n",
       "      <td>1029</td>\n",
       "      <td>943</td>\n",
       "      <td>540</td>\n",
       "      <td>2374</td>\n",
       "    </tr>\n",
       "    <tr>\n",
       "      <th>5</th>\n",
       "      <td>GA</td>\n",
       "      <td>bag</td>\n",
       "      <td>{'base_estimator': None, 'bootstrap': True, 'b...</td>\n",
       "      <td>0.988332</td>\n",
       "      <td>0.678674</td>\n",
       "      <td>0.678674</td>\n",
       "      <td>0.628296</td>\n",
       "      <td>0.739146</td>\n",
       "      <td>0.712766</td>\n",
       "      <td>0.725716</td>\n",
       "      <td>1239</td>\n",
       "      <td>733</td>\n",
       "      <td>837</td>\n",
       "      <td>2077</td>\n",
       "    </tr>\n",
       "    <tr>\n",
       "      <th>2</th>\n",
       "      <td>GA</td>\n",
       "      <td>knn</td>\n",
       "      <td>{'memory': None, 'steps': [('ss', StandardScal...</td>\n",
       "      <td>0.769550</td>\n",
       "      <td>0.650225</td>\n",
       "      <td>0.650225</td>\n",
       "      <td>0.534483</td>\n",
       "      <td>0.698126</td>\n",
       "      <td>0.728552</td>\n",
       "      <td>0.713014</td>\n",
       "      <td>1054</td>\n",
       "      <td>918</td>\n",
       "      <td>791</td>\n",
       "      <td>2123</td>\n",
       "    </tr>\n",
       "    <tr>\n",
       "      <th>3</th>\n",
       "      <td>GA</td>\n",
       "      <td>dtree</td>\n",
       "      <td>{'ccp_alpha': 0.0, 'class_weight': None, 'crit...</td>\n",
       "      <td>1.000000</td>\n",
       "      <td>0.614204</td>\n",
       "      <td>0.614204</td>\n",
       "      <td>0.540061</td>\n",
       "      <td>0.680971</td>\n",
       "      <td>0.664379</td>\n",
       "      <td>0.672573</td>\n",
       "      <td>1065</td>\n",
       "      <td>907</td>\n",
       "      <td>978</td>\n",
       "      <td>1936</td>\n",
       "    </tr>\n",
       "    <tr>\n",
       "      <th>1</th>\n",
       "      <td>GA</td>\n",
       "      <td>mnb</td>\n",
       "      <td>{'alpha': 1.0, 'class_prior': None, 'fit_prior...</td>\n",
       "      <td>0.611771</td>\n",
       "      <td>0.608064</td>\n",
       "      <td>0.608064</td>\n",
       "      <td>0.425456</td>\n",
       "      <td>0.652986</td>\n",
       "      <td>0.731640</td>\n",
       "      <td>0.690079</td>\n",
       "      <td>839</td>\n",
       "      <td>1133</td>\n",
       "      <td>782</td>\n",
       "      <td>2132</td>\n",
       "    </tr>\n",
       "  </tbody>\n",
       "</table>\n",
       "</div>"
      ],
      "text/plain": [
       "  dataset_name model_used                                       model_params  \\\n",
       "8           GA     gboost  {'ccp_alpha': 0.0, 'criterion': 'friedman_mse'...   \n",
       "4           GA         rf  {'bootstrap': True, 'ccp_alpha': 0.0, 'class_w...   \n",
       "6           GA        ada  {'algorithm': 'SAMME.R', 'base_estimator': Non...   \n",
       "7           GA     ada_lr  {'algorithm': 'SAMME.R', 'base_estimator__C': ...   \n",
       "0           GA     logreg  {'C': 1.0, 'class_weight': None, 'dual': False...   \n",
       "5           GA        bag  {'base_estimator': None, 'bootstrap': True, 'b...   \n",
       "2           GA        knn  {'memory': None, 'steps': [('ss', StandardScal...   \n",
       "3           GA      dtree  {'ccp_alpha': 0.0, 'class_weight': None, 'crit...   \n",
       "1           GA        mnb  {'alpha': 1.0, 'class_prior': None, 'fit_prior...   \n",
       "\n",
       "   train_score  test_score  accuracy  specificity  precision    recall  \\\n",
       "8     0.739048    0.714695  0.714695     0.567444   0.735586  0.814345   \n",
       "4     1.000000    0.704666  0.704666     0.548174   0.726099  0.810570   \n",
       "6     0.721648    0.704462  0.704462     0.571501   0.732595  0.794441   \n",
       "7     0.708393    0.698117  0.698117     0.524848   0.717175  0.815374   \n",
       "0     0.709672    0.696480  0.696480     0.521805   0.715707  0.814688   \n",
       "5     0.988332    0.678674  0.678674     0.628296   0.739146  0.712766   \n",
       "2     0.769550    0.650225  0.650225     0.534483   0.698126  0.728552   \n",
       "3     1.000000    0.614204  0.614204     0.540061   0.680971  0.664379   \n",
       "1     0.611771    0.608064  0.608064     0.425456   0.652986  0.731640   \n",
       "\n",
       "   f1 score  true_neg  false_pos  false_neg  true_pos  \n",
       "8  0.772964      1119        853        541      2373  \n",
       "4  0.766013      1081        891        552      2362  \n",
       "6  0.762265      1127        845        599      2315  \n",
       "7  0.763128      1035        937        538      2376  \n",
       "0  0.761996      1029        943        540      2374  \n",
       "5  0.725716      1239        733        837      2077  \n",
       "2  0.713014      1054        918        791      2123  \n",
       "3  0.672573      1065        907        978      1936  \n",
       "1  0.690079       839       1133        782      2132  "
      ]
     },
     "execution_count": 125,
     "metadata": {},
     "output_type": "execute_result"
    }
   ],
   "source": [
    "ga_untuned_models = ['logreg', 'mnb', 'knn', 'dtree', 'rf', 'bag', 'ada', 'ada_lr', 'gboost']\n",
    "model_trials_df[(model_trials_df['dataset_name'] == 'GA') & (model_trials_df['model_used'].isin(ga_untuned_models))].sort_values(by='accuracy', ascending = False)"
   ]
  },
  {
   "cell_type": "markdown",
   "metadata": {},
   "source": [
    "- Of the nine models tested so far, the Gradient Boosting model produced the highest accuracy, precision, and F1 scores.  \n",
    "- Multinomial Naive Bayes had lowest accuracy and specificity, and appeared to struggle with overpredicting recidivism - this is the only model with greater than 1,000 false positives.\n",
    "- Gradient Boost had the best overall accuracy, but lost to Bagging and both Ada Boost on specificity.\n",
    "- Logistic Regression and Gradient Boost had significantly less false negative predictions than most other models, meaning these two were better at not classifying non-recidivism in true recidivism observations."
   ]
  },
  {
   "cell_type": "markdown",
   "metadata": {},
   "source": [
    "#### Model Tuning\n",
    "\n",
    "Here are the previous models, in order of accuracy. I'll be referring to this list to decide which models to add hyperparameters to, and which ones did not score high enough to run again."
   ]
  },
  {
   "cell_type": "markdown",
   "metadata": {},
   "source": [
    "##### Gradient Boosting Classifier"
   ]
  },
  {
   "cell_type": "code",
   "execution_count": 129,
   "metadata": {},
   "outputs": [
    {
     "name": "stdout",
     "output_type": "stream",
     "text": [
      "Previous scores:\n"
     ]
    },
    {
     "data": {
      "text/html": [
       "<div>\n",
       "<style scoped>\n",
       "    .dataframe tbody tr th:only-of-type {\n",
       "        vertical-align: middle;\n",
       "    }\n",
       "\n",
       "    .dataframe tbody tr th {\n",
       "        vertical-align: top;\n",
       "    }\n",
       "\n",
       "    .dataframe thead th {\n",
       "        text-align: right;\n",
       "    }\n",
       "</style>\n",
       "<table border=\"1\" class=\"dataframe\">\n",
       "  <thead>\n",
       "    <tr style=\"text-align: right;\">\n",
       "      <th></th>\n",
       "      <th>dataset_name</th>\n",
       "      <th>model_used</th>\n",
       "      <th>model_params</th>\n",
       "      <th>train_score</th>\n",
       "      <th>test_score</th>\n",
       "      <th>accuracy</th>\n",
       "      <th>specificity</th>\n",
       "      <th>precision</th>\n",
       "      <th>recall</th>\n",
       "      <th>f1 score</th>\n",
       "      <th>true_neg</th>\n",
       "      <th>false_pos</th>\n",
       "      <th>false_neg</th>\n",
       "      <th>true_pos</th>\n",
       "    </tr>\n",
       "  </thead>\n",
       "  <tbody>\n",
       "    <tr>\n",
       "      <th>8</th>\n",
       "      <td>GA</td>\n",
       "      <td>gboost</td>\n",
       "      <td>{'ccp_alpha': 0.0, 'criterion': 'friedman_mse'...</td>\n",
       "      <td>0.739048</td>\n",
       "      <td>0.714695</td>\n",
       "      <td>0.714695</td>\n",
       "      <td>0.567444</td>\n",
       "      <td>0.735586</td>\n",
       "      <td>0.814345</td>\n",
       "      <td>0.772964</td>\n",
       "      <td>1119</td>\n",
       "      <td>853</td>\n",
       "      <td>541</td>\n",
       "      <td>2373</td>\n",
       "    </tr>\n",
       "  </tbody>\n",
       "</table>\n",
       "</div>"
      ],
      "text/plain": [
       "  dataset_name model_used                                       model_params  \\\n",
       "8           GA     gboost  {'ccp_alpha': 0.0, 'criterion': 'friedman_mse'...   \n",
       "\n",
       "   train_score  test_score  accuracy  specificity  precision    recall  \\\n",
       "8     0.739048    0.714695  0.714695     0.567444   0.735586  0.814345   \n",
       "\n",
       "   f1 score  true_neg  false_pos  false_neg  true_pos  \n",
       "8  0.772964      1119        853        541      2373  "
      ]
     },
     "execution_count": 129,
     "metadata": {},
     "output_type": "execute_result"
    }
   ],
   "source": [
    "print('Previous scores:')\n",
    "model_trials_df[(model_trials_df['dataset_name'] == 'GA') & (model_trials_df['model_used'] == 'gboost')]"
   ]
  },
  {
   "cell_type": "code",
   "execution_count": 60,
   "metadata": {},
   "outputs": [],
   "source": [
    "ga_gboost2 = GradientBoostingClassifier()\n",
    "\n",
    "gb_params  = {\n",
    "    'n_estimators': [50, 100, 200], \n",
    "    'max_depth': [3, 5, 7],\n",
    "    'learning_rate': [0.7, 0.8, 0.9],\n",
    "    'max_features': [None, 'sqrt']\n",
    "}"
   ]
  },
  {
   "cell_type": "code",
   "execution_count": 61,
   "metadata": {},
   "outputs": [
    {
     "name": "stdout",
     "output_type": "stream",
     "text": [
      "Dataset: GA\n",
      "Model ID: gboost2\n",
      "Model Params: {'learning_rate': 0.7, 'max_depth': 3, 'max_features': 'sqrt', 'n_estimators': 100}\n",
      "Training Score: 0.7536\n",
      "Testing Score: 0.7176 \n",
      "\n",
      "Accuracy: 0.7176\n",
      "Specificity: 0.5953\n",
      "Precision: 0.745\n",
      "Recall: 0.8003\n",
      "F1 Score: 0.7717 \n",
      "\n",
      "Best accuracy rate confusion matrix:\n"
     ]
    },
    {
     "data": {
      "image/png": "[encoded data removed]",
      "text/plain": [
       "<Figure size 432x288 with 2 Axes>"
      ]
     },
     "metadata": {
      "needs_background": "light"
     },
     "output_type": "display_data"
    }
   ],
   "source": [
    "model_trials('GA', X, y, ga_gboost2, 'gboost2', gs_params = gb_params);"
   ]
  },
  {
   "cell_type": "markdown",
   "metadata": {},
   "source": [
    "ANALYSIS\n",
    "\n",
    "This model with the tuned hyperparameters scored higher on accuracy than most of the untuned models, and beat the no-param Gradient Boost model. This tuned version decreased the prior GBoost's false positives, but increased the false negatives. Because Gradient Boosting was the previous highest-scoring model, I'm curious to see if any other tuned models can surpass this score, or if the 0.718 is as high as the accuracy will go."
   ]
  },
  {
   "cell_type": "markdown",
   "metadata": {},
   "source": [
    "##### Random Forest Classifier"
   ]
  },
  {
   "cell_type": "code",
   "execution_count": 130,
   "metadata": {},
   "outputs": [
    {
     "name": "stdout",
     "output_type": "stream",
     "text": [
      "Previous scores:\n"
     ]
    },
    {
     "data": {
      "text/html": [
       "<div>\n",
       "<style scoped>\n",
       "    .dataframe tbody tr th:only-of-type {\n",
       "        vertical-align: middle;\n",
       "    }\n",
       "\n",
       "    .dataframe tbody tr th {\n",
       "        vertical-align: top;\n",
       "    }\n",
       "\n",
       "    .dataframe thead th {\n",
       "        text-align: right;\n",
       "    }\n",
       "</style>\n",
       "<table border=\"1\" class=\"dataframe\">\n",
       "  <thead>\n",
       "    <tr style=\"text-align: right;\">\n",
       "      <th></th>\n",
       "      <th>dataset_name</th>\n",
       "      <th>model_used</th>\n",
       "      <th>model_params</th>\n",
       "      <th>train_score</th>\n",
       "      <th>test_score</th>\n",
       "      <th>accuracy</th>\n",
       "      <th>specificity</th>\n",
       "      <th>precision</th>\n",
       "      <th>recall</th>\n",
       "      <th>f1 score</th>\n",
       "      <th>true_neg</th>\n",
       "      <th>false_pos</th>\n",
       "      <th>false_neg</th>\n",
       "      <th>true_pos</th>\n",
       "    </tr>\n",
       "  </thead>\n",
       "  <tbody>\n",
       "    <tr>\n",
       "      <th>4</th>\n",
       "      <td>GA</td>\n",
       "      <td>rf</td>\n",
       "      <td>{'bootstrap': True, 'ccp_alpha': 0.0, 'class_w...</td>\n",
       "      <td>1.0</td>\n",
       "      <td>0.704666</td>\n",
       "      <td>0.704666</td>\n",
       "      <td>0.548174</td>\n",
       "      <td>0.726099</td>\n",
       "      <td>0.81057</td>\n",
       "      <td>0.766013</td>\n",
       "      <td>1081</td>\n",
       "      <td>891</td>\n",
       "      <td>552</td>\n",
       "      <td>2362</td>\n",
       "    </tr>\n",
       "  </tbody>\n",
       "</table>\n",
       "</div>"
      ],
      "text/plain": [
       "  dataset_name model_used                                       model_params  \\\n",
       "4           GA         rf  {'bootstrap': True, 'ccp_alpha': 0.0, 'class_w...   \n",
       "\n",
       "   train_score  test_score  accuracy  specificity  precision   recall  \\\n",
       "4          1.0    0.704666  0.704666     0.548174   0.726099  0.81057   \n",
       "\n",
       "   f1 score  true_neg  false_pos  false_neg  true_pos  \n",
       "4  0.766013      1081        891        552      2362  "
      ]
     },
     "execution_count": 130,
     "metadata": {},
     "output_type": "execute_result"
    }
   ],
   "source": [
    "print('Previous scores:')\n",
    "model_trials_df[(model_trials_df['dataset_name'] == 'GA') & (model_trials_df['model_used'] == 'rf')]"
   ]
  },
  {
   "cell_type": "code",
   "execution_count": 63,
   "metadata": {},
   "outputs": [],
   "source": [
    "ga_rf2 = RandomForestClassifier()\n",
    "\n",
    "rf2_params  = {\n",
    "    'n_estimators': [50, 100, 150], \n",
    "    'max_depth': [3, 5, 7],\n",
    "    'max_features': [None, 'sqrt'],\n",
    "    'bootstrap' : [True, False]\n",
    "}"
   ]
  },
  {
   "cell_type": "code",
   "execution_count": 64,
   "metadata": {},
   "outputs": [
    {
     "name": "stdout",
     "output_type": "stream",
     "text": [
      "Dataset: GA\n",
      "Model ID: rf2\n",
      "Model Params: {'bootstrap': True, 'max_depth': 7, 'max_features': None, 'n_estimators': 150}\n",
      "Training Score: 0.7421\n",
      "Testing Score: 0.7034 \n",
      "\n",
      "Accuracy: 0.7034\n",
      "Specificity: 0.5527\n",
      "Precision: 0.7269\n",
      "Recall: 0.8054\n",
      "F1 Score: 0.7641 \n",
      "\n",
      "Best accuracy rate confusion matrix:\n"
     ]
    },
    {
     "data": {
      "image/png": "[encoded data removed]",
      "text/plain": [
       "<Figure size 432x288 with 2 Axes>"
      ]
     },
     "metadata": {
      "needs_background": "light"
     },
     "output_type": "display_data"
    }
   ],
   "source": [
    "model_trials('GA', X, y, ga_rf2, 'rf2', gs_params = rf2_params);"
   ]
  },
  {
   "cell_type": "code",
   "execution_count": 65,
   "metadata": {},
   "outputs": [],
   "source": [
    "ga_rf3 = RandomForestClassifier()\n",
    "\n",
    "rf_3_params  = {\n",
    "    'n_estimators': [150, 200, 250], \n",
    "    'max_depth': [6, 7, 8],\n",
    "    'bootstrap' : [True],\n",
    "    'max_samples': [None, 0.5, 0.8]\n",
    "}"
   ]
  },
  {
   "cell_type": "code",
   "execution_count": 67,
   "metadata": {},
   "outputs": [
    {
     "name": "stdout",
     "output_type": "stream",
     "text": [
      "Dataset: GA\n",
      "Model ID: rf3\n",
      "Model Params: {'bootstrap': True, 'max_depth': 8, 'max_samples': None, 'n_estimators': 200}\n",
      "Training Score: 0.7456\n",
      "Testing Score: 0.7049 \n",
      "\n",
      "Accuracy: 0.7049\n",
      "Specificity: 0.4802\n",
      "Precision: 0.709\n",
      "Recall: 0.8569\n",
      "F1 Score: 0.7759 \n",
      "\n",
      "Best accuracy rate confusion matrix:\n"
     ]
    },
    {
     "data": {
      "image/png": "[encoded data removed]",
      "text/plain": [
       "<Figure size 432x288 with 2 Axes>"
      ]
     },
     "metadata": {
      "needs_background": "light"
     },
     "output_type": "display_data"
    }
   ],
   "source": [
    "model_trials('GA', X, y, ga_rf3,'rf3', gs_params = rf_3_params);"
   ]
  },
  {
   "cell_type": "markdown",
   "metadata": {},
   "source": [
    "ANALYSIS\n",
    "\n",
    "Based on the shift in best params, it looks like the Random Forest model prefers more estimators and a greater max depth, with sample bootstrapping set equal to true. The second tuned model scored a hair above the no-param model on accuracy, as well as drastically reduced the variance and false negative predictions. If we were to choose a Random Forest model to proceed with, I would likely select the second grid-searched model as it scores high and is much less overfit."
   ]
  },
  {
   "cell_type": "markdown",
   "metadata": {},
   "source": [
    "##### Ada Boost Classifier"
   ]
  },
  {
   "cell_type": "code",
   "execution_count": 131,
   "metadata": {},
   "outputs": [
    {
     "name": "stdout",
     "output_type": "stream",
     "text": [
      "Previous scores:\n"
     ]
    },
    {
     "data": {
      "text/html": [
       "<div>\n",
       "<style scoped>\n",
       "    .dataframe tbody tr th:only-of-type {\n",
       "        vertical-align: middle;\n",
       "    }\n",
       "\n",
       "    .dataframe tbody tr th {\n",
       "        vertical-align: top;\n",
       "    }\n",
       "\n",
       "    .dataframe thead th {\n",
       "        text-align: right;\n",
       "    }\n",
       "</style>\n",
       "<table border=\"1\" class=\"dataframe\">\n",
       "  <thead>\n",
       "    <tr style=\"text-align: right;\">\n",
       "      <th></th>\n",
       "      <th>dataset_name</th>\n",
       "      <th>model_used</th>\n",
       "      <th>model_params</th>\n",
       "      <th>train_score</th>\n",
       "      <th>test_score</th>\n",
       "      <th>accuracy</th>\n",
       "      <th>specificity</th>\n",
       "      <th>precision</th>\n",
       "      <th>recall</th>\n",
       "      <th>f1 score</th>\n",
       "      <th>true_neg</th>\n",
       "      <th>false_pos</th>\n",
       "      <th>false_neg</th>\n",
       "      <th>true_pos</th>\n",
       "    </tr>\n",
       "  </thead>\n",
       "  <tbody>\n",
       "    <tr>\n",
       "      <th>6</th>\n",
       "      <td>GA</td>\n",
       "      <td>ada</td>\n",
       "      <td>{'algorithm': 'SAMME.R', 'base_estimator': Non...</td>\n",
       "      <td>0.721648</td>\n",
       "      <td>0.704462</td>\n",
       "      <td>0.704462</td>\n",
       "      <td>0.571501</td>\n",
       "      <td>0.732595</td>\n",
       "      <td>0.794441</td>\n",
       "      <td>0.762265</td>\n",
       "      <td>1127</td>\n",
       "      <td>845</td>\n",
       "      <td>599</td>\n",
       "      <td>2315</td>\n",
       "    </tr>\n",
       "  </tbody>\n",
       "</table>\n",
       "</div>"
      ],
      "text/plain": [
       "  dataset_name model_used                                       model_params  \\\n",
       "6           GA        ada  {'algorithm': 'SAMME.R', 'base_estimator': Non...   \n",
       "\n",
       "   train_score  test_score  accuracy  specificity  precision    recall  \\\n",
       "6     0.721648    0.704462  0.704462     0.571501   0.732595  0.794441   \n",
       "\n",
       "   f1 score  true_neg  false_pos  false_neg  true_pos  \n",
       "6  0.762265      1127        845        599      2315  "
      ]
     },
     "execution_count": 131,
     "metadata": {},
     "output_type": "execute_result"
    }
   ],
   "source": [
    "print('Previous scores:')\n",
    "model_trials_df[(model_trials_df['dataset_name'] == 'GA') & (model_trials_df['model_used'] == 'ada')]"
   ]
  },
  {
   "cell_type": "code",
   "execution_count": 69,
   "metadata": {},
   "outputs": [],
   "source": [
    "ga_ada2 = AdaBoostClassifier()\n",
    "\n",
    "ada2_params = {\n",
    "    'n_estimators': [100, 200, 300],\n",
    "    'learning_rate': [0.7, 0.8, 0.9],\n",
    "}"
   ]
  },
  {
   "cell_type": "code",
   "execution_count": 70,
   "metadata": {},
   "outputs": [
    {
     "name": "stdout",
     "output_type": "stream",
     "text": [
      "Dataset: GA\n",
      "Model ID: ada\n",
      "Model Params: {'learning_rate': 0.8, 'n_estimators': 300}\n",
      "Training Score: 0.7272\n",
      "Testing Score: 0.7114 \n",
      "\n",
      "Accuracy: 0.7114\n",
      "Specificity: 0.574\n",
      "Precision: 0.7362\n",
      "Recall: 0.8044\n",
      "F1 Score: 0.7688 \n",
      "\n",
      "Best accuracy rate confusion matrix:\n"
     ]
    },
    {
     "data": {
      "image/png": "[encoded data removed]",
      "text/plain": [
       "<Figure size 432x288 with 2 Axes>"
      ]
     },
     "metadata": {
      "needs_background": "light"
     },
     "output_type": "display_data"
    }
   ],
   "source": [
    "model_trials('GA', X, y, ga_ada2, 'ada', gs_params = ada2_params);"
   ]
  },
  {
   "cell_type": "code",
   "execution_count": 71,
   "metadata": {},
   "outputs": [],
   "source": [
    "ga_ada3 = AdaBoostClassifier()\n",
    "\n",
    "ada_params_3 = {\n",
    "    'n_estimators': [350, 400, 450],\n",
    "    'learning_rate': [0.6, 0.7, 0.75],\n",
    "}"
   ]
  },
  {
   "cell_type": "code",
   "execution_count": 73,
   "metadata": {},
   "outputs": [
    {
     "name": "stdout",
     "output_type": "stream",
     "text": [
      "Dataset: GA\n",
      "Model ID: ada3\n",
      "Model Params: {'learning_rate': 0.6, 'n_estimators': 450}\n",
      "Training Score: 0.7285\n",
      "Testing Score: 0.7131 \n",
      "\n",
      "Accuracy: 0.7131\n",
      "Specificity: 0.5745\n",
      "Precision: 0.737\n",
      "Recall: 0.8068\n",
      "F1 Score: 0.7703 \n",
      "\n",
      "Best accuracy rate confusion matrix:\n"
     ]
    },
    {
     "data": {
      "image/png": "[encoded data removed]",
      "text/plain": [
       "<Figure size 432x288 with 2 Axes>"
      ]
     },
     "metadata": {
      "needs_background": "light"
     },
     "output_type": "display_data"
    }
   ],
   "source": [
    "model_trials('GA', X, y, ga_ada3, 'ada3', gs_params = ada_params_3);"
   ]
  },
  {
   "cell_type": "markdown",
   "metadata": {},
   "source": [
    "ANALYSIS\n",
    "\n",
    "AdaBoost ranked third-highest in the no-param trials, and now has the third-highest score of all param and no-param models so far. Compared to its no-param counterpart, the second version of the grid searched model predicted 6 fewer false positives and 36 fewer false negatives. Because there is a trade-off between n estimators and learning rate, I inversely shifted the range of the two hyperparameters, and this specific model seemed to prefer the lower learning rate and higher amount of estimators."
   ]
  },
  {
   "cell_type": "markdown",
   "metadata": {},
   "source": [
    "##### Logistic Regression"
   ]
  },
  {
   "cell_type": "code",
   "execution_count": 132,
   "metadata": {},
   "outputs": [
    {
     "name": "stdout",
     "output_type": "stream",
     "text": [
      "Previous scores:\n"
     ]
    },
    {
     "data": {
      "text/html": [
       "<div>\n",
       "<style scoped>\n",
       "    .dataframe tbody tr th:only-of-type {\n",
       "        vertical-align: middle;\n",
       "    }\n",
       "\n",
       "    .dataframe tbody tr th {\n",
       "        vertical-align: top;\n",
       "    }\n",
       "\n",
       "    .dataframe thead th {\n",
       "        text-align: right;\n",
       "    }\n",
       "</style>\n",
       "<table border=\"1\" class=\"dataframe\">\n",
       "  <thead>\n",
       "    <tr style=\"text-align: right;\">\n",
       "      <th></th>\n",
       "      <th>dataset_name</th>\n",
       "      <th>model_used</th>\n",
       "      <th>model_params</th>\n",
       "      <th>train_score</th>\n",
       "      <th>test_score</th>\n",
       "      <th>accuracy</th>\n",
       "      <th>specificity</th>\n",
       "      <th>precision</th>\n",
       "      <th>recall</th>\n",
       "      <th>f1 score</th>\n",
       "      <th>true_neg</th>\n",
       "      <th>false_pos</th>\n",
       "      <th>false_neg</th>\n",
       "      <th>true_pos</th>\n",
       "    </tr>\n",
       "  </thead>\n",
       "  <tbody>\n",
       "    <tr>\n",
       "      <th>0</th>\n",
       "      <td>GA</td>\n",
       "      <td>logreg</td>\n",
       "      <td>{'C': 1.0, 'class_weight': None, 'dual': False...</td>\n",
       "      <td>0.709672</td>\n",
       "      <td>0.69648</td>\n",
       "      <td>0.69648</td>\n",
       "      <td>0.521805</td>\n",
       "      <td>0.715707</td>\n",
       "      <td>0.814688</td>\n",
       "      <td>0.761996</td>\n",
       "      <td>1029</td>\n",
       "      <td>943</td>\n",
       "      <td>540</td>\n",
       "      <td>2374</td>\n",
       "    </tr>\n",
       "  </tbody>\n",
       "</table>\n",
       "</div>"
      ],
      "text/plain": [
       "  dataset_name model_used                                       model_params  \\\n",
       "0           GA     logreg  {'C': 1.0, 'class_weight': None, 'dual': False...   \n",
       "\n",
       "   train_score  test_score  accuracy  specificity  precision    recall  \\\n",
       "0     0.709672     0.69648   0.69648     0.521805   0.715707  0.814688   \n",
       "\n",
       "   f1 score  true_neg  false_pos  false_neg  true_pos  \n",
       "0  0.761996      1029        943        540      2374  "
      ]
     },
     "execution_count": 132,
     "metadata": {},
     "output_type": "execute_result"
    }
   ],
   "source": [
    "print('Previous scores:')\n",
    "model_trials_df[(model_trials_df['dataset_name'] == 'GA') & (model_trials_df['model_used'] == 'logreg')]"
   ]
  },
  {
   "cell_type": "code",
   "execution_count": 75,
   "metadata": {},
   "outputs": [],
   "source": [
    "ga_lr2 = LogisticRegression( max_iter=10_000, solver='saga')\n",
    "\n",
    "lr2_params = {\n",
    "    'C': [0.1, 1, 10],\n",
    "    'penalty': ['l1', 'l2'],\n",
    "    'class_weight': ['balanced', None]\n",
    "}"
   ]
  },
  {
   "cell_type": "code",
   "execution_count": 76,
   "metadata": {},
   "outputs": [
    {
     "name": "stdout",
     "output_type": "stream",
     "text": [
      "Dataset: GA\n",
      "Model ID: logreg2\n",
      "Model Params: {'C': 1, 'class_weight': None, 'penalty': 'l1'}\n",
      "Training Score: 0.71\n",
      "Testing Score: 0.6965 \n",
      "\n",
      "Accuracy: 0.6965\n",
      "Specificity: 0.5213\n",
      "Precision: 0.7156\n",
      "Recall: 0.815\n",
      "F1 Score: 0.7621 \n",
      "\n",
      "Best accuracy rate confusion matrix:\n"
     ]
    },
    {
     "data": {
      "image/png": "[encoded data removed]",
      "text/plain": [
       "<Figure size 432x288 with 2 Axes>"
      ]
     },
     "metadata": {
      "needs_background": "light"
     },
     "output_type": "display_data"
    }
   ],
   "source": [
    "model_trials('GA', X, y, ga_lr2, 'logreg2', gs_params = lr2_params);"
   ]
  },
  {
   "cell_type": "markdown",
   "metadata": {},
   "source": [
    "ANALYSIS\n",
    "\n",
    "This tuned model performed exactly the same as the untuned Logistic Regression trial (with one extra false positive and one less false negative), but still did not break the 0.7 accuracy ceiling that other models have. Regarding classifications, LR actually does better than most at predicting true positives but this is likely more related to the distribution of the data than it is the performance of the model, as there are increased false positives as well."
   ]
  },
  {
   "cell_type": "markdown",
   "metadata": {},
   "source": [
    "##### Bagging Classifier"
   ]
  },
  {
   "cell_type": "code",
   "execution_count": 133,
   "metadata": {},
   "outputs": [
    {
     "name": "stdout",
     "output_type": "stream",
     "text": [
      "Previous scores:\n"
     ]
    },
    {
     "data": {
      "text/html": [
       "<div>\n",
       "<style scoped>\n",
       "    .dataframe tbody tr th:only-of-type {\n",
       "        vertical-align: middle;\n",
       "    }\n",
       "\n",
       "    .dataframe tbody tr th {\n",
       "        vertical-align: top;\n",
       "    }\n",
       "\n",
       "    .dataframe thead th {\n",
       "        text-align: right;\n",
       "    }\n",
       "</style>\n",
       "<table border=\"1\" class=\"dataframe\">\n",
       "  <thead>\n",
       "    <tr style=\"text-align: right;\">\n",
       "      <th></th>\n",
       "      <th>dataset_name</th>\n",
       "      <th>model_used</th>\n",
       "      <th>model_params</th>\n",
       "      <th>train_score</th>\n",
       "      <th>test_score</th>\n",
       "      <th>accuracy</th>\n",
       "      <th>specificity</th>\n",
       "      <th>precision</th>\n",
       "      <th>recall</th>\n",
       "      <th>f1 score</th>\n",
       "      <th>true_neg</th>\n",
       "      <th>false_pos</th>\n",
       "      <th>false_neg</th>\n",
       "      <th>true_pos</th>\n",
       "    </tr>\n",
       "  </thead>\n",
       "  <tbody>\n",
       "    <tr>\n",
       "      <th>5</th>\n",
       "      <td>GA</td>\n",
       "      <td>bag</td>\n",
       "      <td>{'base_estimator': None, 'bootstrap': True, 'b...</td>\n",
       "      <td>0.988332</td>\n",
       "      <td>0.678674</td>\n",
       "      <td>0.678674</td>\n",
       "      <td>0.628296</td>\n",
       "      <td>0.739146</td>\n",
       "      <td>0.712766</td>\n",
       "      <td>0.725716</td>\n",
       "      <td>1239</td>\n",
       "      <td>733</td>\n",
       "      <td>837</td>\n",
       "      <td>2077</td>\n",
       "    </tr>\n",
       "  </tbody>\n",
       "</table>\n",
       "</div>"
      ],
      "text/plain": [
       "  dataset_name model_used                                       model_params  \\\n",
       "5           GA        bag  {'base_estimator': None, 'bootstrap': True, 'b...   \n",
       "\n",
       "   train_score  test_score  accuracy  specificity  precision    recall  \\\n",
       "5     0.988332    0.678674  0.678674     0.628296   0.739146  0.712766   \n",
       "\n",
       "   f1 score  true_neg  false_pos  false_neg  true_pos  \n",
       "5  0.725716      1239        733        837      2077  "
      ]
     },
     "execution_count": 133,
     "metadata": {},
     "output_type": "execute_result"
    }
   ],
   "source": [
    "print('Previous scores:')\n",
    "model_trials_df[(model_trials_df['dataset_name'] == 'GA') & (model_trials_df['model_used'] == 'bag')]"
   ]
  },
  {
   "cell_type": "code",
   "execution_count": 78,
   "metadata": {},
   "outputs": [],
   "source": [
    "ga_bag2 = BaggingClassifier(random_state=42, n_jobs= -1)\n",
    "\n",
    "bag2_params = {\n",
    "    'max_samples': [0.5, 0.8, 0.9],\n",
    "    'bootstrap': [True, False],\n",
    "    'bootstrap_features': [True, False]\n",
    "}"
   ]
  },
  {
   "cell_type": "code",
   "execution_count": 80,
   "metadata": {},
   "outputs": [
    {
     "name": "stdout",
     "output_type": "stream",
     "text": [
      "Dataset: GA\n",
      "Model ID: bag2\n",
      "Model Params: {'bootstrap': True, 'bootstrap_features': False, 'max_samples': 0.8}\n",
      "Training Score: 0.9713\n",
      "Testing Score: 0.6793 \n",
      "\n",
      "Accuracy: 0.6793\n",
      "Specificity: 0.6329\n",
      "Precision: 0.741\n",
      "Recall: 0.7107\n",
      "F1 Score: 0.7255 \n",
      "\n",
      "Best accuracy rate confusion matrix:\n"
     ]
    },
    {
     "data": {
      "image/png": "[encoded data removed]",
      "text/plain": [
       "<Figure size 432x288 with 2 Axes>"
      ]
     },
     "metadata": {
      "needs_background": "light"
     },
     "output_type": "display_data"
    }
   ],
   "source": [
    "model_trials('GA', X, y, ga_bag2, 'bag2', gs_params = bag2_params);"
   ]
  },
  {
   "cell_type": "code",
   "execution_count": 81,
   "metadata": {},
   "outputs": [],
   "source": [
    "ga_bag_3 = BaggingClassifier(random_state=42, n_jobs= -1)\n",
    "\n",
    "bag_3_params = {\n",
    "    'n_estimators': [100, 200, 300],\n",
    "    'max_samples': [0.5, 0.6],\n",
    "    'bootstrap': [True, False],\n",
    "    'bootstrap_features': [True, False]\n",
    "}"
   ]
  },
  {
   "cell_type": "code",
   "execution_count": 82,
   "metadata": {},
   "outputs": [
    {
     "name": "stdout",
     "output_type": "stream",
     "text": [
      "Dataset: GA\n",
      "Model ID: bag3\n",
      "Model Params: {'bootstrap': False, 'bootstrap_features': True, 'max_samples': 0.5, 'n_estimators': 300}\n",
      "Training Score: 0.9999\n",
      "Testing Score: 0.7049 \n",
      "\n",
      "Accuracy: 0.7049\n",
      "Specificity: 0.5198\n",
      "Precision: 0.7187\n",
      "Recall: 0.8301\n",
      "F1 Score: 0.7704 \n",
      "\n",
      "Best accuracy rate confusion matrix:\n"
     ]
    },
    {
     "data": {
      "image/png": "[encoded data removed]",
      "text/plain": [
       "<Figure size 432x288 with 2 Axes>"
      ]
     },
     "metadata": {
      "needs_background": "light"
     },
     "output_type": "display_data"
    }
   ],
   "source": [
    "model_trials('GA', X, y, ga_bag_3, 'bag3', gs_params = bag_3_params);"
   ]
  },
  {
   "cell_type": "markdown",
   "metadata": {},
   "source": [
    "ANALYSIS\n",
    "\n",
    "Through grid searching, we were able to increase the no-param accuracy scores and beat the 0.7 threshold. However, all three Bagging models we've tested have been particularly overfit, and still not scoring as well on the test set as other more biased models. In all, this is not a model we'd recommend moving forward with in any real-world scenario."
   ]
  },
  {
   "cell_type": "markdown",
   "metadata": {},
   "source": [
    "##### Additional Investigation: GA Dataset Feature Importance"
   ]
  },
  {
   "cell_type": "code",
   "execution_count": 85,
   "metadata": {},
   "outputs": [
    {
     "data": {
      "text/html": [
       "<style>#sk-container-id-1 {color: black;background-color: white;}#sk-container-id-1 pre{padding: 0;}#sk-container-id-1 div.sk-toggleable {background-color: white;}#sk-container-id-1 label.sk-toggleable__label {cursor: pointer;display: block;width: 100%;margin-bottom: 0;padding: 0.3em;box-sizing: border-box;text-align: center;}#sk-container-id-1 label.sk-toggleable__label-arrow:before {content: \"▸\";float: left;margin-right: 0.25em;color: #696969;}#sk-container-id-1 label.sk-toggleable__label-arrow:hover:before {color: black;}#sk-container-id-1 div.sk-estimator:hover label.sk-toggleable__label-arrow:before {color: black;}#sk-container-id-1 div.sk-toggleable__content {max-height: 0;max-width: 0;overflow: hidden;text-align: left;background-color: #f0f8ff;}#sk-container-id-1 div.sk-toggleable__content pre {margin: 0.2em;color: black;border-radius: 0.25em;background-color: #f0f8ff;}#sk-container-id-1 input.sk-toggleable__control:checked~div.sk-toggleable__content {max-height: 200px;max-width: 100%;overflow: auto;}#sk-container-id-1 input.sk-toggleable__control:checked~label.sk-toggleable__label-arrow:before {content: \"▾\";}#sk-container-id-1 div.sk-estimator input.sk-toggleable__control:checked~label.sk-toggleable__label {background-color: #d4ebff;}#sk-container-id-1 div.sk-label input.sk-toggleable__control:checked~label.sk-toggleable__label {background-color: #d4ebff;}#sk-container-id-1 input.sk-hidden--visually {border: 0;clip: rect(1px 1px 1px 1px);clip: rect(1px, 1px, 1px, 1px);height: 1px;margin: -1px;overflow: hidden;padding: 0;position: absolute;width: 1px;}#sk-container-id-1 div.sk-estimator {font-family: monospace;background-color: #f0f8ff;border: 1px dotted black;border-radius: 0.25em;box-sizing: border-box;margin-bottom: 0.5em;}#sk-container-id-1 div.sk-estimator:hover {background-color: #d4ebff;}#sk-container-id-1 div.sk-parallel-item::after {content: \"\";width: 100%;border-bottom: 1px solid gray;flex-grow: 1;}#sk-container-id-1 div.sk-label:hover label.sk-toggleable__label {background-color: #d4ebff;}#sk-container-id-1 div.sk-serial::before {content: \"\";position: absolute;border-left: 1px solid gray;box-sizing: border-box;top: 0;bottom: 0;left: 50%;z-index: 0;}#sk-container-id-1 div.sk-serial {display: flex;flex-direction: column;align-items: center;background-color: white;padding-right: 0.2em;padding-left: 0.2em;position: relative;}#sk-container-id-1 div.sk-item {position: relative;z-index: 1;}#sk-container-id-1 div.sk-parallel {display: flex;align-items: stretch;justify-content: center;background-color: white;position: relative;}#sk-container-id-1 div.sk-item::before, #sk-container-id-1 div.sk-parallel-item::before {content: \"\";position: absolute;border-left: 1px solid gray;box-sizing: border-box;top: 0;bottom: 0;left: 50%;z-index: -1;}#sk-container-id-1 div.sk-parallel-item {display: flex;flex-direction: column;z-index: 1;position: relative;background-color: white;}#sk-container-id-1 div.sk-parallel-item:first-child::after {align-self: flex-end;width: 50%;}#sk-container-id-1 div.sk-parallel-item:last-child::after {align-self: flex-start;width: 50%;}#sk-container-id-1 div.sk-parallel-item:only-child::after {width: 0;}#sk-container-id-1 div.sk-dashed-wrapped {border: 1px dashed gray;margin: 0 0.4em 0.5em 0.4em;box-sizing: border-box;padding-bottom: 0.4em;background-color: white;}#sk-container-id-1 div.sk-label label {font-family: monospace;font-weight: bold;display: inline-block;line-height: 1.2em;}#sk-container-id-1 div.sk-label-container {text-align: center;}#sk-container-id-1 div.sk-container {/* jupyter's `normalize.less` sets `[hidden] { display: none; }` but bootstrap.min.css set `[hidden] { display: none !important; }` so we also need the `!important` here to be able to override the default hidden behavior on the sphinx rendered scikit-learn.org. See: https://github.com/scikit-learn/scikit-learn/issues/21755 */display: inline-block !important;position: relative;}#sk-container-id-1 div.sk-text-repr-fallback {display: none;}</style><div id=\"sk-container-id-1\" class=\"sk-top-container\"><div class=\"sk-text-repr-fallback\"><pre>LogisticRegression(max_iter=5000, solver=&#x27;saga&#x27;)</pre><b>In a Jupyter environment, please rerun this cell to show the HTML representation or trust the notebook. <br />On GitHub, the HTML representation is unable to render, please try loading this page with nbviewer.org.</b></div><div class=\"sk-container\" hidden><div class=\"sk-item\"><div class=\"sk-estimator sk-toggleable\"><input class=\"sk-toggleable__control sk-hidden--visually\" id=\"sk-estimator-id-1\" type=\"checkbox\" checked><label for=\"sk-estimator-id-1\" class=\"sk-toggleable__label sk-toggleable__label-arrow\">LogisticRegression</label><div class=\"sk-toggleable__content\"><pre>LogisticRegression(max_iter=5000, solver=&#x27;saga&#x27;)</pre></div></div></div></div></div>"
      ],
      "text/plain": [
       "LogisticRegression(max_iter=5000, solver='saga')"
      ]
     },
     "execution_count": 85,
     "metadata": {},
     "output_type": "execute_result"
    }
   ],
   "source": [
    "X = ga_dummy.drop(columns='recidivism_within_3years')\n",
    "y = ga_dummy['recidivism_within_3years']\n",
    "\n",
    "log_reg = LogisticRegression(solver='saga', max_iter = 5000)\n",
    "\n",
    "log_reg.fit(X, y)"
   ]
  },
  {
   "cell_type": "code",
   "execution_count": 86,
   "metadata": {},
   "outputs": [
    {
     "data": {
      "text/html": [
       "<div>\n",
       "<style scoped>\n",
       "    .dataframe tbody tr th:only-of-type {\n",
       "        vertical-align: middle;\n",
       "    }\n",
       "\n",
       "    .dataframe tbody tr th {\n",
       "        vertical-align: top;\n",
       "    }\n",
       "\n",
       "    .dataframe thead th {\n",
       "        text-align: right;\n",
       "    }\n",
       "</style>\n",
       "<table border=\"1\" class=\"dataframe\">\n",
       "  <thead>\n",
       "    <tr style=\"text-align: right;\">\n",
       "      <th></th>\n",
       "      <th>feature</th>\n",
       "      <th>coef</th>\n",
       "    </tr>\n",
       "  </thead>\n",
       "  <tbody>\n",
       "    <tr>\n",
       "      <th>1</th>\n",
       "      <td>gang_affiliated</td>\n",
       "      <td>2.011800</td>\n",
       "    </tr>\n",
       "    <tr>\n",
       "      <th>28</th>\n",
       "      <td>age_at_release_18-22</td>\n",
       "      <td>1.485400</td>\n",
       "    </tr>\n",
       "    <tr>\n",
       "      <th>29</th>\n",
       "      <td>age_at_release_23-27</td>\n",
       "      <td>1.348292</td>\n",
       "    </tr>\n",
       "    <tr>\n",
       "      <th>0</th>\n",
       "      <td>gender_male</td>\n",
       "      <td>1.345022</td>\n",
       "    </tr>\n",
       "    <tr>\n",
       "      <th>12</th>\n",
       "      <td>condition_mh_sa</td>\n",
       "      <td>1.287948</td>\n",
       "    </tr>\n",
       "    <tr>\n",
       "      <th>23</th>\n",
       "      <td>drugtests_thc_positive</td>\n",
       "      <td>1.259186</td>\n",
       "    </tr>\n",
       "    <tr>\n",
       "      <th>16</th>\n",
       "      <td>violations_instruction</td>\n",
       "      <td>1.252103</td>\n",
       "    </tr>\n",
       "    <tr>\n",
       "      <th>15</th>\n",
       "      <td>violations_electronicmonitoring</td>\n",
       "      <td>1.182378</td>\n",
       "    </tr>\n",
       "    <tr>\n",
       "      <th>21</th>\n",
       "      <td>residence_changes</td>\n",
       "      <td>1.148553</td>\n",
       "    </tr>\n",
       "    <tr>\n",
       "      <th>9</th>\n",
       "      <td>prior_arrest_episodes_ppviolationcharges</td>\n",
       "      <td>1.105202</td>\n",
       "    </tr>\n",
       "  </tbody>\n",
       "</table>\n",
       "</div>"
      ],
      "text/plain": [
       "                                     feature      coef\n",
       "1                            gang_affiliated  2.011800\n",
       "28                      age_at_release_18-22  1.485400\n",
       "29                      age_at_release_23-27  1.348292\n",
       "0                                gender_male  1.345022\n",
       "12                           condition_mh_sa  1.287948\n",
       "23                    drugtests_thc_positive  1.259186\n",
       "16                    violations_instruction  1.252103\n",
       "15           violations_electronicmonitoring  1.182378\n",
       "21                         residence_changes  1.148553\n",
       "9   prior_arrest_episodes_ppviolationcharges  1.105202"
      ]
     },
     "execution_count": 86,
     "metadata": {},
     "output_type": "execute_result"
    }
   ],
   "source": [
    "fi = log_reg.coef_[0]\n",
    "fi_zipped = list(zip(X.columns, fi))\n",
    "\n",
    "feats = pd.DataFrame(columns=['feature', 'coef'])\n",
    "\n",
    "for i in list(range(len(fi_zipped))):\n",
    "    feats.loc[i] = [fi_zipped[i][0], np.exp(fi_zipped[i][1])]\n",
    "\n",
    "feats = feats.sort_values(by='coef', ascending=False)\n",
    "feats.head(10)"
   ]
  },
  {
   "cell_type": "code",
   "execution_count": 87,
   "metadata": {},
   "outputs": [
    {
     "data": {
      "text/html": [
       "<div>\n",
       "<style scoped>\n",
       "    .dataframe tbody tr th:only-of-type {\n",
       "        vertical-align: middle;\n",
       "    }\n",
       "\n",
       "    .dataframe tbody tr th {\n",
       "        vertical-align: top;\n",
       "    }\n",
       "\n",
       "    .dataframe thead th {\n",
       "        text-align: right;\n",
       "    }\n",
       "</style>\n",
       "<table border=\"1\" class=\"dataframe\">\n",
       "  <thead>\n",
       "    <tr style=\"text-align: right;\">\n",
       "      <th></th>\n",
       "      <th>feature</th>\n",
       "      <th>coef</th>\n",
       "    </tr>\n",
       "  </thead>\n",
       "  <tbody>\n",
       "    <tr>\n",
       "      <th>19</th>\n",
       "      <td>delinquency_reports</td>\n",
       "      <td>0.893716</td>\n",
       "    </tr>\n",
       "    <tr>\n",
       "      <th>31</th>\n",
       "      <td>age_at_release_33-37</td>\n",
       "      <td>0.892412</td>\n",
       "    </tr>\n",
       "    <tr>\n",
       "      <th>41</th>\n",
       "      <td>prison_years_more than 3 years</td>\n",
       "      <td>0.841966</td>\n",
       "    </tr>\n",
       "    <tr>\n",
       "      <th>37</th>\n",
       "      <td>education_level_less than hs diploma</td>\n",
       "      <td>0.841486</td>\n",
       "    </tr>\n",
       "    <tr>\n",
       "      <th>32</th>\n",
       "      <td>age_at_release_38-42</td>\n",
       "      <td>0.825286</td>\n",
       "    </tr>\n",
       "    <tr>\n",
       "      <th>35</th>\n",
       "      <td>education_level_at least some college</td>\n",
       "      <td>0.784384</td>\n",
       "    </tr>\n",
       "    <tr>\n",
       "      <th>39</th>\n",
       "      <td>prison_years_greater than 2 to 3 years</td>\n",
       "      <td>0.771787</td>\n",
       "    </tr>\n",
       "    <tr>\n",
       "      <th>33</th>\n",
       "      <td>age_at_release_43-47</td>\n",
       "      <td>0.742762</td>\n",
       "    </tr>\n",
       "    <tr>\n",
       "      <th>34</th>\n",
       "      <td>age_at_release_48 or older</td>\n",
       "      <td>0.564147</td>\n",
       "    </tr>\n",
       "    <tr>\n",
       "      <th>27</th>\n",
       "      <td>percent_days_employed</td>\n",
       "      <td>0.294066</td>\n",
       "    </tr>\n",
       "  </tbody>\n",
       "</table>\n",
       "</div>"
      ],
      "text/plain": [
       "                                   feature      coef\n",
       "19                     delinquency_reports  0.893716\n",
       "31                    age_at_release_33-37  0.892412\n",
       "41          prison_years_more than 3 years  0.841966\n",
       "37    education_level_less than hs diploma  0.841486\n",
       "32                    age_at_release_38-42  0.825286\n",
       "35   education_level_at least some college  0.784384\n",
       "39  prison_years_greater than 2 to 3 years  0.771787\n",
       "33                    age_at_release_43-47  0.742762\n",
       "34              age_at_release_48 or older  0.564147\n",
       "27                   percent_days_employed  0.294066"
      ]
     },
     "execution_count": 87,
     "metadata": {},
     "output_type": "execute_result"
    }
   ],
   "source": [
    "feats.tail(10)"
   ]
  },
  {
   "cell_type": "markdown",
   "metadata": {},
   "source": [
    "ANALYSIS \n",
    "- Based on the above, we can see that those who are gang affiliated are twice as likely to recidivate than those who are not.\n",
    "- Holding all else equal, individuals in the two youngest age groups (18-22 and 23-27) are 35% to 49% more likely to recidivate than those who are not in either age range.\n",
    "- Men are 35% more likely to recidivate than women.\n",
    "- Regarding percent of days employed during parole, 21% of observations worked 100% of the days and 31% did not work at all. Those who did not work at all were 71% more likely to recidivate than those who worked all days.\n",
    "- Individuals who had at least some college experience were 20% less likely to recidivate than those who had no college experience."
   ]
  },
  {
   "cell_type": "code",
   "execution_count": 88,
   "metadata": {},
   "outputs": [],
   "source": [
    "# save our important features out for later use if needed\n",
    "feats.to_csv('../data/GA/important_feats.csv')"
   ]
  },
  {
   "cell_type": "markdown",
   "metadata": {},
   "source": [
    "---"
   ]
  },
  {
   "cell_type": "markdown",
   "metadata": {},
   "source": [
    "**FINAL NOTES**"
   ]
  },
  {
   "cell_type": "code",
   "execution_count": null,
   "metadata": {},
   "outputs": [],
   "source": [
    "# Export all statistics for later analysis\n",
    "model_trials_df.to_csv('../data/model_stats.csv', index = False)"
   ]
  },
  {
   "cell_type": "code",
   "execution_count": null,
   "metadata": {},
   "outputs": [],
   "source": [
    "# pickle favorite models for each dataset\n",
    "# NOTE these final choices were actually made in the Results notebook\n",
    "# saving them here while we have them in memory\n",
    "\n",
    "# NY - FNN\n",
    "ny_nn.save('../models/ny_best_model_nn.ksm') # using keras' save functionality rather than pickling for neural nets\n",
    "\n",
    "# FL - GradientBoost\n",
    "with open('../models/fl_best_model_grad.pkl', 'wb') as f:\n",
    "    pickle.dump(fl_grad, f)\n",
    "\n",
    "# GA - tuned GradientBoost\n",
    "with open('../models/ga_best_model_gboost2.pkl', 'wb') as f:\n",
    "    pickle.dump(ga_gboost2, f)"
   ]
  },
  {
   "cell_type": "markdown",
   "metadata": {},
   "source": [
    "- The model statistics are exported [here](../data/model_stats.csv).\n",
    "- The pickled models can be found in the **models** subdirectory.\n",
    "- The next formal notebook in the series is [Results and Recommendations](./04_results.ipynb).\n",
    "- To see some experimental modeling, including NLP and feature-importance focused models, see [Experiments](./03a_experiments.ipynb)."
   ]
  }
 ],
 "metadata": {
  "kernelspec": {
   "display_name": "Python 3.9.6 64-bit ('3.9.6')",
   "language": "python",
   "name": "python3"
  },
  "language_info": {
   "codemirror_mode": {
    "name": "ipython",
    "version": 3
   },
   "file_extension": ".py",
   "mimetype": "text/x-python",
   "name": "python",
   "nbconvert_exporter": "python",
   "pygments_lexer": "ipython3",
   "version": "3.9.6"
  },
  "vscode": {
   "interpreter": {
    "hash": "d3fbca8c5142a5f3fc0e150e2aa7dc992112775c37c59dc77ad7b753c4c0bceb"
   }
  }
 },
 "nbformat": 4,
 "nbformat_minor": 4
}
