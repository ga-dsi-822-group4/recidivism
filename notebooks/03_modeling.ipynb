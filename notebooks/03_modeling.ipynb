{
 "cells": [
  {
   "cell_type": "markdown",
   "metadata": {},
   "source": [
    "### Group Project 4 : Comparing 3 Models for Predicting Recidivism\n",
    "\n",
    "For background on this project, please see the [README](../README.md).\n",
    "\n",
    "**Notebooks**\n",
    "- [Data Acquisition & Cleaning](./01_data_acq_clean.ipynb)\n",
    "- [Exploratory Data Analysis](./02_eda.ipynb)\n",
    "- Modeling (this notebook)\n",
    "- [Model Tuning](./04_tuning.ipynb)\n",
    "- [Experiments](./04a_experiments.ipynb)\n",
    "- [Results and Recommendations](./05_results.ipynb)\n",
    "\n",
    "**In this notebook, you'll find:**\n",
    "- Classification models for each of the 3 datasets\n",
    "- TODO etc."
   ]
  },
  {
   "cell_type": "markdown",
   "metadata": {},
   "source": [
    "**Model 1: Base feature set - New York**"
   ]
  },
  {
   "cell_type": "code",
   "execution_count": 84,
   "metadata": {},
   "outputs": [],
   "source": [
    "import pandas as pd\n",
    "import numpy as np\n",
    "import matplotlib.pyplot as plt\n",
    "import time\n",
    "\n",
    "from sklearn.linear_model import LogisticRegression\n",
    "from sklearn.model_selection import train_test_split\n",
    "from sklearn.linear_model import LogisticRegression\n",
    "from sklearn.tree import DecisionTreeClassifier\n",
    "from sklearn.ensemble import RandomForestClassifier, GradientBoostingClassifier, AdaBoostClassifier, StackingClassifier, BaggingClassifier\n",
    "from sklearn.model_selection import train_test_split, GridSearchCV\n",
    "from sklearn.pipeline import Pipeline\n",
    "from sklearn.metrics import plot_confusion_matrix, confusion_matrix\n",
    "from sklearn.neighbors import KNeighborsClassifier\n",
    "from sklearn.preprocessing import StandardScaler\n",
    "\n",
    "from tensorflow.keras.models import Sequential\n",
    "from tensorflow.keras.layers import Dense, Dropout, Flatten, Conv2D, MaxPooling2D\n",
    "from tensorflow.keras import utils\n",
    "from tensorflow.keras.datasets import mnist\n",
    "from tensorflow.keras.regularizers import l2\n",
    "from tensorflow.keras.callbacks import EarlyStopping\n",
    "\n",
    "from imblearn.under_sampling import RandomUnderSampler, NearMiss\n",
    "from imblearn.over_sampling import RandomOverSampler, ADASYN\n",
    "from sklearn.metrics import balanced_accuracy_score, ConfusionMatrixDisplay, recall_score, f1_score, precision_score\n",
    "from imblearn.pipeline import Pipeline as ImbalancedPipeline\n",
    "from sklearn.decomposition import PCA"
   ]
  },
  {
   "cell_type": "markdown",
   "metadata": {},
   "source": [
    "**Model 1: Base feature set - New York**"
   ]
  },
  {
   "cell_type": "code",
   "execution_count": 85,
   "metadata": {},
   "outputs": [],
   "source": [
    "%store -r ny_df"
   ]
  },
  {
   "cell_type": "code",
   "execution_count": 86,
   "metadata": {},
   "outputs": [],
   "source": [
    "#Define X and y, Train Test and Split the Data\n",
    "\n",
    "X = ny_df[['gender_map', 'Age at Release']]\n",
    "y = ny_df['recidivism']\n",
    "\n",
    "X_train, X_test, y_train, y_test = train_test_split(X, y, random_state = 42, stratify = y)"
   ]
  },
  {
   "cell_type": "markdown",
   "metadata": {},
   "source": [
    "##### Basic Models- Two Features Gender and Age"
   ]
  },
  {
   "cell_type": "code",
   "execution_count": 87,
   "metadata": {},
   "outputs": [],
   "source": [
    "#Logistic Regression, Instantiate and Fit Model\n",
    "lr = LogisticRegression()\n",
    "lr.fit(X_train, y_train)\n",
    "\n",
    "#Save train and test accuracy for model evaluation\n",
    "log_train = lr.score(X_train, y_train)\n",
    "log_test = lr.score(X_test, y_test)"
   ]
  },
  {
   "cell_type": "code",
   "execution_count": 88,
   "metadata": {},
   "outputs": [],
   "source": [
    "#Random Forest, Instantiate and Fit\n",
    "rf= RandomForestClassifier(random_state = 42)\n",
    "rf.fit(X_train, y_train)\n",
    "\n",
    "#Save train and test accuracy for model eval\n",
    "rf_train = rf.score(X_train, y_train)\n",
    "rf_test = rf.score(X_test, y_test)"
   ]
  },
  {
   "cell_type": "code",
   "execution_count": 89,
   "metadata": {},
   "outputs": [],
   "source": [
    "#Ada Boost\n",
    "ada= AdaBoostClassifier(base_estimator = DecisionTreeClassifier(random_state = 42))\n",
    "ada.fit(X_train, y_train)\n",
    "\n",
    "ada_train = ada.score(X_train, y_train)\n",
    "ada_test = ada.score(X_test, y_test)"
   ]
  },
  {
   "cell_type": "code",
   "execution_count": 90,
   "metadata": {},
   "outputs": [],
   "source": [
    "#Gradient Boost\n",
    "gboost= GradientBoostingClassifier(random_state = 42)\n",
    "gboost.fit(X_train, y_train)\n",
    "\n",
    "gb_train = gboost.score(X_train, y_train)\n",
    "gb_test = gboost.score(X_test, y_test)"
   ]
  },
  {
   "cell_type": "code",
   "execution_count": 91,
   "metadata": {},
   "outputs": [],
   "source": [
    "#Stacked Model\n",
    "level1_estimators = [\n",
    "    ('random_forest', RandomForestClassifier()),\n",
    "    ('gboost', GradientBoostingClassifier()),\n",
    "    ('ada', AdaBoostClassifier())\n",
    "]\n",
    "\n",
    "stacked_model = StackingClassifier(estimators=level1_estimators,\n",
    "                                 final_estimator = LogisticRegression())\n",
    "\n",
    "stacked_model.fit(X_train, y_train)\n",
    "\n",
    "#Save train and test accuracy for model eval\n",
    "stack_train = stacked_model.score(X_train, y_train)\n",
    "stack_test = stacked_model.score(X_test, y_test)"
   ]
  },
  {
   "cell_type": "code",
   "execution_count": 92,
   "metadata": {},
   "outputs": [],
   "source": [
    "#KNN\n",
    "ss = StandardScaler()\n",
    "X_train_sc=ss.fit_transform(X_train)\n",
    "X_test_sc= ss.transform(X_test)\n",
    "\n",
    "knn = KNeighborsClassifier()\n",
    "knn.fit(X_train, y_train)\n",
    "\n",
    "#Save train and test accuracy for model eval\n",
    "knn_train = knn.score(X_train, y_train)\n",
    "knn_test = knn.score(X_test, y_test)"
   ]
  },
  {
   "cell_type": "markdown",
   "metadata": {},
   "source": [
    "##### Models Including County, Gender, Age"
   ]
  },
  {
   "cell_type": "code",
   "execution_count": 93,
   "metadata": {},
   "outputs": [],
   "source": [
    "#Creating a Dataframe including dummies of the county of indictment\n",
    "df_dummies = pd.get_dummies(ny_df['County of Indictment'])\n",
    "df_dummies['gender'] = ny_df['gender_map']\n",
    "df_dummies['recidivism'] = ny_df['recidivism']\n",
    "df_dummies['age'] = ny_df['Age at Release']\n",
    "\n",
    "#Define X and y with dummy data\n",
    "X = df_dummies.drop(columns = ['recidivism'])\n",
    "y = df_dummies['recidivism']\n",
    "\n",
    "#Train test split\n",
    "X_train2, X_test2, y_train2, y_test2 = train_test_split(X, y, random_state =42, stratify = y)"
   ]
  },
  {
   "cell_type": "code",
   "execution_count": 94,
   "metadata": {},
   "outputs": [
    {
     "name": "stderr",
     "output_type": "stream",
     "text": [
      "c:\\Users\\Gabe\\anaconda3\\lib\\site-packages\\sklearn\\linear_model\\_logistic.py:444: ConvergenceWarning: lbfgs failed to converge (status=1):\n",
      "STOP: TOTAL NO. of ITERATIONS REACHED LIMIT.\n",
      "\n",
      "Increase the number of iterations (max_iter) or scale the data as shown in:\n",
      "    https://scikit-learn.org/stable/modules/preprocessing.html\n",
      "Please also refer to the documentation for alternative solver options:\n",
      "    https://scikit-learn.org/stable/modules/linear_model.html#logistic-regression\n",
      "  n_iter_i = _check_optimize_result(\n"
     ]
    }
   ],
   "source": [
    "#Logistic Regression Model\n",
    "lr2 = LogisticRegression()\n",
    "lr2.fit(X_train2, y_train2)\n",
    "\n",
    "#Storing Accuracy Scores\n",
    "log_train2 = lr2.score(X_train2, y_train2)\n",
    "log_test2 = lr2.score(X_test2, y_test2)"
   ]
  },
  {
   "cell_type": "code",
   "execution_count": 95,
   "metadata": {},
   "outputs": [],
   "source": [
    "#Random Forest with Hyperparameter tuning\n",
    "rf2= RandomForestClassifier(random_state = 42)\n",
    "rf_params = {\n",
    "    'n_estimators': [120, 130],\n",
    "    'max_depth': [15,20],\n",
    "    'max_features' : [15,20],\n",
    "    'n_jobs': [-1]\n",
    "}\n",
    "\n",
    "gs1 = GridSearchCV(rf, param_grid= rf_params, cv = 3, n_jobs = -1)\n",
    "\n",
    "gs1.fit(X_train2, y_train2)\n",
    "\n",
    "#Storing Accuracy Scores\n",
    "rf_train2 = gs1.score(X_train2, y_train2)\n",
    "rf_test2 = gs1.score(X_test2, y_test2)"
   ]
  },
  {
   "cell_type": "code",
   "execution_count": 96,
   "metadata": {},
   "outputs": [],
   "source": [
    "#Ada Boost with Hyperparam tuning\n",
    "ada= AdaBoostClassifier(base_estimator = DecisionTreeClassifier(random_state = 42))\n",
    "\n",
    "ada_params= {\n",
    "    'n_estimators': [50, 100],\n",
    "    'base_estimator__max_depth':[1,3]\n",
    "}\n",
    "\n",
    "gs2 = GridSearchCV(ada, param_grid = ada_params, cv = 3, n_jobs = -1)\n",
    "gs2.fit(X_train2, y_train2)\n",
    "\n",
    "#Storing Accuracy Scores\n",
    "ada_train2 = gs2.score(X_train2, y_train2)\n",
    "ada_test2 = gs2.score(X_test2, y_test2)"
   ]
  },
  {
   "cell_type": "code",
   "execution_count": 97,
   "metadata": {},
   "outputs": [],
   "source": [
    "#Graident Boost\n",
    "gboost2= GradientBoostingClassifier(random_state = 42)\n",
    "\n",
    "gboost2.fit(X_train2, y_train2)\n",
    "\n",
    "\n",
    "#Storing Accuracy Scores\n",
    "gboost_train2 = gboost2.score(X_train2, y_train2)\n",
    "gboost_test2 = gboost2.score(X_test2, y_test2)"
   ]
  },
  {
   "cell_type": "code",
   "execution_count": 98,
   "metadata": {},
   "outputs": [],
   "source": [
    "#Stacked Model\n",
    "level1_estimators = [\n",
    "    ('random_forest', RandomForestClassifier()),\n",
    "    ('gboost', GradientBoostingClassifier())\n",
    "]\n",
    "\n",
    "stacked_model2 = StackingClassifier(estimators=level1_estimators,\n",
    "                                 final_estimator = LogisticRegression())\n",
    "\n",
    "stacked_model2.fit(X_train2, y_train2)\n",
    "\n",
    "#Storing Accuracy Scores\n",
    "stack_train2 = stacked_model2.score(X_train2, y_train2)\n",
    "stack_test2 = stacked_model2.score(X_test2, y_test2)"
   ]
  },
  {
   "cell_type": "code",
   "execution_count": 99,
   "metadata": {},
   "outputs": [
    {
     "data": {
      "text/plain": [
       "(141487, 65)"
      ]
     },
     "execution_count": 99,
     "metadata": {},
     "output_type": "execute_result"
    }
   ],
   "source": [
    "X_train2.shape"
   ]
  },
  {
   "cell_type": "code",
   "execution_count": 100,
   "metadata": {},
   "outputs": [],
   "source": [
    "ss = StandardScaler()\n",
    "X_train_sc = ss.fit_transform(X_train2)\n",
    "X_test_sc = ss.transform(X_test2)"
   ]
  },
  {
   "cell_type": "code",
   "execution_count": 101,
   "metadata": {},
   "outputs": [],
   "source": [
    "# Instantiate a CNN.\n",
    "model = Sequential()\n",
    "\n",
    "model.add(Dense(84, input_shape = (65,), activation = 'relu'))\n",
    "model.add(Dense(64, activation = 'relu'))\n",
    "model.add(Dense(32, activation = 'relu'))\n",
    "model.add(Dense(1, activation = 'sigmoid'))\n",
    "\n",
    "# Compile it\n",
    "model.compile(loss = 'bce', optimizer = 'adam', metrics = ['accuracy'])\n",
    "\n",
    "# Fit it\n",
    "res = model.fit(X_train_sc, y_train2,\n",
    "                epochs = 10,\n",
    "                batch_size = 32,\n",
    "                validation_data = (X_test_sc, y_test2),\n",
    "                verbose = 0) # No printing of our output"
   ]
  },
  {
   "cell_type": "code",
   "execution_count": 102,
   "metadata": {},
   "outputs": [],
   "source": [
    "#Save Accuracy Scores\n",
    "train_loss = res.history['accuracy']\n",
    "test_loss = res.history['val_accuracy']\n",
    "\n",
    "neuralnet_train = max(train_loss)\n",
    "neuralnet_test = max(test_loss)"
   ]
  },
  {
   "cell_type": "code",
   "execution_count": null,
   "metadata": {},
   "outputs": [],
   "source": []
  },
  {
   "cell_type": "markdown",
   "metadata": {},
   "source": [
    "##### Model Evaluation"
   ]
  },
  {
   "cell_type": "code",
   "execution_count": 103,
   "metadata": {},
   "outputs": [
    {
     "data": {
      "text/html": [
       "<div>\n",
       "<style scoped>\n",
       "    .dataframe tbody tr th:only-of-type {\n",
       "        vertical-align: middle;\n",
       "    }\n",
       "\n",
       "    .dataframe tbody tr th {\n",
       "        vertical-align: top;\n",
       "    }\n",
       "\n",
       "    .dataframe thead th {\n",
       "        text-align: right;\n",
       "    }\n",
       "</style>\n",
       "<table border=\"1\" class=\"dataframe\">\n",
       "  <thead>\n",
       "    <tr style=\"text-align: right;\">\n",
       "      <th></th>\n",
       "      <th>train_scores</th>\n",
       "      <th>test_scores</th>\n",
       "      <th>diff</th>\n",
       "      <th>baseline</th>\n",
       "    </tr>\n",
       "  </thead>\n",
       "  <tbody>\n",
       "    <tr>\n",
       "      <th>logreg</th>\n",
       "      <td>0.586831</td>\n",
       "      <td>0.587728</td>\n",
       "      <td>-0.000896</td>\n",
       "      <td>0.58</td>\n",
       "    </tr>\n",
       "    <tr>\n",
       "      <th>rf</th>\n",
       "      <td>0.588386</td>\n",
       "      <td>0.587070</td>\n",
       "      <td>0.001316</td>\n",
       "      <td>0.58</td>\n",
       "    </tr>\n",
       "    <tr>\n",
       "      <th>ada</th>\n",
       "      <td>0.588386</td>\n",
       "      <td>0.587113</td>\n",
       "      <td>0.001273</td>\n",
       "      <td>0.58</td>\n",
       "    </tr>\n",
       "    <tr>\n",
       "      <th>gb</th>\n",
       "      <td>0.588386</td>\n",
       "      <td>0.587070</td>\n",
       "      <td>0.001316</td>\n",
       "      <td>0.58</td>\n",
       "    </tr>\n",
       "    <tr>\n",
       "      <th>stack</th>\n",
       "      <td>0.588386</td>\n",
       "      <td>0.587070</td>\n",
       "      <td>0.001316</td>\n",
       "      <td>0.58</td>\n",
       "    </tr>\n",
       "    <tr>\n",
       "      <th>knn</th>\n",
       "      <td>0.534304</td>\n",
       "      <td>0.534614</td>\n",
       "      <td>-0.000310</td>\n",
       "      <td>0.58</td>\n",
       "    </tr>\n",
       "  </tbody>\n",
       "</table>\n",
       "</div>"
      ],
      "text/plain": [
       "        train_scores  test_scores      diff  baseline\n",
       "logreg      0.586831     0.587728 -0.000896      0.58\n",
       "rf          0.588386     0.587070  0.001316      0.58\n",
       "ada         0.588386     0.587113  0.001273      0.58\n",
       "gb          0.588386     0.587070  0.001316      0.58\n",
       "stack       0.588386     0.587070  0.001316      0.58\n",
       "knn         0.534304     0.534614 -0.000310      0.58"
      ]
     },
     "execution_count": 103,
     "metadata": {},
     "output_type": "execute_result"
    }
   ],
   "source": [
    "#Model Evaluation No Dummies\n",
    "train_scores = [log_train, rf_train, ada_train, gb_train, stack_train, knn_train]\n",
    "eval_df = pd.DataFrame(train_scores, columns = ['train_scores'])\n",
    "\n",
    "eval_df['test_scores'] = [log_test, rf_test, ada_test, gb_test, stack_test, knn_test]\n",
    "eval_df.index = ['logreg', 'rf', 'ada', 'gb', 'stack', 'knn']\n",
    "eval_df['diff'] = eval_df['train_scores'] - eval_df['test_scores']\n",
    "eval_df['baseline'] = .58\n",
    "\n",
    "eval_df"
   ]
  },
  {
   "cell_type": "code",
   "execution_count": 104,
   "metadata": {},
   "outputs": [
    {
     "data": {
      "text/html": [
       "<div>\n",
       "<style scoped>\n",
       "    .dataframe tbody tr th:only-of-type {\n",
       "        vertical-align: middle;\n",
       "    }\n",
       "\n",
       "    .dataframe tbody tr th {\n",
       "        vertical-align: top;\n",
       "    }\n",
       "\n",
       "    .dataframe thead th {\n",
       "        text-align: right;\n",
       "    }\n",
       "</style>\n",
       "<table border=\"1\" class=\"dataframe\">\n",
       "  <thead>\n",
       "    <tr style=\"text-align: right;\">\n",
       "      <th></th>\n",
       "      <th>train_scores</th>\n",
       "      <th>test_scores</th>\n",
       "      <th>diff</th>\n",
       "      <th>baseline</th>\n",
       "    </tr>\n",
       "  </thead>\n",
       "  <tbody>\n",
       "    <tr>\n",
       "      <th>logreg</th>\n",
       "      <td>0.598642</td>\n",
       "      <td>0.599665</td>\n",
       "      <td>-0.001023</td>\n",
       "      <td>0.58</td>\n",
       "    </tr>\n",
       "    <tr>\n",
       "      <th>rf</th>\n",
       "      <td>0.603236</td>\n",
       "      <td>0.597714</td>\n",
       "      <td>0.005521</td>\n",
       "      <td>0.58</td>\n",
       "    </tr>\n",
       "    <tr>\n",
       "      <th>ada</th>\n",
       "      <td>0.599362</td>\n",
       "      <td>0.599220</td>\n",
       "      <td>0.000143</td>\n",
       "      <td>0.58</td>\n",
       "    </tr>\n",
       "    <tr>\n",
       "      <th>gb</th>\n",
       "      <td>0.598988</td>\n",
       "      <td>0.598711</td>\n",
       "      <td>0.000277</td>\n",
       "      <td>0.58</td>\n",
       "    </tr>\n",
       "    <tr>\n",
       "      <th>stack</th>\n",
       "      <td>0.601122</td>\n",
       "      <td>0.600153</td>\n",
       "      <td>0.000970</td>\n",
       "      <td>0.58</td>\n",
       "    </tr>\n",
       "    <tr>\n",
       "      <th>neuralnet</th>\n",
       "      <td>0.599136</td>\n",
       "      <td>0.599050</td>\n",
       "      <td>0.000086</td>\n",
       "      <td>0.58</td>\n",
       "    </tr>\n",
       "  </tbody>\n",
       "</table>\n",
       "</div>"
      ],
      "text/plain": [
       "           train_scores  test_scores      diff  baseline\n",
       "logreg         0.598642     0.599665 -0.001023      0.58\n",
       "rf             0.603236     0.597714  0.005521      0.58\n",
       "ada            0.599362     0.599220  0.000143      0.58\n",
       "gb             0.598988     0.598711  0.000277      0.58\n",
       "stack          0.601122     0.600153  0.000970      0.58\n",
       "neuralnet      0.599136     0.599050  0.000086      0.58"
      ]
     },
     "execution_count": 104,
     "metadata": {},
     "output_type": "execute_result"
    }
   ],
   "source": [
    "#Model Evaluation With Dummies\n",
    "train_scores2 = [log_train2, rf_train2, ada_train2, gboost_train2, stack_train2, neuralnet_train]\n",
    "eval_df2 = pd.DataFrame(train_scores2, columns = ['train_scores'])\n",
    "\n",
    "eval_df2['test_scores'] = [log_test2, rf_test2, ada_test2, gboost_test2, stack_test2, neuralnet_test]\n",
    "eval_df2.index = ['logreg', 'rf', 'ada', 'gb', 'stack', 'neuralnet']\n",
    "eval_df2['diff'] = eval_df2['train_scores'] - eval_df2['test_scores']\n",
    "eval_df2['baseline'] = .58\n",
    "\n",
    "eval_df2"
   ]
  },
  {
   "cell_type": "markdown",
   "metadata": {},
   "source": [
    "**Model 2: Criminal history feature set - Florida**"
   ]
  },
  {
   "cell_type": "code",
   "execution_count": 105,
   "metadata": {},
   "outputs": [
    {
     "data": {
      "text/plain": [
       "Index(['person_id', 'num_incarcerations', 'comp_f_min_score',\n",
       "       'comp_f_min_decile', 'comp_f_max_score', 'comp_f_max_decile',\n",
       "       'comp_r_min_score', 'comp_r_min_decile', 'comp_r_max_score',\n",
       "       'comp_r_max_decile', 'comp_v_min_score', 'comp_v_min_decile',\n",
       "       'comp_v_max_score', 'comp_v_max_decile', 'sex_Male', 'race_Asian',\n",
       "       'race_Caucasian', 'race_Hispanic', 'race_Native American', 'race_Other',\n",
       "       'charge_degree_count_F1', 'charge_degree_count_F2',\n",
       "       'charge_degree_count_F3', 'charge_degree_count_F5',\n",
       "       'charge_degree_count_F6', 'charge_degree_count_F7',\n",
       "       'charge_degree_count_M1', 'charge_degree_count_M2',\n",
       "       'charge_degree_count_M3', 'agg_charges', 'avg_days_between_offenses',\n",
       "       'avg_days_between_arrests', 'first_charge_degree_F1',\n",
       "       'first_charge_degree_F2', 'first_charge_degree_F3',\n",
       "       'first_charge_degree_F5', 'first_charge_degree_F6',\n",
       "       'first_charge_degree_F7', 'first_charge_degree_M1',\n",
       "       'first_charge_degree_M2', 'last_charge_degree_F1',\n",
       "       'last_charge_degree_F2', 'last_charge_degree_F3',\n",
       "       'last_charge_degree_F5', 'last_charge_degree_F6',\n",
       "       'last_charge_degree_F7', 'last_charge_degree_M1',\n",
       "       'last_charge_degree_M2', 'age_at_first_incarceration',\n",
       "       'age_at_first_release', 'age_at_last_incarceration',\n",
       "       'age_at_last_release', 'age_at_first_arrest', 'age_at_last_arrest',\n",
       "       'recidivism', 'charge_degree_count_INF', 'first_charge_degree_INF',\n",
       "       'last_charge_degree_INF', 'total_misdemeanor_charge_count',\n",
       "       'total_felony_charge_count', 'total_charge_count'],\n",
       "      dtype='object')"
      ]
     },
     "execution_count": 105,
     "metadata": {},
     "output_type": "execute_result"
    }
   ],
   "source": [
    "# read in clean dataset\n",
    "fl = pd.read_csv('../data/FL/FL_final.csv')\n",
    "fl.columns"
   ]
  },
  {
   "cell_type": "markdown",
   "metadata": {},
   "source": [
    "CONCLUSIONS\n",
    "- We should drop all columns that were used only for EDA and will not be considered for the model.\n",
    "- We should also check the distribution of our target class to determine whether any rebalancing is needed."
   ]
  },
  {
   "cell_type": "code",
   "execution_count": 106,
   "metadata": {},
   "outputs": [],
   "source": [
    "# drop all non-model columns\n",
    "fl = fl.drop(columns = [\n",
    "    'person_id',  # unique ID, not predictive\n",
    "    'agg_charges', # will be used for NLP experiment\n",
    "    'avg_days_between_offenses', 'avg_days_between_arrests', # only meaningful for recidivists\n",
    "    'age_at_last_incarceration', 'age_at_last_release', 'age_at_last_arrest', # \"last\" columns are not predictive\n",
    "] + [col for col in fl if col.startswith('comp_')] # not using COMPAS scores in the model\n",
    "  + [col for col in fl if col.startswith('last_charge_')] # last charges are not predictive\n",
    ")"
   ]
  },
  {
   "cell_type": "code",
   "execution_count": 107,
   "metadata": {},
   "outputs": [
    {
     "name": "stdout",
     "output_type": "stream",
     "text": [
      "<class 'pandas.core.frame.DataFrame'>\n",
      "RangeIndex: 10645 entries, 0 to 10644\n",
      "Data columns (total 33 columns):\n",
      " #   Column                          Non-Null Count  Dtype  \n",
      "---  ------                          --------------  -----  \n",
      " 0   num_incarcerations              10645 non-null  int64  \n",
      " 1   sex_Male                        10645 non-null  int64  \n",
      " 2   race_Asian                      10645 non-null  int64  \n",
      " 3   race_Caucasian                  10645 non-null  int64  \n",
      " 4   race_Hispanic                   10645 non-null  int64  \n",
      " 5   race_Native American            10645 non-null  int64  \n",
      " 6   race_Other                      10645 non-null  int64  \n",
      " 7   charge_degree_count_F1          10645 non-null  float64\n",
      " 8   charge_degree_count_F2          10645 non-null  float64\n",
      " 9   charge_degree_count_F3          10645 non-null  float64\n",
      " 10  charge_degree_count_F5          10645 non-null  float64\n",
      " 11  charge_degree_count_F6          10645 non-null  float64\n",
      " 12  charge_degree_count_F7          10645 non-null  float64\n",
      " 13  charge_degree_count_M1          10645 non-null  float64\n",
      " 14  charge_degree_count_M2          10645 non-null  float64\n",
      " 15  charge_degree_count_M3          10645 non-null  float64\n",
      " 16  first_charge_degree_F1          10645 non-null  int64  \n",
      " 17  first_charge_degree_F2          10645 non-null  int64  \n",
      " 18  first_charge_degree_F3          10645 non-null  int64  \n",
      " 19  first_charge_degree_F5          10645 non-null  int64  \n",
      " 20  first_charge_degree_F6          10645 non-null  int64  \n",
      " 21  first_charge_degree_F7          10645 non-null  int64  \n",
      " 22  first_charge_degree_M1          10645 non-null  int64  \n",
      " 23  first_charge_degree_M2          10645 non-null  int64  \n",
      " 24  age_at_first_incarceration      10645 non-null  int64  \n",
      " 25  age_at_first_release            10645 non-null  int64  \n",
      " 26  age_at_first_arrest             10645 non-null  int64  \n",
      " 27  recidivism                      10645 non-null  int64  \n",
      " 28  charge_degree_count_INF         10645 non-null  float64\n",
      " 29  first_charge_degree_INF         10645 non-null  int64  \n",
      " 30  total_misdemeanor_charge_count  10645 non-null  float64\n",
      " 31  total_felony_charge_count       10645 non-null  float64\n",
      " 32  total_charge_count              10645 non-null  float64\n",
      "dtypes: float64(13), int64(20)\n",
      "memory usage: 2.7 MB\n"
     ]
    }
   ],
   "source": [
    "fl.info()"
   ]
  },
  {
   "cell_type": "code",
   "execution_count": 108,
   "metadata": {},
   "outputs": [
    {
     "data": {
      "text/plain": [
       "0    0.607327\n",
       "1    0.392673\n",
       "Name: recidivism, dtype: float64"
      ]
     },
     "execution_count": 108,
     "metadata": {},
     "output_type": "execute_result"
    }
   ],
   "source": [
    "# check the target class distribution (also our baseline accuracy)\n",
    "fl['recidivism'].value_counts(normalize = True)"
   ]
  },
  {
   "cell_type": "markdown",
   "metadata": {},
   "source": [
    "CONCLUSIONS\n",
    "- Our dataframe now contains only potential features and the target columns.\n",
    "- The value counts are definitely a bit skewed; we should give a few rebalancing techniques and see if they improve accuracy.\n",
    "- We will use a \"vanilla\" LogisticRegression to try rebalancing, and then move on to the rest of the models."
   ]
  },
  {
   "cell_type": "code",
   "execution_count": 109,
   "metadata": {},
   "outputs": [
    {
     "data": {
      "text/plain": [
       "((7983, 32), (7983,), (2662, 32), (2662,))"
      ]
     },
     "execution_count": 109,
     "metadata": {},
     "output_type": "execute_result"
    }
   ],
   "source": [
    "# define X and y, train-test split\n",
    "X = fl.drop(columns = ['recidivism'])\n",
    "y = fl['recidivism']\n",
    "X_train, X_test, y_train, y_test = train_test_split(X, y, random_state = 42, stratify = y)\n",
    "X_train.shape, y_train.shape, X_test.shape, y_test.shape"
   ]
  },
  {
   "cell_type": "code",
   "execution_count": 110,
   "metadata": {},
   "outputs": [],
   "source": [
    "# Scaling time!\n",
    "ss = StandardScaler()\n",
    "X_train_sc = ss.fit_transform(X_train)\n",
    "X_test_sc = ss.transform(X_test)"
   ]
  },
  {
   "cell_type": "code",
   "execution_count": 111,
   "metadata": {},
   "outputs": [
    {
     "data": {
      "text/plain": [
       "(0.8250031316547664, 0.8275732531930879)"
      ]
     },
     "execution_count": 111,
     "metadata": {},
     "output_type": "execute_result"
    }
   ],
   "source": [
    "logreg = LogisticRegression()\n",
    "logreg.fit(X_train_sc, y_train)\n",
    "logreg.score(X_train_sc, y_train), logreg.score(X_test_sc, y_test)"
   ]
  },
  {
   "cell_type": "markdown",
   "metadata": {},
   "source": [
    "CONCLUSIONS\n",
    "- Initial accuracy is not terrible!\n",
    "- Let's try some rebalancing to see if we can improve before we diversify our models."
   ]
  },
  {
   "cell_type": "code",
   "execution_count": 112,
   "metadata": {},
   "outputs": [],
   "source": [
    "# thanks to Devin Fay and General Assembly for this utility function to evaluate rebalancing efforts\n",
    "def evaluation(X_test, y_test, preds, model, normalize = 'pred'):\n",
    "    ConfusionMatrixDisplay.from_estimator(model, X_test, y_test, cmap='Blues',\n",
    "    normalize=normalize)\n",
    "    \n",
    "    print(f'balanced_accuracy: {balanced_accuracy_score(y_test, preds)}')\n",
    "    print(f'recall: {recall_score(y_test, preds, pos_label = 1)}')\n",
    "    print(f'precision: {precision_score(y_test, preds, pos_label = 1)}')\n",
    "    print(f'f1 score: {f1_score(y_test, preds, pos_label = 1)}')"
   ]
  },
  {
   "cell_type": "code",
   "execution_count": 113,
   "metadata": {},
   "outputs": [
    {
     "name": "stdout",
     "output_type": "stream",
     "text": [
      "balanced_accuracy: 0.8254597532793021\n",
      "recall: 0.7684210526315789\n",
      "precision: 0.8086606243705942\n",
      "f1 score: 0.7880274779195289\n"
     ]
    },
    {
     "data": {
      "image/png": "[encoded data removed]",
      "text/plain": [
       "<Figure size 432x288 with 2 Axes>"
      ]
     },
     "metadata": {
      "needs_background": "light"
     },
     "output_type": "display_data"
    }
   ],
   "source": [
    "# let's just balance the class weights and see\n",
    "logreg = LogisticRegression(class_weight = 'balanced')\n",
    "logreg.fit(X_train_sc, y_train)\n",
    "preds = logreg.predict(X_test_sc)\n",
    "evaluation(X_test_sc, y_test, preds, logreg)"
   ]
  },
  {
   "cell_type": "code",
   "execution_count": 114,
   "metadata": {},
   "outputs": [
    {
     "name": "stdout",
     "output_type": "stream",
     "text": [
      "balanced_accuracy: 0.8282199004003515\n",
      "recall: 0.7770334928229665\n",
      "precision: 0.8063555114200596\n",
      "f1 score: 0.7914230019493177\n"
     ]
    },
    {
     "data": {
      "image/png": "[encoded data removed]",
      "text/plain": [
       "<Figure size 432x288 with 2 Axes>"
      ]
     },
     "metadata": {
      "needs_background": "light"
     },
     "output_type": "display_data"
    }
   ],
   "source": [
    "# let's try random undersampling\n",
    "rus = RandomUnderSampler()\n",
    "X_train_sc_rus, y_train_rus = rus.fit_resample(X_train_sc, y_train)\n",
    "logreg = LogisticRegression()\n",
    "logreg.fit(X_train_sc_rus, y_train_rus)\n",
    "preds = logreg.predict(X_test_sc)\n",
    "evaluation(X_test_sc, y_test, preds, logreg)"
   ]
  },
  {
   "cell_type": "code",
   "execution_count": 115,
   "metadata": {},
   "outputs": [
    {
     "name": "stdout",
     "output_type": "stream",
     "text": [
      "balanced_accuracy: 0.8150733977801647\n",
      "recall: 0.8373205741626795\n",
      "precision: 0.7231404958677686\n",
      "f1 score: 0.7760532150776053\n"
     ]
    },
    {
     "data": {
      "image/png": "[encoded data removed]",
      "text/plain": [
       "<Figure size 432x288 with 2 Axes>"
      ]
     },
     "metadata": {
      "needs_background": "light"
     },
     "output_type": "display_data"
    }
   ],
   "source": [
    "# let's try NearMiss\n",
    "nm = NearMiss()\n",
    "X_train_sc_nm, y_train_nm = nm.fit_resample(X_train_sc, y_train)\n",
    "logreg = LogisticRegression()\n",
    "logreg.fit(X_train_sc_nm, y_train_nm)\n",
    "preds = logreg.predict(X_test_sc)\n",
    "evaluation(X_test_sc, y_test, preds, logreg)"
   ]
  },
  {
   "cell_type": "code",
   "execution_count": 116,
   "metadata": {},
   "outputs": [
    {
     "name": "stdout",
     "output_type": "stream",
     "text": [
      "balanced_accuracy: 0.8272043745727956\n",
      "recall: 0.7712918660287081\n",
      "precision: 0.8100502512562814\n",
      "f1 score: 0.7901960784313725\n"
     ]
    },
    {
     "data": {
      "image/png": "[encoded data removed]",
      "text/plain": [
       "<Figure size 432x288 with 2 Axes>"
      ]
     },
     "metadata": {
      "needs_background": "light"
     },
     "output_type": "display_data"
    }
   ],
   "source": [
    "# let's try RandomOverSampler\n",
    "ros = RandomOverSampler()\n",
    "X_train_sc_ros, y_train_ros = ros.fit_resample(X_train_sc, y_train)\n",
    "logreg = LogisticRegression()\n",
    "logreg.fit(X_train_sc_ros, y_train_ros)\n",
    "preds = logreg.predict(X_test_sc)\n",
    "evaluation(X_test_sc, y_test, preds, logreg)"
   ]
  },
  {
   "cell_type": "code",
   "execution_count": 117,
   "metadata": {},
   "outputs": [
    {
     "name": "stdout",
     "output_type": "stream",
     "text": [
      "balanced_accuracy: 0.8272043745727956\n",
      "recall: 0.7712918660287081\n",
      "precision: 0.8100502512562814\n",
      "f1 score: 0.7901960784313725\n"
     ]
    },
    {
     "name": "stderr",
     "output_type": "stream",
     "text": [
      "c:\\Users\\Gabe\\anaconda3\\lib\\site-packages\\sklearn\\model_selection\\_validation.py:378: FitFailedWarning: \n",
      "15 fits failed out of a total of 25.\n",
      "The score on these train-test partitions for these parameters will be set to nan.\n",
      "If these failures are not expected, you can try to debug them by setting error_score='raise'.\n",
      "\n",
      "Below are more details about the failures:\n",
      "--------------------------------------------------------------------------------\n",
      "15 fits failed with the following error:\n",
      "Traceback (most recent call last):\n",
      "  File \"c:\\Users\\Gabe\\anaconda3\\lib\\site-packages\\sklearn\\model_selection\\_validation.py\", line 686, in _fit_and_score\n",
      "    estimator.fit(X_train, y_train, **fit_params)\n",
      "  File \"c:\\Users\\Gabe\\anaconda3\\lib\\site-packages\\imblearn\\pipeline.py\", line 268, in fit\n",
      "    Xt, yt = self._fit(X, y, **fit_params_steps)\n",
      "  File \"c:\\Users\\Gabe\\anaconda3\\lib\\site-packages\\imblearn\\pipeline.py\", line 226, in _fit\n",
      "    X, y, fitted_transformer = fit_resample_one_cached(\n",
      "  File \"c:\\Users\\Gabe\\anaconda3\\lib\\site-packages\\joblib\\memory.py\", line 349, in __call__\n",
      "    return self.func(*args, **kwargs)\n",
      "  File \"c:\\Users\\Gabe\\anaconda3\\lib\\site-packages\\imblearn\\pipeline.py\", line 394, in _fit_resample_one\n",
      "    X_res, y_res = sampler.fit_resample(X, y, **fit_params)\n",
      "  File \"c:\\Users\\Gabe\\anaconda3\\lib\\site-packages\\imblearn\\base.py\", line 79, in fit_resample\n",
      "    self.sampling_strategy_ = check_sampling_strategy(\n",
      "  File \"c:\\Users\\Gabe\\anaconda3\\lib\\site-packages\\imblearn\\utils\\_validation.py\", line 534, in check_sampling_strategy\n",
      "    _sampling_strategy_float(sampling_strategy, y, sampling_type).items()\n",
      "  File \"c:\\Users\\Gabe\\anaconda3\\lib\\site-packages\\imblearn\\utils\\_validation.py\", line 373, in _sampling_strategy_float\n",
      "    raise ValueError(\n",
      "ValueError: The specified ratio required to remove samples from the minority class while trying to generate new samples. Please increase the ratio.\n",
      "\n",
      "  warnings.warn(some_fits_failed_message, FitFailedWarning)\n",
      "c:\\Users\\Gabe\\anaconda3\\lib\\site-packages\\sklearn\\model_selection\\_search.py:953: UserWarning: One or more of the test scores are non-finite: [       nan        nan        nan 0.80753625 0.82267464]\n",
      "  warnings.warn(\n"
     ]
    },
    {
     "data": {
      "image/png": "[encoded data removed]",
      "text/plain": [
       "<Figure size 432x288 with 2 Axes>"
      ]
     },
     "metadata": {
      "needs_background": "light"
     },
     "output_type": "display_data"
    }
   ],
   "source": [
    "# how about RandomOverSampler with some tuning?\n",
    "pipe = ImbalancedPipeline([\n",
    "    ('ros', RandomOverSampler(random_state = 42)),\n",
    "    ('logr', LogisticRegression(max_iter = 1_000))\n",
    "])\n",
    "\n",
    "gs = GridSearchCV(pipe,\n",
    "    param_grid = { 'ros__sampling_strategy': [0.1, 0.25, 0.5, 0.75, 1.0]}, scoring = 'balanced_accuracy')\n",
    "\n",
    "gs.fit(X_train_sc, y_train)\n",
    "preds = gs.predict(X_test_sc)\n",
    "evaluation(X_test_sc, y_test, preds, gs)"
   ]
  },
  {
   "cell_type": "code",
   "execution_count": 118,
   "metadata": {},
   "outputs": [
    {
     "name": "stderr",
     "output_type": "stream",
     "text": [
      "c:\\Users\\Gabe\\anaconda3\\lib\\site-packages\\sklearn\\model_selection\\_validation.py:378: FitFailedWarning: \n",
      "20 fits failed out of a total of 25.\n",
      "The score on these train-test partitions for these parameters will be set to nan.\n",
      "If these failures are not expected, you can try to debug them by setting error_score='raise'.\n",
      "\n",
      "Below are more details about the failures:\n",
      "--------------------------------------------------------------------------------\n",
      "15 fits failed with the following error:\n",
      "Traceback (most recent call last):\n",
      "  File \"c:\\Users\\Gabe\\anaconda3\\lib\\site-packages\\sklearn\\model_selection\\_validation.py\", line 686, in _fit_and_score\n",
      "    estimator.fit(X_train, y_train, **fit_params)\n",
      "  File \"c:\\Users\\Gabe\\anaconda3\\lib\\site-packages\\imblearn\\pipeline.py\", line 268, in fit\n",
      "    Xt, yt = self._fit(X, y, **fit_params_steps)\n",
      "  File \"c:\\Users\\Gabe\\anaconda3\\lib\\site-packages\\imblearn\\pipeline.py\", line 226, in _fit\n",
      "    X, y, fitted_transformer = fit_resample_one_cached(\n",
      "  File \"c:\\Users\\Gabe\\anaconda3\\lib\\site-packages\\joblib\\memory.py\", line 349, in __call__\n",
      "    return self.func(*args, **kwargs)\n",
      "  File \"c:\\Users\\Gabe\\anaconda3\\lib\\site-packages\\imblearn\\pipeline.py\", line 394, in _fit_resample_one\n",
      "    X_res, y_res = sampler.fit_resample(X, y, **fit_params)\n",
      "  File \"c:\\Users\\Gabe\\anaconda3\\lib\\site-packages\\imblearn\\base.py\", line 79, in fit_resample\n",
      "    self.sampling_strategy_ = check_sampling_strategy(\n",
      "  File \"c:\\Users\\Gabe\\anaconda3\\lib\\site-packages\\imblearn\\utils\\_validation.py\", line 534, in check_sampling_strategy\n",
      "    _sampling_strategy_float(sampling_strategy, y, sampling_type).items()\n",
      "  File \"c:\\Users\\Gabe\\anaconda3\\lib\\site-packages\\imblearn\\utils\\_validation.py\", line 373, in _sampling_strategy_float\n",
      "    raise ValueError(\n",
      "ValueError: The specified ratio required to remove samples from the minority class while trying to generate new samples. Please increase the ratio.\n",
      "\n",
      "--------------------------------------------------------------------------------\n",
      "5 fits failed with the following error:\n",
      "Traceback (most recent call last):\n",
      "  File \"c:\\Users\\Gabe\\anaconda3\\lib\\site-packages\\sklearn\\model_selection\\_validation.py\", line 686, in _fit_and_score\n",
      "    estimator.fit(X_train, y_train, **fit_params)\n",
      "  File \"c:\\Users\\Gabe\\anaconda3\\lib\\site-packages\\imblearn\\pipeline.py\", line 268, in fit\n",
      "    Xt, yt = self._fit(X, y, **fit_params_steps)\n",
      "  File \"c:\\Users\\Gabe\\anaconda3\\lib\\site-packages\\imblearn\\pipeline.py\", line 226, in _fit\n",
      "    X, y, fitted_transformer = fit_resample_one_cached(\n",
      "  File \"c:\\Users\\Gabe\\anaconda3\\lib\\site-packages\\joblib\\memory.py\", line 349, in __call__\n",
      "    return self.func(*args, **kwargs)\n",
      "  File \"c:\\Users\\Gabe\\anaconda3\\lib\\site-packages\\imblearn\\pipeline.py\", line 394, in _fit_resample_one\n",
      "    X_res, y_res = sampler.fit_resample(X, y, **fit_params)\n",
      "  File \"c:\\Users\\Gabe\\anaconda3\\lib\\site-packages\\imblearn\\base.py\", line 83, in fit_resample\n",
      "    output = self._fit_resample(X, y)\n",
      "  File \"c:\\Users\\Gabe\\anaconda3\\lib\\site-packages\\imblearn\\over_sampling\\_adasyn.py\", line 162, in _fit_resample\n",
      "    raise ValueError(\n",
      "ValueError: No samples will be generated with the provided ratio settings.\n",
      "\n",
      "  warnings.warn(some_fits_failed_message, FitFailedWarning)\n",
      "c:\\Users\\Gabe\\anaconda3\\lib\\site-packages\\sklearn\\model_selection\\_search.py:953: UserWarning: One or more of the test scores are non-finite: [       nan        nan        nan        nan 0.83666622]\n",
      "  warnings.warn(\n"
     ]
    },
    {
     "name": "stdout",
     "output_type": "stream",
     "text": [
      "balanced_accuracy: 0.8393190769130618\n",
      "recall: 0.815311004784689\n",
      "precision: 0.7940354147250699\n",
      "f1 score: 0.8045325779036826\n"
     ]
    },
    {
     "data": {
      "image/png": "[encoded data removed]",
      "text/plain": [
       "<Figure size 432x288 with 2 Axes>"
      ]
     },
     "metadata": {
      "needs_background": "light"
     },
     "output_type": "display_data"
    }
   ],
   "source": [
    "# We'll give it one more shot with ADASYN\n",
    "pipe = ImbalancedPipeline([\n",
    "    ('ada', ADASYN(random_state = 42)),\n",
    "    ('logr', LogisticRegression(max_iter = 1_000))\n",
    "])\n",
    "\n",
    "gs = GridSearchCV(pipe,\n",
    "    param_grid = { 'ada__sampling_strategy': [0.1, 0.25, 0.5, 0.75, 1.0]}, scoring = 'balanced_accuracy')\n",
    "\n",
    "gs.fit(X_train_sc, y_train)\n",
    "preds = gs.predict(X_test_sc)\n",
    "evaluation(X_test_sc, y_test, preds, gs)"
   ]
  },
  {
   "cell_type": "markdown",
   "metadata": {},
   "source": [
    "CONCLUSIONS\n",
    "- ADASYN does appear to improve our model slightly, so we will use it to rebalance our target classes"
   ]
  },
  {
   "cell_type": "code",
   "execution_count": 119,
   "metadata": {},
   "outputs": [
    {
     "data": {
      "text/html": [
       "<style>#sk-container-id-2 {color: black;background-color: white;}#sk-container-id-2 pre{padding: 0;}#sk-container-id-2 div.sk-toggleable {background-color: white;}#sk-container-id-2 label.sk-toggleable__label {cursor: pointer;display: block;width: 100%;margin-bottom: 0;padding: 0.3em;box-sizing: border-box;text-align: center;}#sk-container-id-2 label.sk-toggleable__label-arrow:before {content: \"▸\";float: left;margin-right: 0.25em;color: #696969;}#sk-container-id-2 label.sk-toggleable__label-arrow:hover:before {color: black;}#sk-container-id-2 div.sk-estimator:hover label.sk-toggleable__label-arrow:before {color: black;}#sk-container-id-2 div.sk-toggleable__content {max-height: 0;max-width: 0;overflow: hidden;text-align: left;background-color: #f0f8ff;}#sk-container-id-2 div.sk-toggleable__content pre {margin: 0.2em;color: black;border-radius: 0.25em;background-color: #f0f8ff;}#sk-container-id-2 input.sk-toggleable__control:checked~div.sk-toggleable__content {max-height: 200px;max-width: 100%;overflow: auto;}#sk-container-id-2 input.sk-toggleable__control:checked~label.sk-toggleable__label-arrow:before {content: \"▾\";}#sk-container-id-2 div.sk-estimator input.sk-toggleable__control:checked~label.sk-toggleable__label {background-color: #d4ebff;}#sk-container-id-2 div.sk-label input.sk-toggleable__control:checked~label.sk-toggleable__label {background-color: #d4ebff;}#sk-container-id-2 input.sk-hidden--visually {border: 0;clip: rect(1px 1px 1px 1px);clip: rect(1px, 1px, 1px, 1px);height: 1px;margin: -1px;overflow: hidden;padding: 0;position: absolute;width: 1px;}#sk-container-id-2 div.sk-estimator {font-family: monospace;background-color: #f0f8ff;border: 1px dotted black;border-radius: 0.25em;box-sizing: border-box;margin-bottom: 0.5em;}#sk-container-id-2 div.sk-estimator:hover {background-color: #d4ebff;}#sk-container-id-2 div.sk-parallel-item::after {content: \"\";width: 100%;border-bottom: 1px solid gray;flex-grow: 1;}#sk-container-id-2 div.sk-label:hover label.sk-toggleable__label {background-color: #d4ebff;}#sk-container-id-2 div.sk-serial::before {content: \"\";position: absolute;border-left: 1px solid gray;box-sizing: border-box;top: 0;bottom: 0;left: 50%;z-index: 0;}#sk-container-id-2 div.sk-serial {display: flex;flex-direction: column;align-items: center;background-color: white;padding-right: 0.2em;padding-left: 0.2em;position: relative;}#sk-container-id-2 div.sk-item {position: relative;z-index: 1;}#sk-container-id-2 div.sk-parallel {display: flex;align-items: stretch;justify-content: center;background-color: white;position: relative;}#sk-container-id-2 div.sk-item::before, #sk-container-id-2 div.sk-parallel-item::before {content: \"\";position: absolute;border-left: 1px solid gray;box-sizing: border-box;top: 0;bottom: 0;left: 50%;z-index: -1;}#sk-container-id-2 div.sk-parallel-item {display: flex;flex-direction: column;z-index: 1;position: relative;background-color: white;}#sk-container-id-2 div.sk-parallel-item:first-child::after {align-self: flex-end;width: 50%;}#sk-container-id-2 div.sk-parallel-item:last-child::after {align-self: flex-start;width: 50%;}#sk-container-id-2 div.sk-parallel-item:only-child::after {width: 0;}#sk-container-id-2 div.sk-dashed-wrapped {border: 1px dashed gray;margin: 0 0.4em 0.5em 0.4em;box-sizing: border-box;padding-bottom: 0.4em;background-color: white;}#sk-container-id-2 div.sk-label label {font-family: monospace;font-weight: bold;display: inline-block;line-height: 1.2em;}#sk-container-id-2 div.sk-label-container {text-align: center;}#sk-container-id-2 div.sk-container {/* jupyter's `normalize.less` sets `[hidden] { display: none; }` but bootstrap.min.css set `[hidden] { display: none !important; }` so we also need the `!important` here to be able to override the default hidden behavior on the sphinx rendered scikit-learn.org. See: https://github.com/scikit-learn/scikit-learn/issues/21755 */display: inline-block !important;position: relative;}#sk-container-id-2 div.sk-text-repr-fallback {display: none;}</style><div id=\"sk-container-id-2\" class=\"sk-top-container\"><div class=\"sk-text-repr-fallback\"><pre>Pipeline(steps=[(&#x27;ada&#x27;, ADASYN(random_state=42, sampling_strategy=1.0)),\n",
       "                (&#x27;logr&#x27;, LogisticRegression(max_iter=1000))])</pre><b>In a Jupyter environment, please rerun this cell to show the HTML representation or trust the notebook. <br />On GitHub, the HTML representation is unable to render, please try loading this page with nbviewer.org.</b></div><div class=\"sk-container\" hidden><div class=\"sk-item sk-dashed-wrapped\"><div class=\"sk-label-container\"><div class=\"sk-label sk-toggleable\"><input class=\"sk-toggleable__control sk-hidden--visually\" id=\"sk-estimator-id-4\" type=\"checkbox\" ><label for=\"sk-estimator-id-4\" class=\"sk-toggleable__label sk-toggleable__label-arrow\">Pipeline</label><div class=\"sk-toggleable__content\"><pre>Pipeline(steps=[(&#x27;ada&#x27;, ADASYN(random_state=42, sampling_strategy=1.0)),\n",
       "                (&#x27;logr&#x27;, LogisticRegression(max_iter=1000))])</pre></div></div></div><div class=\"sk-serial\"><div class=\"sk-item\"><div class=\"sk-estimator sk-toggleable\"><input class=\"sk-toggleable__control sk-hidden--visually\" id=\"sk-estimator-id-5\" type=\"checkbox\" ><label for=\"sk-estimator-id-5\" class=\"sk-toggleable__label sk-toggleable__label-arrow\">ADASYN</label><div class=\"sk-toggleable__content\"><pre>ADASYN(random_state=42, sampling_strategy=1.0)</pre></div></div></div><div class=\"sk-item\"><div class=\"sk-estimator sk-toggleable\"><input class=\"sk-toggleable__control sk-hidden--visually\" id=\"sk-estimator-id-6\" type=\"checkbox\" ><label for=\"sk-estimator-id-6\" class=\"sk-toggleable__label sk-toggleable__label-arrow\">LogisticRegression</label><div class=\"sk-toggleable__content\"><pre>LogisticRegression(max_iter=1000)</pre></div></div></div></div></div></div></div>"
      ],
      "text/plain": [
       "Pipeline(steps=[('ada', ADASYN(random_state=42, sampling_strategy=1.0)),\n",
       "                ('logr', LogisticRegression(max_iter=1000))])"
      ]
     },
     "execution_count": 119,
     "metadata": {},
     "output_type": "execute_result"
    }
   ],
   "source": [
    "gs.best_estimator_"
   ]
  },
  {
   "cell_type": "code",
   "execution_count": 120,
   "metadata": {},
   "outputs": [],
   "source": [
    "adasyn = ADASYN(random_state = 42, sampling_strategy = 1.0)\n",
    "X_train_sc, y_train = adasyn.fit_resample(X_train_sc, y_train)"
   ]
  },
  {
   "cell_type": "markdown",
   "metadata": {},
   "source": [
    "CONCLUSIONS\n",
    "- Now that we've dealt with our class imbalance, we can start trying some other models - we'll use GridSearch for most of these."
   ]
  },
  {
   "cell_type": "code",
   "execution_count": 121,
   "metadata": {},
   "outputs": [],
   "source": [
    "# data frame for storing our stats\n",
    "df_stats = pd.DataFrame(columns = ['model', 'fit_time', 'train_acc', 'test_acc', 'recall', 'precision', 'f1'])\n",
    "\n",
    "# Thanks to Devin Fay and his Imbalanced Data lesson at GA for the basis of this function\n",
    "def evaluation(model, model_desc, X_train, y_train, X_test, y_test, normalize = 'pred'):\n",
    "    '''\n",
    "    Function to print and acquire some quick model stats.\n",
    "\n",
    "    Parameters:\n",
    "        model: the model\n",
    "        model: description of the model\n",
    "        X_train, y_train: Training features and target\n",
    "        X_test, y_test: Testing features and target\n",
    "        normalize: normalization for ConfusionMatrixDisplay\n",
    "    Returns:\n",
    "        Dataframe containing the model, fit time, training accuracy, testing accuracy, recall, precision, and F1\n",
    "    '''\n",
    "\n",
    "    start_time = time.time()\n",
    "    model.fit(X_train, y_train)\n",
    "    stop_time = time.time()\n",
    "    fit_time = stop_time - start_time\n",
    "    preds = model.predict(X_test)\n",
    "    \n",
    "    ConfusionMatrixDisplay.from_estimator(model, X_test, y_test, cmap='Blues',\n",
    "    normalize=normalize)\n",
    "\n",
    "    train_acc = model.score(X_train, y_train)\n",
    "    test_acc = model.score(X_test, y_test)\n",
    "    recall = recall_score(y_test, preds, pos_label = 1)\n",
    "    precision = precision_score(y_test, preds, pos_label = 1)\n",
    "    f1 = f1_score(y_test, preds, pos_label = 1)\n",
    "    \n",
    "    print(f'fit time: {fit_time}')\n",
    "    print(f'training set accuracy: {train_acc}')\n",
    "    print(f'test set accuracy: {test_acc}')\n",
    "    print(f'recall: {recall}')\n",
    "    print(f'precision: {precision}')\n",
    "    print(f'f1 score: {f1}')\n",
    "\n",
    "    return pd.DataFrame([{'model': model_desc, 'fit_time': fit_time, 'train_acc': train_acc, 'test_acc': test_acc,\n",
    "        'recall': recall, 'precision': precision, 'f1': f1}])"
   ]
  },
  {
   "cell_type": "code",
   "execution_count": 122,
   "metadata": {},
   "outputs": [
    {
     "name": "stderr",
     "output_type": "stream",
     "text": [
      "c:\\Users\\Gabe\\anaconda3\\lib\\site-packages\\sklearn\\model_selection\\_validation.py:378: FitFailedWarning: \n",
      "270 fits failed out of a total of 540.\n",
      "The score on these train-test partitions for these parameters will be set to nan.\n",
      "If these failures are not expected, you can try to debug them by setting error_score='raise'.\n",
      "\n",
      "Below are more details about the failures:\n",
      "--------------------------------------------------------------------------------\n",
      "135 fits failed with the following error:\n",
      "Traceback (most recent call last):\n",
      "  File \"c:\\Users\\Gabe\\anaconda3\\lib\\site-packages\\sklearn\\model_selection\\_validation.py\", line 686, in _fit_and_score\n",
      "    estimator.fit(X_train, y_train, **fit_params)\n",
      "  File \"c:\\Users\\Gabe\\anaconda3\\lib\\site-packages\\sklearn\\linear_model\\_logistic.py\", line 1091, in fit\n",
      "    solver = _check_solver(self.solver, self.penalty, self.dual)\n",
      "  File \"c:\\Users\\Gabe\\anaconda3\\lib\\site-packages\\sklearn\\linear_model\\_logistic.py\", line 55, in _check_solver\n",
      "    raise ValueError(\n",
      "ValueError: Logistic Regression supports only penalties in ['l1', 'l2', 'elasticnet', 'none'], got None.\n",
      "\n",
      "--------------------------------------------------------------------------------\n",
      "45 fits failed with the following error:\n",
      "Traceback (most recent call last):\n",
      "  File \"c:\\Users\\Gabe\\anaconda3\\lib\\site-packages\\sklearn\\model_selection\\_validation.py\", line 686, in _fit_and_score\n",
      "    estimator.fit(X_train, y_train, **fit_params)\n",
      "  File \"c:\\Users\\Gabe\\anaconda3\\lib\\site-packages\\sklearn\\linear_model\\_logistic.py\", line 1091, in fit\n",
      "    solver = _check_solver(self.solver, self.penalty, self.dual)\n",
      "  File \"c:\\Users\\Gabe\\anaconda3\\lib\\site-packages\\sklearn\\linear_model\\_logistic.py\", line 61, in _check_solver\n",
      "    raise ValueError(\n",
      "ValueError: Solver lbfgs supports only 'l2' or 'none' penalties, got l1 penalty.\n",
      "\n",
      "--------------------------------------------------------------------------------\n",
      "45 fits failed with the following error:\n",
      "Traceback (most recent call last):\n",
      "  File \"c:\\Users\\Gabe\\anaconda3\\lib\\site-packages\\sklearn\\model_selection\\_validation.py\", line 686, in _fit_and_score\n",
      "    estimator.fit(X_train, y_train, **fit_params)\n",
      "  File \"c:\\Users\\Gabe\\anaconda3\\lib\\site-packages\\sklearn\\linear_model\\_logistic.py\", line 1091, in fit\n",
      "    solver = _check_solver(self.solver, self.penalty, self.dual)\n",
      "  File \"c:\\Users\\Gabe\\anaconda3\\lib\\site-packages\\sklearn\\linear_model\\_logistic.py\", line 61, in _check_solver\n",
      "    raise ValueError(\n",
      "ValueError: Solver lbfgs supports only 'l2' or 'none' penalties, got elasticnet penalty.\n",
      "\n",
      "--------------------------------------------------------------------------------\n",
      "45 fits failed with the following error:\n",
      "Traceback (most recent call last):\n",
      "  File \"c:\\Users\\Gabe\\anaconda3\\lib\\site-packages\\sklearn\\model_selection\\_validation.py\", line 686, in _fit_and_score\n",
      "    estimator.fit(X_train, y_train, **fit_params)\n",
      "  File \"c:\\Users\\Gabe\\anaconda3\\lib\\site-packages\\sklearn\\linear_model\\_logistic.py\", line 1091, in fit\n",
      "    solver = _check_solver(self.solver, self.penalty, self.dual)\n",
      "  File \"c:\\Users\\Gabe\\anaconda3\\lib\\site-packages\\sklearn\\linear_model\\_logistic.py\", line 71, in _check_solver\n",
      "    raise ValueError(\n",
      "ValueError: Only 'saga' solver supports elasticnet penalty, got solver=liblinear.\n",
      "\n",
      "  warnings.warn(some_fits_failed_message, FitFailedWarning)\n",
      "c:\\Users\\Gabe\\anaconda3\\lib\\site-packages\\sklearn\\model_selection\\_search.py:953: UserWarning: One or more of the test scores are non-finite: [       nan        nan        nan        nan 0.80821173 0.80085138\n",
      " 0.80310061 0.80269156 0.79921576        nan        nan 0.799727\n",
      "        nan        nan        nan        nan 0.80821173 0.80085138\n",
      " 0.80310061 0.80269156 0.79921576        nan        nan 0.80054458\n",
      "        nan        nan        nan        nan 0.80821173 0.80085138\n",
      " 0.80310061 0.80269156 0.79921576        nan        nan 0.80085138\n",
      "        nan        nan        nan        nan 0.81639106 0.80279412\n",
      " 0.81403974 0.81403969 0.80269187        nan        nan 0.80269187\n",
      "        nan        nan        nan        nan 0.81639106 0.80279412\n",
      " 0.81403974 0.81403969 0.80269187        nan        nan 0.80269187\n",
      "        nan        nan        nan        nan 0.81639106 0.80279412\n",
      " 0.81403974 0.81403969 0.80269187        nan        nan 0.80279412\n",
      "        nan        nan        nan        nan 0.81700408 0.80279412\n",
      " 0.81731083 0.81731083 0.80279412        nan        nan 0.80279412\n",
      "        nan        nan        nan        nan 0.81700408 0.80279412\n",
      " 0.81731083 0.81731083 0.80279412        nan        nan 0.80279412\n",
      "        nan        nan        nan        nan 0.81700408 0.80279412\n",
      " 0.81731083 0.81731083 0.80279412        nan        nan 0.80279412]\n",
      "  warnings.warn(\n",
      "c:\\Users\\Gabe\\anaconda3\\lib\\site-packages\\sklearn\\linear_model\\_logistic.py:1106: UserWarning: l1_ratio parameter is only used when penalty is 'elasticnet'. Got (penalty=l2)\n",
      "  warnings.warn(\n",
      "c:\\Users\\Gabe\\anaconda3\\lib\\site-packages\\sklearn\\linear_model\\_logistic.py:1106: UserWarning: l1_ratio parameter is only used when penalty is 'elasticnet'. Got (penalty=l2)\n",
      "  warnings.warn(\n"
     ]
    },
    {
     "name": "stdout",
     "output_type": "stream",
     "text": [
      "fit time: 0.031536102294921875\n",
      "training set accuracy: 0.8230423226334083\n",
      "test set accuracy: 0.8474830954169797\n",
      "recall: 0.8200956937799043\n",
      "precision: 0.7972093023255814\n",
      "f1 score: 0.8084905660377358\n"
     ]
    },
    {
     "data": {
      "image/png": "[encoded data removed]",
      "text/plain": [
       "<Figure size 432x288 with 2 Axes>"
      ]
     },
     "metadata": {
      "needs_background": "light"
     },
     "output_type": "display_data"
    }
   ],
   "source": [
    "# LogisticRegression (now with tuning)\n",
    "logreg = LogisticRegression(random_state = 42)\n",
    "params = {\n",
    "    'penalty': ['None', 'l1', 'l2', 'elasticnet'],\n",
    "    'C': [0.1, 1, 10],\n",
    "    'solver': ['lbfgs', 'liblinear', 'saga'],\n",
    "    'l1_ratio': [0.1, 0.5, 1.0]\n",
    "}\n",
    "\n",
    "gs = GridSearchCV(estimator = logreg, param_grid = params, n_jobs = -1)\n",
    "gs.fit(X_train_sc, y_train)\n",
    "df_stats = pd.concat([df_stats, evaluation(gs.best_estimator_, 'Tuned LogisticRegression', X_train_sc, y_train, X_test_sc, y_test)])"
   ]
  },
  {
   "cell_type": "code",
   "execution_count": 123,
   "metadata": {},
   "outputs": [
    {
     "name": "stdout",
     "output_type": "stream",
     "text": [
      "fit time: 0.001169443130493164\n",
      "training set accuracy: 0.9995910856675526\n",
      "test set accuracy: 0.7956423741547709\n",
      "recall: 0.7559808612440191\n",
      "precision: 0.732159406858202\n",
      "f1 score: 0.7438794726930319\n"
     ]
    },
    {
     "data": {
      "image/png": "[encoded data removed]",
      "text/plain": [
       "<Figure size 432x288 with 2 Axes>"
      ]
     },
     "metadata": {
      "needs_background": "light"
     },
     "output_type": "display_data"
    }
   ],
   "source": [
    "# KNN\n",
    "knn = KNeighborsClassifier()\n",
    "params = {\n",
    "    'n_neighbors': [3, 5, 8],\n",
    "    'weights': ['uniform', 'distance'],\n",
    "    'metric': ['minkowski', 'manhattan', 'euclidean']\n",
    "}\n",
    "\n",
    "gs = GridSearchCV(estimator = knn, param_grid = params, n_jobs = -1)\n",
    "gs.fit(X_train_sc, y_train)\n",
    "df_stats = pd.concat([df_stats, evaluation(gs.best_estimator_, 'KNearestNeighbors', X_train_sc, y_train, X_test_sc, y_test)])"
   ]
  },
  {
   "cell_type": "code",
   "execution_count": 124,
   "metadata": {},
   "outputs": [
    {
     "name": "stdout",
     "output_type": "stream",
     "text": [
      "fit time: 0.6277241706848145\n",
      "training set accuracy: 0.9966264567573093\n",
      "test set accuracy: 0.8666416228399699\n",
      "recall: 0.8602870813397129\n",
      "precision: 0.8113718411552346\n",
      "f1 score: 0.8351137947050628\n"
     ]
    },
    {
     "data": {
      "image/png": "[encoded data removed]",
      "text/plain": [
       "<Figure size 432x288 with 2 Axes>"
      ]
     },
     "metadata": {
      "needs_background": "light"
     },
     "output_type": "display_data"
    }
   ],
   "source": [
    "# Bagging\n",
    "bag = BaggingClassifier(random_state = 42)\n",
    "params = {\n",
    "    'n_estimators': [10, 20]\n",
    "}\n",
    "\n",
    "gs = GridSearchCV(estimator = bag, param_grid = params, n_jobs = -1)\n",
    "gs.fit(X_train_sc, y_train)\n",
    "df_stats = pd.concat([df_stats, evaluation(gs.best_estimator_, 'BaggingClassifier', X_train_sc, y_train, X_test_sc, y_test)])"
   ]
  },
  {
   "cell_type": "code",
   "execution_count": 125,
   "metadata": {},
   "outputs": [
    {
     "name": "stdout",
     "output_type": "stream",
     "text": [
      "fit time: 0.800511360168457\n",
      "training set accuracy: 0.9106522183602536\n",
      "test set accuracy: 0.8677685950413223\n",
      "recall: 0.938755980861244\n",
      "precision: 0.7730496453900709\n",
      "f1 score: 0.8478824546240278\n"
     ]
    },
    {
     "data": {
      "image/png": "[encoded data removed]",
      "text/plain": [
       "<Figure size 432x288 with 2 Axes>"
      ]
     },
     "metadata": {
      "needs_background": "light"
     },
     "output_type": "display_data"
    }
   ],
   "source": [
    "# Random Forest\n",
    "rf = RandomForestClassifier(random_state = 42)\n",
    "params = {\n",
    "    'n_estimators': [100, 150],\n",
    "    'max_features': ['sqrt', 'log2'],\n",
    "    'max_depth': [2, 5, 10],\n",
    "    'min_samples_split': [2, 4],\n",
    "    'min_samples_leaf': [1, 2]\n",
    "}\n",
    "\n",
    "gs = GridSearchCV(estimator = rf, param_grid = params, n_jobs = -1)\n",
    "gs.fit(X_train_sc, y_train)\n",
    "df_stats = pd.concat([df_stats, evaluation(gs.best_estimator_, 'RandomForestClassifier', X_train_sc, y_train, X_test_sc, y_test)])"
   ]
  },
  {
   "cell_type": "code",
   "execution_count": 126,
   "metadata": {},
   "outputs": [
    {
     "name": "stdout",
     "output_type": "stream",
     "text": [
      "fit time: 0.38355588912963867\n",
      "training set accuracy: 0.8839705581680638\n",
      "test set accuracy: 0.8613824192336589\n",
      "recall: 0.9282296650717703\n",
      "precision: 0.7674050632911392\n",
      "f1 score: 0.8401905586834126\n"
     ]
    },
    {
     "data": {
      "image/png": "[encoded data removed]",
      "text/plain": [
       "<Figure size 432x288 with 2 Axes>"
      ]
     },
     "metadata": {
      "needs_background": "light"
     },
     "output_type": "display_data"
    }
   ],
   "source": [
    "# AdaBoost\n",
    "ada = AdaBoostClassifier(random_state = 42)\n",
    "params = {\n",
    "    'n_estimators': [50, 100],\n",
    "    'learning_rate': [1, 5, 10]\n",
    "}\n",
    "\n",
    "gs = GridSearchCV(estimator = ada, param_grid = params, n_jobs = -1)\n",
    "gs.fit(X_train_sc, y_train)\n",
    "df_stats = pd.concat([df_stats, evaluation(gs.best_estimator_, 'AdaBoostClassifier', X_train_sc, y_train, X_test_sc, y_test)])"
   ]
  },
  {
   "cell_type": "code",
   "execution_count": 127,
   "metadata": {},
   "outputs": [
    {
     "name": "stdout",
     "output_type": "stream",
     "text": [
      "fit time: 0.7518014907836914\n",
      "training set accuracy: 0.9262931915763648\n",
      "test set accuracy: 0.877160030052592\n",
      "recall: 0.9090909090909091\n",
      "precision: 0.8037225042301185\n",
      "f1 score: 0.8531656937584194\n"
     ]
    },
    {
     "data": {
      "image/png": "[encoded data removed]",
      "text/plain": [
       "<Figure size 432x288 with 2 Axes>"
      ]
     },
     "metadata": {
      "needs_background": "light"
     },
     "output_type": "display_data"
    }
   ],
   "source": [
    "# GradientBoost\n",
    "grad = GradientBoostingClassifier(random_state = 42)\n",
    "params = {\n",
    "    'n_estimators': [100, 150],\n",
    "    'subsample': [0.7, 1.0],\n",
    "    'learning_rate': [0.1, 1, 10],\n",
    "    'max_features': ['sqrt', 'log2'],\n",
    "    'max_depth': [3, 5, 10],\n",
    "    'min_samples_split': [2, 4],\n",
    "    'min_samples_leaf': [1, 2]\n",
    "}\n",
    "\n",
    "gs = GridSearchCV(estimator = grad, param_grid = params, n_jobs = -1)\n",
    "gs.fit(X_train_sc, y_train)\n",
    "df_stats = pd.concat([df_stats, evaluation(gs.best_estimator_, 'GradientBoostingClassifier', X_train_sc, y_train, X_test_sc, y_test)])"
   ]
  },
  {
   "cell_type": "code",
   "execution_count": 128,
   "metadata": {},
   "outputs": [
    {
     "name": "stdout",
     "output_type": "stream",
     "text": [
      "84/84 [==============================] - 0s 1ms/step\n",
      "training set accuracy: 0.8642404675483704\n",
      "test set accuracy: 0.8523666262626648\n",
      "recall: 0.9416267942583733\n",
      "precision: 0.7477203647416414\n",
      "f1 score: 0.8335451080050826\n"
     ]
    },
    {
     "data": {
      "image/png": "[encoded data removed]",
      "text/plain": [
       "<Figure size 432x288 with 2 Axes>"
      ]
     },
     "metadata": {
      "needs_background": "light"
     },
     "output_type": "display_data"
    },
    {
     "data": {
      "image/png": "[encoded data removed]",
      "text/plain": [
       "<Figure size 864x576 with 1 Axes>"
      ]
     },
     "metadata": {
      "needs_background": "light"
     },
     "output_type": "display_data"
    }
   ],
   "source": [
    "# L2-regularized FNN\n",
    "# Model\n",
    "model = Sequential()\n",
    "model.add(Dense(units = 32, activation = 'relu', input_shape = (32, ),\n",
    "    kernel_regularizer = l2(0.005)))\n",
    "model.add(Dense(units = 16, activation = 'relu', kernel_regularizer = l2(0.005)))\n",
    "model.add(Dense(units = 1, activation = 'sigmoid'))\n",
    "\n",
    "# Compile it\n",
    "model.compile(optimizer = 'adam', loss = 'bce', metrics = ['acc'])\n",
    "\n",
    "# Fit it\n",
    "res = model.fit(x = X_train_sc, y = y_train, validation_data = (X_test_sc, y_test),\n",
    "    epochs = 20, batch_size = 256, verbose = 0)\n",
    "\n",
    "# Scores\n",
    "train_acc = res.history['acc'][-1]\n",
    "test_acc = res.history['val_acc'][-1]\n",
    "preds = pd.Series(model.predict(X_test_sc)[:, 0]).map(lambda x: 1 if x >= 0.5 else 0)\n",
    "recall = recall_score(y_test, preds, pos_label = 1)\n",
    "precision = precision_score(y_test, preds, pos_label = 1)\n",
    "f1 = f1_score(y_test, preds, pos_label = 1)\n",
    "print(f'training set accuracy: {train_acc}')\n",
    "print(f'test set accuracy: {test_acc}')\n",
    "print(f'recall: {recall}')\n",
    "print(f'precision: {precision}')\n",
    "print(f'f1 score: {f1}')\n",
    "\n",
    "ConfusionMatrixDisplay.from_predictions(y_test, preds, normalize = 'pred', cmap='Blues')\n",
    "\n",
    "# Visualize\n",
    "train_loss_l2 = res.history['loss']\n",
    "test_loss_l2 = res.history['val_loss']\n",
    "\n",
    "plt.figure(figsize=(12, 8))\n",
    "plt.plot(train_loss_l2, label='L2 Training loss', color='darkred')\n",
    "plt.plot(test_loss_l2, label='L2 Testing loss', color='pink')\n",
    "plt.legend();"
   ]
  },
  {
   "cell_type": "code",
   "execution_count": 129,
   "metadata": {},
   "outputs": [
    {
     "name": "stdout",
     "output_type": "stream",
     "text": [
      "84/84 [==============================] - 0s 1ms/step\n",
      "training set accuracy: 0.8509507179260254\n",
      "test set accuracy: 0.8519909977912903\n",
      "recall: 0.9511961722488038\n",
      "precision: 0.743455497382199\n",
      "f1 score: 0.834592779177162\n"
     ]
    },
    {
     "data": {
      "image/png": "[encoded data removed]",
      "text/plain": [
       "<Figure size 432x288 with 2 Axes>"
      ]
     },
     "metadata": {
      "needs_background": "light"
     },
     "output_type": "display_data"
    },
    {
     "data": {
      "image/png": "[encoded data removed]",
      "text/plain": [
       "<Figure size 864x576 with 1 Axes>"
      ]
     },
     "metadata": {
      "needs_background": "light"
     },
     "output_type": "display_data"
    }
   ],
   "source": [
    "# Add dropouts\n",
    "# Model\n",
    "model = Sequential()\n",
    "model.add(Dense(units = 32, activation = 'relu', input_shape = (32, ), kernel_regularizer = l2(0.005)))\n",
    "model.add(Dropout(rate = 0.3))\n",
    "model.add(Dense(units = 16, activation = 'relu', kernel_regularizer = l2(0.005)))\n",
    "model.add(Dropout(rate = 0.3))\n",
    "model.add(Dense(units = 1, activation = 'sigmoid'))\n",
    "\n",
    "# Compile it\n",
    "model.compile(optimizer = 'adam', loss = 'bce', metrics = ['acc'])\n",
    "\n",
    "# Fit it\n",
    "res = model.fit(x = X_train_sc, y = y_train, validation_data = (X_test_sc, y_test),\n",
    "    epochs = 20, batch_size = 256, verbose = 0)\n",
    "\n",
    "# Scores\n",
    "train_acc = res.history['acc'][-1]\n",
    "test_acc = res.history['val_acc'][-1]\n",
    "preds = pd.Series(model.predict(X_test_sc)[:, 0]).map(lambda x: 1 if x >= 0.5 else 0)\n",
    "recall = recall_score(y_test, preds, pos_label = 1)\n",
    "precision = precision_score(y_test, preds, pos_label = 1)\n",
    "f1 = f1_score(y_test, preds, pos_label = 1)\n",
    "print(f'training set accuracy: {train_acc}')\n",
    "print(f'test set accuracy: {test_acc}')\n",
    "print(f'recall: {recall}')\n",
    "print(f'precision: {precision}')\n",
    "print(f'f1 score: {f1}')\n",
    "\n",
    "ConfusionMatrixDisplay.from_predictions(y_test, preds, normalize = 'pred', cmap='Blues')\n",
    "\n",
    "# Visualize\n",
    "train_loss_l2 = res.history['loss']\n",
    "test_loss_l2 = res.history['val_loss']\n",
    "\n",
    "plt.figure(figsize=(12, 8))\n",
    "plt.plot(train_loss_l2, label='L2 Training loss', color='darkred')\n",
    "plt.plot(test_loss_l2, label='L2 Testing loss', color='pink')\n",
    "plt.legend();"
   ]
  },
  {
   "cell_type": "code",
   "execution_count": 130,
   "metadata": {},
   "outputs": [
    {
     "name": "stdout",
     "output_type": "stream",
     "text": [
      "84/84 [==============================] - 0s 1ms/step\n",
      "training set accuracy: 0.8767123222351074\n",
      "test set accuracy: 0.8621337413787842\n",
      "recall: 0.9339712918660287\n",
      "precision: 0.7660910518053375\n",
      "f1 score: 0.8417421302285467\n"
     ]
    },
    {
     "data": {
      "image/png": "[encoded data removed]",
      "text/plain": [
       "<Figure size 432x288 with 2 Axes>"
      ]
     },
     "metadata": {
      "needs_background": "light"
     },
     "output_type": "display_data"
    },
    {
     "data": {
      "image/png": "[encoded data removed]",
      "text/plain": [
       "<Figure size 864x576 with 1 Axes>"
      ]
     },
     "metadata": {
      "needs_background": "light"
     },
     "output_type": "display_data"
    }
   ],
   "source": [
    "# L2-regularized FNN with early stopping\n",
    "es = EarlyStopping(patience = 5)\n",
    "\n",
    "# Model\n",
    "model = Sequential()\n",
    "model.add(Dense(units = 32, activation = 'relu', input_shape = (32, ),\n",
    "    kernel_regularizer = l2(0.005)))\n",
    "model.add(Dense(units = 16, activation = 'relu', kernel_regularizer = l2(0.005)))\n",
    "model.add(Dense(units = 1, activation = 'sigmoid'))\n",
    "\n",
    "# Compile it\n",
    "model.compile(optimizer = 'adam', loss = 'bce', metrics = ['acc'])\n",
    "\n",
    "# Fit it\n",
    "res = model.fit(x = X_train_sc, y = y_train, validation_data = (X_test_sc, y_test),\n",
    "    epochs = 100, batch_size = 256, verbose = 0, callbacks = [es])\n",
    "\n",
    "# Scores\n",
    "train_acc = res.history['acc'][-1]\n",
    "test_acc = res.history['val_acc'][-1]\n",
    "preds = pd.Series(model.predict(X_test_sc)[:, 0]).map(lambda x: 1 if x >= 0.5 else 0)\n",
    "recall = recall_score(y_test, preds, pos_label = 1)\n",
    "precision = precision_score(y_test, preds, pos_label = 1)\n",
    "f1 = f1_score(y_test, preds, pos_label = 1)\n",
    "print(f'training set accuracy: {train_acc}')\n",
    "print(f'test set accuracy: {test_acc}')\n",
    "print(f'recall: {recall}')\n",
    "print(f'precision: {precision}')\n",
    "print(f'f1 score: {f1}')\n",
    "\n",
    "ConfusionMatrixDisplay.from_predictions(y_test, preds, normalize = 'pred', cmap='Blues')\n",
    "\n",
    "# Visualize\n",
    "train_loss_l2 = res.history['loss']\n",
    "test_loss_l2 = res.history['val_loss']\n",
    "\n",
    "plt.figure(figsize=(12, 8))\n",
    "plt.plot(train_loss_l2, label='L2 Training loss', color='darkred')\n",
    "plt.plot(test_loss_l2, label='L2 Testing loss', color='pink')\n",
    "plt.legend();"
   ]
  },
  {
   "cell_type": "code",
   "execution_count": 131,
   "metadata": {},
   "outputs": [
    {
     "name": "stdout",
     "output_type": "stream",
     "text": [
      "84/84 [==============================] - 0s 1ms/step\n",
      "training set accuracy: 0.8797791600227356\n",
      "test set accuracy: 0.8651390075683594\n",
      "recall: 0.9339712918660287\n",
      "precision: 0.7709320695102686\n",
      "f1 score: 0.8446559930765902\n"
     ]
    },
    {
     "data": {
      "image/png": "[encoded data removed]",
      "text/plain": [
       "<Figure size 432x288 with 2 Axes>"
      ]
     },
     "metadata": {
      "needs_background": "light"
     },
     "output_type": "display_data"
    },
    {
     "data": {
      "image/png": "[encoded data removed]",
      "text/plain": [
       "<Figure size 864x576 with 1 Axes>"
      ]
     },
     "metadata": {
      "needs_background": "light"
     },
     "output_type": "display_data"
    }
   ],
   "source": [
    "# PCA on the front end\n",
    "pca = PCA(random_state = 42)\n",
    "X_train_sc = pca.fit_transform(X_train_sc)\n",
    "X_test_sc = pca.transform(X_test_sc)\n",
    "\n",
    "# L2-regularized FNN with early stopping\n",
    "es = EarlyStopping(patience = 5)\n",
    "\n",
    "# Model\n",
    "model = Sequential()\n",
    "model.add(Dense(units = 32, activation = 'relu', input_shape = (32, ),\n",
    "    kernel_regularizer = l2(0.005)))\n",
    "model.add(Dense(units = 16, activation = 'relu', kernel_regularizer = l2(0.005)))\n",
    "model.add(Dense(units = 1, activation = 'sigmoid'))\n",
    "\n",
    "# Compile it\n",
    "model.compile(optimizer = 'adam', loss = 'bce', metrics = ['acc'])\n",
    "\n",
    "# Fit it\n",
    "res = model.fit(x = X_train_sc, y = y_train, validation_data = (X_test_sc, y_test),\n",
    "    epochs = 100, batch_size = 256, verbose = 0, callbacks = [es])\n",
    "\n",
    "# Scores\n",
    "train_acc = res.history['acc'][-1]\n",
    "test_acc = res.history['val_acc'][-1]\n",
    "preds = pd.Series(model.predict(X_test_sc)[:, 0]).map(lambda x: 1 if x >= 0.5 else 0)\n",
    "recall = recall_score(y_test, preds, pos_label = 1)\n",
    "precision = precision_score(y_test, preds, pos_label = 1)\n",
    "f1 = f1_score(y_test, preds, pos_label = 1)\n",
    "print(f'training set accuracy: {train_acc}')\n",
    "print(f'test set accuracy: {test_acc}')\n",
    "print(f'recall: {recall}')\n",
    "print(f'precision: {precision}')\n",
    "print(f'f1 score: {f1}')\n",
    "\n",
    "ConfusionMatrixDisplay.from_predictions(y_test, preds, normalize = 'pred', cmap='Blues')\n",
    "\n",
    "# Visualize\n",
    "train_loss_l2 = res.history['loss']\n",
    "test_loss_l2 = res.history['val_loss']\n",
    "\n",
    "plt.figure(figsize=(12, 8))\n",
    "plt.plot(train_loss_l2, label='L2 Training loss', color='darkred')\n",
    "plt.plot(test_loss_l2, label='L2 Testing loss', color='pink')\n",
    "plt.legend();"
   ]
  },
  {
   "cell_type": "markdown",
   "metadata": {},
   "source": [
    "CONCLUSIONS\n",
    "- It looks like an L2-regularized neural network with early stopping (around 62 epochs or so) gives us the best combination of high accuracy and low variance.\n",
    "- The recall, precision and F1 for this model are also in keeping with, or better than, the other models.\n",
    "- This will be our production model for Florida."
   ]
  },
  {
   "cell_type": "markdown",
   "metadata": {},
   "source": [
    "**Model 3: Behavioral feature set - Georgia**"
   ]
  },
  {
   "cell_type": "code",
   "execution_count": null,
   "metadata": {},
   "outputs": [],
   "source": []
  },
  {
   "cell_type": "markdown",
   "metadata": {},
   "source": [
    "**FINAL NOTES**\n",
    "- The model statistics are exported [here](../data/model_stats.csv).\n",
    "- The next notebook in the series is [Model Tuning](./04_tuning.ipynb)."
   ]
  }
 ],
 "metadata": {
  "kernelspec": {
   "display_name": "Python 3 (ipykernel)",
   "language": "python",
   "name": "python3"
  },
  "language_info": {
   "codemirror_mode": {
    "name": "ipython",
    "version": 3
   },
   "file_extension": ".py",
   "mimetype": "text/x-python",
   "name": "python",
   "nbconvert_exporter": "python",
   "pygments_lexer": "ipython3",
   "version": "3.9.12"
  },
  "vscode": {
   "interpreter": {
    "hash": "5c5d815f4904d5c36e1cb6a23cb867a61c9881b6acdb1b6d63422ceae43ed5d6"
   }
  }
 },
 "nbformat": 4,
 "nbformat_minor": 4
}
