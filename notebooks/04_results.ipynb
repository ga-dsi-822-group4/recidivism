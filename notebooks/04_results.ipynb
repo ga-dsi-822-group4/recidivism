{
 "cells": [
  {
   "cell_type": "markdown",
   "metadata": {},
   "source": [
    "### Group Project 4 : Comparing 3 Models for Predicting Recidivism\n",
    "\n",
    "For background on this project, please see the [README](../README.md).\n",
    "\n",
    "**Notebooks**\n",
    "- [Data Acquisition & Cleaning](./01_data_acq_clean.ipynb)\n",
    "- [Exploratory Data Analysis](./02_eda.ipynb)\n",
    "- [Modeling](./03_modeling.ipynb)\n",
    "- [Experiments](./03a_experiments.ipynb)\n",
    "- Results and Recommendations (this notebook)\n",
    "\n",
    "**In this notebook, you'll find:**\n",
    "- TODO etc."
   ]
  },
  {
   "cell_type": "markdown",
   "metadata": {},
   "source": []
  },
  {
   "cell_type": "code",
   "execution_count": 1,
   "metadata": {},
   "outputs": [],
   "source": [
    "import pandas as pd"
   ]
  },
  {
   "cell_type": "code",
   "execution_count": 2,
   "metadata": {},
   "outputs": [
    {
     "data": {
      "text/html": [
       "<div>\n",
       "<style scoped>\n",
       "    .dataframe tbody tr th:only-of-type {\n",
       "        vertical-align: middle;\n",
       "    }\n",
       "\n",
       "    .dataframe tbody tr th {\n",
       "        vertical-align: top;\n",
       "    }\n",
       "\n",
       "    .dataframe thead th {\n",
       "        text-align: right;\n",
       "    }\n",
       "</style>\n",
       "<table border=\"1\" class=\"dataframe\">\n",
       "  <thead>\n",
       "    <tr style=\"text-align: right;\">\n",
       "      <th></th>\n",
       "      <th>dataset_name</th>\n",
       "      <th>model_used</th>\n",
       "      <th>model_params</th>\n",
       "      <th>train_score</th>\n",
       "      <th>test_score</th>\n",
       "      <th>accuracy</th>\n",
       "      <th>specificity</th>\n",
       "      <th>precision</th>\n",
       "      <th>recall</th>\n",
       "      <th>f1 score</th>\n",
       "      <th>true_neg</th>\n",
       "      <th>false_pos</th>\n",
       "      <th>false_neg</th>\n",
       "      <th>true_pos</th>\n",
       "    </tr>\n",
       "  </thead>\n",
       "  <tbody>\n",
       "    <tr>\n",
       "      <th>0</th>\n",
       "      <td>NY</td>\n",
       "      <td>logreg gen/age</td>\n",
       "      <td>{'C': 1.0, 'class_weight': None, 'dual': False...</td>\n",
       "      <td>0.586841</td>\n",
       "      <td>0.587914</td>\n",
       "      <td>0.587914</td>\n",
       "      <td>0.970683</td>\n",
       "      <td>0.561523</td>\n",
       "      <td>0.052514</td>\n",
       "      <td>0.096047</td>\n",
       "      <td>21356</td>\n",
       "      <td>645</td>\n",
       "      <td>14903</td>\n",
       "      <td>826</td>\n",
       "    </tr>\n",
       "    <tr>\n",
       "      <th>1</th>\n",
       "      <td>NY</td>\n",
       "      <td>rf gen/age</td>\n",
       "      <td>{'bootstrap': True, 'ccp_alpha': 0.0, 'class_w...</td>\n",
       "      <td>0.588332</td>\n",
       "      <td>0.587013</td>\n",
       "      <td>0.587013</td>\n",
       "      <td>0.918049</td>\n",
       "      <td>0.519584</td>\n",
       "      <td>0.123975</td>\n",
       "      <td>0.200185</td>\n",
       "      <td>20198</td>\n",
       "      <td>1803</td>\n",
       "      <td>13779</td>\n",
       "      <td>1950</td>\n",
       "    </tr>\n",
       "    <tr>\n",
       "      <th>2</th>\n",
       "      <td>NY</td>\n",
       "      <td>ada gen/age</td>\n",
       "      <td>{'algorithm': 'SAMME.R', 'base_estimator__ccp_...</td>\n",
       "      <td>0.588332</td>\n",
       "      <td>0.587013</td>\n",
       "      <td>0.587013</td>\n",
       "      <td>0.918049</td>\n",
       "      <td>0.519584</td>\n",
       "      <td>0.123975</td>\n",
       "      <td>0.200185</td>\n",
       "      <td>20198</td>\n",
       "      <td>1803</td>\n",
       "      <td>13779</td>\n",
       "      <td>1950</td>\n",
       "    </tr>\n",
       "    <tr>\n",
       "      <th>3</th>\n",
       "      <td>NY</td>\n",
       "      <td>grad gen/age</td>\n",
       "      <td>{'ccp_alpha': 0.0, 'criterion': 'friedman_mse'...</td>\n",
       "      <td>0.588325</td>\n",
       "      <td>0.586986</td>\n",
       "      <td>0.586986</td>\n",
       "      <td>0.918186</td>\n",
       "      <td>0.519487</td>\n",
       "      <td>0.123721</td>\n",
       "      <td>0.199846</td>\n",
       "      <td>20201</td>\n",
       "      <td>1800</td>\n",
       "      <td>13783</td>\n",
       "      <td>1946</td>\n",
       "    </tr>\n",
       "    <tr>\n",
       "      <th>4</th>\n",
       "      <td>NY</td>\n",
       "      <td>stack gen/age</td>\n",
       "      <td>{'cv': None, 'estimators': [('random_forest', ...</td>\n",
       "      <td>0.588325</td>\n",
       "      <td>0.586986</td>\n",
       "      <td>0.586986</td>\n",
       "      <td>0.918186</td>\n",
       "      <td>0.519487</td>\n",
       "      <td>0.123721</td>\n",
       "      <td>0.199846</td>\n",
       "      <td>20201</td>\n",
       "      <td>1800</td>\n",
       "      <td>13783</td>\n",
       "      <td>1946</td>\n",
       "    </tr>\n",
       "  </tbody>\n",
       "</table>\n",
       "</div>"
      ],
      "text/plain": [
       "  dataset_name      model_used  \\\n",
       "0           NY  logreg gen/age   \n",
       "1           NY      rf gen/age   \n",
       "2           NY     ada gen/age   \n",
       "3           NY    grad gen/age   \n",
       "4           NY   stack gen/age   \n",
       "\n",
       "                                        model_params  train_score  test_score  \\\n",
       "0  {'C': 1.0, 'class_weight': None, 'dual': False...     0.586841    0.587914   \n",
       "1  {'bootstrap': True, 'ccp_alpha': 0.0, 'class_w...     0.588332    0.587013   \n",
       "2  {'algorithm': 'SAMME.R', 'base_estimator__ccp_...     0.588332    0.587013   \n",
       "3  {'ccp_alpha': 0.0, 'criterion': 'friedman_mse'...     0.588325    0.586986   \n",
       "4  {'cv': None, 'estimators': [('random_forest', ...     0.588325    0.586986   \n",
       "\n",
       "   accuracy  specificity  precision    recall  f1 score  true_neg  false_pos  \\\n",
       "0  0.587914     0.970683   0.561523  0.052514  0.096047     21356        645   \n",
       "1  0.587013     0.918049   0.519584  0.123975  0.200185     20198       1803   \n",
       "2  0.587013     0.918049   0.519584  0.123975  0.200185     20198       1803   \n",
       "3  0.586986     0.918186   0.519487  0.123721  0.199846     20201       1800   \n",
       "4  0.586986     0.918186   0.519487  0.123721  0.199846     20201       1800   \n",
       "\n",
       "   false_neg  true_pos  \n",
       "0      14903       826  \n",
       "1      13779      1950  \n",
       "2      13779      1950  \n",
       "3      13783      1946  \n",
       "4      13783      1946  "
      ]
     },
     "execution_count": 2,
     "metadata": {},
     "output_type": "execute_result"
    }
   ],
   "source": [
    "stats = pd.read_csv('../data/model_stats.csv')\n",
    "stats.head()"
   ]
  },
  {
   "cell_type": "code",
   "execution_count": 11,
   "metadata": {},
   "outputs": [],
   "source": [
    "presentation_cols = ['model_used', 'train_score', 'test_score', 'specificity']"
   ]
  },
  {
   "cell_type": "code",
   "execution_count": 12,
   "metadata": {},
   "outputs": [
    {
     "data": {
      "text/html": [
       "<div>\n",
       "<style scoped>\n",
       "    .dataframe tbody tr th:only-of-type {\n",
       "        vertical-align: middle;\n",
       "    }\n",
       "\n",
       "    .dataframe tbody tr th {\n",
       "        vertical-align: top;\n",
       "    }\n",
       "\n",
       "    .dataframe thead th {\n",
       "        text-align: right;\n",
       "    }\n",
       "</style>\n",
       "<table border=\"1\" class=\"dataframe\">\n",
       "  <thead>\n",
       "    <tr style=\"text-align: right;\">\n",
       "      <th></th>\n",
       "      <th>model_used</th>\n",
       "      <th>train_score</th>\n",
       "      <th>test_score</th>\n",
       "      <th>specificity</th>\n",
       "    </tr>\n",
       "  </thead>\n",
       "  <tbody>\n",
       "    <tr>\n",
       "      <th>11</th>\n",
       "      <td>fnn gen/age/cty</td>\n",
       "      <td>0.599808</td>\n",
       "      <td>0.600451</td>\n",
       "      <td>0.884096</td>\n",
       "    </tr>\n",
       "    <tr>\n",
       "      <th>8</th>\n",
       "      <td>ada gen/age/cty</td>\n",
       "      <td>0.599569</td>\n",
       "      <td>0.600027</td>\n",
       "      <td>0.870779</td>\n",
       "    </tr>\n",
       "    <tr>\n",
       "      <th>10</th>\n",
       "      <td>stack gen/age/cty</td>\n",
       "      <td>0.600981</td>\n",
       "      <td>0.599867</td>\n",
       "      <td>0.876233</td>\n",
       "    </tr>\n",
       "    <tr>\n",
       "      <th>6</th>\n",
       "      <td>logreg gen/age/cty</td>\n",
       "      <td>0.598734</td>\n",
       "      <td>0.599019</td>\n",
       "      <td>0.876778</td>\n",
       "    </tr>\n",
       "    <tr>\n",
       "      <th>9</th>\n",
       "      <td>grad gen/age/cty</td>\n",
       "      <td>0.598940</td>\n",
       "      <td>0.598834</td>\n",
       "      <td>0.918276</td>\n",
       "    </tr>\n",
       "  </tbody>\n",
       "</table>\n",
       "</div>"
      ],
      "text/plain": [
       "            model_used  train_score  test_score  specificity\n",
       "11     fnn gen/age/cty     0.599808    0.600451     0.884096\n",
       "8      ada gen/age/cty     0.599569    0.600027     0.870779\n",
       "10   stack gen/age/cty     0.600981    0.599867     0.876233\n",
       "6   logreg gen/age/cty     0.598734    0.599019     0.876778\n",
       "9     grad gen/age/cty     0.598940    0.598834     0.918276"
      ]
     },
     "execution_count": 12,
     "metadata": {},
     "output_type": "execute_result"
    }
   ],
   "source": [
    "# NY evaluation - top 5\n",
    "stats[stats['dataset_name'] == 'NY'].sort_values(by='accuracy', ascending = False).head()[presentation_cols]"
   ]
  },
  {
   "cell_type": "code",
   "execution_count": null,
   "metadata": {},
   "outputs": [],
   "source": [
    "# NY evaluation - describe\n",
    "stats[stats['dataset_name'] == 'NY'].describe()"
   ]
  },
  {
   "cell_type": "markdown",
   "metadata": {},
   "source": [
    "##### CONCLUSIONS\n",
    "- Using a basic model and only considering age at release, gender, and county of indictment does not provide sufficient improvement from baseline.\n",
    "- We used six different classification models on the gender, age, and county features; however, our best score was a 2% increase in accuracy from a baseline of 58% to 60% using a stacked RF and Gradient Boosted Model.\n",
    "- As these scores failed to meet our target requirements, we will push forward to the demographic and behavioral datasets for further model evaluation. "
   ]
  },
  {
   "cell_type": "code",
   "execution_count": 13,
   "metadata": {},
   "outputs": [
    {
     "data": {
      "text/html": [
       "<div>\n",
       "<style scoped>\n",
       "    .dataframe tbody tr th:only-of-type {\n",
       "        vertical-align: middle;\n",
       "    }\n",
       "\n",
       "    .dataframe tbody tr th {\n",
       "        vertical-align: top;\n",
       "    }\n",
       "\n",
       "    .dataframe thead th {\n",
       "        text-align: right;\n",
       "    }\n",
       "</style>\n",
       "<table border=\"1\" class=\"dataframe\">\n",
       "  <thead>\n",
       "    <tr style=\"text-align: right;\">\n",
       "      <th></th>\n",
       "      <th>model_used</th>\n",
       "      <th>train_score</th>\n",
       "      <th>test_score</th>\n",
       "      <th>specificity</th>\n",
       "    </tr>\n",
       "  </thead>\n",
       "  <tbody>\n",
       "    <tr>\n",
       "      <th>17</th>\n",
       "      <td>grad</td>\n",
       "      <td>0.886566</td>\n",
       "      <td>0.881635</td>\n",
       "      <td>0.871616</td>\n",
       "    </tr>\n",
       "    <tr>\n",
       "      <th>15</th>\n",
       "      <td>rf</td>\n",
       "      <td>0.891616</td>\n",
       "      <td>0.877877</td>\n",
       "      <td>0.860789</td>\n",
       "    </tr>\n",
       "    <tr>\n",
       "      <th>16</th>\n",
       "      <td>ada</td>\n",
       "      <td>0.863786</td>\n",
       "      <td>0.866134</td>\n",
       "      <td>0.859242</td>\n",
       "    </tr>\n",
       "    <tr>\n",
       "      <th>14</th>\n",
       "      <td>bag</td>\n",
       "      <td>0.996477</td>\n",
       "      <td>0.863786</td>\n",
       "      <td>0.878577</td>\n",
       "    </tr>\n",
       "    <tr>\n",
       "      <th>18</th>\n",
       "      <td>fnn1</td>\n",
       "      <td>0.852513</td>\n",
       "      <td>0.854392</td>\n",
       "      <td>0.861562</td>\n",
       "    </tr>\n",
       "  </tbody>\n",
       "</table>\n",
       "</div>"
      ],
      "text/plain": [
       "   model_used  train_score  test_score  specificity\n",
       "17       grad     0.886566    0.881635     0.871616\n",
       "15         rf     0.891616    0.877877     0.860789\n",
       "16        ada     0.863786    0.866134     0.859242\n",
       "14        bag     0.996477    0.863786     0.878577\n",
       "18       fnn1     0.852513    0.854392     0.861562"
      ]
     },
     "execution_count": 13,
     "metadata": {},
     "output_type": "execute_result"
    }
   ],
   "source": [
    "# FL evaluation - top 5\n",
    "stats[stats['dataset_name'] == 'FL'].sort_values(by='accuracy', ascending = False).head()[presentation_cols]"
   ]
  },
  {
   "cell_type": "code",
   "execution_count": null,
   "metadata": {},
   "outputs": [],
   "source": [
    "# FL evaluation - describe\n",
    "stats[stats['dataset_name'] == 'FL'].describe()"
   ]
  },
  {
   "cell_type": "markdown",
   "metadata": {},
   "source": [
    "CONCLUSIONS\n",
    "- It looks like an L2-regularized neural network with early stopping (around 62 epochs or so) gives us the best combination of high accuracy and low variance.\n",
    "- The recall, precision and F1 for this model are also in keeping with, or better than, the other models.\n",
    "- This will be our production model for Florida."
   ]
  },
  {
   "cell_type": "code",
   "execution_count": 14,
   "metadata": {},
   "outputs": [
    {
     "data": {
      "text/html": [
       "<div>\n",
       "<style scoped>\n",
       "    .dataframe tbody tr th:only-of-type {\n",
       "        vertical-align: middle;\n",
       "    }\n",
       "\n",
       "    .dataframe tbody tr th {\n",
       "        vertical-align: top;\n",
       "    }\n",
       "\n",
       "    .dataframe thead th {\n",
       "        text-align: right;\n",
       "    }\n",
       "</style>\n",
       "<table border=\"1\" class=\"dataframe\">\n",
       "  <thead>\n",
       "    <tr style=\"text-align: right;\">\n",
       "      <th></th>\n",
       "      <th>model_used</th>\n",
       "      <th>train_score</th>\n",
       "      <th>test_score</th>\n",
       "      <th>specificity</th>\n",
       "    </tr>\n",
       "  </thead>\n",
       "  <tbody>\n",
       "    <tr>\n",
       "      <th>31</th>\n",
       "      <td>gboost2</td>\n",
       "      <td>0.753582</td>\n",
       "      <td>0.717560</td>\n",
       "      <td>0.595335</td>\n",
       "    </tr>\n",
       "    <tr>\n",
       "      <th>30</th>\n",
       "      <td>gboost</td>\n",
       "      <td>0.739048</td>\n",
       "      <td>0.714695</td>\n",
       "      <td>0.567444</td>\n",
       "    </tr>\n",
       "    <tr>\n",
       "      <th>35</th>\n",
       "      <td>ada3</td>\n",
       "      <td>0.728454</td>\n",
       "      <td>0.713058</td>\n",
       "      <td>0.574544</td>\n",
       "    </tr>\n",
       "    <tr>\n",
       "      <th>34</th>\n",
       "      <td>ada</td>\n",
       "      <td>0.727175</td>\n",
       "      <td>0.711420</td>\n",
       "      <td>0.574037</td>\n",
       "    </tr>\n",
       "    <tr>\n",
       "      <th>33</th>\n",
       "      <td>rf3</td>\n",
       "      <td>0.745599</td>\n",
       "      <td>0.704871</td>\n",
       "      <td>0.480223</td>\n",
       "    </tr>\n",
       "  </tbody>\n",
       "</table>\n",
       "</div>"
      ],
      "text/plain": [
       "   model_used  train_score  test_score  specificity\n",
       "31    gboost2     0.753582    0.717560     0.595335\n",
       "30     gboost     0.739048    0.714695     0.567444\n",
       "35       ada3     0.728454    0.713058     0.574544\n",
       "34        ada     0.727175    0.711420     0.574037\n",
       "33        rf3     0.745599    0.704871     0.480223"
      ]
     },
     "execution_count": 14,
     "metadata": {},
     "output_type": "execute_result"
    }
   ],
   "source": [
    "# GA evaluation - top 5\n",
    "stats[stats['dataset_name'] == 'GA'].sort_values(by='accuracy', ascending = False).head()[presentation_cols]"
   ]
  },
  {
   "cell_type": "code",
   "execution_count": 15,
   "metadata": {},
   "outputs": [
    {
     "ename": "NameError",
     "evalue": "name 'model_trials_df' is not defined",
     "output_type": "error",
     "traceback": [
      "\u001b[1;31m---------------------------------------------------------------------------\u001b[0m",
      "\u001b[1;31mNameError\u001b[0m                                 Traceback (most recent call last)",
      "\u001b[1;32mc:\\Development\\DSI-822\\Projects\\recidivism\\notebooks\\04_results.ipynb Cell 11\u001b[0m in \u001b[0;36m<cell line: 1>\u001b[1;34m()\u001b[0m\n\u001b[1;32m----> <a href='vscode-notebook-cell:/c%3A/Development/DSI-822/Projects/recidivism/notebooks/04_results.ipynb#X16sZmlsZQ%3D%3D?line=0'>1</a>\u001b[0m model_trials_df[model_trials_df[\u001b[39m'\u001b[39m\u001b[39mdataset_name\u001b[39m\u001b[39m'\u001b[39m] \u001b[39m==\u001b[39m \u001b[39m'\u001b[39m\u001b[39mGA\u001b[39m\u001b[39m'\u001b[39m]\u001b[39m.\u001b[39mdescribe()\n",
      "\u001b[1;31mNameError\u001b[0m: name 'model_trials_df' is not defined"
     ]
    }
   ],
   "source": [
    "# GA evaluation - describe\n",
    "stats[stats['dataset_name'] == 'GA'].describe()"
   ]
  },
  {
   "cell_type": "markdown",
   "metadata": {},
   "source": [
    "CONCLUSIONS\n",
    "\n",
    "Our best model overall was the first Gradient Boost model found in the trials portion, with an accuracy score of 0.715. This was only slightly better than the tuned Ada Boost model, which had an accuracy of 0.713. Between these two, Ada Boost had the higher specificity. Our overall mean accuracy was 0.686, but the average accuracy score of just the tuned models was 0.703, which is better than our untuned average by about 0.03. In terms of specificity, the two means were closer in number (0.555 vs 0.544), but the tuned models outperformed here as well.\n",
    "\n",
    "All of that said, none of the tuned or untuned scores met our target accuracy of 0.80. The usage of a model to predict recidivism and the potential implications of this is something we've been hyper-aware of throughout our analysis. Because these predictions-depending on how, when, and where they are used-have the ability to impact peoples' lives, we believe any model that cannot predict with at least 80% accuracy should be used in a real-life setting. With that, we would not move forward with any of the models listed above without significant optimizations made."
   ]
  },
  {
   "cell_type": "markdown",
   "metadata": {},
   "source": [
    "**FINAL NOTES/NEXT STEPS**:\n",
    "- TODO"
   ]
  }
 ],
 "metadata": {
  "kernelspec": {
   "display_name": "Python 3 (ipykernel)",
   "language": "python",
   "name": "python3"
  },
  "language_info": {
   "codemirror_mode": {
    "name": "ipython",
    "version": 3
   },
   "file_extension": ".py",
   "mimetype": "text/x-python",
   "name": "python",
   "nbconvert_exporter": "python",
   "pygments_lexer": "ipython3",
   "version": "3.9.12"
  },
  "vscode": {
   "interpreter": {
    "hash": "5c5d815f4904d5c36e1cb6a23cb867a61c9881b6acdb1b6d63422ceae43ed5d6"
   }
  }
 },
 "nbformat": 4,
 "nbformat_minor": 4
}
