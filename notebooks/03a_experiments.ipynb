{
 "cells": [
  {
   "cell_type": "markdown",
   "metadata": {},
   "source": [
    "### Group Project 4 : Comparing 3 Models for Predicting Recidivism\n",
    "\n",
    "For background on this project, please see the [README](../README.md).\n",
    "\n",
    "**Notebooks**\n",
    "- [Data Acquisition & Cleaning](./01_data_acq_clean.ipynb)\n",
    "- [Exploratory Data Analysis](./02_eda.ipynb)\n",
    "- [Modeling](./03_modeling.ipynb)\n",
    "- Experiments (this notebook)\n",
    "- [Results and Recommendations](./04_results.ipynb)\n",
    "\n",
    "**In this notebook, you'll find:**\n",
    "- An informal experiment incorporating NLP of criminal charges as potentially predictive for the FL dataset\n",
    "- An informal experiment using an important-feature-focused model to predict on the GA dataset\n",
    "- Neither of these models are under consideration for production use based on their outcomes, but were worthwhile to explore"
   ]
  },
  {
   "cell_type": "code",
   "execution_count": 117,
   "metadata": {},
   "outputs": [],
   "source": [
    "# standard imports\n",
    "import pandas as pd\n",
    "import matplotlib.pyplot as plt\n",
    "import numpy as np\n",
    "from sklearn.model_selection import train_test_split, GridSearchCV\n",
    "from sklearn.pipeline import Pipeline\n",
    "from sklearn.preprocessing import StandardScaler\n",
    "\n",
    "# models for FL NLP\n",
    "from sklearn.linear_model import LogisticRegression\n",
    "from sklearn.ensemble import GradientBoostingClassifier\n",
    "\n",
    "# additional models for GA feature importance testing\n",
    "from sklearn.tree import DecisionTreeClassifier\n",
    "from sklearn.ensemble import RandomForestClassifier, AdaBoostClassifier, BaggingClassifier \n",
    "from sklearn.neighbors import KNeighborsClassifier\n",
    "from sklearn.naive_bayes import MultinomialNB\n",
    "\n",
    "# metrics\n",
    "from sklearn.metrics import ConfusionMatrixDisplay, recall_score, f1_score, precision_score, confusion_matrix\n",
    "\n",
    "# global random seed\n",
    "np.random.seed(42)"
   ]
  },
  {
   "cell_type": "code",
   "execution_count": 118,
   "metadata": {},
   "outputs": [],
   "source": [
    "# same function used in modeling notebook for evaluation\n",
    "# Dataframe to collect results\n",
    "model_trials_df = pd.DataFrame(columns=['dataset_name', 'model_used', 'model_params', 'train_score', 'test_score',\n",
    "'accuracy', 'specificity', 'precision', 'recall', 'f1 score', 'true_neg', 'false_pos', 'false_neg', 'true_pos'])\n",
    "\n",
    "def model_trials(dataset_name, X, y, model, model_id, scale_first = False, gs_params = None):\n",
    "    '''\n",
    "    Takes in dataset information and a (non-neural-net) model, fits the model, and appends fit metrics to a previously\n",
    "    established Dataframe for later comparison. Also displays confusion matrix upon completion.\n",
    "\n",
    "    Parameters:\n",
    "    - dataset_name (string): used to differentiate between the NY/FL/GA models\n",
    "    - X (Dataframe): features dataframe for all observations\n",
    "    - y (Dataframe or Series): target classes for all observations:\n",
    "    - model (classification model): non-neural-net model to fit\n",
    "    - model_id (string): friendly name for model to include in results\n",
    "    - scale_first (boolean): indicates whether the feature set X should be scaled before fitting\n",
    "    - gs_params (dict): parameters for a GridSearch - if None, model will be fit without GridSearching\n",
    "\n",
    "    Returns:\n",
    "    - ConfusionMatrixDisplay graphic for fitted model\n",
    "    - Also appends results to previously established metrics dataframe\n",
    "    '''\n",
    "\n",
    "    '''Setting X and y, and fitting the model'''\n",
    "    X_train, X_test, y_train, y_test = train_test_split(X, y, test_size = 0.2, stratify = y)\n",
    "\n",
    "    '''Scale if needed'''\n",
    "    if (scale_first):\n",
    "        ss = StandardScaler()\n",
    "        X_train = ss.fit_transform(X_train)\n",
    "        X_test = ss.transform(X_test)\n",
    "\n",
    "    if (gs_params):\n",
    "        gs = GridSearchCV(model, gs_params)\n",
    "        gs.fit(X_train, y_train)\n",
    "        model = gs.best_estimator_\n",
    "        model_params = gs.best_params_\n",
    "    else:\n",
    "        model.fit(X_train, y_train)\n",
    "        model_params = model.get_params()\n",
    "\n",
    "    train_score = model.score(X_train, y_train)\n",
    "    test_score = model.score(X_test, y_test)\n",
    "\n",
    "    '''Baseline calculation for reference in the returned confusion matrix'''\n",
    "    baseline = y.value_counts(normalize=True)[1]\n",
    "\n",
    "    '''Calculating classification rates'''\n",
    "    preds = model.predict(X_test)\n",
    "    tn, fp, fn, tp = confusion_matrix(y_test, preds).ravel()\n",
    "    acc = (tp + tn) / (tn + fp + tp + fn)\n",
    "    spec = tn / (tn + fp)\n",
    "    prec = tp / (tp + fp)\n",
    "    recall = tp / (tp + fn)\n",
    "    f1 = ((prec * recall) / (prec + recall)) * 2\n",
    "\n",
    "    '''Adding all values to the model_trials dataframe'''\n",
    "    model_list = [dataset_name, model_id, model_params, train_score, test_score, acc, spec, prec, recall, f1, tn, fp, fn, tp]\n",
    "    model_trials_df.loc[len(model_trials_df.index)] = model_list\n",
    "\n",
    "    '''Output will show scores and classification metrics'''\n",
    "    print(f'Dataset: {dataset_name}')\n",
    "    print(f'Model ID: {model_id}')\n",
    "    print(f'Model Params: {model_params}')\n",
    "    print(f'Training Score: {round(train_score, 4)}')\n",
    "    print(f'Testing Score: {round(test_score, 4)} \\n')\n",
    "    print(f'Accuracy: {round(acc, 4)}')\n",
    "    print(f'Specificity: {round(spec, 4)}')\n",
    "    print(f'Precision: {round(prec, 4)}')\n",
    "    print(f'Recall: {round(recall, 4)}')\n",
    "    print(f'F1 Score: {round(f1, 4)} \\n')\n",
    "\n",
    "    '''Returning a confusion matrix colored based on performance against the baseline'''\n",
    "    print('Best accuracy rate confusion matrix:')\n",
    "    if acc > baseline:\n",
    "        return ConfusionMatrixDisplay.from_estimator(model, X_test, y_test, cmap='viridis', values_format='d');\n",
    "    else: \n",
    "        return ConfusionMatrixDisplay.from_estimator(model, X_test, y_test, cmap='magma', values_format='d');"
   ]
  },
  {
   "cell_type": "markdown",
   "metadata": {},
   "source": [
    "---\n",
    "**Model 2 Experiment: Criminal history feature set - Florida - NLP charge modeling**"
   ]
  },
  {
   "cell_type": "markdown",
   "metadata": {},
   "source": [
    "- We're going to try vectorizing each person's list of charges and incorporating some NLP into our production model.\n",
    "- We'll use TFIDF vectorization, and before merging the NLP columns into our production model, we'll use a GridSearch with a simple LogisticRegression to\n",
    "determine the best parameters to use for TFIDF."
   ]
  },
  {
   "cell_type": "code",
   "execution_count": 119,
   "metadata": {},
   "outputs": [],
   "source": [
    "fl = pd.read_csv('../data/FL/FL_final.csv')\n",
    "\n",
    "# drop all non-model columns - keeping agg_charges this time!\n",
    "fl = fl.drop(columns = [\n",
    "    'person_id',  # unique ID, not predictive\n",
    "    'avg_days_between_offenses', 'avg_days_between_arrests', # only meaningful for recidivists\n",
    "    'age_at_last_incarceration', 'age_at_last_release', 'age_at_last_arrest', # \"last\" columns are not predictive\n",
    "] + [col for col in fl if col.startswith('comp_')] # not using COMPAS scores in the model\n",
    "  + [col for col in fl if col.startswith('last_charge_')] # last charges are not predictive\n",
    ")"
   ]
  },
  {
   "cell_type": "code",
   "execution_count": 120,
   "metadata": {},
   "outputs": [
    {
     "name": "stdout",
     "output_type": "stream",
     "text": [
      "Dataset: FL\n",
      "Model ID: TFIDF + Logreg\n",
      "Model Params: {'tfidf__max_df': 0.8, 'tfidf__max_features': 3000, 'tfidf__min_df': 1, 'tfidf__ngram_range': (1, 2), 'tfidf__stop_words': None}\n",
      "Training Score: 0.7857\n",
      "Testing Score: 0.7595 \n",
      "\n",
      "Accuracy: 0.7595\n",
      "Specificity: 0.8631\n",
      "Precision: 0.7389\n",
      "Recall: 0.5993\n",
      "F1 Score: 0.6618 \n",
      "\n",
      "Best accuracy rate confusion matrix:\n"
     ]
    },
    {
     "data": {
      "image/png": "[encoded data removed]",
      "text/plain": [
       "<Figure size 432x288 with 2 Axes>"
      ]
     },
     "metadata": {
      "needs_background": "light"
     },
     "output_type": "display_data"
    }
   ],
   "source": [
    "# define X and y, train-test split\n",
    "nlp = fl[['agg_charges', 'recidivism']].dropna()\n",
    "X = nlp['agg_charges']\n",
    "y = nlp['recidivism']\n",
    "X_train, X_test, y_train, y_test = train_test_split(X, y, test_size = 0.2, stratify = y)\n",
    "\n",
    "# Pipeline with logreg\n",
    "pipe = Pipeline(steps = [('tfidf', TfidfVectorizer()), ('logreg', LogisticRegression(max_iter = 10_000))])\n",
    "\n",
    "pipe_params = {\n",
    "    'tfidf__stop_words': [None, 'english'],\n",
    "    'tfidf__max_features': [3000, 4000],\n",
    "    'tfidf__min_df': [1, 2],\n",
    "    'tfidf__max_df': [0.8, 0.9],\n",
    "    'tfidf__ngram_range': [(1, 1), (1, 2)]\n",
    "}\n",
    "\n",
    "model_trials('FL', X, y, pipe, 'TFIDF + Logreg', gs_params = pipe_params);"
   ]
  },
  {
   "cell_type": "markdown",
   "metadata": {},
   "source": [
    "ANALYSIS\n",
    "- Really pretty surprising result - using ONLY the NLP columns resulted in almost 0.76 accuracy on the testing set, with minimal overfitting\n",
    "- Specificity is not bad either at 0.86\n",
    "- Now we'll try combining these columns with our existing dataset to see if they enhance the outcome"
   ]
  },
  {
   "cell_type": "code",
   "execution_count": 121,
   "metadata": {},
   "outputs": [
    {
     "data": {
      "text/plain": [
       "array([{'tfidf__max_df': 0.8, 'tfidf__max_features': 3000, 'tfidf__min_df': 1, 'tfidf__ngram_range': (1, 2), 'tfidf__stop_words': None}],\n",
       "      dtype=object)"
      ]
     },
     "execution_count": 121,
     "metadata": {},
     "output_type": "execute_result"
    }
   ],
   "source": [
    "# what were our best parameters?\n",
    "model_trials_df[model_trials_df['dataset_name'] == 'FL']['model_params'].values"
   ]
  },
  {
   "cell_type": "code",
   "execution_count": 122,
   "metadata": {},
   "outputs": [],
   "source": [
    "# now we can apply our optimal vectorization\n",
    "tfidf = TfidfVectorizer(max_df = 0.8, max_features = 3000, min_df = 1, ngram_range = (1, 2))\n",
    "nlpcols = tfidf.fit_transform(fl['agg_charges'])"
   ]
  },
  {
   "cell_type": "code",
   "execution_count": 123,
   "metadata": {},
   "outputs": [],
   "source": [
    "# and add the vectorized columns to our main dataframe\n",
    "fl_nlp = pd.concat([fl, pd.DataFrame(nlpcols.todense(), columns = tfidf.get_feature_names_out())], axis = 1)"
   ]
  },
  {
   "cell_type": "code",
   "execution_count": 124,
   "metadata": {},
   "outputs": [],
   "source": [
    "# define our final X and y\n",
    "X = fl_nlp.drop(columns = ['recidivism', 'agg_charges'])\n",
    "y = fl_nlp['recidivism']"
   ]
  },
  {
   "cell_type": "code",
   "execution_count": 125,
   "metadata": {},
   "outputs": [
    {
     "name": "stdout",
     "output_type": "stream",
     "text": [
      "Dataset: FL\n",
      "Model ID: nlp_gboost\n",
      "Model Params: {'ccp_alpha': 0.0, 'criterion': 'friedman_mse', 'init': None, 'learning_rate': 0.1, 'loss': 'log_loss', 'max_depth': 3, 'max_features': None, 'max_leaf_nodes': None, 'min_impurity_decrease': 0.0, 'min_samples_leaf': 1, 'min_samples_split': 2, 'min_weight_fraction_leaf': 0.0, 'n_estimators': 150, 'n_iter_no_change': None, 'random_state': None, 'subsample': 1.0, 'tol': 0.0001, 'validation_fraction': 0.1, 'verbose': 0, 'warm_start': False}\n",
      "Training Score: 0.8976\n",
      "Testing Score: 0.884 \n",
      "\n",
      "Accuracy: 0.884\n",
      "Specificity: 0.8623\n",
      "Precision: 0.8116\n",
      "Recall: 0.9175\n",
      "F1 Score: 0.8613 \n",
      "\n",
      "Best accuracy rate confusion matrix:\n"
     ]
    },
    {
     "data": {
      "image/png": "[encoded data removed]",
      "text/plain": [
       "<Figure size 432x288 with 2 Axes>"
      ]
     },
     "metadata": {
      "needs_background": "light"
     },
     "output_type": "display_data"
    }
   ],
   "source": [
    "# Let's try using our selected favorite for the FL dataset, which was GradientBoost\n",
    "# parameters copied from modeling notebook\n",
    "nlp_gboost = GradientBoostingClassifier(learning_rate = 0.1, max_depth = 3, min_samples_leaf = 1, min_samples_split = 2,\n",
    "    n_estimators = 150, subsample = 1.0)\n",
    "model_trials('FL', X, y, nlp_gboost, 'nlp_gboost');"
   ]
  },
  {
   "cell_type": "markdown",
   "metadata": {},
   "source": [
    "ANALYSIS\n",
    "\n",
    "- Looks like adding the NLP columns to the production model does actually provide a tiny increase in test accuracy - less than 0.003 increase, but still an increase\n",
    "- However, the specificity has taken about an 0.01 hit, which doesn't seem like a worthwhile tradeoff\n",
    "- We won't use the NLP columns for now in our production model - interesting experiment though!\n",
    "- We will capture the \"top 10\" bigrams according to TFIDF as a point of interest for presentation"
   ]
  },
  {
   "cell_type": "code",
   "execution_count": 126,
   "metadata": {},
   "outputs": [
    {
     "data": {
      "text/plain": [
       "possession of        311.705296\n",
       "fail to              298.592501\n",
       "license suspended    297.175436\n",
       "grand theft          290.510691\n",
       "in the               262.923713\n",
       "theft in             259.942000\n",
       "3rd degree           258.306656\n",
       "the 3rd              258.305982\n",
       "or less              253.256884\n",
       "possess cannabis     252.842420\n",
       "dtype: float64"
      ]
     },
     "execution_count": 126,
     "metadata": {},
     "output_type": "execute_result"
    }
   ],
   "source": [
    "# top 10 bigrams\n",
    "X[[col for col in X if len(col.split()) == 2]].sum().sort_values(ascending = False)[:10]"
   ]
  },
  {
   "cell_type": "markdown",
   "metadata": {},
   "source": [
    "---\n",
    "**Model 3 Experiment: Behavioral feature set - Georgia - focus on important features**"
   ]
  },
  {
   "cell_type": "markdown",
   "metadata": {},
   "source": [
    "- We're going build a model using only the most important features identified during the model trials, in the hopes reducing some of the noise and improving our accuracy."
   ]
  },
  {
   "cell_type": "code",
   "execution_count": 127,
   "metadata": {},
   "outputs": [],
   "source": [
    "# Reading in necessary files\n",
    "ga_dummy = pd.read_csv('../data/GA/georgia_dummy.csv')\n",
    "feats = pd.read_csv('../data/GA/important_feats.csv')"
   ]
  },
  {
   "cell_type": "code",
   "execution_count": 128,
   "metadata": {},
   "outputs": [
    {
     "data": {
      "text/html": [
       "<div>\n",
       "<style scoped>\n",
       "    .dataframe tbody tr th:only-of-type {\n",
       "        vertical-align: middle;\n",
       "    }\n",
       "\n",
       "    .dataframe tbody tr th {\n",
       "        vertical-align: top;\n",
       "    }\n",
       "\n",
       "    .dataframe thead th {\n",
       "        text-align: right;\n",
       "    }\n",
       "</style>\n",
       "<table border=\"1\" class=\"dataframe\">\n",
       "  <thead>\n",
       "    <tr style=\"text-align: right;\">\n",
       "      <th></th>\n",
       "      <th>gang_affiliated</th>\n",
       "      <th>age_at_release_18-22</th>\n",
       "      <th>age_at_release_23-27</th>\n",
       "      <th>gender_male</th>\n",
       "      <th>condition_mh_sa</th>\n",
       "      <th>drugtests_thc_positive</th>\n",
       "      <th>violations_instruction</th>\n",
       "      <th>violations_electronicmonitoring</th>\n",
       "      <th>prison_years_more than 3 years</th>\n",
       "      <th>education_level_less than hs diploma</th>\n",
       "      <th>age_at_release_38-42</th>\n",
       "      <th>education_level_at least some college</th>\n",
       "      <th>prison_years_greater than 2 to 3 years</th>\n",
       "      <th>age_at_release_43-47</th>\n",
       "      <th>age_at_release_48 or older</th>\n",
       "      <th>percent_days_employed</th>\n",
       "      <th>recidivism_within_3years</th>\n",
       "    </tr>\n",
       "  </thead>\n",
       "  <tbody>\n",
       "    <tr>\n",
       "      <th>0</th>\n",
       "      <td>0</td>\n",
       "      <td>0</td>\n",
       "      <td>0</td>\n",
       "      <td>1</td>\n",
       "      <td>1</td>\n",
       "      <td>0.000000</td>\n",
       "      <td>0</td>\n",
       "      <td>0</td>\n",
       "      <td>1</td>\n",
       "      <td>0</td>\n",
       "      <td>0</td>\n",
       "      <td>1</td>\n",
       "      <td>0</td>\n",
       "      <td>1</td>\n",
       "      <td>0</td>\n",
       "      <td>0.488562</td>\n",
       "      <td>0</td>\n",
       "    </tr>\n",
       "    <tr>\n",
       "      <th>1</th>\n",
       "      <td>0</td>\n",
       "      <td>0</td>\n",
       "      <td>0</td>\n",
       "      <td>1</td>\n",
       "      <td>0</td>\n",
       "      <td>0.000000</td>\n",
       "      <td>1</td>\n",
       "      <td>0</td>\n",
       "      <td>1</td>\n",
       "      <td>1</td>\n",
       "      <td>0</td>\n",
       "      <td>0</td>\n",
       "      <td>0</td>\n",
       "      <td>0</td>\n",
       "      <td>0</td>\n",
       "      <td>0.425234</td>\n",
       "      <td>1</td>\n",
       "    </tr>\n",
       "    <tr>\n",
       "      <th>2</th>\n",
       "      <td>0</td>\n",
       "      <td>0</td>\n",
       "      <td>0</td>\n",
       "      <td>1</td>\n",
       "      <td>1</td>\n",
       "      <td>0.333333</td>\n",
       "      <td>1</td>\n",
       "      <td>0</td>\n",
       "      <td>0</td>\n",
       "      <td>0</td>\n",
       "      <td>0</td>\n",
       "      <td>1</td>\n",
       "      <td>0</td>\n",
       "      <td>0</td>\n",
       "      <td>1</td>\n",
       "      <td>0.000000</td>\n",
       "      <td>1</td>\n",
       "    </tr>\n",
       "    <tr>\n",
       "      <th>3</th>\n",
       "      <td>0</td>\n",
       "      <td>0</td>\n",
       "      <td>0</td>\n",
       "      <td>1</td>\n",
       "      <td>1</td>\n",
       "      <td>0.000000</td>\n",
       "      <td>0</td>\n",
       "      <td>0</td>\n",
       "      <td>0</td>\n",
       "      <td>1</td>\n",
       "      <td>1</td>\n",
       "      <td>0</td>\n",
       "      <td>0</td>\n",
       "      <td>0</td>\n",
       "      <td>0</td>\n",
       "      <td>1.000000</td>\n",
       "      <td>0</td>\n",
       "    </tr>\n",
       "    <tr>\n",
       "      <th>4</th>\n",
       "      <td>0</td>\n",
       "      <td>0</td>\n",
       "      <td>0</td>\n",
       "      <td>1</td>\n",
       "      <td>1</td>\n",
       "      <td>0.000000</td>\n",
       "      <td>0</td>\n",
       "      <td>0</td>\n",
       "      <td>0</td>\n",
       "      <td>1</td>\n",
       "      <td>0</td>\n",
       "      <td>0</td>\n",
       "      <td>0</td>\n",
       "      <td>0</td>\n",
       "      <td>0</td>\n",
       "      <td>0.203562</td>\n",
       "      <td>1</td>\n",
       "    </tr>\n",
       "    <tr>\n",
       "      <th>...</th>\n",
       "      <td>...</td>\n",
       "      <td>...</td>\n",
       "      <td>...</td>\n",
       "      <td>...</td>\n",
       "      <td>...</td>\n",
       "      <td>...</td>\n",
       "      <td>...</td>\n",
       "      <td>...</td>\n",
       "      <td>...</td>\n",
       "      <td>...</td>\n",
       "      <td>...</td>\n",
       "      <td>...</td>\n",
       "      <td>...</td>\n",
       "      <td>...</td>\n",
       "      <td>...</td>\n",
       "      <td>...</td>\n",
       "      <td>...</td>\n",
       "    </tr>\n",
       "    <tr>\n",
       "      <th>24421</th>\n",
       "      <td>0</td>\n",
       "      <td>0</td>\n",
       "      <td>1</td>\n",
       "      <td>1</td>\n",
       "      <td>0</td>\n",
       "      <td>0.000000</td>\n",
       "      <td>0</td>\n",
       "      <td>0</td>\n",
       "      <td>1</td>\n",
       "      <td>0</td>\n",
       "      <td>0</td>\n",
       "      <td>1</td>\n",
       "      <td>0</td>\n",
       "      <td>0</td>\n",
       "      <td>0</td>\n",
       "      <td>0.189507</td>\n",
       "      <td>1</td>\n",
       "    </tr>\n",
       "    <tr>\n",
       "      <th>24422</th>\n",
       "      <td>0</td>\n",
       "      <td>0</td>\n",
       "      <td>0</td>\n",
       "      <td>1</td>\n",
       "      <td>0</td>\n",
       "      <td>0.000000</td>\n",
       "      <td>0</td>\n",
       "      <td>0</td>\n",
       "      <td>1</td>\n",
       "      <td>0</td>\n",
       "      <td>1</td>\n",
       "      <td>1</td>\n",
       "      <td>0</td>\n",
       "      <td>0</td>\n",
       "      <td>0</td>\n",
       "      <td>0.757098</td>\n",
       "      <td>1</td>\n",
       "    </tr>\n",
       "    <tr>\n",
       "      <th>24423</th>\n",
       "      <td>0</td>\n",
       "      <td>0</td>\n",
       "      <td>0</td>\n",
       "      <td>1</td>\n",
       "      <td>0</td>\n",
       "      <td>0.000000</td>\n",
       "      <td>0</td>\n",
       "      <td>1</td>\n",
       "      <td>1</td>\n",
       "      <td>0</td>\n",
       "      <td>0</td>\n",
       "      <td>1</td>\n",
       "      <td>0</td>\n",
       "      <td>0</td>\n",
       "      <td>0</td>\n",
       "      <td>0.711138</td>\n",
       "      <td>1</td>\n",
       "    </tr>\n",
       "    <tr>\n",
       "      <th>24424</th>\n",
       "      <td>0</td>\n",
       "      <td>0</td>\n",
       "      <td>0</td>\n",
       "      <td>0</td>\n",
       "      <td>0</td>\n",
       "      <td>0.000000</td>\n",
       "      <td>0</td>\n",
       "      <td>0</td>\n",
       "      <td>1</td>\n",
       "      <td>0</td>\n",
       "      <td>0</td>\n",
       "      <td>1</td>\n",
       "      <td>0</td>\n",
       "      <td>0</td>\n",
       "      <td>0</td>\n",
       "      <td>0.000000</td>\n",
       "      <td>0</td>\n",
       "    </tr>\n",
       "    <tr>\n",
       "      <th>24425</th>\n",
       "      <td>0</td>\n",
       "      <td>0</td>\n",
       "      <td>0</td>\n",
       "      <td>1</td>\n",
       "      <td>0</td>\n",
       "      <td>0.100000</td>\n",
       "      <td>0</td>\n",
       "      <td>0</td>\n",
       "      <td>1</td>\n",
       "      <td>0</td>\n",
       "      <td>0</td>\n",
       "      <td>0</td>\n",
       "      <td>0</td>\n",
       "      <td>0</td>\n",
       "      <td>0</td>\n",
       "      <td>0.124454</td>\n",
       "      <td>1</td>\n",
       "    </tr>\n",
       "  </tbody>\n",
       "</table>\n",
       "<p>24426 rows × 17 columns</p>\n",
       "</div>"
      ],
      "text/plain": [
       "       gang_affiliated  age_at_release_18-22  age_at_release_23-27  \\\n",
       "0                    0                     0                     0   \n",
       "1                    0                     0                     0   \n",
       "2                    0                     0                     0   \n",
       "3                    0                     0                     0   \n",
       "4                    0                     0                     0   \n",
       "...                ...                   ...                   ...   \n",
       "24421                0                     0                     1   \n",
       "24422                0                     0                     0   \n",
       "24423                0                     0                     0   \n",
       "24424                0                     0                     0   \n",
       "24425                0                     0                     0   \n",
       "\n",
       "       gender_male  condition_mh_sa  drugtests_thc_positive  \\\n",
       "0                1                1                0.000000   \n",
       "1                1                0                0.000000   \n",
       "2                1                1                0.333333   \n",
       "3                1                1                0.000000   \n",
       "4                1                1                0.000000   \n",
       "...            ...              ...                     ...   \n",
       "24421            1                0                0.000000   \n",
       "24422            1                0                0.000000   \n",
       "24423            1                0                0.000000   \n",
       "24424            0                0                0.000000   \n",
       "24425            1                0                0.100000   \n",
       "\n",
       "       violations_instruction  violations_electronicmonitoring  \\\n",
       "0                           0                                0   \n",
       "1                           1                                0   \n",
       "2                           1                                0   \n",
       "3                           0                                0   \n",
       "4                           0                                0   \n",
       "...                       ...                              ...   \n",
       "24421                       0                                0   \n",
       "24422                       0                                0   \n",
       "24423                       0                                1   \n",
       "24424                       0                                0   \n",
       "24425                       0                                0   \n",
       "\n",
       "       prison_years_more than 3 years  education_level_less than hs diploma  \\\n",
       "0                                   1                                     0   \n",
       "1                                   1                                     1   \n",
       "2                                   0                                     0   \n",
       "3                                   0                                     1   \n",
       "4                                   0                                     1   \n",
       "...                               ...                                   ...   \n",
       "24421                               1                                     0   \n",
       "24422                               1                                     0   \n",
       "24423                               1                                     0   \n",
       "24424                               1                                     0   \n",
       "24425                               1                                     0   \n",
       "\n",
       "       age_at_release_38-42  education_level_at least some college  \\\n",
       "0                         0                                      1   \n",
       "1                         0                                      0   \n",
       "2                         0                                      1   \n",
       "3                         1                                      0   \n",
       "4                         0                                      0   \n",
       "...                     ...                                    ...   \n",
       "24421                     0                                      1   \n",
       "24422                     1                                      1   \n",
       "24423                     0                                      1   \n",
       "24424                     0                                      1   \n",
       "24425                     0                                      0   \n",
       "\n",
       "       prison_years_greater than 2 to 3 years  age_at_release_43-47  \\\n",
       "0                                           0                     1   \n",
       "1                                           0                     0   \n",
       "2                                           0                     0   \n",
       "3                                           0                     0   \n",
       "4                                           0                     0   \n",
       "...                                       ...                   ...   \n",
       "24421                                       0                     0   \n",
       "24422                                       0                     0   \n",
       "24423                                       0                     0   \n",
       "24424                                       0                     0   \n",
       "24425                                       0                     0   \n",
       "\n",
       "       age_at_release_48 or older  percent_days_employed  \\\n",
       "0                               0               0.488562   \n",
       "1                               0               0.425234   \n",
       "2                               1               0.000000   \n",
       "3                               0               1.000000   \n",
       "4                               0               0.203562   \n",
       "...                           ...                    ...   \n",
       "24421                           0               0.189507   \n",
       "24422                           0               0.757098   \n",
       "24423                           0               0.711138   \n",
       "24424                           0               0.000000   \n",
       "24425                           0               0.124454   \n",
       "\n",
       "       recidivism_within_3years  \n",
       "0                             0  \n",
       "1                             1  \n",
       "2                             1  \n",
       "3                             0  \n",
       "4                             1  \n",
       "...                         ...  \n",
       "24421                         1  \n",
       "24422                         1  \n",
       "24423                         1  \n",
       "24424                         0  \n",
       "24425                         1  \n",
       "\n",
       "[24426 rows x 17 columns]"
      ]
     },
     "execution_count": 128,
     "metadata": {},
     "output_type": "execute_result"
    }
   ],
   "source": [
    "# Merging dataframes to include only the important features and target column\n",
    "\n",
    "important_feats = feats.loc[(feats['coef'] > 1.15) | (feats['coef'] < 0.85)]\n",
    "\n",
    "important_cols = [col for col in important_feats['feature']]\n",
    "\n",
    "ga_exper = ga_dummy[important_cols]\n",
    "ga_exper = ga_exper.join(ga_dummy['recidivism_within_3years'])\n",
    "ga_exper"
   ]
  },
  {
   "cell_type": "code",
   "execution_count": 129,
   "metadata": {},
   "outputs": [],
   "source": [
    "# setup X and y\n",
    "X = ga_exper.drop(columns='recidivism_within_3years')\n",
    "y = ga_exper['recidivism_within_3years']"
   ]
  },
  {
   "cell_type": "code",
   "execution_count": 130,
   "metadata": {},
   "outputs": [
    {
     "name": "stdout",
     "output_type": "stream",
     "text": [
      "Dataset: GA\n",
      "Model ID: imp_grad\n",
      "Model Params: {'ccp_alpha': 0.0, 'criterion': 'friedman_mse', 'init': None, 'learning_rate': 0.1, 'loss': 'log_loss', 'max_depth': 3, 'max_features': None, 'max_leaf_nodes': None, 'min_impurity_decrease': 0.0, 'min_samples_leaf': 1, 'min_samples_split': 2, 'min_weight_fraction_leaf': 0.0, 'n_estimators': 100, 'n_iter_no_change': None, 'random_state': None, 'subsample': 1.0, 'tol': 0.0001, 'validation_fraction': 0.1, 'verbose': 0, 'warm_start': False}\n",
      "Training Score: 0.6941\n",
      "Testing Score: 0.6871 \n",
      "\n",
      "Accuracy: 0.6871\n",
      "Specificity: 0.5431\n",
      "Precision: 0.7173\n",
      "Recall: 0.7845\n",
      "F1 Score: 0.7494 \n",
      "\n",
      "Best accuracy rate confusion matrix:\n"
     ]
    },
    {
     "data": {
      "image/png": "[encoded data removed]",
      "text/plain": [
       "<Figure size 432x288 with 2 Axes>"
      ]
     },
     "metadata": {
      "needs_background": "light"
     },
     "output_type": "display_data"
    }
   ],
   "source": [
    "gb = GradientBoostingClassifier()\n",
    "\n",
    "model_trials('GA', X, y, gb, 'imp_grad');"
   ]
  },
  {
   "cell_type": "code",
   "execution_count": 131,
   "metadata": {},
   "outputs": [
    {
     "name": "stdout",
     "output_type": "stream",
     "text": [
      "Dataset: GA\n",
      "Model ID: imp_logreg\n",
      "Model Params: {'C': 1.0, 'class_weight': None, 'dual': False, 'fit_intercept': True, 'intercept_scaling': 1, 'l1_ratio': None, 'max_iter': 100, 'multi_class': 'auto', 'n_jobs': None, 'penalty': 'l2', 'random_state': None, 'solver': 'lbfgs', 'tol': 0.0001, 'verbose': 0, 'warm_start': False}\n",
      "Training Score: 0.6799\n",
      "Testing Score: 0.6736 \n",
      "\n",
      "Accuracy: 0.6736\n",
      "Specificity: 0.4944\n",
      "Precision: 0.6991\n",
      "Recall: 0.7948\n",
      "F1 Score: 0.7439 \n",
      "\n",
      "Best accuracy rate confusion matrix:\n"
     ]
    },
    {
     "data": {
      "image/png": "[encoded data removed]",
      "text/plain": [
       "<Figure size 432x288 with 2 Axes>"
      ]
     },
     "metadata": {
      "needs_background": "light"
     },
     "output_type": "display_data"
    }
   ],
   "source": [
    "lr = LogisticRegression()\n",
    "\n",
    "model_trials('GA', X, y, lr, 'imp_logreg');"
   ]
  },
  {
   "cell_type": "code",
   "execution_count": 132,
   "metadata": {},
   "outputs": [
    {
     "name": "stdout",
     "output_type": "stream",
     "text": [
      "Dataset: GA\n",
      "Model ID: imp_knn\n",
      "Model Params: {'memory': None, 'steps': [('ss', StandardScaler()), ('knn', KNeighborsClassifier())], 'verbose': False, 'ss': StandardScaler(), 'knn': KNeighborsClassifier(), 'ss__copy': True, 'ss__with_mean': True, 'ss__with_std': True, 'knn__algorithm': 'auto', 'knn__leaf_size': 30, 'knn__metric': 'minkowski', 'knn__metric_params': None, 'knn__n_jobs': None, 'knn__n_neighbors': 5, 'knn__p': 2, 'knn__weights': 'uniform'}\n",
      "Training Score: 0.7167\n",
      "Testing Score: 0.6269 \n",
      "\n",
      "Accuracy: 0.6269\n",
      "Specificity: 0.502\n",
      "Precision: 0.6786\n",
      "Recall: 0.7114\n",
      "F1 Score: 0.6946 \n",
      "\n",
      "Best accuracy rate confusion matrix:\n"
     ]
    },
    {
     "data": {
      "image/png": "[encoded data removed]",
      "text/plain": [
       "<Figure size 432x288 with 2 Axes>"
      ]
     },
     "metadata": {
      "needs_background": "light"
     },
     "output_type": "display_data"
    }
   ],
   "source": [
    "knn = Pipeline([\n",
    "    ('ss', StandardScaler()),\n",
    "    ('knn', KNeighborsClassifier())\n",
    "])\n",
    "\n",
    "model_trials('GA', X, y, knn, 'imp_knn');"
   ]
  },
  {
   "cell_type": "code",
   "execution_count": 133,
   "metadata": {},
   "outputs": [
    {
     "name": "stdout",
     "output_type": "stream",
     "text": [
      "Dataset: GA\n",
      "Model ID: imp_rf\n",
      "Model Params: {'bootstrap': True, 'ccp_alpha': 0.0, 'class_weight': None, 'criterion': 'gini', 'max_depth': None, 'max_features': 'sqrt', 'max_leaf_nodes': None, 'max_samples': None, 'min_impurity_decrease': 0.0, 'min_samples_leaf': 1, 'min_samples_split': 2, 'min_weight_fraction_leaf': 0.0, 'n_estimators': 100, 'n_jobs': None, 'oob_score': False, 'random_state': None, 'verbose': 0, 'warm_start': False}\n",
      "Training Score: 0.879\n",
      "Testing Score: 0.6443 \n",
      "\n",
      "Accuracy: 0.6443\n",
      "Specificity: 0.4888\n",
      "Precision: 0.6842\n",
      "Recall: 0.7495\n",
      "F1 Score: 0.7154 \n",
      "\n",
      "Best accuracy rate confusion matrix:\n"
     ]
    },
    {
     "data": {
      "image/png": "[encoded data removed]",
      "text/plain": [
       "<Figure size 432x288 with 2 Axes>"
      ]
     },
     "metadata": {
      "needs_background": "light"
     },
     "output_type": "display_data"
    }
   ],
   "source": [
    "rf = RandomForestClassifier()\n",
    "\n",
    "model_trials('GA', X, y, rf, 'imp_rf');"
   ]
  },
  {
   "cell_type": "code",
   "execution_count": 134,
   "metadata": {},
   "outputs": [
    {
     "name": "stdout",
     "output_type": "stream",
     "text": [
      "Dataset: GA\n",
      "Model ID: imp_ada\n",
      "Model Params: {'algorithm': 'SAMME.R', 'base_estimator': None, 'learning_rate': 1.0, 'n_estimators': 50, 'random_state': None}\n",
      "Training Score: 0.6875\n",
      "Testing Score: 0.6871 \n",
      "\n",
      "Accuracy: 0.6871\n",
      "Specificity: 0.5106\n",
      "Precision: 0.7089\n",
      "Recall: 0.8065\n",
      "F1 Score: 0.7545 \n",
      "\n",
      "Best accuracy rate confusion matrix:\n"
     ]
    },
    {
     "data": {
      "image/png": "[encoded data removed]",
      "text/plain": [
       "<Figure size 432x288 with 2 Axes>"
      ]
     },
     "metadata": {
      "needs_background": "light"
     },
     "output_type": "display_data"
    }
   ],
   "source": [
    "ada = AdaBoostClassifier()\n",
    "\n",
    "model_trials('GA', X, y, ada, 'imp_ada');"
   ]
  },
  {
   "cell_type": "code",
   "execution_count": 135,
   "metadata": {},
   "outputs": [
    {
     "name": "stdout",
     "output_type": "stream",
     "text": [
      "Dataset: GA\n",
      "Model ID: imp_mnb\n",
      "Model Params: {'alpha': 1.0, 'class_prior': None, 'fit_prior': True}\n",
      "Training Score: 0.6523\n",
      "Testing Score: 0.6472 \n",
      "\n",
      "Accuracy: 0.6472\n",
      "Specificity: 0.4077\n",
      "Precision: 0.6687\n",
      "Recall: 0.8092\n",
      "F1 Score: 0.7323 \n",
      "\n",
      "Best accuracy rate confusion matrix:\n"
     ]
    },
    {
     "data": {
      "image/png": "[encoded data removed]",
      "text/plain": [
       "<Figure size 432x288 with 2 Axes>"
      ]
     },
     "metadata": {
      "needs_background": "light"
     },
     "output_type": "display_data"
    }
   ],
   "source": [
    "mnb = MultinomialNB()\n",
    "\n",
    "model_trials('GA', X, y, mnb, 'imp_mnb');"
   ]
  },
  {
   "cell_type": "code",
   "execution_count": 136,
   "metadata": {},
   "outputs": [
    {
     "name": "stdout",
     "output_type": "stream",
     "text": [
      "Dataset: GA\n",
      "Model ID: imp_bag\n",
      "Model Params: {'base_estimator': None, 'bootstrap': True, 'bootstrap_features': False, 'max_features': 1.0, 'max_samples': 1.0, 'n_estimators': 10, 'n_jobs': None, 'oob_score': False, 'random_state': None, 'verbose': 0, 'warm_start': False}\n",
      "Training Score: 0.8651\n",
      "Testing Score: 0.6302 \n",
      "\n",
      "Accuracy: 0.6302\n",
      "Specificity: 0.5223\n",
      "Precision: 0.6851\n",
      "Recall: 0.7032\n",
      "F1 Score: 0.694 \n",
      "\n",
      "Best accuracy rate confusion matrix:\n"
     ]
    },
    {
     "data": {
      "image/png": "[encoded data removed]",
      "text/plain": [
       "<Figure size 432x288 with 2 Axes>"
      ]
     },
     "metadata": {
      "needs_background": "light"
     },
     "output_type": "display_data"
    }
   ],
   "source": [
    "bag = BaggingClassifier()\n",
    "\n",
    "model_trials('GA', X, y, bag, 'imp_bag');"
   ]
  },
  {
   "cell_type": "code",
   "execution_count": 137,
   "metadata": {},
   "outputs": [
    {
     "name": "stdout",
     "output_type": "stream",
     "text": [
      "Dataset: GA\n",
      "Model ID: imp_dtree\n",
      "Model Params: {'ccp_alpha': 0.0, 'class_weight': None, 'criterion': 'gini', 'max_depth': None, 'max_features': None, 'max_leaf_nodes': None, 'min_impurity_decrease': 0.0, 'min_samples_leaf': 1, 'min_samples_split': 2, 'min_weight_fraction_leaf': 0.0, 'random_state': None, 'splitter': 'best'}\n",
      "Training Score: 0.8794\n",
      "Testing Score: 0.6142 \n",
      "\n",
      "Accuracy: 0.6142\n",
      "Specificity: 0.5304\n",
      "Precision: 0.6786\n",
      "Recall: 0.6709\n",
      "F1 Score: 0.6747 \n",
      "\n",
      "Best accuracy rate confusion matrix:\n"
     ]
    },
    {
     "data": {
      "image/png": "[encoded data removed]",
      "text/plain": [
       "<Figure size 432x288 with 2 Axes>"
      ]
     },
     "metadata": {
      "needs_background": "light"
     },
     "output_type": "display_data"
    }
   ],
   "source": [
    "dtree = DecisionTreeClassifier()\n",
    "\n",
    "model_trials('GA', X, y, dtree, 'imp_dtree');"
   ]
  },
  {
   "cell_type": "code",
   "execution_count": 138,
   "metadata": {},
   "outputs": [
    {
     "data": {
      "text/html": [
       "<div>\n",
       "<style scoped>\n",
       "    .dataframe tbody tr th:only-of-type {\n",
       "        vertical-align: middle;\n",
       "    }\n",
       "\n",
       "    .dataframe tbody tr th {\n",
       "        vertical-align: top;\n",
       "    }\n",
       "\n",
       "    .dataframe thead th {\n",
       "        text-align: right;\n",
       "    }\n",
       "</style>\n",
       "<table border=\"1\" class=\"dataframe\">\n",
       "  <thead>\n",
       "    <tr style=\"text-align: right;\">\n",
       "      <th></th>\n",
       "      <th>dataset_name</th>\n",
       "      <th>model_used</th>\n",
       "      <th>model_params</th>\n",
       "      <th>train_score</th>\n",
       "      <th>test_score</th>\n",
       "      <th>accuracy</th>\n",
       "      <th>specificity</th>\n",
       "      <th>precision</th>\n",
       "      <th>recall</th>\n",
       "      <th>f1 score</th>\n",
       "      <th>true_neg</th>\n",
       "      <th>false_pos</th>\n",
       "      <th>false_neg</th>\n",
       "      <th>true_pos</th>\n",
       "    </tr>\n",
       "  </thead>\n",
       "  <tbody>\n",
       "    <tr>\n",
       "      <th>2</th>\n",
       "      <td>GA</td>\n",
       "      <td>imp_grad</td>\n",
       "      <td>{'ccp_alpha': 0.0, 'criterion': 'friedman_mse'...</td>\n",
       "      <td>0.694063</td>\n",
       "      <td>0.687065</td>\n",
       "      <td>0.687065</td>\n",
       "      <td>0.543103</td>\n",
       "      <td>0.717289</td>\n",
       "      <td>0.784489</td>\n",
       "      <td>0.749385</td>\n",
       "      <td>1071</td>\n",
       "      <td>901</td>\n",
       "      <td>628</td>\n",
       "      <td>2286</td>\n",
       "    </tr>\n",
       "    <tr>\n",
       "      <th>6</th>\n",
       "      <td>GA</td>\n",
       "      <td>imp_ada</td>\n",
       "      <td>{'algorithm': 'SAMME.R', 'base_estimator': Non...</td>\n",
       "      <td>0.687462</td>\n",
       "      <td>0.687065</td>\n",
       "      <td>0.687065</td>\n",
       "      <td>0.510649</td>\n",
       "      <td>0.708899</td>\n",
       "      <td>0.806452</td>\n",
       "      <td>0.754535</td>\n",
       "      <td>1007</td>\n",
       "      <td>965</td>\n",
       "      <td>564</td>\n",
       "      <td>2350</td>\n",
       "    </tr>\n",
       "    <tr>\n",
       "      <th>3</th>\n",
       "      <td>GA</td>\n",
       "      <td>imp_logreg</td>\n",
       "      <td>{'C': 1.0, 'class_weight': None, 'dual': False...</td>\n",
       "      <td>0.679887</td>\n",
       "      <td>0.673557</td>\n",
       "      <td>0.673557</td>\n",
       "      <td>0.494422</td>\n",
       "      <td>0.699064</td>\n",
       "      <td>0.794784</td>\n",
       "      <td>0.743857</td>\n",
       "      <td>975</td>\n",
       "      <td>997</td>\n",
       "      <td>598</td>\n",
       "      <td>2316</td>\n",
       "    </tr>\n",
       "    <tr>\n",
       "      <th>7</th>\n",
       "      <td>GA</td>\n",
       "      <td>imp_mnb</td>\n",
       "      <td>{'alpha': 1.0, 'class_prior': None, 'fit_prior...</td>\n",
       "      <td>0.652303</td>\n",
       "      <td>0.647155</td>\n",
       "      <td>0.647155</td>\n",
       "      <td>0.407708</td>\n",
       "      <td>0.668746</td>\n",
       "      <td>0.809197</td>\n",
       "      <td>0.732298</td>\n",
       "      <td>804</td>\n",
       "      <td>1168</td>\n",
       "      <td>556</td>\n",
       "      <td>2358</td>\n",
       "    </tr>\n",
       "    <tr>\n",
       "      <th>5</th>\n",
       "      <td>GA</td>\n",
       "      <td>imp_rf</td>\n",
       "      <td>{'bootstrap': True, 'ccp_alpha': 0.0, 'class_w...</td>\n",
       "      <td>0.879017</td>\n",
       "      <td>0.644290</td>\n",
       "      <td>0.644290</td>\n",
       "      <td>0.488844</td>\n",
       "      <td>0.684211</td>\n",
       "      <td>0.749485</td>\n",
       "      <td>0.715362</td>\n",
       "      <td>964</td>\n",
       "      <td>1008</td>\n",
       "      <td>730</td>\n",
       "      <td>2184</td>\n",
       "    </tr>\n",
       "    <tr>\n",
       "      <th>8</th>\n",
       "      <td>GA</td>\n",
       "      <td>imp_bag</td>\n",
       "      <td>{'base_estimator': None, 'bootstrap': True, 'b...</td>\n",
       "      <td>0.865097</td>\n",
       "      <td>0.630168</td>\n",
       "      <td>0.630168</td>\n",
       "      <td>0.522312</td>\n",
       "      <td>0.685055</td>\n",
       "      <td>0.703157</td>\n",
       "      <td>0.693988</td>\n",
       "      <td>1030</td>\n",
       "      <td>942</td>\n",
       "      <td>865</td>\n",
       "      <td>2049</td>\n",
       "    </tr>\n",
       "    <tr>\n",
       "      <th>4</th>\n",
       "      <td>GA</td>\n",
       "      <td>imp_knn</td>\n",
       "      <td>{'memory': None, 'steps': [('ss', StandardScal...</td>\n",
       "      <td>0.716735</td>\n",
       "      <td>0.626893</td>\n",
       "      <td>0.626893</td>\n",
       "      <td>0.502028</td>\n",
       "      <td>0.678560</td>\n",
       "      <td>0.711393</td>\n",
       "      <td>0.694589</td>\n",
       "      <td>990</td>\n",
       "      <td>982</td>\n",
       "      <td>841</td>\n",
       "      <td>2073</td>\n",
       "    </tr>\n",
       "    <tr>\n",
       "      <th>9</th>\n",
       "      <td>GA</td>\n",
       "      <td>imp_dtree</td>\n",
       "      <td>{'ccp_alpha': 0.0, 'class_weight': None, 'crit...</td>\n",
       "      <td>0.879376</td>\n",
       "      <td>0.614204</td>\n",
       "      <td>0.614204</td>\n",
       "      <td>0.530426</td>\n",
       "      <td>0.678584</td>\n",
       "      <td>0.670899</td>\n",
       "      <td>0.674720</td>\n",
       "      <td>1046</td>\n",
       "      <td>926</td>\n",
       "      <td>959</td>\n",
       "      <td>1955</td>\n",
       "    </tr>\n",
       "  </tbody>\n",
       "</table>\n",
       "</div>"
      ],
      "text/plain": [
       "  dataset_name  model_used                                       model_params  \\\n",
       "2           GA    imp_grad  {'ccp_alpha': 0.0, 'criterion': 'friedman_mse'...   \n",
       "6           GA     imp_ada  {'algorithm': 'SAMME.R', 'base_estimator': Non...   \n",
       "3           GA  imp_logreg  {'C': 1.0, 'class_weight': None, 'dual': False...   \n",
       "7           GA     imp_mnb  {'alpha': 1.0, 'class_prior': None, 'fit_prior...   \n",
       "5           GA      imp_rf  {'bootstrap': True, 'ccp_alpha': 0.0, 'class_w...   \n",
       "8           GA     imp_bag  {'base_estimator': None, 'bootstrap': True, 'b...   \n",
       "4           GA     imp_knn  {'memory': None, 'steps': [('ss', StandardScal...   \n",
       "9           GA   imp_dtree  {'ccp_alpha': 0.0, 'class_weight': None, 'crit...   \n",
       "\n",
       "   train_score  test_score  accuracy  specificity  precision    recall  \\\n",
       "2     0.694063    0.687065  0.687065     0.543103   0.717289  0.784489   \n",
       "6     0.687462    0.687065  0.687065     0.510649   0.708899  0.806452   \n",
       "3     0.679887    0.673557  0.673557     0.494422   0.699064  0.794784   \n",
       "7     0.652303    0.647155  0.647155     0.407708   0.668746  0.809197   \n",
       "5     0.879017    0.644290  0.644290     0.488844   0.684211  0.749485   \n",
       "8     0.865097    0.630168  0.630168     0.522312   0.685055  0.703157   \n",
       "4     0.716735    0.626893  0.626893     0.502028   0.678560  0.711393   \n",
       "9     0.879376    0.614204  0.614204     0.530426   0.678584  0.670899   \n",
       "\n",
       "   f1 score  true_neg  false_pos  false_neg  true_pos  \n",
       "2  0.749385      1071        901        628      2286  \n",
       "6  0.754535      1007        965        564      2350  \n",
       "3  0.743857       975        997        598      2316  \n",
       "7  0.732298       804       1168        556      2358  \n",
       "5  0.715362       964       1008        730      2184  \n",
       "8  0.693988      1030        942        865      2049  \n",
       "4  0.694589       990        982        841      2073  \n",
       "9  0.674720      1046        926        959      1955  "
      ]
     },
     "execution_count": 138,
     "metadata": {},
     "output_type": "execute_result"
    }
   ],
   "source": [
    "# Let's compare results\n",
    "model_trials_df[model_trials_df['dataset_name'] == 'GA'].sort_values(by='accuracy', ascending = False).head(10)"
   ]
  },
  {
   "cell_type": "markdown",
   "metadata": {},
   "source": [
    "ANALYSIS\n",
    "\n",
    "- Removing all features except those that scored highest on importance seems to have lessened their importance.\n",
    "- All models aside from MNB scored worse on accuracy.\n",
    "- We're seeing jumps in both types of misclassifications for all models tested.\n",
    "- Overall, it appears that keeping the less important features in the model helps it weigh the variables more accurately and correctly predict recidivism more often."
   ]
  },
  {
   "cell_type": "markdown",
   "metadata": {},
   "source": [
    "---\n",
    "**FINAL NOTES**\n",
    "- There is no output from this notebook.\n",
    "- The last notebook in the series is [Results and Recommendations](./04_results.ipynb)."
   ]
  }
 ],
 "metadata": {
  "kernelspec": {
   "display_name": "Python 3.9.12 ('base')",
   "language": "python",
   "name": "python3"
  },
  "language_info": {
   "codemirror_mode": {
    "name": "ipython",
    "version": 3
   },
   "file_extension": ".py",
   "mimetype": "text/x-python",
   "name": "python",
   "nbconvert_exporter": "python",
   "pygments_lexer": "ipython3",
   "version": "3.9.12"
  },
  "vscode": {
   "interpreter": {
    "hash": "5c5d815f4904d5c36e1cb6a23cb867a61c9881b6acdb1b6d63422ceae43ed5d6"
   }
  }
 },
 "nbformat": 4,
 "nbformat_minor": 4
}
