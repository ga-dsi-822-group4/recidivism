{
 "cells": [
  {
   "cell_type": "code",
   "execution_count": 1,
   "id": "dbfe2707-bf1d-4b30-ac59-4c56a030b857",
   "metadata": {},
   "outputs": [],
   "source": [
    "import pandas as pd\n",
    "import matplotlib.pyplot as plt\n",
    "from sklearn.linear_model import LogisticRegression\n",
    "from sklearn.metrics import (confusion_matrix, ConfusionMatrixDisplay,\n",
    "    accuracy_score, plot_roc_curve, roc_auc_score, recall_score,\n",
    "    precision_score, f1_score, classification_report, RocCurveDisplay)\n",
    "from sklearn.model_selection import train_test_split\n",
    "\n",
    "\n",
    "ny_df = pd.read_csv('./data/NY/newyork.csv')"
   ]
  },
  {
   "cell_type": "code",
   "execution_count": 2,
   "id": "056af296-ee93-4077-8197-45bcf3e94835",
   "metadata": {},
   "outputs": [
    {
     "data": {
      "text/html": [
       "<div>\n",
       "<style scoped>\n",
       "    .dataframe tbody tr th:only-of-type {\n",
       "        vertical-align: middle;\n",
       "    }\n",
       "\n",
       "    .dataframe tbody tr th {\n",
       "        vertical-align: top;\n",
       "    }\n",
       "\n",
       "    .dataframe thead th {\n",
       "        text-align: right;\n",
       "    }\n",
       "</style>\n",
       "<table border=\"1\" class=\"dataframe\">\n",
       "  <thead>\n",
       "    <tr style=\"text-align: right;\">\n",
       "      <th></th>\n",
       "      <th>Release Year</th>\n",
       "      <th>County of Indictment</th>\n",
       "      <th>Gender</th>\n",
       "      <th>Age at Release</th>\n",
       "      <th>Return Status</th>\n",
       "    </tr>\n",
       "  </thead>\n",
       "  <tbody>\n",
       "    <tr>\n",
       "      <th>0</th>\n",
       "      <td>2008</td>\n",
       "      <td>UNKNOWN</td>\n",
       "      <td>MALE</td>\n",
       "      <td>55</td>\n",
       "      <td>Not Returned</td>\n",
       "    </tr>\n",
       "    <tr>\n",
       "      <th>1</th>\n",
       "      <td>2008</td>\n",
       "      <td>ALBANY</td>\n",
       "      <td>MALE</td>\n",
       "      <td>16</td>\n",
       "      <td>Returned Parole Violation</td>\n",
       "    </tr>\n",
       "    <tr>\n",
       "      <th>2</th>\n",
       "      <td>2008</td>\n",
       "      <td>ALBANY</td>\n",
       "      <td>MALE</td>\n",
       "      <td>17</td>\n",
       "      <td>Not Returned</td>\n",
       "    </tr>\n",
       "    <tr>\n",
       "      <th>3</th>\n",
       "      <td>2008</td>\n",
       "      <td>ALBANY</td>\n",
       "      <td>MALE</td>\n",
       "      <td>17</td>\n",
       "      <td>Returned Parole Violation</td>\n",
       "    </tr>\n",
       "    <tr>\n",
       "      <th>4</th>\n",
       "      <td>2008</td>\n",
       "      <td>ALBANY</td>\n",
       "      <td>MALE</td>\n",
       "      <td>18</td>\n",
       "      <td>Not Returned</td>\n",
       "    </tr>\n",
       "  </tbody>\n",
       "</table>\n",
       "</div>"
      ],
      "text/plain": [
       "   Release Year County of Indictment Gender  Age at Release  \\\n",
       "0          2008              UNKNOWN   MALE              55   \n",
       "1          2008               ALBANY   MALE              16   \n",
       "2          2008               ALBANY   MALE              17   \n",
       "3          2008               ALBANY   MALE              17   \n",
       "4          2008               ALBANY   MALE              18   \n",
       "\n",
       "               Return Status  \n",
       "0               Not Returned  \n",
       "1  Returned Parole Violation  \n",
       "2               Not Returned  \n",
       "3  Returned Parole Violation  \n",
       "4               Not Returned  "
      ]
     },
     "execution_count": 2,
     "metadata": {},
     "output_type": "execute_result"
    }
   ],
   "source": [
    "ny_df.head()"
   ]
  },
  {
   "cell_type": "code",
   "execution_count": 3,
   "id": "e19fd3ed-9694-406d-93ec-4ca72e142fa1",
   "metadata": {},
   "outputs": [
    {
     "name": "stdout",
     "output_type": "stream",
     "text": [
      "<class 'pandas.core.frame.DataFrame'>\n",
      "RangeIndex: 188650 entries, 0 to 188649\n",
      "Data columns (total 5 columns):\n",
      " #   Column                Non-Null Count   Dtype \n",
      "---  ------                --------------   ----- \n",
      " 0   Release Year          188650 non-null  int64 \n",
      " 1   County of Indictment  188650 non-null  object\n",
      " 2   Gender                188650 non-null  object\n",
      " 3   Age at Release        188650 non-null  int64 \n",
      " 4   Return Status         188650 non-null  object\n",
      "dtypes: int64(2), object(3)\n",
      "memory usage: 7.2+ MB\n"
     ]
    }
   ],
   "source": [
    "ny_df.info()"
   ]
  },
  {
   "cell_type": "code",
   "execution_count": 4,
   "id": "87728b7d-af6c-4642-9e67-5a680a946779",
   "metadata": {},
   "outputs": [
    {
     "data": {
      "text/plain": [
       "Release Year            0\n",
       "County of Indictment    0\n",
       "Gender                  0\n",
       "Age at Release          0\n",
       "Return Status           0\n",
       "dtype: int64"
      ]
     },
     "execution_count": 4,
     "metadata": {},
     "output_type": "execute_result"
    }
   ],
   "source": [
    "ny_df.isnull().sum()"
   ]
  },
  {
   "cell_type": "code",
   "execution_count": 5,
   "id": "c5e4ff38-e223-45ce-aa7e-36b81803ecf8",
   "metadata": {},
   "outputs": [
    {
     "data": {
      "text/html": [
       "<div>\n",
       "<style scoped>\n",
       "    .dataframe tbody tr th:only-of-type {\n",
       "        vertical-align: middle;\n",
       "    }\n",
       "\n",
       "    .dataframe tbody tr th {\n",
       "        vertical-align: top;\n",
       "    }\n",
       "\n",
       "    .dataframe thead th {\n",
       "        text-align: right;\n",
       "    }\n",
       "</style>\n",
       "<table border=\"1\" class=\"dataframe\">\n",
       "  <thead>\n",
       "    <tr style=\"text-align: right;\">\n",
       "      <th></th>\n",
       "      <th>Release Year</th>\n",
       "      <th>Age at Release</th>\n",
       "    </tr>\n",
       "  </thead>\n",
       "  <tbody>\n",
       "    <tr>\n",
       "      <th>count</th>\n",
       "      <td>188650.000000</td>\n",
       "      <td>188650.000000</td>\n",
       "    </tr>\n",
       "    <tr>\n",
       "      <th>mean</th>\n",
       "      <td>2011.326064</td>\n",
       "      <td>35.473400</td>\n",
       "    </tr>\n",
       "    <tr>\n",
       "      <th>std</th>\n",
       "      <td>2.289170</td>\n",
       "      <td>10.972873</td>\n",
       "    </tr>\n",
       "    <tr>\n",
       "      <th>min</th>\n",
       "      <td>2008.000000</td>\n",
       "      <td>16.000000</td>\n",
       "    </tr>\n",
       "    <tr>\n",
       "      <th>25%</th>\n",
       "      <td>2009.000000</td>\n",
       "      <td>26.000000</td>\n",
       "    </tr>\n",
       "    <tr>\n",
       "      <th>50%</th>\n",
       "      <td>2011.000000</td>\n",
       "      <td>34.000000</td>\n",
       "    </tr>\n",
       "    <tr>\n",
       "      <th>75%</th>\n",
       "      <td>2013.000000</td>\n",
       "      <td>44.000000</td>\n",
       "    </tr>\n",
       "    <tr>\n",
       "      <th>max</th>\n",
       "      <td>2015.000000</td>\n",
       "      <td>100.000000</td>\n",
       "    </tr>\n",
       "  </tbody>\n",
       "</table>\n",
       "</div>"
      ],
      "text/plain": [
       "        Release Year  Age at Release\n",
       "count  188650.000000   188650.000000\n",
       "mean     2011.326064       35.473400\n",
       "std         2.289170       10.972873\n",
       "min      2008.000000       16.000000\n",
       "25%      2009.000000       26.000000\n",
       "50%      2011.000000       34.000000\n",
       "75%      2013.000000       44.000000\n",
       "max      2015.000000      100.000000"
      ]
     },
     "execution_count": 5,
     "metadata": {},
     "output_type": "execute_result"
    }
   ],
   "source": [
    "ny_df.describe()"
   ]
  },
  {
   "cell_type": "code",
   "execution_count": 6,
   "id": "6194e4b9-6c98-48e9-8e51-398edd41936d",
   "metadata": {},
   "outputs": [
    {
     "data": {
      "text/plain": [
       "Not Returned                 110003\n",
       "Returned Parole Violation     61381\n",
       "New Felony Offense            17266\n",
       "Name: Return Status, dtype: int64"
      ]
     },
     "execution_count": 6,
     "metadata": {},
     "output_type": "execute_result"
    }
   ],
   "source": [
    "ny_df['Return Status'].value_counts()"
   ]
  },
  {
   "cell_type": "code",
   "execution_count": 7,
   "id": "3a5cebf0-64fc-4eb4-a5ce-2026ab266b58",
   "metadata": {},
   "outputs": [
    {
     "data": {
      "text/plain": [
       "MALE      0.937228\n",
       "FEMALE    0.062772\n",
       "Name: Gender, dtype: float64"
      ]
     },
     "execution_count": 7,
     "metadata": {},
     "output_type": "execute_result"
    }
   ],
   "source": [
    "ny_df['Gender'].value_counts(normalize = True)"
   ]
  },
  {
   "cell_type": "code",
   "execution_count": 8,
   "id": "bd055fae-da3c-44c3-8017-86302622d6e7",
   "metadata": {},
   "outputs": [],
   "source": [
    "#maybe potential here to make this an ordinal target variable like Gabe was interested in however given the categories not sure how insightful it would be.\n",
    "ny_df['recidivism'] = ny_df['Return Status'].map({'Not Returned': 0, 'Returned Parole Violation' : 1, 'New Felony Offense' : 1})"
   ]
  },
  {
   "cell_type": "code",
   "execution_count": 9,
   "id": "f3cc6a8f-e19e-46e4-9ad1-7162fe4f9f4a",
   "metadata": {},
   "outputs": [
    {
     "data": {
      "text/html": [
       "<div>\n",
       "<style scoped>\n",
       "    .dataframe tbody tr th:only-of-type {\n",
       "        vertical-align: middle;\n",
       "    }\n",
       "\n",
       "    .dataframe tbody tr th {\n",
       "        vertical-align: top;\n",
       "    }\n",
       "\n",
       "    .dataframe thead th {\n",
       "        text-align: right;\n",
       "    }\n",
       "</style>\n",
       "<table border=\"1\" class=\"dataframe\">\n",
       "  <thead>\n",
       "    <tr style=\"text-align: right;\">\n",
       "      <th></th>\n",
       "      <th>Release Year</th>\n",
       "      <th>County of Indictment</th>\n",
       "      <th>Gender</th>\n",
       "      <th>Age at Release</th>\n",
       "      <th>Return Status</th>\n",
       "      <th>recidivism</th>\n",
       "      <th>gender_map</th>\n",
       "    </tr>\n",
       "  </thead>\n",
       "  <tbody>\n",
       "    <tr>\n",
       "      <th>0</th>\n",
       "      <td>2008</td>\n",
       "      <td>UNKNOWN</td>\n",
       "      <td>MALE</td>\n",
       "      <td>55</td>\n",
       "      <td>Not Returned</td>\n",
       "      <td>0</td>\n",
       "      <td>1</td>\n",
       "    </tr>\n",
       "    <tr>\n",
       "      <th>1</th>\n",
       "      <td>2008</td>\n",
       "      <td>ALBANY</td>\n",
       "      <td>MALE</td>\n",
       "      <td>16</td>\n",
       "      <td>Returned Parole Violation</td>\n",
       "      <td>1</td>\n",
       "      <td>1</td>\n",
       "    </tr>\n",
       "    <tr>\n",
       "      <th>2</th>\n",
       "      <td>2008</td>\n",
       "      <td>ALBANY</td>\n",
       "      <td>MALE</td>\n",
       "      <td>17</td>\n",
       "      <td>Not Returned</td>\n",
       "      <td>0</td>\n",
       "      <td>1</td>\n",
       "    </tr>\n",
       "    <tr>\n",
       "      <th>3</th>\n",
       "      <td>2008</td>\n",
       "      <td>ALBANY</td>\n",
       "      <td>MALE</td>\n",
       "      <td>17</td>\n",
       "      <td>Returned Parole Violation</td>\n",
       "      <td>1</td>\n",
       "      <td>1</td>\n",
       "    </tr>\n",
       "    <tr>\n",
       "      <th>4</th>\n",
       "      <td>2008</td>\n",
       "      <td>ALBANY</td>\n",
       "      <td>MALE</td>\n",
       "      <td>18</td>\n",
       "      <td>Not Returned</td>\n",
       "      <td>0</td>\n",
       "      <td>1</td>\n",
       "    </tr>\n",
       "  </tbody>\n",
       "</table>\n",
       "</div>"
      ],
      "text/plain": [
       "   Release Year County of Indictment Gender  Age at Release  \\\n",
       "0          2008              UNKNOWN   MALE              55   \n",
       "1          2008               ALBANY   MALE              16   \n",
       "2          2008               ALBANY   MALE              17   \n",
       "3          2008               ALBANY   MALE              17   \n",
       "4          2008               ALBANY   MALE              18   \n",
       "\n",
       "               Return Status  recidivism  gender_map  \n",
       "0               Not Returned           0           1  \n",
       "1  Returned Parole Violation           1           1  \n",
       "2               Not Returned           0           1  \n",
       "3  Returned Parole Violation           1           1  \n",
       "4               Not Returned           0           1  "
      ]
     },
     "execution_count": 9,
     "metadata": {},
     "output_type": "execute_result"
    }
   ],
   "source": [
    "ny_df['gender_map'] = ny_df['Gender'].map({'MALE': 1, 'FEMALE': 0})\n",
    "ny_df.head()"
   ]
  },
  {
   "cell_type": "code",
   "execution_count": 10,
   "id": "c2b3b2bd-8ee9-4e41-a922-d8f34580f83d",
   "metadata": {},
   "outputs": [
    {
     "data": {
      "text/plain": [
       "0    110003\n",
       "1     78647\n",
       "Name: recidivism, dtype: int64"
      ]
     },
     "execution_count": 10,
     "metadata": {},
     "output_type": "execute_result"
    }
   ],
   "source": [
    "ny_df['recidivism'].value_counts()"
   ]
  },
  {
   "cell_type": "code",
   "execution_count": 11,
   "id": "b1835de1-0b18-4b5e-8a5f-cdd8142b876e",
   "metadata": {},
   "outputs": [],
   "source": [
    "#break out male and female into two different datasets and explore variation in relationship between features and target across genders"
   ]
  },
  {
   "cell_type": "code",
   "execution_count": 12,
   "id": "55527ec7-9512-4213-819d-5a7f67c05d8c",
   "metadata": {},
   "outputs": [
    {
     "data": {
      "text/html": [
       "<div>\n",
       "<style scoped>\n",
       "    .dataframe tbody tr th:only-of-type {\n",
       "        vertical-align: middle;\n",
       "    }\n",
       "\n",
       "    .dataframe tbody tr th {\n",
       "        vertical-align: top;\n",
       "    }\n",
       "\n",
       "    .dataframe thead th {\n",
       "        text-align: right;\n",
       "    }\n",
       "</style>\n",
       "<table border=\"1\" class=\"dataframe\">\n",
       "  <thead>\n",
       "    <tr style=\"text-align: right;\">\n",
       "      <th></th>\n",
       "      <th>Release Year</th>\n",
       "      <th>County of Indictment</th>\n",
       "      <th>Gender</th>\n",
       "      <th>Age at Release</th>\n",
       "      <th>Return Status</th>\n",
       "      <th>recidivism</th>\n",
       "      <th>gender_map</th>\n",
       "    </tr>\n",
       "  </thead>\n",
       "  <tbody>\n",
       "    <tr>\n",
       "      <th>1</th>\n",
       "      <td>2008</td>\n",
       "      <td>ALBANY</td>\n",
       "      <td>MALE</td>\n",
       "      <td>16</td>\n",
       "      <td>Returned Parole Violation</td>\n",
       "      <td>1</td>\n",
       "      <td>1</td>\n",
       "    </tr>\n",
       "    <tr>\n",
       "      <th>3</th>\n",
       "      <td>2008</td>\n",
       "      <td>ALBANY</td>\n",
       "      <td>MALE</td>\n",
       "      <td>17</td>\n",
       "      <td>Returned Parole Violation</td>\n",
       "      <td>1</td>\n",
       "      <td>1</td>\n",
       "    </tr>\n",
       "    <tr>\n",
       "      <th>5</th>\n",
       "      <td>2008</td>\n",
       "      <td>ALBANY</td>\n",
       "      <td>MALE</td>\n",
       "      <td>18</td>\n",
       "      <td>Returned Parole Violation</td>\n",
       "      <td>1</td>\n",
       "      <td>1</td>\n",
       "    </tr>\n",
       "    <tr>\n",
       "      <th>6</th>\n",
       "      <td>2008</td>\n",
       "      <td>ALBANY</td>\n",
       "      <td>MALE</td>\n",
       "      <td>18</td>\n",
       "      <td>Returned Parole Violation</td>\n",
       "      <td>1</td>\n",
       "      <td>1</td>\n",
       "    </tr>\n",
       "    <tr>\n",
       "      <th>7</th>\n",
       "      <td>2008</td>\n",
       "      <td>ALBANY</td>\n",
       "      <td>MALE</td>\n",
       "      <td>18</td>\n",
       "      <td>Returned Parole Violation</td>\n",
       "      <td>1</td>\n",
       "      <td>1</td>\n",
       "    </tr>\n",
       "  </tbody>\n",
       "</table>\n",
       "</div>"
      ],
      "text/plain": [
       "   Release Year County of Indictment Gender  Age at Release  \\\n",
       "1          2008               ALBANY   MALE              16   \n",
       "3          2008               ALBANY   MALE              17   \n",
       "5          2008               ALBANY   MALE              18   \n",
       "6          2008               ALBANY   MALE              18   \n",
       "7          2008               ALBANY   MALE              18   \n",
       "\n",
       "               Return Status  recidivism  gender_map  \n",
       "1  Returned Parole Violation           1           1  \n",
       "3  Returned Parole Violation           1           1  \n",
       "5  Returned Parole Violation           1           1  \n",
       "6  Returned Parole Violation           1           1  \n",
       "7  Returned Parole Violation           1           1  "
      ]
     },
     "execution_count": 12,
     "metadata": {},
     "output_type": "execute_result"
    }
   ],
   "source": [
    "reinc = ny_df[ny_df['recidivism'] == 1]\n",
    "reinc.head()"
   ]
  },
  {
   "cell_type": "code",
   "execution_count": 13,
   "id": "174d27a0-897a-4160-83ee-0424338e5df9",
   "metadata": {},
   "outputs": [
    {
     "data": {
      "image/png": "[encoded data removed]",
      "text/plain": [
       "<Figure size 432x288 with 1 Axes>"
      ]
     },
     "metadata": {
      "needs_background": "light"
     },
     "output_type": "display_data"
    }
   ],
   "source": [
    "plt.hist(ny_df[ny_df['recidivism'] == 1]['Age at Release'], bins = 30);"
   ]
  },
  {
   "cell_type": "code",
   "execution_count": 14,
   "id": "062215cb-5595-4ffd-8c64-1a3dd88701e3",
   "metadata": {},
   "outputs": [
    {
     "data": {
      "image/png": "[encoded data removed]",
      "text/plain": [
       "<Figure size 432x288 with 1 Axes>"
      ]
     },
     "metadata": {
      "needs_background": "light"
     },
     "output_type": "display_data"
    }
   ],
   "source": [
    "plt.hist(ny_df[ny_df['recidivism'] == 0]['Age at Release'], bins = 30);"
   ]
  },
  {
   "cell_type": "code",
   "execution_count": 15,
   "id": "1b0ce04c-c734-4b44-a868-b7c6246167b0",
   "metadata": {},
   "outputs": [],
   "source": [
    "#split the dataset into different age ranges below 30, 30-50, 50 and above\n",
    "below30 = ny_df[ny_df['Age at Release'] < 30]\n",
    "between_30_50 = ny_df[(ny_df['Age at Release'] >= 30) & (ny_df['Age at Release'] <= 50)]\n",
    "above50 = ny_df[ny_df['Age at Release'] > 50]"
   ]
  },
  {
   "cell_type": "code",
   "execution_count": 16,
   "id": "8c167050-4561-4602-b24f-d7c4c51ba045",
   "metadata": {},
   "outputs": [],
   "source": [
    "#calculate recidivism rate for each age group\n",
    "#recidivism = reincarcerated / total pop\n",
    "\n",
    "below30_recid_rate = (below30[below30['recidivism'] == 1]['recidivism'].value_counts()) / below30.shape[0]\n",
    "between_30_50_recid_rate = (between_30_50[between_30_50['recidivism'] == 1]['recidivism'].value_counts()) / between_30_50.shape[0]\n",
    "above_50_recid_rate = (above50[above50['recidivism'] == 1]['recidivism'].value_counts()) / above50.shape[0]"
   ]
  },
  {
   "cell_type": "code",
   "execution_count": 17,
   "id": "b6f167f8-6709-4b23-bac2-7b3fde0a6027",
   "metadata": {},
   "outputs": [
    {
     "name": "stdout",
     "output_type": "stream",
     "text": [
      " Recidivism Rate Below 30: 1    0.473064\n",
      "Name: recidivism, dtype: float64\n",
      " Recidivism Rate Between 30 and 50: 1    0.400774\n",
      "Name: recidivism, dtype: float64\n",
      " Recidivism Rate Above 50: 1    0.301231\n",
      "Name: recidivism, dtype: float64\n"
     ]
    }
   ],
   "source": [
    "print(f' Recidivism Rate Below 30: {below30_recid_rate}')\n",
    "print(f' Recidivism Rate Between 30 and 50: {between_30_50_recid_rate}')\n",
    "print(f' Recidivism Rate Above 50: {above_50_recid_rate}')"
   ]
  },
  {
   "cell_type": "code",
   "execution_count": 18,
   "id": "9887a294-5c1f-4833-ac01-0377417cd5f5",
   "metadata": {},
   "outputs": [],
   "source": [
    "male = ny_df[ny_df['Gender'] == 'MALE']\n",
    "female = ny_df[ny_df['Gender'] == 'FEMALE']"
   ]
  },
  {
   "cell_type": "code",
   "execution_count": 19,
   "id": "38c4225e-9f2f-48cc-8d15-5f02c1ee6c22",
   "metadata": {},
   "outputs": [
    {
     "data": {
      "text/plain": [
       "(11842, 7)"
      ]
     },
     "execution_count": 19,
     "metadata": {},
     "output_type": "execute_result"
    }
   ],
   "source": [
    "female.shape"
   ]
  },
  {
   "cell_type": "code",
   "execution_count": 20,
   "id": "8f97e775-e9eb-469e-b329-f11f2610057a",
   "metadata": {},
   "outputs": [
    {
     "data": {
      "text/plain": [
       "(176808, 7)"
      ]
     },
     "execution_count": 20,
     "metadata": {},
     "output_type": "execute_result"
    }
   ],
   "source": [
    "male.shape"
   ]
  },
  {
   "cell_type": "markdown",
   "id": "fcaf43b0-d344-4b4a-9ca7-90778fc8a339",
   "metadata": {},
   "source": [
    "### Modeling\n",
    "\n",
    "Classification Models\n",
    "1. Logistic Regression\n",
    "2. KNN\n",
    "3. Random Forest\n",
    "4. Ada and XGBoost\n",
    "5. Stacked Model\n"
   ]
  },
  {
   "cell_type": "code",
   "execution_count": 28,
   "id": "b9b10855-a088-4103-9809-ee50f5e47160",
   "metadata": {},
   "outputs": [],
   "source": [
    "#Logistic Regression\n",
    "\n",
    "X = ny_df[['gender_map', 'Age at Release']]\n",
    "y = ny_df['recidivism']\n",
    "\n",
    "X_train, X_test, y_train, y_test = train_test_split(X, y, random_state = 42, stratify = y)"
   ]
  },
  {
   "cell_type": "code",
   "execution_count": 29,
   "id": "2633b2b0-6ba4-4a77-933c-17c62b8a919d",
   "metadata": {},
   "outputs": [
    {
     "data": {
      "text/html": [
       "<style>#sk-container-id-2 {color: black;background-color: white;}#sk-container-id-2 pre{padding: 0;}#sk-container-id-2 div.sk-toggleable {background-color: white;}#sk-container-id-2 label.sk-toggleable__label {cursor: pointer;display: block;width: 100%;margin-bottom: 0;padding: 0.3em;box-sizing: border-box;text-align: center;}#sk-container-id-2 label.sk-toggleable__label-arrow:before {content: \"▸\";float: left;margin-right: 0.25em;color: #696969;}#sk-container-id-2 label.sk-toggleable__label-arrow:hover:before {color: black;}#sk-container-id-2 div.sk-estimator:hover label.sk-toggleable__label-arrow:before {color: black;}#sk-container-id-2 div.sk-toggleable__content {max-height: 0;max-width: 0;overflow: hidden;text-align: left;background-color: #f0f8ff;}#sk-container-id-2 div.sk-toggleable__content pre {margin: 0.2em;color: black;border-radius: 0.25em;background-color: #f0f8ff;}#sk-container-id-2 input.sk-toggleable__control:checked~div.sk-toggleable__content {max-height: 200px;max-width: 100%;overflow: auto;}#sk-container-id-2 input.sk-toggleable__control:checked~label.sk-toggleable__label-arrow:before {content: \"▾\";}#sk-container-id-2 div.sk-estimator input.sk-toggleable__control:checked~label.sk-toggleable__label {background-color: #d4ebff;}#sk-container-id-2 div.sk-label input.sk-toggleable__control:checked~label.sk-toggleable__label {background-color: #d4ebff;}#sk-container-id-2 input.sk-hidden--visually {border: 0;clip: rect(1px 1px 1px 1px);clip: rect(1px, 1px, 1px, 1px);height: 1px;margin: -1px;overflow: hidden;padding: 0;position: absolute;width: 1px;}#sk-container-id-2 div.sk-estimator {font-family: monospace;background-color: #f0f8ff;border: 1px dotted black;border-radius: 0.25em;box-sizing: border-box;margin-bottom: 0.5em;}#sk-container-id-2 div.sk-estimator:hover {background-color: #d4ebff;}#sk-container-id-2 div.sk-parallel-item::after {content: \"\";width: 100%;border-bottom: 1px solid gray;flex-grow: 1;}#sk-container-id-2 div.sk-label:hover label.sk-toggleable__label {background-color: #d4ebff;}#sk-container-id-2 div.sk-serial::before {content: \"\";position: absolute;border-left: 1px solid gray;box-sizing: border-box;top: 0;bottom: 0;left: 50%;z-index: 0;}#sk-container-id-2 div.sk-serial {display: flex;flex-direction: column;align-items: center;background-color: white;padding-right: 0.2em;padding-left: 0.2em;position: relative;}#sk-container-id-2 div.sk-item {position: relative;z-index: 1;}#sk-container-id-2 div.sk-parallel {display: flex;align-items: stretch;justify-content: center;background-color: white;position: relative;}#sk-container-id-2 div.sk-item::before, #sk-container-id-2 div.sk-parallel-item::before {content: \"\";position: absolute;border-left: 1px solid gray;box-sizing: border-box;top: 0;bottom: 0;left: 50%;z-index: -1;}#sk-container-id-2 div.sk-parallel-item {display: flex;flex-direction: column;z-index: 1;position: relative;background-color: white;}#sk-container-id-2 div.sk-parallel-item:first-child::after {align-self: flex-end;width: 50%;}#sk-container-id-2 div.sk-parallel-item:last-child::after {align-self: flex-start;width: 50%;}#sk-container-id-2 div.sk-parallel-item:only-child::after {width: 0;}#sk-container-id-2 div.sk-dashed-wrapped {border: 1px dashed gray;margin: 0 0.4em 0.5em 0.4em;box-sizing: border-box;padding-bottom: 0.4em;background-color: white;}#sk-container-id-2 div.sk-label label {font-family: monospace;font-weight: bold;display: inline-block;line-height: 1.2em;}#sk-container-id-2 div.sk-label-container {text-align: center;}#sk-container-id-2 div.sk-container {/* jupyter's `normalize.less` sets `[hidden] { display: none; }` but bootstrap.min.css set `[hidden] { display: none !important; }` so we also need the `!important` here to be able to override the default hidden behavior on the sphinx rendered scikit-learn.org. See: https://github.com/scikit-learn/scikit-learn/issues/21755 */display: inline-block !important;position: relative;}#sk-container-id-2 div.sk-text-repr-fallback {display: none;}</style><div id=\"sk-container-id-2\" class=\"sk-top-container\"><div class=\"sk-text-repr-fallback\"><pre>LogisticRegression()</pre><b>In a Jupyter environment, please rerun this cell to show the HTML representation or trust the notebook. <br />On GitHub, the HTML representation is unable to render, please try loading this page with nbviewer.org.</b></div><div class=\"sk-container\" hidden><div class=\"sk-item\"><div class=\"sk-estimator sk-toggleable\"><input class=\"sk-toggleable__control sk-hidden--visually\" id=\"sk-estimator-id-2\" type=\"checkbox\" checked><label for=\"sk-estimator-id-2\" class=\"sk-toggleable__label sk-toggleable__label-arrow\">LogisticRegression</label><div class=\"sk-toggleable__content\"><pre>LogisticRegression()</pre></div></div></div></div></div>"
      ],
      "text/plain": [
       "LogisticRegression()"
      ]
     },
     "execution_count": 29,
     "metadata": {},
     "output_type": "execute_result"
    }
   ],
   "source": [
    "lr = LogisticRegression()\n",
    "lr.fit(X_train, y_train)"
   ]
  },
  {
   "cell_type": "code",
   "execution_count": 31,
   "id": "a683b19c-da84-4914-bf4b-172e5078702a",
   "metadata": {},
   "outputs": [
    {
     "data": {
      "text/plain": [
       "0.5868312989885996"
      ]
     },
     "execution_count": 31,
     "metadata": {},
     "output_type": "execute_result"
    }
   ],
   "source": [
    "lr.score(X_train, y_train)"
   ]
  },
  {
   "cell_type": "code",
   "execution_count": 32,
   "id": "df59ae6a-ec3d-41ec-8b57-90f4414accb1",
   "metadata": {},
   "outputs": [
    {
     "data": {
      "text/plain": [
       "0.5877276678752412"
      ]
     },
     "execution_count": 32,
     "metadata": {},
     "output_type": "execute_result"
    }
   ],
   "source": [
    "lr.score(X_test, y_test)"
   ]
  },
  {
   "cell_type": "code",
   "execution_count": null,
   "id": "c5c80abd-9e32-42f4-b148-61b3a8de04cb",
   "metadata": {},
   "outputs": [],
   "source": [
    "\n"
   ]
  }
 ],
 "metadata": {
  "kernelspec": {
   "display_name": "Python 3 (ipykernel)",
   "language": "python",
   "name": "python3"
  },
  "language_info": {
   "codemirror_mode": {
    "name": "ipython",
    "version": 3
   },
   "file_extension": ".py",
   "mimetype": "text/x-python",
   "name": "python",
   "nbconvert_exporter": "python",
   "pygments_lexer": "ipython3",
   "version": "3.9.12"
  }
 },
 "nbformat": 4,
 "nbformat_minor": 5
}
