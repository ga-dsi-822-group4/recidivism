{
 "cells": [
  {
   "cell_type": "markdown",
   "metadata": {},
   "source": [
    "### Group Project 4 : Comparing 3 Models for Predicting Recidivism\n",
    "\n",
    "For background on this project, please see the [README](../README.md).\n",
    "\n",
    "**Notebooks**\n",
    "- [Data Acquisition & Cleaning](./01_data_acq_clean.ipynb)\n",
    "- [Exploratory Data Analysis](./02_eda.ipynb)\n",
    "- [Modeling](./03_modeling.ipynb)\n",
    "- Experiments (this notebook)\n",
    "- [Results and Recommendations](./04_results.ipynb)\n",
    "\n",
    "**In this notebook, you'll find:**\n",
    "- TODO etc."
   ]
  },
  {
   "cell_type": "code",
   "execution_count": 88,
   "metadata": {},
   "outputs": [],
   "source": [
    "# standard imports\n",
    "import pandas as pd\n",
    "import matplotlib.pyplot as plt\n",
    "import numpy as np\n",
    "from sklearn.model_selection import train_test_split, GridSearchCV\n",
    "from sklearn.pipeline import Pipeline\n",
    "from sklearn.preprocessing import StandardScaler\n",
    "\n",
    "# models for FL NLP\n",
    "from sklearn.linear_model import LogisticRegression\n",
    "from sklearn.feature_extraction.text import TfidfVectorizer\n",
    "from tensorflow.keras.models import Sequential\n",
    "from tensorflow.keras.layers import Dense\n",
    "from tensorflow.keras.regularizers import l2\n",
    "from tensorflow.keras.callbacks import EarlyStopping\n",
    "\n",
    "# additional models for GA feature importance testing\n",
    "from sklearn.tree import DecisionTreeClassifier\n",
    "from sklearn.ensemble import RandomForestClassifier, GradientBoostingClassifier, AdaBoostClassifier, BaggingClassifier \n",
    "from sklearn.neighbors import KNeighborsClassifier\n",
    "from sklearn.naive_bayes import MultinomialNB\n",
    "\n",
    "# metrics\n",
    "from sklearn.metrics import balanced_accuracy_score, ConfusionMatrixDisplay, recall_score, f1_score, precision_score, confusion_matrix\n",
    "\n",
    "# global random seed\n",
    "np.random.seed(42)"
   ]
  },
  {
   "cell_type": "code",
   "execution_count": 89,
   "metadata": {},
   "outputs": [],
   "source": [
    "# same function used in modeling notebook for evaluation\n",
    "# Dataframe to collect results\n",
    "model_trials_df = pd.DataFrame(columns=['dataset_name', 'model_used', 'model_params', 'train_score', 'test_score',\n",
    "'accuracy', 'specificity', 'precision', 'recall', 'f1 score', 'true_neg', 'false_pos', 'false_neg', 'true_pos'])\n",
    "\n",
    "def model_trials(dataset_name, X, y, model, model_id, scale_first = False, gs_params = None):\n",
    "    '''\n",
    "    Takes in dataset information and a (non-neural-net) model, fits the model, and appends fit metrics to a previously\n",
    "    established Dataframe for later comparison. Also displays confusion matrix upon completion.\n",
    "\n",
    "    Parameters:\n",
    "    - dataset_name (string): used to differentiate between the NY/FL/GA models\n",
    "    - X (Dataframe): features dataframe for all observations\n",
    "    - y (Dataframe or Series): target classes for all observations:\n",
    "    - model (classification model): non-neural-net model to fit\n",
    "    - model_id (string): friendly name for model to include in results\n",
    "    - scale_first (boolean): indicates whether the feature set X should be scaled before fitting\n",
    "    - gs_params (dict): parameters for a GridSearch - if None, model will be fit without GridSearching\n",
    "\n",
    "    Returns:\n",
    "    - ConfusionMatrixDisplay graphic for fitted model\n",
    "    - Also appends results to previously established metrics dataframe\n",
    "    '''\n",
    "\n",
    "    '''Setting X and y, and fitting the model'''\n",
    "    X_train, X_test, y_train, y_test = train_test_split(X, y, test_size = 0.2, stratify = y)\n",
    "\n",
    "    '''Scale if needed'''\n",
    "    if (scale_first):\n",
    "        ss = StandardScaler()\n",
    "        X_train = ss.fit_transform(X_train)\n",
    "        X_test = ss.transform(X_test)\n",
    "\n",
    "    if (gs_params):\n",
    "        gs = GridSearchCV(model, gs_params)\n",
    "        gs.fit(X_train, y_train)\n",
    "        model = gs.best_estimator_\n",
    "        model_params = gs.best_params_\n",
    "    else:\n",
    "        model.fit(X_train, y_train)\n",
    "        model_params = model.get_params()\n",
    "\n",
    "    train_score = model.score(X_train, y_train)\n",
    "    test_score = model.score(X_test, y_test)\n",
    "\n",
    "    '''Baseline calculation for reference in the returned confusion matrix'''\n",
    "    baseline = y.value_counts(normalize=True)[1]\n",
    "\n",
    "    '''Calculating classification rates'''\n",
    "    preds = model.predict(X_test)\n",
    "    tn, fp, fn, tp = confusion_matrix(y_test, preds).ravel()\n",
    "    acc = (tp + tn) / (tn + fp + tp + fn)\n",
    "    spec = tn / (tn + fp)\n",
    "    prec = tp / (tp + fp)\n",
    "    recall = tp / (tp + fn)\n",
    "    f1 = ((prec * recall) / (prec + recall)) * 2\n",
    "\n",
    "    '''Adding all values to the model_trials dataframe'''\n",
    "    model_list = [dataset_name, model_id, model_params, train_score, test_score, acc, spec, prec, recall, f1, tn, fp, fn, tp]\n",
    "    model_trials_df.loc[len(model_trials_df.index)] = model_list\n",
    "\n",
    "    '''Output will show scores and classification metrics'''\n",
    "    print(f'Dataset: {dataset_name}')\n",
    "    print(f'Model ID: {model_id}')\n",
    "    print(f'Model Params: {model_params}')\n",
    "    print(f'Training Score: {round(train_score, 4)}')\n",
    "    print(f'Testing Score: {round(test_score, 4)} \\n')\n",
    "    print(f'Accuracy: {round(acc, 4)}')\n",
    "    print(f'Specificity: {round(spec, 4)}')\n",
    "    print(f'Precision: {round(prec, 4)}')\n",
    "    print(f'Recall: {round(recall, 4)}')\n",
    "    print(f'F1 Score: {round(f1, 4)} \\n')\n",
    "\n",
    "    '''Returning a confusion matrix colored based on performance against the baseline'''\n",
    "    print('Best accuracy rate confusion matrix:')\n",
    "    if acc > baseline:\n",
    "        return ConfusionMatrixDisplay.from_estimator(model, X_test, y_test, cmap='viridis', values_format='d');\n",
    "    else: \n",
    "        return ConfusionMatrixDisplay.from_estimator(model, X_test, y_test, cmap='magma', values_format='d');"
   ]
  },
  {
   "cell_type": "code",
   "execution_count": 90,
   "metadata": {},
   "outputs": [],
   "source": [
    "# same function used in modeling notebook for evaluation\n",
    "# neural net version\n",
    "def model_trials_nn(dataset_name, X, y, model, model_id, epochs = 10, batch_size = 32, callbacks = None):\n",
    "    '''\n",
    "    Takes in dataset information and a neural network model, fits the model, and appends fit metrics to a previously\n",
    "    established Dataframe for later comparison. Also displays confusion matrix upon completion. NOTE: assumes model's\n",
    "    output layer uses the sigmoid activation function (i.e., binary classification) and was compiled with 'accuracy' among its metrics.\n",
    "\n",
    "    Parameters:\n",
    "    - dataset_name (string): used to differentiate between the NY/FL/GA models\n",
    "    - X (Dataframe): features dataframe for all observations\n",
    "    - y (Dataframe or Series): target classes for all observations:\n",
    "    - model (classification model): neural network model to fit\n",
    "    - model_id (string): friendly name for model to include in results\n",
    "    - epochs (int): number of neural network epochs to run\n",
    "    - batch_size (int): size of neural network batch\n",
    "    - callbacks (list): list of callbacks to invoke while fitting, e.g., EarlyStopping\n",
    "\n",
    "    Returns:\n",
    "    - ConfusionMatrixDisplay graphic for fitted model\n",
    "    - Also appends results to previously established metrics dataframe\n",
    "    '''\n",
    "\n",
    "    '''Setting X and y, and fitting the model'''\n",
    "    X_train, X_test, y_train, y_test = train_test_split(X, y, test_size = 0.2, random_state = 42, stratify = y)\n",
    "\n",
    "    '''Always scale for neural nets!'''\n",
    "    ss = StandardScaler()\n",
    "    X_train = ss.fit_transform(X_train)\n",
    "    X_test = ss.transform(X_test)\n",
    "\n",
    "    res = model.fit(X_train, y_train, validation_data = (X_test, y_test), epochs = epochs, batch_size = batch_size, callbacks = callbacks, verbose = 0)\n",
    "    model_params = {'epochs': epochs, 'batch_size': batch_size} # all we'll capture for these - there are too many weights to be useful!\n",
    "        \n",
    "    train_score = res.history['accuracy'][-1]\n",
    "    test_score = res.history['val_accuracy'][-1]\n",
    "\n",
    "    '''Baseline calculation for reference in the returned confusion matrix'''\n",
    "    baseline = y.value_counts(normalize=True)[1]\n",
    "\n",
    "    '''Calculating classification rates'''\n",
    "    '''Assumes a 0.5 probability threshold'''\n",
    "    preds = [1 if x >= 0.5 else 0 for x in model.predict(X_test)[:, 0]]\n",
    "    tn, fp, fn, tp = confusion_matrix(y_test, preds).ravel()\n",
    "    acc = (tp + tn) / (tn + fp + tp + fn)\n",
    "    spec = tn / (tn + fp)\n",
    "    prec = tp / (tp + fp)\n",
    "    recall = tp / (tp + fn)\n",
    "    f1 = ((prec * recall) / (prec + recall)) * 2\n",
    "\n",
    "    '''Adding all values to the model_trials dataframe'''\n",
    "    model_list = [dataset_name, model_id, model_params, train_score, test_score, acc, spec, prec, recall, f1, tn, fp, fn, tp]\n",
    "    model_trials_df.loc[len(model_trials_df.index)] = model_list\n",
    "\n",
    "    '''Output will show scores and classification metrics'''\n",
    "    print(f'Dataset: {dataset_name}')\n",
    "    print(f'Model ID: {model_id}')\n",
    "    print(f'Model Params: {model_params}')\n",
    "    print(f'Training Score: {round(train_score, 4)}')\n",
    "    print(f'Testing Score: {round(test_score, 4)} \\n')\n",
    "    print(f'Accuracy: {round(acc, 4)}')\n",
    "    print(f'Specificity: {round(spec, 4)}')\n",
    "    print(f'Precision: {round(prec, 4)}')\n",
    "    print(f'Recall: {round(recall, 4)}')\n",
    "    print(f'F1 Score: {round(f1, 4)} \\n')\n",
    "\n",
    "    '''Returning a confusion matrix colored based on performance against the baseline'''\n",
    "    print('Best accuracy rate confusion matrix:')\n",
    "    if acc > baseline:\n",
    "        return ConfusionMatrixDisplay.from_predictions(y_test, preds, cmap = 'viridis', values_format = 'd');\n",
    "    else: \n",
    "        return ConfusionMatrixDisplay.from_predictions(y_test, preds, cmap = 'magma', values_format = 'd');"
   ]
  },
  {
   "cell_type": "markdown",
   "metadata": {},
   "source": [
    "**Model 2: Criminal history feature set - Florida - NLP charge modeling**"
   ]
  },
  {
   "cell_type": "markdown",
   "metadata": {},
   "source": [
    "- We're going to try vectorizing each person's list of charges and incorporating some NLP into our production model.\n",
    "- We'll use TFIDF vectorization, and before merging the NLP columns into our production model, we'll use a GridSearch with a simple LogisticRegression to\n",
    "determine the best parameters to use for TFIDF."
   ]
  },
  {
   "cell_type": "code",
   "execution_count": 91,
   "metadata": {},
   "outputs": [],
   "source": [
    "fl = pd.read_csv('../data/FL/FL_final.csv')\n",
    "\n",
    "# drop all non-model columns - keeping agg_charges this time!\n",
    "fl = fl.drop(columns = [\n",
    "    'person_id',  # unique ID, not predictive\n",
    "    'avg_days_between_offenses', 'avg_days_between_arrests', # only meaningful for recidivists\n",
    "    'age_at_last_incarceration', 'age_at_last_release', 'age_at_last_arrest', # \"last\" columns are not predictive\n",
    "] + [col for col in fl if col.startswith('comp_')] # not using COMPAS scores in the model\n",
    "  + [col for col in fl if col.startswith('last_charge_')] # last charges are not predictive\n",
    ")"
   ]
  },
  {
   "cell_type": "code",
   "execution_count": 92,
   "metadata": {},
   "outputs": [
    {
     "name": "stdout",
     "output_type": "stream",
     "text": [
      "Dataset: FL\n",
      "Model ID: TFIDF + Logreg\n",
      "Model Params: {'tfidf__max_df': 0.8, 'tfidf__max_features': 3000, 'tfidf__min_df': 1, 'tfidf__ngram_range': (1, 2), 'tfidf__stop_words': None}\n",
      "Training Score: 0.7857\n",
      "Testing Score: 0.7595 \n",
      "\n",
      "Accuracy: 0.7595\n",
      "Specificity: 0.8631\n",
      "Precision: 0.7389\n",
      "Recall: 0.5993\n",
      "F1 Score: 0.6618 \n",
      "\n",
      "Best accuracy rate confusion matrix:\n"
     ]
    },
    {
     "data": {
      "image/png": "[encoded data removed]",
      "text/plain": [
       "<Figure size 432x288 with 2 Axes>"
      ]
     },
     "metadata": {
      "needs_background": "light"
     },
     "output_type": "display_data"
    }
   ],
   "source": [
    "# define X and y, train-test split\n",
    "nlp = fl[['agg_charges', 'recidivism']].dropna()\n",
    "X = nlp['agg_charges']\n",
    "y = nlp['recidivism']\n",
    "X_train, X_test, y_train, y_test = train_test_split(X, y, test_size = 0.2, stratify = y)\n",
    "\n",
    "# Pipeline with logreg\n",
    "pipe = Pipeline(steps = [('tfidf', TfidfVectorizer()), ('logreg', LogisticRegression(max_iter = 10_000))])\n",
    "\n",
    "pipe_params = {\n",
    "    'tfidf__stop_words': [None, 'english'],\n",
    "    'tfidf__max_features': [3000, 4000],\n",
    "    'tfidf__min_df': [1, 2],\n",
    "    'tfidf__max_df': [0.8, 0.9],\n",
    "    'tfidf__ngram_range': [(1, 1), (1, 2)]\n",
    "}\n",
    "\n",
    "model_trials('FL', X, y, pipe, 'TFIDF + Logreg', gs_params = pipe_params);"
   ]
  },
  {
   "cell_type": "code",
   "execution_count": 93,
   "metadata": {},
   "outputs": [
    {
     "data": {
      "text/plain": [
       "array([{'tfidf__max_df': 0.8, 'tfidf__max_features': 3000, 'tfidf__min_df': 1, 'tfidf__ngram_range': (1, 2), 'tfidf__stop_words': None}],\n",
       "      dtype=object)"
      ]
     },
     "execution_count": 93,
     "metadata": {},
     "output_type": "execute_result"
    }
   ],
   "source": [
    "# what were our best parameters?\n",
    "model_trials_df[model_trials_df['dataset_name'] == 'FL']['model_params'].values"
   ]
  },
  {
   "cell_type": "code",
   "execution_count": 94,
   "metadata": {},
   "outputs": [],
   "source": [
    "# now we can apply our optimal vectorization\n",
    "tfidf = TfidfVectorizer(max_df = 0.8, max_features = 3000, min_df = 2, ngram_range = (1, 2))\n",
    "nlpcols = tfidf.fit_transform(fl['agg_charges'])"
   ]
  },
  {
   "cell_type": "code",
   "execution_count": 95,
   "metadata": {},
   "outputs": [],
   "source": [
    "# and add the vectorized columns to our main dataframe\n",
    "fl_nlp = pd.concat([fl, pd.DataFrame(nlpcols.todense(), columns = tfidf.get_feature_names_out())], axis = 1)"
   ]
  },
  {
   "cell_type": "code",
   "execution_count": 96,
   "metadata": {},
   "outputs": [],
   "source": [
    "# define our final X and y\n",
    "X = fl_nlp.drop(columns = ['recidivism', 'agg_charges'])\n",
    "y = fl_nlp['recidivism']\n"
   ]
  },
  {
   "cell_type": "code",
   "execution_count": 97,
   "metadata": {},
   "outputs": [
    {
     "data": {
      "text/plain": [
       "(10645, 3034)"
      ]
     },
     "execution_count": 97,
     "metadata": {},
     "output_type": "execute_result"
    }
   ],
   "source": [
    "# need to check our neural net input size\n",
    "X.shape"
   ]
  },
  {
   "cell_type": "code",
   "execution_count": 98,
   "metadata": {},
   "outputs": [
    {
     "name": "stdout",
     "output_type": "stream",
     "text": [
      "67/67 [==============================] - 0s 1ms/step\n",
      "Dataset: FL\n",
      "Model ID: NLP FNN\n",
      "Model Params: {'epochs': 100, 'batch_size': 256}\n",
      "Training Score: 0.9587\n",
      "Testing Score: 0.7642 \n",
      "\n",
      "Accuracy: 0.7642\n",
      "Specificity: 0.8252\n",
      "Precision: 0.7125\n",
      "Recall: 0.6699\n",
      "F1 Score: 0.6905 \n",
      "\n",
      "Best accuracy rate confusion matrix:\n"
     ]
    },
    {
     "data": {
      "text/plain": [
       "<sklearn.metrics._plot.confusion_matrix.ConfusionMatrixDisplay at 0x2580191f400>"
      ]
     },
     "execution_count": 98,
     "metadata": {},
     "output_type": "execute_result"
    },
    {
     "data": {
      "image/png": "[encoded data removed]",
      "text/plain": [
       "<Figure size 432x288 with 2 Axes>"
      ]
     },
     "metadata": {
      "needs_background": "light"
     },
     "output_type": "display_data"
    }
   ],
   "source": [
    "# L2-regularized FNN with early stopping\n",
    "es = EarlyStopping(patience = 5)\n",
    "\n",
    "# Model\n",
    "model = Sequential()\n",
    "model.add(Dense(units = 128, activation = 'relu', input_shape = (3034, ),\n",
    "    kernel_regularizer = l2(0.01)))\n",
    "model.add(Dense(units = 64, activation = 'relu', kernel_regularizer = l2(0.01)))\n",
    "model.add(Dense(units = 1, activation = 'sigmoid'))\n",
    "\n",
    "# Compile it\n",
    "model.compile(optimizer = 'adam', loss = 'bce', metrics = ['accuracy'])\n",
    "\n",
    "# Fit & evaluate\n",
    "model_trials_nn('FL', X, y, model, 'NLP FNN', epochs = 100, batch_size = 256, callbacks = [es])"
   ]
  },
  {
   "cell_type": "markdown",
   "metadata": {},
   "source": [
    "CONCLUSIONS\n",
    "- Looks like adding the NLP columns to the production model causes pretty major overfitting - possibly the result of trying such high-dimensional data with a neural network.\n",
    "- We won't use the NLP columns. Worthwhile experiment though!\n",
    "- We will capture the \"top 10\" words according to TFIDF as a point of interest for presentation."
   ]
  },
  {
   "cell_type": "code",
   "execution_count": 100,
   "metadata": {},
   "outputs": [
    {
     "data": {
      "text/plain": [
       "age_at_first_release              333820.0\n",
       "age_at_first_incarceration        329222.0\n",
       "age_at_first_arrest               298463.0\n",
       "total_charge_count                 90371.0\n",
       "total_misdemeanor_charge_count     39039.0\n",
       "total_felony_charge_count          35335.0\n",
       "num_incarcerations                 26273.0\n",
       "charge_degree_count_F3             25634.0\n",
       "charge_degree_count_M1             24124.0\n",
       "charge_degree_count_INF            15997.0\n",
       "dtype: float64"
      ]
     },
     "execution_count": 100,
     "metadata": {},
     "output_type": "execute_result"
    }
   ],
   "source": [
    "# top 10 words\n",
    "X[[col for col in X if len(col.split()) == 1]].sum().sort_values(ascending = False)[:10]"
   ]
  },
  {
   "cell_type": "code",
   "execution_count": 101,
   "metadata": {},
   "outputs": [
    {
     "data": {
      "text/plain": [
       "possession of        311.686791\n",
       "fail to              298.856174\n",
       "license suspended    297.156443\n",
       "grand theft          290.499600\n",
       "in the               262.919970\n",
       "theft in             259.937066\n",
       "3rd degree           258.302116\n",
       "the 3rd              258.301441\n",
       "or less              253.247045\n",
       "possess cannabis     252.835117\n",
       "dtype: float64"
      ]
     },
     "execution_count": 101,
     "metadata": {},
     "output_type": "execute_result"
    }
   ],
   "source": [
    "# top 10 bigrams\n",
    "X[[col for col in X if len(col.split()) == 2]].sum().sort_values(ascending = False)[:10]"
   ]
  },
  {
   "cell_type": "markdown",
   "metadata": {},
   "source": [
    "---\n",
    "**Model 3: Behavioral feature set - Georgia - focus on important features**"
   ]
  },
  {
   "cell_type": "markdown",
   "metadata": {},
   "source": [
    "- We're going build a model using only the most important features identified during the model trials, in the hopes reducing some of the noise and improving our accuracy."
   ]
  },
  {
   "cell_type": "code",
   "execution_count": 69,
   "metadata": {},
   "outputs": [],
   "source": [
    "# Reading in necessary files\n",
    "ga_dummy = pd.read_csv('../data/GA/georgia_dummy.csv')\n",
    "feats = pd.read_csv('../data/GA/important_feats.csv')"
   ]
  },
  {
   "cell_type": "code",
   "execution_count": 70,
   "metadata": {},
   "outputs": [
    {
     "data": {
      "text/html": [
       "<div>\n",
       "<style scoped>\n",
       "    .dataframe tbody tr th:only-of-type {\n",
       "        vertical-align: middle;\n",
       "    }\n",
       "\n",
       "    .dataframe tbody tr th {\n",
       "        vertical-align: top;\n",
       "    }\n",
       "\n",
       "    .dataframe thead th {\n",
       "        text-align: right;\n",
       "    }\n",
       "</style>\n",
       "<table border=\"1\" class=\"dataframe\">\n",
       "  <thead>\n",
       "    <tr style=\"text-align: right;\">\n",
       "      <th></th>\n",
       "      <th>gang_affiliated</th>\n",
       "      <th>age_at_release_18-22</th>\n",
       "      <th>age_at_release_23-27</th>\n",
       "      <th>gender_male</th>\n",
       "      <th>condition_mh_sa</th>\n",
       "      <th>drugtests_thc_positive</th>\n",
       "      <th>violations_instruction</th>\n",
       "      <th>violations_electronicmonitoring</th>\n",
       "      <th>prison_years_more than 3 years</th>\n",
       "      <th>education_level_less than hs diploma</th>\n",
       "      <th>age_at_release_38-42</th>\n",
       "      <th>education_level_at least some college</th>\n",
       "      <th>prison_years_greater than 2 to 3 years</th>\n",
       "      <th>age_at_release_43-47</th>\n",
       "      <th>age_at_release_48 or older</th>\n",
       "      <th>percent_days_employed</th>\n",
       "      <th>recidivism_within_3years</th>\n",
       "    </tr>\n",
       "  </thead>\n",
       "  <tbody>\n",
       "    <tr>\n",
       "      <th>0</th>\n",
       "      <td>0</td>\n",
       "      <td>0</td>\n",
       "      <td>0</td>\n",
       "      <td>1</td>\n",
       "      <td>1</td>\n",
       "      <td>0.000000</td>\n",
       "      <td>0</td>\n",
       "      <td>0</td>\n",
       "      <td>1</td>\n",
       "      <td>0</td>\n",
       "      <td>0</td>\n",
       "      <td>1</td>\n",
       "      <td>0</td>\n",
       "      <td>1</td>\n",
       "      <td>0</td>\n",
       "      <td>0.488562</td>\n",
       "      <td>0</td>\n",
       "    </tr>\n",
       "    <tr>\n",
       "      <th>1</th>\n",
       "      <td>0</td>\n",
       "      <td>0</td>\n",
       "      <td>0</td>\n",
       "      <td>1</td>\n",
       "      <td>0</td>\n",
       "      <td>0.000000</td>\n",
       "      <td>1</td>\n",
       "      <td>0</td>\n",
       "      <td>1</td>\n",
       "      <td>1</td>\n",
       "      <td>0</td>\n",
       "      <td>0</td>\n",
       "      <td>0</td>\n",
       "      <td>0</td>\n",
       "      <td>0</td>\n",
       "      <td>0.425234</td>\n",
       "      <td>1</td>\n",
       "    </tr>\n",
       "    <tr>\n",
       "      <th>2</th>\n",
       "      <td>0</td>\n",
       "      <td>0</td>\n",
       "      <td>0</td>\n",
       "      <td>1</td>\n",
       "      <td>1</td>\n",
       "      <td>0.333333</td>\n",
       "      <td>1</td>\n",
       "      <td>0</td>\n",
       "      <td>0</td>\n",
       "      <td>0</td>\n",
       "      <td>0</td>\n",
       "      <td>1</td>\n",
       "      <td>0</td>\n",
       "      <td>0</td>\n",
       "      <td>1</td>\n",
       "      <td>0.000000</td>\n",
       "      <td>1</td>\n",
       "    </tr>\n",
       "    <tr>\n",
       "      <th>3</th>\n",
       "      <td>0</td>\n",
       "      <td>0</td>\n",
       "      <td>0</td>\n",
       "      <td>1</td>\n",
       "      <td>1</td>\n",
       "      <td>0.000000</td>\n",
       "      <td>0</td>\n",
       "      <td>0</td>\n",
       "      <td>0</td>\n",
       "      <td>1</td>\n",
       "      <td>1</td>\n",
       "      <td>0</td>\n",
       "      <td>0</td>\n",
       "      <td>0</td>\n",
       "      <td>0</td>\n",
       "      <td>1.000000</td>\n",
       "      <td>0</td>\n",
       "    </tr>\n",
       "    <tr>\n",
       "      <th>4</th>\n",
       "      <td>0</td>\n",
       "      <td>0</td>\n",
       "      <td>0</td>\n",
       "      <td>1</td>\n",
       "      <td>1</td>\n",
       "      <td>0.000000</td>\n",
       "      <td>0</td>\n",
       "      <td>0</td>\n",
       "      <td>0</td>\n",
       "      <td>1</td>\n",
       "      <td>0</td>\n",
       "      <td>0</td>\n",
       "      <td>0</td>\n",
       "      <td>0</td>\n",
       "      <td>0</td>\n",
       "      <td>0.203562</td>\n",
       "      <td>1</td>\n",
       "    </tr>\n",
       "    <tr>\n",
       "      <th>...</th>\n",
       "      <td>...</td>\n",
       "      <td>...</td>\n",
       "      <td>...</td>\n",
       "      <td>...</td>\n",
       "      <td>...</td>\n",
       "      <td>...</td>\n",
       "      <td>...</td>\n",
       "      <td>...</td>\n",
       "      <td>...</td>\n",
       "      <td>...</td>\n",
       "      <td>...</td>\n",
       "      <td>...</td>\n",
       "      <td>...</td>\n",
       "      <td>...</td>\n",
       "      <td>...</td>\n",
       "      <td>...</td>\n",
       "      <td>...</td>\n",
       "    </tr>\n",
       "    <tr>\n",
       "      <th>24421</th>\n",
       "      <td>0</td>\n",
       "      <td>0</td>\n",
       "      <td>1</td>\n",
       "      <td>1</td>\n",
       "      <td>0</td>\n",
       "      <td>0.000000</td>\n",
       "      <td>0</td>\n",
       "      <td>0</td>\n",
       "      <td>1</td>\n",
       "      <td>0</td>\n",
       "      <td>0</td>\n",
       "      <td>1</td>\n",
       "      <td>0</td>\n",
       "      <td>0</td>\n",
       "      <td>0</td>\n",
       "      <td>0.189507</td>\n",
       "      <td>1</td>\n",
       "    </tr>\n",
       "    <tr>\n",
       "      <th>24422</th>\n",
       "      <td>0</td>\n",
       "      <td>0</td>\n",
       "      <td>0</td>\n",
       "      <td>1</td>\n",
       "      <td>0</td>\n",
       "      <td>0.000000</td>\n",
       "      <td>0</td>\n",
       "      <td>0</td>\n",
       "      <td>1</td>\n",
       "      <td>0</td>\n",
       "      <td>1</td>\n",
       "      <td>1</td>\n",
       "      <td>0</td>\n",
       "      <td>0</td>\n",
       "      <td>0</td>\n",
       "      <td>0.757098</td>\n",
       "      <td>1</td>\n",
       "    </tr>\n",
       "    <tr>\n",
       "      <th>24423</th>\n",
       "      <td>0</td>\n",
       "      <td>0</td>\n",
       "      <td>0</td>\n",
       "      <td>1</td>\n",
       "      <td>0</td>\n",
       "      <td>0.000000</td>\n",
       "      <td>0</td>\n",
       "      <td>1</td>\n",
       "      <td>1</td>\n",
       "      <td>0</td>\n",
       "      <td>0</td>\n",
       "      <td>1</td>\n",
       "      <td>0</td>\n",
       "      <td>0</td>\n",
       "      <td>0</td>\n",
       "      <td>0.711138</td>\n",
       "      <td>1</td>\n",
       "    </tr>\n",
       "    <tr>\n",
       "      <th>24424</th>\n",
       "      <td>0</td>\n",
       "      <td>0</td>\n",
       "      <td>0</td>\n",
       "      <td>0</td>\n",
       "      <td>0</td>\n",
       "      <td>0.000000</td>\n",
       "      <td>0</td>\n",
       "      <td>0</td>\n",
       "      <td>1</td>\n",
       "      <td>0</td>\n",
       "      <td>0</td>\n",
       "      <td>1</td>\n",
       "      <td>0</td>\n",
       "      <td>0</td>\n",
       "      <td>0</td>\n",
       "      <td>0.000000</td>\n",
       "      <td>0</td>\n",
       "    </tr>\n",
       "    <tr>\n",
       "      <th>24425</th>\n",
       "      <td>0</td>\n",
       "      <td>0</td>\n",
       "      <td>0</td>\n",
       "      <td>1</td>\n",
       "      <td>0</td>\n",
       "      <td>0.100000</td>\n",
       "      <td>0</td>\n",
       "      <td>0</td>\n",
       "      <td>1</td>\n",
       "      <td>0</td>\n",
       "      <td>0</td>\n",
       "      <td>0</td>\n",
       "      <td>0</td>\n",
       "      <td>0</td>\n",
       "      <td>0</td>\n",
       "      <td>0.124454</td>\n",
       "      <td>1</td>\n",
       "    </tr>\n",
       "  </tbody>\n",
       "</table>\n",
       "<p>24426 rows × 17 columns</p>\n",
       "</div>"
      ],
      "text/plain": [
       "       gang_affiliated  age_at_release_18-22  age_at_release_23-27  \\\n",
       "0                    0                     0                     0   \n",
       "1                    0                     0                     0   \n",
       "2                    0                     0                     0   \n",
       "3                    0                     0                     0   \n",
       "4                    0                     0                     0   \n",
       "...                ...                   ...                   ...   \n",
       "24421                0                     0                     1   \n",
       "24422                0                     0                     0   \n",
       "24423                0                     0                     0   \n",
       "24424                0                     0                     0   \n",
       "24425                0                     0                     0   \n",
       "\n",
       "       gender_male  condition_mh_sa  drugtests_thc_positive  \\\n",
       "0                1                1                0.000000   \n",
       "1                1                0                0.000000   \n",
       "2                1                1                0.333333   \n",
       "3                1                1                0.000000   \n",
       "4                1                1                0.000000   \n",
       "...            ...              ...                     ...   \n",
       "24421            1                0                0.000000   \n",
       "24422            1                0                0.000000   \n",
       "24423            1                0                0.000000   \n",
       "24424            0                0                0.000000   \n",
       "24425            1                0                0.100000   \n",
       "\n",
       "       violations_instruction  violations_electronicmonitoring  \\\n",
       "0                           0                                0   \n",
       "1                           1                                0   \n",
       "2                           1                                0   \n",
       "3                           0                                0   \n",
       "4                           0                                0   \n",
       "...                       ...                              ...   \n",
       "24421                       0                                0   \n",
       "24422                       0                                0   \n",
       "24423                       0                                1   \n",
       "24424                       0                                0   \n",
       "24425                       0                                0   \n",
       "\n",
       "       prison_years_more than 3 years  education_level_less than hs diploma  \\\n",
       "0                                   1                                     0   \n",
       "1                                   1                                     1   \n",
       "2                                   0                                     0   \n",
       "3                                   0                                     1   \n",
       "4                                   0                                     1   \n",
       "...                               ...                                   ...   \n",
       "24421                               1                                     0   \n",
       "24422                               1                                     0   \n",
       "24423                               1                                     0   \n",
       "24424                               1                                     0   \n",
       "24425                               1                                     0   \n",
       "\n",
       "       age_at_release_38-42  education_level_at least some college  \\\n",
       "0                         0                                      1   \n",
       "1                         0                                      0   \n",
       "2                         0                                      1   \n",
       "3                         1                                      0   \n",
       "4                         0                                      0   \n",
       "...                     ...                                    ...   \n",
       "24421                     0                                      1   \n",
       "24422                     1                                      1   \n",
       "24423                     0                                      1   \n",
       "24424                     0                                      1   \n",
       "24425                     0                                      0   \n",
       "\n",
       "       prison_years_greater than 2 to 3 years  age_at_release_43-47  \\\n",
       "0                                           0                     1   \n",
       "1                                           0                     0   \n",
       "2                                           0                     0   \n",
       "3                                           0                     0   \n",
       "4                                           0                     0   \n",
       "...                                       ...                   ...   \n",
       "24421                                       0                     0   \n",
       "24422                                       0                     0   \n",
       "24423                                       0                     0   \n",
       "24424                                       0                     0   \n",
       "24425                                       0                     0   \n",
       "\n",
       "       age_at_release_48 or older  percent_days_employed  \\\n",
       "0                               0               0.488562   \n",
       "1                               0               0.425234   \n",
       "2                               1               0.000000   \n",
       "3                               0               1.000000   \n",
       "4                               0               0.203562   \n",
       "...                           ...                    ...   \n",
       "24421                           0               0.189507   \n",
       "24422                           0               0.757098   \n",
       "24423                           0               0.711138   \n",
       "24424                           0               0.000000   \n",
       "24425                           0               0.124454   \n",
       "\n",
       "       recidivism_within_3years  \n",
       "0                             0  \n",
       "1                             1  \n",
       "2                             1  \n",
       "3                             0  \n",
       "4                             1  \n",
       "...                         ...  \n",
       "24421                         1  \n",
       "24422                         1  \n",
       "24423                         1  \n",
       "24424                         0  \n",
       "24425                         1  \n",
       "\n",
       "[24426 rows x 17 columns]"
      ]
     },
     "execution_count": 70,
     "metadata": {},
     "output_type": "execute_result"
    }
   ],
   "source": [
    "# Merging dataframes to include only the important features and target column\n",
    "\n",
    "important_feats = feats.loc[(feats['coef'] > 1.15) | (feats['coef'] < 0.85)]\n",
    "\n",
    "important_cols = [col for col in important_feats['feature']]\n",
    "\n",
    "ga_exper = ga_dummy[important_cols]\n",
    "ga_exper = ga_exper.join(ga_dummy['recidivism_within_3years'])\n",
    "ga_exper"
   ]
  },
  {
   "cell_type": "code",
   "execution_count": 71,
   "metadata": {},
   "outputs": [],
   "source": [
    "# setup X and y\n",
    "X = ga_exper.drop(columns='recidivism_within_3years')\n",
    "y = ga_exper['recidivism_within_3years']"
   ]
  },
  {
   "cell_type": "code",
   "execution_count": 72,
   "metadata": {},
   "outputs": [
    {
     "name": "stdout",
     "output_type": "stream",
     "text": [
      "Dataset: GA\n",
      "Model ID: Gradient Boosting\n",
      "Model Params: {'ccp_alpha': 0.0, 'criterion': 'friedman_mse', 'init': None, 'learning_rate': 0.1, 'loss': 'log_loss', 'max_depth': 3, 'max_features': None, 'max_leaf_nodes': None, 'min_impurity_decrease': 0.0, 'min_samples_leaf': 1, 'min_samples_split': 2, 'min_weight_fraction_leaf': 0.0, 'n_estimators': 100, 'n_iter_no_change': None, 'random_state': 42, 'subsample': 1.0, 'tol': 0.0001, 'validation_fraction': 0.1, 'verbose': 0, 'warm_start': False}\n",
      "Training Score: 0.696\n",
      "Testing Score: 0.6762 \n",
      "\n",
      "Accuracy: 0.6762\n",
      "Specificity: 0.535\n",
      "Precision: 0.7104\n",
      "Recall: 0.7718\n",
      "F1 Score: 0.7398 \n",
      "\n",
      "Best accuracy rate confusion matrix:\n"
     ]
    },
    {
     "data": {
      "image/png": "[encoded data removed]",
      "text/plain": [
       "<Figure size 432x288 with 2 Axes>"
      ]
     },
     "metadata": {
      "needs_background": "light"
     },
     "output_type": "display_data"
    }
   ],
   "source": [
    "gb = GradientBoostingClassifier()\n",
    "\n",
    "model_trials('GA', X, y, gb, 'Gradient Boosting');"
   ]
  },
  {
   "cell_type": "code",
   "execution_count": 73,
   "metadata": {},
   "outputs": [
    {
     "name": "stdout",
     "output_type": "stream",
     "text": [
      "Dataset: GA\n",
      "Model ID: Logistic Regression\n",
      "Model Params: {'C': 1.0, 'class_weight': None, 'dual': False, 'fit_intercept': True, 'intercept_scaling': 1, 'l1_ratio': None, 'max_iter': 100, 'multi_class': 'auto', 'n_jobs': None, 'penalty': 'l2', 'random_state': 42, 'solver': 'lbfgs', 'tol': 0.0001, 'verbose': 0, 'warm_start': False}\n",
      "Training Score: 0.6802\n",
      "Testing Score: 0.6701 \n",
      "\n",
      "Accuracy: 0.6701\n",
      "Specificity: 0.5117\n",
      "Precision: 0.7017\n",
      "Recall: 0.7773\n",
      "F1 Score: 0.7375 \n",
      "\n",
      "Best accuracy rate confusion matrix:\n"
     ]
    },
    {
     "data": {
      "image/png": "[encoded data removed]",
      "text/plain": [
       "<Figure size 432x288 with 2 Axes>"
      ]
     },
     "metadata": {
      "needs_background": "light"
     },
     "output_type": "display_data"
    }
   ],
   "source": [
    "lr = LogisticRegression()\n",
    "\n",
    "model_trials('GA', X, y, lr, 'Logistic Regression');"
   ]
  },
  {
   "cell_type": "code",
   "execution_count": 75,
   "metadata": {},
   "outputs": [
    {
     "name": "stdout",
     "output_type": "stream",
     "text": [
      "Dataset: GA\n",
      "Model ID: KNN\n",
      "Model Params: {'memory': None, 'steps': [('ss', StandardScaler()), ('knn', KNeighborsClassifier())], 'verbose': False, 'ss': StandardScaler(), 'knn': KNeighborsClassifier(), 'ss__copy': True, 'ss__with_mean': True, 'ss__with_std': True, 'knn__algorithm': 'auto', 'knn__leaf_size': 30, 'knn__metric': 'minkowski', 'knn__metric_params': None, 'knn__n_jobs': None, 'knn__n_neighbors': 5, 'knn__p': 2, 'knn__weights': 'uniform'}\n",
      "Training Score: 0.7275\n",
      "Testing Score: 0.6339 \n",
      "\n",
      "Accuracy: 0.6339\n",
      "Specificity: 0.5137\n",
      "Precision: 0.6849\n",
      "Recall: 0.7152\n",
      "F1 Score: 0.6997 \n",
      "\n",
      "Best accuracy rate confusion matrix:\n"
     ]
    },
    {
     "data": {
      "image/png": "[encoded data removed]",
      "text/plain": [
       "<Figure size 432x288 with 2 Axes>"
      ]
     },
     "metadata": {
      "needs_background": "light"
     },
     "output_type": "display_data"
    }
   ],
   "source": [
    "knn = Pipeline([\n",
    "    ('ss', StandardScaler()),\n",
    "    ('knn', KNeighborsClassifier())\n",
    "])\n",
    "\n",
    "model_trials('GA', X, y, knn, 'KNN');"
   ]
  },
  {
   "cell_type": "code",
   "execution_count": null,
   "metadata": {},
   "outputs": [
    {
     "name": "stdout",
     "output_type": "stream",
     "text": [
      "Random Forest\n",
      "Training Score: 0.8805\n",
      "Testing Score: 0.6279 \n",
      "\n",
      "Accuracy: 0.6279\n",
      "Specificity: 0.4746\n",
      "Precision: 0.673\n",
      "Recall: 0.7316\n",
      "F1 Score: 0.7011 \n",
      "\n",
      "Best accuracy rate confusion matrix:\n"
     ]
    },
    {
     "data": {
      "text/plain": [
       "<sklearn.metrics._plot.confusion_matrix.ConfusionMatrixDisplay at 0x149c95220>"
      ]
     },
     "execution_count": 37,
     "metadata": {},
     "output_type": "execute_result"
    },
    {
     "data": {
      "image/png": "[encoded data removed]",
      "text/plain": [
       "<Figure size 640x480 with 2 Axes>"
      ]
     },
     "metadata": {},
     "output_type": "display_data"
    }
   ],
   "source": [
    "rf = RandomForestClassifier()\n",
    "\n",
    "model_trials('GA', X, y, rf, 'Random Forest');"
   ]
  },
  {
   "cell_type": "code",
   "execution_count": null,
   "metadata": {},
   "outputs": [
    {
     "name": "stdout",
     "output_type": "stream",
     "text": [
      "Ada Boost\n",
      "Training Score: 0.6885\n",
      "Testing Score: 0.6758 \n",
      "\n",
      "Accuracy: 0.6758\n",
      "Specificity: 0.5446\n",
      "Precision: 0.7127\n",
      "Recall: 0.7646\n",
      "F1 Score: 0.7377 \n",
      "\n",
      "Best accuracy rate confusion matrix:\n"
     ]
    },
    {
     "data": {
      "text/plain": [
       "<sklearn.metrics._plot.confusion_matrix.ConfusionMatrixDisplay at 0x139b5fb50>"
      ]
     },
     "execution_count": 38,
     "metadata": {},
     "output_type": "execute_result"
    },
    {
     "data": {
      "image/png": "[encoded data removed]",
      "text/plain": [
       "<Figure size 640x480 with 2 Axes>"
      ]
     },
     "metadata": {},
     "output_type": "display_data"
    }
   ],
   "source": [
    "ada = AdaBoostClassifier(random_state=42)\n",
    "\n",
    "model_expers(ada, 'Ada Boost')"
   ]
  },
  {
   "cell_type": "code",
   "execution_count": null,
   "metadata": {},
   "outputs": [
    {
     "name": "stdout",
     "output_type": "stream",
     "text": [
      "MultinomialNB\n",
      "Training Score: 0.6536\n",
      "Testing Score: 0.651 \n",
      "\n",
      "Accuracy: 0.651\n",
      "Specificity: 0.4143\n",
      "Precision: 0.6718\n",
      "Recall: 0.8113\n",
      "F1 Score: 0.735 \n",
      "\n",
      "Best accuracy rate confusion matrix:\n"
     ]
    },
    {
     "data": {
      "text/plain": [
       "<sklearn.metrics._plot.confusion_matrix.ConfusionMatrixDisplay at 0x14a57e610>"
      ]
     },
     "execution_count": 39,
     "metadata": {},
     "output_type": "execute_result"
    },
    {
     "data": {
      "image/png": "[encoded data removed]",
      "text/plain": [
       "<Figure size 640x480 with 2 Axes>"
      ]
     },
     "metadata": {},
     "output_type": "display_data"
    }
   ],
   "source": [
    "mnb = MultinomialNB()\n",
    "\n",
    "model_expers(mnb, 'MultinomialNB')"
   ]
  },
  {
   "cell_type": "code",
   "execution_count": null,
   "metadata": {},
   "outputs": [
    {
     "name": "stdout",
     "output_type": "stream",
     "text": [
      "BaggingClassifier\n",
      "Training Score: 0.8664\n",
      "Testing Score: 0.623 \n",
      "\n",
      "Accuracy: 0.623\n",
      "Specificity: 0.5081\n",
      "Precision: 0.678\n",
      "Recall: 0.7008\n",
      "F1 Score: 0.6892 \n",
      "\n",
      "Best accuracy rate confusion matrix:\n"
     ]
    },
    {
     "data": {
      "text/plain": [
       "<sklearn.metrics._plot.confusion_matrix.ConfusionMatrixDisplay at 0x14a804b50>"
      ]
     },
     "execution_count": 40,
     "metadata": {},
     "output_type": "execute_result"
    },
    {
     "data": {
      "image/png": "[encoded data removed]",
      "text/plain": [
       "<Figure size 640x480 with 2 Axes>"
      ]
     },
     "metadata": {},
     "output_type": "display_data"
    }
   ],
   "source": [
    "bag = BaggingClassifier()\n",
    "\n",
    "model_expers(bag, 'BaggingClassifier')"
   ]
  },
  {
   "cell_type": "code",
   "execution_count": null,
   "metadata": {},
   "outputs": [
    {
     "name": "stdout",
     "output_type": "stream",
     "text": [
      "Decision Tree\n",
      "Training Score: 0.8805\n",
      "Testing Score: 0.6017 \n",
      "\n",
      "Accuracy: 0.6017\n",
      "Specificity: 0.5025\n",
      "Precision: 0.6652\n",
      "Recall: 0.6688\n",
      "F1 Score: 0.667 \n",
      "\n",
      "Best accuracy rate confusion matrix:\n"
     ]
    },
    {
     "data": {
      "text/plain": [
       "<sklearn.metrics._plot.confusion_matrix.ConfusionMatrixDisplay at 0x14a98d040>"
      ]
     },
     "execution_count": 41,
     "metadata": {},
     "output_type": "execute_result"
    },
    {
     "data": {
      "image/png": "[encoded data removed]",
      "text/plain": [
       "<Figure size 640x480 with 2 Axes>"
      ]
     },
     "metadata": {},
     "output_type": "display_data"
    }
   ],
   "source": [
    "dtree = DecisionTreeClassifier(random_state=42)\n",
    "\n",
    "model_expers(dtree, 'Decision Tree')"
   ]
  },
  {
   "cell_type": "code",
   "execution_count": null,
   "metadata": {},
   "outputs": [
    {
     "data": {
      "text/html": [
       "<div>\n",
       "<style scoped>\n",
       "    .dataframe tbody tr th:only-of-type {\n",
       "        vertical-align: middle;\n",
       "    }\n",
       "\n",
       "    .dataframe tbody tr th {\n",
       "        vertical-align: top;\n",
       "    }\n",
       "\n",
       "    .dataframe thead th {\n",
       "        text-align: right;\n",
       "    }\n",
       "</style>\n",
       "<table border=\"1\" class=\"dataframe\">\n",
       "  <thead>\n",
       "    <tr style=\"text-align: right;\">\n",
       "      <th></th>\n",
       "      <th>model_used</th>\n",
       "      <th>train_score</th>\n",
       "      <th>test_score</th>\n",
       "      <th>accuracy</th>\n",
       "      <th>specificity</th>\n",
       "      <th>precision</th>\n",
       "      <th>recall</th>\n",
       "      <th>f1 score</th>\n",
       "      <th>true_neg</th>\n",
       "      <th>false_pos</th>\n",
       "      <th>false_neg</th>\n",
       "      <th>true_pos</th>\n",
       "    </tr>\n",
       "  </thead>\n",
       "  <tbody>\n",
       "    <tr>\n",
       "      <th>0</th>\n",
       "      <td>Gradient Boosting</td>\n",
       "      <td>0.696008</td>\n",
       "      <td>0.676218</td>\n",
       "      <td>0.676218</td>\n",
       "      <td>0.534990</td>\n",
       "      <td>0.710360</td>\n",
       "      <td>0.771791</td>\n",
       "      <td>0.739803</td>\n",
       "      <td>1055</td>\n",
       "      <td>917</td>\n",
       "      <td>665</td>\n",
       "      <td>2249</td>\n",
       "    </tr>\n",
       "    <tr>\n",
       "      <th>1</th>\n",
       "      <td>Logistic Regression</td>\n",
       "      <td>0.680194</td>\n",
       "      <td>0.670078</td>\n",
       "      <td>0.670078</td>\n",
       "      <td>0.511663</td>\n",
       "      <td>0.701673</td>\n",
       "      <td>0.777282</td>\n",
       "      <td>0.737545</td>\n",
       "      <td>1009</td>\n",
       "      <td>963</td>\n",
       "      <td>649</td>\n",
       "      <td>2265</td>\n",
       "    </tr>\n",
       "    <tr>\n",
       "      <th>2</th>\n",
       "      <td>KNN</td>\n",
       "      <td>0.728915</td>\n",
       "      <td>0.631805</td>\n",
       "      <td>0.631805</td>\n",
       "      <td>0.512170</td>\n",
       "      <td>0.683449</td>\n",
       "      <td>0.712766</td>\n",
       "      <td>0.697799</td>\n",
       "      <td>1010</td>\n",
       "      <td>962</td>\n",
       "      <td>837</td>\n",
       "      <td>2077</td>\n",
       "    </tr>\n",
       "    <tr>\n",
       "      <th>3</th>\n",
       "      <td>Random Forest</td>\n",
       "      <td>0.880502</td>\n",
       "      <td>0.627916</td>\n",
       "      <td>0.627916</td>\n",
       "      <td>0.474645</td>\n",
       "      <td>0.672980</td>\n",
       "      <td>0.731640</td>\n",
       "      <td>0.701085</td>\n",
       "      <td>936</td>\n",
       "      <td>1036</td>\n",
       "      <td>782</td>\n",
       "      <td>2132</td>\n",
       "    </tr>\n",
       "    <tr>\n",
       "      <th>4</th>\n",
       "      <td>Ada Boost</td>\n",
       "      <td>0.688485</td>\n",
       "      <td>0.675808</td>\n",
       "      <td>0.675808</td>\n",
       "      <td>0.544625</td>\n",
       "      <td>0.712732</td>\n",
       "      <td>0.764585</td>\n",
       "      <td>0.737748</td>\n",
       "      <td>1074</td>\n",
       "      <td>898</td>\n",
       "      <td>686</td>\n",
       "      <td>2228</td>\n",
       "    </tr>\n",
       "    <tr>\n",
       "      <th>5</th>\n",
       "      <td>MultinomialNB</td>\n",
       "      <td>0.653634</td>\n",
       "      <td>0.651044</td>\n",
       "      <td>0.651044</td>\n",
       "      <td>0.414300</td>\n",
       "      <td>0.671782</td>\n",
       "      <td>0.811256</td>\n",
       "      <td>0.734960</td>\n",
       "      <td>817</td>\n",
       "      <td>1155</td>\n",
       "      <td>550</td>\n",
       "      <td>2364</td>\n",
       "    </tr>\n",
       "    <tr>\n",
       "      <th>6</th>\n",
       "      <td>BaggingClassifier</td>\n",
       "      <td>0.866428</td>\n",
       "      <td>0.623005</td>\n",
       "      <td>0.623005</td>\n",
       "      <td>0.508114</td>\n",
       "      <td>0.677955</td>\n",
       "      <td>0.700755</td>\n",
       "      <td>0.689166</td>\n",
       "      <td>1002</td>\n",
       "      <td>970</td>\n",
       "      <td>872</td>\n",
       "      <td>2042</td>\n",
       "    </tr>\n",
       "    <tr>\n",
       "      <th>7</th>\n",
       "      <td>Decision Tree</td>\n",
       "      <td>0.880502</td>\n",
       "      <td>0.601719</td>\n",
       "      <td>0.601719</td>\n",
       "      <td>0.502535</td>\n",
       "      <td>0.665188</td>\n",
       "      <td>0.668840</td>\n",
       "      <td>0.667009</td>\n",
       "      <td>991</td>\n",
       "      <td>981</td>\n",
       "      <td>965</td>\n",
       "      <td>1949</td>\n",
       "    </tr>\n",
       "  </tbody>\n",
       "</table>\n",
       "</div>"
      ],
      "text/plain": [
       "            model_used  train_score  test_score  accuracy  specificity  \\\n",
       "0    Gradient Boosting     0.696008    0.676218  0.676218     0.534990   \n",
       "1  Logistic Regression     0.680194    0.670078  0.670078     0.511663   \n",
       "2                  KNN     0.728915    0.631805  0.631805     0.512170   \n",
       "3        Random Forest     0.880502    0.627916  0.627916     0.474645   \n",
       "4            Ada Boost     0.688485    0.675808  0.675808     0.544625   \n",
       "5        MultinomialNB     0.653634    0.651044  0.651044     0.414300   \n",
       "6    BaggingClassifier     0.866428    0.623005  0.623005     0.508114   \n",
       "7        Decision Tree     0.880502    0.601719  0.601719     0.502535   \n",
       "\n",
       "   precision    recall  f1 score  true_neg  false_pos  false_neg  true_pos  \n",
       "0   0.710360  0.771791  0.739803      1055        917        665      2249  \n",
       "1   0.701673  0.777282  0.737545      1009        963        649      2265  \n",
       "2   0.683449  0.712766  0.697799      1010        962        837      2077  \n",
       "3   0.672980  0.731640  0.701085       936       1036        782      2132  \n",
       "4   0.712732  0.764585  0.737748      1074        898        686      2228  \n",
       "5   0.671782  0.811256  0.734960       817       1155        550      2364  \n",
       "6   0.677955  0.700755  0.689166      1002        970        872      2042  \n",
       "7   0.665188  0.668840  0.667009       991        981        965      1949  "
      ]
     },
     "execution_count": 42,
     "metadata": {},
     "output_type": "execute_result"
    }
   ],
   "source": [
    "model_experiments_df"
   ]
  },
  {
   "cell_type": "markdown",
   "metadata": {},
   "source": [
    "- All models aside from MNB scored worse on accuracy"
   ]
  },
  {
   "cell_type": "markdown",
   "metadata": {},
   "source": [
    "**FINAL NOTES**\n",
    "- TODO etc.\n",
    "- The last notebook in the series is [Results and Recommendations](./04_results.ipynb)."
   ]
  }
 ],
 "metadata": {
  "kernelspec": {
   "display_name": "Python 3.9.12 ('base')",
   "language": "python",
   "name": "python3"
  },
  "language_info": {
   "codemirror_mode": {
    "name": "ipython",
    "version": 3
   },
   "file_extension": ".py",
   "mimetype": "text/x-python",
   "name": "python",
   "nbconvert_exporter": "python",
   "pygments_lexer": "ipython3",
   "version": "3.9.12"
  },
  "vscode": {
   "interpreter": {
    "hash": "5c5d815f4904d5c36e1cb6a23cb867a61c9881b6acdb1b6d63422ceae43ed5d6"
   }
  }
 },
 "nbformat": 4,
 "nbformat_minor": 4
}
