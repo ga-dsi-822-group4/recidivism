{
 "cells": [
  {
   "cell_type": "markdown",
   "metadata": {},
   "source": [
    "### Group Project 4 : Comparing 3 Models for Predicting Recidivism\n",
    "\n",
    "For background on this project, please see the [README](../README.md).\n",
    "\n",
    "**Notebooks**\n",
    "- [Data Acquisition & Cleaning](./01_data_acq_clean.ipynb)\n",
    "- [Exploratory Data Analysis](./02_eda.ipynb)\n",
    "- Modeling (this notebook)\n",
    "- [Results and Recommendations](./04_results.ipynb)\n",
    "\n",
    "**In this notebook, you'll find:**\n",
    "- Classification models for each of the 3 datasets\n",
    "- TODO etc."
   ]
  },
  {
   "cell_type": "code",
   "execution_count": 1,
   "metadata": {},
   "outputs": [],
   "source": [
    "# Imports\n",
    "\n",
    "import pandas as pd\n",
    "import matplotlib.pyplot as plt\n",
    "import numpy as np\n",
    "\n",
    "from sklearn.model_selection import train_test_split, GridSearchCV\n",
    "from sklearn.linear_model import LogisticRegression\n",
    "from sklearn.tree import DecisionTreeClassifier\n",
    "from sklearn.ensemble import RandomForestClassifier, GradientBoostingClassifier, AdaBoostClassifier, BaggingClassifier \n",
    "from sklearn.neighbors import KNeighborsClassifier\n",
    "from sklearn.preprocessing import StandardScaler\n",
    "from sklearn.pipeline import Pipeline\n",
    "from sklearn.naive_bayes import MultinomialNB\n",
    "from sklearn.metrics import confusion_matrix, ConfusionMatrixDisplay"
   ]
  },
  {
   "cell_type": "markdown",
   "metadata": {},
   "source": [
    "**Model 1: Base feature set - New York**"
   ]
  },
  {
   "cell_type": "code",
   "execution_count": null,
   "metadata": {},
   "outputs": [],
   "source": []
  },
  {
   "cell_type": "markdown",
   "metadata": {},
   "source": [
    "**Model 2: Criminal history feature set - Florida**"
   ]
  },
  {
   "cell_type": "code",
   "execution_count": null,
   "metadata": {},
   "outputs": [],
   "source": []
  },
  {
   "cell_type": "markdown",
   "metadata": {},
   "source": [
    "**Model 3: Behavioral feature set - Georgia**"
   ]
  },
  {
   "cell_type": "code",
   "execution_count": 2,
   "metadata": {},
   "outputs": [
    {
     "data": {
      "text/html": [
       "<div>\n",
       "<style scoped>\n",
       "    .dataframe tbody tr th:only-of-type {\n",
       "        vertical-align: middle;\n",
       "    }\n",
       "\n",
       "    .dataframe tbody tr th {\n",
       "        vertical-align: top;\n",
       "    }\n",
       "\n",
       "    .dataframe thead th {\n",
       "        text-align: right;\n",
       "    }\n",
       "</style>\n",
       "<table border=\"1\" class=\"dataframe\">\n",
       "  <thead>\n",
       "    <tr style=\"text-align: right;\">\n",
       "      <th></th>\n",
       "      <th>gender_male</th>\n",
       "      <th>age_at_release</th>\n",
       "      <th>gang_affiliated</th>\n",
       "      <th>supervision_risk_score_first</th>\n",
       "      <th>education_level</th>\n",
       "      <th>dependents</th>\n",
       "      <th>prison_years</th>\n",
       "      <th>prior_arrest_episodes_felony</th>\n",
       "      <th>prior_arrest_episodes_misd</th>\n",
       "      <th>prior_arrest_episodes_violent</th>\n",
       "      <th>...</th>\n",
       "      <th>delinquency_reports</th>\n",
       "      <th>program_attendances</th>\n",
       "      <th>residence_changes</th>\n",
       "      <th>avg_days_per_drugtest</th>\n",
       "      <th>drugtests_thc_positive</th>\n",
       "      <th>drugtests_cocaine_positive</th>\n",
       "      <th>drugtests_meth_positive</th>\n",
       "      <th>drugtests_other_positive</th>\n",
       "      <th>percent_days_employed</th>\n",
       "      <th>recidivism_within_3years</th>\n",
       "    </tr>\n",
       "  </thead>\n",
       "  <tbody>\n",
       "    <tr>\n",
       "      <th>0</th>\n",
       "      <td>1</td>\n",
       "      <td>43-47</td>\n",
       "      <td>0</td>\n",
       "      <td>3.0</td>\n",
       "      <td>at least some college</td>\n",
       "      <td>3</td>\n",
       "      <td>more than 3 years</td>\n",
       "      <td>6</td>\n",
       "      <td>6</td>\n",
       "      <td>1</td>\n",
       "      <td>...</td>\n",
       "      <td>0</td>\n",
       "      <td>6</td>\n",
       "      <td>2</td>\n",
       "      <td>612.000000</td>\n",
       "      <td>0.000000</td>\n",
       "      <td>0.0</td>\n",
       "      <td>0.000000</td>\n",
       "      <td>0.0</td>\n",
       "      <td>0.488562</td>\n",
       "      <td>0</td>\n",
       "    </tr>\n",
       "    <tr>\n",
       "      <th>1</th>\n",
       "      <td>1</td>\n",
       "      <td>33-37</td>\n",
       "      <td>0</td>\n",
       "      <td>6.0</td>\n",
       "      <td>less than hs diploma</td>\n",
       "      <td>1</td>\n",
       "      <td>more than 3 years</td>\n",
       "      <td>7</td>\n",
       "      <td>6</td>\n",
       "      <td>3</td>\n",
       "      <td>...</td>\n",
       "      <td>4</td>\n",
       "      <td>0</td>\n",
       "      <td>2</td>\n",
       "      <td>35.666667</td>\n",
       "      <td>0.000000</td>\n",
       "      <td>0.0</td>\n",
       "      <td>0.000000</td>\n",
       "      <td>0.0</td>\n",
       "      <td>0.425234</td>\n",
       "      <td>1</td>\n",
       "    </tr>\n",
       "    <tr>\n",
       "      <th>2</th>\n",
       "      <td>1</td>\n",
       "      <td>48 or older</td>\n",
       "      <td>0</td>\n",
       "      <td>7.0</td>\n",
       "      <td>at least some college</td>\n",
       "      <td>3</td>\n",
       "      <td>1-2 years</td>\n",
       "      <td>6</td>\n",
       "      <td>6</td>\n",
       "      <td>3</td>\n",
       "      <td>...</td>\n",
       "      <td>4</td>\n",
       "      <td>6</td>\n",
       "      <td>0</td>\n",
       "      <td>93.666667</td>\n",
       "      <td>0.333333</td>\n",
       "      <td>0.0</td>\n",
       "      <td>0.166667</td>\n",
       "      <td>0.0</td>\n",
       "      <td>0.000000</td>\n",
       "      <td>1</td>\n",
       "    </tr>\n",
       "    <tr>\n",
       "      <th>3</th>\n",
       "      <td>1</td>\n",
       "      <td>38-42</td>\n",
       "      <td>0</td>\n",
       "      <td>7.0</td>\n",
       "      <td>less than hs diploma</td>\n",
       "      <td>1</td>\n",
       "      <td>1-2 years</td>\n",
       "      <td>8</td>\n",
       "      <td>6</td>\n",
       "      <td>0</td>\n",
       "      <td>...</td>\n",
       "      <td>0</td>\n",
       "      <td>6</td>\n",
       "      <td>3</td>\n",
       "      <td>25.400000</td>\n",
       "      <td>0.000000</td>\n",
       "      <td>0.0</td>\n",
       "      <td>0.000000</td>\n",
       "      <td>0.0</td>\n",
       "      <td>1.000000</td>\n",
       "      <td>0</td>\n",
       "    </tr>\n",
       "    <tr>\n",
       "      <th>4</th>\n",
       "      <td>1</td>\n",
       "      <td>33-37</td>\n",
       "      <td>0</td>\n",
       "      <td>4.0</td>\n",
       "      <td>less than hs diploma</td>\n",
       "      <td>3</td>\n",
       "      <td>1-2 years</td>\n",
       "      <td>4</td>\n",
       "      <td>4</td>\n",
       "      <td>3</td>\n",
       "      <td>...</td>\n",
       "      <td>0</td>\n",
       "      <td>7</td>\n",
       "      <td>0</td>\n",
       "      <td>23.117647</td>\n",
       "      <td>0.000000</td>\n",
       "      <td>0.0</td>\n",
       "      <td>0.058824</td>\n",
       "      <td>0.0</td>\n",
       "      <td>0.203562</td>\n",
       "      <td>1</td>\n",
       "    </tr>\n",
       "  </tbody>\n",
       "</table>\n",
       "<p>5 rows × 32 columns</p>\n",
       "</div>"
      ],
      "text/plain": [
       "   gender_male age_at_release  gang_affiliated  supervision_risk_score_first  \\\n",
       "0            1          43-47                0                           3.0   \n",
       "1            1          33-37                0                           6.0   \n",
       "2            1    48 or older                0                           7.0   \n",
       "3            1          38-42                0                           7.0   \n",
       "4            1          33-37                0                           4.0   \n",
       "\n",
       "         education_level  dependents       prison_years  \\\n",
       "0  at least some college           3  more than 3 years   \n",
       "1   less than hs diploma           1  more than 3 years   \n",
       "2  at least some college           3          1-2 years   \n",
       "3   less than hs diploma           1          1-2 years   \n",
       "4   less than hs diploma           3          1-2 years   \n",
       "\n",
       "   prior_arrest_episodes_felony  prior_arrest_episodes_misd  \\\n",
       "0                             6                           6   \n",
       "1                             7                           6   \n",
       "2                             6                           6   \n",
       "3                             8                           6   \n",
       "4                             4                           4   \n",
       "\n",
       "   prior_arrest_episodes_violent  ...  delinquency_reports  \\\n",
       "0                              1  ...                    0   \n",
       "1                              3  ...                    4   \n",
       "2                              3  ...                    4   \n",
       "3                              0  ...                    0   \n",
       "4                              3  ...                    0   \n",
       "\n",
       "   program_attendances  residence_changes  avg_days_per_drugtest  \\\n",
       "0                    6                  2             612.000000   \n",
       "1                    0                  2              35.666667   \n",
       "2                    6                  0              93.666667   \n",
       "3                    6                  3              25.400000   \n",
       "4                    7                  0              23.117647   \n",
       "\n",
       "   drugtests_thc_positive  drugtests_cocaine_positive  \\\n",
       "0                0.000000                         0.0   \n",
       "1                0.000000                         0.0   \n",
       "2                0.333333                         0.0   \n",
       "3                0.000000                         0.0   \n",
       "4                0.000000                         0.0   \n",
       "\n",
       "   drugtests_meth_positive  drugtests_other_positive  percent_days_employed  \\\n",
       "0                 0.000000                       0.0               0.488562   \n",
       "1                 0.000000                       0.0               0.425234   \n",
       "2                 0.166667                       0.0               0.000000   \n",
       "3                 0.000000                       0.0               1.000000   \n",
       "4                 0.058824                       0.0               0.203562   \n",
       "\n",
       "   recidivism_within_3years  \n",
       "0                         0  \n",
       "1                         1  \n",
       "2                         1  \n",
       "3                         0  \n",
       "4                         1  \n",
       "\n",
       "[5 rows x 32 columns]"
      ]
     },
     "execution_count": 2,
     "metadata": {},
     "output_type": "execute_result"
    }
   ],
   "source": [
    "# Reading in the cleaned Georgia data file\n",
    "\n",
    "ga = pd.read_csv('../data/GA/georgia_cleaned.csv')\n",
    "ga.drop(columns='Unnamed: 0', inplace=True)\n",
    "ga.head()"
   ]
  },
  {
   "cell_type": "markdown",
   "metadata": {},
   "source": [
    "---\n",
    "\n",
    "## Dummifying Categorical Columns"
   ]
  },
  {
   "cell_type": "code",
   "execution_count": 3,
   "metadata": {},
   "outputs": [
    {
     "name": "stdout",
     "output_type": "stream",
     "text": [
      "(24426, 43)\n"
     ]
    },
    {
     "data": {
      "text/html": [
       "<div>\n",
       "<style scoped>\n",
       "    .dataframe tbody tr th:only-of-type {\n",
       "        vertical-align: middle;\n",
       "    }\n",
       "\n",
       "    .dataframe tbody tr th {\n",
       "        vertical-align: top;\n",
       "    }\n",
       "\n",
       "    .dataframe thead th {\n",
       "        text-align: right;\n",
       "    }\n",
       "</style>\n",
       "<table border=\"1\" class=\"dataframe\">\n",
       "  <thead>\n",
       "    <tr style=\"text-align: right;\">\n",
       "      <th></th>\n",
       "      <th>gender_male</th>\n",
       "      <th>gang_affiliated</th>\n",
       "      <th>supervision_risk_score_first</th>\n",
       "      <th>dependents</th>\n",
       "      <th>prior_arrest_episodes_felony</th>\n",
       "      <th>prior_arrest_episodes_misd</th>\n",
       "      <th>prior_arrest_episodes_violent</th>\n",
       "      <th>prior_arrest_episodes_property</th>\n",
       "      <th>prior_arrest_episodes_drug</th>\n",
       "      <th>prior_arrest_episodes_ppviolationcharges</th>\n",
       "      <th>...</th>\n",
       "      <th>age_at_release_38-42</th>\n",
       "      <th>age_at_release_43-47</th>\n",
       "      <th>age_at_release_48 or older</th>\n",
       "      <th>education_level_at least some college</th>\n",
       "      <th>education_level_high school diploma</th>\n",
       "      <th>education_level_less than hs diploma</th>\n",
       "      <th>prison_years_1-2 years</th>\n",
       "      <th>prison_years_greater than 2 to 3 years</th>\n",
       "      <th>prison_years_less than 1 year</th>\n",
       "      <th>prison_years_more than 3 years</th>\n",
       "    </tr>\n",
       "  </thead>\n",
       "  <tbody>\n",
       "    <tr>\n",
       "      <th>0</th>\n",
       "      <td>1</td>\n",
       "      <td>0</td>\n",
       "      <td>3.0</td>\n",
       "      <td>3</td>\n",
       "      <td>6</td>\n",
       "      <td>6</td>\n",
       "      <td>1</td>\n",
       "      <td>3</td>\n",
       "      <td>3</td>\n",
       "      <td>4</td>\n",
       "      <td>...</td>\n",
       "      <td>0</td>\n",
       "      <td>1</td>\n",
       "      <td>0</td>\n",
       "      <td>1</td>\n",
       "      <td>0</td>\n",
       "      <td>0</td>\n",
       "      <td>0</td>\n",
       "      <td>0</td>\n",
       "      <td>0</td>\n",
       "      <td>1</td>\n",
       "    </tr>\n",
       "    <tr>\n",
       "      <th>1</th>\n",
       "      <td>1</td>\n",
       "      <td>0</td>\n",
       "      <td>6.0</td>\n",
       "      <td>1</td>\n",
       "      <td>7</td>\n",
       "      <td>6</td>\n",
       "      <td>3</td>\n",
       "      <td>0</td>\n",
       "      <td>3</td>\n",
       "      <td>5</td>\n",
       "      <td>...</td>\n",
       "      <td>0</td>\n",
       "      <td>0</td>\n",
       "      <td>0</td>\n",
       "      <td>0</td>\n",
       "      <td>0</td>\n",
       "      <td>1</td>\n",
       "      <td>0</td>\n",
       "      <td>0</td>\n",
       "      <td>0</td>\n",
       "      <td>1</td>\n",
       "    </tr>\n",
       "    <tr>\n",
       "      <th>2</th>\n",
       "      <td>1</td>\n",
       "      <td>0</td>\n",
       "      <td>7.0</td>\n",
       "      <td>3</td>\n",
       "      <td>6</td>\n",
       "      <td>6</td>\n",
       "      <td>3</td>\n",
       "      <td>2</td>\n",
       "      <td>2</td>\n",
       "      <td>5</td>\n",
       "      <td>...</td>\n",
       "      <td>0</td>\n",
       "      <td>0</td>\n",
       "      <td>1</td>\n",
       "      <td>1</td>\n",
       "      <td>0</td>\n",
       "      <td>0</td>\n",
       "      <td>1</td>\n",
       "      <td>0</td>\n",
       "      <td>0</td>\n",
       "      <td>0</td>\n",
       "    </tr>\n",
       "    <tr>\n",
       "      <th>3</th>\n",
       "      <td>1</td>\n",
       "      <td>0</td>\n",
       "      <td>7.0</td>\n",
       "      <td>1</td>\n",
       "      <td>8</td>\n",
       "      <td>6</td>\n",
       "      <td>0</td>\n",
       "      <td>3</td>\n",
       "      <td>3</td>\n",
       "      <td>3</td>\n",
       "      <td>...</td>\n",
       "      <td>1</td>\n",
       "      <td>0</td>\n",
       "      <td>0</td>\n",
       "      <td>0</td>\n",
       "      <td>0</td>\n",
       "      <td>1</td>\n",
       "      <td>1</td>\n",
       "      <td>0</td>\n",
       "      <td>0</td>\n",
       "      <td>0</td>\n",
       "    </tr>\n",
       "    <tr>\n",
       "      <th>4</th>\n",
       "      <td>1</td>\n",
       "      <td>0</td>\n",
       "      <td>4.0</td>\n",
       "      <td>3</td>\n",
       "      <td>4</td>\n",
       "      <td>4</td>\n",
       "      <td>3</td>\n",
       "      <td>2</td>\n",
       "      <td>1</td>\n",
       "      <td>3</td>\n",
       "      <td>...</td>\n",
       "      <td>0</td>\n",
       "      <td>0</td>\n",
       "      <td>0</td>\n",
       "      <td>0</td>\n",
       "      <td>0</td>\n",
       "      <td>1</td>\n",
       "      <td>1</td>\n",
       "      <td>0</td>\n",
       "      <td>0</td>\n",
       "      <td>0</td>\n",
       "    </tr>\n",
       "  </tbody>\n",
       "</table>\n",
       "<p>5 rows × 43 columns</p>\n",
       "</div>"
      ],
      "text/plain": [
       "   gender_male  gang_affiliated  supervision_risk_score_first  dependents  \\\n",
       "0            1                0                           3.0           3   \n",
       "1            1                0                           6.0           1   \n",
       "2            1                0                           7.0           3   \n",
       "3            1                0                           7.0           1   \n",
       "4            1                0                           4.0           3   \n",
       "\n",
       "   prior_arrest_episodes_felony  prior_arrest_episodes_misd  \\\n",
       "0                             6                           6   \n",
       "1                             7                           6   \n",
       "2                             6                           6   \n",
       "3                             8                           6   \n",
       "4                             4                           4   \n",
       "\n",
       "   prior_arrest_episodes_violent  prior_arrest_episodes_property  \\\n",
       "0                              1                               3   \n",
       "1                              3                               0   \n",
       "2                              3                               2   \n",
       "3                              0                               3   \n",
       "4                              3                               2   \n",
       "\n",
       "   prior_arrest_episodes_drug  prior_arrest_episodes_ppviolationcharges  ...  \\\n",
       "0                           3                                         4  ...   \n",
       "1                           3                                         5  ...   \n",
       "2                           2                                         5  ...   \n",
       "3                           3                                         3  ...   \n",
       "4                           1                                         3  ...   \n",
       "\n",
       "   age_at_release_38-42  age_at_release_43-47  age_at_release_48 or older  \\\n",
       "0                     0                     1                           0   \n",
       "1                     0                     0                           0   \n",
       "2                     0                     0                           1   \n",
       "3                     1                     0                           0   \n",
       "4                     0                     0                           0   \n",
       "\n",
       "   education_level_at least some college  education_level_high school diploma  \\\n",
       "0                                      1                                    0   \n",
       "1                                      0                                    0   \n",
       "2                                      1                                    0   \n",
       "3                                      0                                    0   \n",
       "4                                      0                                    0   \n",
       "\n",
       "   education_level_less than hs diploma  prison_years_1-2 years  \\\n",
       "0                                     0                       0   \n",
       "1                                     1                       0   \n",
       "2                                     0                       1   \n",
       "3                                     1                       1   \n",
       "4                                     1                       1   \n",
       "\n",
       "   prison_years_greater than 2 to 3 years  prison_years_less than 1 year  \\\n",
       "0                                       0                              0   \n",
       "1                                       0                              0   \n",
       "2                                       0                              0   \n",
       "3                                       0                              0   \n",
       "4                                       0                              0   \n",
       "\n",
       "   prison_years_more than 3 years  \n",
       "0                               1  \n",
       "1                               1  \n",
       "2                               0  \n",
       "3                               0  \n",
       "4                               0  \n",
       "\n",
       "[5 rows x 43 columns]"
      ]
     },
     "execution_count": 3,
     "metadata": {},
     "output_type": "execute_result"
    }
   ],
   "source": [
    "cat_cols = ga.select_dtypes(include='object').columns\n",
    "\n",
    "ga_dummy = pd.get_dummies(ga, columns=cat_cols)\n",
    "print(ga_dummy.shape)\n",
    "ga_dummy.head()"
   ]
  },
  {
   "cell_type": "markdown",
   "metadata": {},
   "source": [
    "--- \n",
    "\n",
    "## Establishing the Baseline"
   ]
  },
  {
   "cell_type": "code",
   "execution_count": 4,
   "metadata": {},
   "outputs": [
    {
     "data": {
      "text/plain": [
       "1    0.596496\n",
       "0    0.403504\n",
       "Name: recidivism_within_3years, dtype: float64"
      ]
     },
     "execution_count": 4,
     "metadata": {},
     "output_type": "execute_result"
    }
   ],
   "source": [
    "X = ga.drop(columns='recidivism_within_3years')\n",
    "y = ga['recidivism_within_3years']\n",
    "\n",
    "y.value_counts(normalize=True)"
   ]
  },
  {
   "cell_type": "markdown",
   "metadata": {},
   "source": [
    "This baseline is telling us that if we predicted that all observations in this list would recidivate, we could reasonably expect be correct 59.65% of the time.\n",
    "\n",
    "Depending on the usage of our model, the metrics we want to optimize for are overall accuracy and specificity. "
   ]
  },
  {
   "cell_type": "markdown",
   "metadata": {},
   "source": [
    "---\n",
    "\n",
    "## Building a Function to Expedite Model Trials"
   ]
  },
  {
   "cell_type": "code",
   "execution_count": 5,
   "metadata": {},
   "outputs": [],
   "source": [
    "model_trials_df = pd.DataFrame(columns=['model_used', 'train_score', 'test_score',\n",
    "'accuracy', 'specificity', 'precision', 'recall', 'f1 score', 'true_neg', 'false_pos', 'false_neg', 'true_pos'])"
   ]
  },
  {
   "cell_type": "code",
   "execution_count": 6,
   "metadata": {},
   "outputs": [],
   "source": [
    "def model_trials(model, model_id):\n",
    "\n",
    "    '''Setting X and y, and fitting the model'''\n",
    "    X = ga_dummy.drop(columns='recidivism_within_3years')\n",
    "    y = ga_dummy['recidivism_within_3years']\n",
    "    X_train, X_test, y_train, y_test = train_test_split(X, y, test_size = 0.2, random_state=42, stratify=y)\n",
    "    model.fit(X_train, y_train)\n",
    "    train_score = model.score(X_train, y_train)\n",
    "    test_score = model.score(X_test, y_test)\n",
    "\n",
    "    '''Baseline calculation for reference in the returned confusion matrix'''\n",
    "    baseline = y.value_counts(normalize=True)[1]\n",
    "\n",
    "    '''Calculating classification rates'''\n",
    "    preds = model.predict(X_test)\n",
    "    tn, fp, fn, tp = confusion_matrix(y_test, preds).ravel()\n",
    "    acc = (tp + tn) / (tn + fp + tp + fn)\n",
    "    spec = tn / (tn + fp)\n",
    "    prec = tp / (tp + fp)\n",
    "    recall = tp / (tp + fn)\n",
    "    f1 = ((prec * recall) / (prec + recall)) * 2\n",
    "\n",
    "    '''Adding all values to the model_trials dataframe'''\n",
    "    model_list = [model_id, train_score, test_score, acc, spec, prec, recall, f1, tn, fp, fn, tp]\n",
    "    model_trials_df.loc[len(model_trials_df.index)] = model_list\n",
    "\n",
    "    '''Output will show scores and classification metrics'''\n",
    "    print(model_id)\n",
    "    print(f'Training Score: {round(train_score, 4)}')\n",
    "    print(f'Testing Score: {round(test_score, 4)} \\n')\n",
    "    print(f'Accuracy: {round(acc, 4)}')\n",
    "    print(f'Specificity: {round(spec, 4)}')\n",
    "    print(f'Precision: {round(prec, 4)}')\n",
    "    print(f'Recall: {round(recall, 4)}')\n",
    "    print(f'F1 Score: {round(f1, 4)} \\n')\n",
    "\n",
    "    '''Returning a confusion matrix colored based on performance against the baseline'''\n",
    "    print('Best accuracy rate confusion matrix:')\n",
    "    if acc > baseline:\n",
    "        return ConfusionMatrixDisplay.from_estimator(model, X_test, y_test, cmap='viridis', values_format='d');\n",
    "    else: \n",
    "        return ConfusionMatrixDisplay.from_estimator(model, X_test, y_test, cmap='magma', values_format='d');"
   ]
  },
  {
   "cell_type": "markdown",
   "metadata": {},
   "source": [
    "---\n",
    "## Logistic Regression"
   ]
  },
  {
   "cell_type": "code",
   "execution_count": 7,
   "metadata": {},
   "outputs": [
    {
     "name": "stdout",
     "output_type": "stream",
     "text": [
      "Logistic Regression\n",
      "Training Score: 0.7097\n",
      "Testing Score: 0.6965 \n",
      "\n",
      "Accuracy: 0.6965\n",
      "Specificity: 0.5218\n",
      "Precision: 0.7157\n",
      "Recall: 0.8147\n",
      "F1 Score: 0.762 \n",
      "\n",
      "Best accuracy rate confusion matrix:\n"
     ]
    },
    {
     "data": {
      "text/plain": [
       "<sklearn.metrics._plot.confusion_matrix.ConfusionMatrixDisplay at 0x134547730>"
      ]
     },
     "execution_count": 7,
     "metadata": {},
     "output_type": "execute_result"
    },
    {
     "data": {
      "image/png": "[encoded data removed]",
      "text/plain": [
       "<Figure size 640x480 with 2 Axes>"
      ]
     },
     "metadata": {},
     "output_type": "display_data"
    }
   ],
   "source": [
    "log_reg = LogisticRegression(solver='saga', max_iter = 5000)\n",
    "\n",
    "model_trials(log_reg, 'Logistic Regression')"
   ]
  },
  {
   "cell_type": "markdown",
   "metadata": {},
   "source": [
    "### Analysis\n",
    "This model performed better than the baseline by about 10%, but is struggling with correctly predicting the non-recidivist observations (0 class). This may be a result of the data, or could have to do with the distribution of the data (slight lean towards recidivism = True). \n",
    "\n",
    "If we see similar misclassifications in some or most of the subsequent models, it may be necessary to rebalance the data via undersampling or resampling with synthetic data points."
   ]
  },
  {
   "cell_type": "markdown",
   "metadata": {},
   "source": [
    "--- \n",
    "\n",
    "## Multinomial Naive Bayes"
   ]
  },
  {
   "cell_type": "code",
   "execution_count": 8,
   "metadata": {},
   "outputs": [
    {
     "name": "stdout",
     "output_type": "stream",
     "text": [
      "Multinomial Naive Bayes\n",
      "Training Score: 0.6118\n",
      "Testing Score: 0.6081 \n",
      "\n",
      "Accuracy: 0.6081\n",
      "Specificity: 0.4255\n",
      "Precision: 0.653\n",
      "Recall: 0.7316\n",
      "F1 Score: 0.6901 \n",
      "\n",
      "Best accuracy rate confusion matrix:\n"
     ]
    },
    {
     "data": {
      "text/plain": [
       "<sklearn.metrics._plot.confusion_matrix.ConfusionMatrixDisplay at 0x10d1ec9d0>"
      ]
     },
     "execution_count": 8,
     "metadata": {},
     "output_type": "execute_result"
    },
    {
     "data": {
      "image/png": "[encoded data removed]",
      "text/plain": [
       "<Figure size 640x480 with 2 Axes>"
      ]
     },
     "metadata": {},
     "output_type": "display_data"
    }
   ],
   "source": [
    "mnb = MultinomialNB()\n",
    "\n",
    "model_trials(mnb, 'Multinomial Naive Bayes')"
   ]
  },
  {
   "cell_type": "markdown",
   "metadata": {},
   "source": [
    "### Analysis\n",
    "This MNB model performed surprisingly poorly and had significantly more false positives and false negatives relative to the Logistic Regression model. \n",
    "\n",
    "One possible explanation is that NB classifiers operate on the principle that the presence of one feature does not affect the presence of another. This assumption is not true of this dataset - many features are highly correlated and the presence of 'age_at_release_33-37', for example, would directly result in the absence of a true value in the 'age_at_release_48 or older' column. \n",
    "\n",
    "In this case, the model is running on an assumption that is categorically false and would likely run into issues, even in a binary classification model. "
   ]
  },
  {
   "cell_type": "markdown",
   "metadata": {},
   "source": [
    "---\n",
    "\n",
    "## KNN Classifier"
   ]
  },
  {
   "cell_type": "code",
   "execution_count": 9,
   "metadata": {},
   "outputs": [
    {
     "name": "stdout",
     "output_type": "stream",
     "text": [
      "KNN\n",
      "Training Score: 0.7695\n",
      "Testing Score: 0.6502 \n",
      "\n",
      "Accuracy: 0.6502\n",
      "Specificity: 0.5345\n",
      "Precision: 0.6981\n",
      "Recall: 0.7286\n",
      "F1 Score: 0.713 \n",
      "\n",
      "Best accuracy rate confusion matrix:\n"
     ]
    },
    {
     "data": {
      "text/plain": [
       "<sklearn.metrics._plot.confusion_matrix.ConfusionMatrixDisplay at 0x1346ebac0>"
      ]
     },
     "execution_count": 9,
     "metadata": {},
     "output_type": "execute_result"
    },
    {
     "data": {
      "image/png": "[encoded data removed]",
      "text/plain": [
       "<Figure size 640x480 with 2 Axes>"
      ]
     },
     "metadata": {},
     "output_type": "display_data"
    }
   ],
   "source": [
    "knn = Pipeline([\n",
    "    ('ss', StandardScaler()),\n",
    "    ('knn', KNeighborsClassifier())\n",
    "])\n",
    "\n",
    "model_trials(knn, 'KNN')"
   ]
  },
  {
   "cell_type": "markdown",
   "metadata": {},
   "source": [
    "### Analysis\n",
    "Despite the higher scores, the KNN model saw a handful more false negatives compared to the MNB model above. That being said, both models scored not much higher than the baseline and will likely not be used in the model tuning portion. \n",
    "\n",
    "Because KNN performs well with a low number of features, it's probable that the 42 features included in the dummy dataframe are creating too much noise for this model to read through. This, in addition to the fact that KNN uses the mode of the closest observations in a classification model (and our data is not evenly balanced) are two feasible explanations of the low scores seen here."
   ]
  },
  {
   "cell_type": "markdown",
   "metadata": {},
   "source": [
    "---\n",
    "\n",
    "## Decision Tree Classifier"
   ]
  },
  {
   "cell_type": "code",
   "execution_count": 10,
   "metadata": {},
   "outputs": [
    {
     "name": "stdout",
     "output_type": "stream",
     "text": [
      "Decision Tree\n",
      "Training Score: 1.0\n",
      "Testing Score: 0.623 \n",
      "\n",
      "Accuracy: 0.623\n",
      "Specificity: 0.5538\n",
      "Precision: 0.6893\n",
      "Recall: 0.6699\n",
      "F1 Score: 0.6794 \n",
      "\n",
      "Best accuracy rate confusion matrix:\n"
     ]
    },
    {
     "data": {
      "text/plain": [
       "<sklearn.metrics._plot.confusion_matrix.ConfusionMatrixDisplay at 0x134525dc0>"
      ]
     },
     "execution_count": 10,
     "metadata": {},
     "output_type": "execute_result"
    },
    {
     "data": {
      "image/png": "[encoded data removed]",
      "text/plain": [
       "<Figure size 640x480 with 2 Axes>"
      ]
     },
     "metadata": {},
     "output_type": "display_data"
    }
   ],
   "source": [
    "dtree = DecisionTreeClassifier(random_state=42)\n",
    "\n",
    "model_trials(dtree, 'Decision Tree')"
   ]
  },
  {
   "cell_type": "markdown",
   "metadata": {},
   "source": [
    "### Analysis\n"
   ]
  },
  {
   "cell_type": "markdown",
   "metadata": {},
   "source": [
    "---\n",
    "\n",
    "## Random Forest Classifier"
   ]
  },
  {
   "cell_type": "code",
   "execution_count": 11,
   "metadata": {},
   "outputs": [
    {
     "name": "stdout",
     "output_type": "stream",
     "text": [
      "Random Forest\n",
      "Training Score: 1.0\n",
      "Testing Score: 0.7063 \n",
      "\n",
      "Accuracy: 0.7063\n",
      "Specificity: 0.5517\n",
      "Precision: 0.7277\n",
      "Recall: 0.8109\n",
      "F1 Score: 0.7671 \n",
      "\n",
      "Best accuracy rate confusion matrix:\n"
     ]
    },
    {
     "data": {
      "text/plain": [
       "<sklearn.metrics._plot.confusion_matrix.ConfusionMatrixDisplay at 0x1448d90a0>"
      ]
     },
     "execution_count": 11,
     "metadata": {},
     "output_type": "execute_result"
    },
    {
     "data": {
      "image/png": "[encoded data removed]",
      "text/plain": [
       "<Figure size 640x480 with 2 Axes>"
      ]
     },
     "metadata": {},
     "output_type": "display_data"
    }
   ],
   "source": [
    "rf = RandomForestClassifier(random_state=42)\n",
    "\n",
    "model_trials(rf, 'Random Forest')"
   ]
  },
  {
   "cell_type": "markdown",
   "metadata": {},
   "source": [
    "### Analysis\n"
   ]
  },
  {
   "cell_type": "markdown",
   "metadata": {},
   "source": [
    "---\n",
    "\n",
    "## Bagging Classifier"
   ]
  },
  {
   "cell_type": "code",
   "execution_count": 12,
   "metadata": {},
   "outputs": [
    {
     "name": "stdout",
     "output_type": "stream",
     "text": [
      "Bagging\n",
      "Training Score: 0.986\n",
      "Testing Score: 0.6682 \n",
      "\n",
      "Accuracy: 0.6682\n",
      "Specificity: 0.6045\n",
      "Precision: 0.7266\n",
      "Recall: 0.7114\n",
      "F1 Score: 0.7189 \n",
      "\n",
      "Best accuracy rate confusion matrix:\n"
     ]
    },
    {
     "data": {
      "text/plain": [
       "<sklearn.metrics._plot.confusion_matrix.ConfusionMatrixDisplay at 0x13479bbb0>"
      ]
     },
     "execution_count": 12,
     "metadata": {},
     "output_type": "execute_result"
    },
    {
     "data": {
      "image/png": "[encoded data removed]",
      "text/plain": [
       "<Figure size 640x480 with 2 Axes>"
      ]
     },
     "metadata": {},
     "output_type": "display_data"
    }
   ],
   "source": [
    "bag = BaggingClassifier(random_state=42)\n",
    "\n",
    "model_trials(bag, 'Bagging')"
   ]
  },
  {
   "cell_type": "markdown",
   "metadata": {},
   "source": [
    "### Analysis\n"
   ]
  },
  {
   "cell_type": "markdown",
   "metadata": {},
   "source": [
    "--- \n",
    "\n",
    "## Ada Boost Classifier"
   ]
  },
  {
   "cell_type": "code",
   "execution_count": 13,
   "metadata": {},
   "outputs": [
    {
     "name": "stdout",
     "output_type": "stream",
     "text": [
      "AdaBoost\n",
      "Training Score: 0.7216\n",
      "Testing Score: 0.7045 \n",
      "\n",
      "Accuracy: 0.7045\n",
      "Specificity: 0.5715\n",
      "Precision: 0.7326\n",
      "Recall: 0.7944\n",
      "F1 Score: 0.7623 \n",
      "\n",
      "Best accuracy rate confusion matrix:\n"
     ]
    },
    {
     "data": {
      "text/plain": [
       "<sklearn.metrics._plot.confusion_matrix.ConfusionMatrixDisplay at 0x1347f2640>"
      ]
     },
     "execution_count": 13,
     "metadata": {},
     "output_type": "execute_result"
    },
    {
     "data": {
      "image/png": "[encoded data removed]",
      "text/plain": [
       "<Figure size 640x480 with 2 Axes>"
      ]
     },
     "metadata": {},
     "output_type": "display_data"
    }
   ],
   "source": [
    "ada = AdaBoostClassifier(random_state=42)\n",
    "\n",
    "model_trials(ada, 'AdaBoost')"
   ]
  },
  {
   "cell_type": "markdown",
   "metadata": {},
   "source": [
    "### Analysis\n"
   ]
  },
  {
   "cell_type": "markdown",
   "metadata": {},
   "source": [
    "---\n",
    "\n",
    "## Ada Boost Classifier with Logistic Regression"
   ]
  },
  {
   "cell_type": "code",
   "execution_count": 14,
   "metadata": {},
   "outputs": [
    {
     "name": "stdout",
     "output_type": "stream",
     "text": [
      "AdaBoost w/ LogReg\n",
      "Training Score: 0.7216\n",
      "Testing Score: 0.7045 \n",
      "\n",
      "Accuracy: 0.7045\n",
      "Specificity: 0.5715\n",
      "Precision: 0.7326\n",
      "Recall: 0.7944\n",
      "F1 Score: 0.7623 \n",
      "\n",
      "Best accuracy rate confusion matrix:\n"
     ]
    },
    {
     "data": {
      "text/plain": [
       "<sklearn.metrics._plot.confusion_matrix.ConfusionMatrixDisplay at 0x144a350a0>"
      ]
     },
     "execution_count": 14,
     "metadata": {},
     "output_type": "execute_result"
    },
    {
     "data": {
      "image/png": "[encoded data removed]",
      "text/plain": [
       "<Figure size 640x480 with 2 Axes>"
      ]
     },
     "metadata": {},
     "output_type": "display_data"
    }
   ],
   "source": [
    "ada_lr = AdaBoostClassifier(base_estimator=LogisticRegression(), random_state=42)\n",
    "\n",
    "model_trials(ada, 'AdaBoost w/ LogReg')"
   ]
  },
  {
   "cell_type": "markdown",
   "metadata": {},
   "source": [
    "### Analysis\n"
   ]
  },
  {
   "cell_type": "markdown",
   "metadata": {},
   "source": [
    "---\n",
    "\n",
    "## Gradient Boosting Classifier"
   ]
  },
  {
   "cell_type": "code",
   "execution_count": 15,
   "metadata": {},
   "outputs": [
    {
     "name": "stdout",
     "output_type": "stream",
     "text": [
      "Gradient Boosting\n",
      "Training Score: 0.739\n",
      "Testing Score: 0.7147 \n",
      "\n",
      "Accuracy: 0.7147\n",
      "Specificity: 0.5674\n",
      "Precision: 0.7356\n",
      "Recall: 0.8143\n",
      "F1 Score: 0.773 \n",
      "\n",
      "Best accuracy rate confusion matrix:\n"
     ]
    },
    {
     "data": {
      "text/plain": [
       "<sklearn.metrics._plot.confusion_matrix.ConfusionMatrixDisplay at 0x144be9e20>"
      ]
     },
     "execution_count": 15,
     "metadata": {},
     "output_type": "execute_result"
    },
    {
     "data": {
      "image/png": "[encoded data removed]",
      "text/plain": [
       "<Figure size 640x480 with 2 Axes>"
      ]
     },
     "metadata": {},
     "output_type": "display_data"
    }
   ],
   "source": [
    "gboost = GradientBoostingClassifier(random_state=42)\n",
    "\n",
    "model_trials(gboost, 'Gradient Boosting')"
   ]
  },
  {
   "cell_type": "markdown",
   "metadata": {},
   "source": [
    "### Analysis\n"
   ]
  },
  {
   "cell_type": "markdown",
   "metadata": {},
   "source": [
    "---\n",
    "## Model Evaluation"
   ]
  },
  {
   "cell_type": "code",
   "execution_count": 16,
   "metadata": {},
   "outputs": [
    {
     "data": {
      "text/html": [
       "<div>\n",
       "<style scoped>\n",
       "    .dataframe tbody tr th:only-of-type {\n",
       "        vertical-align: middle;\n",
       "    }\n",
       "\n",
       "    .dataframe tbody tr th {\n",
       "        vertical-align: top;\n",
       "    }\n",
       "\n",
       "    .dataframe thead th {\n",
       "        text-align: right;\n",
       "    }\n",
       "</style>\n",
       "<table border=\"1\" class=\"dataframe\">\n",
       "  <thead>\n",
       "    <tr style=\"text-align: right;\">\n",
       "      <th></th>\n",
       "      <th>model_used</th>\n",
       "      <th>train_score</th>\n",
       "      <th>test_score</th>\n",
       "      <th>accuracy</th>\n",
       "      <th>specificity</th>\n",
       "      <th>precision</th>\n",
       "      <th>recall</th>\n",
       "      <th>f1 score</th>\n",
       "      <th>true_neg</th>\n",
       "      <th>false_pos</th>\n",
       "      <th>false_neg</th>\n",
       "      <th>true_pos</th>\n",
       "    </tr>\n",
       "  </thead>\n",
       "  <tbody>\n",
       "    <tr>\n",
       "      <th>0</th>\n",
       "      <td>Logistic Regression</td>\n",
       "      <td>0.709672</td>\n",
       "      <td>0.696480</td>\n",
       "      <td>0.696480</td>\n",
       "      <td>0.521805</td>\n",
       "      <td>0.715707</td>\n",
       "      <td>0.814688</td>\n",
       "      <td>0.761996</td>\n",
       "      <td>1029</td>\n",
       "      <td>943</td>\n",
       "      <td>540</td>\n",
       "      <td>2374</td>\n",
       "    </tr>\n",
       "    <tr>\n",
       "      <th>1</th>\n",
       "      <td>Multinomial Naive Bayes</td>\n",
       "      <td>0.611771</td>\n",
       "      <td>0.608064</td>\n",
       "      <td>0.608064</td>\n",
       "      <td>0.425456</td>\n",
       "      <td>0.652986</td>\n",
       "      <td>0.731640</td>\n",
       "      <td>0.690079</td>\n",
       "      <td>839</td>\n",
       "      <td>1133</td>\n",
       "      <td>782</td>\n",
       "      <td>2132</td>\n",
       "    </tr>\n",
       "    <tr>\n",
       "      <th>2</th>\n",
       "      <td>KNN</td>\n",
       "      <td>0.769550</td>\n",
       "      <td>0.650225</td>\n",
       "      <td>0.650225</td>\n",
       "      <td>0.534483</td>\n",
       "      <td>0.698126</td>\n",
       "      <td>0.728552</td>\n",
       "      <td>0.713014</td>\n",
       "      <td>1054</td>\n",
       "      <td>918</td>\n",
       "      <td>791</td>\n",
       "      <td>2123</td>\n",
       "    </tr>\n",
       "    <tr>\n",
       "      <th>3</th>\n",
       "      <td>Decision Tree</td>\n",
       "      <td>1.000000</td>\n",
       "      <td>0.623005</td>\n",
       "      <td>0.623005</td>\n",
       "      <td>0.553753</td>\n",
       "      <td>0.689266</td>\n",
       "      <td>0.669870</td>\n",
       "      <td>0.679429</td>\n",
       "      <td>1092</td>\n",
       "      <td>880</td>\n",
       "      <td>962</td>\n",
       "      <td>1952</td>\n",
       "    </tr>\n",
       "    <tr>\n",
       "      <th>4</th>\n",
       "      <td>Random Forest</td>\n",
       "      <td>1.000000</td>\n",
       "      <td>0.706304</td>\n",
       "      <td>0.706304</td>\n",
       "      <td>0.551724</td>\n",
       "      <td>0.727749</td>\n",
       "      <td>0.810913</td>\n",
       "      <td>0.767083</td>\n",
       "      <td>1088</td>\n",
       "      <td>884</td>\n",
       "      <td>551</td>\n",
       "      <td>2363</td>\n",
       "    </tr>\n",
       "    <tr>\n",
       "      <th>5</th>\n",
       "      <td>Bagging</td>\n",
       "      <td>0.986029</td>\n",
       "      <td>0.668236</td>\n",
       "      <td>0.668236</td>\n",
       "      <td>0.604462</td>\n",
       "      <td>0.726604</td>\n",
       "      <td>0.711393</td>\n",
       "      <td>0.718918</td>\n",
       "      <td>1192</td>\n",
       "      <td>780</td>\n",
       "      <td>841</td>\n",
       "      <td>2073</td>\n",
       "    </tr>\n",
       "    <tr>\n",
       "      <th>6</th>\n",
       "      <td>AdaBoost</td>\n",
       "      <td>0.721648</td>\n",
       "      <td>0.704462</td>\n",
       "      <td>0.704462</td>\n",
       "      <td>0.571501</td>\n",
       "      <td>0.732595</td>\n",
       "      <td>0.794441</td>\n",
       "      <td>0.762265</td>\n",
       "      <td>1127</td>\n",
       "      <td>845</td>\n",
       "      <td>599</td>\n",
       "      <td>2315</td>\n",
       "    </tr>\n",
       "    <tr>\n",
       "      <th>7</th>\n",
       "      <td>AdaBoost w/ LogReg</td>\n",
       "      <td>0.721648</td>\n",
       "      <td>0.704462</td>\n",
       "      <td>0.704462</td>\n",
       "      <td>0.571501</td>\n",
       "      <td>0.732595</td>\n",
       "      <td>0.794441</td>\n",
       "      <td>0.762265</td>\n",
       "      <td>1127</td>\n",
       "      <td>845</td>\n",
       "      <td>599</td>\n",
       "      <td>2315</td>\n",
       "    </tr>\n",
       "    <tr>\n",
       "      <th>8</th>\n",
       "      <td>Gradient Boosting</td>\n",
       "      <td>0.739048</td>\n",
       "      <td>0.714695</td>\n",
       "      <td>0.714695</td>\n",
       "      <td>0.567444</td>\n",
       "      <td>0.735586</td>\n",
       "      <td>0.814345</td>\n",
       "      <td>0.772964</td>\n",
       "      <td>1119</td>\n",
       "      <td>853</td>\n",
       "      <td>541</td>\n",
       "      <td>2373</td>\n",
       "    </tr>\n",
       "  </tbody>\n",
       "</table>\n",
       "</div>"
      ],
      "text/plain": [
       "                model_used  train_score  test_score  accuracy  specificity  \\\n",
       "0      Logistic Regression     0.709672    0.696480  0.696480     0.521805   \n",
       "1  Multinomial Naive Bayes     0.611771    0.608064  0.608064     0.425456   \n",
       "2                      KNN     0.769550    0.650225  0.650225     0.534483   \n",
       "3            Decision Tree     1.000000    0.623005  0.623005     0.553753   \n",
       "4            Random Forest     1.000000    0.706304  0.706304     0.551724   \n",
       "5                  Bagging     0.986029    0.668236  0.668236     0.604462   \n",
       "6                 AdaBoost     0.721648    0.704462  0.704462     0.571501   \n",
       "7       AdaBoost w/ LogReg     0.721648    0.704462  0.704462     0.571501   \n",
       "8        Gradient Boosting     0.739048    0.714695  0.714695     0.567444   \n",
       "\n",
       "   precision    recall  f1 score  true_neg  false_pos  false_neg  true_pos  \n",
       "0   0.715707  0.814688  0.761996      1029        943        540      2374  \n",
       "1   0.652986  0.731640  0.690079       839       1133        782      2132  \n",
       "2   0.698126  0.728552  0.713014      1054        918        791      2123  \n",
       "3   0.689266  0.669870  0.679429      1092        880        962      1952  \n",
       "4   0.727749  0.810913  0.767083      1088        884        551      2363  \n",
       "5   0.726604  0.711393  0.718918      1192        780        841      2073  \n",
       "6   0.732595  0.794441  0.762265      1127        845        599      2315  \n",
       "7   0.732595  0.794441  0.762265      1127        845        599      2315  \n",
       "8   0.735586  0.814345  0.772964      1119        853        541      2373  "
      ]
     },
     "execution_count": 16,
     "metadata": {},
     "output_type": "execute_result"
    }
   ],
   "source": [
    "model_trials_df"
   ]
  },
  {
   "cell_type": "markdown",
   "metadata": {},
   "source": [
    "** Rewrite, add points\n",
    "\n",
    "- Multinomial Naive Bayes had lowest accuracy and specificity. Appeared to struggle with overpredicting recidivism - only model with greater than 1,000 false positives.\n",
    "- Gradient Boost had the best overall accuracy, but lost to Bagging on specificity.\n",
    "- Logistic Regression and Gradient Boost had significantly less false negative predictions than most other models, meaning these two are better at not classifying non-recidivism in true recidivism observations."
   ]
  },
  {
   "cell_type": "markdown",
   "metadata": {},
   "source": [
    "---\n",
    "## Feature Importance"
   ]
  },
  {
   "cell_type": "code",
   "execution_count": 17,
   "metadata": {},
   "outputs": [
    {
     "data": {
      "text/html": [
       "<style>#sk-container-id-1 {color: black;background-color: white;}#sk-container-id-1 pre{padding: 0;}#sk-container-id-1 div.sk-toggleable {background-color: white;}#sk-container-id-1 label.sk-toggleable__label {cursor: pointer;display: block;width: 100%;margin-bottom: 0;padding: 0.3em;box-sizing: border-box;text-align: center;}#sk-container-id-1 label.sk-toggleable__label-arrow:before {content: \"▸\";float: left;margin-right: 0.25em;color: #696969;}#sk-container-id-1 label.sk-toggleable__label-arrow:hover:before {color: black;}#sk-container-id-1 div.sk-estimator:hover label.sk-toggleable__label-arrow:before {color: black;}#sk-container-id-1 div.sk-toggleable__content {max-height: 0;max-width: 0;overflow: hidden;text-align: left;background-color: #f0f8ff;}#sk-container-id-1 div.sk-toggleable__content pre {margin: 0.2em;color: black;border-radius: 0.25em;background-color: #f0f8ff;}#sk-container-id-1 input.sk-toggleable__control:checked~div.sk-toggleable__content {max-height: 200px;max-width: 100%;overflow: auto;}#sk-container-id-1 input.sk-toggleable__control:checked~label.sk-toggleable__label-arrow:before {content: \"▾\";}#sk-container-id-1 div.sk-estimator input.sk-toggleable__control:checked~label.sk-toggleable__label {background-color: #d4ebff;}#sk-container-id-1 div.sk-label input.sk-toggleable__control:checked~label.sk-toggleable__label {background-color: #d4ebff;}#sk-container-id-1 input.sk-hidden--visually {border: 0;clip: rect(1px 1px 1px 1px);clip: rect(1px, 1px, 1px, 1px);height: 1px;margin: -1px;overflow: hidden;padding: 0;position: absolute;width: 1px;}#sk-container-id-1 div.sk-estimator {font-family: monospace;background-color: #f0f8ff;border: 1px dotted black;border-radius: 0.25em;box-sizing: border-box;margin-bottom: 0.5em;}#sk-container-id-1 div.sk-estimator:hover {background-color: #d4ebff;}#sk-container-id-1 div.sk-parallel-item::after {content: \"\";width: 100%;border-bottom: 1px solid gray;flex-grow: 1;}#sk-container-id-1 div.sk-label:hover label.sk-toggleable__label {background-color: #d4ebff;}#sk-container-id-1 div.sk-serial::before {content: \"\";position: absolute;border-left: 1px solid gray;box-sizing: border-box;top: 0;bottom: 0;left: 50%;z-index: 0;}#sk-container-id-1 div.sk-serial {display: flex;flex-direction: column;align-items: center;background-color: white;padding-right: 0.2em;padding-left: 0.2em;position: relative;}#sk-container-id-1 div.sk-item {position: relative;z-index: 1;}#sk-container-id-1 div.sk-parallel {display: flex;align-items: stretch;justify-content: center;background-color: white;position: relative;}#sk-container-id-1 div.sk-item::before, #sk-container-id-1 div.sk-parallel-item::before {content: \"\";position: absolute;border-left: 1px solid gray;box-sizing: border-box;top: 0;bottom: 0;left: 50%;z-index: -1;}#sk-container-id-1 div.sk-parallel-item {display: flex;flex-direction: column;z-index: 1;position: relative;background-color: white;}#sk-container-id-1 div.sk-parallel-item:first-child::after {align-self: flex-end;width: 50%;}#sk-container-id-1 div.sk-parallel-item:last-child::after {align-self: flex-start;width: 50%;}#sk-container-id-1 div.sk-parallel-item:only-child::after {width: 0;}#sk-container-id-1 div.sk-dashed-wrapped {border: 1px dashed gray;margin: 0 0.4em 0.5em 0.4em;box-sizing: border-box;padding-bottom: 0.4em;background-color: white;}#sk-container-id-1 div.sk-label label {font-family: monospace;font-weight: bold;display: inline-block;line-height: 1.2em;}#sk-container-id-1 div.sk-label-container {text-align: center;}#sk-container-id-1 div.sk-container {/* jupyter's `normalize.less` sets `[hidden] { display: none; }` but bootstrap.min.css set `[hidden] { display: none !important; }` so we also need the `!important` here to be able to override the default hidden behavior on the sphinx rendered scikit-learn.org. See: https://github.com/scikit-learn/scikit-learn/issues/21755 */display: inline-block !important;position: relative;}#sk-container-id-1 div.sk-text-repr-fallback {display: none;}</style><div id=\"sk-container-id-1\" class=\"sk-top-container\"><div class=\"sk-text-repr-fallback\"><pre>LogisticRegression(max_iter=5000, solver=&#x27;saga&#x27;)</pre><b>In a Jupyter environment, please rerun this cell to show the HTML representation or trust the notebook. <br />On GitHub, the HTML representation is unable to render, please try loading this page with nbviewer.org.</b></div><div class=\"sk-container\" hidden><div class=\"sk-item\"><div class=\"sk-estimator sk-toggleable\"><input class=\"sk-toggleable__control sk-hidden--visually\" id=\"sk-estimator-id-1\" type=\"checkbox\" checked><label for=\"sk-estimator-id-1\" class=\"sk-toggleable__label sk-toggleable__label-arrow\">LogisticRegression</label><div class=\"sk-toggleable__content\"><pre>LogisticRegression(max_iter=5000, solver=&#x27;saga&#x27;)</pre></div></div></div></div></div>"
      ],
      "text/plain": [
       "LogisticRegression(max_iter=5000, solver='saga')"
      ]
     },
     "execution_count": 17,
     "metadata": {},
     "output_type": "execute_result"
    }
   ],
   "source": [
    "X = ga_dummy.drop(columns='recidivism_within_3years')\n",
    "y = ga_dummy['recidivism_within_3years']\n",
    "\n",
    "log_reg = LogisticRegression(solver='saga', max_iter = 5000)\n",
    "\n",
    "log_reg.fit(X, y)"
   ]
  },
  {
   "cell_type": "code",
   "execution_count": 18,
   "metadata": {},
   "outputs": [
    {
     "data": {
      "text/html": [
       "<div>\n",
       "<style scoped>\n",
       "    .dataframe tbody tr th:only-of-type {\n",
       "        vertical-align: middle;\n",
       "    }\n",
       "\n",
       "    .dataframe tbody tr th {\n",
       "        vertical-align: top;\n",
       "    }\n",
       "\n",
       "    .dataframe thead th {\n",
       "        text-align: right;\n",
       "    }\n",
       "</style>\n",
       "<table border=\"1\" class=\"dataframe\">\n",
       "  <thead>\n",
       "    <tr style=\"text-align: right;\">\n",
       "      <th></th>\n",
       "      <th>feature</th>\n",
       "      <th>coef</th>\n",
       "    </tr>\n",
       "  </thead>\n",
       "  <tbody>\n",
       "    <tr>\n",
       "      <th>1</th>\n",
       "      <td>gang_affiliated</td>\n",
       "      <td>2.011773</td>\n",
       "    </tr>\n",
       "    <tr>\n",
       "      <th>28</th>\n",
       "      <td>age_at_release_18-22</td>\n",
       "      <td>1.485437</td>\n",
       "    </tr>\n",
       "    <tr>\n",
       "      <th>29</th>\n",
       "      <td>age_at_release_23-27</td>\n",
       "      <td>1.348287</td>\n",
       "    </tr>\n",
       "    <tr>\n",
       "      <th>0</th>\n",
       "      <td>gender_male</td>\n",
       "      <td>1.345021</td>\n",
       "    </tr>\n",
       "    <tr>\n",
       "      <th>12</th>\n",
       "      <td>condition_mh_sa</td>\n",
       "      <td>1.287967</td>\n",
       "    </tr>\n",
       "    <tr>\n",
       "      <th>23</th>\n",
       "      <td>drugtests_thc_positive</td>\n",
       "      <td>1.259155</td>\n",
       "    </tr>\n",
       "    <tr>\n",
       "      <th>16</th>\n",
       "      <td>violations_instruction</td>\n",
       "      <td>1.252139</td>\n",
       "    </tr>\n",
       "    <tr>\n",
       "      <th>15</th>\n",
       "      <td>violations_electronicmonitoring</td>\n",
       "      <td>1.182441</td>\n",
       "    </tr>\n",
       "    <tr>\n",
       "      <th>21</th>\n",
       "      <td>residence_changes</td>\n",
       "      <td>1.148551</td>\n",
       "    </tr>\n",
       "    <tr>\n",
       "      <th>9</th>\n",
       "      <td>prior_arrest_episodes_ppviolationcharges</td>\n",
       "      <td>1.105204</td>\n",
       "    </tr>\n",
       "    <tr>\n",
       "      <th>25</th>\n",
       "      <td>drugtests_meth_positive</td>\n",
       "      <td>1.091861</td>\n",
       "    </tr>\n",
       "    <tr>\n",
       "      <th>40</th>\n",
       "      <td>prison_years_less than 1 year</td>\n",
       "      <td>1.082556</td>\n",
       "    </tr>\n",
       "    <tr>\n",
       "      <th>7</th>\n",
       "      <td>prior_arrest_episodes_property</td>\n",
       "      <td>1.080267</td>\n",
       "    </tr>\n",
       "    <tr>\n",
       "      <th>10</th>\n",
       "      <td>prior_arrest_episodes_dvcharges</td>\n",
       "      <td>1.079260</td>\n",
       "    </tr>\n",
       "    <tr>\n",
       "      <th>2</th>\n",
       "      <td>supervision_risk_score_first</td>\n",
       "      <td>1.068447</td>\n",
       "    </tr>\n",
       "    <tr>\n",
       "      <th>5</th>\n",
       "      <td>prior_arrest_episodes_misd</td>\n",
       "      <td>1.063890</td>\n",
       "    </tr>\n",
       "    <tr>\n",
       "      <th>4</th>\n",
       "      <td>prior_arrest_episodes_felony</td>\n",
       "      <td>1.047268</td>\n",
       "    </tr>\n",
       "    <tr>\n",
       "      <th>30</th>\n",
       "      <td>age_at_release_28-32</td>\n",
       "      <td>1.039810</td>\n",
       "    </tr>\n",
       "    <tr>\n",
       "      <th>6</th>\n",
       "      <td>prior_arrest_episodes_violent</td>\n",
       "      <td>1.029383</td>\n",
       "    </tr>\n",
       "    <tr>\n",
       "      <th>24</th>\n",
       "      <td>drugtests_cocaine_positive</td>\n",
       "      <td>1.028106</td>\n",
       "    </tr>\n",
       "    <tr>\n",
       "      <th>26</th>\n",
       "      <td>drugtests_other_positive</td>\n",
       "      <td>1.026330</td>\n",
       "    </tr>\n",
       "    <tr>\n",
       "      <th>11</th>\n",
       "      <td>prior_arrest_episodes_guncharges</td>\n",
       "      <td>1.023364</td>\n",
       "    </tr>\n",
       "    <tr>\n",
       "      <th>17</th>\n",
       "      <td>violations_failtoreport</td>\n",
       "      <td>1.020714</td>\n",
       "    </tr>\n",
       "    <tr>\n",
       "      <th>14</th>\n",
       "      <td>condition_other</td>\n",
       "      <td>1.011984</td>\n",
       "    </tr>\n",
       "    <tr>\n",
       "      <th>8</th>\n",
       "      <td>prior_arrest_episodes_drug</td>\n",
       "      <td>1.002028</td>\n",
       "    </tr>\n",
       "    <tr>\n",
       "      <th>22</th>\n",
       "      <td>avg_days_per_drugtest</td>\n",
       "      <td>0.999650</td>\n",
       "    </tr>\n",
       "    <tr>\n",
       "      <th>18</th>\n",
       "      <td>violations_movewithoutpermission</td>\n",
       "      <td>0.986705</td>\n",
       "    </tr>\n",
       "    <tr>\n",
       "      <th>3</th>\n",
       "      <td>dependents</td>\n",
       "      <td>0.986548</td>\n",
       "    </tr>\n",
       "    <tr>\n",
       "      <th>36</th>\n",
       "      <td>education_level_high school diploma</td>\n",
       "      <td>0.973693</td>\n",
       "    </tr>\n",
       "    <tr>\n",
       "      <th>20</th>\n",
       "      <td>program_attendances</td>\n",
       "      <td>0.965728</td>\n",
       "    </tr>\n",
       "    <tr>\n",
       "      <th>13</th>\n",
       "      <td>condition_cog_ed</td>\n",
       "      <td>0.954129</td>\n",
       "    </tr>\n",
       "    <tr>\n",
       "      <th>38</th>\n",
       "      <td>prison_years_1-2 years</td>\n",
       "      <td>0.913589</td>\n",
       "    </tr>\n",
       "    <tr>\n",
       "      <th>19</th>\n",
       "      <td>delinquency_reports</td>\n",
       "      <td>0.893714</td>\n",
       "    </tr>\n",
       "    <tr>\n",
       "      <th>31</th>\n",
       "      <td>age_at_release_33-37</td>\n",
       "      <td>0.892412</td>\n",
       "    </tr>\n",
       "    <tr>\n",
       "      <th>41</th>\n",
       "      <td>prison_years_more than 3 years</td>\n",
       "      <td>0.841980</td>\n",
       "    </tr>\n",
       "    <tr>\n",
       "      <th>37</th>\n",
       "      <td>education_level_less than hs diploma</td>\n",
       "      <td>0.841496</td>\n",
       "    </tr>\n",
       "    <tr>\n",
       "      <th>32</th>\n",
       "      <td>age_at_release_38-42</td>\n",
       "      <td>0.825293</td>\n",
       "    </tr>\n",
       "    <tr>\n",
       "      <th>35</th>\n",
       "      <td>education_level_at least some college</td>\n",
       "      <td>0.784385</td>\n",
       "    </tr>\n",
       "    <tr>\n",
       "      <th>39</th>\n",
       "      <td>prison_years_greater than 2 to 3 years</td>\n",
       "      <td>0.771793</td>\n",
       "    </tr>\n",
       "    <tr>\n",
       "      <th>33</th>\n",
       "      <td>age_at_release_43-47</td>\n",
       "      <td>0.742764</td>\n",
       "    </tr>\n",
       "    <tr>\n",
       "      <th>34</th>\n",
       "      <td>age_at_release_48 or older</td>\n",
       "      <td>0.564143</td>\n",
       "    </tr>\n",
       "    <tr>\n",
       "      <th>27</th>\n",
       "      <td>percent_days_employed</td>\n",
       "      <td>0.294063</td>\n",
       "    </tr>\n",
       "  </tbody>\n",
       "</table>\n",
       "</div>"
      ],
      "text/plain": [
       "                                     feature      coef\n",
       "1                            gang_affiliated  2.011773\n",
       "28                      age_at_release_18-22  1.485437\n",
       "29                      age_at_release_23-27  1.348287\n",
       "0                                gender_male  1.345021\n",
       "12                           condition_mh_sa  1.287967\n",
       "23                    drugtests_thc_positive  1.259155\n",
       "16                    violations_instruction  1.252139\n",
       "15           violations_electronicmonitoring  1.182441\n",
       "21                         residence_changes  1.148551\n",
       "9   prior_arrest_episodes_ppviolationcharges  1.105204\n",
       "25                   drugtests_meth_positive  1.091861\n",
       "40             prison_years_less than 1 year  1.082556\n",
       "7             prior_arrest_episodes_property  1.080267\n",
       "10           prior_arrest_episodes_dvcharges  1.079260\n",
       "2               supervision_risk_score_first  1.068447\n",
       "5                 prior_arrest_episodes_misd  1.063890\n",
       "4               prior_arrest_episodes_felony  1.047268\n",
       "30                      age_at_release_28-32  1.039810\n",
       "6              prior_arrest_episodes_violent  1.029383\n",
       "24                drugtests_cocaine_positive  1.028106\n",
       "26                  drugtests_other_positive  1.026330\n",
       "11          prior_arrest_episodes_guncharges  1.023364\n",
       "17                   violations_failtoreport  1.020714\n",
       "14                           condition_other  1.011984\n",
       "8                 prior_arrest_episodes_drug  1.002028\n",
       "22                     avg_days_per_drugtest  0.999650\n",
       "18          violations_movewithoutpermission  0.986705\n",
       "3                                 dependents  0.986548\n",
       "36       education_level_high school diploma  0.973693\n",
       "20                       program_attendances  0.965728\n",
       "13                          condition_cog_ed  0.954129\n",
       "38                    prison_years_1-2 years  0.913589\n",
       "19                       delinquency_reports  0.893714\n",
       "31                      age_at_release_33-37  0.892412\n",
       "41            prison_years_more than 3 years  0.841980\n",
       "37      education_level_less than hs diploma  0.841496\n",
       "32                      age_at_release_38-42  0.825293\n",
       "35     education_level_at least some college  0.784385\n",
       "39    prison_years_greater than 2 to 3 years  0.771793\n",
       "33                      age_at_release_43-47  0.742764\n",
       "34                age_at_release_48 or older  0.564143\n",
       "27                     percent_days_employed  0.294063"
      ]
     },
     "execution_count": 18,
     "metadata": {},
     "output_type": "execute_result"
    }
   ],
   "source": [
    "fi = log_reg.coef_[0]\n",
    "fi_zipped = list(zip(X.columns, fi))\n",
    "\n",
    "feats = pd.DataFrame(columns=['feature', 'coef'])\n",
    "\n",
    "for i in list(range(len(fi_zipped))):\n",
    "    feats.loc[i] = [fi_zipped[i][0], np.exp(fi_zipped[i][1])]\n",
    "\n",
    "feats.sort_values(by='coef', ascending=False)"
   ]
  },
  {
   "cell_type": "markdown",
   "metadata": {},
   "source": [
    "** Rewrite \n",
    "\n",
    "### Analysis\n",
    "- Those who are gang affiliated are twice as likely to recidivate than those who are not.\n",
    "- Men are 34% more likely to recidivate than women.\n",
    "- Regarding percent of days employed during parole, x% of observations worked 100% of the days and x% did not work at all. Those who did not work at all were 71% more likely to recidivate than those who worked all days."
   ]
  },
  {
   "cell_type": "markdown",
   "metadata": {},
   "source": [
    "---\n",
    "## Model Tuning"
   ]
  },
  {
   "cell_type": "code",
   "execution_count": 19,
   "metadata": {},
   "outputs": [
    {
     "data": {
      "text/html": [
       "<div>\n",
       "<style scoped>\n",
       "    .dataframe tbody tr th:only-of-type {\n",
       "        vertical-align: middle;\n",
       "    }\n",
       "\n",
       "    .dataframe tbody tr th {\n",
       "        vertical-align: top;\n",
       "    }\n",
       "\n",
       "    .dataframe thead th {\n",
       "        text-align: right;\n",
       "    }\n",
       "</style>\n",
       "<table border=\"1\" class=\"dataframe\">\n",
       "  <thead>\n",
       "    <tr style=\"text-align: right;\">\n",
       "      <th></th>\n",
       "      <th>model_used</th>\n",
       "      <th>train_score</th>\n",
       "      <th>test_score</th>\n",
       "      <th>accuracy</th>\n",
       "      <th>specificity</th>\n",
       "      <th>precision</th>\n",
       "      <th>recall</th>\n",
       "      <th>f1 score</th>\n",
       "      <th>true_neg</th>\n",
       "      <th>false_pos</th>\n",
       "      <th>false_neg</th>\n",
       "      <th>true_pos</th>\n",
       "    </tr>\n",
       "  </thead>\n",
       "  <tbody>\n",
       "    <tr>\n",
       "      <th>8</th>\n",
       "      <td>Gradient Boosting</td>\n",
       "      <td>0.739048</td>\n",
       "      <td>0.714695</td>\n",
       "      <td>0.714695</td>\n",
       "      <td>0.567444</td>\n",
       "      <td>0.735586</td>\n",
       "      <td>0.814345</td>\n",
       "      <td>0.772964</td>\n",
       "      <td>1119</td>\n",
       "      <td>853</td>\n",
       "      <td>541</td>\n",
       "      <td>2373</td>\n",
       "    </tr>\n",
       "    <tr>\n",
       "      <th>4</th>\n",
       "      <td>Random Forest</td>\n",
       "      <td>1.000000</td>\n",
       "      <td>0.706304</td>\n",
       "      <td>0.706304</td>\n",
       "      <td>0.551724</td>\n",
       "      <td>0.727749</td>\n",
       "      <td>0.810913</td>\n",
       "      <td>0.767083</td>\n",
       "      <td>1088</td>\n",
       "      <td>884</td>\n",
       "      <td>551</td>\n",
       "      <td>2363</td>\n",
       "    </tr>\n",
       "    <tr>\n",
       "      <th>6</th>\n",
       "      <td>AdaBoost</td>\n",
       "      <td>0.721648</td>\n",
       "      <td>0.704462</td>\n",
       "      <td>0.704462</td>\n",
       "      <td>0.571501</td>\n",
       "      <td>0.732595</td>\n",
       "      <td>0.794441</td>\n",
       "      <td>0.762265</td>\n",
       "      <td>1127</td>\n",
       "      <td>845</td>\n",
       "      <td>599</td>\n",
       "      <td>2315</td>\n",
       "    </tr>\n",
       "    <tr>\n",
       "      <th>7</th>\n",
       "      <td>AdaBoost w/ LogReg</td>\n",
       "      <td>0.721648</td>\n",
       "      <td>0.704462</td>\n",
       "      <td>0.704462</td>\n",
       "      <td>0.571501</td>\n",
       "      <td>0.732595</td>\n",
       "      <td>0.794441</td>\n",
       "      <td>0.762265</td>\n",
       "      <td>1127</td>\n",
       "      <td>845</td>\n",
       "      <td>599</td>\n",
       "      <td>2315</td>\n",
       "    </tr>\n",
       "    <tr>\n",
       "      <th>0</th>\n",
       "      <td>Logistic Regression</td>\n",
       "      <td>0.709672</td>\n",
       "      <td>0.696480</td>\n",
       "      <td>0.696480</td>\n",
       "      <td>0.521805</td>\n",
       "      <td>0.715707</td>\n",
       "      <td>0.814688</td>\n",
       "      <td>0.761996</td>\n",
       "      <td>1029</td>\n",
       "      <td>943</td>\n",
       "      <td>540</td>\n",
       "      <td>2374</td>\n",
       "    </tr>\n",
       "    <tr>\n",
       "      <th>5</th>\n",
       "      <td>Bagging</td>\n",
       "      <td>0.986029</td>\n",
       "      <td>0.668236</td>\n",
       "      <td>0.668236</td>\n",
       "      <td>0.604462</td>\n",
       "      <td>0.726604</td>\n",
       "      <td>0.711393</td>\n",
       "      <td>0.718918</td>\n",
       "      <td>1192</td>\n",
       "      <td>780</td>\n",
       "      <td>841</td>\n",
       "      <td>2073</td>\n",
       "    </tr>\n",
       "    <tr>\n",
       "      <th>2</th>\n",
       "      <td>KNN</td>\n",
       "      <td>0.769550</td>\n",
       "      <td>0.650225</td>\n",
       "      <td>0.650225</td>\n",
       "      <td>0.534483</td>\n",
       "      <td>0.698126</td>\n",
       "      <td>0.728552</td>\n",
       "      <td>0.713014</td>\n",
       "      <td>1054</td>\n",
       "      <td>918</td>\n",
       "      <td>791</td>\n",
       "      <td>2123</td>\n",
       "    </tr>\n",
       "    <tr>\n",
       "      <th>3</th>\n",
       "      <td>Decision Tree</td>\n",
       "      <td>1.000000</td>\n",
       "      <td>0.623005</td>\n",
       "      <td>0.623005</td>\n",
       "      <td>0.553753</td>\n",
       "      <td>0.689266</td>\n",
       "      <td>0.669870</td>\n",
       "      <td>0.679429</td>\n",
       "      <td>1092</td>\n",
       "      <td>880</td>\n",
       "      <td>962</td>\n",
       "      <td>1952</td>\n",
       "    </tr>\n",
       "    <tr>\n",
       "      <th>1</th>\n",
       "      <td>Multinomial Naive Bayes</td>\n",
       "      <td>0.611771</td>\n",
       "      <td>0.608064</td>\n",
       "      <td>0.608064</td>\n",
       "      <td>0.425456</td>\n",
       "      <td>0.652986</td>\n",
       "      <td>0.731640</td>\n",
       "      <td>0.690079</td>\n",
       "      <td>839</td>\n",
       "      <td>1133</td>\n",
       "      <td>782</td>\n",
       "      <td>2132</td>\n",
       "    </tr>\n",
       "  </tbody>\n",
       "</table>\n",
       "</div>"
      ],
      "text/plain": [
       "                model_used  train_score  test_score  accuracy  specificity  \\\n",
       "8        Gradient Boosting     0.739048    0.714695  0.714695     0.567444   \n",
       "4            Random Forest     1.000000    0.706304  0.706304     0.551724   \n",
       "6                 AdaBoost     0.721648    0.704462  0.704462     0.571501   \n",
       "7       AdaBoost w/ LogReg     0.721648    0.704462  0.704462     0.571501   \n",
       "0      Logistic Regression     0.709672    0.696480  0.696480     0.521805   \n",
       "5                  Bagging     0.986029    0.668236  0.668236     0.604462   \n",
       "2                      KNN     0.769550    0.650225  0.650225     0.534483   \n",
       "3            Decision Tree     1.000000    0.623005  0.623005     0.553753   \n",
       "1  Multinomial Naive Bayes     0.611771    0.608064  0.608064     0.425456   \n",
       "\n",
       "   precision    recall  f1 score  true_neg  false_pos  false_neg  true_pos  \n",
       "8   0.735586  0.814345  0.772964      1119        853        541      2373  \n",
       "4   0.727749  0.810913  0.767083      1088        884        551      2363  \n",
       "6   0.732595  0.794441  0.762265      1127        845        599      2315  \n",
       "7   0.732595  0.794441  0.762265      1127        845        599      2315  \n",
       "0   0.715707  0.814688  0.761996      1029        943        540      2374  \n",
       "5   0.726604  0.711393  0.718918      1192        780        841      2073  \n",
       "2   0.698126  0.728552  0.713014      1054        918        791      2123  \n",
       "3   0.689266  0.669870  0.679429      1092        880        962      1952  \n",
       "1   0.652986  0.731640  0.690079       839       1133        782      2132  "
      ]
     },
     "execution_count": 19,
     "metadata": {},
     "output_type": "execute_result"
    }
   ],
   "source": [
    "model_trials_df.sort_values(by='accuracy', ascending=False)"
   ]
  },
  {
   "cell_type": "markdown",
   "metadata": {},
   "source": [
    "---\n",
    "## Building a Function to GridSearch Models"
   ]
  },
  {
   "cell_type": "code",
   "execution_count": 20,
   "metadata": {},
   "outputs": [],
   "source": [
    "model_tuning_df = pd.DataFrame(columns=['model_used', 'train_score', 'test_score', 'accuracy', 'specificity', 'precision', 'recall', 'f1 score',\n",
    "'true_neg', 'false_pos', 'false_neg', 'true_pos', 'best params'])"
   ]
  },
  {
   "cell_type": "code",
   "execution_count": 21,
   "metadata": {},
   "outputs": [],
   "source": [
    "def model_tuning(model, params, model_id):\n",
    "\n",
    "    '''Setting X and y, and fitting the model'''\n",
    "    X = ga_dummy.drop(columns='recidivism_within_3years')\n",
    "    y = ga_dummy['recidivism_within_3years']\n",
    "    X_train, X_test, y_train, y_test = train_test_split(X, y, test_size = 0.2, random_state=42, stratify=y)\n",
    "\n",
    "    '''Baseline calculation for reference in the returned confusion matrix'''\n",
    "    baseline = y.value_counts(normalize=True)[1]\n",
    "\n",
    "    '''Instantiating GridSearch'''\n",
    "    gs = GridSearchCV(model, param_grid=params, n_jobs = -1, verbose = 1, cv = 3)\n",
    "    gs.fit(X_train, y_train)\n",
    "\n",
    "    '''Model Evaluation Values'''\n",
    "    train_score = gs.score(X_train, y_train)\n",
    "    test_score = gs.score(X_test, y_test)\n",
    "    best_params = gs.best_params_\n",
    "    best_estimator = gs.best_estimator_\n",
    "\n",
    "    '''Calculating model classification metrics'''\n",
    "    preds = gs.predict(X_test)\n",
    "    tn, fp, fn, tp = confusion_matrix(y_test, preds).ravel()\n",
    "    acc = (tp + tn) / (tn + fp + tp + fn)\n",
    "    spec = tn / (tn + fp)\n",
    "    prec = tp / (tp + fp)\n",
    "    recall = tp / (tp + fn)\n",
    "    f1 = ((prec * recall) / (prec + recall)) * 2\n",
    "\n",
    "    '''Adding all values to the model_tuning dataframe'''\n",
    "    model_list = [model_id, train_score, test_score, acc, spec, prec, recall, f1, tn, fp, fn, tp, best_params]\n",
    "    model_tuning_df.loc[len(model_tuning_df.index)] = model_list\n",
    "\n",
    "    '''Output will show best parameters, scores and classification metrics'''\n",
    "    print(model_id)\n",
    "    print(f'Best Params: {best_params}')\n",
    "    print(f'Training Score: {round(train_score, 4)}')\n",
    "    print(f'Testing Score: {round(test_score, 4)} \\n')\n",
    "    print(f'Accuracy: {round(acc, 4)}')\n",
    "    print(f'Specificity: {round(spec, 4)}')\n",
    "    print(f'Precision: {round(prec, 4)}')\n",
    "    print(f'Recall: {round(recall, 4)}')\n",
    "    print(f'F1 Score: {round(f1, 4)} \\n')\n",
    "    \n",
    "\n",
    "    '''Returning a confusion matrix for the best-performing model found during gridsearch'''\n",
    "    print('Best accuracy rate confusion matrix:')\n",
    "    if acc > baseline:\n",
    "        return ConfusionMatrixDisplay.from_estimator(best_estimator, X_test, y_test, cmap='viridis', values_format='d');\n",
    "    else: \n",
    "        return ConfusionMatrixDisplay.from_estimator(best_estimator, X_test, y_test, cmap='magma', values_format='d');"
   ]
  },
  {
   "cell_type": "markdown",
   "metadata": {},
   "source": [
    "---\n",
    "## Gradient Boosting Classifier"
   ]
  },
  {
   "cell_type": "code",
   "execution_count": 22,
   "metadata": {},
   "outputs": [
    {
     "name": "stdout",
     "output_type": "stream",
     "text": [
      "Previous scores:\n"
     ]
    },
    {
     "data": {
      "text/html": [
       "<div>\n",
       "<style scoped>\n",
       "    .dataframe tbody tr th:only-of-type {\n",
       "        vertical-align: middle;\n",
       "    }\n",
       "\n",
       "    .dataframe tbody tr th {\n",
       "        vertical-align: top;\n",
       "    }\n",
       "\n",
       "    .dataframe thead th {\n",
       "        text-align: right;\n",
       "    }\n",
       "</style>\n",
       "<table border=\"1\" class=\"dataframe\">\n",
       "  <thead>\n",
       "    <tr style=\"text-align: right;\">\n",
       "      <th></th>\n",
       "      <th>model_used</th>\n",
       "      <th>train_score</th>\n",
       "      <th>test_score</th>\n",
       "      <th>accuracy</th>\n",
       "      <th>specificity</th>\n",
       "      <th>precision</th>\n",
       "      <th>recall</th>\n",
       "      <th>f1 score</th>\n",
       "      <th>true_neg</th>\n",
       "      <th>false_pos</th>\n",
       "      <th>false_neg</th>\n",
       "      <th>true_pos</th>\n",
       "    </tr>\n",
       "  </thead>\n",
       "  <tbody>\n",
       "    <tr>\n",
       "      <th>8</th>\n",
       "      <td>Gradient Boosting</td>\n",
       "      <td>0.739048</td>\n",
       "      <td>0.714695</td>\n",
       "      <td>0.714695</td>\n",
       "      <td>0.567444</td>\n",
       "      <td>0.735586</td>\n",
       "      <td>0.814345</td>\n",
       "      <td>0.772964</td>\n",
       "      <td>1119</td>\n",
       "      <td>853</td>\n",
       "      <td>541</td>\n",
       "      <td>2373</td>\n",
       "    </tr>\n",
       "  </tbody>\n",
       "</table>\n",
       "</div>"
      ],
      "text/plain": [
       "          model_used  train_score  test_score  accuracy  specificity  \\\n",
       "8  Gradient Boosting     0.739048    0.714695  0.714695     0.567444   \n",
       "\n",
       "   precision    recall  f1 score  true_neg  false_pos  false_neg  true_pos  \n",
       "8   0.735586  0.814345  0.772964      1119        853        541      2373  "
      ]
     },
     "execution_count": 22,
     "metadata": {},
     "output_type": "execute_result"
    }
   ],
   "source": [
    "print('Previous scores:')\n",
    "model_trials_df[model_trials_df['model_used'] == 'Gradient Boosting']"
   ]
  },
  {
   "cell_type": "code",
   "execution_count": 23,
   "metadata": {},
   "outputs": [],
   "source": [
    "gb = GradientBoostingClassifier(random_state=42)\n",
    "\n",
    "gb_params  = {\n",
    "    'n_estimators': [50, 100, 200], \n",
    "    'max_depth': [3, 5, 7],\n",
    "    'learning_rate': [0.7, 0.8, 0.9],\n",
    "    'max_features': [None, 'sqrt']\n",
    "}"
   ]
  },
  {
   "cell_type": "code",
   "execution_count": null,
   "metadata": {},
   "outputs": [],
   "source": [
    "model_tuning(gb, gb_params, 'Gradient Boosting')"
   ]
  },
  {
   "cell_type": "markdown",
   "metadata": {},
   "source": [
    "** Rewrite\n",
    "\n",
    "### Analysis\n",
    "- Test score is slightly less than no-param model.\n",
    "- Decreased false positives, increased false negatives."
   ]
  },
  {
   "cell_type": "markdown",
   "metadata": {},
   "source": [
    "---\n",
    "## Random Forest Classifier"
   ]
  },
  {
   "cell_type": "code",
   "execution_count": 24,
   "metadata": {},
   "outputs": [
    {
     "name": "stdout",
     "output_type": "stream",
     "text": [
      "Previous scores:\n"
     ]
    },
    {
     "data": {
      "text/html": [
       "<div>\n",
       "<style scoped>\n",
       "    .dataframe tbody tr th:only-of-type {\n",
       "        vertical-align: middle;\n",
       "    }\n",
       "\n",
       "    .dataframe tbody tr th {\n",
       "        vertical-align: top;\n",
       "    }\n",
       "\n",
       "    .dataframe thead th {\n",
       "        text-align: right;\n",
       "    }\n",
       "</style>\n",
       "<table border=\"1\" class=\"dataframe\">\n",
       "  <thead>\n",
       "    <tr style=\"text-align: right;\">\n",
       "      <th></th>\n",
       "      <th>model_used</th>\n",
       "      <th>train_score</th>\n",
       "      <th>test_score</th>\n",
       "      <th>accuracy</th>\n",
       "      <th>specificity</th>\n",
       "      <th>precision</th>\n",
       "      <th>recall</th>\n",
       "      <th>f1 score</th>\n",
       "      <th>true_neg</th>\n",
       "      <th>false_pos</th>\n",
       "      <th>false_neg</th>\n",
       "      <th>true_pos</th>\n",
       "    </tr>\n",
       "  </thead>\n",
       "  <tbody>\n",
       "    <tr>\n",
       "      <th>4</th>\n",
       "      <td>Random Forest</td>\n",
       "      <td>1.0</td>\n",
       "      <td>0.706304</td>\n",
       "      <td>0.706304</td>\n",
       "      <td>0.551724</td>\n",
       "      <td>0.727749</td>\n",
       "      <td>0.810913</td>\n",
       "      <td>0.767083</td>\n",
       "      <td>1088</td>\n",
       "      <td>884</td>\n",
       "      <td>551</td>\n",
       "      <td>2363</td>\n",
       "    </tr>\n",
       "  </tbody>\n",
       "</table>\n",
       "</div>"
      ],
      "text/plain": [
       "      model_used  train_score  test_score  accuracy  specificity  precision  \\\n",
       "4  Random Forest          1.0    0.706304  0.706304     0.551724   0.727749   \n",
       "\n",
       "     recall  f1 score  true_neg  false_pos  false_neg  true_pos  \n",
       "4  0.810913  0.767083      1088        884        551      2363  "
      ]
     },
     "execution_count": 24,
     "metadata": {},
     "output_type": "execute_result"
    }
   ],
   "source": [
    "print('Previous scores:')\n",
    "model_trials_df[model_trials_df['model_used'] == 'Random Forest']"
   ]
  },
  {
   "cell_type": "code",
   "execution_count": 25,
   "metadata": {},
   "outputs": [],
   "source": [
    "rf = RandomForestClassifier(random_state=42)\n",
    "\n",
    "rf_params  = {\n",
    "    'n_estimators': [50, 100, 150], \n",
    "    'max_depth': [3, 5, 7],\n",
    "    'max_features': [None, 'sqrt'],\n",
    "    'bootstrap' : [True, False]\n",
    "}"
   ]
  },
  {
   "cell_type": "code",
   "execution_count": 28,
   "metadata": {},
   "outputs": [],
   "source": [
    "model_tuning(rf, rf_params, 'Random Forest')"
   ]
  },
  {
   "cell_type": "code",
   "execution_count": null,
   "metadata": {},
   "outputs": [],
   "source": [
    "rf_2 = RandomForestClassifier(random_state=42)\n",
    "\n",
    "rf_2_params  = {\n",
    "    'n_estimators': [150, 200, 250], \n",
    "    'max_depth': [6, 7, 8],\n",
    "    'bootstrap' : [True],\n",
    "    'max_samples': [None, 0.5, 0.8]\n",
    "}"
   ]
  },
  {
   "cell_type": "code",
   "execution_count": null,
   "metadata": {},
   "outputs": [],
   "source": [
    "model_tuning(rf_2, rf_2_params, 'Random Forest v2')"
   ]
  },
  {
   "cell_type": "markdown",
   "metadata": {},
   "source": [
    "### Analysis"
   ]
  },
  {
   "cell_type": "markdown",
   "metadata": {},
   "source": [
    "---\n",
    "## Ada Boost Classifier"
   ]
  },
  {
   "cell_type": "code",
   "execution_count": null,
   "metadata": {},
   "outputs": [],
   "source": [
    "print('Previous scores:')\n",
    "model_trials_df[model_trials_df['model_used'] == 'AdaBoost']"
   ]
  },
  {
   "cell_type": "code",
   "execution_count": null,
   "metadata": {},
   "outputs": [],
   "source": [
    "ada = AdaBoostClassifier(random_state=42)\n",
    "\n",
    "ada_params = {\n",
    "    'n_estimators': [100, 200, 300],\n",
    "    'learning_rate': [0.7, 0.8, 0.9],\n",
    "}"
   ]
  },
  {
   "cell_type": "code",
   "execution_count": null,
   "metadata": {},
   "outputs": [],
   "source": [
    "model_tuning(ada, ada_params, 'AdaBoost')"
   ]
  },
  {
   "cell_type": "code",
   "execution_count": null,
   "metadata": {},
   "outputs": [],
   "source": [
    "ada_2 = AdaBoostClassifier(random_state=42)\n",
    "\n",
    "ada_params_2 = {\n",
    "    'n_estimators': [350, 400, 450],\n",
    "    'learning_rate': [0.6, 0.7, 0.75],\n",
    "}"
   ]
  },
  {
   "cell_type": "code",
   "execution_count": null,
   "metadata": {},
   "outputs": [],
   "source": [
    "model_tuning(ada_2, ada_params_2, 'AdaBoost v2')"
   ]
  },
  {
   "cell_type": "markdown",
   "metadata": {},
   "source": [
    "### Analysis\n",
    "\n",
    "Because there is a trade-off between n_estimators and learning_rate, I inversely shifted the range of the two hyperparameters, and this specific model seemed to prefer the lower learning rate and higher amount of estimators."
   ]
  },
  {
   "cell_type": "markdown",
   "metadata": {},
   "source": [
    "---\n",
    "## Logistic Regression"
   ]
  },
  {
   "cell_type": "code",
   "execution_count": null,
   "metadata": {},
   "outputs": [],
   "source": [
    "lr = LogisticRegression(random_state=42, max_iter=10_000, solver='saga')\n",
    "\n",
    "lr_params = {\n",
    "    'C': [0.1, 1, 10],\n",
    "    'penalty': ['l1', 'l2'],\n",
    "    'class_weight': ['balanced', None]\n",
    "}"
   ]
  },
  {
   "cell_type": "code",
   "execution_count": null,
   "metadata": {},
   "outputs": [],
   "source": [
    "model_tuning(lr, lr_params, 'Logistic Regression')"
   ]
  },
  {
   "cell_type": "markdown",
   "metadata": {},
   "source": [
    "### Analysis\n"
   ]
  },
  {
   "cell_type": "markdown",
   "metadata": {},
   "source": [
    "--- \n",
    "## Bagging Classifier"
   ]
  },
  {
   "cell_type": "code",
   "execution_count": null,
   "metadata": {},
   "outputs": [],
   "source": [
    "bag = BaggingClassifier(random_state=42, n_jobs= -1)\n",
    "\n",
    "bag_params = {\n",
    "    'max_samples': [0.5, 0.8, 0.9],\n",
    "    'bootstrap': [True, False],\n",
    "    'bootstrap_features': [True, False]\n",
    "}"
   ]
  },
  {
   "cell_type": "code",
   "execution_count": null,
   "metadata": {},
   "outputs": [],
   "source": [
    "model_tuning(bag, bag_params, 'Bagging')"
   ]
  },
  {
   "cell_type": "code",
   "execution_count": null,
   "metadata": {},
   "outputs": [],
   "source": [
    "bag_2 = BaggingClassifier(random_state=42, n_jobs= -1)\n",
    "\n",
    "bag_2_params = {\n",
    "    'n_estimators': [100, 200, 300],\n",
    "    'max_samples': [0.5, 0.6],\n",
    "    'bootstrap': [True, False],\n",
    "    'bootstrap_features': [True, False]\n",
    "}"
   ]
  },
  {
   "cell_type": "code",
   "execution_count": null,
   "metadata": {},
   "outputs": [],
   "source": [
    "model_tuning(bag_2, bag_2_params, 'Bagging v2')"
   ]
  },
  {
   "cell_type": "markdown",
   "metadata": {},
   "source": [
    "### Analysis\n"
   ]
  },
  {
   "cell_type": "markdown",
   "metadata": {},
   "source": [
    "---\n",
    "## Model Evaluation"
   ]
  },
  {
   "cell_type": "code",
   "execution_count": null,
   "metadata": {},
   "outputs": [],
   "source": [
    "model_tuning_df"
   ]
  },
  {
   "cell_type": "code",
   "execution_count": null,
   "metadata": {},
   "outputs": [],
   "source": [
    "model_tuning_df.describe()"
   ]
  },
  {
   "cell_type": "code",
   "execution_count": null,
   "metadata": {},
   "outputs": [],
   "source": [
    "model_tuning_df[['model_used', 'accuracy', 'specificity']].sort_values(by=['accuracy'], ascending=False)"
   ]
  },
  {
   "cell_type": "markdown",
   "metadata": {},
   "source": [
    "---\n",
    "## Conclusion\n",
    "\n"
   ]
  },
  {
   "cell_type": "code",
   "execution_count": null,
   "metadata": {},
   "outputs": [],
   "source": []
  },
  {
   "cell_type": "code",
   "execution_count": null,
   "metadata": {},
   "outputs": [],
   "source": []
  },
  {
   "cell_type": "markdown",
   "metadata": {},
   "source": [
    "**Final selected models for each dataset**"
   ]
  },
  {
   "cell_type": "code",
   "execution_count": null,
   "metadata": {},
   "outputs": [],
   "source": []
  },
  {
   "cell_type": "code",
   "execution_count": null,
   "metadata": {},
   "outputs": [],
   "source": []
  },
  {
   "cell_type": "code",
   "execution_count": null,
   "metadata": {},
   "outputs": [],
   "source": []
  },
  {
   "cell_type": "markdown",
   "metadata": {},
   "source": [
    "**FINAL NOTES**\n",
    "- The model statistics are exported [here](../data/model_stats.csv).\n",
    "- The next notebook in the series is [Results and Recommendations](./04_results.ipynb)."
   ]
  }
 ],
 "metadata": {
  "kernelspec": {
   "display_name": "Python 3.9.6 64-bit ('3.9.6')",
   "language": "python",
   "name": "python3"
  },
  "language_info": {
   "codemirror_mode": {
    "name": "ipython",
    "version": 3
   },
   "file_extension": ".py",
   "mimetype": "text/x-python",
   "name": "python",
   "nbconvert_exporter": "python",
   "pygments_lexer": "ipython3",
   "version": "3.9.6"
  },
  "orig_nbformat": 4,
  "vscode": {
   "interpreter": {
    "hash": "d3fbca8c5142a5f3fc0e150e2aa7dc992112775c37c59dc77ad7b753c4c0bceb"
   }
  }
 },
 "nbformat": 4,
 "nbformat_minor": 2
}
