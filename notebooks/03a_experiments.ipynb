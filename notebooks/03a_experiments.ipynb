{
 "cells": [
  {
   "cell_type": "markdown",
   "metadata": {},
   "source": [
    "### Group Project 4 : Comparing 3 Models for Predicting Recidivism\n",
    "\n",
    "For background on this project, please see the [README](../README.md).\n",
    "\n",
    "**Notebooks**\n",
    "- [Data Acquisition & Cleaning](./01_data_acq_clean.ipynb)\n",
    "- [Exploratory Data Analysis](./02_eda.ipynb)\n",
    "- [Modeling](./03_modeling.ipynb)\n",
    "- Experiments (this notebook)\n",
    "- [Results and Recommendations](./04_results.ipynb)\n",
    "\n",
    "**In this notebook, you'll find:**\n",
    "- TODO etc."
   ]
  },
  {
   "cell_type": "code",
   "execution_count": 1,
   "metadata": {},
   "outputs": [],
   "source": [
    "import pandas as pd\n",
    "import matplotlib.pyplot as plt\n",
    "from sklearn.linear_model import LogisticRegression\n",
    "from sklearn.feature_extraction.text import TfidfVectorizer\n",
    "from tensorflow.keras.models import Sequential\n",
    "from tensorflow.keras.layers import Dense\n",
    "from tensorflow.keras.regularizers import l2\n",
    "from tensorflow.keras.callbacks import EarlyStopping\n",
    "from sklearn.metrics import balanced_accuracy_score, ConfusionMatrixDisplay, recall_score, f1_score, precision_score, confusion_matrix\n",
    "from sklearn.model_selection import train_test_split, GridSearchCV\n",
    "from sklearn.pipeline import Pipeline\n",
    "from sklearn.preprocessing import StandardScaler\n",
    "# from imblearn.over_sampling import ADASYN"
   ]
  },
  {
   "cell_type": "markdown",
   "metadata": {},
   "source": [
    "**Model 1: Base feature set - New York**"
   ]
  },
  {
   "cell_type": "code",
   "execution_count": null,
   "metadata": {},
   "outputs": [],
   "source": []
  },
  {
   "cell_type": "markdown",
   "metadata": {},
   "source": [
    "**Model 2: Criminal history feature set - Florida**"
   ]
  },
  {
   "cell_type": "markdown",
   "metadata": {},
   "source": [
    "- We're going to try vectorizing each person's list of charges and incorporating some NLP into our production model.\n",
    "- We'll use TFIDF vectorization, and before merging the NLP columns into our production model, we'll use a GridSearch with a simple LogisticRegression to\n",
    "determine the best parameters to use for TFIDF."
   ]
  },
  {
   "cell_type": "code",
   "execution_count": 40,
   "metadata": {},
   "outputs": [],
   "source": [
    "fl = pd.read_csv('../data/FL/FL_final.csv')\n",
    "\n",
    "# drop all non-model columns - keeping agg_charges this time!\n",
    "fl = fl.drop(columns = [\n",
    "    'person_id',  # unique ID, not predictive\n",
    "    'avg_days_between_offenses', 'avg_days_between_arrests', # only meaningful for recidivists\n",
    "    'age_at_last_incarceration', 'age_at_last_release', 'age_at_last_arrest', # \"last\" columns are not predictive\n",
    "] + [col for col in fl if col.startswith('comp_')] # not using COMPAS scores in the model\n",
    "  + [col for col in fl if col.startswith('last_charge_')] # last charges are not predictive\n",
    ")"
   ]
  },
  {
   "cell_type": "code",
   "execution_count": 41,
   "metadata": {},
   "outputs": [
    {
     "name": "stdout",
     "output_type": "stream",
     "text": [
      "training set accuracy: 0.787673806839534\n",
      "test set accuracy: 0.7550713749060857\n",
      "recall: 0.6057416267942584\n",
      "precision: 0.7250859106529209\n",
      "f1 score: 0.6600625651720542\n"
     ]
    }
   ],
   "source": [
    "# define X and y, train-test split\n",
    "nlp = fl[['agg_charges', 'recidivism']].dropna()\n",
    "X = nlp['agg_charges']\n",
    "y = nlp['recidivism']\n",
    "X_train, X_test, y_train, y_test = train_test_split(X, y, random_state = 42, stratify = y)\n",
    "\n",
    "# Pipeline with logreg\n",
    "pipe = Pipeline(steps = [('tfidf', TfidfVectorizer()), ('logreg', LogisticRegression(max_iter = 10_000))])\n",
    "\n",
    "pipe_params = {\n",
    "    'tfidf__stop_words': [None, 'english'],\n",
    "    'tfidf__max_features': [3000, 4000],\n",
    "    'tfidf__min_df': [1, 2],\n",
    "    'tfidf__max_df': [0.8, 0.9],\n",
    "    'tfidf__ngram_range': [(1, 1), (1, 2)]\n",
    "}\n",
    "\n",
    "# search\n",
    "gs = GridSearchCV(estimator = pipe, param_grid = pipe_params, n_jobs = -1)\n",
    "gs.fit(X_train, y_train)\n",
    "\n",
    "# score\n",
    "model = gs.best_estimator_\n",
    "preds = model.predict(X_test)\n",
    "\n",
    "train_acc = model.score(X_train, y_train)\n",
    "test_acc = model.score(X_test, y_test)\n",
    "recall = recall_score(y_test, preds, pos_label = 1)\n",
    "precision = precision_score(y_test, preds, pos_label = 1)\n",
    "f1 = f1_score(y_test, preds, pos_label = 1)\n",
    "\n",
    "print(f'training set accuracy: {train_acc}')\n",
    "print(f'test set accuracy: {test_acc}')\n",
    "print(f'recall: {recall}')\n",
    "print(f'precision: {precision}')\n",
    "print(f'f1 score: {f1}')"
   ]
  },
  {
   "cell_type": "code",
   "execution_count": 42,
   "metadata": {},
   "outputs": [
    {
     "data": {
      "text/html": [
       "<style>#sk-container-id-3 {color: black;background-color: white;}#sk-container-id-3 pre{padding: 0;}#sk-container-id-3 div.sk-toggleable {background-color: white;}#sk-container-id-3 label.sk-toggleable__label {cursor: pointer;display: block;width: 100%;margin-bottom: 0;padding: 0.3em;box-sizing: border-box;text-align: center;}#sk-container-id-3 label.sk-toggleable__label-arrow:before {content: \"▸\";float: left;margin-right: 0.25em;color: #696969;}#sk-container-id-3 label.sk-toggleable__label-arrow:hover:before {color: black;}#sk-container-id-3 div.sk-estimator:hover label.sk-toggleable__label-arrow:before {color: black;}#sk-container-id-3 div.sk-toggleable__content {max-height: 0;max-width: 0;overflow: hidden;text-align: left;background-color: #f0f8ff;}#sk-container-id-3 div.sk-toggleable__content pre {margin: 0.2em;color: black;border-radius: 0.25em;background-color: #f0f8ff;}#sk-container-id-3 input.sk-toggleable__control:checked~div.sk-toggleable__content {max-height: 200px;max-width: 100%;overflow: auto;}#sk-container-id-3 input.sk-toggleable__control:checked~label.sk-toggleable__label-arrow:before {content: \"▾\";}#sk-container-id-3 div.sk-estimator input.sk-toggleable__control:checked~label.sk-toggleable__label {background-color: #d4ebff;}#sk-container-id-3 div.sk-label input.sk-toggleable__control:checked~label.sk-toggleable__label {background-color: #d4ebff;}#sk-container-id-3 input.sk-hidden--visually {border: 0;clip: rect(1px 1px 1px 1px);clip: rect(1px, 1px, 1px, 1px);height: 1px;margin: -1px;overflow: hidden;padding: 0;position: absolute;width: 1px;}#sk-container-id-3 div.sk-estimator {font-family: monospace;background-color: #f0f8ff;border: 1px dotted black;border-radius: 0.25em;box-sizing: border-box;margin-bottom: 0.5em;}#sk-container-id-3 div.sk-estimator:hover {background-color: #d4ebff;}#sk-container-id-3 div.sk-parallel-item::after {content: \"\";width: 100%;border-bottom: 1px solid gray;flex-grow: 1;}#sk-container-id-3 div.sk-label:hover label.sk-toggleable__label {background-color: #d4ebff;}#sk-container-id-3 div.sk-serial::before {content: \"\";position: absolute;border-left: 1px solid gray;box-sizing: border-box;top: 0;bottom: 0;left: 50%;z-index: 0;}#sk-container-id-3 div.sk-serial {display: flex;flex-direction: column;align-items: center;background-color: white;padding-right: 0.2em;padding-left: 0.2em;position: relative;}#sk-container-id-3 div.sk-item {position: relative;z-index: 1;}#sk-container-id-3 div.sk-parallel {display: flex;align-items: stretch;justify-content: center;background-color: white;position: relative;}#sk-container-id-3 div.sk-item::before, #sk-container-id-3 div.sk-parallel-item::before {content: \"\";position: absolute;border-left: 1px solid gray;box-sizing: border-box;top: 0;bottom: 0;left: 50%;z-index: -1;}#sk-container-id-3 div.sk-parallel-item {display: flex;flex-direction: column;z-index: 1;position: relative;background-color: white;}#sk-container-id-3 div.sk-parallel-item:first-child::after {align-self: flex-end;width: 50%;}#sk-container-id-3 div.sk-parallel-item:last-child::after {align-self: flex-start;width: 50%;}#sk-container-id-3 div.sk-parallel-item:only-child::after {width: 0;}#sk-container-id-3 div.sk-dashed-wrapped {border: 1px dashed gray;margin: 0 0.4em 0.5em 0.4em;box-sizing: border-box;padding-bottom: 0.4em;background-color: white;}#sk-container-id-3 div.sk-label label {font-family: monospace;font-weight: bold;display: inline-block;line-height: 1.2em;}#sk-container-id-3 div.sk-label-container {text-align: center;}#sk-container-id-3 div.sk-container {/* jupyter's `normalize.less` sets `[hidden] { display: none; }` but bootstrap.min.css set `[hidden] { display: none !important; }` so we also need the `!important` here to be able to override the default hidden behavior on the sphinx rendered scikit-learn.org. See: https://github.com/scikit-learn/scikit-learn/issues/21755 */display: inline-block !important;position: relative;}#sk-container-id-3 div.sk-text-repr-fallback {display: none;}</style><div id=\"sk-container-id-3\" class=\"sk-top-container\"><div class=\"sk-text-repr-fallback\"><pre>Pipeline(steps=[(&#x27;tfidf&#x27;,\n",
       "                 TfidfVectorizer(max_df=0.8, max_features=3000,\n",
       "                                 ngram_range=(1, 2), stop_words=&#x27;english&#x27;)),\n",
       "                (&#x27;logreg&#x27;, LogisticRegression(max_iter=10000))])</pre><b>In a Jupyter environment, please rerun this cell to show the HTML representation or trust the notebook. <br />On GitHub, the HTML representation is unable to render, please try loading this page with nbviewer.org.</b></div><div class=\"sk-container\" hidden><div class=\"sk-item sk-dashed-wrapped\"><div class=\"sk-label-container\"><div class=\"sk-label sk-toggleable\"><input class=\"sk-toggleable__control sk-hidden--visually\" id=\"sk-estimator-id-7\" type=\"checkbox\" ><label for=\"sk-estimator-id-7\" class=\"sk-toggleable__label sk-toggleable__label-arrow\">Pipeline</label><div class=\"sk-toggleable__content\"><pre>Pipeline(steps=[(&#x27;tfidf&#x27;,\n",
       "                 TfidfVectorizer(max_df=0.8, max_features=3000,\n",
       "                                 ngram_range=(1, 2), stop_words=&#x27;english&#x27;)),\n",
       "                (&#x27;logreg&#x27;, LogisticRegression(max_iter=10000))])</pre></div></div></div><div class=\"sk-serial\"><div class=\"sk-item\"><div class=\"sk-estimator sk-toggleable\"><input class=\"sk-toggleable__control sk-hidden--visually\" id=\"sk-estimator-id-8\" type=\"checkbox\" ><label for=\"sk-estimator-id-8\" class=\"sk-toggleable__label sk-toggleable__label-arrow\">TfidfVectorizer</label><div class=\"sk-toggleable__content\"><pre>TfidfVectorizer(max_df=0.8, max_features=3000, ngram_range=(1, 2),\n",
       "                stop_words=&#x27;english&#x27;)</pre></div></div></div><div class=\"sk-item\"><div class=\"sk-estimator sk-toggleable\"><input class=\"sk-toggleable__control sk-hidden--visually\" id=\"sk-estimator-id-9\" type=\"checkbox\" ><label for=\"sk-estimator-id-9\" class=\"sk-toggleable__label sk-toggleable__label-arrow\">LogisticRegression</label><div class=\"sk-toggleable__content\"><pre>LogisticRegression(max_iter=10000)</pre></div></div></div></div></div></div></div>"
      ],
      "text/plain": [
       "Pipeline(steps=[('tfidf',\n",
       "                 TfidfVectorizer(max_df=0.8, max_features=3000,\n",
       "                                 ngram_range=(1, 2), stop_words='english')),\n",
       "                ('logreg', LogisticRegression(max_iter=10000))])"
      ]
     },
     "execution_count": 42,
     "metadata": {},
     "output_type": "execute_result"
    }
   ],
   "source": [
    "# what were our best parameters?\n",
    "model"
   ]
  },
  {
   "cell_type": "code",
   "execution_count": 43,
   "metadata": {},
   "outputs": [],
   "source": [
    "# now we can apply our optimal vectorization\n",
    "tfidf = TfidfVectorizer(max_df = 0.8, max_features = 3000, ngram_range = (1, 2), stop_words = 'english')\n",
    "nlpcols = tfidf.fit_transform(fl['agg_charges'])"
   ]
  },
  {
   "cell_type": "code",
   "execution_count": 54,
   "metadata": {},
   "outputs": [],
   "source": [
    "# and add the vectorized columns to our main dataframe\n",
    "fl_nlp = pd.concat([fl, pd.DataFrame(nlpcols.todense(), columns = tfidf.get_feature_names_out())], axis = 1)"
   ]
  },
  {
   "cell_type": "code",
   "execution_count": 58,
   "metadata": {},
   "outputs": [],
   "source": [
    "# define our final X and y, train-test split\n",
    "X = fl_nlp.drop(columns = ['recidivism', 'agg_charges'])\n",
    "y = fl_nlp['recidivism']\n",
    "X_train, X_test, y_train, y_test = train_test_split(X, y, random_state = 42, stratify = y)\n",
    "X_train.shape, y_train.shape, X_test.shape, y_test.shape\n",
    "\n",
    "# and scale\n",
    "ss = StandardScaler()\n",
    "X_train_sc = ss.fit_transform(X_train)\n",
    "X_test_sc = ss.transform(X_test)\n",
    "\n",
    "# and rebalance\n",
    "adasyn = ADASYN(random_state = 42, sampling_strategy = 1.0)\n",
    "X_train_sc, y_train = adasyn.fit_resample(X_train_sc, y_train)"
   ]
  },
  {
   "cell_type": "code",
   "execution_count": 59,
   "metadata": {},
   "outputs": [
    {
     "data": {
      "text/plain": [
       "(7983, 3032)"
      ]
     },
     "execution_count": 59,
     "metadata": {},
     "output_type": "execute_result"
    }
   ],
   "source": [
    "X_train.shape"
   ]
  },
  {
   "cell_type": "code",
   "execution_count": 62,
   "metadata": {},
   "outputs": [
    {
     "name": "stdout",
     "output_type": "stream",
     "text": [
      "84/84 [==============================] - 0s 1ms/step\n",
      "training set accuracy: 0.9577807188034058\n",
      "test set accuracy: 0.7498121857643127\n",
      "recall: 0.6775119617224881\n",
      "precision: 0.682738669238187\n",
      "f1 score: 0.6801152737752162\n"
     ]
    },
    {
     "data": {
      "image/png": "[encoded data removed]",
      "text/plain": [
       "<Figure size 432x288 with 2 Axes>"
      ]
     },
     "metadata": {
      "needs_background": "light"
     },
     "output_type": "display_data"
    },
    {
     "data": {
      "image/png": "[encoded data removed]",
      "text/plain": [
       "<Figure size 864x576 with 1 Axes>"
      ]
     },
     "metadata": {
      "needs_background": "light"
     },
     "output_type": "display_data"
    }
   ],
   "source": [
    "# L2-regularized FNN with early stopping\n",
    "es = EarlyStopping(patience = 5)\n",
    "\n",
    "# Model\n",
    "model = Sequential()\n",
    "model.add(Dense(units = 128, activation = 'relu', input_shape = (3032, ),\n",
    "    kernel_regularizer = l2(0.01)))\n",
    "model.add(Dense(units = 64, activation = 'relu', kernel_regularizer = l2(0.01)))\n",
    "model.add(Dense(units = 1, activation = 'sigmoid'))\n",
    "\n",
    "# Compile it\n",
    "model.compile(optimizer = 'adam', loss = 'bce', metrics = ['acc'])\n",
    "\n",
    "# Fit it\n",
    "res = model.fit(x = X_train_sc, y = y_train, validation_data = (X_test_sc, y_test),\n",
    "    epochs = 100, batch_size = 256, verbose = 0, callbacks = [es])\n",
    "\n",
    "# Scores\n",
    "train_acc = res.history['acc'][-1]\n",
    "test_acc = res.history['val_acc'][-1]\n",
    "preds = pd.Series(model.predict(X_test_sc)[:, 0]).map(lambda x: 1 if x >= 0.5 else 0)\n",
    "recall = recall_score(y_test, preds, pos_label = 1)\n",
    "precision = precision_score(y_test, preds, pos_label = 1)\n",
    "f1 = f1_score(y_test, preds, pos_label = 1)\n",
    "print(f'training set accuracy: {train_acc}')\n",
    "print(f'test set accuracy: {test_acc}')\n",
    "print(f'recall: {recall}')\n",
    "print(f'precision: {precision}')\n",
    "print(f'f1 score: {f1}')\n",
    "\n",
    "ConfusionMatrixDisplay.from_predictions(y_test, preds, normalize = 'pred', cmap='Blues')\n",
    "\n",
    "# Visualize\n",
    "train_loss_l2 = res.history['loss']\n",
    "test_loss_l2 = res.history['val_loss']\n",
    "\n",
    "plt.figure(figsize=(12, 8))\n",
    "plt.plot(train_loss_l2, label='L2 Training loss', color='darkred')\n",
    "plt.plot(test_loss_l2, label='L2 Testing loss', color='pink')\n",
    "plt.legend();"
   ]
  },
  {
   "cell_type": "markdown",
   "metadata": {},
   "source": [
    "CONCLUSIONS\n",
    "- Looks like adding the NLP columns to the production model causes pretty major overfitting - possibly the result of trying such high-dimensional data with a neural network.\n",
    "- We won't use the NLP columns. Worthwhile experiment though!"
   ]
  },
  {
   "cell_type": "markdown",
   "metadata": {},
   "source": [
    "**Model 3: Behavioral feature set - Georgia**"
   ]
  },
  {
   "cell_type": "markdown",
   "metadata": {},
   "source": [
    "- We're going build a model using only the most important features identified during the model trials, in the hopes reducing some of the noise and improving our accuracy."
   ]
  },
  {
   "cell_type": "code",
   "execution_count": 10,
   "metadata": {},
   "outputs": [],
   "source": [
    "# Imports\n",
    "\n",
    "import pandas as pd\n",
    "import matplotlib.pyplot as plt\n",
    "import numpy as np\n",
    "\n",
    "from sklearn.model_selection import train_test_split, GridSearchCV\n",
    "from sklearn.linear_model import LogisticRegression\n",
    "from sklearn.tree import DecisionTreeClassifier\n",
    "from sklearn.ensemble import RandomForestClassifier, GradientBoostingClassifier, AdaBoostClassifier, BaggingClassifier \n",
    "from sklearn.neighbors import KNeighborsClassifier\n",
    "from sklearn.preprocessing import StandardScaler\n",
    "from sklearn.pipeline import Pipeline\n",
    "from sklearn.naive_bayes import MultinomialNB\n",
    "from sklearn.metrics import confusion_matrix, ConfusionMatrixDisplay"
   ]
  },
  {
   "cell_type": "code",
   "execution_count": 5,
   "metadata": {},
   "outputs": [],
   "source": [
    "# Reading in necessary files\n",
    "ga_dummy = pd.read_csv('../data/GA/georgia_dummy.csv')\n",
    "feats = pd.read_csv('../data/GA/important_feats.csv')"
   ]
  },
  {
   "cell_type": "code",
   "execution_count": 6,
   "metadata": {},
   "outputs": [
    {
     "data": {
      "text/html": [
       "<div>\n",
       "<style scoped>\n",
       "    .dataframe tbody tr th:only-of-type {\n",
       "        vertical-align: middle;\n",
       "    }\n",
       "\n",
       "    .dataframe tbody tr th {\n",
       "        vertical-align: top;\n",
       "    }\n",
       "\n",
       "    .dataframe thead th {\n",
       "        text-align: right;\n",
       "    }\n",
       "</style>\n",
       "<table border=\"1\" class=\"dataframe\">\n",
       "  <thead>\n",
       "    <tr style=\"text-align: right;\">\n",
       "      <th></th>\n",
       "      <th>gender_male</th>\n",
       "      <th>gang_affiliated</th>\n",
       "      <th>condition_mh_sa</th>\n",
       "      <th>violations_electronicmonitoring</th>\n",
       "      <th>violations_instruction</th>\n",
       "      <th>drugtests_thc_positive</th>\n",
       "      <th>percent_days_employed</th>\n",
       "      <th>age_at_release_18-22</th>\n",
       "      <th>age_at_release_23-27</th>\n",
       "      <th>age_at_release_38-42</th>\n",
       "      <th>age_at_release_43-47</th>\n",
       "      <th>age_at_release_48 or older</th>\n",
       "      <th>education_level_at least some college</th>\n",
       "      <th>education_level_less than hs diploma</th>\n",
       "      <th>prison_years_greater than 2 to 3 years</th>\n",
       "      <th>prison_years_more than 3 years</th>\n",
       "      <th>recidivism_within_3years</th>\n",
       "    </tr>\n",
       "  </thead>\n",
       "  <tbody>\n",
       "    <tr>\n",
       "      <th>0</th>\n",
       "      <td>1</td>\n",
       "      <td>0</td>\n",
       "      <td>1</td>\n",
       "      <td>0</td>\n",
       "      <td>0</td>\n",
       "      <td>0.000000</td>\n",
       "      <td>0.488562</td>\n",
       "      <td>0</td>\n",
       "      <td>0</td>\n",
       "      <td>0</td>\n",
       "      <td>1</td>\n",
       "      <td>0</td>\n",
       "      <td>1</td>\n",
       "      <td>0</td>\n",
       "      <td>0</td>\n",
       "      <td>1</td>\n",
       "      <td>0</td>\n",
       "    </tr>\n",
       "    <tr>\n",
       "      <th>1</th>\n",
       "      <td>1</td>\n",
       "      <td>0</td>\n",
       "      <td>0</td>\n",
       "      <td>0</td>\n",
       "      <td>1</td>\n",
       "      <td>0.000000</td>\n",
       "      <td>0.425234</td>\n",
       "      <td>0</td>\n",
       "      <td>0</td>\n",
       "      <td>0</td>\n",
       "      <td>0</td>\n",
       "      <td>0</td>\n",
       "      <td>0</td>\n",
       "      <td>1</td>\n",
       "      <td>0</td>\n",
       "      <td>1</td>\n",
       "      <td>1</td>\n",
       "    </tr>\n",
       "    <tr>\n",
       "      <th>2</th>\n",
       "      <td>1</td>\n",
       "      <td>0</td>\n",
       "      <td>1</td>\n",
       "      <td>0</td>\n",
       "      <td>1</td>\n",
       "      <td>0.333333</td>\n",
       "      <td>0.000000</td>\n",
       "      <td>0</td>\n",
       "      <td>0</td>\n",
       "      <td>0</td>\n",
       "      <td>0</td>\n",
       "      <td>1</td>\n",
       "      <td>1</td>\n",
       "      <td>0</td>\n",
       "      <td>0</td>\n",
       "      <td>0</td>\n",
       "      <td>1</td>\n",
       "    </tr>\n",
       "    <tr>\n",
       "      <th>3</th>\n",
       "      <td>1</td>\n",
       "      <td>0</td>\n",
       "      <td>1</td>\n",
       "      <td>0</td>\n",
       "      <td>0</td>\n",
       "      <td>0.000000</td>\n",
       "      <td>1.000000</td>\n",
       "      <td>0</td>\n",
       "      <td>0</td>\n",
       "      <td>1</td>\n",
       "      <td>0</td>\n",
       "      <td>0</td>\n",
       "      <td>0</td>\n",
       "      <td>1</td>\n",
       "      <td>0</td>\n",
       "      <td>0</td>\n",
       "      <td>0</td>\n",
       "    </tr>\n",
       "    <tr>\n",
       "      <th>4</th>\n",
       "      <td>1</td>\n",
       "      <td>0</td>\n",
       "      <td>1</td>\n",
       "      <td>0</td>\n",
       "      <td>0</td>\n",
       "      <td>0.000000</td>\n",
       "      <td>0.203562</td>\n",
       "      <td>0</td>\n",
       "      <td>0</td>\n",
       "      <td>0</td>\n",
       "      <td>0</td>\n",
       "      <td>0</td>\n",
       "      <td>0</td>\n",
       "      <td>1</td>\n",
       "      <td>0</td>\n",
       "      <td>0</td>\n",
       "      <td>1</td>\n",
       "    </tr>\n",
       "    <tr>\n",
       "      <th>...</th>\n",
       "      <td>...</td>\n",
       "      <td>...</td>\n",
       "      <td>...</td>\n",
       "      <td>...</td>\n",
       "      <td>...</td>\n",
       "      <td>...</td>\n",
       "      <td>...</td>\n",
       "      <td>...</td>\n",
       "      <td>...</td>\n",
       "      <td>...</td>\n",
       "      <td>...</td>\n",
       "      <td>...</td>\n",
       "      <td>...</td>\n",
       "      <td>...</td>\n",
       "      <td>...</td>\n",
       "      <td>...</td>\n",
       "      <td>...</td>\n",
       "    </tr>\n",
       "    <tr>\n",
       "      <th>24421</th>\n",
       "      <td>1</td>\n",
       "      <td>0</td>\n",
       "      <td>0</td>\n",
       "      <td>0</td>\n",
       "      <td>0</td>\n",
       "      <td>0.000000</td>\n",
       "      <td>0.189507</td>\n",
       "      <td>0</td>\n",
       "      <td>1</td>\n",
       "      <td>0</td>\n",
       "      <td>0</td>\n",
       "      <td>0</td>\n",
       "      <td>1</td>\n",
       "      <td>0</td>\n",
       "      <td>0</td>\n",
       "      <td>1</td>\n",
       "      <td>1</td>\n",
       "    </tr>\n",
       "    <tr>\n",
       "      <th>24422</th>\n",
       "      <td>1</td>\n",
       "      <td>0</td>\n",
       "      <td>0</td>\n",
       "      <td>0</td>\n",
       "      <td>0</td>\n",
       "      <td>0.000000</td>\n",
       "      <td>0.757098</td>\n",
       "      <td>0</td>\n",
       "      <td>0</td>\n",
       "      <td>1</td>\n",
       "      <td>0</td>\n",
       "      <td>0</td>\n",
       "      <td>1</td>\n",
       "      <td>0</td>\n",
       "      <td>0</td>\n",
       "      <td>1</td>\n",
       "      <td>1</td>\n",
       "    </tr>\n",
       "    <tr>\n",
       "      <th>24423</th>\n",
       "      <td>1</td>\n",
       "      <td>0</td>\n",
       "      <td>0</td>\n",
       "      <td>1</td>\n",
       "      <td>0</td>\n",
       "      <td>0.000000</td>\n",
       "      <td>0.711138</td>\n",
       "      <td>0</td>\n",
       "      <td>0</td>\n",
       "      <td>0</td>\n",
       "      <td>0</td>\n",
       "      <td>0</td>\n",
       "      <td>1</td>\n",
       "      <td>0</td>\n",
       "      <td>0</td>\n",
       "      <td>1</td>\n",
       "      <td>1</td>\n",
       "    </tr>\n",
       "    <tr>\n",
       "      <th>24424</th>\n",
       "      <td>0</td>\n",
       "      <td>0</td>\n",
       "      <td>0</td>\n",
       "      <td>0</td>\n",
       "      <td>0</td>\n",
       "      <td>0.000000</td>\n",
       "      <td>0.000000</td>\n",
       "      <td>0</td>\n",
       "      <td>0</td>\n",
       "      <td>0</td>\n",
       "      <td>0</td>\n",
       "      <td>0</td>\n",
       "      <td>1</td>\n",
       "      <td>0</td>\n",
       "      <td>0</td>\n",
       "      <td>1</td>\n",
       "      <td>0</td>\n",
       "    </tr>\n",
       "    <tr>\n",
       "      <th>24425</th>\n",
       "      <td>1</td>\n",
       "      <td>0</td>\n",
       "      <td>0</td>\n",
       "      <td>0</td>\n",
       "      <td>0</td>\n",
       "      <td>0.100000</td>\n",
       "      <td>0.124454</td>\n",
       "      <td>0</td>\n",
       "      <td>0</td>\n",
       "      <td>0</td>\n",
       "      <td>0</td>\n",
       "      <td>0</td>\n",
       "      <td>0</td>\n",
       "      <td>0</td>\n",
       "      <td>0</td>\n",
       "      <td>1</td>\n",
       "      <td>1</td>\n",
       "    </tr>\n",
       "  </tbody>\n",
       "</table>\n",
       "<p>24426 rows × 17 columns</p>\n",
       "</div>"
      ],
      "text/plain": [
       "       gender_male  gang_affiliated  condition_mh_sa  \\\n",
       "0                1                0                1   \n",
       "1                1                0                0   \n",
       "2                1                0                1   \n",
       "3                1                0                1   \n",
       "4                1                0                1   \n",
       "...            ...              ...              ...   \n",
       "24421            1                0                0   \n",
       "24422            1                0                0   \n",
       "24423            1                0                0   \n",
       "24424            0                0                0   \n",
       "24425            1                0                0   \n",
       "\n",
       "       violations_electronicmonitoring  violations_instruction  \\\n",
       "0                                    0                       0   \n",
       "1                                    0                       1   \n",
       "2                                    0                       1   \n",
       "3                                    0                       0   \n",
       "4                                    0                       0   \n",
       "...                                ...                     ...   \n",
       "24421                                0                       0   \n",
       "24422                                0                       0   \n",
       "24423                                1                       0   \n",
       "24424                                0                       0   \n",
       "24425                                0                       0   \n",
       "\n",
       "       drugtests_thc_positive  percent_days_employed  age_at_release_18-22  \\\n",
       "0                    0.000000               0.488562                     0   \n",
       "1                    0.000000               0.425234                     0   \n",
       "2                    0.333333               0.000000                     0   \n",
       "3                    0.000000               1.000000                     0   \n",
       "4                    0.000000               0.203562                     0   \n",
       "...                       ...                    ...                   ...   \n",
       "24421                0.000000               0.189507                     0   \n",
       "24422                0.000000               0.757098                     0   \n",
       "24423                0.000000               0.711138                     0   \n",
       "24424                0.000000               0.000000                     0   \n",
       "24425                0.100000               0.124454                     0   \n",
       "\n",
       "       age_at_release_23-27  age_at_release_38-42  age_at_release_43-47  \\\n",
       "0                         0                     0                     1   \n",
       "1                         0                     0                     0   \n",
       "2                         0                     0                     0   \n",
       "3                         0                     1                     0   \n",
       "4                         0                     0                     0   \n",
       "...                     ...                   ...                   ...   \n",
       "24421                     1                     0                     0   \n",
       "24422                     0                     1                     0   \n",
       "24423                     0                     0                     0   \n",
       "24424                     0                     0                     0   \n",
       "24425                     0                     0                     0   \n",
       "\n",
       "       age_at_release_48 or older  education_level_at least some college  \\\n",
       "0                               0                                      1   \n",
       "1                               0                                      0   \n",
       "2                               1                                      1   \n",
       "3                               0                                      0   \n",
       "4                               0                                      0   \n",
       "...                           ...                                    ...   \n",
       "24421                           0                                      1   \n",
       "24422                           0                                      1   \n",
       "24423                           0                                      1   \n",
       "24424                           0                                      1   \n",
       "24425                           0                                      0   \n",
       "\n",
       "       education_level_less than hs diploma  \\\n",
       "0                                         0   \n",
       "1                                         1   \n",
       "2                                         0   \n",
       "3                                         1   \n",
       "4                                         1   \n",
       "...                                     ...   \n",
       "24421                                     0   \n",
       "24422                                     0   \n",
       "24423                                     0   \n",
       "24424                                     0   \n",
       "24425                                     0   \n",
       "\n",
       "       prison_years_greater than 2 to 3 years  prison_years_more than 3 years  \\\n",
       "0                                           0                               1   \n",
       "1                                           0                               1   \n",
       "2                                           0                               0   \n",
       "3                                           0                               0   \n",
       "4                                           0                               0   \n",
       "...                                       ...                             ...   \n",
       "24421                                       0                               1   \n",
       "24422                                       0                               1   \n",
       "24423                                       0                               1   \n",
       "24424                                       0                               1   \n",
       "24425                                       0                               1   \n",
       "\n",
       "       recidivism_within_3years  \n",
       "0                             0  \n",
       "1                             1  \n",
       "2                             1  \n",
       "3                             0  \n",
       "4                             1  \n",
       "...                         ...  \n",
       "24421                         1  \n",
       "24422                         1  \n",
       "24423                         1  \n",
       "24424                         0  \n",
       "24425                         1  \n",
       "\n",
       "[24426 rows x 17 columns]"
      ]
     },
     "execution_count": 6,
     "metadata": {},
     "output_type": "execute_result"
    }
   ],
   "source": [
    "# Merging dataframes to include only the important features and target column\n",
    "\n",
    "important_feats = feats.loc[(feats['coef'] > 1.15) | (feats['coef'] < 0.85)]\n",
    "\n",
    "important_cols = [col for col in important_feats['feature']]\n",
    "\n",
    "ga_exper = ga_dummy[important_cols]\n",
    "ga_exper = ga_exper.join(ga_dummy['recidivism_within_3years'])\n",
    "ga_exper"
   ]
  },
  {
   "cell_type": "markdown",
   "metadata": {},
   "source": [
    "---\n",
    "## Building a Function to Streamline Modeling"
   ]
  },
  {
   "cell_type": "code",
   "execution_count": 32,
   "metadata": {},
   "outputs": [],
   "source": [
    "model_experiments_df = pd.DataFrame(columns=['model_used', 'train_score', 'test_score',\n",
    "'accuracy', 'specificity', 'precision', 'recall', 'f1 score', 'true_neg', 'false_pos', 'false_neg', 'true_pos'])"
   ]
  },
  {
   "cell_type": "code",
   "execution_count": 33,
   "metadata": {},
   "outputs": [],
   "source": [
    "def model_expers(model, model_id):\n",
    "\n",
    "    '''Setting X and y, and fitting the model'''\n",
    "    X = ga_exper.drop(columns='recidivism_within_3years')\n",
    "    y = ga_exper['recidivism_within_3years']\n",
    "    X_train, X_test, y_train, y_test = train_test_split(X, y, test_size = 0.2, random_state=42, stratify=y)\n",
    "    model.fit(X_train, y_train)\n",
    "    train_score = model.score(X_train, y_train)\n",
    "    test_score = model.score(X_test, y_test)\n",
    "\n",
    "    '''Baseline calculation for reference in the returned confusion matrix'''\n",
    "    baseline = y.value_counts(normalize=True)[1]\n",
    "\n",
    "    '''Calculating classification rates'''\n",
    "    preds = model.predict(X_test)\n",
    "    tn, fp, fn, tp = confusion_matrix(y_test, preds).ravel()\n",
    "    acc = (tp + tn) / (tn + fp + tp + fn)\n",
    "    spec = tn / (tn + fp)\n",
    "    prec = tp / (tp + fp)\n",
    "    recall = tp / (tp + fn)\n",
    "    f1 = ((prec * recall) / (prec + recall)) * 2\n",
    "\n",
    "    '''Adding all values to the model_trials dataframe'''\n",
    "    model_list = [model_id, train_score, test_score, acc, spec, prec, recall, f1, tn, fp, fn, tp]\n",
    "    model_experiments_df.loc[len(model_experiments_df.index)] = model_list\n",
    "\n",
    "    '''Output will show scores and classification metrics'''\n",
    "    print(model_id)\n",
    "    print(f'Training Score: {round(train_score, 4)}')\n",
    "    print(f'Testing Score: {round(test_score, 4)} \\n')\n",
    "    print(f'Accuracy: {round(acc, 4)}')\n",
    "    print(f'Specificity: {round(spec, 4)}')\n",
    "    print(f'Precision: {round(prec, 4)}')\n",
    "    print(f'Recall: {round(recall, 4)}')\n",
    "    print(f'F1 Score: {round(f1, 4)} \\n')\n",
    "\n",
    "    '''Returning a confusion matrix colored based on performance against the baseline'''\n",
    "    print('Best accuracy rate confusion matrix:')\n",
    "    if acc > baseline:\n",
    "        return ConfusionMatrixDisplay.from_estimator(model, X_test, y_test, cmap='viridis', values_format='d');\n",
    "    else: \n",
    "        return ConfusionMatrixDisplay.from_estimator(model, X_test, y_test, cmap='magma', values_format='d');"
   ]
  },
  {
   "cell_type": "code",
   "execution_count": 34,
   "metadata": {},
   "outputs": [
    {
     "name": "stdout",
     "output_type": "stream",
     "text": [
      "Gradient Boosting\n",
      "Training Score: 0.696\n",
      "Testing Score: 0.6762 \n",
      "\n",
      "Accuracy: 0.6762\n",
      "Specificity: 0.535\n",
      "Precision: 0.7104\n",
      "Recall: 0.7718\n",
      "F1 Score: 0.7398 \n",
      "\n",
      "Best accuracy rate confusion matrix:\n"
     ]
    },
    {
     "data": {
      "text/plain": [
       "<sklearn.metrics._plot.confusion_matrix.ConfusionMatrixDisplay at 0x14a4b1ca0>"
      ]
     },
     "execution_count": 34,
     "metadata": {},
     "output_type": "execute_result"
    },
    {
     "data": {
      "image/png": "[encoded data removed]",
      "text/plain": [
       "<Figure size 640x480 with 2 Axes>"
      ]
     },
     "metadata": {},
     "output_type": "display_data"
    }
   ],
   "source": [
    "gb = GradientBoostingClassifier(random_state=42)\n",
    "\n",
    "model_expers(gb, 'Gradient Boosting')"
   ]
  },
  {
   "cell_type": "code",
   "execution_count": 35,
   "metadata": {},
   "outputs": [
    {
     "name": "stdout",
     "output_type": "stream",
     "text": [
      "Logistic Regression\n",
      "Training Score: 0.6802\n",
      "Testing Score: 0.6701 \n",
      "\n",
      "Accuracy: 0.6701\n",
      "Specificity: 0.5117\n",
      "Precision: 0.7017\n",
      "Recall: 0.7773\n",
      "F1 Score: 0.7375 \n",
      "\n",
      "Best accuracy rate confusion matrix:\n"
     ]
    },
    {
     "data": {
      "text/plain": [
       "<sklearn.metrics._plot.confusion_matrix.ConfusionMatrixDisplay at 0x14a50d580>"
      ]
     },
     "execution_count": 35,
     "metadata": {},
     "output_type": "execute_result"
    },
    {
     "data": {
      "image/png": "[encoded data removed]",
      "text/plain": [
       "<Figure size 640x480 with 2 Axes>"
      ]
     },
     "metadata": {},
     "output_type": "display_data"
    }
   ],
   "source": [
    "lr = LogisticRegression(random_state=42)\n",
    "\n",
    "model_expers(lr, 'Logistic Regression')"
   ]
  },
  {
   "cell_type": "code",
   "execution_count": 36,
   "metadata": {},
   "outputs": [
    {
     "name": "stdout",
     "output_type": "stream",
     "text": [
      "KNN\n",
      "Training Score: 0.7289\n",
      "Testing Score: 0.6318 \n",
      "\n",
      "Accuracy: 0.6318\n",
      "Specificity: 0.5122\n",
      "Precision: 0.6834\n",
      "Recall: 0.7128\n",
      "F1 Score: 0.6978 \n",
      "\n",
      "Best accuracy rate confusion matrix:\n"
     ]
    },
    {
     "data": {
      "text/plain": [
       "<sklearn.metrics._plot.confusion_matrix.ConfusionMatrixDisplay at 0x149c84100>"
      ]
     },
     "execution_count": 36,
     "metadata": {},
     "output_type": "execute_result"
    },
    {
     "data": {
      "image/png": "[encoded data removed]",
      "text/plain": [
       "<Figure size 640x480 with 2 Axes>"
      ]
     },
     "metadata": {},
     "output_type": "display_data"
    }
   ],
   "source": [
    "knn = Pipeline([\n",
    "    ('ss', StandardScaler()),\n",
    "    ('knn', KNeighborsClassifier())\n",
    "])\n",
    "\n",
    "model_expers(knn, 'KNN')    "
   ]
  },
  {
   "cell_type": "code",
   "execution_count": 37,
   "metadata": {},
   "outputs": [
    {
     "name": "stdout",
     "output_type": "stream",
     "text": [
      "Random Forest\n",
      "Training Score: 0.8805\n",
      "Testing Score: 0.6279 \n",
      "\n",
      "Accuracy: 0.6279\n",
      "Specificity: 0.4746\n",
      "Precision: 0.673\n",
      "Recall: 0.7316\n",
      "F1 Score: 0.7011 \n",
      "\n",
      "Best accuracy rate confusion matrix:\n"
     ]
    },
    {
     "data": {
      "text/plain": [
       "<sklearn.metrics._plot.confusion_matrix.ConfusionMatrixDisplay at 0x149c95220>"
      ]
     },
     "execution_count": 37,
     "metadata": {},
     "output_type": "execute_result"
    },
    {
     "data": {
      "image/png": "[encoded data removed]",
      "text/plain": [
       "<Figure size 640x480 with 2 Axes>"
      ]
     },
     "metadata": {},
     "output_type": "display_data"
    }
   ],
   "source": [
    "rf = RandomForestClassifier(random_state=42)\n",
    "\n",
    "model_expers(rf, 'Random Forest')"
   ]
  },
  {
   "cell_type": "code",
   "execution_count": 38,
   "metadata": {},
   "outputs": [
    {
     "name": "stdout",
     "output_type": "stream",
     "text": [
      "Ada Boost\n",
      "Training Score: 0.6885\n",
      "Testing Score: 0.6758 \n",
      "\n",
      "Accuracy: 0.6758\n",
      "Specificity: 0.5446\n",
      "Precision: 0.7127\n",
      "Recall: 0.7646\n",
      "F1 Score: 0.7377 \n",
      "\n",
      "Best accuracy rate confusion matrix:\n"
     ]
    },
    {
     "data": {
      "text/plain": [
       "<sklearn.metrics._plot.confusion_matrix.ConfusionMatrixDisplay at 0x139b5fb50>"
      ]
     },
     "execution_count": 38,
     "metadata": {},
     "output_type": "execute_result"
    },
    {
     "data": {
      "image/png": "[encoded data removed]",
      "text/plain": [
       "<Figure size 640x480 with 2 Axes>"
      ]
     },
     "metadata": {},
     "output_type": "display_data"
    }
   ],
   "source": [
    "ada = AdaBoostClassifier(random_state=42)\n",
    "\n",
    "model_expers(ada, 'Ada Boost')"
   ]
  },
  {
   "cell_type": "code",
   "execution_count": 39,
   "metadata": {},
   "outputs": [
    {
     "name": "stdout",
     "output_type": "stream",
     "text": [
      "MultinomialNB\n",
      "Training Score: 0.6536\n",
      "Testing Score: 0.651 \n",
      "\n",
      "Accuracy: 0.651\n",
      "Specificity: 0.4143\n",
      "Precision: 0.6718\n",
      "Recall: 0.8113\n",
      "F1 Score: 0.735 \n",
      "\n",
      "Best accuracy rate confusion matrix:\n"
     ]
    },
    {
     "data": {
      "text/plain": [
       "<sklearn.metrics._plot.confusion_matrix.ConfusionMatrixDisplay at 0x14a57e610>"
      ]
     },
     "execution_count": 39,
     "metadata": {},
     "output_type": "execute_result"
    },
    {
     "data": {
      "image/png": "[encoded data removed]",
      "text/plain": [
       "<Figure size 640x480 with 2 Axes>"
      ]
     },
     "metadata": {},
     "output_type": "display_data"
    }
   ],
   "source": [
    "mnb = MultinomialNB()\n",
    "\n",
    "model_expers(mnb, 'MultinomialNB')"
   ]
  },
  {
   "cell_type": "code",
   "execution_count": 40,
   "metadata": {},
   "outputs": [
    {
     "name": "stdout",
     "output_type": "stream",
     "text": [
      "BaggingClassifier\n",
      "Training Score: 0.8664\n",
      "Testing Score: 0.623 \n",
      "\n",
      "Accuracy: 0.623\n",
      "Specificity: 0.5081\n",
      "Precision: 0.678\n",
      "Recall: 0.7008\n",
      "F1 Score: 0.6892 \n",
      "\n",
      "Best accuracy rate confusion matrix:\n"
     ]
    },
    {
     "data": {
      "text/plain": [
       "<sklearn.metrics._plot.confusion_matrix.ConfusionMatrixDisplay at 0x14a804b50>"
      ]
     },
     "execution_count": 40,
     "metadata": {},
     "output_type": "execute_result"
    },
    {
     "data": {
      "image/png": "[encoded data removed]",
      "text/plain": [
       "<Figure size 640x480 with 2 Axes>"
      ]
     },
     "metadata": {},
     "output_type": "display_data"
    }
   ],
   "source": [
    "bag = BaggingClassifier()\n",
    "\n",
    "model_expers(bag, 'BaggingClassifier')"
   ]
  },
  {
   "cell_type": "code",
   "execution_count": 41,
   "metadata": {},
   "outputs": [
    {
     "name": "stdout",
     "output_type": "stream",
     "text": [
      "Decision Tree\n",
      "Training Score: 0.8805\n",
      "Testing Score: 0.6017 \n",
      "\n",
      "Accuracy: 0.6017\n",
      "Specificity: 0.5025\n",
      "Precision: 0.6652\n",
      "Recall: 0.6688\n",
      "F1 Score: 0.667 \n",
      "\n",
      "Best accuracy rate confusion matrix:\n"
     ]
    },
    {
     "data": {
      "text/plain": [
       "<sklearn.metrics._plot.confusion_matrix.ConfusionMatrixDisplay at 0x14a98d040>"
      ]
     },
     "execution_count": 41,
     "metadata": {},
     "output_type": "execute_result"
    },
    {
     "data": {
      "image/png": "[encoded data removed]",
      "text/plain": [
       "<Figure size 640x480 with 2 Axes>"
      ]
     },
     "metadata": {},
     "output_type": "display_data"
    }
   ],
   "source": [
    "dtree = DecisionTreeClassifier(random_state=42)\n",
    "\n",
    "model_expers(dtree, 'Decision Tree')"
   ]
  },
  {
   "cell_type": "code",
   "execution_count": 42,
   "metadata": {},
   "outputs": [
    {
     "data": {
      "text/html": [
       "<div>\n",
       "<style scoped>\n",
       "    .dataframe tbody tr th:only-of-type {\n",
       "        vertical-align: middle;\n",
       "    }\n",
       "\n",
       "    .dataframe tbody tr th {\n",
       "        vertical-align: top;\n",
       "    }\n",
       "\n",
       "    .dataframe thead th {\n",
       "        text-align: right;\n",
       "    }\n",
       "</style>\n",
       "<table border=\"1\" class=\"dataframe\">\n",
       "  <thead>\n",
       "    <tr style=\"text-align: right;\">\n",
       "      <th></th>\n",
       "      <th>model_used</th>\n",
       "      <th>train_score</th>\n",
       "      <th>test_score</th>\n",
       "      <th>accuracy</th>\n",
       "      <th>specificity</th>\n",
       "      <th>precision</th>\n",
       "      <th>recall</th>\n",
       "      <th>f1 score</th>\n",
       "      <th>true_neg</th>\n",
       "      <th>false_pos</th>\n",
       "      <th>false_neg</th>\n",
       "      <th>true_pos</th>\n",
       "    </tr>\n",
       "  </thead>\n",
       "  <tbody>\n",
       "    <tr>\n",
       "      <th>0</th>\n",
       "      <td>Gradient Boosting</td>\n",
       "      <td>0.696008</td>\n",
       "      <td>0.676218</td>\n",
       "      <td>0.676218</td>\n",
       "      <td>0.534990</td>\n",
       "      <td>0.710360</td>\n",
       "      <td>0.771791</td>\n",
       "      <td>0.739803</td>\n",
       "      <td>1055</td>\n",
       "      <td>917</td>\n",
       "      <td>665</td>\n",
       "      <td>2249</td>\n",
       "    </tr>\n",
       "    <tr>\n",
       "      <th>1</th>\n",
       "      <td>Logistic Regression</td>\n",
       "      <td>0.680194</td>\n",
       "      <td>0.670078</td>\n",
       "      <td>0.670078</td>\n",
       "      <td>0.511663</td>\n",
       "      <td>0.701673</td>\n",
       "      <td>0.777282</td>\n",
       "      <td>0.737545</td>\n",
       "      <td>1009</td>\n",
       "      <td>963</td>\n",
       "      <td>649</td>\n",
       "      <td>2265</td>\n",
       "    </tr>\n",
       "    <tr>\n",
       "      <th>2</th>\n",
       "      <td>KNN</td>\n",
       "      <td>0.728915</td>\n",
       "      <td>0.631805</td>\n",
       "      <td>0.631805</td>\n",
       "      <td>0.512170</td>\n",
       "      <td>0.683449</td>\n",
       "      <td>0.712766</td>\n",
       "      <td>0.697799</td>\n",
       "      <td>1010</td>\n",
       "      <td>962</td>\n",
       "      <td>837</td>\n",
       "      <td>2077</td>\n",
       "    </tr>\n",
       "    <tr>\n",
       "      <th>3</th>\n",
       "      <td>Random Forest</td>\n",
       "      <td>0.880502</td>\n",
       "      <td>0.627916</td>\n",
       "      <td>0.627916</td>\n",
       "      <td>0.474645</td>\n",
       "      <td>0.672980</td>\n",
       "      <td>0.731640</td>\n",
       "      <td>0.701085</td>\n",
       "      <td>936</td>\n",
       "      <td>1036</td>\n",
       "      <td>782</td>\n",
       "      <td>2132</td>\n",
       "    </tr>\n",
       "    <tr>\n",
       "      <th>4</th>\n",
       "      <td>Ada Boost</td>\n",
       "      <td>0.688485</td>\n",
       "      <td>0.675808</td>\n",
       "      <td>0.675808</td>\n",
       "      <td>0.544625</td>\n",
       "      <td>0.712732</td>\n",
       "      <td>0.764585</td>\n",
       "      <td>0.737748</td>\n",
       "      <td>1074</td>\n",
       "      <td>898</td>\n",
       "      <td>686</td>\n",
       "      <td>2228</td>\n",
       "    </tr>\n",
       "    <tr>\n",
       "      <th>5</th>\n",
       "      <td>MultinomialNB</td>\n",
       "      <td>0.653634</td>\n",
       "      <td>0.651044</td>\n",
       "      <td>0.651044</td>\n",
       "      <td>0.414300</td>\n",
       "      <td>0.671782</td>\n",
       "      <td>0.811256</td>\n",
       "      <td>0.734960</td>\n",
       "      <td>817</td>\n",
       "      <td>1155</td>\n",
       "      <td>550</td>\n",
       "      <td>2364</td>\n",
       "    </tr>\n",
       "    <tr>\n",
       "      <th>6</th>\n",
       "      <td>BaggingClassifier</td>\n",
       "      <td>0.866428</td>\n",
       "      <td>0.623005</td>\n",
       "      <td>0.623005</td>\n",
       "      <td>0.508114</td>\n",
       "      <td>0.677955</td>\n",
       "      <td>0.700755</td>\n",
       "      <td>0.689166</td>\n",
       "      <td>1002</td>\n",
       "      <td>970</td>\n",
       "      <td>872</td>\n",
       "      <td>2042</td>\n",
       "    </tr>\n",
       "    <tr>\n",
       "      <th>7</th>\n",
       "      <td>Decision Tree</td>\n",
       "      <td>0.880502</td>\n",
       "      <td>0.601719</td>\n",
       "      <td>0.601719</td>\n",
       "      <td>0.502535</td>\n",
       "      <td>0.665188</td>\n",
       "      <td>0.668840</td>\n",
       "      <td>0.667009</td>\n",
       "      <td>991</td>\n",
       "      <td>981</td>\n",
       "      <td>965</td>\n",
       "      <td>1949</td>\n",
       "    </tr>\n",
       "  </tbody>\n",
       "</table>\n",
       "</div>"
      ],
      "text/plain": [
       "            model_used  train_score  test_score  accuracy  specificity  \\\n",
       "0    Gradient Boosting     0.696008    0.676218  0.676218     0.534990   \n",
       "1  Logistic Regression     0.680194    0.670078  0.670078     0.511663   \n",
       "2                  KNN     0.728915    0.631805  0.631805     0.512170   \n",
       "3        Random Forest     0.880502    0.627916  0.627916     0.474645   \n",
       "4            Ada Boost     0.688485    0.675808  0.675808     0.544625   \n",
       "5        MultinomialNB     0.653634    0.651044  0.651044     0.414300   \n",
       "6    BaggingClassifier     0.866428    0.623005  0.623005     0.508114   \n",
       "7        Decision Tree     0.880502    0.601719  0.601719     0.502535   \n",
       "\n",
       "   precision    recall  f1 score  true_neg  false_pos  false_neg  true_pos  \n",
       "0   0.710360  0.771791  0.739803      1055        917        665      2249  \n",
       "1   0.701673  0.777282  0.737545      1009        963        649      2265  \n",
       "2   0.683449  0.712766  0.697799      1010        962        837      2077  \n",
       "3   0.672980  0.731640  0.701085       936       1036        782      2132  \n",
       "4   0.712732  0.764585  0.737748      1074        898        686      2228  \n",
       "5   0.671782  0.811256  0.734960       817       1155        550      2364  \n",
       "6   0.677955  0.700755  0.689166      1002        970        872      2042  \n",
       "7   0.665188  0.668840  0.667009       991        981        965      1949  "
      ]
     },
     "execution_count": 42,
     "metadata": {},
     "output_type": "execute_result"
    }
   ],
   "source": [
    "model_experiments_df"
   ]
  },
  {
   "cell_type": "markdown",
   "metadata": {},
   "source": [
    "- All models aside from MNB scored worse on accuracy"
   ]
  },
  {
   "cell_type": "markdown",
   "metadata": {},
   "source": [
    "**FINAL NOTES**\n",
    "- TODO etc.\n",
    "- The last notebook in the series is [Results and Recommendations](./04_results.ipynb)."
   ]
  }
 ],
 "metadata": {
  "kernelspec": {
   "display_name": "Python 3 (ipykernel)",
   "language": "python",
   "name": "python3"
  },
  "language_info": {
   "codemirror_mode": {
    "name": "ipython",
    "version": 3
   },
   "file_extension": ".py",
   "mimetype": "text/x-python",
   "name": "python",
   "nbconvert_exporter": "python",
   "pygments_lexer": "ipython3",
   "version": "3.9.12"
  },
  "vscode": {
   "interpreter": {
    "hash": "d3fbca8c5142a5f3fc0e150e2aa7dc992112775c37c59dc77ad7b753c4c0bceb"
   }
  }
 },
 "nbformat": 4,
 "nbformat_minor": 4
}
