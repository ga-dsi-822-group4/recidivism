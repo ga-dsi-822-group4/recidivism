{
 "cells": [
  {
   "cell_type": "markdown",
   "metadata": {},
   "source": [
    "### Group Project 4 : Comparing 3 Models for Predicting Recidivism\n",
    "\n",
    "For background on this project, please see the [README](../README.md).\n",
    "\n",
    "**Notebooks**\n",
    "- [Data Acquisition & Cleaning](./01_data_acq_clean.ipynb)\n",
    "- Exploratory Data Analysis (this notebook)\n",
    "- [Modeling](./03_modeling.ipynb)\n",
    "- [Experiments](./03a_experiments.ipynb)\n",
    "- [Results and Recommendations](./04_results.ipynb)\n",
    "\n",
    "**In this notebook, you'll find:**\n",
    "- Baseline accuracy\n",
    "- TODO etc."
   ]
  },
  {
   "cell_type": "markdown",
   "metadata": {},
   "source": [
    "**Model 1: Base feature set - New York**"
   ]
  },
  {
   "cell_type": "code",
   "execution_count": 10,
   "metadata": {},
   "outputs": [],
   "source": [
    "import pandas as pd\n",
    "import numpy as np\n",
    "import matplotlib.pyplot as plt"
   ]
  },
  {
   "cell_type": "code",
   "execution_count": 2,
   "metadata": {},
   "outputs": [],
   "source": [
    "%store -r ny_df"
   ]
  },
  {
   "cell_type": "code",
   "execution_count": 3,
   "metadata": {},
   "outputs": [
    {
     "data": {
      "text/html": [
       "<div>\n",
       "<style scoped>\n",
       "    .dataframe tbody tr th:only-of-type {\n",
       "        vertical-align: middle;\n",
       "    }\n",
       "\n",
       "    .dataframe tbody tr th {\n",
       "        vertical-align: top;\n",
       "    }\n",
       "\n",
       "    .dataframe thead th {\n",
       "        text-align: right;\n",
       "    }\n",
       "</style>\n",
       "<table border=\"1\" class=\"dataframe\">\n",
       "  <thead>\n",
       "    <tr style=\"text-align: right;\">\n",
       "      <th></th>\n",
       "      <th>Release Year</th>\n",
       "      <th>Age at Release</th>\n",
       "      <th>recidivism</th>\n",
       "      <th>gender_map</th>\n",
       "    </tr>\n",
       "  </thead>\n",
       "  <tbody>\n",
       "    <tr>\n",
       "      <th>count</th>\n",
       "      <td>188650.000000</td>\n",
       "      <td>188650.000000</td>\n",
       "      <td>188650.000000</td>\n",
       "      <td>188650.000000</td>\n",
       "    </tr>\n",
       "    <tr>\n",
       "      <th>mean</th>\n",
       "      <td>2011.326064</td>\n",
       "      <td>35.473400</td>\n",
       "      <td>0.416894</td>\n",
       "      <td>0.937228</td>\n",
       "    </tr>\n",
       "    <tr>\n",
       "      <th>std</th>\n",
       "      <td>2.289170</td>\n",
       "      <td>10.972873</td>\n",
       "      <td>0.493046</td>\n",
       "      <td>0.242554</td>\n",
       "    </tr>\n",
       "    <tr>\n",
       "      <th>min</th>\n",
       "      <td>2008.000000</td>\n",
       "      <td>16.000000</td>\n",
       "      <td>0.000000</td>\n",
       "      <td>0.000000</td>\n",
       "    </tr>\n",
       "    <tr>\n",
       "      <th>25%</th>\n",
       "      <td>2009.000000</td>\n",
       "      <td>26.000000</td>\n",
       "      <td>0.000000</td>\n",
       "      <td>1.000000</td>\n",
       "    </tr>\n",
       "    <tr>\n",
       "      <th>50%</th>\n",
       "      <td>2011.000000</td>\n",
       "      <td>34.000000</td>\n",
       "      <td>0.000000</td>\n",
       "      <td>1.000000</td>\n",
       "    </tr>\n",
       "    <tr>\n",
       "      <th>75%</th>\n",
       "      <td>2013.000000</td>\n",
       "      <td>44.000000</td>\n",
       "      <td>1.000000</td>\n",
       "      <td>1.000000</td>\n",
       "    </tr>\n",
       "    <tr>\n",
       "      <th>max</th>\n",
       "      <td>2015.000000</td>\n",
       "      <td>100.000000</td>\n",
       "      <td>1.000000</td>\n",
       "      <td>1.000000</td>\n",
       "    </tr>\n",
       "  </tbody>\n",
       "</table>\n",
       "</div>"
      ],
      "text/plain": [
       "        Release Year  Age at Release     recidivism     gender_map\n",
       "count  188650.000000   188650.000000  188650.000000  188650.000000\n",
       "mean     2011.326064       35.473400       0.416894       0.937228\n",
       "std         2.289170       10.972873       0.493046       0.242554\n",
       "min      2008.000000       16.000000       0.000000       0.000000\n",
       "25%      2009.000000       26.000000       0.000000       1.000000\n",
       "50%      2011.000000       34.000000       0.000000       1.000000\n",
       "75%      2013.000000       44.000000       1.000000       1.000000\n",
       "max      2015.000000      100.000000       1.000000       1.000000"
      ]
     },
     "execution_count": 3,
     "metadata": {},
     "output_type": "execute_result"
    }
   ],
   "source": [
    "#Based on a quick review of the stats we can see the average ages and distribution of ages at release which mainly range between 26 and 44 years old.\n",
    "#We can also see the data spans release years between 2008 and 2015\n",
    "ny_df.describe()"
   ]
  },
  {
   "cell_type": "markdown",
   "metadata": {},
   "source": [
    "##### Baseline"
   ]
  },
  {
   "cell_type": "code",
   "execution_count": 8,
   "metadata": {},
   "outputs": [
    {
     "data": {
      "text/plain": [
       "Not Returned                 0.583106\n",
       "Returned Parole Violation    0.325370\n",
       "New Felony Offense           0.091524\n",
       "Name: Return Status, dtype: float64"
      ]
     },
     "execution_count": 8,
     "metadata": {},
     "output_type": "execute_result"
    }
   ],
   "source": [
    "#Breakdown of Return Status: For modeling I will combine returned parole violation and returned new felony as these both represent recidivism\n",
    "ny_df['Return Status'].value_counts(normalize = True)"
   ]
  },
  {
   "cell_type": "code",
   "execution_count": 6,
   "metadata": {},
   "outputs": [
    {
     "data": {
      "text/plain": [
       "0    0.583106\n",
       "1    0.416894\n",
       "Name: recidivism, dtype: float64"
      ]
     },
     "execution_count": 6,
     "metadata": {},
     "output_type": "execute_result"
    }
   ],
   "source": [
    "#Baseline Metrics for Model Evaluation: Majority Class, Not Returned, represents 58% of the observations which will serve as the baseline model accuracy\n",
    "ny_df['recidivism'].value_counts(normalize = True)"
   ]
  },
  {
   "cell_type": "markdown",
   "metadata": {},
   "source": [
    "##### Age at Release"
   ]
  },
  {
   "cell_type": "code",
   "execution_count": 11,
   "metadata": {},
   "outputs": [
    {
     "data": {
      "image/png": "[encoded data removed]",
      "text/plain": [
       "<Figure size 720x360 with 2 Axes>"
      ]
     },
     "metadata": {
      "needs_background": "light"
     },
     "output_type": "display_data"
    }
   ],
   "source": [
    "#Distribution of the Age at Release is pretty similar between those who are reincarcerated and those who are not with reincarcerated trending slightly lower in age.\n",
    "fig, ax = plt.subplots(1,2, figsize = (10,5))\n",
    "\n",
    "ax[0].hist(ny_df[ny_df['recidivism'] == 1]['Age at Release'], bins = 30)\n",
    "ax[0].set_title('Age at Release for Reincarcerated')\n",
    "ax[1].hist(ny_df[ny_df['recidivism'] == 0]['Age at Release'], bins = 30)\n",
    "ax[1].set_title('Age at Release for Non-Reincarcerated');"
   ]
  },
  {
   "cell_type": "code",
   "execution_count": 12,
   "metadata": {},
   "outputs": [
    {
     "data": {
      "image/png": "[encoded data removed]",
      "text/plain": [
       "<Figure size 432x288 with 1 Axes>"
      ]
     },
     "metadata": {
      "needs_background": "light"
     },
     "output_type": "display_data"
    }
   ],
   "source": [
    "#split the dataset into different age ranges below 30, 30-50, 50 and above\n",
    "below30 = ny_df[ny_df['Age at Release'] < 30]\n",
    "between_30_50 = ny_df[(ny_df['Age at Release'] >= 30) & (ny_df['Age at Release'] <= 50)]\n",
    "above50 = ny_df[ny_df['Age at Release'] > 50]\n",
    "\n",
    "#calculate recidivism rate for each age group as recidivism = reincarcerated / total pop\n",
    "below30_recid_rate = (below30[below30['recidivism'] == 1]['recidivism'].value_counts()) / below30.shape[0]\n",
    "between_30_50_recid_rate = (between_30_50[between_30_50['recidivism'] == 1]['recidivism'].value_counts()) / between_30_50.shape[0]\n",
    "above_50_recid_rate = (above50[above50['recidivism'] == 1]['recidivism'].value_counts()) / above50.shape[0]\n",
    "\n",
    "#Here we can see a steady decline in recidivism rates as the age at release increases. \n",
    "plt.bar(x = 'Below 30', height= below30_recid_rate)\n",
    "plt.bar(x = 'Between 30 and 50', height = between_30_50_recid_rate)\n",
    "plt.bar(x = 'Above 50', height = above_50_recid_rate)\n",
    "plt.xlabel('Age')\n",
    "plt.ylabel('Recidivism Rate')\n",
    "plt.title('Recidivism Rates by Age Group');"
   ]
  },
  {
   "cell_type": "markdown",
   "metadata": {},
   "source": [
    "##### Gender"
   ]
  },
  {
   "cell_type": "code",
   "execution_count": 13,
   "metadata": {},
   "outputs": [],
   "source": [
    "male = ny_df[ny_df['Gender'] == 'MALE']\n",
    "female = ny_df[ny_df['Gender'] == 'FEMALE']"
   ]
  },
  {
   "cell_type": "code",
   "execution_count": 14,
   "metadata": {},
   "outputs": [
    {
     "name": "stdout",
     "output_type": "stream",
     "text": [
      "Count of Female Observations: 11842\n",
      "Count of Male Observations: 176808\n"
     ]
    },
    {
     "data": {
      "text/plain": [
       "MALE      0.937228\n",
       "FEMALE    0.062772\n",
       "Name: Gender, dtype: float64"
      ]
     },
     "execution_count": 14,
     "metadata": {},
     "output_type": "execute_result"
    }
   ],
   "source": [
    "#Males represent an overwhelming ~94% of the observations as such it may be difficult to draw accurate comparisons with only ~12k female observations v. 176k males. \n",
    "print(f'Count of Female Observations: {female.shape[0]}')\n",
    "print(f'Count of Male Observations: {male.shape[0]}')\n",
    "ny_df['Gender'].value_counts(normalize = True)"
   ]
  },
  {
   "cell_type": "code",
   "execution_count": 15,
   "metadata": {},
   "outputs": [
    {
     "data": {
      "text/html": [
       "<div>\n",
       "<style scoped>\n",
       "    .dataframe tbody tr th:only-of-type {\n",
       "        vertical-align: middle;\n",
       "    }\n",
       "\n",
       "    .dataframe tbody tr th {\n",
       "        vertical-align: top;\n",
       "    }\n",
       "\n",
       "    .dataframe thead th {\n",
       "        text-align: right;\n",
       "    }\n",
       "</style>\n",
       "<table border=\"1\" class=\"dataframe\">\n",
       "  <thead>\n",
       "    <tr style=\"text-align: right;\">\n",
       "      <th></th>\n",
       "      <th>Release Year</th>\n",
       "      <th>Age at Release</th>\n",
       "      <th>recidivism</th>\n",
       "      <th>gender_map</th>\n",
       "    </tr>\n",
       "  </thead>\n",
       "  <tbody>\n",
       "    <tr>\n",
       "      <th>count</th>\n",
       "      <td>176808.000000</td>\n",
       "      <td>176808.000000</td>\n",
       "      <td>176808.000000</td>\n",
       "      <td>176808.0</td>\n",
       "    </tr>\n",
       "    <tr>\n",
       "      <th>mean</th>\n",
       "      <td>2011.327734</td>\n",
       "      <td>35.376476</td>\n",
       "      <td>0.425145</td>\n",
       "      <td>1.0</td>\n",
       "    </tr>\n",
       "    <tr>\n",
       "      <th>std</th>\n",
       "      <td>2.286653</td>\n",
       "      <td>11.000085</td>\n",
       "      <td>0.494366</td>\n",
       "      <td>0.0</td>\n",
       "    </tr>\n",
       "    <tr>\n",
       "      <th>min</th>\n",
       "      <td>2008.000000</td>\n",
       "      <td>16.000000</td>\n",
       "      <td>0.000000</td>\n",
       "      <td>1.0</td>\n",
       "    </tr>\n",
       "    <tr>\n",
       "      <th>25%</th>\n",
       "      <td>2009.000000</td>\n",
       "      <td>26.000000</td>\n",
       "      <td>0.000000</td>\n",
       "      <td>1.0</td>\n",
       "    </tr>\n",
       "    <tr>\n",
       "      <th>50%</th>\n",
       "      <td>2011.000000</td>\n",
       "      <td>33.000000</td>\n",
       "      <td>0.000000</td>\n",
       "      <td>1.0</td>\n",
       "    </tr>\n",
       "    <tr>\n",
       "      <th>75%</th>\n",
       "      <td>2013.000000</td>\n",
       "      <td>44.000000</td>\n",
       "      <td>1.000000</td>\n",
       "      <td>1.0</td>\n",
       "    </tr>\n",
       "    <tr>\n",
       "      <th>max</th>\n",
       "      <td>2015.000000</td>\n",
       "      <td>100.000000</td>\n",
       "      <td>1.000000</td>\n",
       "      <td>1.0</td>\n",
       "    </tr>\n",
       "  </tbody>\n",
       "</table>\n",
       "</div>"
      ],
      "text/plain": [
       "        Release Year  Age at Release     recidivism  gender_map\n",
       "count  176808.000000   176808.000000  176808.000000    176808.0\n",
       "mean     2011.327734       35.376476       0.425145         1.0\n",
       "std         2.286653       11.000085       0.494366         0.0\n",
       "min      2008.000000       16.000000       0.000000         1.0\n",
       "25%      2009.000000       26.000000       0.000000         1.0\n",
       "50%      2011.000000       33.000000       0.000000         1.0\n",
       "75%      2013.000000       44.000000       1.000000         1.0\n",
       "max      2015.000000      100.000000       1.000000         1.0"
      ]
     },
     "execution_count": 15,
     "metadata": {},
     "output_type": "execute_result"
    }
   ],
   "source": [
    "male.describe() "
   ]
  },
  {
   "cell_type": "code",
   "execution_count": 16,
   "metadata": {},
   "outputs": [
    {
     "data": {
      "text/html": [
       "<div>\n",
       "<style scoped>\n",
       "    .dataframe tbody tr th:only-of-type {\n",
       "        vertical-align: middle;\n",
       "    }\n",
       "\n",
       "    .dataframe tbody tr th {\n",
       "        vertical-align: top;\n",
       "    }\n",
       "\n",
       "    .dataframe thead th {\n",
       "        text-align: right;\n",
       "    }\n",
       "</style>\n",
       "<table border=\"1\" class=\"dataframe\">\n",
       "  <thead>\n",
       "    <tr style=\"text-align: right;\">\n",
       "      <th></th>\n",
       "      <th>Release Year</th>\n",
       "      <th>Age at Release</th>\n",
       "      <th>recidivism</th>\n",
       "      <th>gender_map</th>\n",
       "    </tr>\n",
       "  </thead>\n",
       "  <tbody>\n",
       "    <tr>\n",
       "      <th>count</th>\n",
       "      <td>11842.000000</td>\n",
       "      <td>11842.000000</td>\n",
       "      <td>11842.000000</td>\n",
       "      <td>11842.0</td>\n",
       "    </tr>\n",
       "    <tr>\n",
       "      <th>mean</th>\n",
       "      <td>2011.301132</td>\n",
       "      <td>36.920537</td>\n",
       "      <td>0.293700</td>\n",
       "      <td>0.0</td>\n",
       "    </tr>\n",
       "    <tr>\n",
       "      <th>std</th>\n",
       "      <td>2.326383</td>\n",
       "      <td>10.452333</td>\n",
       "      <td>0.455476</td>\n",
       "      <td>0.0</td>\n",
       "    </tr>\n",
       "    <tr>\n",
       "      <th>min</th>\n",
       "      <td>2008.000000</td>\n",
       "      <td>17.000000</td>\n",
       "      <td>0.000000</td>\n",
       "      <td>0.0</td>\n",
       "    </tr>\n",
       "    <tr>\n",
       "      <th>25%</th>\n",
       "      <td>2009.000000</td>\n",
       "      <td>28.000000</td>\n",
       "      <td>0.000000</td>\n",
       "      <td>0.0</td>\n",
       "    </tr>\n",
       "    <tr>\n",
       "      <th>50%</th>\n",
       "      <td>2011.000000</td>\n",
       "      <td>36.000000</td>\n",
       "      <td>0.000000</td>\n",
       "      <td>0.0</td>\n",
       "    </tr>\n",
       "    <tr>\n",
       "      <th>75%</th>\n",
       "      <td>2013.000000</td>\n",
       "      <td>45.000000</td>\n",
       "      <td>1.000000</td>\n",
       "      <td>0.0</td>\n",
       "    </tr>\n",
       "    <tr>\n",
       "      <th>max</th>\n",
       "      <td>2015.000000</td>\n",
       "      <td>86.000000</td>\n",
       "      <td>1.000000</td>\n",
       "      <td>0.0</td>\n",
       "    </tr>\n",
       "  </tbody>\n",
       "</table>\n",
       "</div>"
      ],
      "text/plain": [
       "       Release Year  Age at Release    recidivism  gender_map\n",
       "count  11842.000000    11842.000000  11842.000000     11842.0\n",
       "mean    2011.301132       36.920537      0.293700         0.0\n",
       "std        2.326383       10.452333      0.455476         0.0\n",
       "min     2008.000000       17.000000      0.000000         0.0\n",
       "25%     2009.000000       28.000000      0.000000         0.0\n",
       "50%     2011.000000       36.000000      0.000000         0.0\n",
       "75%     2013.000000       45.000000      1.000000         0.0\n",
       "max     2015.000000       86.000000      1.000000         0.0"
      ]
     },
     "execution_count": 16,
     "metadata": {},
     "output_type": "execute_result"
    }
   ],
   "source": [
    "female.describe()"
   ]
  },
  {
   "cell_type": "code",
   "execution_count": 17,
   "metadata": {},
   "outputs": [
    {
     "data": {
      "image/png": "[encoded data removed]",
      "text/plain": [
       "<Figure size 720x360 with 2 Axes>"
      ]
     },
     "metadata": {
      "needs_background": "light"
     },
     "output_type": "display_data"
    }
   ],
   "source": [
    "#The distrubtion of age at release is slightly lower for men as oppossed to women. Avg age at release for women is 37 versus 35 for men.\n",
    "fig, ax = plt.subplots(1,2, figsize = (10,5))\n",
    "\n",
    "ax[0].hist(male['Age at Release'], bins = 30)\n",
    "ax[0].set_title('Age at Release for Males')\n",
    "ax[1].hist(female['Age at Release'], bins = 30)\n",
    "ax[1].set_title('Age at Release for Females');"
   ]
  },
  {
   "cell_type": "code",
   "execution_count": 18,
   "metadata": {},
   "outputs": [
    {
     "data": {
      "image/png": "[encoded data removed]",
      "text/plain": [
       "<Figure size 432x288 with 1 Axes>"
      ]
     },
     "metadata": {
      "needs_background": "light"
     },
     "output_type": "display_data"
    }
   ],
   "source": [
    "#Men have a 13% higher recidivism rate then women. \n",
    "plt.bar(x = 'Male', height= male[male['recidivism'] == 1]['recidivism'].value_counts() / male.shape[0])\n",
    "plt.bar(x = 'Female', height = female[female['recidivism'] == 1]['recidivism'].value_counts() / female.shape[0])\n",
    "plt.xlabel('Gender')\n",
    "plt.ylabel('Recidivism Rate')\n",
    "plt.title('Recidivism Rates by Gender');"
   ]
  },
  {
   "cell_type": "markdown",
   "metadata": {},
   "source": [
    "##### County of Indictment"
   ]
  },
  {
   "cell_type": "code",
   "execution_count": 19,
   "metadata": {},
   "outputs": [
    {
     "data": {
      "text/plain": [
       "NEW YORK       0.182067\n",
       "KINGS          0.104394\n",
       "BRONX          0.094355\n",
       "QUEENS         0.070167\n",
       "SUFFOLK        0.049632\n",
       "MONROE         0.045460\n",
       "ERIE           0.043615\n",
       "ONONDAGA       0.033485\n",
       "NASSAU         0.031625\n",
       "ALBANY         0.031248\n",
       "WESTCHESTER    0.023393\n",
       "ORANGE         0.023096\n",
       "ONEIDA         0.018669\n",
       "BROOME         0.015823\n",
       "SCHENECTADY    0.014583\n",
       "Name: County of Indictment, dtype: float64"
      ]
     },
     "execution_count": 19,
     "metadata": {},
     "output_type": "execute_result"
    }
   ],
   "source": [
    "#There are 63 different counties of indictment however ~80% of observations come from 15 counties.\n",
    "ny_df['County of Indictment'].value_counts(normalize = True)[:15]"
   ]
  },
  {
   "cell_type": "code",
   "execution_count": 20,
   "metadata": {},
   "outputs": [
    {
     "data": {
      "text/plain": [
       "County of Indictment\n",
       "MONROE         0.525770\n",
       "ERIE           0.505105\n",
       "SCHENECTADY    0.504907\n",
       "CHEMUNG        0.501913\n",
       "BROOME         0.497822\n",
       "TOMPKINS       0.497630\n",
       "CHAUTAUQUA     0.491356\n",
       "TIOGA          0.485043\n",
       "RENSSELAER     0.483302\n",
       "CORTLAND       0.482866\n",
       "ULSTER         0.482848\n",
       "ONONDAGA       0.481716\n",
       "SENECA         0.477663\n",
       "ALBANY         0.475997\n",
       "OSWEGO         0.474727\n",
       "Name: recidivism, dtype: float64"
      ]
     },
     "execution_count": 20,
     "metadata": {},
     "output_type": "execute_result"
    }
   ],
   "source": [
    "#Recidivism Rates by County of Indictment (showing the top 15 recidivism rates per county)\n",
    "ny_df.groupby(['County of Indictment'])['recidivism'].mean().sort_values(ascending = False)[:15]"
   ]
  },
  {
   "cell_type": "code",
   "execution_count": 21,
   "metadata": {},
   "outputs": [
    {
     "name": "stdout",
     "output_type": "stream",
     "text": [
      "Stored 'ny_df' (DataFrame)\n"
     ]
    }
   ],
   "source": [
    "%store ny_df"
   ]
  },
  {
   "cell_type": "markdown",
   "metadata": {},
   "source": [
    "**Model 2: Criminal history feature set - Florida**"
   ]
  },
  {
   "cell_type": "code",
   "execution_count": null,
   "metadata": {},
   "outputs": [],
   "source": []
  },
  {
   "cell_type": "markdown",
   "metadata": {},
   "source": [
    "**Model 3: Behavioral feature set - Georgia**"
   ]
  },
  {
   "cell_type": "code",
   "execution_count": null,
   "metadata": {},
   "outputs": [],
   "source": []
  },
  {
   "cell_type": "markdown",
   "metadata": {},
   "source": [
    "**Combined/Summary Visualizations**"
   ]
  },
  {
   "cell_type": "code",
   "execution_count": null,
   "metadata": {},
   "outputs": [],
   "source": []
  },
  {
   "cell_type": "markdown",
   "metadata": {},
   "source": [
    "**FINAL NOTES:**\n",
    "- All visualizations from this EDA exercise can be found in the **visualizations** directory.\n",
    "- There is no data output from this notebook.\n",
    "- The next notebook in the series is [Modeling](./03_modeling.ipynb)."
   ]
  }
 ],
 "metadata": {
  "kernelspec": {
   "display_name": "Python 3 (ipykernel)",
   "language": "python",
   "name": "python3"
  },
  "language_info": {
   "codemirror_mode": {
    "name": "ipython",
    "version": 3
   },
   "file_extension": ".py",
   "mimetype": "text/x-python",
   "name": "python",
   "nbconvert_exporter": "python",
   "pygments_lexer": "ipython3",
   "version": "3.9.12"
  },
  "vscode": {
   "interpreter": {
    "hash": "5c5d815f4904d5c36e1cb6a23cb867a61c9881b6acdb1b6d63422ceae43ed5d6"
   }
  }
 },
 "nbformat": 4,
 "nbformat_minor": 4
}
