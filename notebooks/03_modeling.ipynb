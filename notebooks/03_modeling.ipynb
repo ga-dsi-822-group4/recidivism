{
 "cells": [
  {
   "cell_type": "markdown",
   "metadata": {},
   "source": [
    "### Group Project 4 : Comparing 3 Models for Predicting Recidivism\n",
    "\n",
    "For background on this project, please see the [README](../README.md).\n",
    "\n",
    "**Notebooks**\n",
    "- [Data Acquisition & Cleaning](./01_data_acq_clean.ipynb)\n",
    "- [Exploratory Data Analysis](./02_eda.ipynb)\n",
    "- Modeling (this notebook)\n",
    "- [Model Tuning](./04_tuning.ipynb)\n",
    "- [Experiments](./04a_experiments.ipynb)\n",
    "- [Results and Recommendations](./05_results.ipynb)\n",
    "\n",
    "**In this notebook, you'll find:**\n",
    "- Classification models for each of the 3 datasets\n",
    "- TODO etc."
   ]
  },
  {
   "cell_type": "code",
   "execution_count": 2,
   "metadata": {},
   "outputs": [
    {
     "name": "stderr",
     "output_type": "stream",
     "text": [
      "2022-10-23 19:02:15.906580: I tensorflow/core/platform/cpu_feature_guard.cc:193] This TensorFlow binary is optimized with oneAPI Deep Neural Network Library (oneDNN) to use the following CPU instructions in performance-critical operations:  AVX2 FMA\n",
      "To enable them in other operations, rebuild TensorFlow with the appropriate compiler flags.\n"
     ]
    }
   ],
   "source": [
    "# The usual imports\n",
    "import pandas as pd\n",
    "import matplotlib.pyplot as plt\n",
    "import numpy as np\n",
    "import time # for timing model fits\n",
    "from sklearn.model_selection import train_test_split, GridSearchCV\n",
    "from sklearn.preprocessing import StandardScaler\n",
    "from sklearn.pipeline import Pipeline\n",
    "\n",
    "# imbalanced class handling\n",
    "from imblearn.under_sampling import RandomUnderSampler, NearMiss\n",
    "from imblearn.over_sampling import RandomOverSampler, ADASYN\n",
    "from imblearn.pipeline import Pipeline as ImbalancedPipeline\n",
    "\n",
    "# classification models\n",
    "from sklearn.linear_model import LogisticRegression\n",
    "from sklearn.tree import DecisionTreeClassifier\n",
    "from sklearn.ensemble import RandomForestClassifier, GradientBoostingClassifier, AdaBoostClassifier, BaggingClassifier, StackingClassifier\n",
    "from sklearn.neighbors import KNeighborsClassifier\n",
    "from sklearn.naive_bayes import MultinomialNB\n",
    "\n",
    "# principal component analysis\n",
    "from sklearn.decomposition import PCA\n",
    "\n",
    "# neural net\n",
    "from tensorflow.keras.models import Sequential\n",
    "from tensorflow.keras.layers import Dense, Dropout, Flatten, Conv2D, MaxPooling2D\n",
    "from tensorflow.keras import utils\n",
    "from tensorflow.keras.datasets import mnist\n",
    "from tensorflow.keras.regularizers import l2\n",
    "from tensorflow.keras.callbacks import EarlyStopping\n",
    "\n",
    "# metrics\n",
    "from sklearn.metrics import plot_confusion_matrix, confusion_matrix, ConfusionMatrixDisplay, balanced_accuracy_score\n",
    "from sklearn.metrics import recall_score, f1_score, precision_score\n",
    "\n",
    "# to persist our models for later use\n",
    "import pickle"
   ]
  },
  {
   "cell_type": "markdown",
   "metadata": {},
   "source": [
    "##### Universal model evaluation function\n",
    "- We will use the below Dataframe and functions to accumulate metrics on all of our models across all of our datasets to facilitate\n",
    "evaluation and production model selection.\n",
    "- We've chosen to make 2 different versions of our **model_trials** function - the first is for non-neural-network models, and the second\n",
    "is for neural networks - to accommodate the differences in parameters, fitting, and scoring between the 2 types of models.\n",
    "- Thanks to Cynthia Rodriguez for this one!"
   ]
  },
  {
   "cell_type": "code",
   "execution_count": null,
   "metadata": {},
   "outputs": [],
   "source": [
    "# Dataframe to collect results\n",
    "model_trials_df = pd.DataFrame(columns=['dataset_name', 'model_used', 'model_params', 'train_score', 'test_score',\n",
    "'accuracy', 'specificity', 'precision', 'recall', 'f1 score', 'true_neg', 'false_pos', 'false_neg', 'true_pos'])\n",
    "\n",
    "def model_trials(dataset_name, X, y, model, model_id, scale_first = False, gs_params = None):\n",
    "    '''\n",
    "    Takes in dataset information and a (non-neural-net) model, fits the model, and appends fit metrics to a previously\n",
    "    established Dataframe for later comparison. Also displays confusion matrix upon completion.\n",
    "\n",
    "    Parameters:\n",
    "    - dataset_name (string): used to differentiate between the NY/FL/GA models\n",
    "    - X (Dataframe): features dataframe for all observations\n",
    "    - y (Dataframe or Series): target classes for all observations:\n",
    "    - model (classification model): non-neural-net model to fit\n",
    "    - model_id (string): friendly name for model to include in results\n",
    "    - scale_first (boolean): indicates whether the feature set X should be scaled before fitting\n",
    "    - gs_params (dict): parameters for a GridSearch - if None, model will be fit without GridSearching\n",
    "\n",
    "    Returns:\n",
    "    - ConfusionMatrixDisplay graphic for fitted model\n",
    "    - Also appends results to previously established metrics dataframe\n",
    "    '''\n",
    "\n",
    "    '''Setting X and y, and fitting the model'''\n",
    "    X_train, X_test, y_train, y_test = train_test_split(X, y, test_size = 0.2, random_state = 42, stratify = y)\n",
    "\n",
    "    '''Scale if needed'''\n",
    "    if (scale_first):\n",
    "        ss = StandardScaler()\n",
    "        X_train = ss.fit_transform(X_train)\n",
    "        X_test = ss.transform(X_test)\n",
    "\n",
    "    if (gs_params):\n",
    "        gs = GridSearchCV(model, gs_params)\n",
    "        gs.fit(X_train, y_train)\n",
    "        model = gs.best_estimator_\n",
    "        model_params = gs.best_params_\n",
    "    else:\n",
    "        model.fit(X_train, y_train)\n",
    "        model_params = model.get_params()\n",
    "\n",
    "    train_score = model.score(X_train, y_train)\n",
    "    test_score = model.score(X_test, y_test)\n",
    "\n",
    "    '''Baseline calculation for reference in the returned confusion matrix'''\n",
    "    baseline = y.value_counts(normalize=True)[1]\n",
    "\n",
    "    '''Calculating classification rates'''\n",
    "    preds = model.predict(X_test)\n",
    "    tn, fp, fn, tp = confusion_matrix(y_test, preds).ravel()\n",
    "    acc = (tp + tn) / (tn + fp + tp + fn)\n",
    "    spec = tn / (tn + fp)\n",
    "    prec = tp / (tp + fp)\n",
    "    recall = tp / (tp + fn)\n",
    "    f1 = ((prec * recall) / (prec + recall)) * 2\n",
    "\n",
    "    '''Adding all values to the model_trials dataframe'''\n",
    "    model_list = [dataset_name, model_id, model_params, train_score, test_score, acc, spec, prec, recall, f1, tn, fp, fn, tp]\n",
    "    model_trials_df.loc[len(model_trials_df.index)] = model_list\n",
    "\n",
    "    '''Output will show scores and classification metrics'''\n",
    "    print(f'Dataset: {dataset_name}')\n",
    "    print(f'Model ID: {model_id}')\n",
    "    print(f'Model Params: {model_params}')\n",
    "    print(f'Training Score: {round(train_score, 4)}')\n",
    "    print(f'Testing Score: {round(test_score, 4)} \\n')\n",
    "    print(f'Accuracy: {round(acc, 4)}')\n",
    "    print(f'Specificity: {round(spec, 4)}')\n",
    "    print(f'Precision: {round(prec, 4)}')\n",
    "    print(f'Recall: {round(recall, 4)}')\n",
    "    print(f'F1 Score: {round(f1, 4)} \\n')\n",
    "\n",
    "    '''Returning a confusion matrix colored based on performance against the baseline'''\n",
    "    print('Best accuracy rate confusion matrix:')\n",
    "    if acc > baseline:\n",
    "        return ConfusionMatrixDisplay.from_estimator(model, X_test, y_test, cmap='viridis', values_format='d');\n",
    "    else: \n",
    "        return ConfusionMatrixDisplay.from_estimator(model, X_test, y_test, cmap='magma', values_format='d');"
   ]
  },
  {
   "cell_type": "code",
   "execution_count": null,
   "metadata": {},
   "outputs": [],
   "source": [
    "# neural net version\n",
    "def model_trials_nn(dataset_name, X, y, model, model_id, epochs = 10, batch_size = 32):\n",
    "    '''\n",
    "    Takes in dataset information and a neural network model, fits the model, and appends fit metrics to a previously\n",
    "    established Dataframe for later comparison. Also displays confusion matrix upon completion. NOTE: assumes model's\n",
    "    output layer uses the sigmoid activation function (i.e., binary classification) and was compiled with 'accuracy' among its metrics.\n",
    "\n",
    "    Parameters:\n",
    "    - dataset_name (string): used to differentiate between the NY/FL/GA models\n",
    "    - X (Dataframe): features dataframe for all observations\n",
    "    - y (Dataframe or Series): target classes for all observations:\n",
    "    - model (classification model): neural network model to fit\n",
    "    - model_id (string): friendly name for model to include in results\n",
    "    - epochs (int): number of neural network epochs to run\n",
    "    - batch_size (int): size of neural network batch\n",
    "\n",
    "    Returns:\n",
    "    - ConfusionMatrixDisplay graphic for fitted model\n",
    "    - Also appends results to previously established metrics dataframe\n",
    "    '''\n",
    "\n",
    "    '''Setting X and y, and fitting the model'''\n",
    "    X_train, X_test, y_train, y_test = train_test_split(X, y, test_size = 0.2, random_state = 42, stratify = y)\n",
    "\n",
    "    '''Always scale for neural nets!'''\n",
    "    ss = StandardScaler()\n",
    "    X_train = ss.fit_transform(X_train)\n",
    "    X_test = ss.transform(X_test)\n",
    "\n",
    "    res = model.fit(X_train, y_train, validation_data = (X_test, y_test), epochs = epochs, batch_size = batch_size, verbose = 0)\n",
    "    model_params = {'epochs': epochs, 'batch_size': batch_size} # all we'll capture for these - there are too many weights to be useful!\n",
    "        \n",
    "    train_score = res.history['accuracy'][-1]\n",
    "    test_score = res.history['val_accuracy'][-1]\n",
    "\n",
    "    '''Baseline calculation for reference in the returned confusion matrix'''\n",
    "    baseline = y.value_counts(normalize=True)[1]\n",
    "\n",
    "    '''Calculating classification rates'''\n",
    "    '''Assumes a 0.5 probability threshold'''\n",
    "    preds = [1 if x >= 0.5 else 0 for x in model.predict(X_test)[:, 0]]\n",
    "    tn, fp, fn, tp = confusion_matrix(y_test, preds).ravel()\n",
    "    acc = (tp + tn) / (tn + fp + tp + fn)\n",
    "    spec = tn / (tn + fp)\n",
    "    prec = tp / (tp + fp)\n",
    "    recall = tp / (tp + fn)\n",
    "    f1 = ((prec * recall) / (prec + recall)) * 2\n",
    "\n",
    "    '''Adding all values to the model_trials dataframe'''\n",
    "    model_list = [dataset_name, model_id, model_params, train_score, test_score, acc, spec, prec, recall, f1, tn, fp, fn, tp]\n",
    "    model_trials_df.loc[len(model_trials_df.index)] = model_list\n",
    "\n",
    "    '''Output will show scores and classification metrics'''\n",
    "    print(f'Dataset: {dataset_name}')\n",
    "    print(f'Model ID: {model_id}')\n",
    "    print(f'Model Params: {model_params}')\n",
    "    print(f'Training Score: {round(train_score, 4)}')\n",
    "    print(f'Testing Score: {round(test_score, 4)} \\n')\n",
    "    print(f'Accuracy: {round(acc, 4)}')\n",
    "    print(f'Specificity: {round(spec, 4)}')\n",
    "    print(f'Precision: {round(prec, 4)}')\n",
    "    print(f'Recall: {round(recall, 4)}')\n",
    "    print(f'F1 Score: {round(f1, 4)} \\n')\n",
    "\n",
    "    '''Returning a confusion matrix colored based on performance against the baseline'''\n",
    "    print('Best accuracy rate confusion matrix:')\n",
    "    if acc > baseline:\n",
    "        return ConfusionMatrixDisplay.from_predictions(y_test, preds, cmap = 'viridis', values_format = 'd');\n",
    "    else: \n",
    "        return ConfusionMatrixDisplay.from_predictions(y_test, preds, cmap = 'magma', values_format = 'd');"
   ]
  },
  {
   "cell_type": "markdown",
   "metadata": {},
   "source": [
    "---\n",
    "**Model 1: Base feature set - New York**"
   ]
  },
  {
   "cell_type": "code",
   "execution_count": null,
   "metadata": {},
   "outputs": [
    {
     "data": {
      "text/html": [
       "<div>\n",
       "<style scoped>\n",
       "    .dataframe tbody tr th:only-of-type {\n",
       "        vertical-align: middle;\n",
       "    }\n",
       "\n",
       "    .dataframe tbody tr th {\n",
       "        vertical-align: top;\n",
       "    }\n",
       "\n",
       "    .dataframe thead th {\n",
       "        text-align: right;\n",
       "    }\n",
       "</style>\n",
       "<table border=\"1\" class=\"dataframe\">\n",
       "  <thead>\n",
       "    <tr style=\"text-align: right;\">\n",
       "      <th></th>\n",
       "      <th>Release Year</th>\n",
       "      <th>County of Indictment</th>\n",
       "      <th>Gender</th>\n",
       "      <th>Age at Release</th>\n",
       "      <th>Return Status</th>\n",
       "      <th>recidivism</th>\n",
       "      <th>gender_map</th>\n",
       "    </tr>\n",
       "  </thead>\n",
       "  <tbody>\n",
       "    <tr>\n",
       "      <th>0</th>\n",
       "      <td>2008</td>\n",
       "      <td>UNKNOWN</td>\n",
       "      <td>MALE</td>\n",
       "      <td>55</td>\n",
       "      <td>Not Returned</td>\n",
       "      <td>0</td>\n",
       "      <td>1</td>\n",
       "    </tr>\n",
       "    <tr>\n",
       "      <th>1</th>\n",
       "      <td>2008</td>\n",
       "      <td>ALBANY</td>\n",
       "      <td>MALE</td>\n",
       "      <td>16</td>\n",
       "      <td>Returned Parole Violation</td>\n",
       "      <td>1</td>\n",
       "      <td>1</td>\n",
       "    </tr>\n",
       "    <tr>\n",
       "      <th>2</th>\n",
       "      <td>2008</td>\n",
       "      <td>ALBANY</td>\n",
       "      <td>MALE</td>\n",
       "      <td>17</td>\n",
       "      <td>Not Returned</td>\n",
       "      <td>0</td>\n",
       "      <td>1</td>\n",
       "    </tr>\n",
       "    <tr>\n",
       "      <th>3</th>\n",
       "      <td>2008</td>\n",
       "      <td>ALBANY</td>\n",
       "      <td>MALE</td>\n",
       "      <td>17</td>\n",
       "      <td>Returned Parole Violation</td>\n",
       "      <td>1</td>\n",
       "      <td>1</td>\n",
       "    </tr>\n",
       "    <tr>\n",
       "      <th>4</th>\n",
       "      <td>2008</td>\n",
       "      <td>ALBANY</td>\n",
       "      <td>MALE</td>\n",
       "      <td>18</td>\n",
       "      <td>Not Returned</td>\n",
       "      <td>0</td>\n",
       "      <td>1</td>\n",
       "    </tr>\n",
       "  </tbody>\n",
       "</table>\n",
       "</div>"
      ],
      "text/plain": [
       "   Release Year County of Indictment Gender  Age at Release  \\\n",
       "0          2008              UNKNOWN   MALE              55   \n",
       "1          2008               ALBANY   MALE              16   \n",
       "2          2008               ALBANY   MALE              17   \n",
       "3          2008               ALBANY   MALE              17   \n",
       "4          2008               ALBANY   MALE              18   \n",
       "\n",
       "               Return Status  recidivism  gender_map  \n",
       "0               Not Returned           0           1  \n",
       "1  Returned Parole Violation           1           1  \n",
       "2               Not Returned           0           1  \n",
       "3  Returned Parole Violation           1           1  \n",
       "4               Not Returned           0           1  "
      ]
     },
     "execution_count": 83,
     "metadata": {},
     "output_type": "execute_result"
    }
   ],
   "source": [
    "# read in the clean NY data and remind ourselves what it looks like\n",
    "ny_df = pd.read_csv('../data/NY/NY_final.csv')\n",
    "ny_df.head()"
   ]
  },
  {
   "cell_type": "markdown",
   "metadata": {},
   "source": [
    "##### Basic Models- Two Features Gender and Age"
   ]
  },
  {
   "cell_type": "code",
   "execution_count": null,
   "metadata": {},
   "outputs": [],
   "source": [
    "# Define X and y\n",
    "X = ny_df[['gender_map', 'Age at Release']]\n",
    "y = ny_df['recidivism']"
   ]
  },
  {
   "cell_type": "code",
   "execution_count": null,
   "metadata": {},
   "outputs": [
    {
     "name": "stdout",
     "output_type": "stream",
     "text": [
      "Dataset: NY\n",
      "Model ID: LogisticRegression w/gender + age\n",
      "Model Params: {'C': 1.0, 'class_weight': None, 'dual': False, 'fit_intercept': True, 'intercept_scaling': 1, 'l1_ratio': None, 'max_iter': 100, 'multi_class': 'auto', 'n_jobs': None, 'penalty': 'l2', 'random_state': None, 'solver': 'lbfgs', 'tol': 0.0001, 'verbose': 0, 'warm_start': False}\n",
      "Training Score: 0.5868\n",
      "Testing Score: 0.5879 \n",
      "\n",
      "Accuracy: 0.5879\n",
      "Specificity: 0.9707\n",
      "Precision: 0.5615\n",
      "Recall: 0.0525\n",
      "F1 Score: 0.096 \n",
      "\n",
      "Best accuracy rate confusion matrix:\n"
     ]
    },
    {
     "data": {
      "image/png": "[encoded data removed]",
      "text/plain": [
       "<Figure size 432x288 with 2 Axes>"
      ]
     },
     "metadata": {
      "needs_background": "light"
     },
     "output_type": "display_data"
    }
   ],
   "source": [
    "# Vanilla Logistic Regression\n",
    "ny_logreg = LogisticRegression()\n",
    "model_trials('NY', X, y, ny_logreg, 'LogisticRegression w/gender + age');"
   ]
  },
  {
   "cell_type": "code",
   "execution_count": null,
   "metadata": {},
   "outputs": [
    {
     "name": "stdout",
     "output_type": "stream",
     "text": [
      "Dataset: NY\n",
      "Model ID: RandomForest w/gender + age\n",
      "Model Params: {'bootstrap': True, 'ccp_alpha': 0.0, 'class_weight': None, 'criterion': 'gini', 'max_depth': None, 'max_features': 'sqrt', 'max_leaf_nodes': None, 'max_samples': None, 'min_impurity_decrease': 0.0, 'min_samples_leaf': 1, 'min_samples_split': 2, 'min_weight_fraction_leaf': 0.0, 'n_estimators': 100, 'n_jobs': None, 'oob_score': False, 'random_state': 42, 'verbose': 0, 'warm_start': False}\n",
      "Training Score: 0.5883\n",
      "Testing Score: 0.587 \n",
      "\n",
      "Accuracy: 0.587\n",
      "Specificity: 0.918\n",
      "Precision: 0.5196\n",
      "Recall: 0.124\n",
      "F1 Score: 0.2002 \n",
      "\n",
      "Best accuracy rate confusion matrix:\n"
     ]
    },
    {
     "data": {
      "image/png": "[encoded data removed]",
      "text/plain": [
       "<Figure size 432x288 with 2 Axes>"
      ]
     },
     "metadata": {
      "needs_background": "light"
     },
     "output_type": "display_data"
    }
   ],
   "source": [
    "# Random Forest\n",
    "ny_rf = RandomForestClassifier(random_state = 42)\n",
    "model_trials('NY', X, y, ny_rf, 'RandomForest w/gender + age');"
   ]
  },
  {
   "cell_type": "code",
   "execution_count": null,
   "metadata": {},
   "outputs": [
    {
     "name": "stdout",
     "output_type": "stream",
     "text": [
      "Dataset: NY\n",
      "Model ID: AdaBoost w/gender + age\n",
      "Model Params: {'algorithm': 'SAMME.R', 'base_estimator__ccp_alpha': 0.0, 'base_estimator__class_weight': None, 'base_estimator__criterion': 'gini', 'base_estimator__max_depth': None, 'base_estimator__max_features': None, 'base_estimator__max_leaf_nodes': None, 'base_estimator__min_impurity_decrease': 0.0, 'base_estimator__min_samples_leaf': 1, 'base_estimator__min_samples_split': 2, 'base_estimator__min_weight_fraction_leaf': 0.0, 'base_estimator__random_state': 42, 'base_estimator__splitter': 'best', 'base_estimator': DecisionTreeClassifier(random_state=42), 'learning_rate': 1.0, 'n_estimators': 50, 'random_state': None}\n",
      "Training Score: 0.5883\n",
      "Testing Score: 0.587 \n",
      "\n",
      "Accuracy: 0.587\n",
      "Specificity: 0.918\n",
      "Precision: 0.5196\n",
      "Recall: 0.124\n",
      "F1 Score: 0.2002 \n",
      "\n",
      "Best accuracy rate confusion matrix:\n"
     ]
    },
    {
     "data": {
      "image/png": "[encoded data removed]",
      "text/plain": [
       "<Figure size 432x288 with 2 Axes>"
      ]
     },
     "metadata": {
      "needs_background": "light"
     },
     "output_type": "display_data"
    }
   ],
   "source": [
    "# AdaBoost\n",
    "ny_ada = AdaBoostClassifier(base_estimator = DecisionTreeClassifier(random_state = 42))\n",
    "model_trials('NY', X, y, ny_ada, 'AdaBoost w/gender + age');"
   ]
  },
  {
   "cell_type": "code",
   "execution_count": null,
   "metadata": {},
   "outputs": [
    {
     "name": "stdout",
     "output_type": "stream",
     "text": [
      "Dataset: NY\n",
      "Model ID: GradientBoost w/gender + age\n",
      "Model Params: {'ccp_alpha': 0.0, 'criterion': 'friedman_mse', 'init': None, 'learning_rate': 0.1, 'loss': 'log_loss', 'max_depth': 3, 'max_features': None, 'max_leaf_nodes': None, 'min_impurity_decrease': 0.0, 'min_samples_leaf': 1, 'min_samples_split': 2, 'min_weight_fraction_leaf': 0.0, 'n_estimators': 100, 'n_iter_no_change': None, 'random_state': 42, 'subsample': 1.0, 'tol': 0.0001, 'validation_fraction': 0.1, 'verbose': 0, 'warm_start': False}\n",
      "Training Score: 0.5883\n",
      "Testing Score: 0.587 \n",
      "\n",
      "Accuracy: 0.587\n",
      "Specificity: 0.9182\n",
      "Precision: 0.5195\n",
      "Recall: 0.1237\n",
      "F1 Score: 0.1998 \n",
      "\n",
      "Best accuracy rate confusion matrix:\n"
     ]
    },
    {
     "data": {
      "image/png": "[encoded data removed]",
      "text/plain": [
       "<Figure size 432x288 with 2 Axes>"
      ]
     },
     "metadata": {
      "needs_background": "light"
     },
     "output_type": "display_data"
    }
   ],
   "source": [
    "# GradientBoost\n",
    "ny_gboost = GradientBoostingClassifier(random_state = 42)\n",
    "model_trials('NY', X, y, ny_gboost, 'GradientBoost w/gender + age');"
   ]
  },
  {
   "cell_type": "code",
   "execution_count": null,
   "metadata": {},
   "outputs": [
    {
     "name": "stdout",
     "output_type": "stream",
     "text": [
      "Dataset: NY\n",
      "Model ID: Stack of RandomForest, GradientBoost, AdaBoost w/gender + age\n",
      "Model Params: {'cv': None, 'estimators': [('random_forest', RandomForestClassifier()), ('gboost', GradientBoostingClassifier()), ('ada', AdaBoostClassifier())], 'final_estimator__C': 1.0, 'final_estimator__class_weight': None, 'final_estimator__dual': False, 'final_estimator__fit_intercept': True, 'final_estimator__intercept_scaling': 1, 'final_estimator__l1_ratio': None, 'final_estimator__max_iter': 100, 'final_estimator__multi_class': 'auto', 'final_estimator__n_jobs': None, 'final_estimator__penalty': 'l2', 'final_estimator__random_state': None, 'final_estimator__solver': 'lbfgs', 'final_estimator__tol': 0.0001, 'final_estimator__verbose': 0, 'final_estimator__warm_start': False, 'final_estimator': LogisticRegression(), 'n_jobs': None, 'passthrough': False, 'stack_method': 'auto', 'verbose': 0, 'random_forest': RandomForestClassifier(), 'gboost': GradientBoostingClassifier(), 'ada': AdaBoostClassifier(), 'random_forest__bootstrap': True, 'random_forest__ccp_alpha': 0.0, 'random_forest__class_weight': None, 'random_forest__criterion': 'gini', 'random_forest__max_depth': None, 'random_forest__max_features': 'sqrt', 'random_forest__max_leaf_nodes': None, 'random_forest__max_samples': None, 'random_forest__min_impurity_decrease': 0.0, 'random_forest__min_samples_leaf': 1, 'random_forest__min_samples_split': 2, 'random_forest__min_weight_fraction_leaf': 0.0, 'random_forest__n_estimators': 100, 'random_forest__n_jobs': None, 'random_forest__oob_score': False, 'random_forest__random_state': None, 'random_forest__verbose': 0, 'random_forest__warm_start': False, 'gboost__ccp_alpha': 0.0, 'gboost__criterion': 'friedman_mse', 'gboost__init': None, 'gboost__learning_rate': 0.1, 'gboost__loss': 'log_loss', 'gboost__max_depth': 3, 'gboost__max_features': None, 'gboost__max_leaf_nodes': None, 'gboost__min_impurity_decrease': 0.0, 'gboost__min_samples_leaf': 1, 'gboost__min_samples_split': 2, 'gboost__min_weight_fraction_leaf': 0.0, 'gboost__n_estimators': 100, 'gboost__n_iter_no_change': None, 'gboost__random_state': None, 'gboost__subsample': 1.0, 'gboost__tol': 0.0001, 'gboost__validation_fraction': 0.1, 'gboost__verbose': 0, 'gboost__warm_start': False, 'ada__algorithm': 'SAMME.R', 'ada__base_estimator': None, 'ada__learning_rate': 1.0, 'ada__n_estimators': 50, 'ada__random_state': None}\n",
      "Training Score: 0.5883\n",
      "Testing Score: 0.587 \n",
      "\n",
      "Accuracy: 0.587\n",
      "Specificity: 0.9182\n",
      "Precision: 0.5195\n",
      "Recall: 0.1237\n",
      "F1 Score: 0.1998 \n",
      "\n",
      "Best accuracy rate confusion matrix:\n"
     ]
    },
    {
     "data": {
      "image/png": "[encoded data removed]",
      "text/plain": [
       "<Figure size 432x288 with 2 Axes>"
      ]
     },
     "metadata": {
      "needs_background": "light"
     },
     "output_type": "display_data"
    }
   ],
   "source": [
    "# Stacked Model\n",
    "level1_estimators = [\n",
    "    ('random_forest', RandomForestClassifier()),\n",
    "    ('gboost', GradientBoostingClassifier()),\n",
    "    ('ada', AdaBoostClassifier())\n",
    "]\n",
    "\n",
    "ny_stacked_model = StackingClassifier(estimators=level1_estimators,\n",
    "                                 final_estimator = LogisticRegression())\n",
    "\n",
    "model_trials('NY', X, y, ny_stacked_model, 'Stack of RandomForest, GradientBoost, AdaBoost w/gender + age');"
   ]
  },
  {
   "cell_type": "code",
   "execution_count": null,
   "metadata": {},
   "outputs": [
    {
     "name": "stdout",
     "output_type": "stream",
     "text": [
      "Dataset: NY\n",
      "Model ID: KNeighbors w/gender + age\n",
      "Model Params: {'algorithm': 'auto', 'leaf_size': 30, 'metric': 'minkowski', 'metric_params': None, 'n_jobs': None, 'n_neighbors': 5, 'p': 2, 'weights': 'uniform'}\n",
      "Training Score: 0.5319\n",
      "Testing Score: 0.5313 \n",
      "\n",
      "Accuracy: 0.5313\n",
      "Specificity: 0.6467\n",
      "Precision: 0.428\n",
      "Recall: 0.3698\n",
      "F1 Score: 0.3968 \n",
      "\n",
      "Best accuracy rate confusion matrix:\n"
     ]
    },
    {
     "data": {
      "image/png": "[encoded data removed]",
      "text/plain": [
       "<Figure size 432x288 with 2 Axes>"
      ]
     },
     "metadata": {
      "needs_background": "light"
     },
     "output_type": "display_data"
    }
   ],
   "source": [
    "# KNN\n",
    "ny_knn = KNeighborsClassifier()\n",
    "\n",
    "model_trials('NY', X, y, ny_knn, 'KNeighbors w/gender + age', scale_first = True);"
   ]
  },
  {
   "cell_type": "markdown",
   "metadata": {},
   "source": [
    "##### Models Including County, Gender, Age"
   ]
  },
  {
   "cell_type": "code",
   "execution_count": null,
   "metadata": {},
   "outputs": [],
   "source": [
    "# Creating a Dataframe including dummies of the county of indictment\n",
    "df_dummies = pd.get_dummies(ny_df['County of Indictment'])\n",
    "df_dummies['gender'] = ny_df['gender_map']\n",
    "df_dummies['recidivism'] = ny_df['recidivism']\n",
    "df_dummies['age'] = ny_df['Age at Release']\n",
    "\n",
    "# Define X and y with dummy data\n",
    "X = df_dummies.drop(columns = ['recidivism'])\n",
    "y = df_dummies['recidivism']"
   ]
  },
  {
   "cell_type": "code",
   "execution_count": null,
   "metadata": {},
   "outputs": [
    {
     "name": "stderr",
     "output_type": "stream",
     "text": [
      "c:\\Users\\Gabe\\anaconda3\\lib\\site-packages\\sklearn\\linear_model\\_logistic.py:444: ConvergenceWarning: lbfgs failed to converge (status=1):\n",
      "STOP: TOTAL NO. of ITERATIONS REACHED LIMIT.\n",
      "\n",
      "Increase the number of iterations (max_iter) or scale the data as shown in:\n",
      "    https://scikit-learn.org/stable/modules/preprocessing.html\n",
      "Please also refer to the documentation for alternative solver options:\n",
      "    https://scikit-learn.org/stable/modules/linear_model.html#logistic-regression\n",
      "  n_iter_i = _check_optimize_result(\n"
     ]
    },
    {
     "name": "stdout",
     "output_type": "stream",
     "text": [
      "Dataset: NY\n",
      "Model ID: LogisticRegression w/county, gender + age\n",
      "Model Params: {'C': 1.0, 'class_weight': None, 'dual': False, 'fit_intercept': True, 'intercept_scaling': 1, 'l1_ratio': None, 'max_iter': 100, 'multi_class': 'auto', 'n_jobs': None, 'penalty': 'l2', 'random_state': None, 'solver': 'lbfgs', 'tol': 0.0001, 'verbose': 0, 'warm_start': False}\n",
      "Training Score: 0.5987\n",
      "Testing Score: 0.599 \n",
      "\n",
      "Accuracy: 0.599\n",
      "Specificity: 0.8768\n",
      "Precision: 0.5498\n",
      "Recall: 0.2105\n",
      "F1 Score: 0.3044 \n",
      "\n",
      "Best accuracy rate confusion matrix:\n"
     ]
    },
    {
     "data": {
      "image/png": "[encoded data removed]",
      "text/plain": [
       "<Figure size 432x288 with 2 Axes>"
      ]
     },
     "metadata": {
      "needs_background": "light"
     },
     "output_type": "display_data"
    }
   ],
   "source": [
    "# Logistic Regression\n",
    "ny_lr2 = LogisticRegression()\n",
    "model_trials('NY', X, y, ny_lr2, 'LogisticRegression w/county, gender + age');"
   ]
  },
  {
   "cell_type": "code",
   "execution_count": null,
   "metadata": {},
   "outputs": [
    {
     "name": "stdout",
     "output_type": "stream",
     "text": [
      "Dataset: NY\n",
      "Model ID: RandomForest w/GridSearch w/county, gender + age\n",
      "Model Params: {'max_depth': 15, 'max_features': 15, 'n_estimators': 120}\n",
      "Training Score: 0.6029\n",
      "Testing Score: 0.5976 \n",
      "\n",
      "Accuracy: 0.5976\n",
      "Specificity: 0.8931\n",
      "Precision: 0.5522\n",
      "Recall: 0.1844\n",
      "F1 Score: 0.2764 \n",
      "\n",
      "Best accuracy rate confusion matrix:\n"
     ]
    },
    {
     "data": {
      "image/png": "[encoded data removed]",
      "text/plain": [
       "<Figure size 432x288 with 2 Axes>"
      ]
     },
     "metadata": {
      "needs_background": "light"
     },
     "output_type": "display_data"
    }
   ],
   "source": [
    "# Random Forest with Hyperparameter tuning\n",
    "ny_rf2 = RandomForestClassifier(random_state = 42)\n",
    "rf_params = {\n",
    "    'n_estimators': [120, 130],\n",
    "    'max_depth': [15, 20],\n",
    "    'max_features' : [15, 20]\n",
    "}\n",
    "\n",
    "model_trials('NY', X, y, ny_rf2, 'RandomForest w/GridSearch w/county, gender + age', gs_params = rf_params);"
   ]
  },
  {
   "cell_type": "code",
   "execution_count": null,
   "metadata": {},
   "outputs": [
    {
     "name": "stdout",
     "output_type": "stream",
     "text": [
      "Dataset: NY\n",
      "Model ID: AdaBoost w/GridSearch w/county, gender + age\n",
      "Model Params: {'base_estimator__max_depth': 1, 'n_estimators': 100}\n",
      "Training Score: 0.5996\n",
      "Testing Score: 0.6 \n",
      "\n",
      "Accuracy: 0.6\n",
      "Specificity: 0.8708\n",
      "Precision: 0.5504\n",
      "Recall: 0.2213\n",
      "F1 Score: 0.3157 \n",
      "\n",
      "Best accuracy rate confusion matrix:\n"
     ]
    },
    {
     "data": {
      "image/png": "[encoded data removed]",
      "text/plain": [
       "<Figure size 432x288 with 2 Axes>"
      ]
     },
     "metadata": {
      "needs_background": "light"
     },
     "output_type": "display_data"
    }
   ],
   "source": [
    "#Ada Boost with Hyperparameter tuning\n",
    "ny_ada2 = AdaBoostClassifier(base_estimator = DecisionTreeClassifier(random_state = 42))\n",
    "\n",
    "ada_params= {\n",
    "    'n_estimators': [50, 100],\n",
    "    'base_estimator__max_depth':[1, 3]\n",
    "}\n",
    "\n",
    "model_trials('NY', X, y, ny_ada2, 'AdaBoost w/GridSearch w/county, gender + age', gs_params = ada_params);"
   ]
  },
  {
   "cell_type": "code",
   "execution_count": null,
   "metadata": {},
   "outputs": [
    {
     "name": "stdout",
     "output_type": "stream",
     "text": [
      "Dataset: NY\n",
      "Model ID: GradientBoost w/county, gender + age\n",
      "Model Params: {'ccp_alpha': 0.0, 'criterion': 'friedman_mse', 'init': None, 'learning_rate': 0.1, 'loss': 'log_loss', 'max_depth': 3, 'max_features': None, 'max_leaf_nodes': None, 'min_impurity_decrease': 0.0, 'min_samples_leaf': 1, 'min_samples_split': 2, 'min_weight_fraction_leaf': 0.0, 'n_estimators': 100, 'n_iter_no_change': None, 'random_state': 42, 'subsample': 1.0, 'tol': 0.0001, 'validation_fraction': 0.1, 'verbose': 0, 'warm_start': False}\n",
      "Training Score: 0.5989\n",
      "Testing Score: 0.5988 \n",
      "\n",
      "Accuracy: 0.5988\n",
      "Specificity: 0.9183\n",
      "Precision: 0.5708\n",
      "Recall: 0.152\n",
      "F1 Score: 0.2401 \n",
      "\n",
      "Best accuracy rate confusion matrix:\n"
     ]
    },
    {
     "data": {
      "image/png": "[encoded data removed]",
      "text/plain": [
       "<Figure size 432x288 with 2 Axes>"
      ]
     },
     "metadata": {
      "needs_background": "light"
     },
     "output_type": "display_data"
    }
   ],
   "source": [
    "# Gradient Boost\n",
    "ny_gboost2 = GradientBoostingClassifier(random_state = 42)\n",
    "model_trials('NY', X, y, ny_gboost2, 'GradientBoost w/county, gender + age');"
   ]
  },
  {
   "cell_type": "code",
   "execution_count": null,
   "metadata": {},
   "outputs": [
    {
     "name": "stdout",
     "output_type": "stream",
     "text": [
      "Dataset: NY\n",
      "Model ID: Stack w/RandomForest + GradientBoost w/county, gender + age\n",
      "Model Params: {'cv': None, 'estimators': [('random_forest', RandomForestClassifier()), ('gboost', GradientBoostingClassifier())], 'final_estimator__C': 1.0, 'final_estimator__class_weight': None, 'final_estimator__dual': False, 'final_estimator__fit_intercept': True, 'final_estimator__intercept_scaling': 1, 'final_estimator__l1_ratio': None, 'final_estimator__max_iter': 100, 'final_estimator__multi_class': 'auto', 'final_estimator__n_jobs': None, 'final_estimator__penalty': 'l2', 'final_estimator__random_state': None, 'final_estimator__solver': 'lbfgs', 'final_estimator__tol': 0.0001, 'final_estimator__verbose': 0, 'final_estimator__warm_start': False, 'final_estimator': LogisticRegression(), 'n_jobs': None, 'passthrough': False, 'stack_method': 'auto', 'verbose': 0, 'random_forest': RandomForestClassifier(), 'gboost': GradientBoostingClassifier(), 'random_forest__bootstrap': True, 'random_forest__ccp_alpha': 0.0, 'random_forest__class_weight': None, 'random_forest__criterion': 'gini', 'random_forest__max_depth': None, 'random_forest__max_features': 'sqrt', 'random_forest__max_leaf_nodes': None, 'random_forest__max_samples': None, 'random_forest__min_impurity_decrease': 0.0, 'random_forest__min_samples_leaf': 1, 'random_forest__min_samples_split': 2, 'random_forest__min_weight_fraction_leaf': 0.0, 'random_forest__n_estimators': 100, 'random_forest__n_jobs': None, 'random_forest__oob_score': False, 'random_forest__random_state': None, 'random_forest__verbose': 0, 'random_forest__warm_start': False, 'gboost__ccp_alpha': 0.0, 'gboost__criterion': 'friedman_mse', 'gboost__init': None, 'gboost__learning_rate': 0.1, 'gboost__loss': 'log_loss', 'gboost__max_depth': 3, 'gboost__max_features': None, 'gboost__max_leaf_nodes': None, 'gboost__min_impurity_decrease': 0.0, 'gboost__min_samples_leaf': 1, 'gboost__min_samples_split': 2, 'gboost__min_weight_fraction_leaf': 0.0, 'gboost__n_estimators': 100, 'gboost__n_iter_no_change': None, 'gboost__random_state': None, 'gboost__subsample': 1.0, 'gboost__tol': 0.0001, 'gboost__validation_fraction': 0.1, 'gboost__verbose': 0, 'gboost__warm_start': False}\n",
      "Training Score: 0.601\n",
      "Testing Score: 0.5996 \n",
      "\n",
      "Accuracy: 0.5996\n",
      "Specificity: 0.8762\n",
      "Precision: 0.5512\n",
      "Recall: 0.2127\n",
      "F1 Score: 0.307 \n",
      "\n",
      "Best accuracy rate confusion matrix:\n"
     ]
    },
    {
     "data": {
      "image/png": "[encoded data removed]",
      "text/plain": [
       "<Figure size 432x288 with 2 Axes>"
      ]
     },
     "metadata": {
      "needs_background": "light"
     },
     "output_type": "display_data"
    }
   ],
   "source": [
    "# Stacked Model\n",
    "level1_estimators = [\n",
    "    ('random_forest', RandomForestClassifier()),\n",
    "    ('gboost', GradientBoostingClassifier())\n",
    "]\n",
    "\n",
    "ny_stacked_model2 = StackingClassifier(estimators=level1_estimators,\n",
    "                                 final_estimator = LogisticRegression())\n",
    "\n",
    "model_trials('NY', X, y, ny_stacked_model2, 'Stack w/RandomForest + GradientBoost w/county, gender + age');"
   ]
  },
  {
   "cell_type": "code",
   "execution_count": null,
   "metadata": {},
   "outputs": [
    {
     "data": {
      "text/plain": [
       "(188650, 65)"
      ]
     },
     "execution_count": 97,
     "metadata": {},
     "output_type": "execute_result"
    }
   ],
   "source": [
    "# Since we're about to create a neural network - remind ourselves of the number of inputs\n",
    "X.shape"
   ]
  },
  {
   "cell_type": "code",
   "execution_count": null,
   "metadata": {},
   "outputs": [
    {
     "name": "stdout",
     "output_type": "stream",
     "text": [
      "1180/1180 [==============================] - 1s 1ms/step\n",
      "Dataset: NY\n",
      "Model ID: FNN w/county, gender + age\n",
      "Model Params: {'epochs': 10, 'batch_size': 32}\n",
      "Training Score: 0.5997\n",
      "Testing Score: 0.6005 \n",
      "\n",
      "Accuracy: 0.6005\n",
      "Specificity: 0.896\n",
      "Precision: 0.5626\n",
      "Recall: 0.1872\n",
      "F1 Score: 0.2809 \n",
      "\n",
      "Best accuracy rate confusion matrix:\n"
     ]
    },
    {
     "data": {
      "image/png": "[encoded data removed]",
      "text/plain": [
       "<Figure size 432x288 with 2 Axes>"
      ]
     },
     "metadata": {
      "needs_background": "light"
     },
     "output_type": "display_data"
    }
   ],
   "source": [
    "# Instantiate a CNN.\n",
    "ny_nn = Sequential()\n",
    "\n",
    "ny_nn.add(Dense(84, input_shape = (65,), activation = 'relu'))\n",
    "ny_nn.add(Dense(64, activation = 'relu'))\n",
    "ny_nn.add(Dense(32, activation = 'relu'))\n",
    "ny_nn.add(Dense(1, activation = 'sigmoid'))\n",
    "\n",
    "# Compile it\n",
    "ny_nn.compile(loss = 'bce', optimizer = 'adam', metrics = ['accuracy'])\n",
    "\n",
    "# Fit it\n",
    "model_trials_nn('NY', X, y, ny_nn, 'FNN w/county, gender + age');"
   ]
  },
  {
   "cell_type": "code",
   "execution_count": null,
   "metadata": {},
   "outputs": [
    {
     "data": {
      "text/html": [
       "<div>\n",
       "<style scoped>\n",
       "    .dataframe tbody tr th:only-of-type {\n",
       "        vertical-align: middle;\n",
       "    }\n",
       "\n",
       "    .dataframe tbody tr th {\n",
       "        vertical-align: top;\n",
       "    }\n",
       "\n",
       "    .dataframe thead th {\n",
       "        text-align: right;\n",
       "    }\n",
       "</style>\n",
       "<table border=\"1\" class=\"dataframe\">\n",
       "  <thead>\n",
       "    <tr style=\"text-align: right;\">\n",
       "      <th></th>\n",
       "      <th>dataset_name</th>\n",
       "      <th>model_used</th>\n",
       "      <th>model_params</th>\n",
       "      <th>train_score</th>\n",
       "      <th>test_score</th>\n",
       "      <th>accuracy</th>\n",
       "      <th>specificity</th>\n",
       "      <th>precision</th>\n",
       "      <th>recall</th>\n",
       "      <th>f1 score</th>\n",
       "      <th>true_neg</th>\n",
       "      <th>false_pos</th>\n",
       "      <th>false_neg</th>\n",
       "      <th>true_pos</th>\n",
       "    </tr>\n",
       "  </thead>\n",
       "  <tbody>\n",
       "    <tr>\n",
       "      <th>0</th>\n",
       "      <td>NY</td>\n",
       "      <td>LogisticRegression w/gender + age</td>\n",
       "      <td>{'C': 1.0, 'class_weight': None, 'dual': False...</td>\n",
       "      <td>0.586841</td>\n",
       "      <td>0.587914</td>\n",
       "      <td>0.587914</td>\n",
       "      <td>0.970683</td>\n",
       "      <td>0.561523</td>\n",
       "      <td>0.052514</td>\n",
       "      <td>0.096047</td>\n",
       "      <td>21356</td>\n",
       "      <td>645</td>\n",
       "      <td>14903</td>\n",
       "      <td>826</td>\n",
       "    </tr>\n",
       "    <tr>\n",
       "      <th>1</th>\n",
       "      <td>NY</td>\n",
       "      <td>RandomForest w/gender + age</td>\n",
       "      <td>{'bootstrap': True, 'ccp_alpha': 0.0, 'class_w...</td>\n",
       "      <td>0.588332</td>\n",
       "      <td>0.587013</td>\n",
       "      <td>0.587013</td>\n",
       "      <td>0.918049</td>\n",
       "      <td>0.519584</td>\n",
       "      <td>0.123975</td>\n",
       "      <td>0.200185</td>\n",
       "      <td>20198</td>\n",
       "      <td>1803</td>\n",
       "      <td>13779</td>\n",
       "      <td>1950</td>\n",
       "    </tr>\n",
       "    <tr>\n",
       "      <th>2</th>\n",
       "      <td>NY</td>\n",
       "      <td>AdaBoost w/gender + age</td>\n",
       "      <td>{'algorithm': 'SAMME.R', 'base_estimator__ccp_...</td>\n",
       "      <td>0.588332</td>\n",
       "      <td>0.587013</td>\n",
       "      <td>0.587013</td>\n",
       "      <td>0.918049</td>\n",
       "      <td>0.519584</td>\n",
       "      <td>0.123975</td>\n",
       "      <td>0.200185</td>\n",
       "      <td>20198</td>\n",
       "      <td>1803</td>\n",
       "      <td>13779</td>\n",
       "      <td>1950</td>\n",
       "    </tr>\n",
       "    <tr>\n",
       "      <th>3</th>\n",
       "      <td>NY</td>\n",
       "      <td>GradientBoost w/gender + age</td>\n",
       "      <td>{'ccp_alpha': 0.0, 'criterion': 'friedman_mse'...</td>\n",
       "      <td>0.588325</td>\n",
       "      <td>0.586986</td>\n",
       "      <td>0.586986</td>\n",
       "      <td>0.918186</td>\n",
       "      <td>0.519487</td>\n",
       "      <td>0.123721</td>\n",
       "      <td>0.199846</td>\n",
       "      <td>20201</td>\n",
       "      <td>1800</td>\n",
       "      <td>13783</td>\n",
       "      <td>1946</td>\n",
       "    </tr>\n",
       "    <tr>\n",
       "      <th>4</th>\n",
       "      <td>NY</td>\n",
       "      <td>Stack of RandomForest, GradientBoost, AdaBoost...</td>\n",
       "      <td>{'cv': None, 'estimators': [('random_forest', ...</td>\n",
       "      <td>0.588325</td>\n",
       "      <td>0.586986</td>\n",
       "      <td>0.586986</td>\n",
       "      <td>0.918186</td>\n",
       "      <td>0.519487</td>\n",
       "      <td>0.123721</td>\n",
       "      <td>0.199846</td>\n",
       "      <td>20201</td>\n",
       "      <td>1800</td>\n",
       "      <td>13783</td>\n",
       "      <td>1946</td>\n",
       "    </tr>\n",
       "    <tr>\n",
       "      <th>5</th>\n",
       "      <td>NY</td>\n",
       "      <td>KNeighbors w/gender + age</td>\n",
       "      <td>{'algorithm': 'auto', 'leaf_size': 30, 'metric...</td>\n",
       "      <td>0.531884</td>\n",
       "      <td>0.531275</td>\n",
       "      <td>0.531275</td>\n",
       "      <td>0.646743</td>\n",
       "      <td>0.428025</td>\n",
       "      <td>0.369763</td>\n",
       "      <td>0.396766</td>\n",
       "      <td>14229</td>\n",
       "      <td>7772</td>\n",
       "      <td>9913</td>\n",
       "      <td>5816</td>\n",
       "    </tr>\n",
       "    <tr>\n",
       "      <th>6</th>\n",
       "      <td>NY</td>\n",
       "      <td>LogisticRegression w/county, gender + age</td>\n",
       "      <td>{'C': 1.0, 'class_weight': None, 'dual': False...</td>\n",
       "      <td>0.598734</td>\n",
       "      <td>0.599019</td>\n",
       "      <td>0.599019</td>\n",
       "      <td>0.876778</td>\n",
       "      <td>0.549817</td>\n",
       "      <td>0.210503</td>\n",
       "      <td>0.304446</td>\n",
       "      <td>19290</td>\n",
       "      <td>2711</td>\n",
       "      <td>12418</td>\n",
       "      <td>3311</td>\n",
       "    </tr>\n",
       "    <tr>\n",
       "      <th>7</th>\n",
       "      <td>NY</td>\n",
       "      <td>RandomForest w/GridSearch w/county, gender + age</td>\n",
       "      <td>{'max_depth': 15, 'max_features': 15, 'n_estim...</td>\n",
       "      <td>0.602876</td>\n",
       "      <td>0.597641</td>\n",
       "      <td>0.597641</td>\n",
       "      <td>0.893096</td>\n",
       "      <td>0.552171</td>\n",
       "      <td>0.184373</td>\n",
       "      <td>0.276441</td>\n",
       "      <td>19649</td>\n",
       "      <td>2352</td>\n",
       "      <td>12829</td>\n",
       "      <td>2900</td>\n",
       "    </tr>\n",
       "    <tr>\n",
       "      <th>8</th>\n",
       "      <td>NY</td>\n",
       "      <td>AdaBoost w/GridSearch w/county, gender + age</td>\n",
       "      <td>{'base_estimator__max_depth': 1, 'n_estimators...</td>\n",
       "      <td>0.599569</td>\n",
       "      <td>0.600027</td>\n",
       "      <td>0.600027</td>\n",
       "      <td>0.870779</td>\n",
       "      <td>0.550443</td>\n",
       "      <td>0.221311</td>\n",
       "      <td>0.315694</td>\n",
       "      <td>19158</td>\n",
       "      <td>2843</td>\n",
       "      <td>12248</td>\n",
       "      <td>3481</td>\n",
       "    </tr>\n",
       "    <tr>\n",
       "      <th>9</th>\n",
       "      <td>NY</td>\n",
       "      <td>GradientBoost w/county, gender + age</td>\n",
       "      <td>{'ccp_alpha': 0.0, 'criterion': 'friedman_mse'...</td>\n",
       "      <td>0.598940</td>\n",
       "      <td>0.598834</td>\n",
       "      <td>0.598834</td>\n",
       "      <td>0.918276</td>\n",
       "      <td>0.570781</td>\n",
       "      <td>0.152012</td>\n",
       "      <td>0.240084</td>\n",
       "      <td>20203</td>\n",
       "      <td>1798</td>\n",
       "      <td>13338</td>\n",
       "      <td>2391</td>\n",
       "    </tr>\n",
       "    <tr>\n",
       "      <th>10</th>\n",
       "      <td>NY</td>\n",
       "      <td>Stack w/RandomForest + GradientBoost w/county,...</td>\n",
       "      <td>{'cv': None, 'estimators': [('random_forest', ...</td>\n",
       "      <td>0.600954</td>\n",
       "      <td>0.599602</td>\n",
       "      <td>0.599602</td>\n",
       "      <td>0.876187</td>\n",
       "      <td>0.551236</td>\n",
       "      <td>0.212728</td>\n",
       "      <td>0.306987</td>\n",
       "      <td>19277</td>\n",
       "      <td>2724</td>\n",
       "      <td>12383</td>\n",
       "      <td>3346</td>\n",
       "    </tr>\n",
       "    <tr>\n",
       "      <th>11</th>\n",
       "      <td>NY</td>\n",
       "      <td>FNN w/county, gender + age</td>\n",
       "      <td>{'epochs': 10, 'batch_size': 32}</td>\n",
       "      <td>0.599708</td>\n",
       "      <td>0.600477</td>\n",
       "      <td>0.600477</td>\n",
       "      <td>0.895959</td>\n",
       "      <td>0.562584</td>\n",
       "      <td>0.187170</td>\n",
       "      <td>0.280889</td>\n",
       "      <td>19712</td>\n",
       "      <td>2289</td>\n",
       "      <td>12785</td>\n",
       "      <td>2944</td>\n",
       "    </tr>\n",
       "  </tbody>\n",
       "</table>\n",
       "</div>"
      ],
      "text/plain": [
       "   dataset_name                                         model_used  \\\n",
       "0            NY                  LogisticRegression w/gender + age   \n",
       "1            NY                        RandomForest w/gender + age   \n",
       "2            NY                            AdaBoost w/gender + age   \n",
       "3            NY                       GradientBoost w/gender + age   \n",
       "4            NY  Stack of RandomForest, GradientBoost, AdaBoost...   \n",
       "5            NY                          KNeighbors w/gender + age   \n",
       "6            NY          LogisticRegression w/county, gender + age   \n",
       "7            NY   RandomForest w/GridSearch w/county, gender + age   \n",
       "8            NY       AdaBoost w/GridSearch w/county, gender + age   \n",
       "9            NY               GradientBoost w/county, gender + age   \n",
       "10           NY  Stack w/RandomForest + GradientBoost w/county,...   \n",
       "11           NY                         FNN w/county, gender + age   \n",
       "\n",
       "                                         model_params  train_score  \\\n",
       "0   {'C': 1.0, 'class_weight': None, 'dual': False...     0.586841   \n",
       "1   {'bootstrap': True, 'ccp_alpha': 0.0, 'class_w...     0.588332   \n",
       "2   {'algorithm': 'SAMME.R', 'base_estimator__ccp_...     0.588332   \n",
       "3   {'ccp_alpha': 0.0, 'criterion': 'friedman_mse'...     0.588325   \n",
       "4   {'cv': None, 'estimators': [('random_forest', ...     0.588325   \n",
       "5   {'algorithm': 'auto', 'leaf_size': 30, 'metric...     0.531884   \n",
       "6   {'C': 1.0, 'class_weight': None, 'dual': False...     0.598734   \n",
       "7   {'max_depth': 15, 'max_features': 15, 'n_estim...     0.602876   \n",
       "8   {'base_estimator__max_depth': 1, 'n_estimators...     0.599569   \n",
       "9   {'ccp_alpha': 0.0, 'criterion': 'friedman_mse'...     0.598940   \n",
       "10  {'cv': None, 'estimators': [('random_forest', ...     0.600954   \n",
       "11                   {'epochs': 10, 'batch_size': 32}     0.599708   \n",
       "\n",
       "    test_score  accuracy  specificity  precision    recall  f1 score  \\\n",
       "0     0.587914  0.587914     0.970683   0.561523  0.052514  0.096047   \n",
       "1     0.587013  0.587013     0.918049   0.519584  0.123975  0.200185   \n",
       "2     0.587013  0.587013     0.918049   0.519584  0.123975  0.200185   \n",
       "3     0.586986  0.586986     0.918186   0.519487  0.123721  0.199846   \n",
       "4     0.586986  0.586986     0.918186   0.519487  0.123721  0.199846   \n",
       "5     0.531275  0.531275     0.646743   0.428025  0.369763  0.396766   \n",
       "6     0.599019  0.599019     0.876778   0.549817  0.210503  0.304446   \n",
       "7     0.597641  0.597641     0.893096   0.552171  0.184373  0.276441   \n",
       "8     0.600027  0.600027     0.870779   0.550443  0.221311  0.315694   \n",
       "9     0.598834  0.598834     0.918276   0.570781  0.152012  0.240084   \n",
       "10    0.599602  0.599602     0.876187   0.551236  0.212728  0.306987   \n",
       "11    0.600477  0.600477     0.895959   0.562584  0.187170  0.280889   \n",
       "\n",
       "    true_neg  false_pos  false_neg  true_pos  \n",
       "0      21356        645      14903       826  \n",
       "1      20198       1803      13779      1950  \n",
       "2      20198       1803      13779      1950  \n",
       "3      20201       1800      13783      1946  \n",
       "4      20201       1800      13783      1946  \n",
       "5      14229       7772       9913      5816  \n",
       "6      19290       2711      12418      3311  \n",
       "7      19649       2352      12829      2900  \n",
       "8      19158       2843      12248      3481  \n",
       "9      20203       1798      13338      2391  \n",
       "10     19277       2724      12383      3346  \n",
       "11     19712       2289      12785      2944  "
      ]
     },
     "execution_count": 99,
     "metadata": {},
     "output_type": "execute_result"
    }
   ],
   "source": [
    "model_trials_df[model_trials_df['dataset_name'] == 'NY']"
   ]
  },
  {
   "cell_type": "markdown",
   "metadata": {},
   "source": [
    "##### CONCLUSIONS\n",
    "- Using a basic model and only considering age at release, gender, and county of indictment does not provide sufficient improvement from baseline.\n",
    "- We used six different classification models on the gender, age, and county features; however, our best score was a 2% increase in accuracy from a baseline of 58% to 60% using a stacked RF and Gradient Boosted Model.\n",
    "- As these scores failed to meet our target requirements, we will push forward to the demographic and behavioral datasets for further model evaluation. "
   ]
  },
  {
   "cell_type": "markdown",
   "metadata": {},
   "source": [
    "---\n",
    "**Model 2: Criminal history feature set - Florida**"
   ]
  },
  {
   "cell_type": "code",
   "execution_count": null,
   "metadata": {},
   "outputs": [
    {
     "data": {
      "text/plain": [
       "Index(['person_id', 'num_incarcerations', 'comp_f_min_score',\n",
       "       'comp_f_min_decile', 'comp_f_max_score', 'comp_f_max_decile',\n",
       "       'comp_r_min_score', 'comp_r_min_decile', 'comp_r_max_score',\n",
       "       'comp_r_max_decile', 'comp_v_min_score', 'comp_v_min_decile',\n",
       "       'comp_v_max_score', 'comp_v_max_decile', 'sex_Male', 'race_Asian',\n",
       "       'race_Caucasian', 'race_Hispanic', 'race_Native American', 'race_Other',\n",
       "       'charge_degree_count_F1', 'charge_degree_count_F2',\n",
       "       'charge_degree_count_F3', 'charge_degree_count_F5',\n",
       "       'charge_degree_count_F6', 'charge_degree_count_F7',\n",
       "       'charge_degree_count_M1', 'charge_degree_count_M2',\n",
       "       'charge_degree_count_M3', 'agg_charges', 'avg_days_between_offenses',\n",
       "       'avg_days_between_arrests', 'first_charge_degree_F1',\n",
       "       'first_charge_degree_F2', 'first_charge_degree_F3',\n",
       "       'first_charge_degree_F5', 'first_charge_degree_F6',\n",
       "       'first_charge_degree_F7', 'first_charge_degree_M1',\n",
       "       'first_charge_degree_M2', 'last_charge_degree_F1',\n",
       "       'last_charge_degree_F2', 'last_charge_degree_F3',\n",
       "       'last_charge_degree_F5', 'last_charge_degree_F6',\n",
       "       'last_charge_degree_F7', 'last_charge_degree_M1',\n",
       "       'last_charge_degree_M2', 'age_at_first_incarceration',\n",
       "       'age_at_first_release', 'age_at_last_incarceration',\n",
       "       'age_at_last_release', 'age_at_first_arrest', 'age_at_last_arrest',\n",
       "       'recidivism', 'charge_degree_count_INF', 'first_charge_degree_INF',\n",
       "       'last_charge_degree_INF', 'total_misdemeanor_charge_count',\n",
       "       'total_felony_charge_count', 'total_charge_count'],\n",
       "      dtype='object')"
      ]
     },
     "execution_count": 3,
     "metadata": {},
     "output_type": "execute_result"
    }
   ],
   "source": [
    "# read in clean dataset\n",
    "fl = pd.read_csv('../data/FL/FL_final.csv')\n",
    "fl.columns"
   ]
  },
  {
   "cell_type": "markdown",
   "metadata": {},
   "source": [
    "CONCLUSIONS\n",
    "- We should drop all columns that were used only for EDA and will not be considered for the model.\n",
    "- We should also check the distribution of our target class to determine whether any rebalancing is needed."
   ]
  },
  {
   "cell_type": "code",
   "execution_count": null,
   "metadata": {},
   "outputs": [],
   "source": [
    "# drop all non-model columns\n",
    "fl = fl.drop(columns = [\n",
    "    'person_id',  # unique ID, not predictive\n",
    "    'agg_charges', # will be used for NLP experiment\n",
    "    'avg_days_between_offenses', 'avg_days_between_arrests', # only meaningful for recidivists\n",
    "    'age_at_last_incarceration', 'age_at_last_release', 'age_at_last_arrest', # \"last\" columns are not predictive\n",
    "] + [col for col in fl if col.startswith('comp_')] # not using COMPAS scores in the model\n",
    "  + [col for col in fl if col.startswith('last_charge_')] # last charges are not predictive\n",
    ")"
   ]
  },
  {
   "cell_type": "code",
   "execution_count": null,
   "metadata": {},
   "outputs": [
    {
     "name": "stdout",
     "output_type": "stream",
     "text": [
      "<class 'pandas.core.frame.DataFrame'>\n",
      "RangeIndex: 10645 entries, 0 to 10644\n",
      "Data columns (total 33 columns):\n",
      " #   Column                          Non-Null Count  Dtype  \n",
      "---  ------                          --------------  -----  \n",
      " 0   num_incarcerations              10645 non-null  int64  \n",
      " 1   sex_Male                        10645 non-null  int64  \n",
      " 2   race_Asian                      10645 non-null  int64  \n",
      " 3   race_Caucasian                  10645 non-null  int64  \n",
      " 4   race_Hispanic                   10645 non-null  int64  \n",
      " 5   race_Native American            10645 non-null  int64  \n",
      " 6   race_Other                      10645 non-null  int64  \n",
      " 7   charge_degree_count_F1          10645 non-null  float64\n",
      " 8   charge_degree_count_F2          10645 non-null  float64\n",
      " 9   charge_degree_count_F3          10645 non-null  float64\n",
      " 10  charge_degree_count_F5          10645 non-null  float64\n",
      " 11  charge_degree_count_F6          10645 non-null  float64\n",
      " 12  charge_degree_count_F7          10645 non-null  float64\n",
      " 13  charge_degree_count_M1          10645 non-null  float64\n",
      " 14  charge_degree_count_M2          10645 non-null  float64\n",
      " 15  charge_degree_count_M3          10645 non-null  float64\n",
      " 16  first_charge_degree_F1          10645 non-null  int64  \n",
      " 17  first_charge_degree_F2          10645 non-null  int64  \n",
      " 18  first_charge_degree_F3          10645 non-null  int64  \n",
      " 19  first_charge_degree_F5          10645 non-null  int64  \n",
      " 20  first_charge_degree_F6          10645 non-null  int64  \n",
      " 21  first_charge_degree_F7          10645 non-null  int64  \n",
      " 22  first_charge_degree_M1          10645 non-null  int64  \n",
      " 23  first_charge_degree_M2          10645 non-null  int64  \n",
      " 24  age_at_first_incarceration      10645 non-null  int64  \n",
      " 25  age_at_first_release            10645 non-null  int64  \n",
      " 26  age_at_first_arrest             10645 non-null  int64  \n",
      " 27  recidivism                      10645 non-null  int64  \n",
      " 28  charge_degree_count_INF         10645 non-null  float64\n",
      " 29  first_charge_degree_INF         10645 non-null  int64  \n",
      " 30  total_misdemeanor_charge_count  10645 non-null  float64\n",
      " 31  total_felony_charge_count       10645 non-null  float64\n",
      " 32  total_charge_count              10645 non-null  float64\n",
      "dtypes: float64(13), int64(20)\n",
      "memory usage: 2.7 MB\n"
     ]
    }
   ],
   "source": [
    "fl.info()"
   ]
  },
  {
   "cell_type": "code",
   "execution_count": null,
   "metadata": {},
   "outputs": [
    {
     "data": {
      "text/plain": [
       "0    0.607327\n",
       "1    0.392673\n",
       "Name: recidivism, dtype: float64"
      ]
     },
     "execution_count": 108,
     "metadata": {},
     "output_type": "execute_result"
    }
   ],
   "source": [
    "# check the target class distribution (also our baseline accuracy)\n",
    "fl['recidivism'].value_counts(normalize = True)"
   ]
  },
  {
   "cell_type": "markdown",
   "metadata": {},
   "source": [
    "CONCLUSIONS\n",
    "- Our dataframe now contains only potential features and the target columns.\n",
    "- The value counts are definitely a bit skewed; we should give a few rebalancing techniques and see if they improve accuracy.\n",
    "- We will use a \"vanilla\" LogisticRegression to try rebalancing, and then move on to the rest of the models."
   ]
  },
  {
   "cell_type": "code",
   "execution_count": null,
   "metadata": {},
   "outputs": [
    {
     "data": {
      "text/html": [
       "<div>\n",
       "<style scoped>\n",
       "    .dataframe tbody tr th:only-of-type {\n",
       "        vertical-align: middle;\n",
       "    }\n",
       "\n",
       "    .dataframe tbody tr th {\n",
       "        vertical-align: top;\n",
       "    }\n",
       "\n",
       "    .dataframe thead th {\n",
       "        text-align: right;\n",
       "    }\n",
       "</style>\n",
       "<table border=\"1\" class=\"dataframe\">\n",
       "  <thead>\n",
       "    <tr style=\"text-align: right;\">\n",
       "      <th></th>\n",
       "      <th>gender_male</th>\n",
       "      <th>age_at_release</th>\n",
       "      <th>gang_affiliated</th>\n",
       "      <th>supervision_risk_score_first</th>\n",
       "      <th>education_level</th>\n",
       "      <th>dependents</th>\n",
       "      <th>prison_years</th>\n",
       "      <th>prior_arrest_episodes_felony</th>\n",
       "      <th>prior_arrest_episodes_misd</th>\n",
       "      <th>prior_arrest_episodes_violent</th>\n",
       "      <th>...</th>\n",
       "      <th>delinquency_reports</th>\n",
       "      <th>program_attendances</th>\n",
       "      <th>residence_changes</th>\n",
       "      <th>avg_days_per_drugtest</th>\n",
       "      <th>drugtests_thc_positive</th>\n",
       "      <th>drugtests_cocaine_positive</th>\n",
       "      <th>drugtests_meth_positive</th>\n",
       "      <th>drugtests_other_positive</th>\n",
       "      <th>percent_days_employed</th>\n",
       "      <th>recidivism_within_3years</th>\n",
       "    </tr>\n",
       "  </thead>\n",
       "  <tbody>\n",
       "    <tr>\n",
       "      <th>0</th>\n",
       "      <td>1</td>\n",
       "      <td>43-47</td>\n",
       "      <td>0</td>\n",
       "      <td>3.0</td>\n",
       "      <td>at least some college</td>\n",
       "      <td>3</td>\n",
       "      <td>more than 3 years</td>\n",
       "      <td>6</td>\n",
       "      <td>6</td>\n",
       "      <td>1</td>\n",
       "      <td>...</td>\n",
       "      <td>0</td>\n",
       "      <td>6</td>\n",
       "      <td>2</td>\n",
       "      <td>612.000000</td>\n",
       "      <td>0.000000</td>\n",
       "      <td>0.0</td>\n",
       "      <td>0.000000</td>\n",
       "      <td>0.0</td>\n",
       "      <td>0.488562</td>\n",
       "      <td>0</td>\n",
       "    </tr>\n",
       "    <tr>\n",
       "      <th>1</th>\n",
       "      <td>1</td>\n",
       "      <td>33-37</td>\n",
       "      <td>0</td>\n",
       "      <td>6.0</td>\n",
       "      <td>less than hs diploma</td>\n",
       "      <td>1</td>\n",
       "      <td>more than 3 years</td>\n",
       "      <td>7</td>\n",
       "      <td>6</td>\n",
       "      <td>3</td>\n",
       "      <td>...</td>\n",
       "      <td>4</td>\n",
       "      <td>0</td>\n",
       "      <td>2</td>\n",
       "      <td>35.666667</td>\n",
       "      <td>0.000000</td>\n",
       "      <td>0.0</td>\n",
       "      <td>0.000000</td>\n",
       "      <td>0.0</td>\n",
       "      <td>0.425234</td>\n",
       "      <td>1</td>\n",
       "    </tr>\n",
       "    <tr>\n",
       "      <th>2</th>\n",
       "      <td>1</td>\n",
       "      <td>48 or older</td>\n",
       "      <td>0</td>\n",
       "      <td>7.0</td>\n",
       "      <td>at least some college</td>\n",
       "      <td>3</td>\n",
       "      <td>1-2 years</td>\n",
       "      <td>6</td>\n",
       "      <td>6</td>\n",
       "      <td>3</td>\n",
       "      <td>...</td>\n",
       "      <td>4</td>\n",
       "      <td>6</td>\n",
       "      <td>0</td>\n",
       "      <td>93.666667</td>\n",
       "      <td>0.333333</td>\n",
       "      <td>0.0</td>\n",
       "      <td>0.166667</td>\n",
       "      <td>0.0</td>\n",
       "      <td>0.000000</td>\n",
       "      <td>1</td>\n",
       "    </tr>\n",
       "    <tr>\n",
       "      <th>3</th>\n",
       "      <td>1</td>\n",
       "      <td>38-42</td>\n",
       "      <td>0</td>\n",
       "      <td>7.0</td>\n",
       "      <td>less than hs diploma</td>\n",
       "      <td>1</td>\n",
       "      <td>1-2 years</td>\n",
       "      <td>8</td>\n",
       "      <td>6</td>\n",
       "      <td>0</td>\n",
       "      <td>...</td>\n",
       "      <td>0</td>\n",
       "      <td>6</td>\n",
       "      <td>3</td>\n",
       "      <td>25.400000</td>\n",
       "      <td>0.000000</td>\n",
       "      <td>0.0</td>\n",
       "      <td>0.000000</td>\n",
       "      <td>0.0</td>\n",
       "      <td>1.000000</td>\n",
       "      <td>0</td>\n",
       "    </tr>\n",
       "    <tr>\n",
       "      <th>4</th>\n",
       "      <td>1</td>\n",
       "      <td>33-37</td>\n",
       "      <td>0</td>\n",
       "      <td>4.0</td>\n",
       "      <td>less than hs diploma</td>\n",
       "      <td>3</td>\n",
       "      <td>1-2 years</td>\n",
       "      <td>4</td>\n",
       "      <td>4</td>\n",
       "      <td>3</td>\n",
       "      <td>...</td>\n",
       "      <td>0</td>\n",
       "      <td>7</td>\n",
       "      <td>0</td>\n",
       "      <td>23.117647</td>\n",
       "      <td>0.000000</td>\n",
       "      <td>0.0</td>\n",
       "      <td>0.058824</td>\n",
       "      <td>0.0</td>\n",
       "      <td>0.203562</td>\n",
       "      <td>1</td>\n",
       "    </tr>\n",
       "  </tbody>\n",
       "</table>\n",
       "<p>5 rows × 32 columns</p>\n",
       "</div>"
      ],
      "text/plain": [
       "   gender_male age_at_release  gang_affiliated  supervision_risk_score_first  \\\n",
       "0            1          43-47                0                           3.0   \n",
       "1            1          33-37                0                           6.0   \n",
       "2            1    48 or older                0                           7.0   \n",
       "3            1          38-42                0                           7.0   \n",
       "4            1          33-37                0                           4.0   \n",
       "\n",
       "         education_level  dependents       prison_years  \\\n",
       "0  at least some college           3  more than 3 years   \n",
       "1   less than hs diploma           1  more than 3 years   \n",
       "2  at least some college           3          1-2 years   \n",
       "3   less than hs diploma           1          1-2 years   \n",
       "4   less than hs diploma           3          1-2 years   \n",
       "\n",
       "   prior_arrest_episodes_felony  prior_arrest_episodes_misd  \\\n",
       "0                             6                           6   \n",
       "1                             7                           6   \n",
       "2                             6                           6   \n",
       "3                             8                           6   \n",
       "4                             4                           4   \n",
       "\n",
       "   prior_arrest_episodes_violent  ...  delinquency_reports  \\\n",
       "0                              1  ...                    0   \n",
       "1                              3  ...                    4   \n",
       "2                              3  ...                    4   \n",
       "3                              0  ...                    0   \n",
       "4                              3  ...                    0   \n",
       "\n",
       "   program_attendances  residence_changes  avg_days_per_drugtest  \\\n",
       "0                    6                  2             612.000000   \n",
       "1                    0                  2              35.666667   \n",
       "2                    6                  0              93.666667   \n",
       "3                    6                  3              25.400000   \n",
       "4                    7                  0              23.117647   \n",
       "\n",
       "   drugtests_thc_positive  drugtests_cocaine_positive  \\\n",
       "0                0.000000                         0.0   \n",
       "1                0.000000                         0.0   \n",
       "2                0.333333                         0.0   \n",
       "3                0.000000                         0.0   \n",
       "4                0.000000                         0.0   \n",
       "\n",
       "   drugtests_meth_positive  drugtests_other_positive  percent_days_employed  \\\n",
       "0                 0.000000                       0.0               0.488562   \n",
       "1                 0.000000                       0.0               0.425234   \n",
       "2                 0.166667                       0.0               0.000000   \n",
       "3                 0.000000                       0.0               1.000000   \n",
       "4                 0.058824                       0.0               0.203562   \n",
       "\n",
       "   recidivism_within_3years  \n",
       "0                         0  \n",
       "1                         1  \n",
       "2                         1  \n",
       "3                         0  \n",
       "4                         1  \n",
       "\n",
       "[5 rows x 32 columns]"
      ]
     },
     "execution_count": 101,
     "metadata": {},
     "output_type": "execute_result"
    }
   ],
   "source": [
    "# Reading in the cleaned Georgia data file\n",
    "\n",
    "ga = pd.read_csv('../data/GA/GA_final.csv')\n",
    "ga.drop(columns='Unnamed: 0', inplace=True)\n",
    "ga.head()"
   ]
  },
  {
   "cell_type": "markdown",
   "metadata": {},
   "source": [
    "---\n",
    "\n",
    "## Dummifying Categorical Columns"
   ]
  },
  {
   "cell_type": "code",
   "execution_count": null,
   "metadata": {},
   "outputs": [
    {
     "name": "stdout",
     "output_type": "stream",
     "text": [
      "(24426, 43)\n"
     ]
    },
    {
     "data": {
      "text/html": [
       "<div>\n",
       "<style scoped>\n",
       "    .dataframe tbody tr th:only-of-type {\n",
       "        vertical-align: middle;\n",
       "    }\n",
       "\n",
       "    .dataframe tbody tr th {\n",
       "        vertical-align: top;\n",
       "    }\n",
       "\n",
       "    .dataframe thead th {\n",
       "        text-align: right;\n",
       "    }\n",
       "</style>\n",
       "<table border=\"1\" class=\"dataframe\">\n",
       "  <thead>\n",
       "    <tr style=\"text-align: right;\">\n",
       "      <th></th>\n",
       "      <th>gender_male</th>\n",
       "      <th>gang_affiliated</th>\n",
       "      <th>supervision_risk_score_first</th>\n",
       "      <th>dependents</th>\n",
       "      <th>prior_arrest_episodes_felony</th>\n",
       "      <th>prior_arrest_episodes_misd</th>\n",
       "      <th>prior_arrest_episodes_violent</th>\n",
       "      <th>prior_arrest_episodes_property</th>\n",
       "      <th>prior_arrest_episodes_drug</th>\n",
       "      <th>prior_arrest_episodes_ppviolationcharges</th>\n",
       "      <th>...</th>\n",
       "      <th>age_at_release_38-42</th>\n",
       "      <th>age_at_release_43-47</th>\n",
       "      <th>age_at_release_48 or older</th>\n",
       "      <th>education_level_at least some college</th>\n",
       "      <th>education_level_high school diploma</th>\n",
       "      <th>education_level_less than hs diploma</th>\n",
       "      <th>prison_years_1-2 years</th>\n",
       "      <th>prison_years_greater than 2 to 3 years</th>\n",
       "      <th>prison_years_less than 1 year</th>\n",
       "      <th>prison_years_more than 3 years</th>\n",
       "    </tr>\n",
       "  </thead>\n",
       "  <tbody>\n",
       "    <tr>\n",
       "      <th>0</th>\n",
       "      <td>1</td>\n",
       "      <td>0</td>\n",
       "      <td>3.0</td>\n",
       "      <td>3</td>\n",
       "      <td>6</td>\n",
       "      <td>6</td>\n",
       "      <td>1</td>\n",
       "      <td>3</td>\n",
       "      <td>3</td>\n",
       "      <td>4</td>\n",
       "      <td>...</td>\n",
       "      <td>0</td>\n",
       "      <td>1</td>\n",
       "      <td>0</td>\n",
       "      <td>1</td>\n",
       "      <td>0</td>\n",
       "      <td>0</td>\n",
       "      <td>0</td>\n",
       "      <td>0</td>\n",
       "      <td>0</td>\n",
       "      <td>1</td>\n",
       "    </tr>\n",
       "    <tr>\n",
       "      <th>1</th>\n",
       "      <td>1</td>\n",
       "      <td>0</td>\n",
       "      <td>6.0</td>\n",
       "      <td>1</td>\n",
       "      <td>7</td>\n",
       "      <td>6</td>\n",
       "      <td>3</td>\n",
       "      <td>0</td>\n",
       "      <td>3</td>\n",
       "      <td>5</td>\n",
       "      <td>...</td>\n",
       "      <td>0</td>\n",
       "      <td>0</td>\n",
       "      <td>0</td>\n",
       "      <td>0</td>\n",
       "      <td>0</td>\n",
       "      <td>1</td>\n",
       "      <td>0</td>\n",
       "      <td>0</td>\n",
       "      <td>0</td>\n",
       "      <td>1</td>\n",
       "    </tr>\n",
       "    <tr>\n",
       "      <th>2</th>\n",
       "      <td>1</td>\n",
       "      <td>0</td>\n",
       "      <td>7.0</td>\n",
       "      <td>3</td>\n",
       "      <td>6</td>\n",
       "      <td>6</td>\n",
       "      <td>3</td>\n",
       "      <td>2</td>\n",
       "      <td>2</td>\n",
       "      <td>5</td>\n",
       "      <td>...</td>\n",
       "      <td>0</td>\n",
       "      <td>0</td>\n",
       "      <td>1</td>\n",
       "      <td>1</td>\n",
       "      <td>0</td>\n",
       "      <td>0</td>\n",
       "      <td>1</td>\n",
       "      <td>0</td>\n",
       "      <td>0</td>\n",
       "      <td>0</td>\n",
       "    </tr>\n",
       "    <tr>\n",
       "      <th>3</th>\n",
       "      <td>1</td>\n",
       "      <td>0</td>\n",
       "      <td>7.0</td>\n",
       "      <td>1</td>\n",
       "      <td>8</td>\n",
       "      <td>6</td>\n",
       "      <td>0</td>\n",
       "      <td>3</td>\n",
       "      <td>3</td>\n",
       "      <td>3</td>\n",
       "      <td>...</td>\n",
       "      <td>1</td>\n",
       "      <td>0</td>\n",
       "      <td>0</td>\n",
       "      <td>0</td>\n",
       "      <td>0</td>\n",
       "      <td>1</td>\n",
       "      <td>1</td>\n",
       "      <td>0</td>\n",
       "      <td>0</td>\n",
       "      <td>0</td>\n",
       "    </tr>\n",
       "    <tr>\n",
       "      <th>4</th>\n",
       "      <td>1</td>\n",
       "      <td>0</td>\n",
       "      <td>4.0</td>\n",
       "      <td>3</td>\n",
       "      <td>4</td>\n",
       "      <td>4</td>\n",
       "      <td>3</td>\n",
       "      <td>2</td>\n",
       "      <td>1</td>\n",
       "      <td>3</td>\n",
       "      <td>...</td>\n",
       "      <td>0</td>\n",
       "      <td>0</td>\n",
       "      <td>0</td>\n",
       "      <td>0</td>\n",
       "      <td>0</td>\n",
       "      <td>1</td>\n",
       "      <td>1</td>\n",
       "      <td>0</td>\n",
       "      <td>0</td>\n",
       "      <td>0</td>\n",
       "    </tr>\n",
       "  </tbody>\n",
       "</table>\n",
       "<p>5 rows × 43 columns</p>\n",
       "</div>"
      ],
      "text/plain": [
       "   gender_male  gang_affiliated  supervision_risk_score_first  dependents  \\\n",
       "0            1                0                           3.0           3   \n",
       "1            1                0                           6.0           1   \n",
       "2            1                0                           7.0           3   \n",
       "3            1                0                           7.0           1   \n",
       "4            1                0                           4.0           3   \n",
       "\n",
       "   prior_arrest_episodes_felony  prior_arrest_episodes_misd  \\\n",
       "0                             6                           6   \n",
       "1                             7                           6   \n",
       "2                             6                           6   \n",
       "3                             8                           6   \n",
       "4                             4                           4   \n",
       "\n",
       "   prior_arrest_episodes_violent  prior_arrest_episodes_property  \\\n",
       "0                              1                               3   \n",
       "1                              3                               0   \n",
       "2                              3                               2   \n",
       "3                              0                               3   \n",
       "4                              3                               2   \n",
       "\n",
       "   prior_arrest_episodes_drug  prior_arrest_episodes_ppviolationcharges  ...  \\\n",
       "0                           3                                         4  ...   \n",
       "1                           3                                         5  ...   \n",
       "2                           2                                         5  ...   \n",
       "3                           3                                         3  ...   \n",
       "4                           1                                         3  ...   \n",
       "\n",
       "   age_at_release_38-42  age_at_release_43-47  age_at_release_48 or older  \\\n",
       "0                     0                     1                           0   \n",
       "1                     0                     0                           0   \n",
       "2                     0                     0                           1   \n",
       "3                     1                     0                           0   \n",
       "4                     0                     0                           0   \n",
       "\n",
       "   education_level_at least some college  education_level_high school diploma  \\\n",
       "0                                      1                                    0   \n",
       "1                                      0                                    0   \n",
       "2                                      1                                    0   \n",
       "3                                      0                                    0   \n",
       "4                                      0                                    0   \n",
       "\n",
       "   education_level_less than hs diploma  prison_years_1-2 years  \\\n",
       "0                                     0                       0   \n",
       "1                                     1                       0   \n",
       "2                                     0                       1   \n",
       "3                                     1                       1   \n",
       "4                                     1                       1   \n",
       "\n",
       "   prison_years_greater than 2 to 3 years  prison_years_less than 1 year  \\\n",
       "0                                       0                              0   \n",
       "1                                       0                              0   \n",
       "2                                       0                              0   \n",
       "3                                       0                              0   \n",
       "4                                       0                              0   \n",
       "\n",
       "   prison_years_more than 3 years  \n",
       "0                               1  \n",
       "1                               1  \n",
       "2                               0  \n",
       "3                               0  \n",
       "4                               0  \n",
       "\n",
       "[5 rows x 43 columns]"
      ]
     },
     "execution_count": 102,
     "metadata": {},
     "output_type": "execute_result"
    }
   ],
   "source": [
    "cat_cols = ga.select_dtypes(include='object').columns\n",
    "\n",
    "ga_dummy = pd.get_dummies(ga, columns=cat_cols)\n",
    "print(ga_dummy.shape)\n",
    "ga_dummy.head()"
   ]
  },
  {
   "cell_type": "code",
   "execution_count": null,
   "metadata": {},
   "outputs": [],
   "source": [
    "ga_dummy.to_csv('../data/GA/georgia_dummy.csv')"
   ]
  },
  {
   "cell_type": "markdown",
   "metadata": {},
   "source": [
    "--- \n",
    "\n",
    "## Establishing the Baseline"
   ]
  },
  {
   "cell_type": "code",
   "execution_count": null,
   "metadata": {},
   "outputs": [
    {
     "data": {
      "text/plain": [
       "1    0.596496\n",
       "0    0.403504\n",
       "Name: recidivism_within_3years, dtype: float64"
      ]
     },
     "execution_count": 104,
     "metadata": {},
     "output_type": "execute_result"
    }
   ],
   "source": [
    "X = ga.drop(columns='recidivism_within_3years')\n",
    "y = ga['recidivism_within_3years']\n",
    "\n",
    "y.value_counts(normalize=True)"
   ]
  },
  {
   "cell_type": "markdown",
   "metadata": {},
   "source": [
    "This baseline is telling us that if we predicted that all observations in this list would recidivate, we could reasonably expect be correct 59.65% of the time.\n",
    "\n",
    "Depending on the usage of our model, the metrics we want to optimize for are overall accuracy and specificity. "
   ]
  },
  {
   "cell_type": "markdown",
   "metadata": {},
   "source": [
    "---\n",
    "\n",
    "## Building a Function to Expedite Model Trials"
   ]
  },
  {
   "cell_type": "code",
   "execution_count": null,
   "metadata": {},
   "outputs": [],
   "source": [
    "X = ga_dummy.drop(columns='recidivism_within_3years')\n",
    "y = ga_dummy['recidivism_within_3years']"
   ]
  },
  {
   "cell_type": "markdown",
   "metadata": {},
   "source": [
    "---\n",
    "## Logistic Regression"
   ]
  },
  {
   "cell_type": "code",
   "execution_count": null,
   "metadata": {},
   "outputs": [
    {
     "name": "stdout",
     "output_type": "stream",
     "text": [
      "Dataset: GA\n",
      "Model ID: Logistic Regression\n",
      "Model Params: {'C': 1.0, 'class_weight': None, 'dual': False, 'fit_intercept': True, 'intercept_scaling': 1, 'l1_ratio': None, 'max_iter': 5000, 'multi_class': 'auto', 'n_jobs': None, 'penalty': 'l2', 'random_state': None, 'solver': 'saga', 'tol': 0.0001, 'verbose': 0, 'warm_start': False}\n",
      "Training Score: 0.7097\n",
      "Testing Score: 0.6965 \n",
      "\n",
      "Accuracy: 0.6965\n",
      "Specificity: 0.5218\n",
      "Precision: 0.7157\n",
      "Recall: 0.8147\n",
      "F1 Score: 0.762 \n",
      "\n",
      "Best accuracy rate confusion matrix:\n"
     ]
    },
    {
     "data": {
      "text/plain": [
       "<sklearn.metrics._plot.confusion_matrix.ConfusionMatrixDisplay at 0x1703aa2c550>"
      ]
     },
     "execution_count": 108,
     "metadata": {},
     "output_type": "execute_result"
    },
    {
     "data": {
      "image/png": "[encoded data removed]",
      "text/plain": [
       "<Figure size 432x288 with 2 Axes>"
      ]
     },
     "metadata": {
      "needs_background": "light"
     },
     "output_type": "display_data"
    }
   ],
   "source": [
    "log_reg = LogisticRegression(solver='saga', max_iter = 5000)\n",
    "\n",
    "model_trials('GA', X, y, log_reg, 'Logistic Regression');"
   ]
  },
  {
   "cell_type": "markdown",
   "metadata": {},
   "source": [
    "### Analysis\n",
    "This model performed better than the baseline by about 10%, but is struggling with correctly predicting the non-recidivist observations (0 class). This may be a result of the data, or could have to do with the distribution of the data (slight lean towards recidivism = True). \n",
    "\n",
    "If we see similar misclassifications in some or most of the subsequent models, it may be necessary to rebalance the data via undersampling or resampling with synthetic data points."
   ]
  },
  {
   "cell_type": "markdown",
   "metadata": {},
   "source": [
    "--- \n",
    "\n",
    "## Multinomial Naive Bayes"
   ]
  },
  {
   "cell_type": "code",
   "execution_count": null,
   "metadata": {},
   "outputs": [
    {
     "name": "stdout",
     "output_type": "stream",
     "text": [
      "Dataset: GA\n",
      "Model ID: Multinomial Naive Bayes\n",
      "Model Params: {'alpha': 1.0, 'class_prior': None, 'fit_prior': True}\n",
      "Training Score: 0.6118\n",
      "Testing Score: 0.6081 \n",
      "\n",
      "Accuracy: 0.6081\n",
      "Specificity: 0.4255\n",
      "Precision: 0.653\n",
      "Recall: 0.7316\n",
      "F1 Score: 0.6901 \n",
      "\n",
      "Best accuracy rate confusion matrix:\n"
     ]
    },
    {
     "data": {
      "text/plain": [
       "<sklearn.metrics._plot.confusion_matrix.ConfusionMatrixDisplay at 0x1703b803e50>"
      ]
     },
     "execution_count": 109,
     "metadata": {},
     "output_type": "execute_result"
    },
    {
     "data": {
      "image/png": "[encoded data removed]",
      "text/plain": [
       "<Figure size 432x288 with 2 Axes>"
      ]
     },
     "metadata": {
      "needs_background": "light"
     },
     "output_type": "display_data"
    }
   ],
   "source": [
    "mnb = MultinomialNB()\n",
    "\n",
    "model_trials('GA', X, y, mnb, 'Multinomial Naive Bayes');"
   ]
  },
  {
   "cell_type": "markdown",
   "metadata": {},
   "source": [
    "### Analysis\n",
    "This MNB model performed surprisingly poorly and had significantly more false positives and false negatives relative to the Logistic Regression model. \n",
    "\n",
    "One possible explanation is that NB classifiers operate on the principle that the presence of one feature does not affect the presence of another. This assumption is not true of this dataset - many features are highly correlated and the presence of 'age_at_release_33-37', for example, would directly result in the absence of a true value in the 'age_at_release_48 or older' column. \n",
    "\n",
    "In this case, the model is running on an assumption that is categorically false and would likely run into issues, even in a binary classification model. "
   ]
  },
  {
   "cell_type": "markdown",
   "metadata": {},
   "source": [
    "---\n",
    "\n",
    "## KNN Classifier"
   ]
  },
  {
   "cell_type": "code",
   "execution_count": null,
   "metadata": {},
   "outputs": [
    {
     "name": "stdout",
     "output_type": "stream",
     "text": [
      "Dataset: GA\n",
      "Model ID: KNN\n",
      "Model Params: {'memory': None, 'steps': [('ss', StandardScaler()), ('knn', KNeighborsClassifier())], 'verbose': False, 'ss': StandardScaler(), 'knn': KNeighborsClassifier(), 'ss__copy': True, 'ss__with_mean': True, 'ss__with_std': True, 'knn__algorithm': 'auto', 'knn__leaf_size': 30, 'knn__metric': 'minkowski', 'knn__metric_params': None, 'knn__n_jobs': None, 'knn__n_neighbors': 5, 'knn__p': 2, 'knn__weights': 'uniform'}\n",
      "Training Score: 0.7695\n",
      "Testing Score: 0.6502 \n",
      "\n",
      "Accuracy: 0.6502\n",
      "Specificity: 0.5345\n",
      "Precision: 0.6981\n",
      "Recall: 0.7286\n",
      "F1 Score: 0.713 \n",
      "\n",
      "Best accuracy rate confusion matrix:\n"
     ]
    },
    {
     "data": {
      "image/png": "[encoded data removed]",
      "text/plain": [
       "<Figure size 432x288 with 2 Axes>"
      ]
     },
     "metadata": {
      "needs_background": "light"
     },
     "output_type": "display_data"
    }
   ],
   "source": [
    "knn = Pipeline([\n",
    "    ('ss', StandardScaler()),\n",
    "    ('knn', KNeighborsClassifier())\n",
    "])\n",
    "\n",
    "model_trials('GA', X, y, knn, 'KNN');"
   ]
  },
  {
   "cell_type": "markdown",
   "metadata": {},
   "source": [
    "### Analysis\n",
    "Despite the higher scores, the KNN model saw a handful more false negatives compared to the MNB model above. That being said, both models scored not much higher than the baseline and will likely not be used in the model tuning portion. \n",
    "\n",
    "Because KNN performs well with a low number of features, it's probable that the 42 features included in the dummy dataframe are creating too much noise for this model to read through. This, in addition to the fact that KNN uses the mode of the closest observations in a classification model (and our data is not evenly balanced) are two feasible explanations of the low scores seen here."
   ]
  },
  {
   "cell_type": "markdown",
   "metadata": {},
   "source": [
    "---\n",
    "\n",
    "## Decision Tree Classifier"
   ]
  },
  {
   "cell_type": "code",
   "execution_count": null,
   "metadata": {},
   "outputs": [
    {
     "name": "stdout",
     "output_type": "stream",
     "text": [
      "Dataset: GA\n",
      "Model ID: Decision Tree\n",
      "Model Params: {'ccp_alpha': 0.0, 'class_weight': None, 'criterion': 'gini', 'max_depth': None, 'max_features': None, 'max_leaf_nodes': None, 'min_impurity_decrease': 0.0, 'min_samples_leaf': 1, 'min_samples_split': 2, 'min_weight_fraction_leaf': 0.0, 'random_state': 42, 'splitter': 'best'}\n",
      "Training Score: 1.0\n",
      "Testing Score: 0.623 \n",
      "\n",
      "Accuracy: 0.623\n",
      "Specificity: 0.5538\n",
      "Precision: 0.6893\n",
      "Recall: 0.6699\n",
      "F1 Score: 0.6794 \n",
      "\n",
      "Best accuracy rate confusion matrix:\n"
     ]
    },
    {
     "data": {
      "image/png": "[encoded data removed]",
      "text/plain": [
       "<Figure size 432x288 with 2 Axes>"
      ]
     },
     "metadata": {
      "needs_background": "light"
     },
     "output_type": "display_data"
    }
   ],
   "source": [
    "dtree = DecisionTreeClassifier(random_state=42)\n",
    "\n",
    "model_trials('GA', X, y, dtree, 'Decision Tree');"
   ]
  },
  {
   "cell_type": "markdown",
   "metadata": {},
   "source": [
    "### Analysis\n",
    "Depending on our evaluation metric, this model did or did not perform well. We're seeing a 0.62 accuracy score, which is not far above the baseline. However, we're also seeing the highest specificity score of the four models tested so far. By definition, this tells us that the Decision Tree model had the lowest number of false positives, and the greatest number of false negatives. \n",
    "\n",
    "Additionally, the model is very overfit. While adding max depth or min samples as hyperparameters would likely reduce the variance, we'd still expect a Random Forest or Bagging model to perform better in this context because both are adding randomness to the samples that the Decision Tree model does not."
   ]
  },
  {
   "cell_type": "markdown",
   "metadata": {},
   "source": [
    "---\n",
    "\n",
    "## Random Forest Classifier"
   ]
  },
  {
   "cell_type": "code",
   "execution_count": null,
   "metadata": {},
   "outputs": [
    {
     "name": "stdout",
     "output_type": "stream",
     "text": [
      "Dataset: GA\n",
      "Model ID: Random Forest\n",
      "Model Params: {'bootstrap': True, 'ccp_alpha': 0.0, 'class_weight': None, 'criterion': 'gini', 'max_depth': None, 'max_features': 'sqrt', 'max_leaf_nodes': None, 'max_samples': None, 'min_impurity_decrease': 0.0, 'min_samples_leaf': 1, 'min_samples_split': 2, 'min_weight_fraction_leaf': 0.0, 'n_estimators': 100, 'n_jobs': None, 'oob_score': False, 'random_state': 42, 'verbose': 0, 'warm_start': False}\n",
      "Training Score: 1.0\n",
      "Testing Score: 0.7063 \n",
      "\n",
      "Accuracy: 0.7063\n",
      "Specificity: 0.5517\n",
      "Precision: 0.7277\n",
      "Recall: 0.8109\n",
      "F1 Score: 0.7671 \n",
      "\n",
      "Best accuracy rate confusion matrix:\n"
     ]
    },
    {
     "data": {
      "image/png": "[encoded data removed]",
      "text/plain": [
       "<Figure size 432x288 with 2 Axes>"
      ]
     },
     "metadata": {
      "needs_background": "light"
     },
     "output_type": "display_data"
    }
   ],
   "source": [
    "rf = RandomForestClassifier(random_state=42)\n",
    "\n",
    "model_trials('GA', X, y, rf, 'Random Forest');"
   ]
  },
  {
   "cell_type": "markdown",
   "metadata": {},
   "source": [
    "### Analysis\n",
    "This model is also very overfit, but significantly decreased the number of false negatives in comparison to the Decision Tree model above. We're seeing the specificity score on par with the prior trials, but the Random Forest model looks to have classified more similarly to the Logistic Regression model than DTree.\n",
    "\n",
    "The .706 score is our highest accuracy so far, and a strong contender for the upcoming model tuning."
   ]
  },
  {
   "cell_type": "markdown",
   "metadata": {},
   "source": [
    "---\n",
    "\n",
    "## Bagging Classifier"
   ]
  },
  {
   "cell_type": "code",
   "execution_count": null,
   "metadata": {},
   "outputs": [
    {
     "name": "stdout",
     "output_type": "stream",
     "text": [
      "Dataset: GA\n",
      "Model ID: Bagging\n",
      "Model Params: {'base_estimator': None, 'bootstrap': True, 'bootstrap_features': False, 'max_features': 1.0, 'max_samples': 1.0, 'n_estimators': 10, 'n_jobs': None, 'oob_score': False, 'random_state': 42, 'verbose': 0, 'warm_start': False}\n",
      "Training Score: 0.986\n",
      "Testing Score: 0.6682 \n",
      "\n",
      "Accuracy: 0.6682\n",
      "Specificity: 0.6045\n",
      "Precision: 0.7266\n",
      "Recall: 0.7114\n",
      "F1 Score: 0.7189 \n",
      "\n",
      "Best accuracy rate confusion matrix:\n"
     ]
    },
    {
     "data": {
      "image/png": "[encoded data removed]",
      "text/plain": [
       "<Figure size 432x288 with 2 Axes>"
      ]
     },
     "metadata": {
      "needs_background": "light"
     },
     "output_type": "display_data"
    }
   ],
   "source": [
    "bag = BaggingClassifier(random_state=42)\n",
    "\n",
    "model_trials('GA', X, y, bag, 'Bagging');"
   ]
  },
  {
   "cell_type": "markdown",
   "metadata": {},
   "source": [
    "### Analysis\n",
    "Because Bagging is often used when we need to reduce the variance of a Decision Tree model, this model does meet the objective, in that sense.\n",
    "\n",
    "However, the model is, again, pretty overfit and scoring higher than the baseline by a slim margin. It does well classifying the true negatives but not as well classifying the true positives, relative to the others. \n",
    "\n",
    "Overall, we aren't thrilled with the Bagging accuracy score, but it is the third highest so far and a potential option to carry into model tuning."
   ]
  },
  {
   "cell_type": "markdown",
   "metadata": {},
   "source": [
    "--- \n",
    "\n",
    "## Ada Boost Classifier"
   ]
  },
  {
   "cell_type": "code",
   "execution_count": null,
   "metadata": {},
   "outputs": [
    {
     "name": "stdout",
     "output_type": "stream",
     "text": [
      "Dataset: GA\n",
      "Model ID: AdaBoost\n",
      "Model Params: {'algorithm': 'SAMME.R', 'base_estimator': None, 'learning_rate': 1.0, 'n_estimators': 50, 'random_state': 42}\n",
      "Training Score: 0.7216\n",
      "Testing Score: 0.7045 \n",
      "\n",
      "Accuracy: 0.7045\n",
      "Specificity: 0.5715\n",
      "Precision: 0.7326\n",
      "Recall: 0.7944\n",
      "F1 Score: 0.7623 \n",
      "\n",
      "Best accuracy rate confusion matrix:\n"
     ]
    },
    {
     "data": {
      "image/png": "[encoded data removed]",
      "text/plain": [
       "<Figure size 432x288 with 2 Axes>"
      ]
     },
     "metadata": {
      "needs_background": "light"
     },
     "output_type": "display_data"
    }
   ],
   "source": [
    "ada = AdaBoostClassifier(random_state=42)\n",
    "\n",
    "model_trials('GA', X, y, ada, 'AdaBoost');"
   ]
  },
  {
   "cell_type": "markdown",
   "metadata": {},
   "source": [
    "### Analysis\n",
    "In terms of classification, this AdaBoost model classified very closely to the Random Forest model. Where AdaBoost edges ahead is in the variance of the train and test scores. This model got a similar test score to RF, but shrunk the gap between this and the train score almost entirely. \n",
    "\n",
    "This is probably a result of the weighing methods within each of the models - while Random Forest allows an equal vote for each tree, AdaBoost gives some trees/stumps more weight in the final classification than others.\n",
    "\n",
    "As Logistic Regression was another top-performing trial so far, I think that combining this with a boosting model may lead to higher scores."
   ]
  },
  {
   "cell_type": "markdown",
   "metadata": {},
   "source": [
    "---\n",
    "\n",
    "## Ada Boost Classifier with Logistic Regression"
   ]
  },
  {
   "cell_type": "code",
   "execution_count": null,
   "metadata": {},
   "outputs": [
    {
     "name": "stdout",
     "output_type": "stream",
     "text": [
      "Dataset: GA\n",
      "Model ID: AdaBoost w/ LogReg\n",
      "Model Params: {'algorithm': 'SAMME.R', 'base_estimator': None, 'learning_rate': 1.0, 'n_estimators': 50, 'random_state': 42}\n",
      "Training Score: 0.7216\n",
      "Testing Score: 0.7045 \n",
      "\n",
      "Accuracy: 0.7045\n",
      "Specificity: 0.5715\n",
      "Precision: 0.7326\n",
      "Recall: 0.7944\n",
      "F1 Score: 0.7623 \n",
      "\n",
      "Best accuracy rate confusion matrix:\n"
     ]
    },
    {
     "data": {
      "image/png": "[encoded data removed]",
      "text/plain": [
       "<Figure size 432x288 with 2 Axes>"
      ]
     },
     "metadata": {
      "needs_background": "light"
     },
     "output_type": "display_data"
    }
   ],
   "source": [
    "ada_lr = AdaBoostClassifier(base_estimator=LogisticRegression(), random_state=42)\n",
    "\n",
    "model_trials('GA', X, y, ada, 'AdaBoost w/ LogReg');"
   ]
  },
  {
   "cell_type": "markdown",
   "metadata": {},
   "source": [
    "### Analysis\n",
    "Replacing the Decision Tree base estimator in the AdaBoost model with Logistic Regression did not affect the classifications. This model made all of the same predictions and, therefore, produced all of the same scores as the previous AdaBoost model. \n",
    "\n",
    "Though using Logistic Regression in conjunction with AdaBoost did not improve the scores, these models did perform relatively well and may be worth exploring further with hyperparameter tuning."
   ]
  },
  {
   "cell_type": "markdown",
   "metadata": {},
   "source": [
    "---\n",
    "\n",
    "## Gradient Boosting Classifier"
   ]
  },
  {
   "cell_type": "code",
   "execution_count": null,
   "metadata": {},
   "outputs": [
    {
     "name": "stdout",
     "output_type": "stream",
     "text": [
      "Dataset: GA\n",
      "Model ID: Gradient Boosting\n",
      "Model Params: {'ccp_alpha': 0.0, 'criterion': 'friedman_mse', 'init': None, 'learning_rate': 0.1, 'loss': 'log_loss', 'max_depth': 3, 'max_features': None, 'max_leaf_nodes': None, 'min_impurity_decrease': 0.0, 'min_samples_leaf': 1, 'min_samples_split': 2, 'min_weight_fraction_leaf': 0.0, 'n_estimators': 100, 'n_iter_no_change': None, 'random_state': 42, 'subsample': 1.0, 'tol': 0.0001, 'validation_fraction': 0.1, 'verbose': 0, 'warm_start': False}\n",
      "Training Score: 0.739\n",
      "Testing Score: 0.7147 \n",
      "\n",
      "Accuracy: 0.7147\n",
      "Specificity: 0.5674\n",
      "Precision: 0.7356\n",
      "Recall: 0.8143\n",
      "F1 Score: 0.773 \n",
      "\n",
      "Best accuracy rate confusion matrix:\n"
     ]
    },
    {
     "data": {
      "image/png": "[encoded data removed]",
      "text/plain": [
       "<Figure size 432x288 with 2 Axes>"
      ]
     },
     "metadata": {
      "needs_background": "light"
     },
     "output_type": "display_data"
    }
   ],
   "source": [
    "gboost = GradientBoostingClassifier(random_state=42)\n",
    "\n",
    "model_trials('GA', X, y, gboost, 'Gradient Boosting');"
   ]
  },
  {
   "cell_type": "markdown",
   "metadata": {},
   "source": [
    "### Analysis\n",
    "The Gradient Boost had the best test score we've seen so far. Though it did not have the most true negatives or true positives, this model outperformed all others on accuracy because it had low numbers of both misclassification types (whereas most of the other models had an inverse relationship between false positives and false negatives).\n",
    "\n",
    "This model is also not drastically overfit, meaning it is a great option to move forward into model tuning."
   ]
  },
  {
   "cell_type": "markdown",
   "metadata": {},
   "source": [
    "---\n",
    "## Model Evaluation"
   ]
  },
  {
   "cell_type": "code",
   "execution_count": null,
   "metadata": {},
   "outputs": [
    {
     "data": {
      "text/html": [
       "<div>\n",
       "<style scoped>\n",
       "    .dataframe tbody tr th:only-of-type {\n",
       "        vertical-align: middle;\n",
       "    }\n",
       "\n",
       "    .dataframe tbody tr th {\n",
       "        vertical-align: top;\n",
       "    }\n",
       "\n",
       "    .dataframe thead th {\n",
       "        text-align: right;\n",
       "    }\n",
       "</style>\n",
       "<table border=\"1\" class=\"dataframe\">\n",
       "  <thead>\n",
       "    <tr style=\"text-align: right;\">\n",
       "      <th></th>\n",
       "      <th>dataset_name</th>\n",
       "      <th>model_used</th>\n",
       "      <th>model_params</th>\n",
       "      <th>train_score</th>\n",
       "      <th>test_score</th>\n",
       "      <th>accuracy</th>\n",
       "      <th>specificity</th>\n",
       "      <th>precision</th>\n",
       "      <th>recall</th>\n",
       "      <th>f1 score</th>\n",
       "      <th>true_neg</th>\n",
       "      <th>false_pos</th>\n",
       "      <th>false_neg</th>\n",
       "      <th>true_pos</th>\n",
       "    </tr>\n",
       "  </thead>\n",
       "  <tbody>\n",
       "    <tr>\n",
       "      <th>0</th>\n",
       "      <td>NY</td>\n",
       "      <td>LogisticRegression w/gender + age</td>\n",
       "      <td>{'C': 1.0, 'class_weight': None, 'dual': False...</td>\n",
       "      <td>0.586841</td>\n",
       "      <td>0.587914</td>\n",
       "      <td>0.587914</td>\n",
       "      <td>0.970683</td>\n",
       "      <td>0.561523</td>\n",
       "      <td>0.052514</td>\n",
       "      <td>0.096047</td>\n",
       "      <td>21356</td>\n",
       "      <td>645</td>\n",
       "      <td>14903</td>\n",
       "      <td>826</td>\n",
       "    </tr>\n",
       "    <tr>\n",
       "      <th>1</th>\n",
       "      <td>NY</td>\n",
       "      <td>RandomForest w/gender + age</td>\n",
       "      <td>{'bootstrap': True, 'ccp_alpha': 0.0, 'class_w...</td>\n",
       "      <td>0.588332</td>\n",
       "      <td>0.587013</td>\n",
       "      <td>0.587013</td>\n",
       "      <td>0.918049</td>\n",
       "      <td>0.519584</td>\n",
       "      <td>0.123975</td>\n",
       "      <td>0.200185</td>\n",
       "      <td>20198</td>\n",
       "      <td>1803</td>\n",
       "      <td>13779</td>\n",
       "      <td>1950</td>\n",
       "    </tr>\n",
       "    <tr>\n",
       "      <th>2</th>\n",
       "      <td>NY</td>\n",
       "      <td>AdaBoost w/gender + age</td>\n",
       "      <td>{'algorithm': 'SAMME.R', 'base_estimator__ccp_...</td>\n",
       "      <td>0.588332</td>\n",
       "      <td>0.587013</td>\n",
       "      <td>0.587013</td>\n",
       "      <td>0.918049</td>\n",
       "      <td>0.519584</td>\n",
       "      <td>0.123975</td>\n",
       "      <td>0.200185</td>\n",
       "      <td>20198</td>\n",
       "      <td>1803</td>\n",
       "      <td>13779</td>\n",
       "      <td>1950</td>\n",
       "    </tr>\n",
       "    <tr>\n",
       "      <th>3</th>\n",
       "      <td>NY</td>\n",
       "      <td>GradientBoost w/gender + age</td>\n",
       "      <td>{'ccp_alpha': 0.0, 'criterion': 'friedman_mse'...</td>\n",
       "      <td>0.588325</td>\n",
       "      <td>0.586986</td>\n",
       "      <td>0.586986</td>\n",
       "      <td>0.918186</td>\n",
       "      <td>0.519487</td>\n",
       "      <td>0.123721</td>\n",
       "      <td>0.199846</td>\n",
       "      <td>20201</td>\n",
       "      <td>1800</td>\n",
       "      <td>13783</td>\n",
       "      <td>1946</td>\n",
       "    </tr>\n",
       "    <tr>\n",
       "      <th>4</th>\n",
       "      <td>NY</td>\n",
       "      <td>Stack of RandomForest, GradientBoost, AdaBoost...</td>\n",
       "      <td>{'cv': None, 'estimators': [('random_forest', ...</td>\n",
       "      <td>0.588325</td>\n",
       "      <td>0.586986</td>\n",
       "      <td>0.586986</td>\n",
       "      <td>0.918186</td>\n",
       "      <td>0.519487</td>\n",
       "      <td>0.123721</td>\n",
       "      <td>0.199846</td>\n",
       "      <td>20201</td>\n",
       "      <td>1800</td>\n",
       "      <td>13783</td>\n",
       "      <td>1946</td>\n",
       "    </tr>\n",
       "    <tr>\n",
       "      <th>5</th>\n",
       "      <td>NY</td>\n",
       "      <td>KNeighbors w/gender + age</td>\n",
       "      <td>{'algorithm': 'auto', 'leaf_size': 30, 'metric...</td>\n",
       "      <td>0.531884</td>\n",
       "      <td>0.531275</td>\n",
       "      <td>0.531275</td>\n",
       "      <td>0.646743</td>\n",
       "      <td>0.428025</td>\n",
       "      <td>0.369763</td>\n",
       "      <td>0.396766</td>\n",
       "      <td>14229</td>\n",
       "      <td>7772</td>\n",
       "      <td>9913</td>\n",
       "      <td>5816</td>\n",
       "    </tr>\n",
       "    <tr>\n",
       "      <th>6</th>\n",
       "      <td>NY</td>\n",
       "      <td>LogisticRegression w/county, gender + age</td>\n",
       "      <td>{'C': 1.0, 'class_weight': None, 'dual': False...</td>\n",
       "      <td>0.598734</td>\n",
       "      <td>0.599019</td>\n",
       "      <td>0.599019</td>\n",
       "      <td>0.876778</td>\n",
       "      <td>0.549817</td>\n",
       "      <td>0.210503</td>\n",
       "      <td>0.304446</td>\n",
       "      <td>19290</td>\n",
       "      <td>2711</td>\n",
       "      <td>12418</td>\n",
       "      <td>3311</td>\n",
       "    </tr>\n",
       "    <tr>\n",
       "      <th>7</th>\n",
       "      <td>NY</td>\n",
       "      <td>RandomForest w/GridSearch w/county, gender + age</td>\n",
       "      <td>{'max_depth': 15, 'max_features': 15, 'n_estim...</td>\n",
       "      <td>0.602876</td>\n",
       "      <td>0.597641</td>\n",
       "      <td>0.597641</td>\n",
       "      <td>0.893096</td>\n",
       "      <td>0.552171</td>\n",
       "      <td>0.184373</td>\n",
       "      <td>0.276441</td>\n",
       "      <td>19649</td>\n",
       "      <td>2352</td>\n",
       "      <td>12829</td>\n",
       "      <td>2900</td>\n",
       "    </tr>\n",
       "    <tr>\n",
       "      <th>8</th>\n",
       "      <td>NY</td>\n",
       "      <td>AdaBoost w/GridSearch w/county, gender + age</td>\n",
       "      <td>{'base_estimator__max_depth': 1, 'n_estimators...</td>\n",
       "      <td>0.599569</td>\n",
       "      <td>0.600027</td>\n",
       "      <td>0.600027</td>\n",
       "      <td>0.870779</td>\n",
       "      <td>0.550443</td>\n",
       "      <td>0.221311</td>\n",
       "      <td>0.315694</td>\n",
       "      <td>19158</td>\n",
       "      <td>2843</td>\n",
       "      <td>12248</td>\n",
       "      <td>3481</td>\n",
       "    </tr>\n",
       "    <tr>\n",
       "      <th>9</th>\n",
       "      <td>NY</td>\n",
       "      <td>GradientBoost w/county, gender + age</td>\n",
       "      <td>{'ccp_alpha': 0.0, 'criterion': 'friedman_mse'...</td>\n",
       "      <td>0.598940</td>\n",
       "      <td>0.598834</td>\n",
       "      <td>0.598834</td>\n",
       "      <td>0.918276</td>\n",
       "      <td>0.570781</td>\n",
       "      <td>0.152012</td>\n",
       "      <td>0.240084</td>\n",
       "      <td>20203</td>\n",
       "      <td>1798</td>\n",
       "      <td>13338</td>\n",
       "      <td>2391</td>\n",
       "    </tr>\n",
       "    <tr>\n",
       "      <th>10</th>\n",
       "      <td>NY</td>\n",
       "      <td>Stack w/RandomForest + GradientBoost w/county,...</td>\n",
       "      <td>{'cv': None, 'estimators': [('random_forest', ...</td>\n",
       "      <td>0.600954</td>\n",
       "      <td>0.599602</td>\n",
       "      <td>0.599602</td>\n",
       "      <td>0.876187</td>\n",
       "      <td>0.551236</td>\n",
       "      <td>0.212728</td>\n",
       "      <td>0.306987</td>\n",
       "      <td>19277</td>\n",
       "      <td>2724</td>\n",
       "      <td>12383</td>\n",
       "      <td>3346</td>\n",
       "    </tr>\n",
       "    <tr>\n",
       "      <th>11</th>\n",
       "      <td>NY</td>\n",
       "      <td>FNN w/county, gender + age</td>\n",
       "      <td>{'epochs': 10, 'batch_size': 32}</td>\n",
       "      <td>0.599708</td>\n",
       "      <td>0.600477</td>\n",
       "      <td>0.600477</td>\n",
       "      <td>0.895959</td>\n",
       "      <td>0.562584</td>\n",
       "      <td>0.187170</td>\n",
       "      <td>0.280889</td>\n",
       "      <td>19712</td>\n",
       "      <td>2289</td>\n",
       "      <td>12785</td>\n",
       "      <td>2944</td>\n",
       "    </tr>\n",
       "    <tr>\n",
       "      <th>12</th>\n",
       "      <td>GA</td>\n",
       "      <td>Logistic Regression</td>\n",
       "      <td>{'C': 1.0, 'class_weight': None, 'dual': False...</td>\n",
       "      <td>0.709672</td>\n",
       "      <td>0.696480</td>\n",
       "      <td>0.696480</td>\n",
       "      <td>0.521805</td>\n",
       "      <td>0.715707</td>\n",
       "      <td>0.814688</td>\n",
       "      <td>0.761996</td>\n",
       "      <td>1029</td>\n",
       "      <td>943</td>\n",
       "      <td>540</td>\n",
       "      <td>2374</td>\n",
       "    </tr>\n",
       "    <tr>\n",
       "      <th>13</th>\n",
       "      <td>GA</td>\n",
       "      <td>Multinomial Naive Bayes</td>\n",
       "      <td>{'alpha': 1.0, 'class_prior': None, 'fit_prior...</td>\n",
       "      <td>0.611771</td>\n",
       "      <td>0.608064</td>\n",
       "      <td>0.608064</td>\n",
       "      <td>0.425456</td>\n",
       "      <td>0.652986</td>\n",
       "      <td>0.731640</td>\n",
       "      <td>0.690079</td>\n",
       "      <td>839</td>\n",
       "      <td>1133</td>\n",
       "      <td>782</td>\n",
       "      <td>2132</td>\n",
       "    </tr>\n",
       "    <tr>\n",
       "      <th>14</th>\n",
       "      <td>GA</td>\n",
       "      <td>KNN</td>\n",
       "      <td>{'memory': None, 'steps': [('ss', StandardScal...</td>\n",
       "      <td>0.769550</td>\n",
       "      <td>0.650225</td>\n",
       "      <td>0.650225</td>\n",
       "      <td>0.534483</td>\n",
       "      <td>0.698126</td>\n",
       "      <td>0.728552</td>\n",
       "      <td>0.713014</td>\n",
       "      <td>1054</td>\n",
       "      <td>918</td>\n",
       "      <td>791</td>\n",
       "      <td>2123</td>\n",
       "    </tr>\n",
       "    <tr>\n",
       "      <th>15</th>\n",
       "      <td>GA</td>\n",
       "      <td>KNN</td>\n",
       "      <td>{'memory': None, 'steps': [('ss', StandardScal...</td>\n",
       "      <td>0.769550</td>\n",
       "      <td>0.650225</td>\n",
       "      <td>0.650225</td>\n",
       "      <td>0.534483</td>\n",
       "      <td>0.698126</td>\n",
       "      <td>0.728552</td>\n",
       "      <td>0.713014</td>\n",
       "      <td>1054</td>\n",
       "      <td>918</td>\n",
       "      <td>791</td>\n",
       "      <td>2123</td>\n",
       "    </tr>\n",
       "    <tr>\n",
       "      <th>16</th>\n",
       "      <td>GA</td>\n",
       "      <td>Decision Tree</td>\n",
       "      <td>{'ccp_alpha': 0.0, 'class_weight': None, 'crit...</td>\n",
       "      <td>1.000000</td>\n",
       "      <td>0.623005</td>\n",
       "      <td>0.623005</td>\n",
       "      <td>0.553753</td>\n",
       "      <td>0.689266</td>\n",
       "      <td>0.669870</td>\n",
       "      <td>0.679429</td>\n",
       "      <td>1092</td>\n",
       "      <td>880</td>\n",
       "      <td>962</td>\n",
       "      <td>1952</td>\n",
       "    </tr>\n",
       "    <tr>\n",
       "      <th>17</th>\n",
       "      <td>GA</td>\n",
       "      <td>Random Forest</td>\n",
       "      <td>{'bootstrap': True, 'ccp_alpha': 0.0, 'class_w...</td>\n",
       "      <td>1.000000</td>\n",
       "      <td>0.706304</td>\n",
       "      <td>0.706304</td>\n",
       "      <td>0.551724</td>\n",
       "      <td>0.727749</td>\n",
       "      <td>0.810913</td>\n",
       "      <td>0.767083</td>\n",
       "      <td>1088</td>\n",
       "      <td>884</td>\n",
       "      <td>551</td>\n",
       "      <td>2363</td>\n",
       "    </tr>\n",
       "    <tr>\n",
       "      <th>18</th>\n",
       "      <td>GA</td>\n",
       "      <td>Bagging</td>\n",
       "      <td>{'base_estimator': None, 'bootstrap': True, 'b...</td>\n",
       "      <td>0.986029</td>\n",
       "      <td>0.668236</td>\n",
       "      <td>0.668236</td>\n",
       "      <td>0.604462</td>\n",
       "      <td>0.726604</td>\n",
       "      <td>0.711393</td>\n",
       "      <td>0.718918</td>\n",
       "      <td>1192</td>\n",
       "      <td>780</td>\n",
       "      <td>841</td>\n",
       "      <td>2073</td>\n",
       "    </tr>\n",
       "    <tr>\n",
       "      <th>19</th>\n",
       "      <td>GA</td>\n",
       "      <td>AdaBoost</td>\n",
       "      <td>{'algorithm': 'SAMME.R', 'base_estimator': Non...</td>\n",
       "      <td>0.721648</td>\n",
       "      <td>0.704462</td>\n",
       "      <td>0.704462</td>\n",
       "      <td>0.571501</td>\n",
       "      <td>0.732595</td>\n",
       "      <td>0.794441</td>\n",
       "      <td>0.762265</td>\n",
       "      <td>1127</td>\n",
       "      <td>845</td>\n",
       "      <td>599</td>\n",
       "      <td>2315</td>\n",
       "    </tr>\n",
       "    <tr>\n",
       "      <th>20</th>\n",
       "      <td>GA</td>\n",
       "      <td>AdaBoost w/ LogReg</td>\n",
       "      <td>{'algorithm': 'SAMME.R', 'base_estimator': Non...</td>\n",
       "      <td>0.721648</td>\n",
       "      <td>0.704462</td>\n",
       "      <td>0.704462</td>\n",
       "      <td>0.571501</td>\n",
       "      <td>0.732595</td>\n",
       "      <td>0.794441</td>\n",
       "      <td>0.762265</td>\n",
       "      <td>1127</td>\n",
       "      <td>845</td>\n",
       "      <td>599</td>\n",
       "      <td>2315</td>\n",
       "    </tr>\n",
       "    <tr>\n",
       "      <th>21</th>\n",
       "      <td>GA</td>\n",
       "      <td>Gradient Boosting</td>\n",
       "      <td>{'ccp_alpha': 0.0, 'criterion': 'friedman_mse'...</td>\n",
       "      <td>0.739048</td>\n",
       "      <td>0.714695</td>\n",
       "      <td>0.714695</td>\n",
       "      <td>0.567444</td>\n",
       "      <td>0.735586</td>\n",
       "      <td>0.814345</td>\n",
       "      <td>0.772964</td>\n",
       "      <td>1119</td>\n",
       "      <td>853</td>\n",
       "      <td>541</td>\n",
       "      <td>2373</td>\n",
       "    </tr>\n",
       "  </tbody>\n",
       "</table>\n",
       "</div>"
      ],
      "text/plain": [
       "   dataset_name                                         model_used  \\\n",
       "0            NY                  LogisticRegression w/gender + age   \n",
       "1            NY                        RandomForest w/gender + age   \n",
       "2            NY                            AdaBoost w/gender + age   \n",
       "3            NY                       GradientBoost w/gender + age   \n",
       "4            NY  Stack of RandomForest, GradientBoost, AdaBoost...   \n",
       "5            NY                          KNeighbors w/gender + age   \n",
       "6            NY          LogisticRegression w/county, gender + age   \n",
       "7            NY   RandomForest w/GridSearch w/county, gender + age   \n",
       "8            NY       AdaBoost w/GridSearch w/county, gender + age   \n",
       "9            NY               GradientBoost w/county, gender + age   \n",
       "10           NY  Stack w/RandomForest + GradientBoost w/county,...   \n",
       "11           NY                         FNN w/county, gender + age   \n",
       "12           GA                                Logistic Regression   \n",
       "13           GA                            Multinomial Naive Bayes   \n",
       "14           GA                                                KNN   \n",
       "15           GA                                                KNN   \n",
       "16           GA                                      Decision Tree   \n",
       "17           GA                                      Random Forest   \n",
       "18           GA                                            Bagging   \n",
       "19           GA                                           AdaBoost   \n",
       "20           GA                                 AdaBoost w/ LogReg   \n",
       "21           GA                                  Gradient Boosting   \n",
       "\n",
       "                                         model_params  train_score  \\\n",
       "0   {'C': 1.0, 'class_weight': None, 'dual': False...     0.586841   \n",
       "1   {'bootstrap': True, 'ccp_alpha': 0.0, 'class_w...     0.588332   \n",
       "2   {'algorithm': 'SAMME.R', 'base_estimator__ccp_...     0.588332   \n",
       "3   {'ccp_alpha': 0.0, 'criterion': 'friedman_mse'...     0.588325   \n",
       "4   {'cv': None, 'estimators': [('random_forest', ...     0.588325   \n",
       "5   {'algorithm': 'auto', 'leaf_size': 30, 'metric...     0.531884   \n",
       "6   {'C': 1.0, 'class_weight': None, 'dual': False...     0.598734   \n",
       "7   {'max_depth': 15, 'max_features': 15, 'n_estim...     0.602876   \n",
       "8   {'base_estimator__max_depth': 1, 'n_estimators...     0.599569   \n",
       "9   {'ccp_alpha': 0.0, 'criterion': 'friedman_mse'...     0.598940   \n",
       "10  {'cv': None, 'estimators': [('random_forest', ...     0.600954   \n",
       "11                   {'epochs': 10, 'batch_size': 32}     0.599708   \n",
       "12  {'C': 1.0, 'class_weight': None, 'dual': False...     0.709672   \n",
       "13  {'alpha': 1.0, 'class_prior': None, 'fit_prior...     0.611771   \n",
       "14  {'memory': None, 'steps': [('ss', StandardScal...     0.769550   \n",
       "15  {'memory': None, 'steps': [('ss', StandardScal...     0.769550   \n",
       "16  {'ccp_alpha': 0.0, 'class_weight': None, 'crit...     1.000000   \n",
       "17  {'bootstrap': True, 'ccp_alpha': 0.0, 'class_w...     1.000000   \n",
       "18  {'base_estimator': None, 'bootstrap': True, 'b...     0.986029   \n",
       "19  {'algorithm': 'SAMME.R', 'base_estimator': Non...     0.721648   \n",
       "20  {'algorithm': 'SAMME.R', 'base_estimator': Non...     0.721648   \n",
       "21  {'ccp_alpha': 0.0, 'criterion': 'friedman_mse'...     0.739048   \n",
       "\n",
       "    test_score  accuracy  specificity  precision    recall  f1 score  \\\n",
       "0     0.587914  0.587914     0.970683   0.561523  0.052514  0.096047   \n",
       "1     0.587013  0.587013     0.918049   0.519584  0.123975  0.200185   \n",
       "2     0.587013  0.587013     0.918049   0.519584  0.123975  0.200185   \n",
       "3     0.586986  0.586986     0.918186   0.519487  0.123721  0.199846   \n",
       "4     0.586986  0.586986     0.918186   0.519487  0.123721  0.199846   \n",
       "5     0.531275  0.531275     0.646743   0.428025  0.369763  0.396766   \n",
       "6     0.599019  0.599019     0.876778   0.549817  0.210503  0.304446   \n",
       "7     0.597641  0.597641     0.893096   0.552171  0.184373  0.276441   \n",
       "8     0.600027  0.600027     0.870779   0.550443  0.221311  0.315694   \n",
       "9     0.598834  0.598834     0.918276   0.570781  0.152012  0.240084   \n",
       "10    0.599602  0.599602     0.876187   0.551236  0.212728  0.306987   \n",
       "11    0.600477  0.600477     0.895959   0.562584  0.187170  0.280889   \n",
       "12    0.696480  0.696480     0.521805   0.715707  0.814688  0.761996   \n",
       "13    0.608064  0.608064     0.425456   0.652986  0.731640  0.690079   \n",
       "14    0.650225  0.650225     0.534483   0.698126  0.728552  0.713014   \n",
       "15    0.650225  0.650225     0.534483   0.698126  0.728552  0.713014   \n",
       "16    0.623005  0.623005     0.553753   0.689266  0.669870  0.679429   \n",
       "17    0.706304  0.706304     0.551724   0.727749  0.810913  0.767083   \n",
       "18    0.668236  0.668236     0.604462   0.726604  0.711393  0.718918   \n",
       "19    0.704462  0.704462     0.571501   0.732595  0.794441  0.762265   \n",
       "20    0.704462  0.704462     0.571501   0.732595  0.794441  0.762265   \n",
       "21    0.714695  0.714695     0.567444   0.735586  0.814345  0.772964   \n",
       "\n",
       "    true_neg  false_pos  false_neg  true_pos  \n",
       "0      21356        645      14903       826  \n",
       "1      20198       1803      13779      1950  \n",
       "2      20198       1803      13779      1950  \n",
       "3      20201       1800      13783      1946  \n",
       "4      20201       1800      13783      1946  \n",
       "5      14229       7772       9913      5816  \n",
       "6      19290       2711      12418      3311  \n",
       "7      19649       2352      12829      2900  \n",
       "8      19158       2843      12248      3481  \n",
       "9      20203       1798      13338      2391  \n",
       "10     19277       2724      12383      3346  \n",
       "11     19712       2289      12785      2944  \n",
       "12      1029        943        540      2374  \n",
       "13       839       1133        782      2132  \n",
       "14      1054        918        791      2123  \n",
       "15      1054        918        791      2123  \n",
       "16      1092        880        962      1952  \n",
       "17      1088        884        551      2363  \n",
       "18      1192        780        841      2073  \n",
       "19      1127        845        599      2315  \n",
       "20      1127        845        599      2315  \n",
       "21      1119        853        541      2373  "
      ]
     },
     "execution_count": 118,
     "metadata": {},
     "output_type": "execute_result"
    }
   ],
   "source": [
    "model_trials_df"
   ]
  },
  {
   "cell_type": "markdown",
   "metadata": {},
   "source": [
    "- Of the nine models tested, the Gradient Boosting model produced the highest accuracy, precision, and F1 scores.  \n",
    "- Multinomial Naive Bayes had lowest accuracy and specificity, and appeared to struggle with overpredicting recidivism - this is the only model with greater than 1,000 false positives.\n",
    "- Gradient Boost had the best overall accuracy, but lost to Bagging and both Ada Boost on specificity.\n",
    "- Logistic Regression and Gradient Boost had significantly less false negative predictions than most other models, meaning these two were better at not classifying non-recidivism in true recidivism observations."
   ]
  },
  {
   "cell_type": "markdown",
   "metadata": {},
   "source": [
    "---\n",
    "## Model Tuning"
   ]
  },
  {
   "cell_type": "markdown",
   "metadata": {},
   "source": [
    "Here are the previous models, in order of accuracy. I'll be referring to this list to decide which models to add hyperparameters to, and which ones did not score high enough to run again."
   ]
  },
  {
   "cell_type": "code",
   "execution_count": 119,
   "metadata": {},
   "outputs": [
    {
     "data": {
      "text/html": [
       "<div>\n",
       "<style scoped>\n",
       "    .dataframe tbody tr th:only-of-type {\n",
       "        vertical-align: middle;\n",
       "    }\n",
       "\n",
       "    .dataframe tbody tr th {\n",
       "        vertical-align: top;\n",
       "    }\n",
       "\n",
       "    .dataframe thead th {\n",
       "        text-align: right;\n",
       "    }\n",
       "</style>\n",
       "<table border=\"1\" class=\"dataframe\">\n",
       "  <thead>\n",
       "    <tr style=\"text-align: right;\">\n",
       "      <th></th>\n",
       "      <th>dataset_name</th>\n",
       "      <th>model_used</th>\n",
       "      <th>model_params</th>\n",
       "      <th>train_score</th>\n",
       "      <th>test_score</th>\n",
       "      <th>accuracy</th>\n",
       "      <th>specificity</th>\n",
       "      <th>precision</th>\n",
       "      <th>recall</th>\n",
       "      <th>f1 score</th>\n",
       "      <th>true_neg</th>\n",
       "      <th>false_pos</th>\n",
       "      <th>false_neg</th>\n",
       "      <th>true_pos</th>\n",
       "    </tr>\n",
       "  </thead>\n",
       "  <tbody>\n",
       "    <tr>\n",
       "      <th>21</th>\n",
       "      <td>GA</td>\n",
       "      <td>Gradient Boosting</td>\n",
       "      <td>{'ccp_alpha': 0.0, 'criterion': 'friedman_mse'...</td>\n",
       "      <td>0.739048</td>\n",
       "      <td>0.714695</td>\n",
       "      <td>0.714695</td>\n",
       "      <td>0.567444</td>\n",
       "      <td>0.735586</td>\n",
       "      <td>0.814345</td>\n",
       "      <td>0.772964</td>\n",
       "      <td>1119</td>\n",
       "      <td>853</td>\n",
       "      <td>541</td>\n",
       "      <td>2373</td>\n",
       "    </tr>\n",
       "    <tr>\n",
       "      <th>17</th>\n",
       "      <td>GA</td>\n",
       "      <td>Random Forest</td>\n",
       "      <td>{'bootstrap': True, 'ccp_alpha': 0.0, 'class_w...</td>\n",
       "      <td>1.000000</td>\n",
       "      <td>0.706304</td>\n",
       "      <td>0.706304</td>\n",
       "      <td>0.551724</td>\n",
       "      <td>0.727749</td>\n",
       "      <td>0.810913</td>\n",
       "      <td>0.767083</td>\n",
       "      <td>1088</td>\n",
       "      <td>884</td>\n",
       "      <td>551</td>\n",
       "      <td>2363</td>\n",
       "    </tr>\n",
       "    <tr>\n",
       "      <th>20</th>\n",
       "      <td>GA</td>\n",
       "      <td>AdaBoost w/ LogReg</td>\n",
       "      <td>{'algorithm': 'SAMME.R', 'base_estimator': Non...</td>\n",
       "      <td>0.721648</td>\n",
       "      <td>0.704462</td>\n",
       "      <td>0.704462</td>\n",
       "      <td>0.571501</td>\n",
       "      <td>0.732595</td>\n",
       "      <td>0.794441</td>\n",
       "      <td>0.762265</td>\n",
       "      <td>1127</td>\n",
       "      <td>845</td>\n",
       "      <td>599</td>\n",
       "      <td>2315</td>\n",
       "    </tr>\n",
       "    <tr>\n",
       "      <th>19</th>\n",
       "      <td>GA</td>\n",
       "      <td>AdaBoost</td>\n",
       "      <td>{'algorithm': 'SAMME.R', 'base_estimator': Non...</td>\n",
       "      <td>0.721648</td>\n",
       "      <td>0.704462</td>\n",
       "      <td>0.704462</td>\n",
       "      <td>0.571501</td>\n",
       "      <td>0.732595</td>\n",
       "      <td>0.794441</td>\n",
       "      <td>0.762265</td>\n",
       "      <td>1127</td>\n",
       "      <td>845</td>\n",
       "      <td>599</td>\n",
       "      <td>2315</td>\n",
       "    </tr>\n",
       "    <tr>\n",
       "      <th>12</th>\n",
       "      <td>GA</td>\n",
       "      <td>Logistic Regression</td>\n",
       "      <td>{'C': 1.0, 'class_weight': None, 'dual': False...</td>\n",
       "      <td>0.709672</td>\n",
       "      <td>0.696480</td>\n",
       "      <td>0.696480</td>\n",
       "      <td>0.521805</td>\n",
       "      <td>0.715707</td>\n",
       "      <td>0.814688</td>\n",
       "      <td>0.761996</td>\n",
       "      <td>1029</td>\n",
       "      <td>943</td>\n",
       "      <td>540</td>\n",
       "      <td>2374</td>\n",
       "    </tr>\n",
       "    <tr>\n",
       "      <th>18</th>\n",
       "      <td>GA</td>\n",
       "      <td>Bagging</td>\n",
       "      <td>{'base_estimator': None, 'bootstrap': True, 'b...</td>\n",
       "      <td>0.986029</td>\n",
       "      <td>0.668236</td>\n",
       "      <td>0.668236</td>\n",
       "      <td>0.604462</td>\n",
       "      <td>0.726604</td>\n",
       "      <td>0.711393</td>\n",
       "      <td>0.718918</td>\n",
       "      <td>1192</td>\n",
       "      <td>780</td>\n",
       "      <td>841</td>\n",
       "      <td>2073</td>\n",
       "    </tr>\n",
       "    <tr>\n",
       "      <th>15</th>\n",
       "      <td>GA</td>\n",
       "      <td>KNN</td>\n",
       "      <td>{'memory': None, 'steps': [('ss', StandardScal...</td>\n",
       "      <td>0.769550</td>\n",
       "      <td>0.650225</td>\n",
       "      <td>0.650225</td>\n",
       "      <td>0.534483</td>\n",
       "      <td>0.698126</td>\n",
       "      <td>0.728552</td>\n",
       "      <td>0.713014</td>\n",
       "      <td>1054</td>\n",
       "      <td>918</td>\n",
       "      <td>791</td>\n",
       "      <td>2123</td>\n",
       "    </tr>\n",
       "    <tr>\n",
       "      <th>14</th>\n",
       "      <td>GA</td>\n",
       "      <td>KNN</td>\n",
       "      <td>{'memory': None, 'steps': [('ss', StandardScal...</td>\n",
       "      <td>0.769550</td>\n",
       "      <td>0.650225</td>\n",
       "      <td>0.650225</td>\n",
       "      <td>0.534483</td>\n",
       "      <td>0.698126</td>\n",
       "      <td>0.728552</td>\n",
       "      <td>0.713014</td>\n",
       "      <td>1054</td>\n",
       "      <td>918</td>\n",
       "      <td>791</td>\n",
       "      <td>2123</td>\n",
       "    </tr>\n",
       "    <tr>\n",
       "      <th>16</th>\n",
       "      <td>GA</td>\n",
       "      <td>Decision Tree</td>\n",
       "      <td>{'ccp_alpha': 0.0, 'class_weight': None, 'crit...</td>\n",
       "      <td>1.000000</td>\n",
       "      <td>0.623005</td>\n",
       "      <td>0.623005</td>\n",
       "      <td>0.553753</td>\n",
       "      <td>0.689266</td>\n",
       "      <td>0.669870</td>\n",
       "      <td>0.679429</td>\n",
       "      <td>1092</td>\n",
       "      <td>880</td>\n",
       "      <td>962</td>\n",
       "      <td>1952</td>\n",
       "    </tr>\n",
       "    <tr>\n",
       "      <th>13</th>\n",
       "      <td>GA</td>\n",
       "      <td>Multinomial Naive Bayes</td>\n",
       "      <td>{'alpha': 1.0, 'class_prior': None, 'fit_prior...</td>\n",
       "      <td>0.611771</td>\n",
       "      <td>0.608064</td>\n",
       "      <td>0.608064</td>\n",
       "      <td>0.425456</td>\n",
       "      <td>0.652986</td>\n",
       "      <td>0.731640</td>\n",
       "      <td>0.690079</td>\n",
       "      <td>839</td>\n",
       "      <td>1133</td>\n",
       "      <td>782</td>\n",
       "      <td>2132</td>\n",
       "    </tr>\n",
       "    <tr>\n",
       "      <th>11</th>\n",
       "      <td>NY</td>\n",
       "      <td>FNN w/county, gender + age</td>\n",
       "      <td>{'epochs': 10, 'batch_size': 32}</td>\n",
       "      <td>0.599708</td>\n",
       "      <td>0.600477</td>\n",
       "      <td>0.600477</td>\n",
       "      <td>0.895959</td>\n",
       "      <td>0.562584</td>\n",
       "      <td>0.187170</td>\n",
       "      <td>0.280889</td>\n",
       "      <td>19712</td>\n",
       "      <td>2289</td>\n",
       "      <td>12785</td>\n",
       "      <td>2944</td>\n",
       "    </tr>\n",
       "    <tr>\n",
       "      <th>8</th>\n",
       "      <td>NY</td>\n",
       "      <td>AdaBoost w/GridSearch w/county, gender + age</td>\n",
       "      <td>{'base_estimator__max_depth': 1, 'n_estimators...</td>\n",
       "      <td>0.599569</td>\n",
       "      <td>0.600027</td>\n",
       "      <td>0.600027</td>\n",
       "      <td>0.870779</td>\n",
       "      <td>0.550443</td>\n",
       "      <td>0.221311</td>\n",
       "      <td>0.315694</td>\n",
       "      <td>19158</td>\n",
       "      <td>2843</td>\n",
       "      <td>12248</td>\n",
       "      <td>3481</td>\n",
       "    </tr>\n",
       "    <tr>\n",
       "      <th>10</th>\n",
       "      <td>NY</td>\n",
       "      <td>Stack w/RandomForest + GradientBoost w/county,...</td>\n",
       "      <td>{'cv': None, 'estimators': [('random_forest', ...</td>\n",
       "      <td>0.600954</td>\n",
       "      <td>0.599602</td>\n",
       "      <td>0.599602</td>\n",
       "      <td>0.876187</td>\n",
       "      <td>0.551236</td>\n",
       "      <td>0.212728</td>\n",
       "      <td>0.306987</td>\n",
       "      <td>19277</td>\n",
       "      <td>2724</td>\n",
       "      <td>12383</td>\n",
       "      <td>3346</td>\n",
       "    </tr>\n",
       "    <tr>\n",
       "      <th>6</th>\n",
       "      <td>NY</td>\n",
       "      <td>LogisticRegression w/county, gender + age</td>\n",
       "      <td>{'C': 1.0, 'class_weight': None, 'dual': False...</td>\n",
       "      <td>0.598734</td>\n",
       "      <td>0.599019</td>\n",
       "      <td>0.599019</td>\n",
       "      <td>0.876778</td>\n",
       "      <td>0.549817</td>\n",
       "      <td>0.210503</td>\n",
       "      <td>0.304446</td>\n",
       "      <td>19290</td>\n",
       "      <td>2711</td>\n",
       "      <td>12418</td>\n",
       "      <td>3311</td>\n",
       "    </tr>\n",
       "    <tr>\n",
       "      <th>9</th>\n",
       "      <td>NY</td>\n",
       "      <td>GradientBoost w/county, gender + age</td>\n",
       "      <td>{'ccp_alpha': 0.0, 'criterion': 'friedman_mse'...</td>\n",
       "      <td>0.598940</td>\n",
       "      <td>0.598834</td>\n",
       "      <td>0.598834</td>\n",
       "      <td>0.918276</td>\n",
       "      <td>0.570781</td>\n",
       "      <td>0.152012</td>\n",
       "      <td>0.240084</td>\n",
       "      <td>20203</td>\n",
       "      <td>1798</td>\n",
       "      <td>13338</td>\n",
       "      <td>2391</td>\n",
       "    </tr>\n",
       "    <tr>\n",
       "      <th>7</th>\n",
       "      <td>NY</td>\n",
       "      <td>RandomForest w/GridSearch w/county, gender + age</td>\n",
       "      <td>{'max_depth': 15, 'max_features': 15, 'n_estim...</td>\n",
       "      <td>0.602876</td>\n",
       "      <td>0.597641</td>\n",
       "      <td>0.597641</td>\n",
       "      <td>0.893096</td>\n",
       "      <td>0.552171</td>\n",
       "      <td>0.184373</td>\n",
       "      <td>0.276441</td>\n",
       "      <td>19649</td>\n",
       "      <td>2352</td>\n",
       "      <td>12829</td>\n",
       "      <td>2900</td>\n",
       "    </tr>\n",
       "    <tr>\n",
       "      <th>0</th>\n",
       "      <td>NY</td>\n",
       "      <td>LogisticRegression w/gender + age</td>\n",
       "      <td>{'C': 1.0, 'class_weight': None, 'dual': False...</td>\n",
       "      <td>0.586841</td>\n",
       "      <td>0.587914</td>\n",
       "      <td>0.587914</td>\n",
       "      <td>0.970683</td>\n",
       "      <td>0.561523</td>\n",
       "      <td>0.052514</td>\n",
       "      <td>0.096047</td>\n",
       "      <td>21356</td>\n",
       "      <td>645</td>\n",
       "      <td>14903</td>\n",
       "      <td>826</td>\n",
       "    </tr>\n",
       "    <tr>\n",
       "      <th>1</th>\n",
       "      <td>NY</td>\n",
       "      <td>RandomForest w/gender + age</td>\n",
       "      <td>{'bootstrap': True, 'ccp_alpha': 0.0, 'class_w...</td>\n",
       "      <td>0.588332</td>\n",
       "      <td>0.587013</td>\n",
       "      <td>0.587013</td>\n",
       "      <td>0.918049</td>\n",
       "      <td>0.519584</td>\n",
       "      <td>0.123975</td>\n",
       "      <td>0.200185</td>\n",
       "      <td>20198</td>\n",
       "      <td>1803</td>\n",
       "      <td>13779</td>\n",
       "      <td>1950</td>\n",
       "    </tr>\n",
       "    <tr>\n",
       "      <th>2</th>\n",
       "      <td>NY</td>\n",
       "      <td>AdaBoost w/gender + age</td>\n",
       "      <td>{'algorithm': 'SAMME.R', 'base_estimator__ccp_...</td>\n",
       "      <td>0.588332</td>\n",
       "      <td>0.587013</td>\n",
       "      <td>0.587013</td>\n",
       "      <td>0.918049</td>\n",
       "      <td>0.519584</td>\n",
       "      <td>0.123975</td>\n",
       "      <td>0.200185</td>\n",
       "      <td>20198</td>\n",
       "      <td>1803</td>\n",
       "      <td>13779</td>\n",
       "      <td>1950</td>\n",
       "    </tr>\n",
       "    <tr>\n",
       "      <th>4</th>\n",
       "      <td>NY</td>\n",
       "      <td>Stack of RandomForest, GradientBoost, AdaBoost...</td>\n",
       "      <td>{'cv': None, 'estimators': [('random_forest', ...</td>\n",
       "      <td>0.588325</td>\n",
       "      <td>0.586986</td>\n",
       "      <td>0.586986</td>\n",
       "      <td>0.918186</td>\n",
       "      <td>0.519487</td>\n",
       "      <td>0.123721</td>\n",
       "      <td>0.199846</td>\n",
       "      <td>20201</td>\n",
       "      <td>1800</td>\n",
       "      <td>13783</td>\n",
       "      <td>1946</td>\n",
       "    </tr>\n",
       "    <tr>\n",
       "      <th>3</th>\n",
       "      <td>NY</td>\n",
       "      <td>GradientBoost w/gender + age</td>\n",
       "      <td>{'ccp_alpha': 0.0, 'criterion': 'friedman_mse'...</td>\n",
       "      <td>0.588325</td>\n",
       "      <td>0.586986</td>\n",
       "      <td>0.586986</td>\n",
       "      <td>0.918186</td>\n",
       "      <td>0.519487</td>\n",
       "      <td>0.123721</td>\n",
       "      <td>0.199846</td>\n",
       "      <td>20201</td>\n",
       "      <td>1800</td>\n",
       "      <td>13783</td>\n",
       "      <td>1946</td>\n",
       "    </tr>\n",
       "    <tr>\n",
       "      <th>5</th>\n",
       "      <td>NY</td>\n",
       "      <td>KNeighbors w/gender + age</td>\n",
       "      <td>{'algorithm': 'auto', 'leaf_size': 30, 'metric...</td>\n",
       "      <td>0.531884</td>\n",
       "      <td>0.531275</td>\n",
       "      <td>0.531275</td>\n",
       "      <td>0.646743</td>\n",
       "      <td>0.428025</td>\n",
       "      <td>0.369763</td>\n",
       "      <td>0.396766</td>\n",
       "      <td>14229</td>\n",
       "      <td>7772</td>\n",
       "      <td>9913</td>\n",
       "      <td>5816</td>\n",
       "    </tr>\n",
       "  </tbody>\n",
       "</table>\n",
       "</div>"
      ],
      "text/plain": [
       "   dataset_name                                         model_used  \\\n",
       "21           GA                                  Gradient Boosting   \n",
       "17           GA                                      Random Forest   \n",
       "20           GA                                 AdaBoost w/ LogReg   \n",
       "19           GA                                           AdaBoost   \n",
       "12           GA                                Logistic Regression   \n",
       "18           GA                                            Bagging   \n",
       "15           GA                                                KNN   \n",
       "14           GA                                                KNN   \n",
       "16           GA                                      Decision Tree   \n",
       "13           GA                            Multinomial Naive Bayes   \n",
       "11           NY                         FNN w/county, gender + age   \n",
       "8            NY       AdaBoost w/GridSearch w/county, gender + age   \n",
       "10           NY  Stack w/RandomForest + GradientBoost w/county,...   \n",
       "6            NY          LogisticRegression w/county, gender + age   \n",
       "9            NY               GradientBoost w/county, gender + age   \n",
       "7            NY   RandomForest w/GridSearch w/county, gender + age   \n",
       "0            NY                  LogisticRegression w/gender + age   \n",
       "1            NY                        RandomForest w/gender + age   \n",
       "2            NY                            AdaBoost w/gender + age   \n",
       "4            NY  Stack of RandomForest, GradientBoost, AdaBoost...   \n",
       "3            NY                       GradientBoost w/gender + age   \n",
       "5            NY                          KNeighbors w/gender + age   \n",
       "\n",
       "                                         model_params  train_score  \\\n",
       "21  {'ccp_alpha': 0.0, 'criterion': 'friedman_mse'...     0.739048   \n",
       "17  {'bootstrap': True, 'ccp_alpha': 0.0, 'class_w...     1.000000   \n",
       "20  {'algorithm': 'SAMME.R', 'base_estimator': Non...     0.721648   \n",
       "19  {'algorithm': 'SAMME.R', 'base_estimator': Non...     0.721648   \n",
       "12  {'C': 1.0, 'class_weight': None, 'dual': False...     0.709672   \n",
       "18  {'base_estimator': None, 'bootstrap': True, 'b...     0.986029   \n",
       "15  {'memory': None, 'steps': [('ss', StandardScal...     0.769550   \n",
       "14  {'memory': None, 'steps': [('ss', StandardScal...     0.769550   \n",
       "16  {'ccp_alpha': 0.0, 'class_weight': None, 'crit...     1.000000   \n",
       "13  {'alpha': 1.0, 'class_prior': None, 'fit_prior...     0.611771   \n",
       "11                   {'epochs': 10, 'batch_size': 32}     0.599708   \n",
       "8   {'base_estimator__max_depth': 1, 'n_estimators...     0.599569   \n",
       "10  {'cv': None, 'estimators': [('random_forest', ...     0.600954   \n",
       "6   {'C': 1.0, 'class_weight': None, 'dual': False...     0.598734   \n",
       "9   {'ccp_alpha': 0.0, 'criterion': 'friedman_mse'...     0.598940   \n",
       "7   {'max_depth': 15, 'max_features': 15, 'n_estim...     0.602876   \n",
       "0   {'C': 1.0, 'class_weight': None, 'dual': False...     0.586841   \n",
       "1   {'bootstrap': True, 'ccp_alpha': 0.0, 'class_w...     0.588332   \n",
       "2   {'algorithm': 'SAMME.R', 'base_estimator__ccp_...     0.588332   \n",
       "4   {'cv': None, 'estimators': [('random_forest', ...     0.588325   \n",
       "3   {'ccp_alpha': 0.0, 'criterion': 'friedman_mse'...     0.588325   \n",
       "5   {'algorithm': 'auto', 'leaf_size': 30, 'metric...     0.531884   \n",
       "\n",
       "    test_score  accuracy  specificity  precision    recall  f1 score  \\\n",
       "21    0.714695  0.714695     0.567444   0.735586  0.814345  0.772964   \n",
       "17    0.706304  0.706304     0.551724   0.727749  0.810913  0.767083   \n",
       "20    0.704462  0.704462     0.571501   0.732595  0.794441  0.762265   \n",
       "19    0.704462  0.704462     0.571501   0.732595  0.794441  0.762265   \n",
       "12    0.696480  0.696480     0.521805   0.715707  0.814688  0.761996   \n",
       "18    0.668236  0.668236     0.604462   0.726604  0.711393  0.718918   \n",
       "15    0.650225  0.650225     0.534483   0.698126  0.728552  0.713014   \n",
       "14    0.650225  0.650225     0.534483   0.698126  0.728552  0.713014   \n",
       "16    0.623005  0.623005     0.553753   0.689266  0.669870  0.679429   \n",
       "13    0.608064  0.608064     0.425456   0.652986  0.731640  0.690079   \n",
       "11    0.600477  0.600477     0.895959   0.562584  0.187170  0.280889   \n",
       "8     0.600027  0.600027     0.870779   0.550443  0.221311  0.315694   \n",
       "10    0.599602  0.599602     0.876187   0.551236  0.212728  0.306987   \n",
       "6     0.599019  0.599019     0.876778   0.549817  0.210503  0.304446   \n",
       "9     0.598834  0.598834     0.918276   0.570781  0.152012  0.240084   \n",
       "7     0.597641  0.597641     0.893096   0.552171  0.184373  0.276441   \n",
       "0     0.587914  0.587914     0.970683   0.561523  0.052514  0.096047   \n",
       "1     0.587013  0.587013     0.918049   0.519584  0.123975  0.200185   \n",
       "2     0.587013  0.587013     0.918049   0.519584  0.123975  0.200185   \n",
       "4     0.586986  0.586986     0.918186   0.519487  0.123721  0.199846   \n",
       "3     0.586986  0.586986     0.918186   0.519487  0.123721  0.199846   \n",
       "5     0.531275  0.531275     0.646743   0.428025  0.369763  0.396766   \n",
       "\n",
       "    true_neg  false_pos  false_neg  true_pos  \n",
       "21      1119        853        541      2373  \n",
       "17      1088        884        551      2363  \n",
       "20      1127        845        599      2315  \n",
       "19      1127        845        599      2315  \n",
       "12      1029        943        540      2374  \n",
       "18      1192        780        841      2073  \n",
       "15      1054        918        791      2123  \n",
       "14      1054        918        791      2123  \n",
       "16      1092        880        962      1952  \n",
       "13       839       1133        782      2132  \n",
       "11     19712       2289      12785      2944  \n",
       "8      19158       2843      12248      3481  \n",
       "10     19277       2724      12383      3346  \n",
       "6      19290       2711      12418      3311  \n",
       "9      20203       1798      13338      2391  \n",
       "7      19649       2352      12829      2900  \n",
       "0      21356        645      14903       826  \n",
       "1      20198       1803      13779      1950  \n",
       "2      20198       1803      13779      1950  \n",
       "4      20201       1800      13783      1946  \n",
       "3      20201       1800      13783      1946  \n",
       "5      14229       7772       9913      5816  "
      ]
     },
     "execution_count": 119,
     "metadata": {},
     "output_type": "execute_result"
    }
   ],
   "source": [
    "model_trials_df[model_trials_df['dataset_name'] == 'GA'].sort_values(by='accuracy', ascending=False)"
   ]
  },
  {
   "cell_type": "markdown",
   "metadata": {},
   "source": [
    "---\n",
    "## Gradient Boosting Classifier"
   ]
  },
  {
   "cell_type": "code",
   "execution_count": 120,
   "metadata": {},
   "outputs": [
    {
     "name": "stdout",
     "output_type": "stream",
     "text": [
      "Previous scores:\n"
     ]
    },
    {
     "data": {
      "text/html": [
       "<div>\n",
       "<style scoped>\n",
       "    .dataframe tbody tr th:only-of-type {\n",
       "        vertical-align: middle;\n",
       "    }\n",
       "\n",
       "    .dataframe tbody tr th {\n",
       "        vertical-align: top;\n",
       "    }\n",
       "\n",
       "    .dataframe thead th {\n",
       "        text-align: right;\n",
       "    }\n",
       "</style>\n",
       "<table border=\"1\" class=\"dataframe\">\n",
       "  <thead>\n",
       "    <tr style=\"text-align: right;\">\n",
       "      <th></th>\n",
       "      <th>dataset_name</th>\n",
       "      <th>model_used</th>\n",
       "      <th>model_params</th>\n",
       "      <th>train_score</th>\n",
       "      <th>test_score</th>\n",
       "      <th>accuracy</th>\n",
       "      <th>specificity</th>\n",
       "      <th>precision</th>\n",
       "      <th>recall</th>\n",
       "      <th>f1 score</th>\n",
       "      <th>true_neg</th>\n",
       "      <th>false_pos</th>\n",
       "      <th>false_neg</th>\n",
       "      <th>true_pos</th>\n",
       "    </tr>\n",
       "  </thead>\n",
       "  <tbody>\n",
       "    <tr>\n",
       "      <th>21</th>\n",
       "      <td>GA</td>\n",
       "      <td>Gradient Boosting</td>\n",
       "      <td>{'ccp_alpha': 0.0, 'criterion': 'friedman_mse'...</td>\n",
       "      <td>0.739048</td>\n",
       "      <td>0.714695</td>\n",
       "      <td>0.714695</td>\n",
       "      <td>0.567444</td>\n",
       "      <td>0.735586</td>\n",
       "      <td>0.814345</td>\n",
       "      <td>0.772964</td>\n",
       "      <td>1119</td>\n",
       "      <td>853</td>\n",
       "      <td>541</td>\n",
       "      <td>2373</td>\n",
       "    </tr>\n",
       "  </tbody>\n",
       "</table>\n",
       "</div>"
      ],
      "text/plain": [
       "   dataset_name         model_used  \\\n",
       "21           GA  Gradient Boosting   \n",
       "\n",
       "                                         model_params  train_score  \\\n",
       "21  {'ccp_alpha': 0.0, 'criterion': 'friedman_mse'...     0.739048   \n",
       "\n",
       "    test_score  accuracy  specificity  precision    recall  f1 score  \\\n",
       "21    0.714695  0.714695     0.567444   0.735586  0.814345  0.772964   \n",
       "\n",
       "    true_neg  false_pos  false_neg  true_pos  \n",
       "21      1119        853        541      2373  "
      ]
     },
     "execution_count": 120,
     "metadata": {},
     "output_type": "execute_result"
    }
   ],
   "source": [
    "print('Previous scores:')\n",
    "model_trials_df[model_trials_df['model_used'] == 'Gradient Boosting']"
   ]
  },
  {
   "cell_type": "code",
   "execution_count": 121,
   "metadata": {},
   "outputs": [],
   "source": [
    "gb = GradientBoostingClassifier(random_state=42)\n",
    "\n",
    "gb_params  = {\n",
    "    'n_estimators': [50, 100, 200], \n",
    "    'max_depth': [3, 5, 7],\n",
    "    'learning_rate': [0.7, 0.8, 0.9],\n",
    "    'max_features': [None, 'sqrt']\n",
    "}"
   ]
  },
  {
   "cell_type": "code",
   "execution_count": 122,
   "metadata": {},
   "outputs": [
    {
     "name": "stdout",
     "output_type": "stream",
     "text": [
      "Dataset: GA\n",
      "Model ID: Gradient Boosting\n",
      "Model Params: {'learning_rate': 0.7, 'max_depth': 3, 'max_features': 'sqrt', 'n_estimators': 50}\n",
      "Training Score: 0.7415\n",
      "Testing Score: 0.7081 \n",
      "\n",
      "Accuracy: 0.7081\n",
      "Specificity: 0.5786\n",
      "Precision: 0.7362\n",
      "Recall: 0.7958\n",
      "F1 Score: 0.7648 \n",
      "\n",
      "Best accuracy rate confusion matrix:\n"
     ]
    },
    {
     "data": {
      "text/plain": [
       "<sklearn.metrics._plot.confusion_matrix.ConfusionMatrixDisplay at 0x16efebfb1c0>"
      ]
     },
     "execution_count": 122,
     "metadata": {},
     "output_type": "execute_result"
    },
    {
     "data": {
      "image/png": "[encoded data removed]",
      "text/plain": [
       "<Figure size 432x288 with 2 Axes>"
      ]
     },
     "metadata": {
      "needs_background": "light"
     },
     "output_type": "display_data"
    }
   ],
   "source": [
    "model_trials('GA', X, y, gb, 'Gradient Boosting', gs_params = gb_params);"
   ]
  },
  {
   "cell_type": "markdown",
   "metadata": {},
   "source": [
    "### Analysis\n",
    "This model with the tuned hyperparameters scored higher on accuracy than most of the untuned models, but did not beat the no-param Gradient Boost model. This tuned version decreased the prior GBoost's false positives, but increased the false negatives. Because Gradient Boosting was the previous highest-scoring model, I'm curious to see if any other tuned models can surpass the earlier score, or if the 0.708 is as high as the accuracy will go."
   ]
  },
  {
   "cell_type": "markdown",
   "metadata": {},
   "source": [
    "---\n",
    "## Random Forest Classifier"
   ]
  },
  {
   "cell_type": "code",
   "execution_count": 123,
   "metadata": {},
   "outputs": [
    {
     "name": "stdout",
     "output_type": "stream",
     "text": [
      "Previous scores:\n"
     ]
    },
    {
     "data": {
      "text/html": [
       "<div>\n",
       "<style scoped>\n",
       "    .dataframe tbody tr th:only-of-type {\n",
       "        vertical-align: middle;\n",
       "    }\n",
       "\n",
       "    .dataframe tbody tr th {\n",
       "        vertical-align: top;\n",
       "    }\n",
       "\n",
       "    .dataframe thead th {\n",
       "        text-align: right;\n",
       "    }\n",
       "</style>\n",
       "<table border=\"1\" class=\"dataframe\">\n",
       "  <thead>\n",
       "    <tr style=\"text-align: right;\">\n",
       "      <th></th>\n",
       "      <th>dataset_name</th>\n",
       "      <th>model_used</th>\n",
       "      <th>model_params</th>\n",
       "      <th>train_score</th>\n",
       "      <th>test_score</th>\n",
       "      <th>accuracy</th>\n",
       "      <th>specificity</th>\n",
       "      <th>precision</th>\n",
       "      <th>recall</th>\n",
       "      <th>f1 score</th>\n",
       "      <th>true_neg</th>\n",
       "      <th>false_pos</th>\n",
       "      <th>false_neg</th>\n",
       "      <th>true_pos</th>\n",
       "    </tr>\n",
       "  </thead>\n",
       "  <tbody>\n",
       "    <tr>\n",
       "      <th>17</th>\n",
       "      <td>GA</td>\n",
       "      <td>Random Forest</td>\n",
       "      <td>{'bootstrap': True, 'ccp_alpha': 0.0, 'class_w...</td>\n",
       "      <td>1.0</td>\n",
       "      <td>0.706304</td>\n",
       "      <td>0.706304</td>\n",
       "      <td>0.551724</td>\n",
       "      <td>0.727749</td>\n",
       "      <td>0.810913</td>\n",
       "      <td>0.767083</td>\n",
       "      <td>1088</td>\n",
       "      <td>884</td>\n",
       "      <td>551</td>\n",
       "      <td>2363</td>\n",
       "    </tr>\n",
       "  </tbody>\n",
       "</table>\n",
       "</div>"
      ],
      "text/plain": [
       "   dataset_name     model_used  \\\n",
       "17           GA  Random Forest   \n",
       "\n",
       "                                         model_params  train_score  \\\n",
       "17  {'bootstrap': True, 'ccp_alpha': 0.0, 'class_w...          1.0   \n",
       "\n",
       "    test_score  accuracy  specificity  precision    recall  f1 score  \\\n",
       "17    0.706304  0.706304     0.551724   0.727749  0.810913  0.767083   \n",
       "\n",
       "    true_neg  false_pos  false_neg  true_pos  \n",
       "17      1088        884        551      2363  "
      ]
     },
     "execution_count": 123,
     "metadata": {},
     "output_type": "execute_result"
    }
   ],
   "source": [
    "print('Previous scores:')\n",
    "model_trials_df[model_trials_df['model_used'] == 'Random Forest']"
   ]
  },
  {
   "cell_type": "code",
   "execution_count": 124,
   "metadata": {},
   "outputs": [],
   "source": [
    "rf = RandomForestClassifier(random_state=42)\n",
    "\n",
    "rf_params  = {\n",
    "    'n_estimators': [50, 100, 150], \n",
    "    'max_depth': [3, 5, 7],\n",
    "    'max_features': [None, 'sqrt'],\n",
    "    'bootstrap' : [True, False]\n",
    "}"
   ]
  },
  {
   "cell_type": "code",
   "execution_count": 126,
   "metadata": {},
   "outputs": [
    {
     "name": "stdout",
     "output_type": "stream",
     "text": [
      "Dataset: GA\n",
      "Model ID: Random Forest\n",
      "Model Params: {'bootstrap': True, 'max_depth': 7, 'max_features': None, 'n_estimators': 100}\n",
      "Training Score: 0.7427\n",
      "Testing Score: 0.703 \n",
      "\n",
      "Accuracy: 0.703\n",
      "Specificity: 0.5467\n",
      "Precision: 0.725\n",
      "Recall: 0.8089\n",
      "F1 Score: 0.7646 \n",
      "\n",
      "Best accuracy rate confusion matrix:\n"
     ]
    },
    {
     "data": {
      "text/plain": [
       "<sklearn.metrics._plot.confusion_matrix.ConfusionMatrixDisplay at 0x16eceb316d0>"
      ]
     },
     "execution_count": 126,
     "metadata": {},
     "output_type": "execute_result"
    },
    {
     "data": {
      "image/png": "[encoded data removed]",
      "text/plain": [
       "<Figure size 432x288 with 2 Axes>"
      ]
     },
     "metadata": {
      "needs_background": "light"
     },
     "output_type": "display_data"
    }
   ],
   "source": [
    "model_trials('GA', X, y, rf, 'Random Forest', gs_params = rf_params);"
   ]
  },
  {
   "cell_type": "code",
   "execution_count": 127,
   "metadata": {},
   "outputs": [],
   "source": [
    "rf_2 = RandomForestClassifier(random_state=42)\n",
    "\n",
    "rf_2_params  = {\n",
    "    'n_estimators': [150, 200, 250], \n",
    "    'max_depth': [6, 7, 8],\n",
    "    'bootstrap' : [True],\n",
    "    'max_samples': [None, 0.5, 0.8]\n",
    "}"
   ]
  },
  {
   "cell_type": "code",
   "execution_count": 128,
   "metadata": {},
   "outputs": [
    {
     "name": "stdout",
     "output_type": "stream",
     "text": [
      "Dataset: GA\n",
      "Model ID: Random Forest v2\n",
      "Model Params: {'bootstrap': True, 'max_depth': 8, 'max_samples': 0.8, 'n_estimators': 150}\n",
      "Training Score: 0.7446\n",
      "Testing Score: 0.7053 \n",
      "\n",
      "Accuracy: 0.7053\n",
      "Specificity: 0.4894\n",
      "Precision: 0.7113\n",
      "Recall: 0.8514\n",
      "F1 Score: 0.7751 \n",
      "\n",
      "Best accuracy rate confusion matrix:\n"
     ]
    },
    {
     "data": {
      "image/png": "[encoded data removed]",
      "text/plain": [
       "<Figure size 432x288 with 2 Axes>"
      ]
     },
     "metadata": {
      "needs_background": "light"
     },
     "output_type": "display_data"
    }
   ],
   "source": [
    "model_trials('GA', X, y, rf_2,'Random Forest v2', gs_params = rf_2_params);"
   ]
  },
  {
   "cell_type": "markdown",
   "metadata": {},
   "source": [
    "### Analysis\n",
    "Based on the shift in best params, it looks like the Random Forest model prefers more estimators and a greater max depth, with sample bootstrapping set equal to true. Though technically these tuned models did not score nearly as well on accuracy as the no-param trial, one did drastically reduce the variance and false negative predictions. If we were to choose a Random Forest model to proceed with, I would likely select the second grid-searched model as it scores high but is much less overfit."
   ]
  },
  {
   "cell_type": "markdown",
   "metadata": {},
   "source": [
    "---\n",
    "## Ada Boost Classifier"
   ]
  },
  {
   "cell_type": "code",
   "execution_count": 129,
   "metadata": {},
   "outputs": [
    {
     "name": "stdout",
     "output_type": "stream",
     "text": [
      "Previous scores:\n"
     ]
    },
    {
     "data": {
      "text/html": [
       "<div>\n",
       "<style scoped>\n",
       "    .dataframe tbody tr th:only-of-type {\n",
       "        vertical-align: middle;\n",
       "    }\n",
       "\n",
       "    .dataframe tbody tr th {\n",
       "        vertical-align: top;\n",
       "    }\n",
       "\n",
       "    .dataframe thead th {\n",
       "        text-align: right;\n",
       "    }\n",
       "</style>\n",
       "<table border=\"1\" class=\"dataframe\">\n",
       "  <thead>\n",
       "    <tr style=\"text-align: right;\">\n",
       "      <th></th>\n",
       "      <th>dataset_name</th>\n",
       "      <th>model_used</th>\n",
       "      <th>model_params</th>\n",
       "      <th>train_score</th>\n",
       "      <th>test_score</th>\n",
       "      <th>accuracy</th>\n",
       "      <th>specificity</th>\n",
       "      <th>precision</th>\n",
       "      <th>recall</th>\n",
       "      <th>f1 score</th>\n",
       "      <th>true_neg</th>\n",
       "      <th>false_pos</th>\n",
       "      <th>false_neg</th>\n",
       "      <th>true_pos</th>\n",
       "    </tr>\n",
       "  </thead>\n",
       "  <tbody>\n",
       "    <tr>\n",
       "      <th>19</th>\n",
       "      <td>GA</td>\n",
       "      <td>AdaBoost</td>\n",
       "      <td>{'algorithm': 'SAMME.R', 'base_estimator': Non...</td>\n",
       "      <td>0.721648</td>\n",
       "      <td>0.704462</td>\n",
       "      <td>0.704462</td>\n",
       "      <td>0.571501</td>\n",
       "      <td>0.732595</td>\n",
       "      <td>0.794441</td>\n",
       "      <td>0.762265</td>\n",
       "      <td>1127</td>\n",
       "      <td>845</td>\n",
       "      <td>599</td>\n",
       "      <td>2315</td>\n",
       "    </tr>\n",
       "  </tbody>\n",
       "</table>\n",
       "</div>"
      ],
      "text/plain": [
       "   dataset_name model_used                                       model_params  \\\n",
       "19           GA   AdaBoost  {'algorithm': 'SAMME.R', 'base_estimator': Non...   \n",
       "\n",
       "    train_score  test_score  accuracy  specificity  precision    recall  \\\n",
       "19     0.721648    0.704462  0.704462     0.571501   0.732595  0.794441   \n",
       "\n",
       "    f1 score  true_neg  false_pos  false_neg  true_pos  \n",
       "19  0.762265      1127        845        599      2315  "
      ]
     },
     "execution_count": 129,
     "metadata": {},
     "output_type": "execute_result"
    }
   ],
   "source": [
    "print('Previous scores:')\n",
    "model_trials_df[model_trials_df['model_used'] == 'AdaBoost']"
   ]
  },
  {
   "cell_type": "code",
   "execution_count": 130,
   "metadata": {},
   "outputs": [],
   "source": [
    "ada = AdaBoostClassifier(random_state=42)\n",
    "\n",
    "ada_params = {\n",
    "    'n_estimators': [100, 200, 300],\n",
    "    'learning_rate': [0.7, 0.8, 0.9],\n",
    "}"
   ]
  },
  {
   "cell_type": "code",
   "execution_count": 131,
   "metadata": {},
   "outputs": [
    {
     "name": "stdout",
     "output_type": "stream",
     "text": [
      "Dataset: GA\n",
      "Model ID: AdaBoost\n",
      "Model Params: {'learning_rate': 0.8, 'n_estimators': 300}\n",
      "Training Score: 0.7272\n",
      "Testing Score: 0.7114 \n",
      "\n",
      "Accuracy: 0.7114\n",
      "Specificity: 0.574\n",
      "Precision: 0.7362\n",
      "Recall: 0.8044\n",
      "F1 Score: 0.7688 \n",
      "\n",
      "Best accuracy rate confusion matrix:\n"
     ]
    },
    {
     "data": {
      "text/plain": [
       "<sklearn.metrics._plot.confusion_matrix.ConfusionMatrixDisplay at 0x16ecec80f70>"
      ]
     },
     "execution_count": 131,
     "metadata": {},
     "output_type": "execute_result"
    },
    {
     "data": {
      "image/png": "[encoded data removed]",
      "text/plain": [
       "<Figure size 432x288 with 2 Axes>"
      ]
     },
     "metadata": {
      "needs_background": "light"
     },
     "output_type": "display_data"
    }
   ],
   "source": [
    "model_trials('GA', X, y, ada, 'AdaBoost', gs_params = ada_params);"
   ]
  },
  {
   "cell_type": "code",
   "execution_count": 132,
   "metadata": {},
   "outputs": [],
   "source": [
    "ada_2 = AdaBoostClassifier(random_state=42)\n",
    "\n",
    "ada_params_2 = {\n",
    "    'n_estimators': [350, 400, 450],\n",
    "    'learning_rate': [0.6, 0.7, 0.75],\n",
    "}"
   ]
  },
  {
   "cell_type": "code",
   "execution_count": 133,
   "metadata": {},
   "outputs": [
    {
     "name": "stdout",
     "output_type": "stream",
     "text": [
      "Dataset: GA\n",
      "Model ID: AdaBoost v2\n",
      "Model Params: {'learning_rate': 0.6, 'n_estimators': 450}\n",
      "Training Score: 0.7285\n",
      "Testing Score: 0.7131 \n",
      "\n",
      "Accuracy: 0.7131\n",
      "Specificity: 0.5745\n",
      "Precision: 0.737\n",
      "Recall: 0.8068\n",
      "F1 Score: 0.7703 \n",
      "\n",
      "Best accuracy rate confusion matrix:\n"
     ]
    },
    {
     "data": {
      "text/plain": [
       "<sklearn.metrics._plot.confusion_matrix.ConfusionMatrixDisplay at 0x16ececece50>"
      ]
     },
     "execution_count": 133,
     "metadata": {},
     "output_type": "execute_result"
    },
    {
     "data": {
      "image/png": "[encoded data removed]",
      "text/plain": [
       "<Figure size 432x288 with 2 Axes>"
      ]
     },
     "metadata": {
      "needs_background": "light"
     },
     "output_type": "display_data"
    }
   ],
   "source": [
    "model_trials('GA', X, y, ada_2, 'AdaBoost v2', gs_params = ada_params_2);"
   ]
  },
  {
   "cell_type": "markdown",
   "metadata": {},
   "source": [
    "### Analysis\n",
    "\n",
    "AdaBoost ranked third-highest in the no-param trials, but now has the second-highest score of all param and no-param models so far. Compared to its no-param counterpart, the second version of the grid searched model predicted 6 fewer false positives and 36 fewer false negatives. Because there is a trade-off between n estimators and learning rate, I inversely shifted the range of the two hyperparameters, and this specific model seemed to prefer the lower learning rate and higher amount of estimators."
   ]
  },
  {
   "cell_type": "markdown",
   "metadata": {},
   "source": [
    "---\n",
    "## Logistic Regression"
   ]
  },
  {
   "cell_type": "code",
   "execution_count": null,
   "metadata": {},
   "outputs": [],
   "source": [
    "print('Previous scores:')\n",
    "model_trials_df[model_trials_df['model_used'] == 'Logistic Regression']"
   ]
  },
  {
   "cell_type": "code",
   "execution_count": 134,
   "metadata": {},
   "outputs": [],
   "source": [
    "lr = LogisticRegression(random_state=42, max_iter=10_000, solver='saga')\n",
    "\n",
    "lr_params = {\n",
    "    'C': [0.1, 1, 10],\n",
    "    'penalty': ['l1', 'l2'],\n",
    "    'class_weight': ['balanced', None]\n",
    "}"
   ]
  },
  {
   "cell_type": "code",
   "execution_count": 135,
   "metadata": {},
   "outputs": [
    {
     "name": "stdout",
     "output_type": "stream",
     "text": [
      "Dataset: GA\n",
      "Model ID: Logistic Regression\n",
      "Model Params: {'C': 1, 'class_weight': None, 'penalty': 'l1'}\n",
      "Training Score: 0.71\n",
      "Testing Score: 0.6965 \n",
      "\n",
      "Accuracy: 0.6965\n",
      "Specificity: 0.5213\n",
      "Precision: 0.7156\n",
      "Recall: 0.815\n",
      "F1 Score: 0.7621 \n",
      "\n",
      "Best accuracy rate confusion matrix:\n"
     ]
    },
    {
     "data": {
      "text/plain": [
       "<sklearn.metrics._plot.confusion_matrix.ConfusionMatrixDisplay at 0x16ecec42df0>"
      ]
     },
     "execution_count": 135,
     "metadata": {},
     "output_type": "execute_result"
    },
    {
     "data": {
      "image/png": "[encoded data removed]",
      "text/plain": [
       "<Figure size 432x288 with 2 Axes>"
      ]
     },
     "metadata": {
      "needs_background": "light"
     },
     "output_type": "display_data"
    }
   ],
   "source": [
    "model_trials('GA', X, y, lr, 'Logistic Regression', gs_params = lr_params);"
   ]
  },
  {
   "cell_type": "markdown",
   "metadata": {},
   "source": [
    "### Analysis\n",
    "This tuned model performed exactly the same as the untuned Logistic Regression trial (with one extra false positive and one true negative), but still did not break the 0.7 accuracy ceiling that other models have. Regarding classifications, LR actually does better than most at predicting true positives but this is likely more related to the distribution of the data than it is the performance of the model, as there are increased false positives as well."
   ]
  },
  {
   "cell_type": "markdown",
   "metadata": {},
   "source": [
    "--- \n",
    "## Bagging Classifier"
   ]
  },
  {
   "cell_type": "code",
   "execution_count": null,
   "metadata": {},
   "outputs": [],
   "source": [
    "print('Previous scores:')\n",
    "model_trials_df[model_trials_df['model_used'] == 'Bagging']"
   ]
  },
  {
   "cell_type": "code",
   "execution_count": 136,
   "metadata": {},
   "outputs": [],
   "source": [
    "bag = BaggingClassifier(random_state=42, n_jobs= -1)\n",
    "\n",
    "bag_params = {\n",
    "    'max_samples': [0.5, 0.8, 0.9],\n",
    "    'bootstrap': [True, False],\n",
    "    'bootstrap_features': [True, False]\n",
    "}"
   ]
  },
  {
   "cell_type": "code",
   "execution_count": 137,
   "metadata": {},
   "outputs": [
    {
     "name": "stdout",
     "output_type": "stream",
     "text": [
      "Dataset: GA\n",
      "Model ID: Bagging\n",
      "Model Params: {'bootstrap': True, 'bootstrap_features': False, 'max_samples': 0.8}\n",
      "Training Score: 0.9713\n",
      "Testing Score: 0.6793 \n",
      "\n",
      "Accuracy: 0.6793\n",
      "Specificity: 0.6329\n",
      "Precision: 0.741\n",
      "Recall: 0.7107\n",
      "F1 Score: 0.7255 \n",
      "\n",
      "Best accuracy rate confusion matrix:\n"
     ]
    },
    {
     "data": {
      "image/png": "[encoded data removed]",
      "text/plain": [
       "<Figure size 432x288 with 2 Axes>"
      ]
     },
     "metadata": {
      "needs_background": "light"
     },
     "output_type": "display_data"
    }
   ],
   "source": [
    "model_trials('GA', X, y, bag, 'Bagging', gs_params = bag_params);"
   ]
  },
  {
   "cell_type": "code",
   "execution_count": 138,
   "metadata": {},
   "outputs": [],
   "source": [
    "bag_2 = BaggingClassifier(random_state=42, n_jobs= -1)\n",
    "\n",
    "bag_2_params = {\n",
    "    'n_estimators': [100, 200, 300],\n",
    "    'max_samples': [0.5, 0.6],\n",
    "    'bootstrap': [True, False],\n",
    "    'bootstrap_features': [True, False]\n",
    "}"
   ]
  },
  {
   "cell_type": "code",
   "execution_count": 139,
   "metadata": {},
   "outputs": [
    {
     "name": "stdout",
     "output_type": "stream",
     "text": [
      "Dataset: GA\n",
      "Model ID: Bagging v2\n",
      "Model Params: {'bootstrap': False, 'bootstrap_features': True, 'max_samples': 0.5, 'n_estimators': 300}\n",
      "Training Score: 0.9999\n",
      "Testing Score: 0.7049 \n",
      "\n",
      "Accuracy: 0.7049\n",
      "Specificity: 0.5198\n",
      "Precision: 0.7187\n",
      "Recall: 0.8301\n",
      "F1 Score: 0.7704 \n",
      "\n",
      "Best accuracy rate confusion matrix:\n"
     ]
    },
    {
     "data": {
      "image/png": "[encoded data removed]",
      "text/plain": [
       "<Figure size 432x288 with 2 Axes>"
      ]
     },
     "metadata": {
      "needs_background": "light"
     },
     "output_type": "display_data"
    }
   ],
   "source": [
    "model_trials('GA', X, y, bag_2, 'Bagging v2', gs_params = bag_2_params);"
   ]
  },
  {
   "cell_type": "markdown",
   "metadata": {},
   "source": [
    "### Analysis\n",
    "Through grid searching, we were able to increase the no-param accuracy scores and beat the 0.7 threshold. However, all three Bagging models we've tested have been particularly overfit, and still not scoring as well on the test set as other more biased models. In all, this is not a model we'd recommend moving forward with in any real-world scenario."
   ]
  },
  {
   "cell_type": "markdown",
   "metadata": {},
   "source": [
    "---\n",
    "## Model Evaluation"
   ]
  },
  {
   "cell_type": "code",
   "execution_count": 140,
   "metadata": {},
   "outputs": [
    {
     "data": {
      "text/html": [
       "<div>\n",
       "<style scoped>\n",
       "    .dataframe tbody tr th:only-of-type {\n",
       "        vertical-align: middle;\n",
       "    }\n",
       "\n",
       "    .dataframe tbody tr th {\n",
       "        vertical-align: top;\n",
       "    }\n",
       "\n",
       "    .dataframe thead th {\n",
       "        text-align: right;\n",
       "    }\n",
       "</style>\n",
       "<table border=\"1\" class=\"dataframe\">\n",
       "  <thead>\n",
       "    <tr style=\"text-align: right;\">\n",
       "      <th></th>\n",
       "      <th>dataset_name</th>\n",
       "      <th>model_used</th>\n",
       "      <th>model_params</th>\n",
       "      <th>train_score</th>\n",
       "      <th>test_score</th>\n",
       "      <th>accuracy</th>\n",
       "      <th>specificity</th>\n",
       "      <th>precision</th>\n",
       "      <th>recall</th>\n",
       "      <th>f1 score</th>\n",
       "      <th>true_neg</th>\n",
       "      <th>false_pos</th>\n",
       "      <th>false_neg</th>\n",
       "      <th>true_pos</th>\n",
       "    </tr>\n",
       "  </thead>\n",
       "  <tbody>\n",
       "    <tr>\n",
       "      <th>21</th>\n",
       "      <td>GA</td>\n",
       "      <td>Gradient Boosting</td>\n",
       "      <td>{'ccp_alpha': 0.0, 'criterion': 'friedman_mse'...</td>\n",
       "      <td>0.739048</td>\n",
       "      <td>0.714695</td>\n",
       "      <td>0.714695</td>\n",
       "      <td>0.567444</td>\n",
       "      <td>0.735586</td>\n",
       "      <td>0.814345</td>\n",
       "      <td>0.772964</td>\n",
       "      <td>1119</td>\n",
       "      <td>853</td>\n",
       "      <td>541</td>\n",
       "      <td>2373</td>\n",
       "    </tr>\n",
       "    <tr>\n",
       "      <th>26</th>\n",
       "      <td>GA</td>\n",
       "      <td>AdaBoost v2</td>\n",
       "      <td>{'learning_rate': 0.6, 'n_estimators': 450}</td>\n",
       "      <td>0.728454</td>\n",
       "      <td>0.713058</td>\n",
       "      <td>0.713058</td>\n",
       "      <td>0.574544</td>\n",
       "      <td>0.736991</td>\n",
       "      <td>0.806795</td>\n",
       "      <td>0.770315</td>\n",
       "      <td>1133</td>\n",
       "      <td>839</td>\n",
       "      <td>563</td>\n",
       "      <td>2351</td>\n",
       "    </tr>\n",
       "    <tr>\n",
       "      <th>25</th>\n",
       "      <td>GA</td>\n",
       "      <td>AdaBoost</td>\n",
       "      <td>{'learning_rate': 0.8, 'n_estimators': 300}</td>\n",
       "      <td>0.727175</td>\n",
       "      <td>0.711420</td>\n",
       "      <td>0.711420</td>\n",
       "      <td>0.574037</td>\n",
       "      <td>0.736181</td>\n",
       "      <td>0.804393</td>\n",
       "      <td>0.768777</td>\n",
       "      <td>1132</td>\n",
       "      <td>840</td>\n",
       "      <td>570</td>\n",
       "      <td>2344</td>\n",
       "    </tr>\n",
       "    <tr>\n",
       "      <th>22</th>\n",
       "      <td>GA</td>\n",
       "      <td>Gradient Boosting</td>\n",
       "      <td>{'learning_rate': 0.7, 'max_depth': 3, 'max_fe...</td>\n",
       "      <td>0.741505</td>\n",
       "      <td>0.708146</td>\n",
       "      <td>0.708146</td>\n",
       "      <td>0.578600</td>\n",
       "      <td>0.736190</td>\n",
       "      <td>0.795813</td>\n",
       "      <td>0.764842</td>\n",
       "      <td>1141</td>\n",
       "      <td>831</td>\n",
       "      <td>595</td>\n",
       "      <td>2319</td>\n",
       "    </tr>\n",
       "    <tr>\n",
       "      <th>17</th>\n",
       "      <td>GA</td>\n",
       "      <td>Random Forest</td>\n",
       "      <td>{'bootstrap': True, 'ccp_alpha': 0.0, 'class_w...</td>\n",
       "      <td>1.000000</td>\n",
       "      <td>0.706304</td>\n",
       "      <td>0.706304</td>\n",
       "      <td>0.551724</td>\n",
       "      <td>0.727749</td>\n",
       "      <td>0.810913</td>\n",
       "      <td>0.767083</td>\n",
       "      <td>1088</td>\n",
       "      <td>884</td>\n",
       "      <td>551</td>\n",
       "      <td>2363</td>\n",
       "    </tr>\n",
       "    <tr>\n",
       "      <th>24</th>\n",
       "      <td>GA</td>\n",
       "      <td>Random Forest v2</td>\n",
       "      <td>{'bootstrap': True, 'max_depth': 8, 'max_sampl...</td>\n",
       "      <td>0.744575</td>\n",
       "      <td>0.705280</td>\n",
       "      <td>0.705280</td>\n",
       "      <td>0.489351</td>\n",
       "      <td>0.711296</td>\n",
       "      <td>0.851407</td>\n",
       "      <td>0.775070</td>\n",
       "      <td>965</td>\n",
       "      <td>1007</td>\n",
       "      <td>433</td>\n",
       "      <td>2481</td>\n",
       "    </tr>\n",
       "    <tr>\n",
       "      <th>29</th>\n",
       "      <td>GA</td>\n",
       "      <td>Bagging v2</td>\n",
       "      <td>{'bootstrap': False, 'bootstrap_features': Tru...</td>\n",
       "      <td>0.999898</td>\n",
       "      <td>0.704871</td>\n",
       "      <td>0.704871</td>\n",
       "      <td>0.519777</td>\n",
       "      <td>0.718657</td>\n",
       "      <td>0.830130</td>\n",
       "      <td>0.770382</td>\n",
       "      <td>1025</td>\n",
       "      <td>947</td>\n",
       "      <td>495</td>\n",
       "      <td>2419</td>\n",
       "    </tr>\n",
       "    <tr>\n",
       "      <th>19</th>\n",
       "      <td>GA</td>\n",
       "      <td>AdaBoost</td>\n",
       "      <td>{'algorithm': 'SAMME.R', 'base_estimator': Non...</td>\n",
       "      <td>0.721648</td>\n",
       "      <td>0.704462</td>\n",
       "      <td>0.704462</td>\n",
       "      <td>0.571501</td>\n",
       "      <td>0.732595</td>\n",
       "      <td>0.794441</td>\n",
       "      <td>0.762265</td>\n",
       "      <td>1127</td>\n",
       "      <td>845</td>\n",
       "      <td>599</td>\n",
       "      <td>2315</td>\n",
       "    </tr>\n",
       "    <tr>\n",
       "      <th>20</th>\n",
       "      <td>GA</td>\n",
       "      <td>AdaBoost w/ LogReg</td>\n",
       "      <td>{'algorithm': 'SAMME.R', 'base_estimator': Non...</td>\n",
       "      <td>0.721648</td>\n",
       "      <td>0.704462</td>\n",
       "      <td>0.704462</td>\n",
       "      <td>0.571501</td>\n",
       "      <td>0.732595</td>\n",
       "      <td>0.794441</td>\n",
       "      <td>0.762265</td>\n",
       "      <td>1127</td>\n",
       "      <td>845</td>\n",
       "      <td>599</td>\n",
       "      <td>2315</td>\n",
       "    </tr>\n",
       "    <tr>\n",
       "      <th>23</th>\n",
       "      <td>GA</td>\n",
       "      <td>Random Forest</td>\n",
       "      <td>{'bootstrap': True, 'max_depth': 7, 'max_featu...</td>\n",
       "      <td>0.742733</td>\n",
       "      <td>0.703029</td>\n",
       "      <td>0.703029</td>\n",
       "      <td>0.546653</td>\n",
       "      <td>0.725008</td>\n",
       "      <td>0.808854</td>\n",
       "      <td>0.764639</td>\n",
       "      <td>1078</td>\n",
       "      <td>894</td>\n",
       "      <td>557</td>\n",
       "      <td>2357</td>\n",
       "    </tr>\n",
       "    <tr>\n",
       "      <th>27</th>\n",
       "      <td>GA</td>\n",
       "      <td>Logistic Regression</td>\n",
       "      <td>{'C': 1, 'class_weight': None, 'penalty': 'l1'}</td>\n",
       "      <td>0.709980</td>\n",
       "      <td>0.696480</td>\n",
       "      <td>0.696480</td>\n",
       "      <td>0.521298</td>\n",
       "      <td>0.715577</td>\n",
       "      <td>0.815031</td>\n",
       "      <td>0.762073</td>\n",
       "      <td>1028</td>\n",
       "      <td>944</td>\n",
       "      <td>539</td>\n",
       "      <td>2375</td>\n",
       "    </tr>\n",
       "    <tr>\n",
       "      <th>12</th>\n",
       "      <td>GA</td>\n",
       "      <td>Logistic Regression</td>\n",
       "      <td>{'C': 1.0, 'class_weight': None, 'dual': False...</td>\n",
       "      <td>0.709672</td>\n",
       "      <td>0.696480</td>\n",
       "      <td>0.696480</td>\n",
       "      <td>0.521805</td>\n",
       "      <td>0.715707</td>\n",
       "      <td>0.814688</td>\n",
       "      <td>0.761996</td>\n",
       "      <td>1029</td>\n",
       "      <td>943</td>\n",
       "      <td>540</td>\n",
       "      <td>2374</td>\n",
       "    </tr>\n",
       "    <tr>\n",
       "      <th>28</th>\n",
       "      <td>GA</td>\n",
       "      <td>Bagging</td>\n",
       "      <td>{'bootstrap': True, 'bootstrap_features': Fals...</td>\n",
       "      <td>0.971341</td>\n",
       "      <td>0.679288</td>\n",
       "      <td>0.679288</td>\n",
       "      <td>0.632860</td>\n",
       "      <td>0.740966</td>\n",
       "      <td>0.710707</td>\n",
       "      <td>0.725521</td>\n",
       "      <td>1248</td>\n",
       "      <td>724</td>\n",
       "      <td>843</td>\n",
       "      <td>2071</td>\n",
       "    </tr>\n",
       "    <tr>\n",
       "      <th>18</th>\n",
       "      <td>GA</td>\n",
       "      <td>Bagging</td>\n",
       "      <td>{'base_estimator': None, 'bootstrap': True, 'b...</td>\n",
       "      <td>0.986029</td>\n",
       "      <td>0.668236</td>\n",
       "      <td>0.668236</td>\n",
       "      <td>0.604462</td>\n",
       "      <td>0.726604</td>\n",
       "      <td>0.711393</td>\n",
       "      <td>0.718918</td>\n",
       "      <td>1192</td>\n",
       "      <td>780</td>\n",
       "      <td>841</td>\n",
       "      <td>2073</td>\n",
       "    </tr>\n",
       "    <tr>\n",
       "      <th>15</th>\n",
       "      <td>GA</td>\n",
       "      <td>KNN</td>\n",
       "      <td>{'memory': None, 'steps': [('ss', StandardScal...</td>\n",
       "      <td>0.769550</td>\n",
       "      <td>0.650225</td>\n",
       "      <td>0.650225</td>\n",
       "      <td>0.534483</td>\n",
       "      <td>0.698126</td>\n",
       "      <td>0.728552</td>\n",
       "      <td>0.713014</td>\n",
       "      <td>1054</td>\n",
       "      <td>918</td>\n",
       "      <td>791</td>\n",
       "      <td>2123</td>\n",
       "    </tr>\n",
       "    <tr>\n",
       "      <th>14</th>\n",
       "      <td>GA</td>\n",
       "      <td>KNN</td>\n",
       "      <td>{'memory': None, 'steps': [('ss', StandardScal...</td>\n",
       "      <td>0.769550</td>\n",
       "      <td>0.650225</td>\n",
       "      <td>0.650225</td>\n",
       "      <td>0.534483</td>\n",
       "      <td>0.698126</td>\n",
       "      <td>0.728552</td>\n",
       "      <td>0.713014</td>\n",
       "      <td>1054</td>\n",
       "      <td>918</td>\n",
       "      <td>791</td>\n",
       "      <td>2123</td>\n",
       "    </tr>\n",
       "    <tr>\n",
       "      <th>16</th>\n",
       "      <td>GA</td>\n",
       "      <td>Decision Tree</td>\n",
       "      <td>{'ccp_alpha': 0.0, 'class_weight': None, 'crit...</td>\n",
       "      <td>1.000000</td>\n",
       "      <td>0.623005</td>\n",
       "      <td>0.623005</td>\n",
       "      <td>0.553753</td>\n",
       "      <td>0.689266</td>\n",
       "      <td>0.669870</td>\n",
       "      <td>0.679429</td>\n",
       "      <td>1092</td>\n",
       "      <td>880</td>\n",
       "      <td>962</td>\n",
       "      <td>1952</td>\n",
       "    </tr>\n",
       "    <tr>\n",
       "      <th>13</th>\n",
       "      <td>GA</td>\n",
       "      <td>Multinomial Naive Bayes</td>\n",
       "      <td>{'alpha': 1.0, 'class_prior': None, 'fit_prior...</td>\n",
       "      <td>0.611771</td>\n",
       "      <td>0.608064</td>\n",
       "      <td>0.608064</td>\n",
       "      <td>0.425456</td>\n",
       "      <td>0.652986</td>\n",
       "      <td>0.731640</td>\n",
       "      <td>0.690079</td>\n",
       "      <td>839</td>\n",
       "      <td>1133</td>\n",
       "      <td>782</td>\n",
       "      <td>2132</td>\n",
       "    </tr>\n",
       "  </tbody>\n",
       "</table>\n",
       "</div>"
      ],
      "text/plain": [
       "   dataset_name               model_used  \\\n",
       "21           GA        Gradient Boosting   \n",
       "26           GA              AdaBoost v2   \n",
       "25           GA                 AdaBoost   \n",
       "22           GA        Gradient Boosting   \n",
       "17           GA            Random Forest   \n",
       "24           GA         Random Forest v2   \n",
       "29           GA               Bagging v2   \n",
       "19           GA                 AdaBoost   \n",
       "20           GA       AdaBoost w/ LogReg   \n",
       "23           GA            Random Forest   \n",
       "27           GA      Logistic Regression   \n",
       "12           GA      Logistic Regression   \n",
       "28           GA                  Bagging   \n",
       "18           GA                  Bagging   \n",
       "15           GA                      KNN   \n",
       "14           GA                      KNN   \n",
       "16           GA            Decision Tree   \n",
       "13           GA  Multinomial Naive Bayes   \n",
       "\n",
       "                                         model_params  train_score  \\\n",
       "21  {'ccp_alpha': 0.0, 'criterion': 'friedman_mse'...     0.739048   \n",
       "26        {'learning_rate': 0.6, 'n_estimators': 450}     0.728454   \n",
       "25        {'learning_rate': 0.8, 'n_estimators': 300}     0.727175   \n",
       "22  {'learning_rate': 0.7, 'max_depth': 3, 'max_fe...     0.741505   \n",
       "17  {'bootstrap': True, 'ccp_alpha': 0.0, 'class_w...     1.000000   \n",
       "24  {'bootstrap': True, 'max_depth': 8, 'max_sampl...     0.744575   \n",
       "29  {'bootstrap': False, 'bootstrap_features': Tru...     0.999898   \n",
       "19  {'algorithm': 'SAMME.R', 'base_estimator': Non...     0.721648   \n",
       "20  {'algorithm': 'SAMME.R', 'base_estimator': Non...     0.721648   \n",
       "23  {'bootstrap': True, 'max_depth': 7, 'max_featu...     0.742733   \n",
       "27    {'C': 1, 'class_weight': None, 'penalty': 'l1'}     0.709980   \n",
       "12  {'C': 1.0, 'class_weight': None, 'dual': False...     0.709672   \n",
       "28  {'bootstrap': True, 'bootstrap_features': Fals...     0.971341   \n",
       "18  {'base_estimator': None, 'bootstrap': True, 'b...     0.986029   \n",
       "15  {'memory': None, 'steps': [('ss', StandardScal...     0.769550   \n",
       "14  {'memory': None, 'steps': [('ss', StandardScal...     0.769550   \n",
       "16  {'ccp_alpha': 0.0, 'class_weight': None, 'crit...     1.000000   \n",
       "13  {'alpha': 1.0, 'class_prior': None, 'fit_prior...     0.611771   \n",
       "\n",
       "    test_score  accuracy  specificity  precision    recall  f1 score  \\\n",
       "21    0.714695  0.714695     0.567444   0.735586  0.814345  0.772964   \n",
       "26    0.713058  0.713058     0.574544   0.736991  0.806795  0.770315   \n",
       "25    0.711420  0.711420     0.574037   0.736181  0.804393  0.768777   \n",
       "22    0.708146  0.708146     0.578600   0.736190  0.795813  0.764842   \n",
       "17    0.706304  0.706304     0.551724   0.727749  0.810913  0.767083   \n",
       "24    0.705280  0.705280     0.489351   0.711296  0.851407  0.775070   \n",
       "29    0.704871  0.704871     0.519777   0.718657  0.830130  0.770382   \n",
       "19    0.704462  0.704462     0.571501   0.732595  0.794441  0.762265   \n",
       "20    0.704462  0.704462     0.571501   0.732595  0.794441  0.762265   \n",
       "23    0.703029  0.703029     0.546653   0.725008  0.808854  0.764639   \n",
       "27    0.696480  0.696480     0.521298   0.715577  0.815031  0.762073   \n",
       "12    0.696480  0.696480     0.521805   0.715707  0.814688  0.761996   \n",
       "28    0.679288  0.679288     0.632860   0.740966  0.710707  0.725521   \n",
       "18    0.668236  0.668236     0.604462   0.726604  0.711393  0.718918   \n",
       "15    0.650225  0.650225     0.534483   0.698126  0.728552  0.713014   \n",
       "14    0.650225  0.650225     0.534483   0.698126  0.728552  0.713014   \n",
       "16    0.623005  0.623005     0.553753   0.689266  0.669870  0.679429   \n",
       "13    0.608064  0.608064     0.425456   0.652986  0.731640  0.690079   \n",
       "\n",
       "    true_neg  false_pos  false_neg  true_pos  \n",
       "21      1119        853        541      2373  \n",
       "26      1133        839        563      2351  \n",
       "25      1132        840        570      2344  \n",
       "22      1141        831        595      2319  \n",
       "17      1088        884        551      2363  \n",
       "24       965       1007        433      2481  \n",
       "29      1025        947        495      2419  \n",
       "19      1127        845        599      2315  \n",
       "20      1127        845        599      2315  \n",
       "23      1078        894        557      2357  \n",
       "27      1028        944        539      2375  \n",
       "12      1029        943        540      2374  \n",
       "28      1248        724        843      2071  \n",
       "18      1192        780        841      2073  \n",
       "15      1054        918        791      2123  \n",
       "14      1054        918        791      2123  \n",
       "16      1092        880        962      1952  \n",
       "13       839       1133        782      2132  "
      ]
     },
     "execution_count": 140,
     "metadata": {},
     "output_type": "execute_result"
    }
   ],
   "source": [
    "# Let's look at all GA scores\n",
    "model_trials_df[model_trials_df['dataset_name'] == 'GA'].sort_values(by='accuracy', ascending=False)"
   ]
  },
  {
   "cell_type": "code",
   "execution_count": 141,
   "metadata": {},
   "outputs": [
    {
     "data": {
      "text/html": [
       "<div>\n",
       "<style scoped>\n",
       "    .dataframe tbody tr th:only-of-type {\n",
       "        vertical-align: middle;\n",
       "    }\n",
       "\n",
       "    .dataframe tbody tr th {\n",
       "        vertical-align: top;\n",
       "    }\n",
       "\n",
       "    .dataframe thead th {\n",
       "        text-align: right;\n",
       "    }\n",
       "</style>\n",
       "<table border=\"1\" class=\"dataframe\">\n",
       "  <thead>\n",
       "    <tr style=\"text-align: right;\">\n",
       "      <th></th>\n",
       "      <th>train_score</th>\n",
       "      <th>test_score</th>\n",
       "      <th>accuracy</th>\n",
       "      <th>specificity</th>\n",
       "      <th>precision</th>\n",
       "      <th>recall</th>\n",
       "      <th>f1 score</th>\n",
       "      <th>true_neg</th>\n",
       "      <th>false_pos</th>\n",
       "      <th>false_neg</th>\n",
       "      <th>true_pos</th>\n",
       "    </tr>\n",
       "  </thead>\n",
       "  <tbody>\n",
       "    <tr>\n",
       "      <th>count</th>\n",
       "      <td>18.000000</td>\n",
       "      <td>18.000000</td>\n",
       "      <td>18.000000</td>\n",
       "      <td>18.000000</td>\n",
       "      <td>18.000000</td>\n",
       "      <td>18.000000</td>\n",
       "      <td>18.000000</td>\n",
       "      <td>18.000000</td>\n",
       "      <td>18.000000</td>\n",
       "      <td>18.000000</td>\n",
       "      <td>18.000000</td>\n",
       "    </tr>\n",
       "    <tr>\n",
       "      <th>mean</th>\n",
       "      <td>0.799699</td>\n",
       "      <td>0.685985</td>\n",
       "      <td>0.685985</td>\n",
       "      <td>0.548541</td>\n",
       "      <td>0.718345</td>\n",
       "      <td>0.778998</td>\n",
       "      <td>0.746814</td>\n",
       "      <td>1081.722222</td>\n",
       "      <td>890.277778</td>\n",
       "      <td>644.000000</td>\n",
       "      <td>2270.000000</td>\n",
       "    </tr>\n",
       "    <tr>\n",
       "      <th>std</th>\n",
       "      <td>0.126876</td>\n",
       "      <td>0.032527</td>\n",
       "      <td>0.032527</td>\n",
       "      <td>0.045537</td>\n",
       "      <td>0.022228</td>\n",
       "      <td>0.051014</td>\n",
       "      <td>0.031005</td>\n",
       "      <td>89.799650</td>\n",
       "      <td>89.799650</td>\n",
       "      <td>148.655543</td>\n",
       "      <td>148.655543</td>\n",
       "    </tr>\n",
       "    <tr>\n",
       "      <th>min</th>\n",
       "      <td>0.611771</td>\n",
       "      <td>0.608064</td>\n",
       "      <td>0.608064</td>\n",
       "      <td>0.425456</td>\n",
       "      <td>0.652986</td>\n",
       "      <td>0.669870</td>\n",
       "      <td>0.679429</td>\n",
       "      <td>839.000000</td>\n",
       "      <td>724.000000</td>\n",
       "      <td>433.000000</td>\n",
       "      <td>1952.000000</td>\n",
       "    </tr>\n",
       "    <tr>\n",
       "      <th>25%</th>\n",
       "      <td>0.723030</td>\n",
       "      <td>0.670999</td>\n",
       "      <td>0.670999</td>\n",
       "      <td>0.524975</td>\n",
       "      <td>0.712366</td>\n",
       "      <td>0.729324</td>\n",
       "      <td>0.720569</td>\n",
       "      <td>1035.250000</td>\n",
       "      <td>841.250000</td>\n",
       "      <td>543.500000</td>\n",
       "      <td>2125.250000</td>\n",
       "    </tr>\n",
       "    <tr>\n",
       "      <th>50%</th>\n",
       "      <td>0.742119</td>\n",
       "      <td>0.703745</td>\n",
       "      <td>0.703745</td>\n",
       "      <td>0.552738</td>\n",
       "      <td>0.725806</td>\n",
       "      <td>0.800103</td>\n",
       "      <td>0.762265</td>\n",
       "      <td>1090.000000</td>\n",
       "      <td>882.000000</td>\n",
       "      <td>582.500000</td>\n",
       "      <td>2331.500000</td>\n",
       "    </tr>\n",
       "    <tr>\n",
       "      <th>75%</th>\n",
       "      <td>0.920893</td>\n",
       "      <td>0.706048</td>\n",
       "      <td>0.706048</td>\n",
       "      <td>0.573403</td>\n",
       "      <td>0.734838</td>\n",
       "      <td>0.813487</td>\n",
       "      <td>0.768353</td>\n",
       "      <td>1130.750000</td>\n",
       "      <td>936.750000</td>\n",
       "      <td>788.750000</td>\n",
       "      <td>2370.500000</td>\n",
       "    </tr>\n",
       "    <tr>\n",
       "      <th>max</th>\n",
       "      <td>1.000000</td>\n",
       "      <td>0.714695</td>\n",
       "      <td>0.714695</td>\n",
       "      <td>0.632860</td>\n",
       "      <td>0.740966</td>\n",
       "      <td>0.851407</td>\n",
       "      <td>0.775070</td>\n",
       "      <td>1248.000000</td>\n",
       "      <td>1133.000000</td>\n",
       "      <td>962.000000</td>\n",
       "      <td>2481.000000</td>\n",
       "    </tr>\n",
       "  </tbody>\n",
       "</table>\n",
       "</div>"
      ],
      "text/plain": [
       "       train_score  test_score   accuracy  specificity  precision     recall  \\\n",
       "count    18.000000   18.000000  18.000000    18.000000  18.000000  18.000000   \n",
       "mean      0.799699    0.685985   0.685985     0.548541   0.718345   0.778998   \n",
       "std       0.126876    0.032527   0.032527     0.045537   0.022228   0.051014   \n",
       "min       0.611771    0.608064   0.608064     0.425456   0.652986   0.669870   \n",
       "25%       0.723030    0.670999   0.670999     0.524975   0.712366   0.729324   \n",
       "50%       0.742119    0.703745   0.703745     0.552738   0.725806   0.800103   \n",
       "75%       0.920893    0.706048   0.706048     0.573403   0.734838   0.813487   \n",
       "max       1.000000    0.714695   0.714695     0.632860   0.740966   0.851407   \n",
       "\n",
       "        f1 score     true_neg    false_pos   false_neg     true_pos  \n",
       "count  18.000000    18.000000    18.000000   18.000000    18.000000  \n",
       "mean    0.746814  1081.722222   890.277778  644.000000  2270.000000  \n",
       "std     0.031005    89.799650    89.799650  148.655543   148.655543  \n",
       "min     0.679429   839.000000   724.000000  433.000000  1952.000000  \n",
       "25%     0.720569  1035.250000   841.250000  543.500000  2125.250000  \n",
       "50%     0.762265  1090.000000   882.000000  582.500000  2331.500000  \n",
       "75%     0.768353  1130.750000   936.750000  788.750000  2370.500000  \n",
       "max     0.775070  1248.000000  1133.000000  962.000000  2481.000000  "
      ]
     },
     "execution_count": 141,
     "metadata": {},
     "output_type": "execute_result"
    }
   ],
   "source": [
    "model_trials_df[model_trials_df['dataset_name'] == 'GA'].describe()"
   ]
  },
  {
   "cell_type": "markdown",
   "metadata": {},
   "source": [
    "---\n",
    "## Model Conclusions\n",
    "Our best model overall was the first Gradient Boost model found in the trials portion, with an accuracy score of 0.715. This was only slightly better than the tuned Ada Boost model, which had an accuracy of 0.713. Between these two, Ada Boost had the higher specificity. Our overall mean accuracy was 0.686, but the average accuracy score of just the tuned models was 0.703, which is better than our untuned average by about 0.03. In terms of specificity, the two means were closer in number (0.555 vs 0.544), but the tuned models outperformed here as well.\n",
    "\n",
    "All of that said, none of the tuned or untuned scores met our target accuracy of 0.80. The usage of a model to predict recidivism and the potential implications of this is something we've been hyper-aware of throughout our analysis. Because these predictions-depending on how, when, and where they are used-have the ability to impact peoples' lives, we believe any model that cannot predict with at least 80% accuracy should be used in a real-life setting. With that, we would not move forward with any of the models listed above without significant optimizations made."
   ]
  },
  {
   "cell_type": "markdown",
   "metadata": {},
   "source": [
    "---\n",
    "## Feature Importance"
   ]
  },
  {
   "cell_type": "code",
   "execution_count": 35,
   "metadata": {},
   "outputs": [
    {
     "data": {
      "text/html": [
       "<style>#sk-container-id-2 {color: black;background-color: white;}#sk-container-id-2 pre{padding: 0;}#sk-container-id-2 div.sk-toggleable {background-color: white;}#sk-container-id-2 label.sk-toggleable__label {cursor: pointer;display: block;width: 100%;margin-bottom: 0;padding: 0.3em;box-sizing: border-box;text-align: center;}#sk-container-id-2 label.sk-toggleable__label-arrow:before {content: \"▸\";float: left;margin-right: 0.25em;color: #696969;}#sk-container-id-2 label.sk-toggleable__label-arrow:hover:before {color: black;}#sk-container-id-2 div.sk-estimator:hover label.sk-toggleable__label-arrow:before {color: black;}#sk-container-id-2 div.sk-toggleable__content {max-height: 0;max-width: 0;overflow: hidden;text-align: left;background-color: #f0f8ff;}#sk-container-id-2 div.sk-toggleable__content pre {margin: 0.2em;color: black;border-radius: 0.25em;background-color: #f0f8ff;}#sk-container-id-2 input.sk-toggleable__control:checked~div.sk-toggleable__content {max-height: 200px;max-width: 100%;overflow: auto;}#sk-container-id-2 input.sk-toggleable__control:checked~label.sk-toggleable__label-arrow:before {content: \"▾\";}#sk-container-id-2 div.sk-estimator input.sk-toggleable__control:checked~label.sk-toggleable__label {background-color: #d4ebff;}#sk-container-id-2 div.sk-label input.sk-toggleable__control:checked~label.sk-toggleable__label {background-color: #d4ebff;}#sk-container-id-2 input.sk-hidden--visually {border: 0;clip: rect(1px 1px 1px 1px);clip: rect(1px, 1px, 1px, 1px);height: 1px;margin: -1px;overflow: hidden;padding: 0;position: absolute;width: 1px;}#sk-container-id-2 div.sk-estimator {font-family: monospace;background-color: #f0f8ff;border: 1px dotted black;border-radius: 0.25em;box-sizing: border-box;margin-bottom: 0.5em;}#sk-container-id-2 div.sk-estimator:hover {background-color: #d4ebff;}#sk-container-id-2 div.sk-parallel-item::after {content: \"\";width: 100%;border-bottom: 1px solid gray;flex-grow: 1;}#sk-container-id-2 div.sk-label:hover label.sk-toggleable__label {background-color: #d4ebff;}#sk-container-id-2 div.sk-serial::before {content: \"\";position: absolute;border-left: 1px solid gray;box-sizing: border-box;top: 0;bottom: 0;left: 50%;z-index: 0;}#sk-container-id-2 div.sk-serial {display: flex;flex-direction: column;align-items: center;background-color: white;padding-right: 0.2em;padding-left: 0.2em;position: relative;}#sk-container-id-2 div.sk-item {position: relative;z-index: 1;}#sk-container-id-2 div.sk-parallel {display: flex;align-items: stretch;justify-content: center;background-color: white;position: relative;}#sk-container-id-2 div.sk-item::before, #sk-container-id-2 div.sk-parallel-item::before {content: \"\";position: absolute;border-left: 1px solid gray;box-sizing: border-box;top: 0;bottom: 0;left: 50%;z-index: -1;}#sk-container-id-2 div.sk-parallel-item {display: flex;flex-direction: column;z-index: 1;position: relative;background-color: white;}#sk-container-id-2 div.sk-parallel-item:first-child::after {align-self: flex-end;width: 50%;}#sk-container-id-2 div.sk-parallel-item:last-child::after {align-self: flex-start;width: 50%;}#sk-container-id-2 div.sk-parallel-item:only-child::after {width: 0;}#sk-container-id-2 div.sk-dashed-wrapped {border: 1px dashed gray;margin: 0 0.4em 0.5em 0.4em;box-sizing: border-box;padding-bottom: 0.4em;background-color: white;}#sk-container-id-2 div.sk-label label {font-family: monospace;font-weight: bold;display: inline-block;line-height: 1.2em;}#sk-container-id-2 div.sk-label-container {text-align: center;}#sk-container-id-2 div.sk-container {/* jupyter's `normalize.less` sets `[hidden] { display: none; }` but bootstrap.min.css set `[hidden] { display: none !important; }` so we also need the `!important` here to be able to override the default hidden behavior on the sphinx rendered scikit-learn.org. See: https://github.com/scikit-learn/scikit-learn/issues/21755 */display: inline-block !important;position: relative;}#sk-container-id-2 div.sk-text-repr-fallback {display: none;}</style><div id=\"sk-container-id-2\" class=\"sk-top-container\"><div class=\"sk-text-repr-fallback\"><pre>LogisticRegression(max_iter=5000, solver=&#x27;saga&#x27;)</pre><b>In a Jupyter environment, please rerun this cell to show the HTML representation or trust the notebook. <br />On GitHub, the HTML representation is unable to render, please try loading this page with nbviewer.org.</b></div><div class=\"sk-container\" hidden><div class=\"sk-item\"><div class=\"sk-estimator sk-toggleable\"><input class=\"sk-toggleable__control sk-hidden--visually\" id=\"sk-estimator-id-2\" type=\"checkbox\" checked><label for=\"sk-estimator-id-2\" class=\"sk-toggleable__label sk-toggleable__label-arrow\">LogisticRegression</label><div class=\"sk-toggleable__content\"><pre>LogisticRegression(max_iter=5000, solver=&#x27;saga&#x27;)</pre></div></div></div></div></div>"
      ],
      "text/plain": [
       "LogisticRegression(max_iter=5000, solver='saga')"
      ]
     },
     "execution_count": 35,
     "metadata": {},
     "output_type": "execute_result"
    }
   ],
   "source": [
    "X = ga_dummy.drop(columns='recidivism_within_3years')\n",
    "y = ga_dummy['recidivism_within_3years']\n",
    "\n",
    "log_reg = LogisticRegression(solver='saga', max_iter = 5000)\n",
    "\n",
    "log_reg.fit(X, y)"
   ]
  },
  {
   "cell_type": "code",
   "execution_count": 36,
   "metadata": {},
   "outputs": [
    {
     "data": {
      "text/html": [
       "<div>\n",
       "<style scoped>\n",
       "    .dataframe tbody tr th:only-of-type {\n",
       "        vertical-align: middle;\n",
       "    }\n",
       "\n",
       "    .dataframe tbody tr th {\n",
       "        vertical-align: top;\n",
       "    }\n",
       "\n",
       "    .dataframe thead th {\n",
       "        text-align: right;\n",
       "    }\n",
       "</style>\n",
       "<table border=\"1\" class=\"dataframe\">\n",
       "  <thead>\n",
       "    <tr style=\"text-align: right;\">\n",
       "      <th></th>\n",
       "      <th>feature</th>\n",
       "      <th>coef</th>\n",
       "    </tr>\n",
       "  </thead>\n",
       "  <tbody>\n",
       "    <tr>\n",
       "      <th>1</th>\n",
       "      <td>gang_affiliated</td>\n",
       "      <td>2.011781</td>\n",
       "    </tr>\n",
       "    <tr>\n",
       "      <th>28</th>\n",
       "      <td>age_at_release_18-22</td>\n",
       "      <td>1.485483</td>\n",
       "    </tr>\n",
       "    <tr>\n",
       "      <th>29</th>\n",
       "      <td>age_at_release_23-27</td>\n",
       "      <td>1.348317</td>\n",
       "    </tr>\n",
       "    <tr>\n",
       "      <th>0</th>\n",
       "      <td>gender_male</td>\n",
       "      <td>1.345007</td>\n",
       "    </tr>\n",
       "    <tr>\n",
       "      <th>12</th>\n",
       "      <td>condition_mh_sa</td>\n",
       "      <td>1.287973</td>\n",
       "    </tr>\n",
       "    <tr>\n",
       "      <th>23</th>\n",
       "      <td>drugtests_thc_positive</td>\n",
       "      <td>1.259144</td>\n",
       "    </tr>\n",
       "    <tr>\n",
       "      <th>16</th>\n",
       "      <td>violations_instruction</td>\n",
       "      <td>1.252164</td>\n",
       "    </tr>\n",
       "    <tr>\n",
       "      <th>15</th>\n",
       "      <td>violations_electronicmonitoring</td>\n",
       "      <td>1.182455</td>\n",
       "    </tr>\n",
       "    <tr>\n",
       "      <th>21</th>\n",
       "      <td>residence_changes</td>\n",
       "      <td>1.148552</td>\n",
       "    </tr>\n",
       "    <tr>\n",
       "      <th>9</th>\n",
       "      <td>prior_arrest_episodes_ppviolationcharges</td>\n",
       "      <td>1.105202</td>\n",
       "    </tr>\n",
       "  </tbody>\n",
       "</table>\n",
       "</div>"
      ],
      "text/plain": [
       "                                     feature      coef\n",
       "1                            gang_affiliated  2.011781\n",
       "28                      age_at_release_18-22  1.485483\n",
       "29                      age_at_release_23-27  1.348317\n",
       "0                                gender_male  1.345007\n",
       "12                           condition_mh_sa  1.287973\n",
       "23                    drugtests_thc_positive  1.259144\n",
       "16                    violations_instruction  1.252164\n",
       "15           violations_electronicmonitoring  1.182455\n",
       "21                         residence_changes  1.148552\n",
       "9   prior_arrest_episodes_ppviolationcharges  1.105202"
      ]
     },
     "execution_count": 36,
     "metadata": {},
     "output_type": "execute_result"
    }
   ],
   "source": [
    "fi = log_reg.coef_[0]\n",
    "fi_zipped = list(zip(X.columns, fi))\n",
    "\n",
    "feats = pd.DataFrame(columns=['feature', 'coef'])\n",
    "\n",
    "for i in list(range(len(fi_zipped))):\n",
    "    feats.loc[i] = [fi_zipped[i][0], np.exp(fi_zipped[i][1])]\n",
    "\n",
    "feats = feats.sort_values(by='coef', ascending=False)\n",
    "feats.head(10)"
   ]
  },
  {
   "cell_type": "code",
   "execution_count": 37,
   "metadata": {},
   "outputs": [
    {
     "data": {
      "text/html": [
       "<div>\n",
       "<style scoped>\n",
       "    .dataframe tbody tr th:only-of-type {\n",
       "        vertical-align: middle;\n",
       "    }\n",
       "\n",
       "    .dataframe tbody tr th {\n",
       "        vertical-align: top;\n",
       "    }\n",
       "\n",
       "    .dataframe thead th {\n",
       "        text-align: right;\n",
       "    }\n",
       "</style>\n",
       "<table border=\"1\" class=\"dataframe\">\n",
       "  <thead>\n",
       "    <tr style=\"text-align: right;\">\n",
       "      <th></th>\n",
       "      <th>feature</th>\n",
       "      <th>coef</th>\n",
       "    </tr>\n",
       "  </thead>\n",
       "  <tbody>\n",
       "    <tr>\n",
       "      <th>19</th>\n",
       "      <td>delinquency_reports</td>\n",
       "      <td>0.893715</td>\n",
       "    </tr>\n",
       "    <tr>\n",
       "      <th>31</th>\n",
       "      <td>age_at_release_33-37</td>\n",
       "      <td>0.892416</td>\n",
       "    </tr>\n",
       "    <tr>\n",
       "      <th>41</th>\n",
       "      <td>prison_years_more than 3 years</td>\n",
       "      <td>0.841972</td>\n",
       "    </tr>\n",
       "    <tr>\n",
       "      <th>37</th>\n",
       "      <td>education_level_less than hs diploma</td>\n",
       "      <td>0.841492</td>\n",
       "    </tr>\n",
       "    <tr>\n",
       "      <th>32</th>\n",
       "      <td>age_at_release_38-42</td>\n",
       "      <td>0.825268</td>\n",
       "    </tr>\n",
       "    <tr>\n",
       "      <th>35</th>\n",
       "      <td>education_level_at least some college</td>\n",
       "      <td>0.784387</td>\n",
       "    </tr>\n",
       "    <tr>\n",
       "      <th>39</th>\n",
       "      <td>prison_years_greater than 2 to 3 years</td>\n",
       "      <td>0.771799</td>\n",
       "    </tr>\n",
       "    <tr>\n",
       "      <th>33</th>\n",
       "      <td>age_at_release_43-47</td>\n",
       "      <td>0.742731</td>\n",
       "    </tr>\n",
       "    <tr>\n",
       "      <th>34</th>\n",
       "      <td>age_at_release_48 or older</td>\n",
       "      <td>0.564147</td>\n",
       "    </tr>\n",
       "    <tr>\n",
       "      <th>27</th>\n",
       "      <td>percent_days_employed</td>\n",
       "      <td>0.294064</td>\n",
       "    </tr>\n",
       "  </tbody>\n",
       "</table>\n",
       "</div>"
      ],
      "text/plain": [
       "                                   feature      coef\n",
       "19                     delinquency_reports  0.893715\n",
       "31                    age_at_release_33-37  0.892416\n",
       "41          prison_years_more than 3 years  0.841972\n",
       "37    education_level_less than hs diploma  0.841492\n",
       "32                    age_at_release_38-42  0.825268\n",
       "35   education_level_at least some college  0.784387\n",
       "39  prison_years_greater than 2 to 3 years  0.771799\n",
       "33                    age_at_release_43-47  0.742731\n",
       "34              age_at_release_48 or older  0.564147\n",
       "27                   percent_days_employed  0.294064"
      ]
     },
     "execution_count": 37,
     "metadata": {},
     "output_type": "execute_result"
    }
   ],
   "source": [
    "feats.tail(10)"
   ]
  },
  {
   "cell_type": "markdown",
   "metadata": {},
   "source": [
    "### Main Takeaways\n",
    "- Based on the above, we can see that those who are gang affiliated are twice as likely to recidivate than those who are not.\n",
    "- Holding all else equal, individuals in the two youngest age groups (18-22 and 23-27) are 35% to 49% more likely to recidivate than those who are not in either age range.\n",
    "- Men are 34% more likely to recidivate than women.\n",
    "- Regarding percent of days employed during parole, 21% of observations worked 100% of the days and 31% did not work at all. Those who did not work at all were 71% more likely to recidivate than those who worked all days.\n",
    "- Individuals who had at least some college experience were 20% less likely to recidivate than those who had no college experience."
   ]
  },
  {
   "cell_type": "code",
   "execution_count": 38,
   "metadata": {},
   "outputs": [],
   "source": [
    "feats.to_csv('../data/GA/important_feats.csv')"
   ]
  },
  {
   "cell_type": "markdown",
   "metadata": {},
   "source": [
    "---\n",
    "## Conclusion\n",
    "\n"
   ]
  },
  {
   "cell_type": "code",
   "execution_count": null,
   "metadata": {},
   "outputs": [],
   "source": []
  },
  {
   "cell_type": "code",
   "execution_count": 53,
   "metadata": {},
   "outputs": [
    {
     "ename": "NameError",
     "evalue": "name 'X_train' is not defined",
     "output_type": "error",
     "traceback": [
      "\u001b[0;31m---------------------------------------------------------------------------\u001b[0m",
      "\u001b[0;31mNameError\u001b[0m                                 Traceback (most recent call last)",
      "\u001b[1;32m/Users/cynthiarodriguez/Desktop/DSI-822/Projects/project-4/recidivism/notebooks/03_modeling.ipynb Cell 122\u001b[0m in \u001b[0;36m<cell line: 3>\u001b[0;34m()\u001b[0m\n\u001b[1;32m      <a href='vscode-notebook-cell:/Users/cynthiarodriguez/Desktop/DSI-822/Projects/project-4/recidivism/notebooks/03_modeling.ipynb#Y230sZmlsZQ%3D%3D?line=0'>1</a>\u001b[0m \u001b[39m# Scaling time!\u001b[39;00m\n\u001b[1;32m      <a href='vscode-notebook-cell:/Users/cynthiarodriguez/Desktop/DSI-822/Projects/project-4/recidivism/notebooks/03_modeling.ipynb#Y230sZmlsZQ%3D%3D?line=1'>2</a>\u001b[0m ss \u001b[39m=\u001b[39m StandardScaler()\n\u001b[0;32m----> <a href='vscode-notebook-cell:/Users/cynthiarodriguez/Desktop/DSI-822/Projects/project-4/recidivism/notebooks/03_modeling.ipynb#Y230sZmlsZQ%3D%3D?line=2'>3</a>\u001b[0m X_train_sc \u001b[39m=\u001b[39m ss\u001b[39m.\u001b[39mfit_transform(X_train)\n\u001b[1;32m      <a href='vscode-notebook-cell:/Users/cynthiarodriguez/Desktop/DSI-822/Projects/project-4/recidivism/notebooks/03_modeling.ipynb#Y230sZmlsZQ%3D%3D?line=3'>4</a>\u001b[0m X_test_sc \u001b[39m=\u001b[39m ss\u001b[39m.\u001b[39mtransform(X_test)\n",
      "\u001b[0;31mNameError\u001b[0m: name 'X_train' is not defined"
     ]
    }
   ],
   "source": [
    "# Scaling time!\n",
    "ss = StandardScaler()\n",
    "X_train_sc = ss.fit_transform(X_train)\n",
    "X_test_sc = ss.transform(X_test)"
   ]
  },
  {
   "cell_type": "code",
   "execution_count": null,
   "metadata": {},
   "outputs": [
    {
     "data": {
      "text/plain": [
       "(0.8250031316547664, 0.8275732531930879)"
      ]
     },
     "execution_count": 111,
     "metadata": {},
     "output_type": "execute_result"
    }
   ],
   "source": [
    "logreg = LogisticRegression()\n",
    "logreg.fit(X_train_sc, y_train)\n",
    "logreg.score(X_train_sc, y_train), logreg.score(X_test_sc, y_test)"
   ]
  },
  {
   "cell_type": "markdown",
   "metadata": {},
   "source": [
    "CONCLUSIONS\n",
    "- Initial accuracy is not terrible!\n",
    "- Let's try some rebalancing to see if we can improve before we diversify our models."
   ]
  },
  {
   "cell_type": "code",
   "execution_count": null,
   "metadata": {},
   "outputs": [],
   "source": [
    "# thanks to Devin Fay and General Assembly for this utility function to evaluate rebalancing efforts\n",
    "def evaluation(X_test, y_test, preds, model, normalize = 'pred'):\n",
    "    ConfusionMatrixDisplay.from_estimator(model, X_test, y_test, cmap='Blues',\n",
    "    normalize=normalize)\n",
    "    \n",
    "    print(f'balanced_accuracy: {balanced_accuracy_score(y_test, preds)}')\n",
    "    print(f'recall: {recall_score(y_test, preds, pos_label = 1)}')\n",
    "    print(f'precision: {precision_score(y_test, preds, pos_label = 1)}')\n",
    "    print(f'f1 score: {f1_score(y_test, preds, pos_label = 1)}')"
   ]
  },
  {
   "cell_type": "code",
   "execution_count": null,
   "metadata": {},
   "outputs": [
    {
     "name": "stdout",
     "output_type": "stream",
     "text": [
      "balanced_accuracy: 0.8254597532793021\n",
      "recall: 0.7684210526315789\n",
      "precision: 0.8086606243705942\n",
      "f1 score: 0.7880274779195289\n"
     ]
    },
    {
     "data": {
      "image/png": "[encoded data removed]",
      "text/plain": [
       "<Figure size 432x288 with 2 Axes>"
      ]
     },
     "metadata": {
      "needs_background": "light"
     },
     "output_type": "display_data"
    }
   ],
   "source": [
    "# let's just balance the class weights and see\n",
    "logreg = LogisticRegression(class_weight = 'balanced')\n",
    "logreg.fit(X_train_sc, y_train)\n",
    "preds = logreg.predict(X_test_sc)\n",
    "evaluation(X_test_sc, y_test, preds, logreg)"
   ]
  },
  {
   "cell_type": "code",
   "execution_count": null,
   "metadata": {},
   "outputs": [
    {
     "name": "stdout",
     "output_type": "stream",
     "text": [
      "balanced_accuracy: 0.8282199004003515\n",
      "recall: 0.7770334928229665\n",
      "precision: 0.8063555114200596\n",
      "f1 score: 0.7914230019493177\n"
     ]
    },
    {
     "data": {
      "image/png": "[encoded data removed]",
      "text/plain": [
       "<Figure size 432x288 with 2 Axes>"
      ]
     },
     "metadata": {
      "needs_background": "light"
     },
     "output_type": "display_data"
    }
   ],
   "source": [
    "# let's try random undersampling\n",
    "rus = RandomUnderSampler()\n",
    "X_train_sc_rus, y_train_rus = rus.fit_resample(X_train_sc, y_train)\n",
    "logreg = LogisticRegression()\n",
    "logreg.fit(X_train_sc_rus, y_train_rus)\n",
    "preds = logreg.predict(X_test_sc)\n",
    "evaluation(X_test_sc, y_test, preds, logreg)"
   ]
  },
  {
   "cell_type": "code",
   "execution_count": null,
   "metadata": {},
   "outputs": [
    {
     "name": "stdout",
     "output_type": "stream",
     "text": [
      "balanced_accuracy: 0.8150733977801647\n",
      "recall: 0.8373205741626795\n",
      "precision: 0.7231404958677686\n",
      "f1 score: 0.7760532150776053\n"
     ]
    },
    {
     "data": {
      "image/png": "[encoded data removed]",
      "text/plain": [
       "<Figure size 432x288 with 2 Axes>"
      ]
     },
     "metadata": {
      "needs_background": "light"
     },
     "output_type": "display_data"
    }
   ],
   "source": [
    "# let's try NearMiss\n",
    "nm = NearMiss()\n",
    "X_train_sc_nm, y_train_nm = nm.fit_resample(X_train_sc, y_train)\n",
    "logreg = LogisticRegression()\n",
    "logreg.fit(X_train_sc_nm, y_train_nm)\n",
    "preds = logreg.predict(X_test_sc)\n",
    "evaluation(X_test_sc, y_test, preds, logreg)"
   ]
  },
  {
   "cell_type": "code",
   "execution_count": null,
   "metadata": {},
   "outputs": [
    {
     "name": "stdout",
     "output_type": "stream",
     "text": [
      "balanced_accuracy: 0.8272043745727956\n",
      "recall: 0.7712918660287081\n",
      "precision: 0.8100502512562814\n",
      "f1 score: 0.7901960784313725\n"
     ]
    },
    {
     "data": {
      "image/png": "[encoded data removed]",
      "text/plain": [
       "<Figure size 432x288 with 2 Axes>"
      ]
     },
     "metadata": {
      "needs_background": "light"
     },
     "output_type": "display_data"
    }
   ],
   "source": [
    "# let's try RandomOverSampler\n",
    "ros = RandomOverSampler()\n",
    "X_train_sc_ros, y_train_ros = ros.fit_resample(X_train_sc, y_train)\n",
    "logreg = LogisticRegression()\n",
    "logreg.fit(X_train_sc_ros, y_train_ros)\n",
    "preds = logreg.predict(X_test_sc)\n",
    "evaluation(X_test_sc, y_test, preds, logreg)"
   ]
  },
  {
   "cell_type": "code",
   "execution_count": null,
   "metadata": {},
   "outputs": [
    {
     "name": "stdout",
     "output_type": "stream",
     "text": [
      "balanced_accuracy: 0.8272043745727956\n",
      "recall: 0.7712918660287081\n",
      "precision: 0.8100502512562814\n",
      "f1 score: 0.7901960784313725\n"
     ]
    },
    {
     "name": "stderr",
     "output_type": "stream",
     "text": [
      "c:\\Users\\Gabe\\anaconda3\\lib\\site-packages\\sklearn\\model_selection\\_validation.py:378: FitFailedWarning: \n",
      "15 fits failed out of a total of 25.\n",
      "The score on these train-test partitions for these parameters will be set to nan.\n",
      "If these failures are not expected, you can try to debug them by setting error_score='raise'.\n",
      "\n",
      "Below are more details about the failures:\n",
      "--------------------------------------------------------------------------------\n",
      "15 fits failed with the following error:\n",
      "Traceback (most recent call last):\n",
      "  File \"c:\\Users\\Gabe\\anaconda3\\lib\\site-packages\\sklearn\\model_selection\\_validation.py\", line 686, in _fit_and_score\n",
      "    estimator.fit(X_train, y_train, **fit_params)\n",
      "  File \"c:\\Users\\Gabe\\anaconda3\\lib\\site-packages\\imblearn\\pipeline.py\", line 268, in fit\n",
      "    Xt, yt = self._fit(X, y, **fit_params_steps)\n",
      "  File \"c:\\Users\\Gabe\\anaconda3\\lib\\site-packages\\imblearn\\pipeline.py\", line 226, in _fit\n",
      "    X, y, fitted_transformer = fit_resample_one_cached(\n",
      "  File \"c:\\Users\\Gabe\\anaconda3\\lib\\site-packages\\joblib\\memory.py\", line 349, in __call__\n",
      "    return self.func(*args, **kwargs)\n",
      "  File \"c:\\Users\\Gabe\\anaconda3\\lib\\site-packages\\imblearn\\pipeline.py\", line 394, in _fit_resample_one\n",
      "    X_res, y_res = sampler.fit_resample(X, y, **fit_params)\n",
      "  File \"c:\\Users\\Gabe\\anaconda3\\lib\\site-packages\\imblearn\\base.py\", line 79, in fit_resample\n",
      "    self.sampling_strategy_ = check_sampling_strategy(\n",
      "  File \"c:\\Users\\Gabe\\anaconda3\\lib\\site-packages\\imblearn\\utils\\_validation.py\", line 534, in check_sampling_strategy\n",
      "    _sampling_strategy_float(sampling_strategy, y, sampling_type).items()\n",
      "  File \"c:\\Users\\Gabe\\anaconda3\\lib\\site-packages\\imblearn\\utils\\_validation.py\", line 373, in _sampling_strategy_float\n",
      "    raise ValueError(\n",
      "ValueError: The specified ratio required to remove samples from the minority class while trying to generate new samples. Please increase the ratio.\n",
      "\n",
      "  warnings.warn(some_fits_failed_message, FitFailedWarning)\n",
      "c:\\Users\\Gabe\\anaconda3\\lib\\site-packages\\sklearn\\model_selection\\_search.py:953: UserWarning: One or more of the test scores are non-finite: [       nan        nan        nan 0.80753625 0.82267464]\n",
      "  warnings.warn(\n"
     ]
    },
    {
     "data": {
      "image/png": "[encoded data removed]",
      "text/plain": [
       "<Figure size 432x288 with 2 Axes>"
      ]
     },
     "metadata": {
      "needs_background": "light"
     },
     "output_type": "display_data"
    }
   ],
   "source": [
    "# how about RandomOverSampler with some tuning?\n",
    "pipe = ImbalancedPipeline([\n",
    "    ('ros', RandomOverSampler(random_state = 42)),\n",
    "    ('logr', LogisticRegression(max_iter = 1_000))\n",
    "])\n",
    "\n",
    "gs = GridSearchCV(pipe,\n",
    "    param_grid = { 'ros__sampling_strategy': [0.1, 0.25, 0.5, 0.75, 1.0]}, scoring = 'balanced_accuracy')\n",
    "\n",
    "gs.fit(X_train_sc, y_train)\n",
    "preds = gs.predict(X_test_sc)\n",
    "evaluation(X_test_sc, y_test, preds, gs)"
   ]
  },
  {
   "cell_type": "code",
   "execution_count": null,
   "metadata": {},
   "outputs": [
    {
     "name": "stderr",
     "output_type": "stream",
     "text": [
      "c:\\Users\\Gabe\\anaconda3\\lib\\site-packages\\sklearn\\model_selection\\_validation.py:378: FitFailedWarning: \n",
      "20 fits failed out of a total of 25.\n",
      "The score on these train-test partitions for these parameters will be set to nan.\n",
      "If these failures are not expected, you can try to debug them by setting error_score='raise'.\n",
      "\n",
      "Below are more details about the failures:\n",
      "--------------------------------------------------------------------------------\n",
      "15 fits failed with the following error:\n",
      "Traceback (most recent call last):\n",
      "  File \"c:\\Users\\Gabe\\anaconda3\\lib\\site-packages\\sklearn\\model_selection\\_validation.py\", line 686, in _fit_and_score\n",
      "    estimator.fit(X_train, y_train, **fit_params)\n",
      "  File \"c:\\Users\\Gabe\\anaconda3\\lib\\site-packages\\imblearn\\pipeline.py\", line 268, in fit\n",
      "    Xt, yt = self._fit(X, y, **fit_params_steps)\n",
      "  File \"c:\\Users\\Gabe\\anaconda3\\lib\\site-packages\\imblearn\\pipeline.py\", line 226, in _fit\n",
      "    X, y, fitted_transformer = fit_resample_one_cached(\n",
      "  File \"c:\\Users\\Gabe\\anaconda3\\lib\\site-packages\\joblib\\memory.py\", line 349, in __call__\n",
      "    return self.func(*args, **kwargs)\n",
      "  File \"c:\\Users\\Gabe\\anaconda3\\lib\\site-packages\\imblearn\\pipeline.py\", line 394, in _fit_resample_one\n",
      "    X_res, y_res = sampler.fit_resample(X, y, **fit_params)\n",
      "  File \"c:\\Users\\Gabe\\anaconda3\\lib\\site-packages\\imblearn\\base.py\", line 79, in fit_resample\n",
      "    self.sampling_strategy_ = check_sampling_strategy(\n",
      "  File \"c:\\Users\\Gabe\\anaconda3\\lib\\site-packages\\imblearn\\utils\\_validation.py\", line 534, in check_sampling_strategy\n",
      "    _sampling_strategy_float(sampling_strategy, y, sampling_type).items()\n",
      "  File \"c:\\Users\\Gabe\\anaconda3\\lib\\site-packages\\imblearn\\utils\\_validation.py\", line 373, in _sampling_strategy_float\n",
      "    raise ValueError(\n",
      "ValueError: The specified ratio required to remove samples from the minority class while trying to generate new samples. Please increase the ratio.\n",
      "\n",
      "--------------------------------------------------------------------------------\n",
      "5 fits failed with the following error:\n",
      "Traceback (most recent call last):\n",
      "  File \"c:\\Users\\Gabe\\anaconda3\\lib\\site-packages\\sklearn\\model_selection\\_validation.py\", line 686, in _fit_and_score\n",
      "    estimator.fit(X_train, y_train, **fit_params)\n",
      "  File \"c:\\Users\\Gabe\\anaconda3\\lib\\site-packages\\imblearn\\pipeline.py\", line 268, in fit\n",
      "    Xt, yt = self._fit(X, y, **fit_params_steps)\n",
      "  File \"c:\\Users\\Gabe\\anaconda3\\lib\\site-packages\\imblearn\\pipeline.py\", line 226, in _fit\n",
      "    X, y, fitted_transformer = fit_resample_one_cached(\n",
      "  File \"c:\\Users\\Gabe\\anaconda3\\lib\\site-packages\\joblib\\memory.py\", line 349, in __call__\n",
      "    return self.func(*args, **kwargs)\n",
      "  File \"c:\\Users\\Gabe\\anaconda3\\lib\\site-packages\\imblearn\\pipeline.py\", line 394, in _fit_resample_one\n",
      "    X_res, y_res = sampler.fit_resample(X, y, **fit_params)\n",
      "  File \"c:\\Users\\Gabe\\anaconda3\\lib\\site-packages\\imblearn\\base.py\", line 83, in fit_resample\n",
      "    output = self._fit_resample(X, y)\n",
      "  File \"c:\\Users\\Gabe\\anaconda3\\lib\\site-packages\\imblearn\\over_sampling\\_adasyn.py\", line 162, in _fit_resample\n",
      "    raise ValueError(\n",
      "ValueError: No samples will be generated with the provided ratio settings.\n",
      "\n",
      "  warnings.warn(some_fits_failed_message, FitFailedWarning)\n",
      "c:\\Users\\Gabe\\anaconda3\\lib\\site-packages\\sklearn\\model_selection\\_search.py:953: UserWarning: One or more of the test scores are non-finite: [       nan        nan        nan        nan 0.83666622]\n",
      "  warnings.warn(\n"
     ]
    },
    {
     "name": "stdout",
     "output_type": "stream",
     "text": [
      "balanced_accuracy: 0.8393190769130618\n",
      "recall: 0.815311004784689\n",
      "precision: 0.7940354147250699\n",
      "f1 score: 0.8045325779036826\n"
     ]
    },
    {
     "data": {
      "image/png": "[encoded data removed]",
      "text/plain": [
       "<Figure size 432x288 with 2 Axes>"
      ]
     },
     "metadata": {
      "needs_background": "light"
     },
     "output_type": "display_data"
    }
   ],
   "source": [
    "# We'll give it one more shot with ADASYN\n",
    "pipe = ImbalancedPipeline([\n",
    "    ('ada', ADASYN(random_state = 42)),\n",
    "    ('logr', LogisticRegression(max_iter = 1_000))\n",
    "])\n",
    "\n",
    "gs = GridSearchCV(pipe,\n",
    "    param_grid = { 'ada__sampling_strategy': [0.1, 0.25, 0.5, 0.75, 1.0]}, scoring = 'balanced_accuracy')\n",
    "\n",
    "gs.fit(X_train_sc, y_train)\n",
    "preds = gs.predict(X_test_sc)\n",
    "evaluation(X_test_sc, y_test, preds, gs)"
   ]
  },
  {
   "cell_type": "markdown",
   "metadata": {},
   "source": [
    "CONCLUSIONS\n",
    "- ADASYN does appear to improve our model slightly, so we will use it to rebalance our target classes"
   ]
  },
  {
   "cell_type": "code",
   "execution_count": null,
   "metadata": {},
   "outputs": [
    {
     "data": {
      "text/html": [
       "<style>#sk-container-id-2 {color: black;background-color: white;}#sk-container-id-2 pre{padding: 0;}#sk-container-id-2 div.sk-toggleable {background-color: white;}#sk-container-id-2 label.sk-toggleable__label {cursor: pointer;display: block;width: 100%;margin-bottom: 0;padding: 0.3em;box-sizing: border-box;text-align: center;}#sk-container-id-2 label.sk-toggleable__label-arrow:before {content: \"▸\";float: left;margin-right: 0.25em;color: #696969;}#sk-container-id-2 label.sk-toggleable__label-arrow:hover:before {color: black;}#sk-container-id-2 div.sk-estimator:hover label.sk-toggleable__label-arrow:before {color: black;}#sk-container-id-2 div.sk-toggleable__content {max-height: 0;max-width: 0;overflow: hidden;text-align: left;background-color: #f0f8ff;}#sk-container-id-2 div.sk-toggleable__content pre {margin: 0.2em;color: black;border-radius: 0.25em;background-color: #f0f8ff;}#sk-container-id-2 input.sk-toggleable__control:checked~div.sk-toggleable__content {max-height: 200px;max-width: 100%;overflow: auto;}#sk-container-id-2 input.sk-toggleable__control:checked~label.sk-toggleable__label-arrow:before {content: \"▾\";}#sk-container-id-2 div.sk-estimator input.sk-toggleable__control:checked~label.sk-toggleable__label {background-color: #d4ebff;}#sk-container-id-2 div.sk-label input.sk-toggleable__control:checked~label.sk-toggleable__label {background-color: #d4ebff;}#sk-container-id-2 input.sk-hidden--visually {border: 0;clip: rect(1px 1px 1px 1px);clip: rect(1px, 1px, 1px, 1px);height: 1px;margin: -1px;overflow: hidden;padding: 0;position: absolute;width: 1px;}#sk-container-id-2 div.sk-estimator {font-family: monospace;background-color: #f0f8ff;border: 1px dotted black;border-radius: 0.25em;box-sizing: border-box;margin-bottom: 0.5em;}#sk-container-id-2 div.sk-estimator:hover {background-color: #d4ebff;}#sk-container-id-2 div.sk-parallel-item::after {content: \"\";width: 100%;border-bottom: 1px solid gray;flex-grow: 1;}#sk-container-id-2 div.sk-label:hover label.sk-toggleable__label {background-color: #d4ebff;}#sk-container-id-2 div.sk-serial::before {content: \"\";position: absolute;border-left: 1px solid gray;box-sizing: border-box;top: 0;bottom: 0;left: 50%;z-index: 0;}#sk-container-id-2 div.sk-serial {display: flex;flex-direction: column;align-items: center;background-color: white;padding-right: 0.2em;padding-left: 0.2em;position: relative;}#sk-container-id-2 div.sk-item {position: relative;z-index: 1;}#sk-container-id-2 div.sk-parallel {display: flex;align-items: stretch;justify-content: center;background-color: white;position: relative;}#sk-container-id-2 div.sk-item::before, #sk-container-id-2 div.sk-parallel-item::before {content: \"\";position: absolute;border-left: 1px solid gray;box-sizing: border-box;top: 0;bottom: 0;left: 50%;z-index: -1;}#sk-container-id-2 div.sk-parallel-item {display: flex;flex-direction: column;z-index: 1;position: relative;background-color: white;}#sk-container-id-2 div.sk-parallel-item:first-child::after {align-self: flex-end;width: 50%;}#sk-container-id-2 div.sk-parallel-item:last-child::after {align-self: flex-start;width: 50%;}#sk-container-id-2 div.sk-parallel-item:only-child::after {width: 0;}#sk-container-id-2 div.sk-dashed-wrapped {border: 1px dashed gray;margin: 0 0.4em 0.5em 0.4em;box-sizing: border-box;padding-bottom: 0.4em;background-color: white;}#sk-container-id-2 div.sk-label label {font-family: monospace;font-weight: bold;display: inline-block;line-height: 1.2em;}#sk-container-id-2 div.sk-label-container {text-align: center;}#sk-container-id-2 div.sk-container {/* jupyter's `normalize.less` sets `[hidden] { display: none; }` but bootstrap.min.css set `[hidden] { display: none !important; }` so we also need the `!important` here to be able to override the default hidden behavior on the sphinx rendered scikit-learn.org. See: https://github.com/scikit-learn/scikit-learn/issues/21755 */display: inline-block !important;position: relative;}#sk-container-id-2 div.sk-text-repr-fallback {display: none;}</style><div id=\"sk-container-id-2\" class=\"sk-top-container\"><div class=\"sk-text-repr-fallback\"><pre>Pipeline(steps=[(&#x27;ada&#x27;, ADASYN(random_state=42, sampling_strategy=1.0)),\n",
       "                (&#x27;logr&#x27;, LogisticRegression(max_iter=1000))])</pre><b>In a Jupyter environment, please rerun this cell to show the HTML representation or trust the notebook. <br />On GitHub, the HTML representation is unable to render, please try loading this page with nbviewer.org.</b></div><div class=\"sk-container\" hidden><div class=\"sk-item sk-dashed-wrapped\"><div class=\"sk-label-container\"><div class=\"sk-label sk-toggleable\"><input class=\"sk-toggleable__control sk-hidden--visually\" id=\"sk-estimator-id-4\" type=\"checkbox\" ><label for=\"sk-estimator-id-4\" class=\"sk-toggleable__label sk-toggleable__label-arrow\">Pipeline</label><div class=\"sk-toggleable__content\"><pre>Pipeline(steps=[(&#x27;ada&#x27;, ADASYN(random_state=42, sampling_strategy=1.0)),\n",
       "                (&#x27;logr&#x27;, LogisticRegression(max_iter=1000))])</pre></div></div></div><div class=\"sk-serial\"><div class=\"sk-item\"><div class=\"sk-estimator sk-toggleable\"><input class=\"sk-toggleable__control sk-hidden--visually\" id=\"sk-estimator-id-5\" type=\"checkbox\" ><label for=\"sk-estimator-id-5\" class=\"sk-toggleable__label sk-toggleable__label-arrow\">ADASYN</label><div class=\"sk-toggleable__content\"><pre>ADASYN(random_state=42, sampling_strategy=1.0)</pre></div></div></div><div class=\"sk-item\"><div class=\"sk-estimator sk-toggleable\"><input class=\"sk-toggleable__control sk-hidden--visually\" id=\"sk-estimator-id-6\" type=\"checkbox\" ><label for=\"sk-estimator-id-6\" class=\"sk-toggleable__label sk-toggleable__label-arrow\">LogisticRegression</label><div class=\"sk-toggleable__content\"><pre>LogisticRegression(max_iter=1000)</pre></div></div></div></div></div></div></div>"
      ],
      "text/plain": [
       "Pipeline(steps=[('ada', ADASYN(random_state=42, sampling_strategy=1.0)),\n",
       "                ('logr', LogisticRegression(max_iter=1000))])"
      ]
     },
     "execution_count": 119,
     "metadata": {},
     "output_type": "execute_result"
    }
   ],
   "source": [
    "gs.best_estimator_"
   ]
  },
  {
   "cell_type": "code",
   "execution_count": null,
   "metadata": {},
   "outputs": [],
   "source": [
    "adasyn = ADASYN(random_state = 42, sampling_strategy = 1.0)\n",
    "X_train_sc, y_train = adasyn.fit_resample(X_train_sc, y_train)"
   ]
  },
  {
   "cell_type": "markdown",
   "metadata": {},
   "source": [
    "CONCLUSIONS\n",
    "- Now that we've dealt with our class imbalance, we can start trying some other models - we'll use GridSearch for most of these."
   ]
  },
  {
   "cell_type": "code",
   "execution_count": null,
   "metadata": {},
   "outputs": [],
   "source": [
    "# data frame for storing our stats\n",
    "df_stats = pd.DataFrame(columns = ['model', 'fit_time', 'train_acc', 'test_acc', 'recall', 'precision', 'f1'])\n",
    "\n",
    "# Thanks to Devin Fay and his Imbalanced Data lesson at GA for the basis of this function\n",
    "def evaluation(model, model_desc, X_train, y_train, X_test, y_test, normalize = 'pred'):\n",
    "    '''\n",
    "    Function to print and acquire some quick model stats.\n",
    "\n",
    "    Parameters:\n",
    "        model: the model\n",
    "        model: description of the model\n",
    "        X_train, y_train: Training features and target\n",
    "        X_test, y_test: Testing features and target\n",
    "        normalize: normalization for ConfusionMatrixDisplay\n",
    "    Returns:\n",
    "        Dataframe containing the model, fit time, training accuracy, testing accuracy, recall, precision, and F1\n",
    "    '''\n",
    "\n",
    "    start_time = time.time()\n",
    "    model.fit(X_train, y_train)\n",
    "    stop_time = time.time()\n",
    "    fit_time = stop_time - start_time\n",
    "    preds = model.predict(X_test)\n",
    "    \n",
    "    ConfusionMatrixDisplay.from_estimator(model, X_test, y_test, cmap='Blues',\n",
    "    normalize=normalize)\n",
    "\n",
    "    train_acc = model.score(X_train, y_train)\n",
    "    test_acc = model.score(X_test, y_test)\n",
    "    recall = recall_score(y_test, preds, pos_label = 1)\n",
    "    precision = precision_score(y_test, preds, pos_label = 1)\n",
    "    f1 = f1_score(y_test, preds, pos_label = 1)\n",
    "    \n",
    "    print(f'fit time: {fit_time}')\n",
    "    print(f'training set accuracy: {train_acc}')\n",
    "    print(f'test set accuracy: {test_acc}')\n",
    "    print(f'recall: {recall}')\n",
    "    print(f'precision: {precision}')\n",
    "    print(f'f1 score: {f1}')\n",
    "\n",
    "    return pd.DataFrame([{'model': model_desc, 'fit_time': fit_time, 'train_acc': train_acc, 'test_acc': test_acc,\n",
    "        'recall': recall, 'precision': precision, 'f1': f1}])"
   ]
  },
  {
   "cell_type": "code",
   "execution_count": null,
   "metadata": {},
   "outputs": [
    {
     "name": "stderr",
     "output_type": "stream",
     "text": [
      "c:\\Users\\Gabe\\anaconda3\\lib\\site-packages\\sklearn\\model_selection\\_validation.py:378: FitFailedWarning: \n",
      "270 fits failed out of a total of 540.\n",
      "The score on these train-test partitions for these parameters will be set to nan.\n",
      "If these failures are not expected, you can try to debug them by setting error_score='raise'.\n",
      "\n",
      "Below are more details about the failures:\n",
      "--------------------------------------------------------------------------------\n",
      "135 fits failed with the following error:\n",
      "Traceback (most recent call last):\n",
      "  File \"c:\\Users\\Gabe\\anaconda3\\lib\\site-packages\\sklearn\\model_selection\\_validation.py\", line 686, in _fit_and_score\n",
      "    estimator.fit(X_train, y_train, **fit_params)\n",
      "  File \"c:\\Users\\Gabe\\anaconda3\\lib\\site-packages\\sklearn\\linear_model\\_logistic.py\", line 1091, in fit\n",
      "    solver = _check_solver(self.solver, self.penalty, self.dual)\n",
      "  File \"c:\\Users\\Gabe\\anaconda3\\lib\\site-packages\\sklearn\\linear_model\\_logistic.py\", line 55, in _check_solver\n",
      "    raise ValueError(\n",
      "ValueError: Logistic Regression supports only penalties in ['l1', 'l2', 'elasticnet', 'none'], got None.\n",
      "\n",
      "--------------------------------------------------------------------------------\n",
      "45 fits failed with the following error:\n",
      "Traceback (most recent call last):\n",
      "  File \"c:\\Users\\Gabe\\anaconda3\\lib\\site-packages\\sklearn\\model_selection\\_validation.py\", line 686, in _fit_and_score\n",
      "    estimator.fit(X_train, y_train, **fit_params)\n",
      "  File \"c:\\Users\\Gabe\\anaconda3\\lib\\site-packages\\sklearn\\linear_model\\_logistic.py\", line 1091, in fit\n",
      "    solver = _check_solver(self.solver, self.penalty, self.dual)\n",
      "  File \"c:\\Users\\Gabe\\anaconda3\\lib\\site-packages\\sklearn\\linear_model\\_logistic.py\", line 61, in _check_solver\n",
      "    raise ValueError(\n",
      "ValueError: Solver lbfgs supports only 'l2' or 'none' penalties, got l1 penalty.\n",
      "\n",
      "--------------------------------------------------------------------------------\n",
      "45 fits failed with the following error:\n",
      "Traceback (most recent call last):\n",
      "  File \"c:\\Users\\Gabe\\anaconda3\\lib\\site-packages\\sklearn\\model_selection\\_validation.py\", line 686, in _fit_and_score\n",
      "    estimator.fit(X_train, y_train, **fit_params)\n",
      "  File \"c:\\Users\\Gabe\\anaconda3\\lib\\site-packages\\sklearn\\linear_model\\_logistic.py\", line 1091, in fit\n",
      "    solver = _check_solver(self.solver, self.penalty, self.dual)\n",
      "  File \"c:\\Users\\Gabe\\anaconda3\\lib\\site-packages\\sklearn\\linear_model\\_logistic.py\", line 61, in _check_solver\n",
      "    raise ValueError(\n",
      "ValueError: Solver lbfgs supports only 'l2' or 'none' penalties, got elasticnet penalty.\n",
      "\n",
      "--------------------------------------------------------------------------------\n",
      "45 fits failed with the following error:\n",
      "Traceback (most recent call last):\n",
      "  File \"c:\\Users\\Gabe\\anaconda3\\lib\\site-packages\\sklearn\\model_selection\\_validation.py\", line 686, in _fit_and_score\n",
      "    estimator.fit(X_train, y_train, **fit_params)\n",
      "  File \"c:\\Users\\Gabe\\anaconda3\\lib\\site-packages\\sklearn\\linear_model\\_logistic.py\", line 1091, in fit\n",
      "    solver = _check_solver(self.solver, self.penalty, self.dual)\n",
      "  File \"c:\\Users\\Gabe\\anaconda3\\lib\\site-packages\\sklearn\\linear_model\\_logistic.py\", line 71, in _check_solver\n",
      "    raise ValueError(\n",
      "ValueError: Only 'saga' solver supports elasticnet penalty, got solver=liblinear.\n",
      "\n",
      "  warnings.warn(some_fits_failed_message, FitFailedWarning)\n",
      "c:\\Users\\Gabe\\anaconda3\\lib\\site-packages\\sklearn\\model_selection\\_search.py:953: UserWarning: One or more of the test scores are non-finite: [       nan        nan        nan        nan 0.80821173 0.80085138\n",
      " 0.80310061 0.80269156 0.79921576        nan        nan 0.799727\n",
      "        nan        nan        nan        nan 0.80821173 0.80085138\n",
      " 0.80310061 0.80269156 0.79921576        nan        nan 0.80054458\n",
      "        nan        nan        nan        nan 0.80821173 0.80085138\n",
      " 0.80310061 0.80269156 0.79921576        nan        nan 0.80085138\n",
      "        nan        nan        nan        nan 0.81639106 0.80279412\n",
      " 0.81403974 0.81403969 0.80269187        nan        nan 0.80269187\n",
      "        nan        nan        nan        nan 0.81639106 0.80279412\n",
      " 0.81403974 0.81403969 0.80269187        nan        nan 0.80269187\n",
      "        nan        nan        nan        nan 0.81639106 0.80279412\n",
      " 0.81403974 0.81403969 0.80269187        nan        nan 0.80279412\n",
      "        nan        nan        nan        nan 0.81700408 0.80279412\n",
      " 0.81731083 0.81731083 0.80279412        nan        nan 0.80279412\n",
      "        nan        nan        nan        nan 0.81700408 0.80279412\n",
      " 0.81731083 0.81731083 0.80279412        nan        nan 0.80279412\n",
      "        nan        nan        nan        nan 0.81700408 0.80279412\n",
      " 0.81731083 0.81731083 0.80279412        nan        nan 0.80279412]\n",
      "  warnings.warn(\n",
      "c:\\Users\\Gabe\\anaconda3\\lib\\site-packages\\sklearn\\linear_model\\_logistic.py:1106: UserWarning: l1_ratio parameter is only used when penalty is 'elasticnet'. Got (penalty=l2)\n",
      "  warnings.warn(\n",
      "c:\\Users\\Gabe\\anaconda3\\lib\\site-packages\\sklearn\\linear_model\\_logistic.py:1106: UserWarning: l1_ratio parameter is only used when penalty is 'elasticnet'. Got (penalty=l2)\n",
      "  warnings.warn(\n"
     ]
    },
    {
     "name": "stdout",
     "output_type": "stream",
     "text": [
      "fit time: 0.031536102294921875\n",
      "training set accuracy: 0.8230423226334083\n",
      "test set accuracy: 0.8474830954169797\n",
      "recall: 0.8200956937799043\n",
      "precision: 0.7972093023255814\n",
      "f1 score: 0.8084905660377358\n"
     ]
    },
    {
     "data": {
      "image/png": "[encoded data removed]",
      "text/plain": [
       "<Figure size 432x288 with 2 Axes>"
      ]
     },
     "metadata": {
      "needs_background": "light"
     },
     "output_type": "display_data"
    }
   ],
   "source": [
    "# LogisticRegression (now with tuning)\n",
    "logreg = LogisticRegression(random_state = 42)\n",
    "params = {\n",
    "    'penalty': ['None', 'l1', 'l2', 'elasticnet'],\n",
    "    'C': [0.1, 1, 10],\n",
    "    'solver': ['lbfgs', 'liblinear', 'saga'],\n",
    "    'l1_ratio': [0.1, 0.5, 1.0]\n",
    "}\n",
    "\n",
    "gs = GridSearchCV(estimator = logreg, param_grid = params, n_jobs = -1)\n",
    "gs.fit(X_train_sc, y_train)\n",
    "df_stats = pd.concat([df_stats, evaluation(gs.best_estimator_, 'Tuned LogisticRegression', X_train_sc, y_train, X_test_sc, y_test)])"
   ]
  },
  {
   "cell_type": "code",
   "execution_count": null,
   "metadata": {},
   "outputs": [
    {
     "name": "stdout",
     "output_type": "stream",
     "text": [
      "fit time: 0.001169443130493164\n",
      "training set accuracy: 0.9995910856675526\n",
      "test set accuracy: 0.7956423741547709\n",
      "recall: 0.7559808612440191\n",
      "precision: 0.732159406858202\n",
      "f1 score: 0.7438794726930319\n"
     ]
    },
    {
     "data": {
      "image/png": "[encoded data removed]",
      "text/plain": [
       "<Figure size 432x288 with 2 Axes>"
      ]
     },
     "metadata": {
      "needs_background": "light"
     },
     "output_type": "display_data"
    }
   ],
   "source": [
    "# KNN\n",
    "knn = KNeighborsClassifier()\n",
    "params = {\n",
    "    'n_neighbors': [3, 5, 8],\n",
    "    'weights': ['uniform', 'distance'],\n",
    "    'metric': ['minkowski', 'manhattan', 'euclidean']\n",
    "}\n",
    "\n",
    "gs = GridSearchCV(estimator = knn, param_grid = params, n_jobs = -1)\n",
    "gs.fit(X_train_sc, y_train)\n",
    "df_stats = pd.concat([df_stats, evaluation(gs.best_estimator_, 'KNearestNeighbors', X_train_sc, y_train, X_test_sc, y_test)])"
   ]
  },
  {
   "cell_type": "code",
   "execution_count": null,
   "metadata": {},
   "outputs": [
    {
     "name": "stdout",
     "output_type": "stream",
     "text": [
      "fit time: 0.6277241706848145\n",
      "training set accuracy: 0.9966264567573093\n",
      "test set accuracy: 0.8666416228399699\n",
      "recall: 0.8602870813397129\n",
      "precision: 0.8113718411552346\n",
      "f1 score: 0.8351137947050628\n"
     ]
    },
    {
     "data": {
      "image/png": "[encoded data removed]",
      "text/plain": [
       "<Figure size 432x288 with 2 Axes>"
      ]
     },
     "metadata": {
      "needs_background": "light"
     },
     "output_type": "display_data"
    }
   ],
   "source": [
    "# Bagging\n",
    "bag = BaggingClassifier(random_state = 42)\n",
    "params = {\n",
    "    'n_estimators': [10, 20]\n",
    "}\n",
    "\n",
    "gs = GridSearchCV(estimator = bag, param_grid = params, n_jobs = -1)\n",
    "gs.fit(X_train_sc, y_train)\n",
    "df_stats = pd.concat([df_stats, evaluation(gs.best_estimator_, 'BaggingClassifier', X_train_sc, y_train, X_test_sc, y_test)])"
   ]
  },
  {
   "cell_type": "code",
   "execution_count": null,
   "metadata": {},
   "outputs": [
    {
     "name": "stdout",
     "output_type": "stream",
     "text": [
      "fit time: 0.800511360168457\n",
      "training set accuracy: 0.9106522183602536\n",
      "test set accuracy: 0.8677685950413223\n",
      "recall: 0.938755980861244\n",
      "precision: 0.7730496453900709\n",
      "f1 score: 0.8478824546240278\n"
     ]
    },
    {
     "data": {
      "image/png": "[encoded data removed]",
      "text/plain": [
       "<Figure size 432x288 with 2 Axes>"
      ]
     },
     "metadata": {
      "needs_background": "light"
     },
     "output_type": "display_data"
    }
   ],
   "source": [
    "# Random Forest\n",
    "rf = RandomForestClassifier(random_state = 42)\n",
    "params = {\n",
    "    'n_estimators': [100, 150],\n",
    "    'max_features': ['sqrt', 'log2'],\n",
    "    'max_depth': [2, 5, 10],\n",
    "    'min_samples_split': [2, 4],\n",
    "    'min_samples_leaf': [1, 2]\n",
    "}\n",
    "\n",
    "gs = GridSearchCV(estimator = rf, param_grid = params, n_jobs = -1)\n",
    "gs.fit(X_train_sc, y_train)\n",
    "df_stats = pd.concat([df_stats, evaluation(gs.best_estimator_, 'RandomForestClassifier', X_train_sc, y_train, X_test_sc, y_test)])"
   ]
  },
  {
   "cell_type": "code",
   "execution_count": null,
   "metadata": {},
   "outputs": [
    {
     "name": "stdout",
     "output_type": "stream",
     "text": [
      "fit time: 0.38355588912963867\n",
      "training set accuracy: 0.8839705581680638\n",
      "test set accuracy: 0.8613824192336589\n",
      "recall: 0.9282296650717703\n",
      "precision: 0.7674050632911392\n",
      "f1 score: 0.8401905586834126\n"
     ]
    },
    {
     "data": {
      "image/png": "[encoded data removed]",
      "text/plain": [
       "<Figure size 432x288 with 2 Axes>"
      ]
     },
     "metadata": {
      "needs_background": "light"
     },
     "output_type": "display_data"
    }
   ],
   "source": [
    "# AdaBoost\n",
    "ada = AdaBoostClassifier(random_state = 42)\n",
    "params = {\n",
    "    'n_estimators': [50, 100],\n",
    "    'learning_rate': [1, 5, 10]\n",
    "}\n",
    "\n",
    "gs = GridSearchCV(estimator = ada, param_grid = params, n_jobs = -1)\n",
    "gs.fit(X_train_sc, y_train)\n",
    "df_stats = pd.concat([df_stats, evaluation(gs.best_estimator_, 'AdaBoostClassifier', X_train_sc, y_train, X_test_sc, y_test)])"
   ]
  },
  {
   "cell_type": "code",
   "execution_count": null,
   "metadata": {},
   "outputs": [
    {
     "name": "stdout",
     "output_type": "stream",
     "text": [
      "fit time: 0.7518014907836914\n",
      "training set accuracy: 0.9262931915763648\n",
      "test set accuracy: 0.877160030052592\n",
      "recall: 0.9090909090909091\n",
      "precision: 0.8037225042301185\n",
      "f1 score: 0.8531656937584194\n"
     ]
    },
    {
     "data": {
      "image/png": "[encoded data removed]",
      "text/plain": [
       "<Figure size 432x288 with 2 Axes>"
      ]
     },
     "metadata": {
      "needs_background": "light"
     },
     "output_type": "display_data"
    }
   ],
   "source": [
    "# GradientBoost\n",
    "grad = GradientBoostingClassifier(random_state = 42)\n",
    "params = {\n",
    "    'n_estimators': [100, 150],\n",
    "    'subsample': [0.7, 1.0],\n",
    "    'learning_rate': [0.1, 1, 10],\n",
    "    'max_features': ['sqrt', 'log2'],\n",
    "    'max_depth': [3, 5, 10],\n",
    "    'min_samples_split': [2, 4],\n",
    "    'min_samples_leaf': [1, 2]\n",
    "}\n",
    "\n",
    "gs = GridSearchCV(estimator = grad, param_grid = params, n_jobs = -1)\n",
    "gs.fit(X_train_sc, y_train)\n",
    "df_stats = pd.concat([df_stats, evaluation(gs.best_estimator_, 'GradientBoostingClassifier', X_train_sc, y_train, X_test_sc, y_test)])"
   ]
  },
  {
   "cell_type": "code",
   "execution_count": null,
   "metadata": {},
   "outputs": [
    {
     "name": "stdout",
     "output_type": "stream",
     "text": [
      "84/84 [==============================] - 0s 1ms/step\n",
      "training set accuracy: 0.8642404675483704\n",
      "test set accuracy: 0.8523666262626648\n",
      "recall: 0.9416267942583733\n",
      "precision: 0.7477203647416414\n",
      "f1 score: 0.8335451080050826\n"
     ]
    },
    {
     "data": {
      "image/png": "[encoded data removed]",
      "text/plain": [
       "<Figure size 432x288 with 2 Axes>"
      ]
     },
     "metadata": {
      "needs_background": "light"
     },
     "output_type": "display_data"
    },
    {
     "data": {
      "image/png": "[encoded data removed]",
      "text/plain": [
       "<Figure size 864x576 with 1 Axes>"
      ]
     },
     "metadata": {
      "needs_background": "light"
     },
     "output_type": "display_data"
    }
   ],
   "source": [
    "# L2-regularized FNN\n",
    "# Model\n",
    "model = Sequential()\n",
    "model.add(Dense(units = 32, activation = 'relu', input_shape = (32, ),\n",
    "    kernel_regularizer = l2(0.005)))\n",
    "model.add(Dense(units = 16, activation = 'relu', kernel_regularizer = l2(0.005)))\n",
    "model.add(Dense(units = 1, activation = 'sigmoid'))\n",
    "\n",
    "# Compile it\n",
    "model.compile(optimizer = 'adam', loss = 'bce', metrics = ['acc'])\n",
    "\n",
    "# Fit it\n",
    "res = model.fit(x = X_train_sc, y = y_train, validation_data = (X_test_sc, y_test),\n",
    "    epochs = 20, batch_size = 256, verbose = 0)\n",
    "\n",
    "# Scores\n",
    "train_acc = res.history['acc'][-1]\n",
    "test_acc = res.history['val_acc'][-1]\n",
    "preds = pd.Series(model.predict(X_test_sc)[:, 0]).map(lambda x: 1 if x >= 0.5 else 0)\n",
    "recall = recall_score(y_test, preds, pos_label = 1)\n",
    "precision = precision_score(y_test, preds, pos_label = 1)\n",
    "f1 = f1_score(y_test, preds, pos_label = 1)\n",
    "print(f'training set accuracy: {train_acc}')\n",
    "print(f'test set accuracy: {test_acc}')\n",
    "print(f'recall: {recall}')\n",
    "print(f'precision: {precision}')\n",
    "print(f'f1 score: {f1}')\n",
    "\n",
    "ConfusionMatrixDisplay.from_predictions(y_test, preds, normalize = 'pred', cmap='Blues')\n",
    "\n",
    "# Visualize\n",
    "train_loss_l2 = res.history['loss']\n",
    "test_loss_l2 = res.history['val_loss']\n",
    "\n",
    "plt.figure(figsize=(12, 8))\n",
    "plt.plot(train_loss_l2, label='L2 Training loss', color='darkred')\n",
    "plt.plot(test_loss_l2, label='L2 Testing loss', color='pink')\n",
    "plt.legend();"
   ]
  },
  {
   "cell_type": "code",
   "execution_count": null,
   "metadata": {},
   "outputs": [
    {
     "name": "stdout",
     "output_type": "stream",
     "text": [
      "84/84 [==============================] - 0s 1ms/step\n",
      "training set accuracy: 0.8509507179260254\n",
      "test set accuracy: 0.8519909977912903\n",
      "recall: 0.9511961722488038\n",
      "precision: 0.743455497382199\n",
      "f1 score: 0.834592779177162\n"
     ]
    },
    {
     "data": {
      "image/png": "[encoded data removed]",
      "text/plain": [
       "<Figure size 432x288 with 2 Axes>"
      ]
     },
     "metadata": {
      "needs_background": "light"
     },
     "output_type": "display_data"
    },
    {
     "data": {
      "image/png": "[encoded data removed]",
      "text/plain": [
       "<Figure size 864x576 with 1 Axes>"
      ]
     },
     "metadata": {
      "needs_background": "light"
     },
     "output_type": "display_data"
    }
   ],
   "source": [
    "# Add dropouts\n",
    "# Model\n",
    "model = Sequential()\n",
    "model.add(Dense(units = 32, activation = 'relu', input_shape = (32, ), kernel_regularizer = l2(0.005)))\n",
    "model.add(Dropout(rate = 0.3))\n",
    "model.add(Dense(units = 16, activation = 'relu', kernel_regularizer = l2(0.005)))\n",
    "model.add(Dropout(rate = 0.3))\n",
    "model.add(Dense(units = 1, activation = 'sigmoid'))\n",
    "\n",
    "# Compile it\n",
    "model.compile(optimizer = 'adam', loss = 'bce', metrics = ['acc'])\n",
    "\n",
    "# Fit it\n",
    "res = model.fit(x = X_train_sc, y = y_train, validation_data = (X_test_sc, y_test),\n",
    "    epochs = 20, batch_size = 256, verbose = 0)\n",
    "\n",
    "# Scores\n",
    "train_acc = res.history['acc'][-1]\n",
    "test_acc = res.history['val_acc'][-1]\n",
    "preds = pd.Series(model.predict(X_test_sc)[:, 0]).map(lambda x: 1 if x >= 0.5 else 0)\n",
    "recall = recall_score(y_test, preds, pos_label = 1)\n",
    "precision = precision_score(y_test, preds, pos_label = 1)\n",
    "f1 = f1_score(y_test, preds, pos_label = 1)\n",
    "print(f'training set accuracy: {train_acc}')\n",
    "print(f'test set accuracy: {test_acc}')\n",
    "print(f'recall: {recall}')\n",
    "print(f'precision: {precision}')\n",
    "print(f'f1 score: {f1}')\n",
    "\n",
    "ConfusionMatrixDisplay.from_predictions(y_test, preds, normalize = 'pred', cmap='Blues')\n",
    "\n",
    "# Visualize\n",
    "train_loss_l2 = res.history['loss']\n",
    "test_loss_l2 = res.history['val_loss']\n",
    "\n",
    "plt.figure(figsize=(12, 8))\n",
    "plt.plot(train_loss_l2, label='L2 Training loss', color='darkred')\n",
    "plt.plot(test_loss_l2, label='L2 Testing loss', color='pink')\n",
    "plt.legend();"
   ]
  },
  {
   "cell_type": "code",
   "execution_count": null,
   "metadata": {},
   "outputs": [
    {
     "name": "stdout",
     "output_type": "stream",
     "text": [
      "84/84 [==============================] - 0s 1ms/step\n",
      "training set accuracy: 0.8767123222351074\n",
      "test set accuracy: 0.8621337413787842\n",
      "recall: 0.9339712918660287\n",
      "precision: 0.7660910518053375\n",
      "f1 score: 0.8417421302285467\n"
     ]
    },
    {
     "data": {
      "image/png": "[encoded data removed]",
      "text/plain": [
       "<Figure size 432x288 with 2 Axes>"
      ]
     },
     "metadata": {
      "needs_background": "light"
     },
     "output_type": "display_data"
    },
    {
     "data": {
      "image/png": "[encoded data removed]",
      "text/plain": [
       "<Figure size 864x576 with 1 Axes>"
      ]
     },
     "metadata": {
      "needs_background": "light"
     },
     "output_type": "display_data"
    }
   ],
   "source": [
    "# L2-regularized FNN with early stopping\n",
    "es = EarlyStopping(patience = 5)\n",
    "\n",
    "# Model\n",
    "model = Sequential()\n",
    "model.add(Dense(units = 32, activation = 'relu', input_shape = (32, ),\n",
    "    kernel_regularizer = l2(0.005)))\n",
    "model.add(Dense(units = 16, activation = 'relu', kernel_regularizer = l2(0.005)))\n",
    "model.add(Dense(units = 1, activation = 'sigmoid'))\n",
    "\n",
    "# Compile it\n",
    "model.compile(optimizer = 'adam', loss = 'bce', metrics = ['acc'])\n",
    "\n",
    "# Fit it\n",
    "res = model.fit(x = X_train_sc, y = y_train, validation_data = (X_test_sc, y_test),\n",
    "    epochs = 100, batch_size = 256, verbose = 0, callbacks = [es])\n",
    "\n",
    "# Scores\n",
    "train_acc = res.history['acc'][-1]\n",
    "test_acc = res.history['val_acc'][-1]\n",
    "preds = pd.Series(model.predict(X_test_sc)[:, 0]).map(lambda x: 1 if x >= 0.5 else 0)\n",
    "recall = recall_score(y_test, preds, pos_label = 1)\n",
    "precision = precision_score(y_test, preds, pos_label = 1)\n",
    "f1 = f1_score(y_test, preds, pos_label = 1)\n",
    "print(f'training set accuracy: {train_acc}')\n",
    "print(f'test set accuracy: {test_acc}')\n",
    "print(f'recall: {recall}')\n",
    "print(f'precision: {precision}')\n",
    "print(f'f1 score: {f1}')\n",
    "\n",
    "ConfusionMatrixDisplay.from_predictions(y_test, preds, normalize = 'pred', cmap='Blues')\n",
    "\n",
    "# Visualize\n",
    "train_loss_l2 = res.history['loss']\n",
    "test_loss_l2 = res.history['val_loss']\n",
    "\n",
    "plt.figure(figsize=(12, 8))\n",
    "plt.plot(train_loss_l2, label='L2 Training loss', color='darkred')\n",
    "plt.plot(test_loss_l2, label='L2 Testing loss', color='pink')\n",
    "plt.legend();"
   ]
  },
  {
   "cell_type": "code",
   "execution_count": null,
   "metadata": {},
   "outputs": [
    {
     "name": "stdout",
     "output_type": "stream",
     "text": [
      "84/84 [==============================] - 0s 1ms/step\n",
      "training set accuracy: 0.8797791600227356\n",
      "test set accuracy: 0.8651390075683594\n",
      "recall: 0.9339712918660287\n",
      "precision: 0.7709320695102686\n",
      "f1 score: 0.8446559930765902\n"
     ]
    },
    {
     "data": {
      "image/png": "[encoded data removed]",
      "text/plain": [
       "<Figure size 432x288 with 2 Axes>"
      ]
     },
     "metadata": {
      "needs_background": "light"
     },
     "output_type": "display_data"
    },
    {
     "data": {
      "image/png": "[encoded data removed]",
      "text/plain": [
       "<Figure size 864x576 with 1 Axes>"
      ]
     },
     "metadata": {
      "needs_background": "light"
     },
     "output_type": "display_data"
    }
   ],
   "source": [
    "# PCA on the front end\n",
    "pca = PCA(random_state = 42)\n",
    "X_train_sc = pca.fit_transform(X_train_sc)\n",
    "X_test_sc = pca.transform(X_test_sc)\n",
    "\n",
    "# L2-regularized FNN with early stopping\n",
    "es = EarlyStopping(patience = 5)\n",
    "\n",
    "# Model\n",
    "model = Sequential()\n",
    "model.add(Dense(units = 32, activation = 'relu', input_shape = (32, ),\n",
    "    kernel_regularizer = l2(0.005)))\n",
    "model.add(Dense(units = 16, activation = 'relu', kernel_regularizer = l2(0.005)))\n",
    "model.add(Dense(units = 1, activation = 'sigmoid'))\n",
    "\n",
    "# Compile it\n",
    "model.compile(optimizer = 'adam', loss = 'bce', metrics = ['acc'])\n",
    "\n",
    "# Fit it\n",
    "res = model.fit(x = X_train_sc, y = y_train, validation_data = (X_test_sc, y_test),\n",
    "    epochs = 100, batch_size = 256, verbose = 0, callbacks = [es])\n",
    "\n",
    "# Scores\n",
    "train_acc = res.history['acc'][-1]\n",
    "test_acc = res.history['val_acc'][-1]\n",
    "preds = pd.Series(model.predict(X_test_sc)[:, 0]).map(lambda x: 1 if x >= 0.5 else 0)\n",
    "recall = recall_score(y_test, preds, pos_label = 1)\n",
    "precision = precision_score(y_test, preds, pos_label = 1)\n",
    "f1 = f1_score(y_test, preds, pos_label = 1)\n",
    "print(f'training set accuracy: {train_acc}')\n",
    "print(f'test set accuracy: {test_acc}')\n",
    "print(f'recall: {recall}')\n",
    "print(f'precision: {precision}')\n",
    "print(f'f1 score: {f1}')\n",
    "\n",
    "ConfusionMatrixDisplay.from_predictions(y_test, preds, normalize = 'pred', cmap='Blues')\n",
    "\n",
    "# Visualize\n",
    "train_loss_l2 = res.history['loss']\n",
    "test_loss_l2 = res.history['val_loss']\n",
    "\n",
    "plt.figure(figsize=(12, 8))\n",
    "plt.plot(train_loss_l2, label='L2 Training loss', color='darkred')\n",
    "plt.plot(test_loss_l2, label='L2 Testing loss', color='pink')\n",
    "plt.legend();"
   ]
  },
  {
   "cell_type": "markdown",
   "metadata": {},
   "source": [
    "CONCLUSIONS\n",
    "- It looks like an L2-regularized neural network with early stopping (around 62 epochs or so) gives us the best combination of high accuracy and low variance.\n",
    "- The recall, precision and F1 for this model are also in keeping with, or better than, the other models.\n",
    "- This will be our production model for Florida."
   ]
  },
  {
   "cell_type": "markdown",
   "metadata": {},
   "source": [
    "**Model 3: Behavioral feature set - Georgia**"
   ]
  },
  {
   "cell_type": "code",
   "execution_count": null,
   "metadata": {},
   "outputs": [],
   "source": []
  },
  {
   "cell_type": "markdown",
   "metadata": {},
   "source": [
    "**FINAL NOTES**\n",
    "- The model statistics are exported [here](../data/model_stats.csv).\n",
    "- The next notebook in the series is [Model Tuning](./04_tuning.ipynb)."
   ]
  }
 ],
 "metadata": {
  "kernelspec": {
   "display_name": "Python 3.9.6 64-bit ('3.9.6')",
   "language": "python",
   "name": "python3"
  },
  "language_info": {
   "codemirror_mode": {
    "name": "ipython",
    "version": 3
   },
   "file_extension": ".py",
   "mimetype": "text/x-python",
   "name": "python",
   "nbconvert_exporter": "python",
   "pygments_lexer": "ipython3",
   "version": "3.9.6"
  },
  "vscode": {
   "interpreter": {
    "hash": "d3fbca8c5142a5f3fc0e150e2aa7dc992112775c37c59dc77ad7b753c4c0bceb"
   }
  }
 },
 "nbformat": 4,
 "nbformat_minor": 4
}
