{
 "cells": [
  {
   "cell_type": "markdown",
   "metadata": {},
   "source": [
    "### Group Project 4 : Comparing 3 Models for Predicting Recidivism\n",
    "\n",
    "For background on this project, please see the [README](../README.md).\n",
    "\n",
    "**Notebooks**\n",
    "- Data Acquisition & Cleaning (this notebook)\n",
    "- [Exploratory Data Analysis](./02_eda.ipynb)\n",
    "- [Modeling](./03_modeling.ipynb)\n",
    "- [Results and Recommendations](./04_results.ipynb)\n",
    "\n",
    "**In this notebook, you'll find (for each of the 3 models):**\n",
    "- Data ingestion\n",
    "- Cleaning\n",
    "- New feature engineering\n",
    "- etc. TODO"
   ]
  },
  {
   "cell_type": "markdown",
   "metadata": {},
   "source": [
    "**Model 1: Base feature set - New York**\n",
    "\n",
    "This dataset was pulled directly from the ny.gov website. It represents the return status within three years of release from prison for former inmates in the State of New York."
   ]
  },
  {
   "cell_type": "markdown",
   "metadata": {},
   "source": [
    "|Feature|Type|Description|\n",
    "|---|---|---|\n",
    "|Release Year|int|The year the inmate was released from prison|\n",
    "|County of Indictment|object|The county within the State of New York where the inmate was indicted|\n",
    "|Gender|object|The inmates gender|\n",
    "|Age at Release|int|The age of the inmate at the time of release from prison|\n",
    "|Return Status|object|The status of the inmate within 3 years of release (Returned because of New Offense or Parole Violation, Not Returned)|"
   ]
  },
  {
   "cell_type": "code",
   "execution_count": 2,
   "metadata": {},
   "outputs": [
    {
     "data": {
      "text/html": [
       "<div>\n",
       "<style scoped>\n",
       "    .dataframe tbody tr th:only-of-type {\n",
       "        vertical-align: middle;\n",
       "    }\n",
       "\n",
       "    .dataframe tbody tr th {\n",
       "        vertical-align: top;\n",
       "    }\n",
       "\n",
       "    .dataframe thead th {\n",
       "        text-align: right;\n",
       "    }\n",
       "</style>\n",
       "<table border=\"1\" class=\"dataframe\">\n",
       "  <thead>\n",
       "    <tr style=\"text-align: right;\">\n",
       "      <th></th>\n",
       "      <th>Release Year</th>\n",
       "      <th>County of Indictment</th>\n",
       "      <th>Gender</th>\n",
       "      <th>Age at Release</th>\n",
       "      <th>Return Status</th>\n",
       "    </tr>\n",
       "  </thead>\n",
       "  <tbody>\n",
       "    <tr>\n",
       "      <th>0</th>\n",
       "      <td>2008</td>\n",
       "      <td>UNKNOWN</td>\n",
       "      <td>MALE</td>\n",
       "      <td>55</td>\n",
       "      <td>Not Returned</td>\n",
       "    </tr>\n",
       "    <tr>\n",
       "      <th>1</th>\n",
       "      <td>2008</td>\n",
       "      <td>ALBANY</td>\n",
       "      <td>MALE</td>\n",
       "      <td>16</td>\n",
       "      <td>Returned Parole Violation</td>\n",
       "    </tr>\n",
       "    <tr>\n",
       "      <th>2</th>\n",
       "      <td>2008</td>\n",
       "      <td>ALBANY</td>\n",
       "      <td>MALE</td>\n",
       "      <td>17</td>\n",
       "      <td>Not Returned</td>\n",
       "    </tr>\n",
       "    <tr>\n",
       "      <th>3</th>\n",
       "      <td>2008</td>\n",
       "      <td>ALBANY</td>\n",
       "      <td>MALE</td>\n",
       "      <td>17</td>\n",
       "      <td>Returned Parole Violation</td>\n",
       "    </tr>\n",
       "    <tr>\n",
       "      <th>4</th>\n",
       "      <td>2008</td>\n",
       "      <td>ALBANY</td>\n",
       "      <td>MALE</td>\n",
       "      <td>18</td>\n",
       "      <td>Not Returned</td>\n",
       "    </tr>\n",
       "  </tbody>\n",
       "</table>\n",
       "</div>"
      ],
      "text/plain": [
       "   Release Year County of Indictment Gender  Age at Release  \\\n",
       "0          2008              UNKNOWN   MALE              55   \n",
       "1          2008               ALBANY   MALE              16   \n",
       "2          2008               ALBANY   MALE              17   \n",
       "3          2008               ALBANY   MALE              17   \n",
       "4          2008               ALBANY   MALE              18   \n",
       "\n",
       "               Return Status  \n",
       "0               Not Returned  \n",
       "1  Returned Parole Violation  \n",
       "2               Not Returned  \n",
       "3  Returned Parole Violation  \n",
       "4               Not Returned  "
      ]
     },
     "execution_count": 2,
     "metadata": {},
     "output_type": "execute_result"
    }
   ],
   "source": [
    "import pandas as pd\n",
    "ny_df = pd.read_csv('../data/NY/newyork.csv')\n",
    "ny_df.head()"
   ]
  },
  {
   "cell_type": "code",
   "execution_count": 3,
   "metadata": {},
   "outputs": [
    {
     "name": "stdout",
     "output_type": "stream",
     "text": [
      "<class 'pandas.core.frame.DataFrame'>\n",
      "RangeIndex: 188650 entries, 0 to 188649\n",
      "Data columns (total 5 columns):\n",
      " #   Column                Non-Null Count   Dtype \n",
      "---  ------                --------------   ----- \n",
      " 0   Release Year          188650 non-null  int64 \n",
      " 1   County of Indictment  188650 non-null  object\n",
      " 2   Gender                188650 non-null  object\n",
      " 3   Age at Release        188650 non-null  int64 \n",
      " 4   Return Status         188650 non-null  object\n",
      "dtypes: int64(2), object(3)\n",
      "memory usage: 7.2+ MB\n"
     ]
    }
   ],
   "source": [
    "#Quick overview of the data shows 188k observations with only a few features including release year, county of indictment, age at release and gender. Return Status will be the target.\n",
    "ny_df.info()"
   ]
  },
  {
   "cell_type": "code",
   "execution_count": 4,
   "metadata": {},
   "outputs": [
    {
     "data": {
      "text/plain": [
       "Release Year            0\n",
       "County of Indictment    0\n",
       "Gender                  0\n",
       "Age at Release          0\n",
       "Return Status           0\n",
       "dtype: int64"
      ]
     },
     "execution_count": 4,
     "metadata": {},
     "output_type": "execute_result"
    }
   ],
   "source": [
    "#Data is fairly clean no null values\n",
    "ny_df.isnull().sum()"
   ]
  },
  {
   "cell_type": "code",
   "execution_count": 6,
   "metadata": {},
   "outputs": [],
   "source": [
    "#Transforming the target variable 'Return Status' into 1s and 0s. 1 representing someone who returned to prison within 3 years of release and 0 representing someone who did not. \n",
    "ny_df['recidivism'] = ny_df['Return Status'].map({'Not Returned': 0, 'Returned Parole Violation' : 1, 'New Felony Offense' : 1})"
   ]
  },
  {
   "cell_type": "code",
   "execution_count": 7,
   "metadata": {},
   "outputs": [
    {
     "data": {
      "text/html": [
       "<div>\n",
       "<style scoped>\n",
       "    .dataframe tbody tr th:only-of-type {\n",
       "        vertical-align: middle;\n",
       "    }\n",
       "\n",
       "    .dataframe tbody tr th {\n",
       "        vertical-align: top;\n",
       "    }\n",
       "\n",
       "    .dataframe thead th {\n",
       "        text-align: right;\n",
       "    }\n",
       "</style>\n",
       "<table border=\"1\" class=\"dataframe\">\n",
       "  <thead>\n",
       "    <tr style=\"text-align: right;\">\n",
       "      <th></th>\n",
       "      <th>Release Year</th>\n",
       "      <th>County of Indictment</th>\n",
       "      <th>Gender</th>\n",
       "      <th>Age at Release</th>\n",
       "      <th>Return Status</th>\n",
       "      <th>recidivism</th>\n",
       "      <th>gender_map</th>\n",
       "    </tr>\n",
       "  </thead>\n",
       "  <tbody>\n",
       "    <tr>\n",
       "      <th>0</th>\n",
       "      <td>2008</td>\n",
       "      <td>UNKNOWN</td>\n",
       "      <td>MALE</td>\n",
       "      <td>55</td>\n",
       "      <td>Not Returned</td>\n",
       "      <td>0</td>\n",
       "      <td>1</td>\n",
       "    </tr>\n",
       "    <tr>\n",
       "      <th>1</th>\n",
       "      <td>2008</td>\n",
       "      <td>ALBANY</td>\n",
       "      <td>MALE</td>\n",
       "      <td>16</td>\n",
       "      <td>Returned Parole Violation</td>\n",
       "      <td>1</td>\n",
       "      <td>1</td>\n",
       "    </tr>\n",
       "    <tr>\n",
       "      <th>2</th>\n",
       "      <td>2008</td>\n",
       "      <td>ALBANY</td>\n",
       "      <td>MALE</td>\n",
       "      <td>17</td>\n",
       "      <td>Not Returned</td>\n",
       "      <td>0</td>\n",
       "      <td>1</td>\n",
       "    </tr>\n",
       "    <tr>\n",
       "      <th>3</th>\n",
       "      <td>2008</td>\n",
       "      <td>ALBANY</td>\n",
       "      <td>MALE</td>\n",
       "      <td>17</td>\n",
       "      <td>Returned Parole Violation</td>\n",
       "      <td>1</td>\n",
       "      <td>1</td>\n",
       "    </tr>\n",
       "    <tr>\n",
       "      <th>4</th>\n",
       "      <td>2008</td>\n",
       "      <td>ALBANY</td>\n",
       "      <td>MALE</td>\n",
       "      <td>18</td>\n",
       "      <td>Not Returned</td>\n",
       "      <td>0</td>\n",
       "      <td>1</td>\n",
       "    </tr>\n",
       "  </tbody>\n",
       "</table>\n",
       "</div>"
      ],
      "text/plain": [
       "   Release Year County of Indictment Gender  Age at Release  \\\n",
       "0          2008              UNKNOWN   MALE              55   \n",
       "1          2008               ALBANY   MALE              16   \n",
       "2          2008               ALBANY   MALE              17   \n",
       "3          2008               ALBANY   MALE              17   \n",
       "4          2008               ALBANY   MALE              18   \n",
       "\n",
       "               Return Status  recidivism  gender_map  \n",
       "0               Not Returned           0           1  \n",
       "1  Returned Parole Violation           1           1  \n",
       "2               Not Returned           0           1  \n",
       "3  Returned Parole Violation           1           1  \n",
       "4               Not Returned           0           1  "
      ]
     },
     "execution_count": 7,
     "metadata": {},
     "output_type": "execute_result"
    }
   ],
   "source": [
    "#Transforming the Gender into 1s and 0s so it can be used in modeling. 1s represent Male 0s Female.\n",
    "ny_df['gender_map'] = ny_df['Gender'].map({'MALE': 1, 'FEMALE': 0})\n",
    "ny_df.head()"
   ]
  },
  {
   "cell_type": "code",
   "execution_count": 8,
   "metadata": {},
   "outputs": [
    {
     "name": "stdout",
     "output_type": "stream",
     "text": [
      "Stored 'ny_df' (DataFrame)\n"
     ]
    }
   ],
   "source": [
    "%store ny_df"
   ]
  },
  {
   "cell_type": "markdown",
   "metadata": {},
   "source": [
    "**Model 2: Criminal history feature set - Florida**\n",
    "\n",
    "TODO provide some background"
   ]
  },
  {
   "cell_type": "code",
   "execution_count": null,
   "metadata": {},
   "outputs": [],
   "source": []
  },
  {
   "cell_type": "markdown",
   "metadata": {},
   "source": [
    "**Model 3: Behavioral feature set - Georgia**\n",
    "\n",
    "TODO provide some background"
   ]
  },
  {
   "cell_type": "code",
   "execution_count": null,
   "metadata": {},
   "outputs": [],
   "source": []
  },
  {
   "cell_type": "markdown",
   "metadata": {},
   "source": [
    "**FINAL NOTES**:\n",
    "- The final datasets for modeling are exported:\n",
    "  - [here](../data/NY/NY_final.csv) for Model 1 (NY)\n",
    "  - [here](../data/FL/FL_final.csv) for Model 2 (FL)\n",
    "  - [here](../data/GA/GA_final.csv) for Model 3 (GA)\n",
    "- The next notebook in the series is [Exploratory Data Analysis](./02_eda.ipynb)."
   ]
  }
 ],
 "metadata": {
  "kernelspec": {
   "display_name": "Python 3 (ipykernel)",
   "language": "python",
   "name": "python3"
  },
  "language_info": {
   "codemirror_mode": {
    "name": "ipython",
    "version": 3
   },
   "file_extension": ".py",
   "mimetype": "text/x-python",
   "name": "python",
   "nbconvert_exporter": "python",
   "pygments_lexer": "ipython3",
   "version": "3.9.12"
  },
  "vscode": {
   "interpreter": {
    "hash": "5c5d815f4904d5c36e1cb6a23cb867a61c9881b6acdb1b6d63422ceae43ed5d6"
   }
  }
 },
 "nbformat": 4,
 "nbformat_minor": 4
}
